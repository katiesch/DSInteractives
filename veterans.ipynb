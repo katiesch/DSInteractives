{
 "cells": [
  {
   "cell_type": "code",
   "execution_count": 1,
   "metadata": {
    "collapsed": false
   },
   "outputs": [],
   "source": [
    "import sys\n",
    "import numpy as np\n",
    "import pandas as pd\n",
    "import numpy as np\n",
    "import us\n",
    "import shapefile\n",
    "\n",
    "from bokeh.plotting import output_notebook, show, output_file, Figure\n",
    "from bokeh.models.glyphs import Patches, Line, Circle\n",
    "from bokeh.models import (\n",
    "    GMapPlot, Range1d, ColumnDataSource, LinearAxis,\n",
    "    HoverTool, PanTool, WheelZoomTool, BoxSelectTool, ResetTool, PreviewSaveTool,\n",
    "    GMapOptions,\n",
    "    NumeralTickFormatter, PrintfTickFormatter)\n",
    "from collections import OrderedDict\n",
    "\n"
   ]
  },
  {
   "cell_type": "code",
   "execution_count": 2,
   "metadata": {
    "collapsed": true
   },
   "outputs": [],
   "source": [
    "## Read in information about current veteran population per congressional district\n",
    "vets_orig = pd.read_excel(\"/Users/kschles/Documents/bokeh/veterans/10L_VetPop2014.xlsx\")\n",
    "\n",
    "## Trim down to current day stats\n",
    "vets = vets_orig.loc[np.where(vets_orig['Date']=='2013-09-30')[0]]"
   ]
  },
  {
   "cell_type": "code",
   "execution_count": 4,
   "metadata": {
    "collapsed": true
   },
   "outputs": [],
   "source": [
    "## File that matches up each full state name with abbreviated two letter nickname\n",
    "abbrev = pd.read_table('veterans/state_abbrev.txt', names=['state', 'nickname', 'short', 'capital'])"
   ]
  },
  {
   "cell_type": "code",
   "execution_count": 5,
   "metadata": {
    "collapsed": true
   },
   "outputs": [],
   "source": [
    "## Read in the population per CD from American Fact Finder data \n",
    "aff_pop = pd.read_csv('veterans/aff_download/ACS_12_1YR_S0101_with_ann.csv', skiprows=1)"
   ]
  },
  {
   "cell_type": "code",
   "execution_count": 6,
   "metadata": {
    "collapsed": true
   },
   "outputs": [],
   "source": [
    "## Read in file with information about legislators \n",
    "legislators = pd.read_csv('veterans/legislators-current.csv')\n",
    "\n",
    "## Trim it down to representatives only (no senators)\n",
    "reps = legislators.loc[np.where(legislators['type']=='rep')[0]]\n",
    "reps.reset_index(drop=True, inplace=True)"
   ]
  },
  {
   "cell_type": "markdown",
   "metadata": {},
   "source": [
    "Each of these use their own system for organising district identifiers. We put them all on a single system, where a district is identified by XX-YY, where XX is the two letter code for the state, and YY is a two digit number representing the district. If there is only a single district in the whole state, rather than a number YY is 'AL'"
   ]
  },
  {
   "cell_type": "code",
   "execution_count": 7,
   "metadata": {
    "collapsed": true
   },
   "outputs": [],
   "source": [
    "aff_pop['dnum'] = aff_pop['Id'].str[-2:]\n",
    "aff_pop['dstate'] = aff_pop['Geography'].str.split(',').str[1].str.lstrip()\n",
    "\n",
    "state_abbrev = []\n",
    "district_id = []\n",
    "\n",
    "for i in range(0,len(aff_pop)):\n",
    "    temp = aff_pop.loc[i,'dstate']\n",
    "    if ((temp!='District of Columbia') & (temp!='Puerto Rico')):\n",
    "        #print temp\n",
    "        shorter = abbrev.loc[np.where(abbrev['state']==temp)[0],'short']\n",
    "        state_abbrev.append(np.array(shorter)[0])\n",
    "        if (aff_pop.loc[i,'dnum']==\"00\"): \n",
    "            district_id.append(np.array(shorter)[0] + '-AL')\n",
    "        if (aff_pop.loc[i,'dnum']!=\"00\"): \n",
    "            district_id.append(np.array(shorter)[0] + '-' + aff_pop.loc[i,'dnum'].zfill(2))\n",
    "    else: \n",
    "        district_id.append('None')\n",
    "\n",
    "                               \n",
    "aff_pop['district_id'] = np.array(district_id)"
   ]
  },
  {
   "cell_type": "code",
   "execution_count": 8,
   "metadata": {
    "collapsed": true
   },
   "outputs": [],
   "source": [
    "cd_num1 = vets['Congressional District (CD)'].str.split(' ').str[1]\n",
    "cd_num2 = cd_num1.str.replace('at', 'AL')\n",
    "cd_num = cd_num2.str.replace('(', '')\n",
    "\n",
    "state_abbrev = []\n",
    "district_id = []\n",
    "\n",
    "for i in range(0,len(vets)):\n",
    "    temp = vets.loc[i,'State']\n",
    "    if ((temp!='District of Columbia') & (temp!='Puerto Rico')):\n",
    "        #print temp\n",
    "        shorter = abbrev.loc[np.where(abbrev['state']==temp)[0],'short']\n",
    "        state_abbrev.append(np.array(shorter)[0])\n",
    "        district_id.append(np.array(shorter)[0] + '-' + cd_num[i].zfill(2))\n",
    "    else : \n",
    "        district_id.append('None')\n",
    "\n",
    "vets['district_id'] = district_id"
   ]
  },
  {
   "cell_type": "code",
   "execution_count": 9,
   "metadata": {
    "collapsed": true
   },
   "outputs": [],
   "source": [
    "reps['district_id'] = None \n",
    "reps['full_name'] = None\n",
    "\n",
    "for i in range(0,len(reps)): \n",
    "    dname = reps.loc[i,'state']+'-'+reps.loc[i,'district'].astype(int).astype(str).zfill(2)\n",
    "    if (reps.loc[i,'district']==0.): \n",
    "        dname = reps.loc[i,'state'] + '-AL'\n",
    "    reps.loc[i,'district_id'] = dname\n",
    "    reps.loc[i,'full_name'] = reps.loc[i,'first_name'] + ' ' + reps.loc[i, 'last_name']"
   ]
  },
  {
   "cell_type": "code",
   "execution_count": 10,
   "metadata": {
    "collapsed": true
   },
   "outputs": [],
   "source": [
    "## The veteran population information is currently split by various parameters (Age, gender). We sum it below:\n",
    "sum_by_dist = vets.groupby('district_id', as_index=False).sum()"
   ]
  },
  {
   "cell_type": "code",
   "execution_count": 11,
   "metadata": {
    "collapsed": true
   },
   "outputs": [],
   "source": [
    "## We merge the veteran population information with the data on the congressional district as a whole\n",
    "combo1 = pd.merge(sum_by_dist, aff_pop, how='left', on='district_id')"
   ]
  },
  {
   "cell_type": "code",
   "execution_count": 12,
   "metadata": {
    "collapsed": true
   },
   "outputs": [],
   "source": [
    "## Next, we merge in the information about the representative\n",
    "combo = pd.merge(combo1, reps, how='left', on='district_id')"
   ]
  },
  {
   "cell_type": "code",
   "execution_count": 13,
   "metadata": {
    "collapsed": true
   },
   "outputs": [],
   "source": [
    "combo['pop_per'] = 100.*combo['Veteran']/combo['Total; Estimate; Total population']"
   ]
  },
  {
   "cell_type": "code",
   "execution_count": 14,
   "metadata": {
    "collapsed": false
   },
   "outputs": [
    {
     "name": "stdout",
     "output_type": "stream",
     "text": [
      "   state    pop_per\n",
      "0     AK  10.022437\n",
      "25    MT   9.963745\n",
      "20    ME   9.729527\n",
      "44    VA   9.517006\n",
      "48    WV   9.096037\n",
      "   state   pop_per\n",
      "33    NY  4.732054\n",
      "4     CA  4.995788\n",
      "30    NJ  5.013908\n",
      "43    UT  5.344056\n",
      "13    IL  5.738948\n"
     ]
    }
   ],
   "source": [
    "combo[['district_id', 'pop_per', 'full_name', 'state']].sort('pop_per', ascending=False)\n",
    "test = combo[['district_id', 'pop_per', 'full_name', 'state']].groupby('state', as_index=False).mean()\n",
    "test.reset_index(drop=True, inplace=True)\n",
    "\n",
    "print test.sort('pop_per', ascending=False)[0:5]\n",
    "print test.sort('pop_per', ascending=True)[0:5]"
   ]
  },
  {
   "cell_type": "markdown",
   "metadata": {},
   "source": [
    "States with the highest mean percentage of veterans: Maine, Virginia, West Virginia, Oklahoma, Washington \n",
    "\n",
    "States with the smallest mean percentage of veterans: New York, California, New Jersey, Utah, Illinois "
   ]
  },
  {
   "cell_type": "code",
   "execution_count": 15,
   "metadata": {
    "collapsed": true
   },
   "outputs": [],
   "source": [
    "cdnames = combo['district_id'].tolist()\n",
    "percentage = combo['pop_per'].tolist()\n",
    "representative = combo['full_name'].tolist()\n",
    "party = combo['party'].tolist()\n",
    "\n",
    "maxper = np.amax(percentage, axis=0)\n",
    "minper = np.amin(percentage, axis=0)\n"
   ]
  },
  {
   "cell_type": "code",
   "execution_count": 16,
   "metadata": {
    "collapsed": true
   },
   "outputs": [],
   "source": [
    "reader = shapefile.Reader('/Users/kschles/Downloads/districtShapes/districts114.shp')"
   ]
  },
  {
   "cell_type": "code",
   "execution_count": 17,
   "metadata": {
    "collapsed": false
   },
   "outputs": [],
   "source": [
    "districts = set([i[0] + '-' + i[2] for i in reader.iterRecords()])"
   ]
  },
  {
   "cell_type": "code",
   "execution_count": 18,
   "metadata": {
    "collapsed": true
   },
   "outputs": [],
   "source": [
    "from bokeh.palettes import Blues9\n",
    "colors = ['#ffffff']+Blues9[::-1]\n",
    "\n",
    "numcolors = len(colors)\n",
    "\n",
    "#perstep = (sorted(combo['pop_per'])[-2]-min(combo['pop_per']))/(numcolors-1)\n",
    "\n",
    "maxpop = np.amax(combo['pop_per'])\n",
    "minpop = np.amin(combo['pop_per'])\n",
    "popstep = (maxpop-minpop)/(numcolors-1)\n",
    "\n",
    "combo['color_vals'] = '#ffffff'\n",
    "\n",
    "for i in range(0,len(combo)):\n",
    "    try:\n",
    "        popnorm = float(combo.loc[i,'pop_per']) - minpop\n",
    "        idx = int(popnorm/popstep)\n",
    "        combo.loc[i,'color_vals'] = (colors[idx])\n",
    "    except KeyError:\n",
    "        combo.loc[i,'color_vals'] = \"black\"\n",
    "\n",
    "\n"
   ]
  },
  {
   "cell_type": "code",
   "execution_count": 19,
   "metadata": {
    "collapsed": false
   },
   "outputs": [],
   "source": [
    "districts = []\n",
    "shape_id = []\n",
    "\n",
    "for i in reader.iterRecords(): \n",
    "    state_name = i[0]\n",
    "    if (state_name != 'District Of Columbia'):\n",
    "        state_short = np.array(abbrev.loc[np.where(abbrev['state']==state_name)[0],'short'])\n",
    "        dist_num = str(i[2]).zfill(2)\n",
    "        if (dist_num == '00'): \n",
    "            dist_num = 'AL'\n",
    "        district_id=state_short + '-' + dist_num\n",
    "        districts.append(district_id[0])\n",
    "        shape_id.append(i[1])"
   ]
  },
  {
   "cell_type": "code",
   "execution_count": 21,
   "metadata": {
    "collapsed": false
   },
   "outputs": [
    {
     "name": "stdout",
     "output_type": "stream",
     "text": [
      "MO-05\n",
      "MO-06\n",
      "MO-07\n",
      "MO-08\n",
      "MT-AL\n",
      "NE-01\n",
      "NE-02\n",
      "NE-03\n",
      "NV-01\n",
      "NV-02\n",
      "NV-03\n",
      "NV-04\n",
      "NH-01\n",
      "NH-02\n",
      "NJ-01\n",
      "NJ-02\n",
      "NJ-03\n",
      "NJ-04\n",
      "NJ-05\n",
      "OK-01\n",
      "OK-02\n",
      "OK-03\n",
      "OK-04\n",
      "OK-05\n",
      "OR-01\n",
      "OR-02\n",
      "OR-03\n",
      "OR-04\n",
      "OR-05\n",
      "PA-01\n",
      "PA-02\n",
      "PA-03\n",
      "PA-04\n",
      "PA-05\n",
      "PA-06\n",
      "PA-07\n",
      "PA-08\n",
      "PA-09\n",
      "PA-10\n",
      "PA-11\n",
      "PA-12\n",
      "PA-13\n",
      "PA-14\n",
      "PA-15\n",
      "PA-16\n",
      "PA-17\n",
      "PA-18\n",
      "RI-01\n",
      "RI-02\n",
      "SC-01\n"
     ]
    }
   ],
   "source": [
    "for k in range(50,100): \n",
    "    dist_name = districts[k]\n",
    "    sid = shape_id[k]\n",
    "    \n",
    "    print dist_name \n",
    "    \n",
    "    districtDict = {dist_name: {} }\n",
    "    rec = []\n",
    "    shp = []\n",
    "    points = []\n",
    "\n",
    "    for i in reader.shapeRecords(): \n",
    "        if i.record[1] == sid: \n",
    "            rec.append(i.record)\n",
    "            shp.append(i.shape)\n",
    "            \n",
    "            for j in shp: \n",
    "                points = []\n",
    "                num_parts = len(j.parts)\n",
    "                end = len(j.points) - 1\n",
    "                segments = list(j.parts) + [end]\n",
    "                for m in range(num_parts): \n",
    "                    points.append(j.points[segments[m]:segments[m+1]])\n",
    "                    \n",
    "            lat = []\n",
    "            lon = []\n",
    "            for m in points: \n",
    "                lat.append([n[0] for n in m])\n",
    "                lon.append([n[1] for n in m])\n",
    "    latty = []\n",
    "    lonny = []\n",
    "    for m in range(0,len(lat)): \n",
    "        if (m==0): \n",
    "            latty = lat[m] + [np.nan]\n",
    "            lonny = lon[m] + [np.nan]\n",
    "        else: \n",
    "            latty = latty + lat[m] + [np.nan]\n",
    "            lonny = lonny + lon[m] + [np.nan]\n",
    "        \n",
    "    districtDict[dist_name]['lat_list'] = latty\n",
    "    districtDict[dist_name]['lon_list'] = lonny\n",
    "    districtDict[dist_name]['state'] = dist_name[0:2]\n",
    "    \n",
    "    indexer=np.where(combo['district_id'] == dist_name)\n",
    "    districtDict[dist_name]['color'] = np.array(combo.loc[indexer[0], 'color_vals'])[0]\n",
    "    districtDict[dist_name]['rep_name'] = np.array(combo.loc[indexer[0], 'full_name'])[0]\n",
    "    districtDict[dist_name]['rep_party'] = np.array(combo.loc[indexer[0], 'party'])[0]\n",
    "    districtDict[dist_name]['pop_per'] = np.array(combo.loc[indexer[0], 'pop_per'])[0]\n",
    "    \n",
    "    if (k==0): \n",
    "        districtInfo = districtDict\n",
    "    else: \n",
    "        districtInfo.update(districtDict)\n",
    "    \n",
    "    "
   ]
  },
  {
   "cell_type": "markdown",
   "metadata": {},
   "source": [
    "Helpful code reference: https://github.com/queise/Berlin_Maps/blob/master/Berlin_pop_gmap.py"
   ]
  },
  {
   "cell_type": "code",
   "execution_count": 22,
   "metadata": {
    "collapsed": false
   },
   "outputs": [],
   "source": [
    "dname = []\n",
    "bxs = []\n",
    "bys = []\n",
    "bcol = []\n",
    "repname = []\n",
    "popper = []\n",
    "party = []\n",
    "\n",
    "for i in districtInfo.keys(): \n",
    "    dname.append(i)\n",
    "    bxs.append(districtInfo[i]['lat_list'])\n",
    "    bys.append(districtInfo[i]['lon_list'])\n",
    "    bcol.append(districtInfo[i]['color'])\n",
    "    repname.append(districtInfo[i]['rep_name'])\n",
    "    popper.append(districtInfo[i]['pop_per'])\n",
    "    party.append(districtInfo[i]['rep_party'])\n"
   ]
  },
  {
   "cell_type": "code",
   "execution_count": 131,
   "metadata": {
    "collapsed": false
   },
   "outputs": [
    {
     "data": {
      "text/plain": [
       "'\\nsource = ColumnDataSource(data=dict( namer=dname,\\n                               rpname=repname))\\np1 = GMapPlot(title=\"\", \\n             plot_width=900, plot_height=700,\\n             x_range = Range1d(), y_range = Range1d(),\\n             map_options=GMapOptions(lat=39.8333, lng=-98.585522, zoom=4))\\n\\np1.map_options.map_type=\"roadmap\" # satellite, roadmap, terrain or hybrid\\n'"
      ]
     },
     "execution_count": 131,
     "metadata": {},
     "output_type": "execute_result"
    }
   ],
   "source": [
    "\"\"\"\n",
    "source = ColumnDataSource(data=dict( namer=dname,\n",
    "                               rpname=repname))\n",
    "p1 = GMapPlot(title=\"\", \n",
    "             plot_width=900, plot_height=700,\n",
    "             x_range = Range1d(), y_range = Range1d(),\n",
    "             map_options=GMapOptions(lat=39.8333, lng=-98.585522, zoom=4))\n",
    "\n",
    "p1.map_options.map_type=\"roadmap\" # satellite, roadmap, terrain or hybrid\n",
    "\"\"\"\n"
   ]
  },
  {
   "cell_type": "code",
   "execution_count": 23,
   "metadata": {
    "collapsed": true
   },
   "outputs": [],
   "source": [
    "p1 = Figure(plot_width=900, plot_height=800)"
   ]
  },
  {
   "cell_type": "code",
   "execution_count": 24,
   "metadata": {
    "collapsed": true
   },
   "outputs": [],
   "source": [
    "source_patches = ColumnDataSource(\n",
    "    data=dict(\n",
    "        bo_xs = bxs, \n",
    "        bo_ys = bys,\n",
    "        namer = dname, \n",
    "        colors = bcol,\n",
    "        rpname = repname, \n",
    "        rpparty = party,\n",
    "        pop_per = popper, \n",
    "    )\n",
    ")"
   ]
  },
  {
   "cell_type": "code",
   "execution_count": 25,
   "metadata": {
    "collapsed": true
   },
   "outputs": [],
   "source": [
    "patches = Patches(xs='bo_xs', ys='bo_ys', fill_color='colors', line_color=\"white\", fill_alpha=1.0)\n",
    "patches_glpy = p1.add_glyph(source_patches, patches)"
   ]
  },
  {
   "cell_type": "code",
   "execution_count": 26,
   "metadata": {
    "collapsed": false
   },
   "outputs": [],
   "source": [
    "p1.add_tools(PanTool(), WheelZoomTool(), HoverTool(), \n",
    "            ResetTool(), PreviewSaveTool())\n",
    "\n",
    "hover = p1.select(dict(type=HoverTool))\n",
    "hover.tooltips = OrderedDict([\n",
    "    (\"Borough\", \"@namer\"),\n",
    "    (\"Representative\", \"@rpname\"),\n",
    "    (\"Veteran Population Percentage\", '@pop_per'),\n",
    "    (\"Representative Party\", '@rpparty')\n",
    "])"
   ]
  },
  {
   "cell_type": "code",
   "execution_count": 27,
   "metadata": {
    "collapsed": false
   },
   "outputs": [],
   "source": [
    "output_file('mapper.html')\n",
    "show(p1)"
   ]
  },
  {
   "cell_type": "code",
   "execution_count": null,
   "metadata": {
    "collapsed": true
   },
   "outputs": [],
   "source": []
  },
  {
   "cell_type": "code",
   "execution_count": 72,
   "metadata": {
    "collapsed": false
   },
   "outputs": [
    {
     "data": {
      "text/html": [
       "\n",
       "    <div class=\"bk-banner\">\n",
       "        <a href=\"http://bokeh.pydata.org\" target=\"_blank\" class=\"bk-logo bk-logo-small bk-logo-notebook\"></a>\n",
       "        <span id=\"fdc76695-e582-494f-911d-cb0fbd8fead7\">Loading BokehJS ...</span>\n",
       "    </div>"
      ]
     },
     "metadata": {},
     "output_type": "display_data"
    },
    {
     "data": {
      "application/javascript": [
       "\n",
       "(function(global) {\n",
       "  function now() {\n",
       "    return new Date();\n",
       "  }\n",
       "\n",
       "  if (typeof (window._bokeh_onload_callbacks) === \"undefined\") {\n",
       "    window._bokeh_onload_callbacks = [];\n",
       "  }\n",
       "\n",
       "  function run_callbacks() {\n",
       "    window._bokeh_onload_callbacks.forEach(function(callback) { callback() });\n",
       "    delete window._bokeh_onload_callbacks\n",
       "    console.info(\"Bokeh: all callbacks have finished\");\n",
       "  }\n",
       "\n",
       "  function load_libs(js_urls, callback) {\n",
       "    window._bokeh_onload_callbacks.push(callback);\n",
       "    if (window._bokeh_is_loading > 0) {\n",
       "      console.log(\"Bokeh: BokehJS is being loaded, scheduling callback at\", now());\n",
       "      return null;\n",
       "    }\n",
       "    if (js_urls == null || js_urls.length === 0) {\n",
       "      run_callbacks();\n",
       "      return null;\n",
       "    }\n",
       "    console.log(\"Bokeh: BokehJS not loaded, scheduling load and callback at\", now());\n",
       "    window._bokeh_is_loading = js_urls.length;\n",
       "    for (var i = 0; i < js_urls.length; i++) {\n",
       "      var url = js_urls[i];\n",
       "      var s = document.createElement('script');\n",
       "      s.src = url;\n",
       "      s.async = false;\n",
       "      s.onreadystatechange = s.onload = function() {\n",
       "        window._bokeh_is_loading--;\n",
       "        if (window._bokeh_is_loading === 0) {\n",
       "          console.log(\"Bokeh: all BokehJS libraries loaded\");\n",
       "          run_callbacks()\n",
       "        }\n",
       "      };\n",
       "      s.onerror = function() {\n",
       "        console.warn(\"failed to load library \" + url);\n",
       "      };\n",
       "      console.log(\"Bokeh: injecting script tag for BokehJS library: \", url);\n",
       "      document.getElementsByTagName(\"head\")[0].appendChild(s);\n",
       "    }\n",
       "  };\n",
       "\n",
       "  var js_urls = ['https://cdn.pydata.org/bokeh/release/bokeh-0.11.1.min.js', 'https://cdn.pydata.org/bokeh/release/bokeh-widgets-0.11.1.min.js', 'https://cdn.pydata.org/bokeh/release/bokeh-compiler-0.11.1.min.js'];\n",
       "\n",
       "  var inline_js = [\n",
       "    function(Bokeh) {\n",
       "      Bokeh.set_log_level(\"info\");\n",
       "    },\n",
       "    \n",
       "    function(Bokeh) {\n",
       "      Bokeh.$(\"#fdc76695-e582-494f-911d-cb0fbd8fead7\").text(\"BokehJS successfully loaded\");\n",
       "    },\n",
       "    function(Bokeh) {\n",
       "      console.log(\"Bokeh: injecting CSS: https://cdn.pydata.org/bokeh/release/bokeh-0.11.1.min.css\");\n",
       "      Bokeh.embed.inject_css(\"https://cdn.pydata.org/bokeh/release/bokeh-0.11.1.min.css\");\n",
       "      console.log(\"Bokeh: injecting CSS: https://cdn.pydata.org/bokeh/release/bokeh-widgets-0.11.1.min.css\");\n",
       "      Bokeh.embed.inject_css(\"https://cdn.pydata.org/bokeh/release/bokeh-widgets-0.11.1.min.css\");\n",
       "    }\n",
       "  ];\n",
       "\n",
       "  function run_inline_js() {\n",
       "    for (var i = 0; i < inline_js.length; i++) {\n",
       "      inline_js[i](window.Bokeh);\n",
       "    }\n",
       "  }\n",
       "\n",
       "  if (window._bokeh_is_loading === 0) {\n",
       "    console.log(\"Bokeh: BokehJS loaded, going straight to plotting\");\n",
       "    run_inline_js();\n",
       "  } else {\n",
       "    load_libs(js_urls, function() {\n",
       "      console.log(\"Bokeh: BokehJS plotting callback run at\", now());\n",
       "      run_inline_js();\n",
       "    });\n",
       "  }\n",
       "}(this));"
      ]
     },
     "metadata": {},
     "output_type": "display_data"
    }
   ],
   "source": [
    "output_notebook()\n",
    "\n",
    "TOOLS= [BoxSelectTool(), ResetTool(), PanTool(), HoverTool(tooltips=[(\"rep_name\",\"@rep_name\"), (\"location\", \"$x, $y\")])]\n",
    "p = Figure(plot_width=900, plot_height=800, tools=TOOLS)\n",
    "\n",
    "#hover = p.select(dict(type=HoverTool))\n",
    "#hover.tooltips = OrderedDict([\n",
    "#    (\"District\", \"@state\"),\n",
    "#    (\"Veteran Percentage\", \"@pop_per\"),\n",
    "#    (\"Representative\", \"@rep_name\"),\n",
    "#])\n",
    "\n",
    "for dist_name in districts[0:14]: \n",
    "\n",
    "    #source = ColumnDataSource(\n",
    "    #    data=dict(\n",
    "    #        namer = dist_name,\n",
    "    #        x = districtInfo[dist_name]['lat_list'],\n",
    "    #        y = districtInfo[dist_name]['lon_list'],\n",
    "    #        coloring = districtInfo[dist_name]['color'],\n",
    "    #        rep = districtInfo[dist_name]['rep_name'],\n",
    "    #    )\n",
    "    #)\n",
    "    \n",
    "    p.patches(districtInfo[dist_name]['lat_list'], districtInfo[dist_name]['lon_list'],\n",
    "              fill_color=districtInfo[dist_name]['color'], fill_alpha=1.0,\n",
    "              line_color=\"white\", line_width=0.5)\n",
    "    \n",
    "#show(p)"
   ]
  },
  {
   "cell_type": "code",
   "execution_count": 51,
   "metadata": {
    "collapsed": false
   },
   "outputs": [],
   "source": [
    "output_file('mapper.html')"
   ]
  },
  {
   "cell_type": "code",
   "execution_count": 53,
   "metadata": {
    "collapsed": false
   },
   "outputs": [],
   "source": [
    "percentage = []\n",
    "representative = []\n",
    "for i in districtInfo.keys():\n",
    "    percentage = districtInfo[i]['pop_per']\n",
    "    representative = districtInfo[i]['rep_name']"
   ]
  },
  {
   "cell_type": "code",
   "execution_count": null,
   "metadata": {
    "collapsed": true
   },
   "outputs": [],
   "source": []
  },
  {
   "cell_type": "code",
   "execution_count": null,
   "metadata": {
    "collapsed": true
   },
   "outputs": [],
   "source": []
  },
  {
   "cell_type": "code",
   "execution_count": null,
   "metadata": {
    "collapsed": true
   },
   "outputs": [],
   "source": []
  },
  {
   "cell_type": "code",
   "execution_count": null,
   "metadata": {
    "collapsed": true
   },
   "outputs": [],
   "source": []
  },
  {
   "cell_type": "code",
   "execution_count": 56,
   "metadata": {
    "collapsed": true
   },
   "outputs": [],
   "source": [
    "source = ColumnDataSource(data=dict( boroughsnames=districts,\n",
    "                               representative=representative))\n",
    "p = GMapPlot(title=\"\", \n",
    "             plot_width=900, plot_height=700,\n",
    "             x_range = Range1d(), y_range = Range1d(),\n",
    "             map_options=GMapOptions(lat=64.2, lng=-149.50, zoom=4))\n",
    "\n",
    "p.add_tools(PanTool(), WheelZoomTool(), HoverTool(), \n",
    "            ResetTool(), PreviewSaveTool())\n",
    "\n",
    "p.map_options.map_type=\"roadmap\" # satellite, roadmap, terrain or hybrid\n"
   ]
  },
  {
   "cell_type": "code",
   "execution_count": 68,
   "metadata": {
    "collapsed": false
   },
   "outputs": [
    {
     "data": {
      "text/plain": [
       "['rep_name', 'color', 'rep_party', 'pop_per', 'lon_list', 'state', 'lat_list']"
      ]
     },
     "execution_count": 68,
     "metadata": {},
     "output_type": "execute_result"
    }
   ],
   "source": [
    "type(districtInfo['ME-01'])\n",
    "districtInfo['ME-01'].keys()"
   ]
  },
  {
   "cell_type": "code",
   "execution_count": 70,
   "metadata": {
    "collapsed": false
   },
   "outputs": [
    {
     "ename": "TypeError",
     "evalue": "'numpy.float64' object is not iterable",
     "output_type": "error",
     "traceback": [
      "\u001b[0;31m--------------------------------------------------------------------------\u001b[0m",
      "\u001b[0;31mTypeError\u001b[0m                                Traceback (most recent call last)",
      "\u001b[0;32m<ipython-input-70-bb562317e632>\u001b[0m in \u001b[0;36m<module>\u001b[0;34m()\u001b[0m\n\u001b[1;32m     12\u001b[0m \u001b[0;34m\u001b[0m\u001b[0m\n\u001b[1;32m     13\u001b[0m \u001b[0;34m\u001b[0m\u001b[0m\n\u001b[0;32m---> 14\u001b[0;31m \u001b[0mshow\u001b[0m\u001b[0;34m(\u001b[0m\u001b[0mp\u001b[0m\u001b[0;34m)\u001b[0m\u001b[0;34m\u001b[0m\u001b[0m\n\u001b[0m",
      "\u001b[0;32m/Users/kschles/Library/Enthought/Canopy_64bit/User/lib/python2.7/site-packages/bokeh/io.pyc\u001b[0m in \u001b[0;36mshow\u001b[0;34m(obj, browser, new)\u001b[0m\n\u001b[1;32m    299\u001b[0m \u001b[0;34m\u001b[0m\u001b[0m\n\u001b[1;32m    300\u001b[0m     '''\n\u001b[0;32m--> 301\u001b[0;31m     \u001b[0;32mreturn\u001b[0m \u001b[0m_show_with_state\u001b[0m\u001b[0;34m(\u001b[0m\u001b[0mobj\u001b[0m\u001b[0;34m,\u001b[0m \u001b[0m_state\u001b[0m\u001b[0;34m,\u001b[0m \u001b[0mbrowser\u001b[0m\u001b[0;34m,\u001b[0m \u001b[0mnew\u001b[0m\u001b[0;34m)\u001b[0m\u001b[0;34m\u001b[0m\u001b[0m\n\u001b[0m\u001b[1;32m    302\u001b[0m \u001b[0;34m\u001b[0m\u001b[0m\n\u001b[1;32m    303\u001b[0m \u001b[0;32mdef\u001b[0m \u001b[0m_show_with_state\u001b[0m\u001b[0;34m(\u001b[0m\u001b[0mobj\u001b[0m\u001b[0;34m,\u001b[0m \u001b[0mstate\u001b[0m\u001b[0;34m,\u001b[0m \u001b[0mbrowser\u001b[0m\u001b[0;34m,\u001b[0m \u001b[0mnew\u001b[0m\u001b[0;34m)\u001b[0m\u001b[0;34m:\u001b[0m\u001b[0;34m\u001b[0m\u001b[0m\n",
      "\u001b[0;32m/Users/kschles/Library/Enthought/Canopy_64bit/User/lib/python2.7/site-packages/bokeh/io.pyc\u001b[0m in \u001b[0;36m_show_with_state\u001b[0;34m(obj, state, browser, new)\u001b[0m\n\u001b[1;32m    307\u001b[0m \u001b[0;34m\u001b[0m\u001b[0m\n\u001b[1;32m    308\u001b[0m     \u001b[0;32mif\u001b[0m \u001b[0mstate\u001b[0m\u001b[0;34m.\u001b[0m\u001b[0mnotebook\u001b[0m\u001b[0;34m:\u001b[0m\u001b[0;34m\u001b[0m\u001b[0m\n\u001b[0;32m--> 309\u001b[0;31m         \u001b[0mcomms_handle\u001b[0m \u001b[0;34m=\u001b[0m \u001b[0m_show_notebook_with_state\u001b[0m\u001b[0;34m(\u001b[0m\u001b[0mobj\u001b[0m\u001b[0;34m,\u001b[0m \u001b[0mstate\u001b[0m\u001b[0;34m)\u001b[0m\u001b[0;34m\u001b[0m\u001b[0m\n\u001b[0m\u001b[1;32m    310\u001b[0m \u001b[0;34m\u001b[0m\u001b[0m\n\u001b[1;32m    311\u001b[0m     \u001b[0;32melif\u001b[0m \u001b[0mstate\u001b[0m\u001b[0;34m.\u001b[0m\u001b[0mserver_enabled\u001b[0m\u001b[0;34m:\u001b[0m\u001b[0;34m\u001b[0m\u001b[0m\n",
      "\u001b[0;32m/Users/kschles/Library/Enthought/Canopy_64bit/User/lib/python2.7/site-packages/bokeh/io.pyc\u001b[0m in \u001b[0;36m_show_notebook_with_state\u001b[0;34m(obj, state)\u001b[0m\n\u001b[1;32m    328\u001b[0m     \u001b[0;32melse\u001b[0m\u001b[0;34m:\u001b[0m\u001b[0;34m\u001b[0m\u001b[0m\n\u001b[1;32m    329\u001b[0m         \u001b[0mcomms_target\u001b[0m \u001b[0;34m=\u001b[0m \u001b[0mmake_id\u001b[0m\u001b[0;34m(\u001b[0m\u001b[0;34m)\u001b[0m\u001b[0;34m\u001b[0m\u001b[0m\n\u001b[0;32m--> 330\u001b[0;31m         \u001b[0mpublish_display_data\u001b[0m\u001b[0;34m(\u001b[0m\u001b[0;34m{\u001b[0m\u001b[0;34m'text/html'\u001b[0m\u001b[0;34m:\u001b[0m \u001b[0mnotebook_div\u001b[0m\u001b[0;34m(\u001b[0m\u001b[0mobj\u001b[0m\u001b[0;34m,\u001b[0m \u001b[0mcomms_target\u001b[0m\u001b[0;34m)\u001b[0m\u001b[0;34m}\u001b[0m\u001b[0;34m)\u001b[0m\u001b[0;34m\u001b[0m\u001b[0m\n\u001b[0m\u001b[1;32m    331\u001b[0m         \u001b[0mhandle\u001b[0m \u001b[0;34m=\u001b[0m \u001b[0m_CommsHandle\u001b[0m\u001b[0;34m(\u001b[0m\u001b[0mget_comms\u001b[0m\u001b[0;34m(\u001b[0m\u001b[0mcomms_target\u001b[0m\u001b[0;34m)\u001b[0m\u001b[0;34m,\u001b[0m \u001b[0mstate\u001b[0m\u001b[0;34m.\u001b[0m\u001b[0mdocument\u001b[0m\u001b[0;34m,\u001b[0m \u001b[0mstate\u001b[0m\u001b[0;34m.\u001b[0m\u001b[0mdocument\u001b[0m\u001b[0;34m.\u001b[0m\u001b[0mto_json\u001b[0m\u001b[0;34m(\u001b[0m\u001b[0;34m)\u001b[0m\u001b[0;34m)\u001b[0m\u001b[0;34m\u001b[0m\u001b[0m\n\u001b[1;32m    332\u001b[0m         \u001b[0mstate\u001b[0m\u001b[0;34m.\u001b[0m\u001b[0mlast_comms_handle\u001b[0m \u001b[0;34m=\u001b[0m \u001b[0mhandle\u001b[0m\u001b[0;34m\u001b[0m\u001b[0m\n",
      "\u001b[0;32m/Users/kschles/Library/Enthought/Canopy_64bit/User/lib/python2.7/site-packages/bokeh/embed.pyc\u001b[0m in \u001b[0;36mnotebook_div\u001b[0;34m(model, notebook_comms_target)\u001b[0m\n\u001b[1;32m    247\u001b[0m \u001b[0;34m\u001b[0m\u001b[0m\n\u001b[1;32m    248\u001b[0m     \u001b[0;32mwith\u001b[0m \u001b[0m_ModelInDocument\u001b[0m\u001b[0;34m(\u001b[0m\u001b[0mmodel\u001b[0m\u001b[0;34m)\u001b[0m\u001b[0;34m:\u001b[0m\u001b[0;34m\u001b[0m\u001b[0m\n\u001b[0;32m--> 249\u001b[0;31m         \u001b[0;34m(\u001b[0m\u001b[0mdocs_json\u001b[0m\u001b[0;34m,\u001b[0m \u001b[0mrender_items\u001b[0m\u001b[0;34m)\u001b[0m \u001b[0;34m=\u001b[0m \u001b[0m_standalone_docs_json_and_render_items\u001b[0m\u001b[0;34m(\u001b[0m\u001b[0;34m[\u001b[0m\u001b[0mmodel\u001b[0m\u001b[0;34m]\u001b[0m\u001b[0;34m)\u001b[0m\u001b[0;34m\u001b[0m\u001b[0m\n\u001b[0m\u001b[1;32m    250\u001b[0m \u001b[0;34m\u001b[0m\u001b[0m\n\u001b[1;32m    251\u001b[0m     \u001b[0mitem\u001b[0m \u001b[0;34m=\u001b[0m \u001b[0mrender_items\u001b[0m\u001b[0;34m[\u001b[0m\u001b[0;36m0\u001b[0m\u001b[0;34m]\u001b[0m\u001b[0;34m\u001b[0m\u001b[0m\n",
      "\u001b[0;32m/Users/kschles/Library/Enthought/Canopy_64bit/User/lib/python2.7/site-packages/bokeh/embed.pyc\u001b[0m in \u001b[0;36m_standalone_docs_json_and_render_items\u001b[0;34m(models)\u001b[0m\n\u001b[1;32m    564\u001b[0m     \u001b[0mdocs_json\u001b[0m \u001b[0;34m=\u001b[0m \u001b[0;34m{\u001b[0m\u001b[0;34m}\u001b[0m\u001b[0;34m\u001b[0m\u001b[0m\n\u001b[1;32m    565\u001b[0m     \u001b[0;32mfor\u001b[0m \u001b[0mk\u001b[0m\u001b[0;34m,\u001b[0m \u001b[0mv\u001b[0m \u001b[0;32min\u001b[0m \u001b[0mdocs_by_id\u001b[0m\u001b[0;34m.\u001b[0m\u001b[0mitems\u001b[0m\u001b[0;34m(\u001b[0m\u001b[0;34m)\u001b[0m\u001b[0;34m:\u001b[0m\u001b[0;34m\u001b[0m\u001b[0m\n\u001b[0;32m--> 566\u001b[0;31m         \u001b[0mdocs_json\u001b[0m\u001b[0;34m[\u001b[0m\u001b[0mk\u001b[0m\u001b[0;34m]\u001b[0m \u001b[0;34m=\u001b[0m \u001b[0mv\u001b[0m\u001b[0;34m.\u001b[0m\u001b[0mto_json\u001b[0m\u001b[0;34m(\u001b[0m\u001b[0;34m)\u001b[0m\u001b[0;34m\u001b[0m\u001b[0m\n\u001b[0m\u001b[1;32m    567\u001b[0m \u001b[0;34m\u001b[0m\u001b[0m\n\u001b[1;32m    568\u001b[0m     \u001b[0;32mreturn\u001b[0m \u001b[0;34m(\u001b[0m\u001b[0mdocs_json\u001b[0m\u001b[0;34m,\u001b[0m \u001b[0mrender_items\u001b[0m\u001b[0;34m)\u001b[0m\u001b[0;34m\u001b[0m\u001b[0m\n",
      "\u001b[0;32m/Users/kschles/Library/Enthought/Canopy_64bit/User/lib/python2.7/site-packages/bokeh/document.pyc\u001b[0m in \u001b[0;36mto_json\u001b[0;34m(self)\u001b[0m\n\u001b[1;32m    730\u001b[0m         \u001b[0;31m# this is a total hack to go via a string, needed because\u001b[0m\u001b[0;34m\u001b[0m\u001b[0;34m\u001b[0m\u001b[0m\n\u001b[1;32m    731\u001b[0m         \u001b[0;31m# our BokehJSONEncoder goes straight to a string.\u001b[0m\u001b[0;34m\u001b[0m\u001b[0;34m\u001b[0m\u001b[0m\n\u001b[0;32m--> 732\u001b[0;31m         \u001b[0mdoc_json\u001b[0m \u001b[0;34m=\u001b[0m \u001b[0mself\u001b[0m\u001b[0;34m.\u001b[0m\u001b[0mto_json_string\u001b[0m\u001b[0;34m(\u001b[0m\u001b[0;34m)\u001b[0m\u001b[0;34m\u001b[0m\u001b[0m\n\u001b[0m\u001b[1;32m    733\u001b[0m         \u001b[0;32mreturn\u001b[0m \u001b[0mloads\u001b[0m\u001b[0;34m(\u001b[0m\u001b[0mdoc_json\u001b[0m\u001b[0;34m)\u001b[0m\u001b[0;34m\u001b[0m\u001b[0m\n\u001b[1;32m    734\u001b[0m \u001b[0;34m\u001b[0m\u001b[0m\n",
      "\u001b[0;32m/Users/kschles/Library/Enthought/Canopy_64bit/User/lib/python2.7/site-packages/bokeh/document.pyc\u001b[0m in \u001b[0;36mto_json_string\u001b[0;34m(self, indent)\u001b[0m\n\u001b[1;32m    718\u001b[0m             'roots' : {\n\u001b[1;32m    719\u001b[0m                 \u001b[0;34m'root_ids'\u001b[0m \u001b[0;34m:\u001b[0m \u001b[0mroot_ids\u001b[0m\u001b[0;34m,\u001b[0m\u001b[0;34m\u001b[0m\u001b[0m\n\u001b[0;32m--> 720\u001b[0;31m                 \u001b[0;34m'references'\u001b[0m \u001b[0;34m:\u001b[0m \u001b[0mself\u001b[0m\u001b[0;34m.\u001b[0m\u001b[0m_references_json\u001b[0m\u001b[0;34m(\u001b[0m\u001b[0mroot_references\u001b[0m\u001b[0;34m)\u001b[0m\u001b[0;34m\u001b[0m\u001b[0m\n\u001b[0m\u001b[1;32m    721\u001b[0m             },\n\u001b[1;32m    722\u001b[0m             \u001b[0;34m'version'\u001b[0m \u001b[0;34m:\u001b[0m \u001b[0m__version__\u001b[0m\u001b[0;34m\u001b[0m\u001b[0m\n",
      "\u001b[0;32m/Users/kschles/Library/Enthought/Canopy_64bit/User/lib/python2.7/site-packages/bokeh/document.pyc\u001b[0m in \u001b[0;36m_references_json\u001b[0;34m(cls, references)\u001b[0m\n\u001b[1;32m    529\u001b[0m         \u001b[0;32mfor\u001b[0m \u001b[0mr\u001b[0m \u001b[0;32min\u001b[0m \u001b[0mreferences\u001b[0m\u001b[0;34m:\u001b[0m\u001b[0;34m\u001b[0m\u001b[0m\n\u001b[1;32m    530\u001b[0m             \u001b[0mref\u001b[0m \u001b[0;34m=\u001b[0m \u001b[0mr\u001b[0m\u001b[0;34m.\u001b[0m\u001b[0mref\u001b[0m\u001b[0;34m\u001b[0m\u001b[0m\n\u001b[0;32m--> 531\u001b[0;31m             \u001b[0mref\u001b[0m\u001b[0;34m[\u001b[0m\u001b[0;34m'attributes'\u001b[0m\u001b[0;34m]\u001b[0m \u001b[0;34m=\u001b[0m \u001b[0mr\u001b[0m\u001b[0;34m.\u001b[0m\u001b[0m_to_json_like\u001b[0m\u001b[0;34m(\u001b[0m\u001b[0minclude_defaults\u001b[0m\u001b[0;34m=\u001b[0m\u001b[0mFalse\u001b[0m\u001b[0;34m)\u001b[0m\u001b[0;34m\u001b[0m\u001b[0m\n\u001b[0m\u001b[1;32m    532\u001b[0m             \u001b[0mreferences_json\u001b[0m\u001b[0;34m.\u001b[0m\u001b[0mappend\u001b[0m\u001b[0;34m(\u001b[0m\u001b[0mref\u001b[0m\u001b[0;34m)\u001b[0m\u001b[0;34m\u001b[0m\u001b[0m\n\u001b[1;32m    533\u001b[0m \u001b[0;34m\u001b[0m\u001b[0m\n",
      "\u001b[0;32m/Users/kschles/Library/Enthought/Canopy_64bit/User/lib/python2.7/site-packages/bokeh/models/sources.pyc\u001b[0m in \u001b[0;36m_to_json_like\u001b[0;34m(self, include_defaults)\u001b[0m\n\u001b[1;32m    173\u001b[0m         \u001b[0mattrs\u001b[0m \u001b[0;34m=\u001b[0m \u001b[0msuper\u001b[0m\u001b[0;34m(\u001b[0m\u001b[0mColumnDataSource\u001b[0m\u001b[0;34m,\u001b[0m \u001b[0mself\u001b[0m\u001b[0;34m)\u001b[0m\u001b[0;34m.\u001b[0m\u001b[0m_to_json_like\u001b[0m\u001b[0;34m(\u001b[0m\u001b[0minclude_defaults\u001b[0m\u001b[0;34m=\u001b[0m\u001b[0minclude_defaults\u001b[0m\u001b[0;34m)\u001b[0m\u001b[0;34m\u001b[0m\u001b[0m\n\u001b[1;32m    174\u001b[0m         \u001b[0;32mif\u001b[0m \u001b[0;34m'data'\u001b[0m \u001b[0;32min\u001b[0m \u001b[0mattrs\u001b[0m\u001b[0;34m:\u001b[0m\u001b[0;34m\u001b[0m\u001b[0m\n\u001b[0;32m--> 175\u001b[0;31m             \u001b[0mattrs\u001b[0m\u001b[0;34m[\u001b[0m\u001b[0;34m'data'\u001b[0m\u001b[0;34m]\u001b[0m \u001b[0;34m=\u001b[0m \u001b[0mtransform_column_source_data\u001b[0m\u001b[0;34m(\u001b[0m\u001b[0mattrs\u001b[0m\u001b[0;34m[\u001b[0m\u001b[0;34m'data'\u001b[0m\u001b[0;34m]\u001b[0m\u001b[0;34m)\u001b[0m\u001b[0;34m\u001b[0m\u001b[0m\n\u001b[0m\u001b[1;32m    176\u001b[0m         \u001b[0;32mreturn\u001b[0m \u001b[0mattrs\u001b[0m\u001b[0;34m\u001b[0m\u001b[0m\n\u001b[1;32m    177\u001b[0m \u001b[0;34m\u001b[0m\u001b[0m\n",
      "\u001b[0;32m/Users/kschles/Library/Enthought/Canopy_64bit/User/lib/python2.7/site-packages/bokeh/util/serialization.pyc\u001b[0m in \u001b[0;36mtransform_column_source_data\u001b[0;34m(data)\u001b[0m\n\u001b[1;32m    127\u001b[0m             \u001b[0mdata_copy\u001b[0m\u001b[0;34m[\u001b[0m\u001b[0mkey\u001b[0m\u001b[0;34m]\u001b[0m \u001b[0;34m=\u001b[0m \u001b[0mtransform_array\u001b[0m\u001b[0;34m(\u001b[0m\u001b[0mdata\u001b[0m\u001b[0;34m[\u001b[0m\u001b[0mkey\u001b[0m\u001b[0;34m]\u001b[0m\u001b[0;34m)\u001b[0m\u001b[0;34m\u001b[0m\u001b[0m\n\u001b[1;32m    128\u001b[0m         \u001b[0;32melse\u001b[0m\u001b[0;34m:\u001b[0m\u001b[0;34m\u001b[0m\u001b[0m\n\u001b[0;32m--> 129\u001b[0;31m             \u001b[0mdata_copy\u001b[0m\u001b[0;34m[\u001b[0m\u001b[0mkey\u001b[0m\u001b[0;34m]\u001b[0m \u001b[0;34m=\u001b[0m \u001b[0mtraverse_data\u001b[0m\u001b[0;34m(\u001b[0m\u001b[0mdata\u001b[0m\u001b[0;34m[\u001b[0m\u001b[0mkey\u001b[0m\u001b[0;34m]\u001b[0m\u001b[0;34m)\u001b[0m\u001b[0;34m\u001b[0m\u001b[0m\n\u001b[0m\u001b[1;32m    130\u001b[0m     \u001b[0;32mreturn\u001b[0m \u001b[0mdata_copy\u001b[0m\u001b[0;34m\u001b[0m\u001b[0m\n",
      "\u001b[0;32m/Users/kschles/Library/Enthought/Canopy_64bit/User/lib/python2.7/site-packages/bokeh/util/serialization.pyc\u001b[0m in \u001b[0;36mtraverse_data\u001b[0;34m(datum, is_numpy, use_numpy)\u001b[0m\n\u001b[1;32m     98\u001b[0m     \"\"\"\n\u001b[1;32m     99\u001b[0m     \u001b[0mis_numpy\u001b[0m \u001b[0;34m=\u001b[0m \u001b[0mis_numpy\u001b[0m \u001b[0;32mand\u001b[0m \u001b[0muse_numpy\u001b[0m\u001b[0;34m\u001b[0m\u001b[0m\n\u001b[0;32m--> 100\u001b[0;31m     \u001b[0;32mif\u001b[0m \u001b[0mis_numpy\u001b[0m \u001b[0;32mand\u001b[0m \u001b[0;32mnot\u001b[0m \u001b[0many\u001b[0m\u001b[0;34m(\u001b[0m\u001b[0misinstance\u001b[0m\u001b[0;34m(\u001b[0m\u001b[0mel\u001b[0m\u001b[0;34m,\u001b[0m \u001b[0;34m(\u001b[0m\u001b[0mlist\u001b[0m\u001b[0;34m,\u001b[0m \u001b[0mtuple\u001b[0m\u001b[0;34m)\u001b[0m\u001b[0;34m)\u001b[0m \u001b[0;32mfor\u001b[0m \u001b[0mel\u001b[0m \u001b[0;32min\u001b[0m \u001b[0mdatum\u001b[0m\u001b[0;34m)\u001b[0m\u001b[0;34m:\u001b[0m\u001b[0;34m\u001b[0m\u001b[0m\n\u001b[0m\u001b[1;32m    101\u001b[0m         \u001b[0;32mreturn\u001b[0m \u001b[0mtransform_array\u001b[0m\u001b[0;34m(\u001b[0m\u001b[0mnp\u001b[0m\u001b[0;34m.\u001b[0m\u001b[0masarray\u001b[0m\u001b[0;34m(\u001b[0m\u001b[0mdatum\u001b[0m\u001b[0;34m)\u001b[0m\u001b[0;34m)\u001b[0m\u001b[0;34m\u001b[0m\u001b[0m\n\u001b[1;32m    102\u001b[0m     \u001b[0mdatum_copy\u001b[0m \u001b[0;34m=\u001b[0m \u001b[0;34m[\u001b[0m\u001b[0;34m]\u001b[0m\u001b[0;34m\u001b[0m\u001b[0m\n",
      "\u001b[0;31mTypeError\u001b[0m: 'numpy.float64' object is not iterable"
     ]
    }
   ],
   "source": [
    "dist_name='MO-07'\n",
    "\n",
    "source = ColumnDataSource(\n",
    "    data=dict(\n",
    "        lat=[64.29, 65.20, 63.29],\n",
    "        lon=[-150.70, -150.74, -150.78],\n",
    "    )\n",
    ")\n",
    "\n",
    "patches = Patches(xs=\"lon\", ys=\"lat\", fill_color=\"blue\", fill_alpha=0.8, line_color=None)\n",
    "p.add_glyph(source, patches)\n",
    "\n",
    "\n",
    "show(p)"
   ]
  },
  {
   "cell_type": "code",
   "execution_count": 232,
   "metadata": {
    "collapsed": false
   },
   "outputs": [],
   "source": [
    "p = figure(tools=TOOLS, plot_width=900, plot_height=800)\n",
    "\n",
    "district_name='MO-07'\n",
    "source_patches = ColumnDataSource(data=districtInfo[district_name])\n",
    "\n",
    "\n",
    "patches = Patches(xs='lat_list', ys='lon_list', fill_color='color',\n",
    "                  fill_alpha=0.5, line_color=\"black\", line_width=0.5)\n",
    "patches_glyph = p.add_glyph(source_patches, patches)\n",
    "\n",
    "\n"
   ]
  },
  {
   "cell_type": "code",
   "execution_count": 233,
   "metadata": {
    "collapsed": false
   },
   "outputs": [
    {
     "ename": "TypeError",
     "evalue": "'numpy.float64' object is not iterable",
     "output_type": "error",
     "traceback": [
      "\u001b[0;31m--------------------------------------------------------------------------\u001b[0m",
      "\u001b[0;31mTypeError\u001b[0m                                Traceback (most recent call last)",
      "\u001b[0;32m<ipython-input-233-6a3c2d68899c>\u001b[0m in \u001b[0;36m<module>\u001b[0;34m()\u001b[0m\n\u001b[0;32m----> 1\u001b[0;31m \u001b[0mshow\u001b[0m\u001b[0;34m(\u001b[0m\u001b[0mp\u001b[0m\u001b[0;34m)\u001b[0m\u001b[0;34m\u001b[0m\u001b[0m\n\u001b[0m",
      "\u001b[0;32m/Users/kschles/Library/Enthought/Canopy_64bit/User/lib/python2.7/site-packages/bokeh/io.pyc\u001b[0m in \u001b[0;36mshow\u001b[0;34m(obj, browser, new)\u001b[0m\n\u001b[1;32m    299\u001b[0m \u001b[0;34m\u001b[0m\u001b[0m\n\u001b[1;32m    300\u001b[0m     '''\n\u001b[0;32m--> 301\u001b[0;31m     \u001b[0;32mreturn\u001b[0m \u001b[0m_show_with_state\u001b[0m\u001b[0;34m(\u001b[0m\u001b[0mobj\u001b[0m\u001b[0;34m,\u001b[0m \u001b[0m_state\u001b[0m\u001b[0;34m,\u001b[0m \u001b[0mbrowser\u001b[0m\u001b[0;34m,\u001b[0m \u001b[0mnew\u001b[0m\u001b[0;34m)\u001b[0m\u001b[0;34m\u001b[0m\u001b[0m\n\u001b[0m\u001b[1;32m    302\u001b[0m \u001b[0;34m\u001b[0m\u001b[0m\n\u001b[1;32m    303\u001b[0m \u001b[0;32mdef\u001b[0m \u001b[0m_show_with_state\u001b[0m\u001b[0;34m(\u001b[0m\u001b[0mobj\u001b[0m\u001b[0;34m,\u001b[0m \u001b[0mstate\u001b[0m\u001b[0;34m,\u001b[0m \u001b[0mbrowser\u001b[0m\u001b[0;34m,\u001b[0m \u001b[0mnew\u001b[0m\u001b[0;34m)\u001b[0m\u001b[0;34m:\u001b[0m\u001b[0;34m\u001b[0m\u001b[0m\n",
      "\u001b[0;32m/Users/kschles/Library/Enthought/Canopy_64bit/User/lib/python2.7/site-packages/bokeh/io.pyc\u001b[0m in \u001b[0;36m_show_with_state\u001b[0;34m(obj, state, browser, new)\u001b[0m\n\u001b[1;32m    307\u001b[0m \u001b[0;34m\u001b[0m\u001b[0m\n\u001b[1;32m    308\u001b[0m     \u001b[0;32mif\u001b[0m \u001b[0mstate\u001b[0m\u001b[0;34m.\u001b[0m\u001b[0mnotebook\u001b[0m\u001b[0;34m:\u001b[0m\u001b[0;34m\u001b[0m\u001b[0m\n\u001b[0;32m--> 309\u001b[0;31m         \u001b[0mcomms_handle\u001b[0m \u001b[0;34m=\u001b[0m \u001b[0m_show_notebook_with_state\u001b[0m\u001b[0;34m(\u001b[0m\u001b[0mobj\u001b[0m\u001b[0;34m,\u001b[0m \u001b[0mstate\u001b[0m\u001b[0;34m)\u001b[0m\u001b[0;34m\u001b[0m\u001b[0m\n\u001b[0m\u001b[1;32m    310\u001b[0m \u001b[0;34m\u001b[0m\u001b[0m\n\u001b[1;32m    311\u001b[0m     \u001b[0;32melif\u001b[0m \u001b[0mstate\u001b[0m\u001b[0;34m.\u001b[0m\u001b[0mserver_enabled\u001b[0m\u001b[0;34m:\u001b[0m\u001b[0;34m\u001b[0m\u001b[0m\n",
      "\u001b[0;32m/Users/kschles/Library/Enthought/Canopy_64bit/User/lib/python2.7/site-packages/bokeh/io.pyc\u001b[0m in \u001b[0;36m_show_notebook_with_state\u001b[0;34m(obj, state)\u001b[0m\n\u001b[1;32m    328\u001b[0m     \u001b[0;32melse\u001b[0m\u001b[0;34m:\u001b[0m\u001b[0;34m\u001b[0m\u001b[0m\n\u001b[1;32m    329\u001b[0m         \u001b[0mcomms_target\u001b[0m \u001b[0;34m=\u001b[0m \u001b[0mmake_id\u001b[0m\u001b[0;34m(\u001b[0m\u001b[0;34m)\u001b[0m\u001b[0;34m\u001b[0m\u001b[0m\n\u001b[0;32m--> 330\u001b[0;31m         \u001b[0mpublish_display_data\u001b[0m\u001b[0;34m(\u001b[0m\u001b[0;34m{\u001b[0m\u001b[0;34m'text/html'\u001b[0m\u001b[0;34m:\u001b[0m \u001b[0mnotebook_div\u001b[0m\u001b[0;34m(\u001b[0m\u001b[0mobj\u001b[0m\u001b[0;34m,\u001b[0m \u001b[0mcomms_target\u001b[0m\u001b[0;34m)\u001b[0m\u001b[0;34m}\u001b[0m\u001b[0;34m)\u001b[0m\u001b[0;34m\u001b[0m\u001b[0m\n\u001b[0m\u001b[1;32m    331\u001b[0m         \u001b[0mhandle\u001b[0m \u001b[0;34m=\u001b[0m \u001b[0m_CommsHandle\u001b[0m\u001b[0;34m(\u001b[0m\u001b[0mget_comms\u001b[0m\u001b[0;34m(\u001b[0m\u001b[0mcomms_target\u001b[0m\u001b[0;34m)\u001b[0m\u001b[0;34m,\u001b[0m \u001b[0mstate\u001b[0m\u001b[0;34m.\u001b[0m\u001b[0mdocument\u001b[0m\u001b[0;34m,\u001b[0m \u001b[0mstate\u001b[0m\u001b[0;34m.\u001b[0m\u001b[0mdocument\u001b[0m\u001b[0;34m.\u001b[0m\u001b[0mto_json\u001b[0m\u001b[0;34m(\u001b[0m\u001b[0;34m)\u001b[0m\u001b[0;34m)\u001b[0m\u001b[0;34m\u001b[0m\u001b[0m\n\u001b[1;32m    332\u001b[0m         \u001b[0mstate\u001b[0m\u001b[0;34m.\u001b[0m\u001b[0mlast_comms_handle\u001b[0m \u001b[0;34m=\u001b[0m \u001b[0mhandle\u001b[0m\u001b[0;34m\u001b[0m\u001b[0m\n",
      "\u001b[0;32m/Users/kschles/Library/Enthought/Canopy_64bit/User/lib/python2.7/site-packages/bokeh/embed.pyc\u001b[0m in \u001b[0;36mnotebook_div\u001b[0;34m(model, notebook_comms_target)\u001b[0m\n\u001b[1;32m    247\u001b[0m \u001b[0;34m\u001b[0m\u001b[0m\n\u001b[1;32m    248\u001b[0m     \u001b[0;32mwith\u001b[0m \u001b[0m_ModelInDocument\u001b[0m\u001b[0;34m(\u001b[0m\u001b[0mmodel\u001b[0m\u001b[0;34m)\u001b[0m\u001b[0;34m:\u001b[0m\u001b[0;34m\u001b[0m\u001b[0m\n\u001b[0;32m--> 249\u001b[0;31m         \u001b[0;34m(\u001b[0m\u001b[0mdocs_json\u001b[0m\u001b[0;34m,\u001b[0m \u001b[0mrender_items\u001b[0m\u001b[0;34m)\u001b[0m \u001b[0;34m=\u001b[0m \u001b[0m_standalone_docs_json_and_render_items\u001b[0m\u001b[0;34m(\u001b[0m\u001b[0;34m[\u001b[0m\u001b[0mmodel\u001b[0m\u001b[0;34m]\u001b[0m\u001b[0;34m)\u001b[0m\u001b[0;34m\u001b[0m\u001b[0m\n\u001b[0m\u001b[1;32m    250\u001b[0m \u001b[0;34m\u001b[0m\u001b[0m\n\u001b[1;32m    251\u001b[0m     \u001b[0mitem\u001b[0m \u001b[0;34m=\u001b[0m \u001b[0mrender_items\u001b[0m\u001b[0;34m[\u001b[0m\u001b[0;36m0\u001b[0m\u001b[0;34m]\u001b[0m\u001b[0;34m\u001b[0m\u001b[0m\n",
      "\u001b[0;32m/Users/kschles/Library/Enthought/Canopy_64bit/User/lib/python2.7/site-packages/bokeh/embed.pyc\u001b[0m in \u001b[0;36m_standalone_docs_json_and_render_items\u001b[0;34m(models)\u001b[0m\n\u001b[1;32m    564\u001b[0m     \u001b[0mdocs_json\u001b[0m \u001b[0;34m=\u001b[0m \u001b[0;34m{\u001b[0m\u001b[0;34m}\u001b[0m\u001b[0;34m\u001b[0m\u001b[0m\n\u001b[1;32m    565\u001b[0m     \u001b[0;32mfor\u001b[0m \u001b[0mk\u001b[0m\u001b[0;34m,\u001b[0m \u001b[0mv\u001b[0m \u001b[0;32min\u001b[0m \u001b[0mdocs_by_id\u001b[0m\u001b[0;34m.\u001b[0m\u001b[0mitems\u001b[0m\u001b[0;34m(\u001b[0m\u001b[0;34m)\u001b[0m\u001b[0;34m:\u001b[0m\u001b[0;34m\u001b[0m\u001b[0m\n\u001b[0;32m--> 566\u001b[0;31m         \u001b[0mdocs_json\u001b[0m\u001b[0;34m[\u001b[0m\u001b[0mk\u001b[0m\u001b[0;34m]\u001b[0m \u001b[0;34m=\u001b[0m \u001b[0mv\u001b[0m\u001b[0;34m.\u001b[0m\u001b[0mto_json\u001b[0m\u001b[0;34m(\u001b[0m\u001b[0;34m)\u001b[0m\u001b[0;34m\u001b[0m\u001b[0m\n\u001b[0m\u001b[1;32m    567\u001b[0m \u001b[0;34m\u001b[0m\u001b[0m\n\u001b[1;32m    568\u001b[0m     \u001b[0;32mreturn\u001b[0m \u001b[0;34m(\u001b[0m\u001b[0mdocs_json\u001b[0m\u001b[0;34m,\u001b[0m \u001b[0mrender_items\u001b[0m\u001b[0;34m)\u001b[0m\u001b[0;34m\u001b[0m\u001b[0m\n",
      "\u001b[0;32m/Users/kschles/Library/Enthought/Canopy_64bit/User/lib/python2.7/site-packages/bokeh/document.pyc\u001b[0m in \u001b[0;36mto_json\u001b[0;34m(self)\u001b[0m\n\u001b[1;32m    730\u001b[0m         \u001b[0;31m# this is a total hack to go via a string, needed because\u001b[0m\u001b[0;34m\u001b[0m\u001b[0;34m\u001b[0m\u001b[0m\n\u001b[1;32m    731\u001b[0m         \u001b[0;31m# our BokehJSONEncoder goes straight to a string.\u001b[0m\u001b[0;34m\u001b[0m\u001b[0;34m\u001b[0m\u001b[0m\n\u001b[0;32m--> 732\u001b[0;31m         \u001b[0mdoc_json\u001b[0m \u001b[0;34m=\u001b[0m \u001b[0mself\u001b[0m\u001b[0;34m.\u001b[0m\u001b[0mto_json_string\u001b[0m\u001b[0;34m(\u001b[0m\u001b[0;34m)\u001b[0m\u001b[0;34m\u001b[0m\u001b[0m\n\u001b[0m\u001b[1;32m    733\u001b[0m         \u001b[0;32mreturn\u001b[0m \u001b[0mloads\u001b[0m\u001b[0;34m(\u001b[0m\u001b[0mdoc_json\u001b[0m\u001b[0;34m)\u001b[0m\u001b[0;34m\u001b[0m\u001b[0m\n\u001b[1;32m    734\u001b[0m \u001b[0;34m\u001b[0m\u001b[0m\n",
      "\u001b[0;32m/Users/kschles/Library/Enthought/Canopy_64bit/User/lib/python2.7/site-packages/bokeh/document.pyc\u001b[0m in \u001b[0;36mto_json_string\u001b[0;34m(self, indent)\u001b[0m\n\u001b[1;32m    718\u001b[0m             'roots' : {\n\u001b[1;32m    719\u001b[0m                 \u001b[0;34m'root_ids'\u001b[0m \u001b[0;34m:\u001b[0m \u001b[0mroot_ids\u001b[0m\u001b[0;34m,\u001b[0m\u001b[0;34m\u001b[0m\u001b[0m\n\u001b[0;32m--> 720\u001b[0;31m                 \u001b[0;34m'references'\u001b[0m \u001b[0;34m:\u001b[0m \u001b[0mself\u001b[0m\u001b[0;34m.\u001b[0m\u001b[0m_references_json\u001b[0m\u001b[0;34m(\u001b[0m\u001b[0mroot_references\u001b[0m\u001b[0;34m)\u001b[0m\u001b[0;34m\u001b[0m\u001b[0m\n\u001b[0m\u001b[1;32m    721\u001b[0m             },\n\u001b[1;32m    722\u001b[0m             \u001b[0;34m'version'\u001b[0m \u001b[0;34m:\u001b[0m \u001b[0m__version__\u001b[0m\u001b[0;34m\u001b[0m\u001b[0m\n",
      "\u001b[0;32m/Users/kschles/Library/Enthought/Canopy_64bit/User/lib/python2.7/site-packages/bokeh/document.pyc\u001b[0m in \u001b[0;36m_references_json\u001b[0;34m(cls, references)\u001b[0m\n\u001b[1;32m    529\u001b[0m         \u001b[0;32mfor\u001b[0m \u001b[0mr\u001b[0m \u001b[0;32min\u001b[0m \u001b[0mreferences\u001b[0m\u001b[0;34m:\u001b[0m\u001b[0;34m\u001b[0m\u001b[0m\n\u001b[1;32m    530\u001b[0m             \u001b[0mref\u001b[0m \u001b[0;34m=\u001b[0m \u001b[0mr\u001b[0m\u001b[0;34m.\u001b[0m\u001b[0mref\u001b[0m\u001b[0;34m\u001b[0m\u001b[0m\n\u001b[0;32m--> 531\u001b[0;31m             \u001b[0mref\u001b[0m\u001b[0;34m[\u001b[0m\u001b[0;34m'attributes'\u001b[0m\u001b[0;34m]\u001b[0m \u001b[0;34m=\u001b[0m \u001b[0mr\u001b[0m\u001b[0;34m.\u001b[0m\u001b[0m_to_json_like\u001b[0m\u001b[0;34m(\u001b[0m\u001b[0minclude_defaults\u001b[0m\u001b[0;34m=\u001b[0m\u001b[0mFalse\u001b[0m\u001b[0;34m)\u001b[0m\u001b[0;34m\u001b[0m\u001b[0m\n\u001b[0m\u001b[1;32m    532\u001b[0m             \u001b[0mreferences_json\u001b[0m\u001b[0;34m.\u001b[0m\u001b[0mappend\u001b[0m\u001b[0;34m(\u001b[0m\u001b[0mref\u001b[0m\u001b[0;34m)\u001b[0m\u001b[0;34m\u001b[0m\u001b[0m\n\u001b[1;32m    533\u001b[0m \u001b[0;34m\u001b[0m\u001b[0m\n",
      "\u001b[0;32m/Users/kschles/Library/Enthought/Canopy_64bit/User/lib/python2.7/site-packages/bokeh/models/sources.pyc\u001b[0m in \u001b[0;36m_to_json_like\u001b[0;34m(self, include_defaults)\u001b[0m\n\u001b[1;32m    173\u001b[0m         \u001b[0mattrs\u001b[0m \u001b[0;34m=\u001b[0m \u001b[0msuper\u001b[0m\u001b[0;34m(\u001b[0m\u001b[0mColumnDataSource\u001b[0m\u001b[0;34m,\u001b[0m \u001b[0mself\u001b[0m\u001b[0;34m)\u001b[0m\u001b[0;34m.\u001b[0m\u001b[0m_to_json_like\u001b[0m\u001b[0;34m(\u001b[0m\u001b[0minclude_defaults\u001b[0m\u001b[0;34m=\u001b[0m\u001b[0minclude_defaults\u001b[0m\u001b[0;34m)\u001b[0m\u001b[0;34m\u001b[0m\u001b[0m\n\u001b[1;32m    174\u001b[0m         \u001b[0;32mif\u001b[0m \u001b[0;34m'data'\u001b[0m \u001b[0;32min\u001b[0m \u001b[0mattrs\u001b[0m\u001b[0;34m:\u001b[0m\u001b[0;34m\u001b[0m\u001b[0m\n\u001b[0;32m--> 175\u001b[0;31m             \u001b[0mattrs\u001b[0m\u001b[0;34m[\u001b[0m\u001b[0;34m'data'\u001b[0m\u001b[0;34m]\u001b[0m \u001b[0;34m=\u001b[0m \u001b[0mtransform_column_source_data\u001b[0m\u001b[0;34m(\u001b[0m\u001b[0mattrs\u001b[0m\u001b[0;34m[\u001b[0m\u001b[0;34m'data'\u001b[0m\u001b[0;34m]\u001b[0m\u001b[0;34m)\u001b[0m\u001b[0;34m\u001b[0m\u001b[0m\n\u001b[0m\u001b[1;32m    176\u001b[0m         \u001b[0;32mreturn\u001b[0m \u001b[0mattrs\u001b[0m\u001b[0;34m\u001b[0m\u001b[0m\n\u001b[1;32m    177\u001b[0m \u001b[0;34m\u001b[0m\u001b[0m\n",
      "\u001b[0;32m/Users/kschles/Library/Enthought/Canopy_64bit/User/lib/python2.7/site-packages/bokeh/util/serialization.pyc\u001b[0m in \u001b[0;36mtransform_column_source_data\u001b[0;34m(data)\u001b[0m\n\u001b[1;32m    127\u001b[0m             \u001b[0mdata_copy\u001b[0m\u001b[0;34m[\u001b[0m\u001b[0mkey\u001b[0m\u001b[0;34m]\u001b[0m \u001b[0;34m=\u001b[0m \u001b[0mtransform_array\u001b[0m\u001b[0;34m(\u001b[0m\u001b[0mdata\u001b[0m\u001b[0;34m[\u001b[0m\u001b[0mkey\u001b[0m\u001b[0;34m]\u001b[0m\u001b[0;34m)\u001b[0m\u001b[0;34m\u001b[0m\u001b[0m\n\u001b[1;32m    128\u001b[0m         \u001b[0;32melse\u001b[0m\u001b[0;34m:\u001b[0m\u001b[0;34m\u001b[0m\u001b[0m\n\u001b[0;32m--> 129\u001b[0;31m             \u001b[0mdata_copy\u001b[0m\u001b[0;34m[\u001b[0m\u001b[0mkey\u001b[0m\u001b[0;34m]\u001b[0m \u001b[0;34m=\u001b[0m \u001b[0mtraverse_data\u001b[0m\u001b[0;34m(\u001b[0m\u001b[0mdata\u001b[0m\u001b[0;34m[\u001b[0m\u001b[0mkey\u001b[0m\u001b[0;34m]\u001b[0m\u001b[0;34m)\u001b[0m\u001b[0;34m\u001b[0m\u001b[0m\n\u001b[0m\u001b[1;32m    130\u001b[0m     \u001b[0;32mreturn\u001b[0m \u001b[0mdata_copy\u001b[0m\u001b[0;34m\u001b[0m\u001b[0m\n",
      "\u001b[0;32m/Users/kschles/Library/Enthought/Canopy_64bit/User/lib/python2.7/site-packages/bokeh/util/serialization.pyc\u001b[0m in \u001b[0;36mtraverse_data\u001b[0;34m(datum, is_numpy, use_numpy)\u001b[0m\n\u001b[1;32m     98\u001b[0m     \"\"\"\n\u001b[1;32m     99\u001b[0m     \u001b[0mis_numpy\u001b[0m \u001b[0;34m=\u001b[0m \u001b[0mis_numpy\u001b[0m \u001b[0;32mand\u001b[0m \u001b[0muse_numpy\u001b[0m\u001b[0;34m\u001b[0m\u001b[0m\n\u001b[0;32m--> 100\u001b[0;31m     \u001b[0;32mif\u001b[0m \u001b[0mis_numpy\u001b[0m \u001b[0;32mand\u001b[0m \u001b[0;32mnot\u001b[0m \u001b[0many\u001b[0m\u001b[0;34m(\u001b[0m\u001b[0misinstance\u001b[0m\u001b[0;34m(\u001b[0m\u001b[0mel\u001b[0m\u001b[0;34m,\u001b[0m \u001b[0;34m(\u001b[0m\u001b[0mlist\u001b[0m\u001b[0;34m,\u001b[0m \u001b[0mtuple\u001b[0m\u001b[0;34m)\u001b[0m\u001b[0;34m)\u001b[0m \u001b[0;32mfor\u001b[0m \u001b[0mel\u001b[0m \u001b[0;32min\u001b[0m \u001b[0mdatum\u001b[0m\u001b[0;34m)\u001b[0m\u001b[0;34m:\u001b[0m\u001b[0;34m\u001b[0m\u001b[0m\n\u001b[0m\u001b[1;32m    101\u001b[0m         \u001b[0;32mreturn\u001b[0m \u001b[0mtransform_array\u001b[0m\u001b[0;34m(\u001b[0m\u001b[0mnp\u001b[0m\u001b[0;34m.\u001b[0m\u001b[0masarray\u001b[0m\u001b[0;34m(\u001b[0m\u001b[0mdatum\u001b[0m\u001b[0;34m)\u001b[0m\u001b[0;34m)\u001b[0m\u001b[0;34m\u001b[0m\u001b[0m\n\u001b[1;32m    102\u001b[0m     \u001b[0mdatum_copy\u001b[0m \u001b[0;34m=\u001b[0m \u001b[0;34m[\u001b[0m\u001b[0;34m]\u001b[0m\u001b[0;34m\u001b[0m\u001b[0m\n",
      "\u001b[0;31mTypeError\u001b[0m: 'numpy.float64' object is not iterable"
     ]
    }
   ],
   "source": [
    "show(p)"
   ]
  },
  {
   "cell_type": "code",
   "execution_count": 221,
   "metadata": {
    "collapsed": false
   },
   "outputs": [
    {
     "data": {
      "text/plain": [
       "['rep_name', 'color', 'rep_party', 'pop_per', 'lon_list', 'state', 'lat_list']"
      ]
     },
     "execution_count": 221,
     "metadata": {},
     "output_type": "execute_result"
    }
   ],
   "source": [
    "districtInfo['MO-07'].keys()"
   ]
  },
  {
   "cell_type": "code",
   "execution_count": 226,
   "metadata": {
    "collapsed": true
   },
   "outputs": [],
   "source": [
    "p.add_tools(PanTool(), WheelZoomTool(), HoverTool(), \n",
    "            ResetTool(), PreviewSaveTool())"
   ]
  },
  {
   "cell_type": "code",
   "execution_count": 215,
   "metadata": {
    "collapsed": true
   },
   "outputs": [],
   "source": [
    "hover = p.select(dict(type=HoverTool))\n",
    "hover.tooltips = OrderedDict([\n",
    "    (\"District\", \"@state\"),\n",
    "    (\"Veteran Percentage\", \"@pop_per\"),\n",
    "    (\"Representative\", \"@rep_name\"),\n",
    "])\n"
   ]
  },
  {
   "cell_type": "code",
   "execution_count": 227,
   "metadata": {
    "collapsed": false
   },
   "outputs": [
    {
     "data": {
      "text/html": [
       "\n",
       "\n",
       "    <div class=\"plotdiv\" id=\"b38f7baa-ea14-45b8-a5bc-72ba19fea7d0\"></div>\n",
       "<script type=\"text/javascript\">\n",
       "  \n",
       "  (function(global) {\n",
       "    function now() {\n",
       "      return new Date();\n",
       "    }\n",
       "  \n",
       "    if (typeof (window._bokeh_onload_callbacks) === \"undefined\") {\n",
       "      window._bokeh_onload_callbacks = [];\n",
       "    }\n",
       "  \n",
       "    function run_callbacks() {\n",
       "      window._bokeh_onload_callbacks.forEach(function(callback) { callback() });\n",
       "      delete window._bokeh_onload_callbacks\n",
       "      console.info(\"Bokeh: all callbacks have finished\");\n",
       "    }\n",
       "  \n",
       "    function load_libs(js_urls, callback) {\n",
       "      window._bokeh_onload_callbacks.push(callback);\n",
       "      if (window._bokeh_is_loading > 0) {\n",
       "        console.log(\"Bokeh: BokehJS is being loaded, scheduling callback at\", now());\n",
       "        return null;\n",
       "      }\n",
       "      if (js_urls == null || js_urls.length === 0) {\n",
       "        run_callbacks();\n",
       "        return null;\n",
       "      }\n",
       "      console.log(\"Bokeh: BokehJS not loaded, scheduling load and callback at\", now());\n",
       "      window._bokeh_is_loading = js_urls.length;\n",
       "      for (var i = 0; i < js_urls.length; i++) {\n",
       "        var url = js_urls[i];\n",
       "        var s = document.createElement('script');\n",
       "        s.src = url;\n",
       "        s.async = false;\n",
       "        s.onreadystatechange = s.onload = function() {\n",
       "          window._bokeh_is_loading--;\n",
       "          if (window._bokeh_is_loading === 0) {\n",
       "            console.log(\"Bokeh: all BokehJS libraries loaded\");\n",
       "            run_callbacks()\n",
       "          }\n",
       "        };\n",
       "        s.onerror = function() {\n",
       "          console.warn(\"failed to load library \" + url);\n",
       "        };\n",
       "        console.log(\"Bokeh: injecting script tag for BokehJS library: \", url);\n",
       "        document.getElementsByTagName(\"head\")[0].appendChild(s);\n",
       "      }\n",
       "    };var element = document.getElementById(\"b38f7baa-ea14-45b8-a5bc-72ba19fea7d0\");\n",
       "    if (element == null) {\n",
       "      console.log(\"Bokeh: ERROR: autoload.js configured with elementid 'b38f7baa-ea14-45b8-a5bc-72ba19fea7d0' but no matching script tag was found. \")\n",
       "      return false;\n",
       "    }\n",
       "  \n",
       "    var js_urls = [];\n",
       "  \n",
       "    var inline_js = [\n",
       "      function(Bokeh) {\n",
       "        Bokeh.$(function() {\n",
       "            var docs_json = {\"9dda79d3-8c90-4fba-8fec-cc2f7921c91f\":{\"roots\":{\"references\":[{\"attributes\":{\"plot\":{\"id\":\"79d47738-c6cd-4bc4-9df5-7335b2441e5e\",\"type\":\"GMapPlot\"}},\"id\":\"8cd99117-2e50-47a0-907e-c29f46afab34\",\"type\":\"WheelZoomTool\"},{\"attributes\":{\"callback\":null},\"id\":\"4c933f69-83f4-4a48-9d2d-3176a7ed7f6e\",\"type\":\"Range1d\"},{\"attributes\":{\"plot\":{\"id\":\"79d47738-c6cd-4bc4-9df5-7335b2441e5e\",\"type\":\"GMapPlot\"}},\"id\":\"7bbe7da5-9ca6-47c3-b717-7220ddc16110\",\"type\":\"PanTool\"},{\"attributes\":{\"map_options\":{\"lat\":64.2,\"lng\":-149.5,\"map_type\":\"roadmap\",\"zoom\":4},\"plot_height\":700,\"plot_width\":900,\"tool_events\":{\"id\":\"dbe65ffa-1fdd-4b0f-8f80-7b9f666a8711\",\"type\":\"ToolEvents\"},\"tools\":[{\"id\":\"7bbe7da5-9ca6-47c3-b717-7220ddc16110\",\"type\":\"PanTool\"},{\"id\":\"8cd99117-2e50-47a0-907e-c29f46afab34\",\"type\":\"WheelZoomTool\"},{\"id\":\"77753535-892d-4802-b27b-e1ba10805598\",\"type\":\"HoverTool\"},{\"id\":\"96e279f1-f2f2-4d87-91be-1d1876e1be83\",\"type\":\"ResetTool\"},{\"id\":\"1ca040c5-5fd2-40c9-bbac-70a5616d8ebd\",\"type\":\"PreviewSaveTool\"}],\"x_range\":{\"id\":\"3deb5f53-7e24-4db4-b5fc-00c20b2badf3\",\"type\":\"Range1d\"},\"y_range\":{\"id\":\"4c933f69-83f4-4a48-9d2d-3176a7ed7f6e\",\"type\":\"Range1d\"}},\"id\":\"79d47738-c6cd-4bc4-9df5-7335b2441e5e\",\"type\":\"GMapPlot\"},{\"attributes\":{\"plot\":{\"id\":\"79d47738-c6cd-4bc4-9df5-7335b2441e5e\",\"type\":\"GMapPlot\"}},\"id\":\"96e279f1-f2f2-4d87-91be-1d1876e1be83\",\"type\":\"ResetTool\"},{\"attributes\":{\"callback\":null,\"plot\":{\"id\":\"79d47738-c6cd-4bc4-9df5-7335b2441e5e\",\"type\":\"GMapPlot\"}},\"id\":\"77753535-892d-4802-b27b-e1ba10805598\",\"type\":\"HoverTool\"},{\"attributes\":{},\"id\":\"dbe65ffa-1fdd-4b0f-8f80-7b9f666a8711\",\"type\":\"ToolEvents\"},{\"attributes\":{\"plot\":{\"id\":\"79d47738-c6cd-4bc4-9df5-7335b2441e5e\",\"type\":\"GMapPlot\"}},\"id\":\"1ca040c5-5fd2-40c9-bbac-70a5616d8ebd\",\"type\":\"PreviewSaveTool\"},{\"attributes\":{\"callback\":null},\"id\":\"3deb5f53-7e24-4db4-b5fc-00c20b2badf3\",\"type\":\"Range1d\"}],\"root_ids\":[\"79d47738-c6cd-4bc4-9df5-7335b2441e5e\"]},\"title\":\"Bokeh Application\",\"version\":\"0.11.1\"}};\n",
       "            var render_items = [{\"docid\":\"9dda79d3-8c90-4fba-8fec-cc2f7921c91f\",\"elementid\":\"b38f7baa-ea14-45b8-a5bc-72ba19fea7d0\",\"modelid\":\"79d47738-c6cd-4bc4-9df5-7335b2441e5e\",\"notebook_comms_target\":\"104caed9-4931-4bff-abdb-31b649510c70\"}];\n",
       "            \n",
       "            Bokeh.embed.embed_items(docs_json, render_items);\n",
       "        });\n",
       "      },\n",
       "      function(Bokeh) {\n",
       "      }\n",
       "    ];\n",
       "  \n",
       "    function run_inline_js() {\n",
       "      for (var i = 0; i < inline_js.length; i++) {\n",
       "        inline_js[i](window.Bokeh);\n",
       "      }\n",
       "    }\n",
       "  \n",
       "    if (window._bokeh_is_loading === 0) {\n",
       "      console.log(\"Bokeh: BokehJS loaded, going straight to plotting\");\n",
       "      run_inline_js();\n",
       "    } else {\n",
       "      load_libs(js_urls, function() {\n",
       "        console.log(\"Bokeh: BokehJS plotting callback run at\", now());\n",
       "        run_inline_js();\n",
       "      });\n",
       "    }\n",
       "  }(this));\n",
       "</script>"
      ]
     },
     "metadata": {},
     "output_type": "display_data"
    },
    {
     "data": {
      "text/html": [
       "<p><code>&lt;Bokeh Notebook handle for <strong>In[227]</strong>&gt;</code></p>"
      ],
      "text/plain": [
       "<bokeh.io._CommsHandle at 0x146a1f3d0>"
      ]
     },
     "execution_count": 227,
     "metadata": {},
     "output_type": "execute_result"
    }
   ],
   "source": [
    "bk.show(p)"
   ]
  },
  {
   "cell_type": "code",
   "execution_count": null,
   "metadata": {
    "collapsed": true
   },
   "outputs": [],
   "source": []
  }
 ],
 "metadata": {
  "kernelspec": {
   "display_name": "Python 2",
   "language": "python",
   "name": "python2"
  },
  "language_info": {
   "codemirror_mode": {
    "name": "ipython",
    "version": 2
   },
   "file_extension": ".py",
   "mimetype": "text/x-python",
   "name": "python",
   "nbconvert_exporter": "python",
   "pygments_lexer": "ipython2",
   "version": "2.7.6"
  },
  "widgets": {
   "state": {},
   "version": "1.1.1"
  }
 },
 "nbformat": 4,
 "nbformat_minor": 0
}
