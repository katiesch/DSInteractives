{
 "cells": [
  {
   "cell_type": "code",
   "execution_count": 2,
   "metadata": {
    "collapsed": true
   },
   "outputs": [],
   "source": [
    "import sys\n",
    "import pandas as pd\n",
    "import numpy as np\n",
    "import spotipy \n",
    "sp=spotipy.Spotify()"
   ]
  },
  {
   "cell_type": "code",
   "execution_count": 3,
   "metadata": {
    "collapsed": true
   },
   "outputs": [],
   "source": [
    "from bokeh.embed import file_html"
   ]
  },
  {
   "cell_type": "code",
   "execution_count": 4,
   "metadata": {
    "collapsed": true
   },
   "outputs": [],
   "source": [
    "## Get information on each of the albums for a given artist \n",
    "def fetch_albums(musician): \n",
    "    artist=sp.search(q='artist:'+musician, type='artist')\n",
    "    if (len(artist['artists'])==0): \n",
    "        print 'Error: Check Musician Name'\n",
    "        return None\n",
    "    else: \n",
    "        ## Pull album information \n",
    "        albums=sp.artist_albums(artist['artists']['items'][0]['id'], album_type='album', country='US')\n",
    "        df_album=pd.DataFrame()\n",
    "        for i in range(len(albums['items'])): \n",
    "            df_album.loc[i,'name']=albums['items'][i]['name']\n",
    "            df_album.loc[i,'id']=albums['items'][i]['id']\n",
    "        for j in range(len(df_album)): \n",
    "            album_info=sp.album(df_album.loc[j,'id'])\n",
    "            df_album.loc[j,'release_date']=album_info['release_date']\n",
    "            df_album.loc[j,'popularity']=album_info['popularity']\n",
    "            \n",
    "    return df_album\n"
   ]
  },
  {
   "cell_type": "code",
   "execution_count": 5,
   "metadata": {
    "collapsed": false
   },
   "outputs": [],
   "source": [
    "def fetch_tracks(df_album): \n",
    "    tracks=pd.DataFrame()\n",
    "    print 'Querying Album Tracks'\n",
    "    for i in range(len(df_album)):\n",
    "        test=sp.album_tracks(df_album.loc[i,'id'])\n",
    "        for j in range(len(test['items'])): \n",
    "            k=len(tracks)\n",
    "            tracks.loc[k,'album']=df_album.loc[i,'name']\n",
    "            tracks.loc[k, 'name']=test['items'][j]['name']\n",
    "            tracks.loc[k,'track_id']=test['items'][j]['id']\n",
    "            tracks.loc[k,'artist_num']=len(test['items'][j]['artists'])\n",
    "\n",
    "    for i in range(len(tracks)): \n",
    "        if (i%20==0): \n",
    "            print i \n",
    "        test=sp.track(tracks.loc[i,'track_id'])\n",
    "        tracks.loc[i,'popularity']=test['popularity']\n",
    "        tracks.loc[i,'explicit']=test['explicit']\n",
    "        if (tracks.loc[i, 'artist_num']>1): \n",
    "            stringer=''\n",
    "            for j in range(0,tracks.loc[i, 'artist_num'].astype(int)): \n",
    "                if (j<tracks.loc[i, 'artist_num']-1):\n",
    "                    namer=test['artists'][j]['name']\n",
    "                    stringer=stringer+test['artists'][j]['name']+', '\n",
    "                else: \n",
    "                    stringer=stringer+test['artists'][j]['name']\n",
    "            tracks.loc[i,'artists_on_track']=stringer\n",
    "            \n",
    "    return tracks \n"
   ]
  },
  {
   "cell_type": "code",
   "execution_count": 5,
   "metadata": {
    "collapsed": false
   },
   "outputs": [],
   "source": [
    "# Create list of collaborators\n",
    "import unicodedata\n",
    "\n",
    "def make_collab_list(df_tracks, main_artist):\n",
    "    collaborators_list=[]\n",
    "    for i in range(len(df_tracks)): \n",
    "        if (df_tracks.loc[i,'artist_num']>1): \n",
    "            test1=unicodedata.normalize('NFKD', df_tracks.loc[i,'artists_on_track']).encode('ascii','ignore')\n",
    "            test=test1.split(',')\n",
    "            for j in range(len(test)): \n",
    "                if (test[j].lstrip()!=main_artist) : \n",
    "                    name=test[j].lstrip()\n",
    "                    matching = [s for s in collaborators_list if name in s]\n",
    "                    if (len(matching)==0):\n",
    "                        collaborators_list.append(name)\n",
    "                        \n",
    "        collab=pd.DataFrame()\n",
    "        collab['collaborator']=collaborators_list\n",
    "\n",
    "    for i in range(len(collab)): \n",
    "        person=collab.loc[i,'collaborator']\n",
    "        ### BETTER WAY TO SORT OUT UNICODE ISSUES? \n",
    "        if (person=='Beyonce'): \n",
    "            person='Beyo'\n",
    "        temp=df_tracks.loc[np.where((df_tracks['artists_on_track'].str.contains(person))==True)[0],['album', 'artists_on_track','popularity']]\n",
    "        collab.loc[i, 'num_collab']=len(temp)\n",
    "        collab.loc[i, 'mean_pop']=np.mean(temp['popularity'])\n",
    "        collab.loc[i, 'std_pop']=np.std(temp['popularity'])\n",
    "    \n",
    "    return collab"
   ]
  },
  {
   "cell_type": "code",
   "execution_count": 5,
   "metadata": {
    "collapsed": true
   },
   "outputs": [],
   "source": [
    "kw_albums=fetch_albums('Kanye West')"
   ]
  },
  {
   "cell_type": "code",
   "execution_count": 6,
   "metadata": {
    "collapsed": false
   },
   "outputs": [
    {
     "data": {
      "text/html": [
       "<div style=\"max-height:1000px;max-width:1500px;overflow:auto;\">\n",
       "<table border=\"1\" class=\"dataframe\">\n",
       "  <thead>\n",
       "    <tr style=\"text-align: right;\">\n",
       "      <th></th>\n",
       "      <th>name</th>\n",
       "      <th>id</th>\n",
       "      <th>release_date</th>\n",
       "      <th>popularity</th>\n",
       "    </tr>\n",
       "  </thead>\n",
       "  <tbody>\n",
       "    <tr>\n",
       "      <th>0 </th>\n",
       "      <td>                                 The Life Of Pablo</td>\n",
       "      <td> 0WAuEfa5Lmg72xfydLVcca</td>\n",
       "      <td> 2016-04-04</td>\n",
       "      <td> 95</td>\n",
       "    </tr>\n",
       "    <tr>\n",
       "      <th>1 </th>\n",
       "      <td>                                            Yeezus</td>\n",
       "      <td> 7D2NdGvBHIavgLhmcwhluK</td>\n",
       "      <td> 2013-06-18</td>\n",
       "      <td> 78</td>\n",
       "    </tr>\n",
       "    <tr>\n",
       "      <th>2 </th>\n",
       "      <td>               Watch The Throne (Explicit Version)</td>\n",
       "      <td> 7mCeLbChyegbRwwKK5shJs</td>\n",
       "      <td> 2011-08-12</td>\n",
       "      <td> 71</td>\n",
       "    </tr>\n",
       "    <tr>\n",
       "      <th>3 </th>\n",
       "      <td>                 Watch The Throne (Edited Version)</td>\n",
       "      <td> 0eZRIt3Ht1IuMXsr0QR8OY</td>\n",
       "      <td> 2011-08-12</td>\n",
       "      <td> 42</td>\n",
       "    </tr>\n",
       "    <tr>\n",
       "      <th>4 </th>\n",
       "      <td>      Watch The Throne [Deluxe Edition (Explicit)]</td>\n",
       "      <td> 1YwzJz7CrV9fd9Qeb6oo1d</td>\n",
       "      <td> 2011-08-12</td>\n",
       "      <td> 80</td>\n",
       "    </tr>\n",
       "    <tr>\n",
       "      <th>5 </th>\n",
       "      <td>        Watch The Throne [Deluxe Edition (Edited)]</td>\n",
       "      <td> 4P63UgNDUcF11MnWzyvVrh</td>\n",
       "      <td> 2011-08-12</td>\n",
       "      <td> 51</td>\n",
       "    </tr>\n",
       "    <tr>\n",
       "      <th>6 </th>\n",
       "      <td> My Beautiful Dark Twisted Fantasy (Explicit Ve...</td>\n",
       "      <td> 20r762YmB5HeofjMCiPMLv</td>\n",
       "      <td> 2010-11-19</td>\n",
       "      <td> 81</td>\n",
       "    </tr>\n",
       "    <tr>\n",
       "      <th>7 </th>\n",
       "      <td> My Beautiful Dark Twisted Fantasy (Edited Vers...</td>\n",
       "      <td> 6klUp8sQyRXGuJhqZu4PG3</td>\n",
       "      <td> 2010-11-22</td>\n",
       "      <td> 51</td>\n",
       "    </tr>\n",
       "    <tr>\n",
       "      <th>8 </th>\n",
       "      <td>                                 808s &amp; Heartbreak</td>\n",
       "      <td> 2JK89jt4unItFroOr0kT3g</td>\n",
       "      <td> 2008-11-24</td>\n",
       "      <td> 75</td>\n",
       "    </tr>\n",
       "    <tr>\n",
       "      <th>9 </th>\n",
       "      <td>                     Graduation (Explicit Version)</td>\n",
       "      <td> 3SZr5Pco2oqKFORCP3WNj9</td>\n",
       "      <td> 2007-09-11</td>\n",
       "      <td> 81</td>\n",
       "    </tr>\n",
       "    <tr>\n",
       "      <th>10</th>\n",
       "      <td>                       Graduation (Edited Version)</td>\n",
       "      <td> 7nxBMFwJtTTKDNxVCKmYi3</td>\n",
       "      <td> 2007-09-11</td>\n",
       "      <td> 53</td>\n",
       "    </tr>\n",
       "    <tr>\n",
       "      <th>11</th>\n",
       "      <td>              Late Registration (Explicit Version)</td>\n",
       "      <td> 5ll74bqtkcXlKE7wwkMq4g</td>\n",
       "      <td> 2005-09-30</td>\n",
       "      <td> 79</td>\n",
       "    </tr>\n",
       "    <tr>\n",
       "      <th>12</th>\n",
       "      <td>                Late Registration (Edited Version)</td>\n",
       "      <td> 4yJqrqT2BpuXLj5BMJlAXR</td>\n",
       "      <td> 2005-08-30</td>\n",
       "      <td> 53</td>\n",
       "    </tr>\n",
       "    <tr>\n",
       "      <th>13</th>\n",
       "      <td>                    The College Dropout (Explicit)</td>\n",
       "      <td> 3ff2p3LnR6V7m6BinwhNaQ</td>\n",
       "      <td> 2004-02-13</td>\n",
       "      <td> 77</td>\n",
       "    </tr>\n",
       "    <tr>\n",
       "      <th>14</th>\n",
       "      <td>                      The College Dropout (Edited)</td>\n",
       "      <td> 0bSrRp502dZKkpwZa9F1MY</td>\n",
       "      <td> 2004-02-10</td>\n",
       "      <td> 46</td>\n",
       "    </tr>\n",
       "  </tbody>\n",
       "</table>\n",
       "</div>"
      ],
      "text/plain": [
       "                                                 name                      id  \\\n",
       "0                                   The Life Of Pablo  0WAuEfa5Lmg72xfydLVcca   \n",
       "1                                              Yeezus  7D2NdGvBHIavgLhmcwhluK   \n",
       "2                 Watch The Throne (Explicit Version)  7mCeLbChyegbRwwKK5shJs   \n",
       "3                   Watch The Throne (Edited Version)  0eZRIt3Ht1IuMXsr0QR8OY   \n",
       "4        Watch The Throne [Deluxe Edition (Explicit)]  1YwzJz7CrV9fd9Qeb6oo1d   \n",
       "5          Watch The Throne [Deluxe Edition (Edited)]  4P63UgNDUcF11MnWzyvVrh   \n",
       "6   My Beautiful Dark Twisted Fantasy (Explicit Ve...  20r762YmB5HeofjMCiPMLv   \n",
       "7   My Beautiful Dark Twisted Fantasy (Edited Vers...  6klUp8sQyRXGuJhqZu4PG3   \n",
       "8                                   808s & Heartbreak  2JK89jt4unItFroOr0kT3g   \n",
       "9                       Graduation (Explicit Version)  3SZr5Pco2oqKFORCP3WNj9   \n",
       "10                        Graduation (Edited Version)  7nxBMFwJtTTKDNxVCKmYi3   \n",
       "11               Late Registration (Explicit Version)  5ll74bqtkcXlKE7wwkMq4g   \n",
       "12                 Late Registration (Edited Version)  4yJqrqT2BpuXLj5BMJlAXR   \n",
       "13                     The College Dropout (Explicit)  3ff2p3LnR6V7m6BinwhNaQ   \n",
       "14                       The College Dropout (Edited)  0bSrRp502dZKkpwZa9F1MY   \n",
       "\n",
       "   release_date  popularity  \n",
       "0    2016-04-04          95  \n",
       "1    2013-06-18          78  \n",
       "2    2011-08-12          71  \n",
       "3    2011-08-12          42  \n",
       "4    2011-08-12          80  \n",
       "5    2011-08-12          51  \n",
       "6    2010-11-19          81  \n",
       "7    2010-11-22          51  \n",
       "8    2008-11-24          75  \n",
       "9    2007-09-11          81  \n",
       "10   2007-09-11          53  \n",
       "11   2005-09-30          79  \n",
       "12   2005-08-30          53  \n",
       "13   2004-02-13          77  \n",
       "14   2004-02-10          46  "
      ]
     },
     "execution_count": 6,
     "metadata": {},
     "output_type": "execute_result"
    }
   ],
   "source": [
    "kw_albums"
   ]
  },
  {
   "cell_type": "code",
   "execution_count": 7,
   "metadata": {
    "collapsed": false
   },
   "outputs": [
    {
     "name": "stdout",
     "output_type": "stream",
     "text": [
      "Querying Album Tracks\n",
      "0\n",
      "20\n",
      "40\n",
      "60\n",
      "80\n",
      "100\n",
      "120\n",
      "140\n",
      "160\n",
      "180\n",
      "200\n",
      "220\n"
     ]
    }
   ],
   "source": [
    "tracks=fetch_tracks(kw_albums)"
   ]
  },
  {
   "cell_type": "markdown",
   "metadata": {},
   "source": [
    "There are multiple versions of individual albums (explicit/clean, standard/deluxe). First let's see if whether or not the track is explicit affects its popularity"
   ]
  },
  {
   "cell_type": "code",
   "execution_count": 8,
   "metadata": {
    "collapsed": false
   },
   "outputs": [],
   "source": [
    "ex_hist, ex_edges = np.histogram(tracks.loc[np.where(tracks['explicit']==True)[0],'popularity'],range=[0,100], bins=25)\n",
    "ex_center=(ex_edges[:-1]+ex_edges[1:])/2.\n",
    "\n",
    "cl_hist, cl_edges = np.histogram(tracks.loc[np.where(tracks['explicit']==False)[0],'popularity'],range=[0,100], bins=25)\n",
    "cl_center=(cl_edges[:-1]+cl_edges[1:])/2.\n",
    "\n",
    "histo=pd.DataFrame()\n",
    "histo['explicit']=ex_hist\n",
    "histo['ex_center']=ex_center\n",
    "histo['clean']=cl_hist\n",
    "histo['cl_center']=cl_center"
   ]
  },
  {
   "cell_type": "code",
   "execution_count": 9,
   "metadata": {
    "collapsed": false
   },
   "outputs": [
    {
     "name": "stdout",
     "output_type": "stream",
     "text": [
      "Mean Popularity (Explicit):  58.9596774194 +- 12.2332170706\n",
      "Mean Popularity (Clean):  31.871559633 +- 12.1656011646\n"
     ]
    },
    {
     "data": {
      "text/html": [
       "\n",
       "    <div class=\"bk-banner\">\n",
       "        <a href=\"http://bokeh.pydata.org\" target=\"_blank\" class=\"bk-logo bk-logo-small bk-logo-notebook\"></a>\n",
       "        <span id=\"cd7348af-7ede-4e75-af53-f1cae680285a\">Loading BokehJS ...</span>\n",
       "    </div>"
      ]
     },
     "metadata": {},
     "output_type": "display_data"
    },
    {
     "data": {
      "application/javascript": [
       "\n",
       "(function(global) {\n",
       "  function now() {\n",
       "    return new Date();\n",
       "  }\n",
       "\n",
       "  if (typeof (window._bokeh_onload_callbacks) === \"undefined\") {\n",
       "    window._bokeh_onload_callbacks = [];\n",
       "  }\n",
       "\n",
       "  function run_callbacks() {\n",
       "    window._bokeh_onload_callbacks.forEach(function(callback) { callback() });\n",
       "    delete window._bokeh_onload_callbacks\n",
       "    console.info(\"Bokeh: all callbacks have finished\");\n",
       "  }\n",
       "\n",
       "  function load_libs(js_urls, callback) {\n",
       "    window._bokeh_onload_callbacks.push(callback);\n",
       "    if (window._bokeh_is_loading > 0) {\n",
       "      console.log(\"Bokeh: BokehJS is being loaded, scheduling callback at\", now());\n",
       "      return null;\n",
       "    }\n",
       "    if (js_urls == null || js_urls.length === 0) {\n",
       "      run_callbacks();\n",
       "      return null;\n",
       "    }\n",
       "    console.log(\"Bokeh: BokehJS not loaded, scheduling load and callback at\", now());\n",
       "    window._bokeh_is_loading = js_urls.length;\n",
       "    for (var i = 0; i < js_urls.length; i++) {\n",
       "      var url = js_urls[i];\n",
       "      var s = document.createElement('script');\n",
       "      s.src = url;\n",
       "      s.async = false;\n",
       "      s.onreadystatechange = s.onload = function() {\n",
       "        window._bokeh_is_loading--;\n",
       "        if (window._bokeh_is_loading === 0) {\n",
       "          console.log(\"Bokeh: all BokehJS libraries loaded\");\n",
       "          run_callbacks()\n",
       "        }\n",
       "      };\n",
       "      s.onerror = function() {\n",
       "        console.warn(\"failed to load library \" + url);\n",
       "      };\n",
       "      console.log(\"Bokeh: injecting script tag for BokehJS library: \", url);\n",
       "      document.getElementsByTagName(\"head\")[0].appendChild(s);\n",
       "    }\n",
       "  };\n",
       "\n",
       "  var js_urls = ['https://cdn.pydata.org/bokeh/release/bokeh-0.11.1.min.js', 'https://cdn.pydata.org/bokeh/release/bokeh-widgets-0.11.1.min.js', 'https://cdn.pydata.org/bokeh/release/bokeh-compiler-0.11.1.min.js'];\n",
       "\n",
       "  var inline_js = [\n",
       "    function(Bokeh) {\n",
       "      Bokeh.set_log_level(\"info\");\n",
       "    },\n",
       "    \n",
       "    function(Bokeh) {\n",
       "      Bokeh.$(\"#cd7348af-7ede-4e75-af53-f1cae680285a\").text(\"BokehJS successfully loaded\");\n",
       "    },\n",
       "    function(Bokeh) {\n",
       "      console.log(\"Bokeh: injecting CSS: https://cdn.pydata.org/bokeh/release/bokeh-0.11.1.min.css\");\n",
       "      Bokeh.embed.inject_css(\"https://cdn.pydata.org/bokeh/release/bokeh-0.11.1.min.css\");\n",
       "      console.log(\"Bokeh: injecting CSS: https://cdn.pydata.org/bokeh/release/bokeh-widgets-0.11.1.min.css\");\n",
       "      Bokeh.embed.inject_css(\"https://cdn.pydata.org/bokeh/release/bokeh-widgets-0.11.1.min.css\");\n",
       "    }\n",
       "  ];\n",
       "\n",
       "  function run_inline_js() {\n",
       "    for (var i = 0; i < inline_js.length; i++) {\n",
       "      inline_js[i](window.Bokeh);\n",
       "    }\n",
       "  }\n",
       "\n",
       "  if (window._bokeh_is_loading === 0) {\n",
       "    console.log(\"Bokeh: BokehJS loaded, going straight to plotting\");\n",
       "    run_inline_js();\n",
       "  } else {\n",
       "    load_libs(js_urls, function() {\n",
       "      console.log(\"Bokeh: BokehJS plotting callback run at\", now());\n",
       "      run_inline_js();\n",
       "    });\n",
       "  }\n",
       "}(this));"
      ]
     },
     "metadata": {},
     "output_type": "display_data"
    }
   ],
   "source": [
    "from bokeh.plotting import figure, show, vplot\n",
    "from bokeh.charts import Histogram,Bar, output_file, show, output_notebook\n",
    "from bokeh.charts.attributes import cat, color\n",
    "from bokeh.charts.operations import blend\n",
    "\n",
    "p = figure(width=600, height=400)\n",
    "\n",
    "p = Bar(histo, label='ex_center', \n",
    "        values=blend('explicit', 'clean', labels_name='typer'),  \n",
    "        stack=cat(columns='typer', sort=False),\n",
    "        color=color(columns='typer', palette=['red', 'blue'],sort=False), \n",
    "        legend='top_right', xlabel='Popularity', ylabel='Number',\n",
    "        tooltips=[('number', '@typer'), ('popularity', '@ex_center')])\n",
    "\n",
    "\n",
    "print 'Mean Popularity (Explicit): ', np.mean(tracks.loc[np.where(tracks['explicit']==True)[0],'popularity']),'+-',np.std(tracks.loc[np.where(tracks['explicit']==True)[0],'popularity'])\n",
    "print 'Mean Popularity (Clean): ', np.mean(tracks.loc[np.where(tracks['explicit']==False)[0],'popularity']),'+-',np.std(tracks.loc[np.where(tracks['explicit']==False)[0],'popularity'])\n",
    "\n",
    "output_notebook()\n",
    "\n",
    "#show(p)"
   ]
  },
  {
   "cell_type": "code",
   "execution_count": 15,
   "metadata": {
    "collapsed": false
   },
   "outputs": [
    {
     "name": "stdout",
     "output_type": "stream",
     "text": [
      "Mean Popularity (Explicit):  58.9596774194 +- 12.2332170706\n",
      "Mean Popularity (Clean):  31.871559633 +- 12.1656011646\n"
     ]
    },
    {
     "data": {
      "text/html": [
       "\n",
       "    <div class=\"bk-banner\">\n",
       "        <a href=\"http://bokeh.pydata.org\" target=\"_blank\" class=\"bk-logo bk-logo-small bk-logo-notebook\"></a>\n",
       "        <span id=\"b3d9be8b-a706-4c91-9fa4-a93cc80eb32b\">Loading BokehJS ...</span>\n",
       "    </div>"
      ]
     },
     "metadata": {},
     "output_type": "display_data"
    },
    {
     "data": {
      "application/javascript": [
       "\n",
       "(function(global) {\n",
       "  function now() {\n",
       "    return new Date();\n",
       "  }\n",
       "\n",
       "  if (typeof (window._bokeh_onload_callbacks) === \"undefined\") {\n",
       "    window._bokeh_onload_callbacks = [];\n",
       "  }\n",
       "\n",
       "  function run_callbacks() {\n",
       "    window._bokeh_onload_callbacks.forEach(function(callback) { callback() });\n",
       "    delete window._bokeh_onload_callbacks\n",
       "    console.info(\"Bokeh: all callbacks have finished\");\n",
       "  }\n",
       "\n",
       "  function load_libs(js_urls, callback) {\n",
       "    window._bokeh_onload_callbacks.push(callback);\n",
       "    if (window._bokeh_is_loading > 0) {\n",
       "      console.log(\"Bokeh: BokehJS is being loaded, scheduling callback at\", now());\n",
       "      return null;\n",
       "    }\n",
       "    if (js_urls == null || js_urls.length === 0) {\n",
       "      run_callbacks();\n",
       "      return null;\n",
       "    }\n",
       "    console.log(\"Bokeh: BokehJS not loaded, scheduling load and callback at\", now());\n",
       "    window._bokeh_is_loading = js_urls.length;\n",
       "    for (var i = 0; i < js_urls.length; i++) {\n",
       "      var url = js_urls[i];\n",
       "      var s = document.createElement('script');\n",
       "      s.src = url;\n",
       "      s.async = false;\n",
       "      s.onreadystatechange = s.onload = function() {\n",
       "        window._bokeh_is_loading--;\n",
       "        if (window._bokeh_is_loading === 0) {\n",
       "          console.log(\"Bokeh: all BokehJS libraries loaded\");\n",
       "          run_callbacks()\n",
       "        }\n",
       "      };\n",
       "      s.onerror = function() {\n",
       "        console.warn(\"failed to load library \" + url);\n",
       "      };\n",
       "      console.log(\"Bokeh: injecting script tag for BokehJS library: \", url);\n",
       "      document.getElementsByTagName(\"head\")[0].appendChild(s);\n",
       "    }\n",
       "  };\n",
       "\n",
       "  var js_urls = ['https://cdn.pydata.org/bokeh/release/bokeh-0.11.1.min.js', 'https://cdn.pydata.org/bokeh/release/bokeh-widgets-0.11.1.min.js', 'https://cdn.pydata.org/bokeh/release/bokeh-compiler-0.11.1.min.js'];\n",
       "\n",
       "  var inline_js = [\n",
       "    function(Bokeh) {\n",
       "      Bokeh.set_log_level(\"info\");\n",
       "    },\n",
       "    \n",
       "    function(Bokeh) {\n",
       "      Bokeh.$(\"#b3d9be8b-a706-4c91-9fa4-a93cc80eb32b\").text(\"BokehJS successfully loaded\");\n",
       "    },\n",
       "    function(Bokeh) {\n",
       "      console.log(\"Bokeh: injecting CSS: https://cdn.pydata.org/bokeh/release/bokeh-0.11.1.min.css\");\n",
       "      Bokeh.embed.inject_css(\"https://cdn.pydata.org/bokeh/release/bokeh-0.11.1.min.css\");\n",
       "      console.log(\"Bokeh: injecting CSS: https://cdn.pydata.org/bokeh/release/bokeh-widgets-0.11.1.min.css\");\n",
       "      Bokeh.embed.inject_css(\"https://cdn.pydata.org/bokeh/release/bokeh-widgets-0.11.1.min.css\");\n",
       "    }\n",
       "  ];\n",
       "\n",
       "  function run_inline_js() {\n",
       "    for (var i = 0; i < inline_js.length; i++) {\n",
       "      inline_js[i](window.Bokeh);\n",
       "    }\n",
       "  }\n",
       "\n",
       "  if (window._bokeh_is_loading === 0) {\n",
       "    console.log(\"Bokeh: BokehJS loaded, going straight to plotting\");\n",
       "    run_inline_js();\n",
       "  } else {\n",
       "    load_libs(js_urls, function() {\n",
       "      console.log(\"Bokeh: BokehJS plotting callback run at\", now());\n",
       "      run_inline_js();\n",
       "    });\n",
       "  }\n",
       "}(this));"
      ]
     },
     "metadata": {},
     "output_type": "display_data"
    }
   ],
   "source": [
    "from bokeh.plotting import figure, show, vplot\n",
    "from bokeh.charts import Histogram,Bar, output_file, show, output_notebook\n",
    "from bokeh.charts.attributes import cat, color\n",
    "from bokeh.charts.operations import blend\n",
    "from bokeh.models import ColumnDataSource, HoverTool, BoxZoomTool, ResetTool    \n",
    "\n",
    "p = figure(width=600, height=400)\n",
    "\n",
    "p.quad(top=ex_hist, bottom=0, left=ex_edges[:-1],right=ex_edges[1:],\\\n",
    "       fill_color=\"white\",line_color=\"red\", legend=\"Explicit\")\n",
    "p.quad(top=cl_hist, bottom=0, left=cl_edges[:-1], right=cl_edges[1:],\\\n",
    "      fill_color=\"white\", line_color=\"blue\", fill_alpha=0.2, legend=\"Clean\")\n",
    "\n",
    "p.legend.location=\"top_right\"\n",
    "p.xaxis.axis_label=\"Popularity\"\n",
    "p.yaxis.axis_label=\"Number of Tracks\"\n",
    "\n",
    "print 'Mean Popularity (Explicit): ', np.mean(tracks.loc[np.where(tracks['explicit']==True)[0],'popularity']),'+-',np.std(tracks.loc[np.where(tracks['explicit']==True)[0],'popularity'])\n",
    "print 'Mean Popularity (Clean): ', np.mean(tracks.loc[np.where(tracks['explicit']==False)[0],'popularity']),'+-',np.std(tracks.loc[np.where(tracks['explicit']==False)[0],'popularity'])\n",
    "\n",
    "output_notebook()\n",
    "\n",
    "#show(p)"
   ]
  },
  {
   "cell_type": "code",
   "execution_count": 12,
   "metadata": {
    "collapsed": false
   },
   "outputs": [
    {
     "name": "stdout",
     "output_type": "stream",
     "text": [
      "\n",
      "<div class=\"plotdiv\" id=\"89556313-b589-45bc-baaf-a3e933260621\"></div>\n"
     ]
    }
   ],
   "source": [
    "from bokeh.embed import components\n",
    "script, div = components(p)\n",
    "\n",
    "print div\n",
    "\n",
    "f=open('p1.js', 'w')\n",
    "f.write(script)\n",
    "f.close()"
   ]
  },
  {
   "cell_type": "markdown",
   "metadata": {},
   "source": [
    "Overall, the explicit version of Kanye songs are significantly more popular than the clean versions. I suppose that makes \n",
    "sense in a go big or go home sort of way. If you're going to listen to Kanye, listen to KANYE. \n",
    "\n",
    "However the distributions show that some clean versions of songs are as popular as other explicit versions. Let's look at how the difference in popularity between song versions varies by song. "
   ]
  },
  {
   "cell_type": "code",
   "execution_count": 13,
   "metadata": {
    "collapsed": false
   },
   "outputs": [
    {
     "name": "stderr",
     "output_type": "stream",
     "text": [
      "/Users/kschles/Library/Enthought/Canopy_64bit/User/lib/python2.7/site-packages/pandas/core/strings.py:189: UserWarning: This pattern has match groups. To actually get the groups, use str.extract.\n",
      "  \" groups, use str.extract.\", UserWarning)\n"
     ]
    }
   ],
   "source": [
    "## Need to clean up song titles such that I can group them cleanly in pandas\n",
    "pd.set_option('display.max_rows', 200)\n",
    "indexer=np.where(tracks['name'].str.contains('(Edited)')==True)[0]\n",
    "tracks['ed_name']=tracks['name']\n",
    "tracks.loc[indexer, 'ed_name']=tracks.loc[indexer, 'name'].str[:-24]\n",
    "tracks['ed_name']=tracks['ed_name'].str.rstrip()\n"
   ]
  },
  {
   "cell_type": "code",
   "execution_count": 14,
   "metadata": {
    "collapsed": false
   },
   "outputs": [],
   "source": [
    "tracks_temp=pd.DataFrame()\n",
    "tracks_temp=tracks\n",
    "tracks_temp['pop_max']=tracks['popularity']\n",
    "tracks_temp['pop_diff']=tracks['popularity']\n",
    "\n",
    "grouped=tracks_temp[['ed_name', 'album','popularity', 'pop_max', 'pop_diff']].groupby('ed_name')\n",
    "\n",
    "pop_diff=grouped.agg({'ed_name' : 'first', 'album': 'first', 'popularity' : 'first', 'pop_max' : 'max', 'pop_diff' : lambda x: np.max(x)-np.min(x)})\n",
    "pop_diff.reset_index(drop=True, inplace=True)"
   ]
  },
  {
   "cell_type": "code",
   "execution_count": 16,
   "metadata": {
    "collapsed": false
   },
   "outputs": [],
   "source": [
    "# Remove songs where there is only one version \n",
    "pop_diff_ed=pop_diff.loc[np.where(pop_diff['pop_diff']!=0)[0]]"
   ]
  },
  {
   "cell_type": "code",
   "execution_count": 22,
   "metadata": {
    "collapsed": false
   },
   "outputs": [
    {
     "data": {
      "text/html": [
       "\n",
       "    <div class=\"bk-banner\">\n",
       "        <a href=\"http://bokeh.pydata.org\" target=\"_blank\" class=\"bk-logo bk-logo-small bk-logo-notebook\"></a>\n",
       "        <span id=\"2c147467-4d4b-4396-af8f-573d57e29f43\">Loading BokehJS ...</span>\n",
       "    </div>"
      ]
     },
     "metadata": {},
     "output_type": "display_data"
    },
    {
     "data": {
      "application/javascript": [
       "\n",
       "(function(global) {\n",
       "  function now() {\n",
       "    return new Date();\n",
       "  }\n",
       "\n",
       "  if (typeof (window._bokeh_onload_callbacks) === \"undefined\") {\n",
       "    window._bokeh_onload_callbacks = [];\n",
       "  }\n",
       "\n",
       "  function run_callbacks() {\n",
       "    window._bokeh_onload_callbacks.forEach(function(callback) { callback() });\n",
       "    delete window._bokeh_onload_callbacks\n",
       "    console.info(\"Bokeh: all callbacks have finished\");\n",
       "  }\n",
       "\n",
       "  function load_libs(js_urls, callback) {\n",
       "    window._bokeh_onload_callbacks.push(callback);\n",
       "    if (window._bokeh_is_loading > 0) {\n",
       "      console.log(\"Bokeh: BokehJS is being loaded, scheduling callback at\", now());\n",
       "      return null;\n",
       "    }\n",
       "    if (js_urls == null || js_urls.length === 0) {\n",
       "      run_callbacks();\n",
       "      return null;\n",
       "    }\n",
       "    console.log(\"Bokeh: BokehJS not loaded, scheduling load and callback at\", now());\n",
       "    window._bokeh_is_loading = js_urls.length;\n",
       "    for (var i = 0; i < js_urls.length; i++) {\n",
       "      var url = js_urls[i];\n",
       "      var s = document.createElement('script');\n",
       "      s.src = url;\n",
       "      s.async = false;\n",
       "      s.onreadystatechange = s.onload = function() {\n",
       "        window._bokeh_is_loading--;\n",
       "        if (window._bokeh_is_loading === 0) {\n",
       "          console.log(\"Bokeh: all BokehJS libraries loaded\");\n",
       "          run_callbacks()\n",
       "        }\n",
       "      };\n",
       "      s.onerror = function() {\n",
       "        console.warn(\"failed to load library \" + url);\n",
       "      };\n",
       "      console.log(\"Bokeh: injecting script tag for BokehJS library: \", url);\n",
       "      document.getElementsByTagName(\"head\")[0].appendChild(s);\n",
       "    }\n",
       "  };\n",
       "\n",
       "  var js_urls = ['https://cdn.pydata.org/bokeh/release/bokeh-0.11.1.min.js', 'https://cdn.pydata.org/bokeh/release/bokeh-widgets-0.11.1.min.js', 'https://cdn.pydata.org/bokeh/release/bokeh-compiler-0.11.1.min.js'];\n",
       "\n",
       "  var inline_js = [\n",
       "    function(Bokeh) {\n",
       "      Bokeh.set_log_level(\"info\");\n",
       "    },\n",
       "    \n",
       "    function(Bokeh) {\n",
       "      Bokeh.$(\"#2c147467-4d4b-4396-af8f-573d57e29f43\").text(\"BokehJS successfully loaded\");\n",
       "    },\n",
       "    function(Bokeh) {\n",
       "      console.log(\"Bokeh: injecting CSS: https://cdn.pydata.org/bokeh/release/bokeh-0.11.1.min.css\");\n",
       "      Bokeh.embed.inject_css(\"https://cdn.pydata.org/bokeh/release/bokeh-0.11.1.min.css\");\n",
       "      console.log(\"Bokeh: injecting CSS: https://cdn.pydata.org/bokeh/release/bokeh-widgets-0.11.1.min.css\");\n",
       "      Bokeh.embed.inject_css(\"https://cdn.pydata.org/bokeh/release/bokeh-widgets-0.11.1.min.css\");\n",
       "    }\n",
       "  ];\n",
       "\n",
       "  function run_inline_js() {\n",
       "    for (var i = 0; i < inline_js.length; i++) {\n",
       "      inline_js[i](window.Bokeh);\n",
       "    }\n",
       "  }\n",
       "\n",
       "  if (window._bokeh_is_loading === 0) {\n",
       "    console.log(\"Bokeh: BokehJS loaded, going straight to plotting\");\n",
       "    run_inline_js();\n",
       "  } else {\n",
       "    load_libs(js_urls, function() {\n",
       "      console.log(\"Bokeh: BokehJS plotting callback run at\", now());\n",
       "      run_inline_js();\n",
       "    });\n",
       "  }\n",
       "}(this));"
      ]
     },
     "metadata": {},
     "output_type": "display_data"
    }
   ],
   "source": [
    "from bokeh.charts import Scatter, output_file, show\n",
    "from bokeh.models import ColumnDataSource, HoverTool, BoxZoomTool, ResetTool    \n",
    "from scipy import stats \n",
    "\n",
    "source = ColumnDataSource(\n",
    "        data=dict(\n",
    "            x=pop_diff_ed['pop_max'].astype(int),\n",
    "            y=pop_diff_ed['pop_diff'].astype(int),\n",
    "            album=pop_diff_ed['album'].astype(str),\n",
    "            song=pop_diff_ed['ed_name'].astype(object),\n",
    "            per=pop_diff_ed['pop_diff']/pop_diff_ed['pop_max'],\n",
    "        )\n",
    "    )\n",
    "\n",
    "TOOLS = [BoxZoomTool(), ResetTool(),HoverTool(tooltips=[(\"song\", \"@song\"),(\"album\", \"@album\")])]\n",
    "\n",
    "p2 = figure(plot_width=600, plot_height=400, tools=TOOLS)\n",
    "p2.xaxis.axis_label = \"Popularity (Explicit Version)\"\n",
    "p2.yaxis.axis_label = \"Difference in Popularity\"\n",
    "\n",
    "colormap = {'Graduation (Explicit Version)': 'red', 'Late Registration (Explicit Version)': 'green',\\\n",
    "            'My Beautiful Dark Twisted Fantasy (Explicit Version)': 'blue', \\\n",
    "           'The College Dropout (Explicit)': 'purple', \\\n",
    "            'Watch The Throne (Explicit Version)': 'cyan',\\\n",
    "            'Watch The Throne [Deluxe Edition (Explicit)]' : 'black'}\n",
    "pop_diff_ed['color'] = pop_diff_ed['album'].map(lambda x: colormap[x])\n",
    "\n",
    "slope, intercept, r_value, p_value, std_err = stats.linregress(source.data['x'],source.data['y'])\n",
    "xvalue=np.arange(0, 100, dtype=np.float)\n",
    "yvalue=slope*xvalue+intercept\n",
    "\n",
    "p2.line(xvalue, yvalue, line_dash=\"4 4\", line_width=2, color='black')\n",
    "\n",
    "\n",
    "p2.circle('x', 'y', size=7, color=pop_diff_ed['color'], \\\n",
    "         fill_alpha=0.2, source=source)\n",
    "\n",
    "output_notebook()\n",
    "\n",
    "#show(p2)\n"
   ]
  },
  {
   "cell_type": "code",
   "execution_count": 21,
   "metadata": {
    "collapsed": false
   },
   "outputs": [
    {
     "name": "stdout",
     "output_type": "stream",
     "text": [
      "\n",
      "<div class=\"plotdiv\" id=\"4095a633-eecd-4c3f-bc5c-cf33f2d49846\"></div>\n"
     ]
    }
   ],
   "source": [
    "from bokeh.embed import components\n",
    "script, div = components(p2)\n",
    "\n",
    "print div\n",
    "\n",
    "f=open('p2.js', 'w')\n",
    "f.write(script)\n",
    "f.close()"
   ]
  },
  {
   "cell_type": "markdown",
   "metadata": {},
   "source": [
    "In general, the differences between the popularity of the explicit and clean version increases as songs get more popular. I suppose this makes sense, as the popularity index takes into account number of plays. \n",
    "\n",
    "The biggest discrepancy is for the most popular song, 'Ni**as in Paris.' And for that song, I can't even imagine the clean version!\n",
    "\n",
    "For the rest of this analysis, I'm going to just use the explicit versions of tracks when available. There also is a Deluxe version of one album, 'Watch the Throne'. I'll remove that one as well for now, and just stick with the regular explicit version. "
   ]
  },
  {
   "cell_type": "code",
   "execution_count": 23,
   "metadata": {
    "collapsed": false
   },
   "outputs": [],
   "source": [
    "explicit=tracks.loc[np.where((tracks['explicit']==True) & (tracks['album'].str.contains('Deluxe')==False))[0]]\n",
    "explicit.reset_index(drop=True,inplace=True)"
   ]
  },
  {
   "cell_type": "markdown",
   "metadata": {},
   "source": [
    "Now that I've trimmed all the tracks down to the explicit versions, I want to see how Kanye alone fares against Kanye and Friends. Let's see how the distribution of popularity compares for these two categories. "
   ]
  },
  {
   "cell_type": "code",
   "execution_count": 24,
   "metadata": {
    "collapsed": false
   },
   "outputs": [],
   "source": [
    "ex_hist, ex_edges = np.histogram(explicit.loc[np.where(explicit['artist_num']==1)[0],'popularity'],range=[0,100], bins=25)\n",
    "ex_center=(ex_edges[:-1]+ex_edges[1:])/2.\n",
    "## Fractional: \n",
    "#ex_hist=(ex_hist.astype(float))/float(sum(ex_hist))\n",
    "\n",
    "cl_hist, cl_edges = np.histogram(explicit.loc[np.where(explicit['artist_num']>1)[0],'popularity'],range=[0,100], bins=25)\n",
    "cl_center=(cl_edges[:-1]+cl_edges[1:])/2.\n",
    "## Fractional: \n",
    "#cl_hist=(cl_hist.astype(float))/float(sum(cl_hist))\n",
    "\n",
    "histo=pd.DataFrame()\n",
    "histo['alone']=ex_hist\n",
    "histo['ex_center']=ex_center\n",
    "histo['collaboration']=cl_hist\n",
    "histo['cl_center']=cl_center\n"
   ]
  },
  {
   "cell_type": "code",
   "execution_count": 31,
   "metadata": {
    "collapsed": false,
    "scrolled": true
   },
   "outputs": [
    {
     "name": "stdout",
     "output_type": "stream",
     "text": [
      "Average Track Popularity (Kanye Alone):  61.1818181818 +- 19.8423146715\n",
      "Average Track Popularity (with Collaborators):  56.5476190476 +- 15.8097893281\n"
     ]
    },
    {
     "data": {
      "text/html": [
       "\n",
       "    <div class=\"bk-banner\">\n",
       "        <a href=\"http://bokeh.pydata.org\" target=\"_blank\" class=\"bk-logo bk-logo-small bk-logo-notebook\"></a>\n",
       "        <span id=\"f66a943c-8148-4318-9979-2047e777141c\">Loading BokehJS ...</span>\n",
       "    </div>"
      ]
     },
     "metadata": {},
     "output_type": "display_data"
    },
    {
     "data": {
      "application/javascript": [
       "\n",
       "(function(global) {\n",
       "  function now() {\n",
       "    return new Date();\n",
       "  }\n",
       "\n",
       "  if (typeof (window._bokeh_onload_callbacks) === \"undefined\") {\n",
       "    window._bokeh_onload_callbacks = [];\n",
       "  }\n",
       "\n",
       "  function run_callbacks() {\n",
       "    window._bokeh_onload_callbacks.forEach(function(callback) { callback() });\n",
       "    delete window._bokeh_onload_callbacks\n",
       "    console.info(\"Bokeh: all callbacks have finished\");\n",
       "  }\n",
       "\n",
       "  function load_libs(js_urls, callback) {\n",
       "    window._bokeh_onload_callbacks.push(callback);\n",
       "    if (window._bokeh_is_loading > 0) {\n",
       "      console.log(\"Bokeh: BokehJS is being loaded, scheduling callback at\", now());\n",
       "      return null;\n",
       "    }\n",
       "    if (js_urls == null || js_urls.length === 0) {\n",
       "      run_callbacks();\n",
       "      return null;\n",
       "    }\n",
       "    console.log(\"Bokeh: BokehJS not loaded, scheduling load and callback at\", now());\n",
       "    window._bokeh_is_loading = js_urls.length;\n",
       "    for (var i = 0; i < js_urls.length; i++) {\n",
       "      var url = js_urls[i];\n",
       "      var s = document.createElement('script');\n",
       "      s.src = url;\n",
       "      s.async = false;\n",
       "      s.onreadystatechange = s.onload = function() {\n",
       "        window._bokeh_is_loading--;\n",
       "        if (window._bokeh_is_loading === 0) {\n",
       "          console.log(\"Bokeh: all BokehJS libraries loaded\");\n",
       "          run_callbacks()\n",
       "        }\n",
       "      };\n",
       "      s.onerror = function() {\n",
       "        console.warn(\"failed to load library \" + url);\n",
       "      };\n",
       "      console.log(\"Bokeh: injecting script tag for BokehJS library: \", url);\n",
       "      document.getElementsByTagName(\"head\")[0].appendChild(s);\n",
       "    }\n",
       "  };\n",
       "\n",
       "  var js_urls = ['https://cdn.pydata.org/bokeh/release/bokeh-0.11.1.min.js', 'https://cdn.pydata.org/bokeh/release/bokeh-widgets-0.11.1.min.js', 'https://cdn.pydata.org/bokeh/release/bokeh-compiler-0.11.1.min.js'];\n",
       "\n",
       "  var inline_js = [\n",
       "    function(Bokeh) {\n",
       "      Bokeh.set_log_level(\"info\");\n",
       "    },\n",
       "    \n",
       "    function(Bokeh) {\n",
       "      Bokeh.$(\"#f66a943c-8148-4318-9979-2047e777141c\").text(\"BokehJS successfully loaded\");\n",
       "    },\n",
       "    function(Bokeh) {\n",
       "      console.log(\"Bokeh: injecting CSS: https://cdn.pydata.org/bokeh/release/bokeh-0.11.1.min.css\");\n",
       "      Bokeh.embed.inject_css(\"https://cdn.pydata.org/bokeh/release/bokeh-0.11.1.min.css\");\n",
       "      console.log(\"Bokeh: injecting CSS: https://cdn.pydata.org/bokeh/release/bokeh-widgets-0.11.1.min.css\");\n",
       "      Bokeh.embed.inject_css(\"https://cdn.pydata.org/bokeh/release/bokeh-widgets-0.11.1.min.css\");\n",
       "    }\n",
       "  ];\n",
       "\n",
       "  function run_inline_js() {\n",
       "    for (var i = 0; i < inline_js.length; i++) {\n",
       "      inline_js[i](window.Bokeh);\n",
       "    }\n",
       "  }\n",
       "\n",
       "  if (window._bokeh_is_loading === 0) {\n",
       "    console.log(\"Bokeh: BokehJS loaded, going straight to plotting\");\n",
       "    run_inline_js();\n",
       "  } else {\n",
       "    load_libs(js_urls, function() {\n",
       "      console.log(\"Bokeh: BokehJS plotting callback run at\", now());\n",
       "      run_inline_js();\n",
       "    });\n",
       "  }\n",
       "}(this));"
      ]
     },
     "metadata": {},
     "output_type": "display_data"
    }
   ],
   "source": [
    "from bokeh.plotting import figure, show, vplot\n",
    "from bokeh.charts import Histogram,Bar, output_file, show, output_notebook\n",
    "from bokeh.charts.attributes import cat, color\n",
    "from bokeh.charts.operations import blend\n",
    "\n",
    "p = figure(width=300, height=300)\n",
    "\n",
    "p = Bar(histo, label='ex_center', \n",
    "        values=blend('alone', 'collaboration', labels_name='typer'),  \n",
    "        stack=cat(columns='typer', sort=False),\n",
    "        color=color(columns='typer', palette=['red', 'blue'], sort=False), \n",
    "        legend='top_right', xlabel='Popularity', ylabel='Number',\n",
    "        tooltips=[('number', '@typer'), ('popularity', '@ex_center')])\n",
    "\n",
    "print 'Average Track Popularity (Kanye Alone): ', np.mean(explicit.loc[np.where(explicit['artist_num']==1)[0],'popularity']), '+-', np.std(tracks.loc[np.where(tracks['artist_num']==1)[0],'popularity'])\n",
    "print 'Average Track Popularity (with Collaborators): ', np.mean(explicit.loc[np.where(explicit['artist_num']!=1)[0],'popularity']), '+-', np.std(tracks.loc[np.where(tracks['artist_num']!=1)[0],'popularity'])\n",
    "\n",
    "output_notebook()\n",
    "#show(p)"
   ]
  },
  {
   "cell_type": "code",
   "execution_count": 27,
   "metadata": {
    "collapsed": false
   },
   "outputs": [
    {
     "name": "stdout",
     "output_type": "stream",
     "text": [
      "Average Track Popularity (Kanye Alone):  61.196969697 +- 19.9641742071\n",
      "Average Track Popularity (with Collaborators):  56.5 +- 15.7944300594\n"
     ]
    },
    {
     "data": {
      "text/html": [
       "\n",
       "    <div class=\"bk-banner\">\n",
       "        <a href=\"http://bokeh.pydata.org\" target=\"_blank\" class=\"bk-logo bk-logo-small bk-logo-notebook\"></a>\n",
       "        <span id=\"4dc609bb-306d-4f57-aa3c-458377d2cac2\">Loading BokehJS ...</span>\n",
       "    </div>"
      ]
     },
     "metadata": {},
     "output_type": "display_data"
    },
    {
     "data": {
      "application/javascript": [
       "\n",
       "(function(global) {\n",
       "  function now() {\n",
       "    return new Date();\n",
       "  }\n",
       "\n",
       "  if (typeof (window._bokeh_onload_callbacks) === \"undefined\") {\n",
       "    window._bokeh_onload_callbacks = [];\n",
       "  }\n",
       "\n",
       "  function run_callbacks() {\n",
       "    window._bokeh_onload_callbacks.forEach(function(callback) { callback() });\n",
       "    delete window._bokeh_onload_callbacks\n",
       "    console.info(\"Bokeh: all callbacks have finished\");\n",
       "  }\n",
       "\n",
       "  function load_libs(js_urls, callback) {\n",
       "    window._bokeh_onload_callbacks.push(callback);\n",
       "    if (window._bokeh_is_loading > 0) {\n",
       "      console.log(\"Bokeh: BokehJS is being loaded, scheduling callback at\", now());\n",
       "      return null;\n",
       "    }\n",
       "    if (js_urls == null || js_urls.length === 0) {\n",
       "      run_callbacks();\n",
       "      return null;\n",
       "    }\n",
       "    console.log(\"Bokeh: BokehJS not loaded, scheduling load and callback at\", now());\n",
       "    window._bokeh_is_loading = js_urls.length;\n",
       "    for (var i = 0; i < js_urls.length; i++) {\n",
       "      var url = js_urls[i];\n",
       "      var s = document.createElement('script');\n",
       "      s.src = url;\n",
       "      s.async = false;\n",
       "      s.onreadystatechange = s.onload = function() {\n",
       "        window._bokeh_is_loading--;\n",
       "        if (window._bokeh_is_loading === 0) {\n",
       "          console.log(\"Bokeh: all BokehJS libraries loaded\");\n",
       "          run_callbacks()\n",
       "        }\n",
       "      };\n",
       "      s.onerror = function() {\n",
       "        console.warn(\"failed to load library \" + url);\n",
       "      };\n",
       "      console.log(\"Bokeh: injecting script tag for BokehJS library: \", url);\n",
       "      document.getElementsByTagName(\"head\")[0].appendChild(s);\n",
       "    }\n",
       "  };\n",
       "\n",
       "  var js_urls = ['https://cdn.pydata.org/bokeh/release/bokeh-0.11.1.min.js', 'https://cdn.pydata.org/bokeh/release/bokeh-widgets-0.11.1.min.js', 'https://cdn.pydata.org/bokeh/release/bokeh-compiler-0.11.1.min.js'];\n",
       "\n",
       "  var inline_js = [\n",
       "    function(Bokeh) {\n",
       "      Bokeh.set_log_level(\"info\");\n",
       "    },\n",
       "    \n",
       "    function(Bokeh) {\n",
       "      Bokeh.$(\"#4dc609bb-306d-4f57-aa3c-458377d2cac2\").text(\"BokehJS successfully loaded\");\n",
       "    },\n",
       "    function(Bokeh) {\n",
       "      console.log(\"Bokeh: injecting CSS: https://cdn.pydata.org/bokeh/release/bokeh-0.11.1.min.css\");\n",
       "      Bokeh.embed.inject_css(\"https://cdn.pydata.org/bokeh/release/bokeh-0.11.1.min.css\");\n",
       "      console.log(\"Bokeh: injecting CSS: https://cdn.pydata.org/bokeh/release/bokeh-widgets-0.11.1.min.css\");\n",
       "      Bokeh.embed.inject_css(\"https://cdn.pydata.org/bokeh/release/bokeh-widgets-0.11.1.min.css\");\n",
       "    }\n",
       "  ];\n",
       "\n",
       "  function run_inline_js() {\n",
       "    for (var i = 0; i < inline_js.length; i++) {\n",
       "      inline_js[i](window.Bokeh);\n",
       "    }\n",
       "  }\n",
       "\n",
       "  if (window._bokeh_is_loading === 0) {\n",
       "    console.log(\"Bokeh: BokehJS loaded, going straight to plotting\");\n",
       "    run_inline_js();\n",
       "  } else {\n",
       "    load_libs(js_urls, function() {\n",
       "      console.log(\"Bokeh: BokehJS plotting callback run at\", now());\n",
       "      run_inline_js();\n",
       "    });\n",
       "  }\n",
       "}(this));"
      ]
     },
     "metadata": {},
     "output_type": "display_data"
    }
   ],
   "source": [
    "from bokeh.plotting import figure, show, vplot\n",
    "from bokeh.charts import Histogram,Bar, output_file, show, output_notebook\n",
    "from bokeh.charts.attributes import cat, color\n",
    "from bokeh.charts.operations import blend\n",
    "from bokeh.models import ColumnDataSource, HoverTool, BoxZoomTool, ResetTool    \n",
    "\n",
    "p = figure(width=600, height=400)\n",
    "\n",
    "p.quad(top=ex_hist, bottom=0, left=ex_edges[:-1],right=ex_edges[1:],\\\n",
    "       fill_color=\"white\",line_color=\"red\", legend=\"Solo\")\n",
    "p.quad(top=cl_hist, bottom=0, left=cl_edges[:-1], right=cl_edges[1:],\\\n",
    "      fill_color=\"white\", line_color=\"blue\", fill_alpha=0.2, legend=\"Collaboration\")\n",
    "\n",
    "p.legend.location=\"top_right\"\n",
    "p.xaxis.axis_label=\"Popularity\"\n",
    "p.yaxis.axis_label=\"Number of Tracks\"\n",
    "\n",
    "print 'Average Track Popularity (Kanye Alone): ', np.mean(explicit.loc[np.where(explicit['artist_num']==1)[0],'popularity']), '+-', np.std(tracks.loc[np.where(tracks['artist_num']==1)[0],'popularity'])\n",
    "print 'Average Track Popularity (with Collaborators): ', np.mean(explicit.loc[np.where(explicit['artist_num']!=1)[0],'popularity']), '+-', np.std(tracks.loc[np.where(tracks['artist_num']!=1)[0],'popularity'])\n",
    "\n",
    "output_notebook()\n",
    "\n",
    "#show(p)"
   ]
  },
  {
   "cell_type": "code",
   "execution_count": 26,
   "metadata": {
    "collapsed": false
   },
   "outputs": [
    {
     "name": "stdout",
     "output_type": "stream",
     "text": [
      "\n",
      "<div class=\"plotdiv\" id=\"a4fa9f83-d641-441f-8c4d-c8624105d740\"></div>\n"
     ]
    }
   ],
   "source": [
    "from bokeh.embed import components\n",
    "script, div = components(p)\n",
    "\n",
    "print div\n",
    "\n",
    "f=open('p3.js', 'w')\n",
    "f.write(script)\n",
    "f.close()"
   ]
  },
  {
   "cell_type": "markdown",
   "metadata": {},
   "source": [
    "In general, the distributions of popularity for Kanye with and without collaborators are pretty similar, although Kanye alone is slightly more popular. "
   ]
  },
  {
   "cell_type": "markdown",
   "metadata": {},
   "source": [
    "Let's see which other musicians have the largest affect on song popularity... "
   ]
  },
  {
   "cell_type": "code",
   "execution_count": 30,
   "metadata": {
    "collapsed": false
   },
   "outputs": [],
   "source": [
    "collab_info=make_collab_list(explicit, 'Kanye West')"
   ]
  },
  {
   "cell_type": "code",
   "execution_count": 31,
   "metadata": {
    "collapsed": false
   },
   "outputs": [],
   "source": [
    "collab_info['count']=pd.Series(range(0, len(collab_info)))"
   ]
  },
  {
   "cell_type": "markdown",
   "metadata": {},
   "source": [
    "Now, I'm going to look at the mean popularity of songs for each collaborator and compare it to the popularity of Kanye alone, e.g., who drags him down and who raises him up. "
   ]
  },
  {
   "cell_type": "code",
   "execution_count": 43,
   "metadata": {
    "collapsed": false
   },
   "outputs": [
    {
     "data": {
      "text/html": [
       "<div style=\"max-height:1000px;max-width:1500px;overflow:auto;\">\n",
       "<table border=\"1\" class=\"dataframe\">\n",
       "  <thead>\n",
       "    <tr style=\"text-align: right;\">\n",
       "      <th></th>\n",
       "      <th>album</th>\n",
       "      <th>name</th>\n",
       "      <th>track_id</th>\n",
       "      <th>artist_num</th>\n",
       "      <th>popularity</th>\n",
       "      <th>explicit</th>\n",
       "      <th>artists_on_track</th>\n",
       "      <th>ed_name</th>\n",
       "      <th>pop_max</th>\n",
       "      <th>pop_diff</th>\n",
       "    </tr>\n",
       "  </thead>\n",
       "  <tbody>\n",
       "    <tr>\n",
       "      <th>65</th>\n",
       "      <td> Graduation (Explicit Version)</td>\n",
       "      <td> Homecoming</td>\n",
       "      <td> 2iaCM7WvOknQI1230hA9eK</td>\n",
       "      <td> 2</td>\n",
       "      <td> 14</td>\n",
       "      <td> True</td>\n",
       "      <td> Kanye West, Chris Martin</td>\n",
       "      <td> Homecoming</td>\n",
       "      <td> 14</td>\n",
       "      <td> 14</td>\n",
       "    </tr>\n",
       "  </tbody>\n",
       "</table>\n",
       "</div>"
      ],
      "text/plain": [
       "                            album        name                track_id  \\\n",
       "65  Graduation (Explicit Version)  Homecoming  2iaCM7WvOknQI1230hA9eK   \n",
       "\n",
       "    artist_num  popularity explicit          artists_on_track     ed_name  \\\n",
       "65           2          14     True  Kanye West, Chris Martin  Homecoming   \n",
       "\n",
       "    pop_max  pop_diff  \n",
       "65       14        14  "
      ]
     },
     "execution_count": 43,
     "metadata": {},
     "output_type": "execute_result"
    }
   ],
   "source": [
    "explicit.loc[np.where(explicit['name']=='Homecoming')[0]]"
   ]
  },
  {
   "cell_type": "code",
   "execution_count": 48,
   "metadata": {
    "collapsed": false,
    "scrolled": false
   },
   "outputs": [
    {
     "data": {
      "text/plain": [
       "<bokeh.models.renderers.GlyphRenderer at 0x1122d02d0>"
      ]
     },
     "execution_count": 48,
     "metadata": {},
     "output_type": "execute_result"
    }
   ],
   "source": [
    "from bokeh.charts import Scatter, output_file, show\n",
    "from bokeh.models import ColumnDataSource, HoverTool, BoxZoomTool, ResetTool    \n",
    "\n",
    "source = ColumnDataSource(\n",
    "        data=dict(\n",
    "            x=collab_info['count'],\n",
    "            y=collab_info['mean_pop'].astype(int),\n",
    "            person=collab_info['collaborator'].astype(object),\n",
    "        )\n",
    "    )\n",
    "\n",
    "TOOLS = [BoxZoomTool(), ResetTool(), HoverTool(tooltips=[(\"Collaborator\",\"@person\")])]\n",
    "\n",
    "kanye_mean=np.mean(explicit.loc[np.where(explicit['artist_num']==1)[0],'popularity'])\n",
    "kanye_std=np.std(explicit.loc[np.where(explicit['artist_num']==1)[0],'popularity'])\n",
    "\n",
    "collab_mean=np.mean(explicit.loc[np.where(explicit['artist_num']>1)[0],'popularity'])\n",
    "collab_std=np.std(explicit.loc[np.where(explicit['artist_num']>1)[0],'popularity'])\n",
    "\n",
    "collab_mean2=np.mean(explicit.loc[np.where((explicit['artist_num']>1) & (explicit['name']!='Homecoming'))[0],'popularity'])\n",
    "collab_std2=np.std(explicit.loc[np.where(explicit['artist_num']>1)[0],'popularity'])\n",
    "\n",
    "\n",
    "p = figure(plot_width=600, plot_height=500, tools=TOOLS)\n",
    "p.xaxis.axis_label = \"Collaborator\"\n",
    "p.yaxis.axis_label = \"Mean Popularity of Collaboration\"\n",
    "p.circle(collab_info.loc[np.where(collab_info['collaborator']=='JAY Z')[0],'count'], collab_info.loc[np.where(collab_info['collaborator']=='JAY Z')[0],'mean_pop'], size=12, color='gold')\n",
    "p.circle('x', 'y', size=7, color='black', source=source)\n",
    "p.xaxis.major_label_text_font_size = '0pt'\n",
    "\n",
    "p.line([-1,45],[kanye_mean, kanye_mean], line_width=2, color='red')\n",
    "p.line([-1,45],[(kanye_mean+kanye_std), (kanye_mean+kanye_std)], line_dash=\"4 4\", line_width=2, color='red')\n",
    "p.line([-1,45],[(kanye_mean-kanye_std), (kanye_mean-kanye_std)], line_dash=\"4 4\", line_width=2, color='red')\n",
    "\n",
    "p.line([-1,45],[collab_mean, collab_mean], line_width=2, color='blue')\n",
    "#p.line([-1,45],[collab_mean2, collab_mean2], line_width=2, color='blue', line_dash=\"4 4\")\n",
    "#p.line([-1,45],[(collab_mean+collab_std), (collab_mean+collab_std)], line_dash=\"4 4\", line_width=2, color='blue')\n",
    "#p.line([-1,45],[(collab_mean-collab_std), (collab_mean-collab_std)], line_dash=\"4 4\", line_width=2, color='blue')\n",
    "\n",
    "#show(p)"
   ]
  },
  {
   "cell_type": "code",
   "execution_count": 47,
   "metadata": {
    "collapsed": false
   },
   "outputs": [
    {
     "name": "stdout",
     "output_type": "stream",
     "text": [
      "\n",
      "<div class=\"plotdiv\" id=\"29cc6972-fa67-4afc-91d4-ab9049b59e20\"></div>\n"
     ]
    }
   ],
   "source": [
    "from bokeh.embed import components\n",
    "script, div = components(p)\n",
    "\n",
    "print div\n",
    "\n",
    "f=open('p4.js', 'w')\n",
    "f.write(script)\n",
    "f.close()"
   ]
  },
  {
   "cell_type": "markdown",
   "metadata": {},
   "source": [
    "Most of the collaborative tracks are well within the range of popularity for Kanye alone. Except for that one little guy. Which leads to the all important question: do Kanye fans hate Chris Martin?!\n",
    "\n",
    "The song 'Homecoming' is from the album 'Graduation.' "
   ]
  },
  {
   "cell_type": "code",
   "execution_count": 49,
   "metadata": {
    "collapsed": false
   },
   "outputs": [],
   "source": [
    "explicit_albums=kw_albums.loc[np.where((kw_albums['name'].str.contains('Deluxe')==False) & (kw_albums['name'].str.contains('Edited')==False))[0]]\n",
    "explicit_albums.reset_index(inplace=True, drop=True)\n",
    "explicit_albums['count']=pd.Series(range(0, len(explicit_albums)))"
   ]
  },
  {
   "cell_type": "code",
   "execution_count": 50,
   "metadata": {
    "collapsed": false
   },
   "outputs": [],
   "source": [
    "explicit_albums['year']=explicit_albums['release_date'].astype(str).str[0:4].astype(int)"
   ]
  },
  {
   "cell_type": "code",
   "execution_count": 58,
   "metadata": {
    "collapsed": false
   },
   "outputs": [
    {
     "data": {
      "text/plain": [
       "<bokeh.models.renderers.GlyphRenderer at 0x1125b9a10>"
      ]
     },
     "execution_count": 58,
     "metadata": {},
     "output_type": "execute_result"
    }
   ],
   "source": [
    "from bokeh.charts import Scatter, output_file, show\n",
    "from bokeh.models import ColumnDataSource, HoverTool, BoxZoomTool, ResetTool    \n",
    "\n",
    "source = ColumnDataSource(\n",
    "        data=dict(\n",
    "            x=explicit_albums['year'],\n",
    "            y=explicit_albums['popularity'],\n",
    "            album=explicit_albums['name'].astype(object),\n",
    "        )\n",
    "    )\n",
    "\n",
    "TOOLS = [BoxZoomTool(), ResetTool(), HoverTool(tooltips=[(\"album\",\"@album\")])]\n",
    "\n",
    "meaner=np.mean(explicit_albums['popularity'])\n",
    "stder=np.std(explicit_albums['popularity'])\n",
    "\n",
    "p = figure(plot_width=600, plot_height=500, tools=TOOLS)\n",
    "p.xaxis.axis_label = \"Album Year\"\n",
    "p.yaxis.axis_label = \"Popularity\"\n",
    "p.circle(explicit_albums.loc[5,'year'], explicit_albums.loc[5,'popularity'], size=15, color='cyan')\n",
    "p.circle('x', 'y', size=10, color='black', source=source)\n",
    "#p.xaxis.major_label_text_font_size = '0pt'\n",
    "\n",
    "p.line([2003,2017],[meaner, meaner], line_width=2, color='red')\n",
    "p.line([2003,2017],[(meaner+stder), (meaner+stder)], line_dash=\"4 4\", line_width=2, color='red')\n",
    "p.line([2003,2017],[(meaner-stder), (meaner-stder)], line_dash=\"4 4\", line_width=2, color='red')\n",
    "\n",
    "\n",
    "#show(p)"
   ]
  },
  {
   "cell_type": "code",
   "execution_count": 57,
   "metadata": {
    "collapsed": false
   },
   "outputs": [
    {
     "name": "stdout",
     "output_type": "stream",
     "text": [
      "\n",
      "<div class=\"plotdiv\" id=\"1e1f78b0-d703-46c3-b68d-5bff70b8ba96\"></div>\n"
     ]
    }
   ],
   "source": [
    "from bokeh.embed import components\n",
    "script, div = components(p)\n",
    "\n",
    "print div\n",
    "\n",
    "f=open('p5.js', 'w')\n",
    "f.write(script)\n",
    "f.close()"
   ]
  },
  {
   "cell_type": "markdown",
   "metadata": {},
   "source": [
    "Here I have marked 'Graduation' with a cyan border. As you can see , the album itself is above average in popularity. Additionally, the average is a probably skewed a bit high, as 'Life of Pablo' is a fairly new release, so is probably quite popular at the moment. "
   ]
  },
  {
   "cell_type": "code",
   "execution_count": 217,
   "metadata": {
    "collapsed": false
   },
   "outputs": [
    {
     "data": {
      "text/plain": [
       "<bokeh.models.renderers.GlyphRenderer at 0x11494bad0>"
      ]
     },
     "execution_count": 217,
     "metadata": {},
     "output_type": "execute_result"
    }
   ],
   "source": [
    "from bokeh.charts import Scatter, output_file, show\n",
    "from bokeh.models import ColumnDataSource, HoverTool, BoxZoomTool, ResetTool    \n",
    "\n",
    "source = ColumnDataSource(\n",
    "        data=dict(\n",
    "            x=explicit_albums['year'],\n",
    "            y=explicit_albums['popularity'],\n",
    "            album=explicit_albums['name'].astype(object),\n",
    "        )\n",
    "    )\n",
    "\n",
    "TOOLS = [BoxZoomTool(), ResetTool(), HoverTool(tooltips=[(\"album\",\"@album\")])]\n",
    "\n",
    "meaner=np.mean(explicit_albums['popularity'])\n",
    "stder=np.std(explicit_albums['popularity'])\n",
    "\n",
    "p = figure(plot_width=600, plot_height=500, tools=TOOLS)\n",
    "p.xaxis.axis_label = \"Release Year\"\n",
    "p.yaxis.axis_label = \"Popularity\"\n",
    "p.circle(explicit_albums.loc[5,'year'], explicit_albums.loc[5,'popularity'], size=15, color='cyan')\n",
    "p.circle('x', 'y', size=10, color='black', source=source)\n",
    "p.xaxis.major_label_text_font_size = '0pt'\n",
    "\n",
    "p.line([2000,2017],[meaner, meaner], line_width=2, color='red')\n",
    "p.line([2000,2017],[(meaner+stder), (meaner+stder)], line_dash=\"4 4\", line_width=2, color='red')\n",
    "p.line([2000,2017],[(meaner-stder), (meaner-stder)], line_dash=\"4 4\", line_width=2, color='red')\n",
    "\n",
    "\n",
    "#show(p)"
   ]
  },
  {
   "cell_type": "markdown",
   "metadata": {},
   "source": [
    "There is not a clear correlation between age of album and popularity. But 'Life of Pablo' is so recent, I'm guessing it's value is a bit biased. I mean it's good, but I'm not sure it's 2sigma good. \n",
    "\n",
    "Anyways, you can see that 'Graduation' as an album is pretty popular. So what's up with that Chris Martin collaboration?!"
   ]
  },
  {
   "cell_type": "code",
   "execution_count": 216,
   "metadata": {
    "collapsed": false
   },
   "outputs": [
    {
     "data": {
      "text/html": [
       "<div style=\"max-height:1000px;max-width:1500px;overflow:auto;\">\n",
       "<table border=\"1\" class=\"dataframe\">\n",
       "  <thead>\n",
       "    <tr style=\"text-align: right;\">\n",
       "      <th></th>\n",
       "      <th>name</th>\n",
       "      <th>id</th>\n",
       "      <th>release_date</th>\n",
       "      <th>popularity</th>\n",
       "      <th>count</th>\n",
       "      <th>year</th>\n",
       "    </tr>\n",
       "  </thead>\n",
       "  <tbody>\n",
       "    <tr>\n",
       "      <th>0</th>\n",
       "      <td>                                 The Life Of Pablo</td>\n",
       "      <td> 0WAuEfa5Lmg72xfydLVcca</td>\n",
       "      <td> 2016-04-04</td>\n",
       "      <td> 95</td>\n",
       "      <td> 0</td>\n",
       "      <td> 2016</td>\n",
       "    </tr>\n",
       "    <tr>\n",
       "      <th>1</th>\n",
       "      <td>                                            Yeezus</td>\n",
       "      <td> 7D2NdGvBHIavgLhmcwhluK</td>\n",
       "      <td> 2013-06-18</td>\n",
       "      <td> 78</td>\n",
       "      <td> 1</td>\n",
       "      <td> 2013</td>\n",
       "    </tr>\n",
       "    <tr>\n",
       "      <th>2</th>\n",
       "      <td>               Watch The Throne (Explicit Version)</td>\n",
       "      <td> 7mCeLbChyegbRwwKK5shJs</td>\n",
       "      <td> 2011-08-12</td>\n",
       "      <td> 70</td>\n",
       "      <td> 2</td>\n",
       "      <td> 2011</td>\n",
       "    </tr>\n",
       "    <tr>\n",
       "      <th>3</th>\n",
       "      <td> My Beautiful Dark Twisted Fantasy (Explicit Ve...</td>\n",
       "      <td> 20r762YmB5HeofjMCiPMLv</td>\n",
       "      <td> 2010-11-19</td>\n",
       "      <td> 81</td>\n",
       "      <td> 3</td>\n",
       "      <td> 2010</td>\n",
       "    </tr>\n",
       "    <tr>\n",
       "      <th>4</th>\n",
       "      <td>                                 808s &amp; Heartbreak</td>\n",
       "      <td> 2JK89jt4unItFroOr0kT3g</td>\n",
       "      <td> 2008-11-24</td>\n",
       "      <td> 75</td>\n",
       "      <td> 4</td>\n",
       "      <td> 2008</td>\n",
       "    </tr>\n",
       "    <tr>\n",
       "      <th>5</th>\n",
       "      <td>                     Graduation (Explicit Version)</td>\n",
       "      <td> 3SZr5Pco2oqKFORCP3WNj9</td>\n",
       "      <td> 2007-09-11</td>\n",
       "      <td> 81</td>\n",
       "      <td> 5</td>\n",
       "      <td> 2007</td>\n",
       "    </tr>\n",
       "    <tr>\n",
       "      <th>6</th>\n",
       "      <td>              Late Registration (Explicit Version)</td>\n",
       "      <td> 5ll74bqtkcXlKE7wwkMq4g</td>\n",
       "      <td> 2005-09-30</td>\n",
       "      <td> 79</td>\n",
       "      <td> 6</td>\n",
       "      <td> 2005</td>\n",
       "    </tr>\n",
       "    <tr>\n",
       "      <th>7</th>\n",
       "      <td>                    The College Dropout (Explicit)</td>\n",
       "      <td> 3ff2p3LnR6V7m6BinwhNaQ</td>\n",
       "      <td> 2004-02-13</td>\n",
       "      <td> 77</td>\n",
       "      <td> 7</td>\n",
       "      <td> 2004</td>\n",
       "    </tr>\n",
       "  </tbody>\n",
       "</table>\n",
       "</div>"
      ],
      "text/plain": [
       "                                                name                      id  \\\n",
       "0                                  The Life Of Pablo  0WAuEfa5Lmg72xfydLVcca   \n",
       "1                                             Yeezus  7D2NdGvBHIavgLhmcwhluK   \n",
       "2                Watch The Throne (Explicit Version)  7mCeLbChyegbRwwKK5shJs   \n",
       "3  My Beautiful Dark Twisted Fantasy (Explicit Ve...  20r762YmB5HeofjMCiPMLv   \n",
       "4                                  808s & Heartbreak  2JK89jt4unItFroOr0kT3g   \n",
       "5                      Graduation (Explicit Version)  3SZr5Pco2oqKFORCP3WNj9   \n",
       "6               Late Registration (Explicit Version)  5ll74bqtkcXlKE7wwkMq4g   \n",
       "7                     The College Dropout (Explicit)  3ff2p3LnR6V7m6BinwhNaQ   \n",
       "\n",
       "  release_date  popularity  count  year  \n",
       "0   2016-04-04          95      0  2016  \n",
       "1   2013-06-18          78      1  2013  \n",
       "2   2011-08-12          70      2  2011  \n",
       "3   2010-11-19          81      3  2010  \n",
       "4   2008-11-24          75      4  2008  \n",
       "5   2007-09-11          81      5  2007  \n",
       "6   2005-09-30          79      6  2005  \n",
       "7   2004-02-13          77      7  2004  "
      ]
     },
     "execution_count": 216,
     "metadata": {},
     "output_type": "execute_result"
    }
   ],
   "source": [
    "### Want to see how it did in the RIAA rankings. "
   ]
  },
  {
   "cell_type": "code",
   "execution_count": 270,
   "metadata": {
    "collapsed": false
   },
   "outputs": [],
   "source": [
    "from bs4 import BeautifulSoup\n",
    "import urllib2\n",
    "wiki = \"https://en.wikipedia.org/wiki/Kanye_West_discography#Singles\"\n",
    "header = {'User-Agent': 'Mozilla/5.0'} #Needed to prevent 403 error on Wikipedia\n",
    "req = urllib2.Request(wiki,headers=header)\n",
    "page = urllib2.urlopen(req)\n",
    "soup = BeautifulSoup(page)"
   ]
  },
  {
   "cell_type": "code",
   "execution_count": 296,
   "metadata": {
    "collapsed": false
   },
   "outputs": [],
   "source": [
    "# The list of singles is the 5th table on the wikipage\n",
    "singles = soup.findAll(\"table\", { \"class\" : \"wikitable plainrowheaders\" })[4]"
   ]
  },
  {
   "cell_type": "code",
   "execution_count": 542,
   "metadata": {
    "collapsed": false
   },
   "outputs": [],
   "source": [
    "wiki_data=pd.DataFrame()\n",
    "\n",
    "rows=singles.findAll(\"tr\")\n",
    "#Null value for billboard ranking \n",
    "nuller=(rows[12].findAll('td')[0])\n",
    "\n",
    "for i in range(2,len(rows)-1): \n",
    "    row=rows[i]\n",
    "    ## pull out song title\n",
    "    wiki_data.loc[i,'title']=row.findAll(\"th\")[0].findAll(\"a\")[0].get('title')\n",
    "    cells=row.findAll(\"td\")\n",
    "    ## pull out US chart ranking \n",
    "    \"\"\"\n",
    "    if ((cells[0]!=nuller)): \n",
    "        if ((cells[0].renderContents()>2000) & (cells[1]!=nuller)): \n",
    "            wiki_data.loc[i, 'us_rank']=int(cells[1].renderContents())\n",
    "        else if (): \n",
    "            wiki_data.loc[i, 'us_rank']=int(cells[0].renderContents())\n",
    "\n",
    "    ## pull out RIAA Rating\n",
    "    #if (len(cells)>11): \n",
    "    #    if (cells[11].li!=None): \n",
    "            temp=(unicode(cells).strip())\n",
    "            if (temp.find(u'RIAA: Gold')>-1): \n",
    "                wiki_data.loc[i,'riaa']='G'\n",
    "            if (temp.find(u'RIAA: Platinum')>-1): \n",
    "                wiki_data.loc[i,'riaa']='P'\n",
    "            if (temp.find(u'RIAA: 2x Platinum')>-1): \n",
    "                wiki_data.loc[i,'riaa']='2P'\n",
    "            if (temp.find(u'RIAA: 3x Platinum')>-1): \n",
    "                wiki_data.loc[i,'riaa']='3P'\n",
    "            if (temp.find(u'RIAA: 4x Platinum')>-1): \n",
    "                wiki_data.loc[i,'riaa']='4P'\n",
    "            if (temp.find(u'RIAA: 5x Platinum')>-1): \n",
    "                wiki_data.loc[i,'riaa']='5P'\n",
    "            if (temp.find(u'RIAA: 6x Platinum')>-1): \n",
    "                wiki_data.loc[i,'riaa']='6P'\n",
    "            if (temp.find(u'RIAA: 7x Platinum')>-1): \n",
    "                wiki_data.loc[i,'riaa']='7P'\n",
    "    \"\"\"\n"
   ]
  },
  {
   "cell_type": "code",
   "execution_count": 497,
   "metadata": {
    "collapsed": false
   },
   "outputs": [
    {
     "data": {
      "text/plain": [
       "\"\\nprint i\\nrow=rows[i]\\ncells=(row.findAll('td'))\\nprint cells[1]\\nif (cells!=test) : \\n    barf=cells[0]\\n    print 'Barf', barf\\n\""
      ]
     },
     "execution_count": 497,
     "metadata": {},
     "output_type": "execute_result"
    }
   ],
   "source": [
    "\"\"\"\n",
    "print i\n",
    "row=rows[i]\n",
    "cells=(row.findAll('td'))\n",
    "print cells[1]\n",
    "if (cells!=test) : \n",
    "    barf=cells[0]\n",
    "    print 'Barf', barf\n",
    "\"\"\""
   ]
  },
  {
   "cell_type": "code",
   "execution_count": 543,
   "metadata": {
    "collapsed": false
   },
   "outputs": [
    {
     "data": {
      "text/html": [
       "<div style=\"max-height:1000px;max-width:1500px;overflow:auto;\">\n",
       "<table border=\"1\" class=\"dataframe\">\n",
       "  <thead>\n",
       "    <tr style=\"text-align: right;\">\n",
       "      <th></th>\n",
       "      <th>title</th>\n",
       "    </tr>\n",
       "  </thead>\n",
       "  <tbody>\n",
       "    <tr>\n",
       "      <th>2 </th>\n",
       "      <td>                                  Through the Wire</td>\n",
       "    </tr>\n",
       "    <tr>\n",
       "      <th>3 </th>\n",
       "      <td>                                         Slow Jamz</td>\n",
       "    </tr>\n",
       "    <tr>\n",
       "      <th>4 </th>\n",
       "      <td>                                    All Falls Down</td>\n",
       "    </tr>\n",
       "    <tr>\n",
       "      <th>5 </th>\n",
       "      <td>                     Jesus Walks (Kanye West song)</td>\n",
       "    </tr>\n",
       "    <tr>\n",
       "      <th>6 </th>\n",
       "      <td>                              The New Workout Plan</td>\n",
       "    </tr>\n",
       "    <tr>\n",
       "      <th>7 </th>\n",
       "      <td>                        Diamonds from Sierra Leone</td>\n",
       "    </tr>\n",
       "    <tr>\n",
       "      <th>8 </th>\n",
       "      <td>                     Gold Digger (Kanye West song)</td>\n",
       "    </tr>\n",
       "    <tr>\n",
       "      <th>9 </th>\n",
       "      <td>                                     Heard 'Em Say</td>\n",
       "    </tr>\n",
       "    <tr>\n",
       "      <th>10</th>\n",
       "      <td>                   Touch the Sky (Kanye West song)</td>\n",
       "    </tr>\n",
       "    <tr>\n",
       "      <th>11</th>\n",
       "      <td>                                            Twista</td>\n",
       "    </tr>\n",
       "    <tr>\n",
       "      <th>12</th>\n",
       "      <td>                                        Drive Slow</td>\n",
       "    </tr>\n",
       "    <tr>\n",
       "      <th>13</th>\n",
       "      <td>              Classic (Better Than I've Ever Been)</td>\n",
       "    </tr>\n",
       "    <tr>\n",
       "      <th>14</th>\n",
       "      <td>                             Can't Tell Me Nothing</td>\n",
       "    </tr>\n",
       "    <tr>\n",
       "      <th>15</th>\n",
       "      <td>                        Stronger (Kanye West song)</td>\n",
       "    </tr>\n",
       "    <tr>\n",
       "      <th>16</th>\n",
       "      <td>                       Good Life (Kanye West song)</td>\n",
       "    </tr>\n",
       "    <tr>\n",
       "      <th>17</th>\n",
       "      <td>                 Flashing Lights (Kanye West song)</td>\n",
       "    </tr>\n",
       "    <tr>\n",
       "      <th>18</th>\n",
       "      <td>                      Homecoming (Kanye West song)</td>\n",
       "    </tr>\n",
       "    <tr>\n",
       "      <th>19</th>\n",
       "      <td>                                     Love Lockdown</td>\n",
       "    </tr>\n",
       "    <tr>\n",
       "      <th>20</th>\n",
       "      <td>                       Heartless (Kanye West song)</td>\n",
       "    </tr>\n",
       "    <tr>\n",
       "      <th>21</th>\n",
       "      <td>                         Amazing (Kanye West song)</td>\n",
       "    </tr>\n",
       "    <tr>\n",
       "      <th>22</th>\n",
       "      <td>                        Paranoid (Kanye West song)</td>\n",
       "    </tr>\n",
       "    <tr>\n",
       "      <th>23</th>\n",
       "      <td>                           Power (Kanye West song)</td>\n",
       "    </tr>\n",
       "    <tr>\n",
       "      <th>24</th>\n",
       "      <td>                         Monster (Kanye West song)</td>\n",
       "    </tr>\n",
       "    <tr>\n",
       "      <th>25</th>\n",
       "      <td>                         Runaway (Kanye West song)</td>\n",
       "    </tr>\n",
       "    <tr>\n",
       "      <th>26</th>\n",
       "      <td>                               Christmas in Harlem</td>\n",
       "    </tr>\n",
       "    <tr>\n",
       "      <th>27</th>\n",
       "      <td>                                             H•A•M</td>\n",
       "    </tr>\n",
       "    <tr>\n",
       "      <th>28</th>\n",
       "      <td>                                 All of the Lights</td>\n",
       "    </tr>\n",
       "    <tr>\n",
       "      <th>29</th>\n",
       "      <td>                                       Otis (song)</td>\n",
       "    </tr>\n",
       "    <tr>\n",
       "      <th>30</th>\n",
       "      <td>                                   Lift Off (song)</td>\n",
       "    </tr>\n",
       "    <tr>\n",
       "      <th>31</th>\n",
       "      <td>                                   Niggas in Paris</td>\n",
       "    </tr>\n",
       "    <tr>\n",
       "      <th>32</th>\n",
       "      <td>        Why I Love You (Jay-Z and Kanye West song)</td>\n",
       "    </tr>\n",
       "    <tr>\n",
       "      <th>33</th>\n",
       "      <td>                              Gotta Have It (song)</td>\n",
       "    </tr>\n",
       "    <tr>\n",
       "      <th>34</th>\n",
       "      <td>                             No Church in the Wild</td>\n",
       "    </tr>\n",
       "    <tr>\n",
       "      <th>35</th>\n",
       "      <td> Mercy (Kanye West, Big Sean, Pusha T and 2 Cha...</td>\n",
       "    </tr>\n",
       "    <tr>\n",
       "      <th>36</th>\n",
       "      <td>                            Cold (Kanye West song)</td>\n",
       "    </tr>\n",
       "    <tr>\n",
       "      <th>37</th>\n",
       "      <td>                                      New God Flow</td>\n",
       "    </tr>\n",
       "    <tr>\n",
       "      <th>38</th>\n",
       "      <td>                                     Clique (song)</td>\n",
       "    </tr>\n",
       "    <tr>\n",
       "      <th>39</th>\n",
       "      <td>                                    Black Skinhead</td>\n",
       "    </tr>\n",
       "    <tr>\n",
       "      <th>40</th>\n",
       "      <td>                                           Bound 2</td>\n",
       "    </tr>\n",
       "    <tr>\n",
       "      <th>41</th>\n",
       "      <td>                        Only One (Kanye West song)</td>\n",
       "    </tr>\n",
       "    <tr>\n",
       "      <th>42</th>\n",
       "      <td>                                   FourFiveSeconds</td>\n",
       "    </tr>\n",
       "    <tr>\n",
       "      <th>43</th>\n",
       "      <td>                         All Day (Kanye West song)</td>\n",
       "    </tr>\n",
       "    <tr>\n",
       "      <th>44</th>\n",
       "      <td>                          Famous (Kanye West song)</td>\n",
       "    </tr>\n",
       "  </tbody>\n",
       "</table>\n",
       "</div>"
      ],
      "text/plain": [
       "                                                title\n",
       "2                                    Through the Wire\n",
       "3                                           Slow Jamz\n",
       "4                                      All Falls Down\n",
       "5                       Jesus Walks (Kanye West song)\n",
       "6                                The New Workout Plan\n",
       "7                          Diamonds from Sierra Leone\n",
       "8                       Gold Digger (Kanye West song)\n",
       "9                                       Heard 'Em Say\n",
       "10                    Touch the Sky (Kanye West song)\n",
       "11                                             Twista\n",
       "12                                         Drive Slow\n",
       "13               Classic (Better Than I've Ever Been)\n",
       "14                              Can't Tell Me Nothing\n",
       "15                         Stronger (Kanye West song)\n",
       "16                        Good Life (Kanye West song)\n",
       "17                  Flashing Lights (Kanye West song)\n",
       "18                       Homecoming (Kanye West song)\n",
       "19                                      Love Lockdown\n",
       "20                        Heartless (Kanye West song)\n",
       "21                          Amazing (Kanye West song)\n",
       "22                         Paranoid (Kanye West song)\n",
       "23                            Power (Kanye West song)\n",
       "24                          Monster (Kanye West song)\n",
       "25                          Runaway (Kanye West song)\n",
       "26                                Christmas in Harlem\n",
       "27                                              H•A•M\n",
       "28                                  All of the Lights\n",
       "29                                        Otis (song)\n",
       "30                                    Lift Off (song)\n",
       "31                                    Niggas in Paris\n",
       "32         Why I Love You (Jay-Z and Kanye West song)\n",
       "33                               Gotta Have It (song)\n",
       "34                              No Church in the Wild\n",
       "35  Mercy (Kanye West, Big Sean, Pusha T and 2 Cha...\n",
       "36                             Cold (Kanye West song)\n",
       "37                                       New God Flow\n",
       "38                                      Clique (song)\n",
       "39                                     Black Skinhead\n",
       "40                                            Bound 2\n",
       "41                         Only One (Kanye West song)\n",
       "42                                    FourFiveSeconds\n",
       "43                          All Day (Kanye West song)\n",
       "44                           Famous (Kanye West song)"
      ]
     },
     "execution_count": 543,
     "metadata": {},
     "output_type": "execute_result"
    }
   ],
   "source": [
    "## Giving up at the moment \n",
    "[2, ], ['G', '']"
   ]
  },
  {
   "cell_type": "markdown",
   "metadata": {},
   "source": [
    "I was trying to webscrape wikipedia to see if I can compare songs on popularity and RIAA rating. Homecoming is certified Platinum. "
   ]
  },
  {
   "cell_type": "code",
   "execution_count": 546,
   "metadata": {
    "collapsed": false
   },
   "outputs": [],
   "source": [
    "explicit['count']=pd.Series(range(0, len(explicit)))"
   ]
  },
  {
   "cell_type": "code",
   "execution_count": 551,
   "metadata": {
    "collapsed": false
   },
   "outputs": [
    {
     "data": {
      "text/plain": [
       "<bokeh.models.renderers.GlyphRenderer at 0x116bd1b10>"
      ]
     },
     "execution_count": 551,
     "metadata": {},
     "output_type": "execute_result"
    }
   ],
   "source": [
    "from bokeh.charts import Scatter, output_file, show\n",
    "from bokeh.models import ColumnDataSource, HoverTool, BoxZoomTool, ResetTool    \n",
    "\n",
    "source = ColumnDataSource(\n",
    "        data=dict(\n",
    "            x=explicit['count'],\n",
    "            y=explicit['popularity'],\n",
    "            track=explicit['name'].astype(object),\n",
    "        )\n",
    "    )\n",
    "\n",
    "TOOLS = [BoxZoomTool(), ResetTool(), HoverTool(tooltips=[(\"Track\",\"@track\")])]\n",
    "\n",
    "meaner=np.mean(explicit['popularity'])\n",
    "stder=np.std(explicit['popularity'])\n",
    "\n",
    "p = figure(plot_width=600, plot_height=500, tools=TOOLS)\n",
    "p.xaxis.axis_label = \"track\"\n",
    "p.yaxis.axis_label = \"Popularity\"\n",
    "p.circle(explicit.loc[np.where(explicit['name']=='Homecoming')[0],'count'], explicit.loc[np.where(explicit['name']=='Homecoming')[0],'popularity'], size=15, color='cyan')\n",
    "p.circle('x', 'y', size=10, color='black', source=source)\n",
    "p.xaxis.major_label_text_font_size = '0pt'\n",
    "\n",
    "p.line([-1,10],[meaner, meaner], line_width=2, color='red')\n",
    "p.line([-1,10],[(meaner+stder), (meaner+stder)], line_dash=\"4 4\", line_width=2, color='red')\n",
    "p.line([-1,10],[(meaner-stder), (meaner-stder)], line_dash=\"4 4\", line_width=2, color='red')\n",
    "\n",
    "\n",
    "#show(p)"
   ]
  },
  {
   "cell_type": "markdown",
   "metadata": {},
   "source": [
    "Kanye brags that Jay Z followed his lead by putting Chris Martin on a track (Kingdom Come, Beach Chair). Is this track similarly reviled? "
   ]
  },
  {
   "cell_type": "code",
   "execution_count": 6,
   "metadata": {
    "collapsed": false
   },
   "outputs": [
    {
     "name": "stdout",
     "output_type": "stream",
     "text": [
      "Querying Album Tracks\n",
      "0\n",
      "20\n",
      "40\n",
      "60\n",
      "80\n",
      "100\n",
      "120\n",
      "140\n",
      "160\n",
      "180\n",
      "200\n",
      "220\n",
      "240\n",
      "260\n"
     ]
    }
   ],
   "source": [
    "jz_albums=fetch_albums('JAY Z') \n",
    "jz_tracks=fetch_tracks(jz_albums)\n",
    "jz_explicit=jz_tracks.loc[np.where((jz_tracks['explicit']==True) & (jz_tracks['album'].str.contains('Deluxe')==False) &\\\n",
    "                                   (jz_tracks['album'].str.contains('Acappella')==False))[0]]\n",
    "jz_explicit.reset_index(drop=True,inplace=True)"
   ]
  },
  {
   "cell_type": "code",
   "execution_count": 18,
   "metadata": {
    "collapsed": false,
    "scrolled": true
   },
   "outputs": [
    {
     "ename": "NameError",
     "evalue": "name 'jz_explicit' is not defined",
     "output_type": "error",
     "traceback": [
      "\u001b[0;31m---------------------------------------------------------------------------\u001b[0m",
      "\u001b[0;31mNameError\u001b[0m                                 Traceback (most recent call last)",
      "\u001b[0;32m<ipython-input-18-68dab92413dc>\u001b[0m in \u001b[0;36m<module>\u001b[0;34m()\u001b[0m\n\u001b[1;32m      6\u001b[0m \u001b[0;32mfrom\u001b[0m \u001b[0mbokeh\u001b[0m\u001b[0;34m.\u001b[0m\u001b[0mcharts\u001b[0m \u001b[0;32mimport\u001b[0m \u001b[0mScatter\u001b[0m\u001b[0;34m,\u001b[0m \u001b[0moutput_file\u001b[0m\u001b[0;34m,\u001b[0m \u001b[0mshow\u001b[0m\u001b[0;34m\u001b[0m\u001b[0m\n\u001b[1;32m      7\u001b[0m \u001b[0;34m\u001b[0m\u001b[0m\n\u001b[0;32m----> 8\u001b[0;31m \u001b[0mjz_explicit\u001b[0m\u001b[0;34m[\u001b[0m\u001b[0;34m'count'\u001b[0m\u001b[0;34m]\u001b[0m\u001b[0;34m=\u001b[0m\u001b[0mpd\u001b[0m\u001b[0;34m.\u001b[0m\u001b[0mSeries\u001b[0m\u001b[0;34m(\u001b[0m\u001b[0mrange\u001b[0m\u001b[0;34m(\u001b[0m\u001b[0;36m0\u001b[0m\u001b[0;34m,\u001b[0m \u001b[0mlen\u001b[0m\u001b[0;34m(\u001b[0m\u001b[0mjz_explicit\u001b[0m\u001b[0;34m)\u001b[0m\u001b[0;34m)\u001b[0m\u001b[0;34m)\u001b[0m\u001b[0;34m\u001b[0m\u001b[0m\n\u001b[0m\u001b[1;32m      9\u001b[0m \u001b[0;34m\u001b[0m\u001b[0m\n\u001b[1;32m     10\u001b[0m source = ColumnDataSource(\n",
      "\u001b[0;31mNameError\u001b[0m: name 'jz_explicit' is not defined"
     ]
    }
   ],
   "source": [
    "from bokeh.plotting import figure, show, vplot\n",
    "from bokeh.charts import Histogram,Bar, output_file, show, output_notebook\n",
    "from bokeh.charts.attributes import cat, color\n",
    "from bokeh.charts.operations import blend\n",
    "from bokeh.models import ColumnDataSource, HoverTool, BoxZoomTool, ResetTool    \n",
    "from bokeh.charts import Scatter, output_file, show \n",
    "\n",
    "jz_explicit['count']=pd.Series(range(0, len(jz_explicit)))\n",
    "\n",
    "source = ColumnDataSource(\n",
    "        data=dict(\n",
    "            x=jz_explicit['count'],\n",
    "            y=jz_explicit['popularity'],\n",
    "            track=jz_explicit['name'].astype(object),\n",
    "            album=jz_explicit['album'].astype(str),\n",
    "        )\n",
    "    )\n",
    "\n",
    "TOOLS = [BoxZoomTool(), ResetTool(), HoverTool(tooltips=[(\"Track\",\"@track\"),(\"album\",\"@album\")])]\n",
    "\n",
    "colormap = {'American Gangster (Explicit Version)': 'red', 'Kingdom Come': 'green',\\\n",
    "            'Magna Carta... Holy Grail (Explicit Version)': 'blue', \\\n",
    "           'The Best Of Both Worlds (Explicit Version)': 'purple', \\\n",
    "            'The Black Album (Explicit)': 'cyan',\\\n",
    "            'Unfinished Business (Explicit)' : 'black', \\\n",
    "            'Watch The Throne (Explicit Version)' : 'orange'}\n",
    "jz_explicit['color'] = jz_explicit['album'].map(lambda x: colormap[x])\n",
    "\n",
    "\n",
    "meaner=np.mean(jz_explicit['popularity'])\n",
    "stder=np.std(jz_explicit['popularity'])\n",
    "\n",
    "p3 = figure(plot_width=600, plot_height=500, tools=TOOLS)\n",
    "p3.xaxis.axis_label = \"track\"\n",
    "p3.yaxis.axis_label = \"Popularity\"\n",
    "p3.circle(jz_explicit.loc[np.where(jz_explicit['name']=='Beach Chair')[0],'count'], jz_explicit.loc[np.where(jz_explicit['name']=='Beach Chair')[0],'popularity'], size=12, color='gold')\n",
    "p3.circle('x', 'y', size=7,fill_alpha=0.4, color=jz_explicit['color'], source=source)\n",
    "p3.xaxis.major_label_text_font_size = '0pt'\n",
    "\n",
    "p3.line([-1,130],[meaner, meaner], line_width=2, color='black')\n",
    "p3.line([-1,130],[(meaner+stder), (meaner+stder)], line_dash=\"4 4\", line_width=2, color='black')\n",
    "p3.line([-1,130],[(meaner-stder), (meaner-stder)], line_dash=\"4 4\", line_width=2, color='black')\n",
    "\n",
    "output_notebook()\n",
    "\n",
    "#show(p3)"
   ]
  },
  {
   "cell_type": "markdown",
   "metadata": {},
   "source": [
    "Nope! 'Beach Chair' is actually a bit more popular than average for Jay Z. And just a note, apparently people don't like it when Hova goes a cappella..."
   ]
  },
  {
   "cell_type": "code",
   "execution_count": 11,
   "metadata": {
    "collapsed": false
   },
   "outputs": [
    {
     "name": "stdout",
     "output_type": "stream",
     "text": [
      "\n",
      "<div class=\"plotdiv\" id=\"03f65ad1-67b7-4331-9d13-221490ea76f1\"></div>\n"
     ]
    }
   ],
   "source": [
    "from bokeh.embed import components\n",
    "script, div = components(p3)\n",
    "\n",
    "print div\n",
    "\n",
    "f=open('p7.js', 'w')\n",
    "f.write(script)\n",
    "f.close()"
   ]
  },
  {
   "cell_type": "code",
   "execution_count": 11,
   "metadata": {
    "collapsed": true
   },
   "outputs": [],
   "source": [
    "# Artists that have the largest positive affect on Kanye tracks: Jamie Foxx, T-Pain, Nicki Minaj, Syleena Johnson (but no collabs)\n",
    "# Artists with largest negative affect on Kanye tracks: Chris Martin, Brandy, The Game, Ludacris, Freeway\n",
    "other_artists=pd.DataFrame()\n",
    "other_artists['name']=['Jamie Foxx', 'T-Pain', 'Nicki Minaj', 'Brandy', 'The Game', 'Ludacris', 'Freeway']\n",
    "other_artists['solo_pop']=np.nan\n",
    "other_artists['kanye_pop']=np.nan\n",
    "other_artists['kanye_num']=np.nan"
   ]
  },
  {
   "cell_type": "code",
   "execution_count": 16,
   "metadata": {
    "collapsed": false
   },
   "outputs": [
    {
     "name": "stdout",
     "output_type": "stream",
     "text": [
      "Querying Album Tracks\n",
      "0\n",
      "20\n",
      "40\n",
      "60\n",
      "80\n",
      "100\n",
      "120\n",
      "140\n",
      "160\n",
      "Querying Album Tracks\n",
      "0\n",
      "20\n",
      "40\n",
      "60\n",
      "80\n",
      "100\n",
      "120\n",
      "140\n",
      "160\n",
      "180\n",
      "200\n",
      "220\n",
      "240\n",
      "260\n",
      "280\n",
      "300\n",
      "320\n",
      "340\n",
      "360\n",
      "380\n",
      "Querying Album Tracks\n",
      "0\n",
      "20\n",
      "40\n",
      "60\n",
      "80\n",
      "100\n",
      "120\n",
      "140\n",
      "160\n",
      "180\n",
      "200\n",
      "220\n",
      "240\n",
      "260\n",
      "280\n",
      "300\n",
      "Querying Album Tracks\n",
      "0\n",
      "20\n",
      "40\n",
      "60\n",
      "80\n",
      "100\n",
      "120\n",
      "140\n",
      "160\n",
      "180\n",
      "200\n",
      "220\n",
      "240\n"
     ]
    }
   ],
   "source": [
    "for i in range(4,len(other_artists)): \n",
    "    temp_albums=fetch_albums(other_artists.loc[i,'name']) \n",
    "    temp_tracks=fetch_tracks(temp_albums)\n",
    "    \n",
    "    temp_kanye=temp_tracks.loc[np.where(temp_tracks['artists_on_track'].str.contains('Kanye West')==True)[0]]\n",
    "    temp_alone=temp_tracks.loc[np.where(temp_tracks['artist_num']==1)[0]]\n",
    "    \n",
    "    other_artists.loc[i,'solo_pop']=temp_alone['popularity'].mean()\n",
    "    other_artists.loc[i,'kanye_pop']=temp_kanye['popularity'].mean()\n",
    "    other_artists.loc[i,'kanye_num']=len(temp_kanye)"
   ]
  },
  {
   "cell_type": "code",
   "execution_count": 17,
   "metadata": {
    "collapsed": false
   },
   "outputs": [
    {
     "data": {
      "text/html": [
       "<div style=\"max-height:1000px;max-width:1500px;overflow:auto;\">\n",
       "<table border=\"1\" class=\"dataframe\">\n",
       "  <thead>\n",
       "    <tr style=\"text-align: right;\">\n",
       "      <th></th>\n",
       "      <th>name</th>\n",
       "      <th>solo_pop</th>\n",
       "      <th>kanye_pop</th>\n",
       "      <th>kanye_num</th>\n",
       "    </tr>\n",
       "  </thead>\n",
       "  <tbody>\n",
       "    <tr>\n",
       "      <th>0</th>\n",
       "      <td>   Jamie Foxx</td>\n",
       "      <td> 25.409639</td>\n",
       "      <td> 26.750000</td>\n",
       "      <td>  4</td>\n",
       "    </tr>\n",
       "    <tr>\n",
       "      <th>1</th>\n",
       "      <td>       T-Pain</td>\n",
       "      <td> 18.983471</td>\n",
       "      <td> 19.500000</td>\n",
       "      <td>  4</td>\n",
       "    </tr>\n",
       "    <tr>\n",
       "      <th>2</th>\n",
       "      <td>  Nicki Minaj</td>\n",
       "      <td> 35.902439</td>\n",
       "      <td> 30.800000</td>\n",
       "      <td>  5</td>\n",
       "    </tr>\n",
       "    <tr>\n",
       "      <th>3</th>\n",
       "      <td> Chris Martin</td>\n",
       "      <td>       NaN</td>\n",
       "      <td>       NaN</td>\n",
       "      <td>NaN</td>\n",
       "    </tr>\n",
       "    <tr>\n",
       "      <th>4</th>\n",
       "      <td>       Brandy</td>\n",
       "      <td> 25.061644</td>\n",
       "      <td> 28.333333</td>\n",
       "      <td>  3</td>\n",
       "    </tr>\n",
       "    <tr>\n",
       "      <th>5</th>\n",
       "      <td>     The Game</td>\n",
       "      <td> 22.820312</td>\n",
       "      <td> 37.666667</td>\n",
       "      <td>  3</td>\n",
       "    </tr>\n",
       "    <tr>\n",
       "      <th>6</th>\n",
       "      <td>     Ludacris</td>\n",
       "      <td> 24.944444</td>\n",
       "      <td>       NaN</td>\n",
       "      <td>  0</td>\n",
       "    </tr>\n",
       "    <tr>\n",
       "      <th>7</th>\n",
       "      <td>      Freeway</td>\n",
       "      <td>  5.895161</td>\n",
       "      <td>       NaN</td>\n",
       "      <td>  0</td>\n",
       "    </tr>\n",
       "  </tbody>\n",
       "</table>\n",
       "</div>"
      ],
      "text/plain": [
       "           name   solo_pop  kanye_pop  kanye_num\n",
       "0    Jamie Foxx  25.409639  26.750000          4\n",
       "1        T-Pain  18.983471  19.500000          4\n",
       "2   Nicki Minaj  35.902439  30.800000          5\n",
       "3  Chris Martin        NaN        NaN        NaN\n",
       "4        Brandy  25.061644  28.333333          3\n",
       "5      The Game  22.820312  37.666667          3\n",
       "6      Ludacris  24.944444        NaN          0\n",
       "7       Freeway   5.895161        NaN          0"
      ]
     },
     "execution_count": 17,
     "metadata": {},
     "output_type": "execute_result"
    }
   ],
   "source": [
    "other_artists"
   ]
  },
  {
   "cell_type": "code",
   "execution_count": 35,
   "metadata": {
    "collapsed": false
   },
   "outputs": [
    {
     "data": {
      "text/html": [
       "\n",
       "    <div class=\"bk-banner\">\n",
       "        <a href=\"http://bokeh.pydata.org\" target=\"_blank\" class=\"bk-logo bk-logo-small bk-logo-notebook\"></a>\n",
       "        <span id=\"a64279a9-20ab-42e3-a85e-5489020e1f36\">Loading BokehJS ...</span>\n",
       "    </div>"
      ]
     },
     "metadata": {},
     "output_type": "display_data"
    },
    {
     "data": {
      "application/javascript": [
       "\n",
       "(function(global) {\n",
       "  function now() {\n",
       "    return new Date();\n",
       "  }\n",
       "\n",
       "  if (typeof (window._bokeh_onload_callbacks) === \"undefined\") {\n",
       "    window._bokeh_onload_callbacks = [];\n",
       "  }\n",
       "\n",
       "  function run_callbacks() {\n",
       "    window._bokeh_onload_callbacks.forEach(function(callback) { callback() });\n",
       "    delete window._bokeh_onload_callbacks\n",
       "    console.info(\"Bokeh: all callbacks have finished\");\n",
       "  }\n",
       "\n",
       "  function load_libs(js_urls, callback) {\n",
       "    window._bokeh_onload_callbacks.push(callback);\n",
       "    if (window._bokeh_is_loading > 0) {\n",
       "      console.log(\"Bokeh: BokehJS is being loaded, scheduling callback at\", now());\n",
       "      return null;\n",
       "    }\n",
       "    if (js_urls == null || js_urls.length === 0) {\n",
       "      run_callbacks();\n",
       "      return null;\n",
       "    }\n",
       "    console.log(\"Bokeh: BokehJS not loaded, scheduling load and callback at\", now());\n",
       "    window._bokeh_is_loading = js_urls.length;\n",
       "    for (var i = 0; i < js_urls.length; i++) {\n",
       "      var url = js_urls[i];\n",
       "      var s = document.createElement('script');\n",
       "      s.src = url;\n",
       "      s.async = false;\n",
       "      s.onreadystatechange = s.onload = function() {\n",
       "        window._bokeh_is_loading--;\n",
       "        if (window._bokeh_is_loading === 0) {\n",
       "          console.log(\"Bokeh: all BokehJS libraries loaded\");\n",
       "          run_callbacks()\n",
       "        }\n",
       "      };\n",
       "      s.onerror = function() {\n",
       "        console.warn(\"failed to load library \" + url);\n",
       "      };\n",
       "      console.log(\"Bokeh: injecting script tag for BokehJS library: \", url);\n",
       "      document.getElementsByTagName(\"head\")[0].appendChild(s);\n",
       "    }\n",
       "  };\n",
       "\n",
       "  var js_urls = ['https://cdn.pydata.org/bokeh/release/bokeh-0.11.1.min.js', 'https://cdn.pydata.org/bokeh/release/bokeh-widgets-0.11.1.min.js', 'https://cdn.pydata.org/bokeh/release/bokeh-compiler-0.11.1.min.js'];\n",
       "\n",
       "  var inline_js = [\n",
       "    function(Bokeh) {\n",
       "      Bokeh.set_log_level(\"info\");\n",
       "    },\n",
       "    \n",
       "    function(Bokeh) {\n",
       "      Bokeh.$(\"#a64279a9-20ab-42e3-a85e-5489020e1f36\").text(\"BokehJS successfully loaded\");\n",
       "    },\n",
       "    function(Bokeh) {\n",
       "      console.log(\"Bokeh: injecting CSS: https://cdn.pydata.org/bokeh/release/bokeh-0.11.1.min.css\");\n",
       "      Bokeh.embed.inject_css(\"https://cdn.pydata.org/bokeh/release/bokeh-0.11.1.min.css\");\n",
       "      console.log(\"Bokeh: injecting CSS: https://cdn.pydata.org/bokeh/release/bokeh-widgets-0.11.1.min.css\");\n",
       "      Bokeh.embed.inject_css(\"https://cdn.pydata.org/bokeh/release/bokeh-widgets-0.11.1.min.css\");\n",
       "    }\n",
       "  ];\n",
       "\n",
       "  function run_inline_js() {\n",
       "    for (var i = 0; i < inline_js.length; i++) {\n",
       "      inline_js[i](window.Bokeh);\n",
       "    }\n",
       "  }\n",
       "\n",
       "  if (window._bokeh_is_loading === 0) {\n",
       "    console.log(\"Bokeh: BokehJS loaded, going straight to plotting\");\n",
       "    run_inline_js();\n",
       "  } else {\n",
       "    load_libs(js_urls, function() {\n",
       "      console.log(\"Bokeh: BokehJS plotting callback run at\", now());\n",
       "      run_inline_js();\n",
       "    });\n",
       "  }\n",
       "}(this));"
      ]
     },
     "metadata": {},
     "output_type": "display_data"
    },
    {
     "data": {
      "text/html": [
       "\n",
       "\n",
       "    <div class=\"plotdiv\" id=\"7dcc2b8b-3ff8-4ac2-ae13-ad4996626e05\"></div>\n",
       "<script type=\"text/javascript\">\n",
       "  \n",
       "  (function(global) {\n",
       "    function now() {\n",
       "      return new Date();\n",
       "    }\n",
       "  \n",
       "    if (typeof (window._bokeh_onload_callbacks) === \"undefined\") {\n",
       "      window._bokeh_onload_callbacks = [];\n",
       "    }\n",
       "  \n",
       "    function run_callbacks() {\n",
       "      window._bokeh_onload_callbacks.forEach(function(callback) { callback() });\n",
       "      delete window._bokeh_onload_callbacks\n",
       "      console.info(\"Bokeh: all callbacks have finished\");\n",
       "    }\n",
       "  \n",
       "    function load_libs(js_urls, callback) {\n",
       "      window._bokeh_onload_callbacks.push(callback);\n",
       "      if (window._bokeh_is_loading > 0) {\n",
       "        console.log(\"Bokeh: BokehJS is being loaded, scheduling callback at\", now());\n",
       "        return null;\n",
       "      }\n",
       "      if (js_urls == null || js_urls.length === 0) {\n",
       "        run_callbacks();\n",
       "        return null;\n",
       "      }\n",
       "      console.log(\"Bokeh: BokehJS not loaded, scheduling load and callback at\", now());\n",
       "      window._bokeh_is_loading = js_urls.length;\n",
       "      for (var i = 0; i < js_urls.length; i++) {\n",
       "        var url = js_urls[i];\n",
       "        var s = document.createElement('script');\n",
       "        s.src = url;\n",
       "        s.async = false;\n",
       "        s.onreadystatechange = s.onload = function() {\n",
       "          window._bokeh_is_loading--;\n",
       "          if (window._bokeh_is_loading === 0) {\n",
       "            console.log(\"Bokeh: all BokehJS libraries loaded\");\n",
       "            run_callbacks()\n",
       "          }\n",
       "        };\n",
       "        s.onerror = function() {\n",
       "          console.warn(\"failed to load library \" + url);\n",
       "        };\n",
       "        console.log(\"Bokeh: injecting script tag for BokehJS library: \", url);\n",
       "        document.getElementsByTagName(\"head\")[0].appendChild(s);\n",
       "      }\n",
       "    };var element = document.getElementById(\"7dcc2b8b-3ff8-4ac2-ae13-ad4996626e05\");\n",
       "    if (element == null) {\n",
       "      console.log(\"Bokeh: ERROR: autoload.js configured with elementid '7dcc2b8b-3ff8-4ac2-ae13-ad4996626e05' but no matching script tag was found. \")\n",
       "      return false;\n",
       "    }\n",
       "  \n",
       "    var js_urls = [];\n",
       "  \n",
       "    var inline_js = [\n",
       "      function(Bokeh) {\n",
       "        Bokeh.$(function() {\n",
       "            var docs_json = {\"7fbad75e-1947-4b98-bc00-0f90e7d91ca2\":{\"roots\":{\"references\":[{\"attributes\":{\"below\":[{\"id\":\"a08fd6d1-8804-4972-886e-4610e50b54fe\",\"type\":\"LinearAxis\"}],\"left\":[{\"id\":\"655ff762-7fbf-42f0-a361-9e58631dcb91\",\"type\":\"LinearAxis\"}],\"plot_height\":500,\"renderers\":[{\"id\":\"a08fd6d1-8804-4972-886e-4610e50b54fe\",\"type\":\"LinearAxis\"},{\"id\":\"9158d1e3-ccf4-4902-a832-6425bc08e3be\",\"type\":\"Grid\"},{\"id\":\"655ff762-7fbf-42f0-a361-9e58631dcb91\",\"type\":\"LinearAxis\"},{\"id\":\"28534387-0836-4320-95cd-e46066dde082\",\"type\":\"Grid\"},{\"id\":\"aadc548b-d31b-42b9-af87-7740bbb56164\",\"type\":\"BoxAnnotation\"},{\"id\":\"189dec03-3fbe-4e56-8ae3-d1bb76b28e47\",\"type\":\"GlyphRenderer\"}],\"tool_events\":{\"id\":\"78933b45-6aeb-4b43-ad73-cb75c027d3c1\",\"type\":\"ToolEvents\"},\"tools\":[{\"id\":\"b14b4a4a-6696-4daf-937c-9e85fd6382e0\",\"type\":\"BoxZoomTool\"},{\"id\":\"e41c760d-8dfa-46e4-a26f-8d78a85baa6c\",\"type\":\"ResetTool\"},{\"id\":\"4500b645-7623-4d36-b664-5d55d83b4ae7\",\"type\":\"HoverTool\"}],\"x_range\":{\"id\":\"1a269a2b-8fee-4b30-afe4-fd8ce8cd2b7b\",\"type\":\"DataRange1d\"},\"y_range\":{\"id\":\"e3a36d54-151b-4bf1-b6ec-da083016a5ae\",\"type\":\"DataRange1d\"}},\"id\":\"bc33107e-aba8-4089-9a78-6fe316ed070a\",\"subtype\":\"Figure\",\"type\":\"Plot\"},{\"attributes\":{\"plot\":{\"id\":\"465ea307-fd56-4097-b766-a39707ca5496\",\"subtype\":\"Figure\",\"type\":\"Plot\"}},\"id\":\"d3d5e184-6019-4d92-99ee-ec4119e1d6d6\",\"type\":\"ResetTool\"},{\"attributes\":{\"line_alpha\":{\"value\":0.1},\"line_color\":{\"value\":\"#1f77b4\"},\"line_dash\":[4,4],\"line_width\":{\"value\":2},\"x\":{\"field\":\"x\"},\"y\":{\"field\":\"y\"}},\"id\":\"58a4146b-0bf2-4493-956b-fe99a4627ab6\",\"type\":\"Line\"},{\"attributes\":{\"bottom_units\":\"screen\",\"fill_alpha\":{\"value\":0.5},\"fill_color\":{\"value\":\"lightgrey\"},\"left_units\":\"screen\",\"level\":\"overlay\",\"line_alpha\":{\"value\":1.0},\"line_color\":{\"value\":\"black\"},\"line_dash\":[4,4],\"line_width\":{\"value\":2},\"plot\":null,\"render_mode\":\"css\",\"right_units\":\"screen\",\"top_units\":\"screen\"},\"id\":\"9c0e4044-0075-4bab-93cd-2135d0fbf321\",\"type\":\"BoxAnnotation\"},{\"attributes\":{\"below\":[{\"id\":\"ef76f36c-76ec-4c5c-891b-52cb43228d47\",\"type\":\"LinearAxis\"}],\"left\":[{\"id\":\"a0720abc-ef21-4024-94a4-78cfbee20078\",\"type\":\"LinearAxis\"}],\"plot_height\":500,\"renderers\":[{\"id\":\"ef76f36c-76ec-4c5c-891b-52cb43228d47\",\"type\":\"LinearAxis\"},{\"id\":\"0516b4b0-0e0c-4fa0-841a-126ae940d625\",\"type\":\"Grid\"},{\"id\":\"a0720abc-ef21-4024-94a4-78cfbee20078\",\"type\":\"LinearAxis\"},{\"id\":\"17e24659-9a74-48e3-8a87-a3784407fcd9\",\"type\":\"Grid\"},{\"id\":\"61c4ba21-a8cd-4fba-afce-332f48a5dde7\",\"type\":\"BoxAnnotation\"},{\"id\":\"54ea1f3a-b38f-4d5d-b5a5-ad840f34e8b5\",\"type\":\"GlyphRenderer\"},{\"id\":\"3fb57330-b033-4ac9-b4a1-eed54e3d4c7e\",\"type\":\"GlyphRenderer\"},{\"id\":\"8f2cff59-9831-4614-9d8a-1373ea9b93bd\",\"type\":\"GlyphRenderer\"}],\"tool_events\":{\"id\":\"dedb3376-8ac0-40d7-868b-5d065da72feb\",\"type\":\"ToolEvents\"},\"tools\":[{\"id\":\"3c5d9ad8-e4e1-47b7-877a-b9ea4299d88f\",\"type\":\"BoxZoomTool\"},{\"id\":\"fdcd262b-16b4-42cf-b472-81dc1553c12e\",\"type\":\"ResetTool\"},{\"id\":\"68c2efca-99c3-4e53-b05c-675451f7d390\",\"type\":\"HoverTool\"}],\"x_range\":{\"id\":\"ccbb9104-18e6-4702-9b16-209d647c07f6\",\"type\":\"DataRange1d\"},\"y_range\":{\"id\":\"bb3838a2-e6ba-458c-8dc3-1a1985b03403\",\"type\":\"DataRange1d\"}},\"id\":\"47971771-53df-4b38-b60c-bad39f5e84b5\",\"subtype\":\"Figure\",\"type\":\"Plot\"},{\"attributes\":{\"overlay\":{\"id\":\"6b8cc7e2-c49f-419b-81df-3cbfb0d430fc\",\"type\":\"BoxAnnotation\"},\"plot\":{\"id\":\"42b26200-b7f4-471b-9e6d-e6c695170799\",\"subtype\":\"Figure\",\"type\":\"Plot\"}},\"id\":\"c0db36a3-d013-43d5-9a23-edd7d42c08ff\",\"type\":\"BoxZoomTool\"},{\"attributes\":{\"fill_alpha\":{\"value\":0.1},\"fill_color\":{\"value\":\"#1f77b4\"},\"line_alpha\":{\"value\":0.1},\"line_color\":{\"value\":\"#1f77b4\"},\"size\":{\"units\":\"screen\",\"value\":7},\"x\":{\"field\":\"x\"},\"y\":{\"field\":\"y\"}},\"id\":\"e8f2fa54-9585-46d6-9615-0039a72a55ee\",\"type\":\"Circle\"},{\"attributes\":{},\"id\":\"f1ba9f9d-6013-4ae8-a0aa-78552d44130b\",\"type\":\"ToolEvents\"},{\"attributes\":{\"dimension\":1,\"plot\":{\"id\":\"c408c193-dbd0-4238-9e09-8cca6f1bc118\",\"subtype\":\"Figure\",\"type\":\"Plot\"},\"ticker\":{\"id\":\"529ec1a2-de70-473a-96c8-1fb28853411c\",\"type\":\"BasicTicker\"}},\"id\":\"edadf3dd-e2c8-4237-ad4a-f2e47a59a42d\",\"type\":\"Grid\"},{\"attributes\":{\"axis_label\":\"Solo Popularity\",\"formatter\":{\"id\":\"f7ce38a0-c984-41c0-9fef-b4ffd0ec6760\",\"type\":\"BasicTickFormatter\"},\"plot\":{\"id\":\"7f392cca-c8ef-45a1-b061-b8211c4efb49\",\"subtype\":\"Figure\",\"type\":\"Plot\"},\"ticker\":{\"id\":\"cdad5081-821c-422e-a366-fe4b88b38c38\",\"type\":\"BasicTicker\"}},\"id\":\"97b5f9ab-4917-4fd0-acef-f324b2998f4a\",\"type\":\"LinearAxis\"},{\"attributes\":{},\"id\":\"a898ee4b-fe93-4e98-a20f-d9402a8a658e\",\"type\":\"BasicTicker\"},{\"attributes\":{\"axis_label\":\"Popularity with Kanye West\",\"formatter\":{\"id\":\"df1bb289-664a-4f08-8c5c-c9c8b95400c0\",\"type\":\"BasicTickFormatter\"},\"plot\":{\"id\":\"0fe05308-cf4a-4426-879c-471e75c969f5\",\"subtype\":\"Figure\",\"type\":\"Plot\"},\"ticker\":{\"id\":\"5de7bc3b-ed82-4358-8515-d1e486401b24\",\"type\":\"BasicTicker\"}},\"id\":\"a594a4d0-e49f-4a4a-8f9c-59a5e1d25a48\",\"type\":\"LinearAxis\"},{\"attributes\":{},\"id\":\"5aeb28b3-98dc-4a41-a456-78d098d5e70f\",\"type\":\"BasicTickFormatter\"},{\"attributes\":{\"callback\":null,\"column_names\":[\"y\",\"x\",\"collab_num\",\"artist\"],\"data\":{\"artist\":[\"Jamie Foxx\",\"T-Pain\",\"Nicki Minaj\",\"Chris Martin\",\"Brandy\",\"The Game\",\"Ludacris\",\"Freeway\"],\"collab_num\":[\"4.0\",\"4.0\",\"5.0\",\"nan\",\"3.0\",\"3.0\",\"0.0\",\"0.0\"],\"x\":[25.40963855421687,18.983471074380166,35.90243902439025,\"NaN\",25.061643835616437,22.8203125,24.944444444444443,5.895161290322581],\"y\":[26.75,19.5,30.8,\"NaN\",28.333333333333332,37.666666666666664,\"NaN\",\"NaN\"]}},\"id\":\"e2c7be56-b59c-475e-9632-593a2868d799\",\"type\":\"ColumnDataSource\"},{\"attributes\":{},\"id\":\"3af64c11-47e0-43db-a7c2-e7b03359c9d4\",\"type\":\"BasicTicker\"},{\"attributes\":{\"data_source\":{\"id\":\"2edd8c95-683b-47e4-8269-c4a8cf03cfae\",\"type\":\"ColumnDataSource\"},\"glyph\":{\"id\":\"b1eab63b-2bda-4ee7-8b04-35dd148f6ed6\",\"type\":\"Line\"},\"hover_glyph\":null,\"nonselection_glyph\":{\"id\":\"7f37376a-6ea0-4d17-b7dd-4b77ce46dceb\",\"type\":\"Line\"},\"selection_glyph\":null},\"id\":\"8f2cff59-9831-4614-9d8a-1373ea9b93bd\",\"type\":\"GlyphRenderer\"},{\"attributes\":{},\"id\":\"598b8d9e-7b85-4f63-a5a4-378f5dc4843e\",\"type\":\"BasicTicker\"},{\"attributes\":{\"overlay\":{\"id\":\"a774185c-950c-4bdb-aefb-1cc3c109f499\",\"type\":\"BoxAnnotation\"},\"plot\":{\"id\":\"c408c193-dbd0-4238-9e09-8cca6f1bc118\",\"subtype\":\"Figure\",\"type\":\"Plot\"}},\"id\":\"7c693b07-886d-4863-9a56-4f7dec862eff\",\"type\":\"BoxZoomTool\"},{\"attributes\":{\"line_alpha\":{\"value\":0.1},\"line_color\":{\"value\":\"#1f77b4\"},\"line_dash\":[4,4],\"line_width\":{\"value\":2},\"x\":{\"field\":\"x\"},\"y\":{\"field\":\"y\"}},\"id\":\"c34c8ea3-2715-480f-bb32-8082085bef56\",\"type\":\"Line\"},{\"attributes\":{\"line_dash\":[4,4],\"line_width\":{\"value\":2},\"x\":{\"field\":\"x\"},\"y\":{\"field\":\"y\"}},\"id\":\"35a18987-beba-4001-8394-939bbe7efe1a\",\"type\":\"Line\"},{\"attributes\":{\"axis_label\":\"Popularity with Kanye West\",\"formatter\":{\"id\":\"3595a915-239a-4368-bb63-c25d9cdc3d4c\",\"type\":\"BasicTickFormatter\"},\"plot\":{\"id\":\"494cd51e-c172-4a8e-9508-87ea4175f880\",\"subtype\":\"Figure\",\"type\":\"Plot\"},\"ticker\":{\"id\":\"79282433-285a-4f1a-a74a-2b2d66d3e9d3\",\"type\":\"BasicTicker\"}},\"id\":\"32d0af90-f127-4d7b-b14f-a3b5f9b6a6ba\",\"type\":\"LinearAxis\"},{\"attributes\":{\"axis_label\":\"Popularity with Kanye West\",\"formatter\":{\"id\":\"25ac2325-15e8-4f3d-8c30-d708cb2e94a8\",\"type\":\"BasicTickFormatter\"},\"plot\":{\"id\":\"ee8bf908-1495-452c-8107-f53650c59665\",\"subtype\":\"Figure\",\"type\":\"Plot\"},\"ticker\":{\"id\":\"6b09b514-4301-45cd-9f3b-5fc4f2cdf195\",\"type\":\"BasicTicker\"}},\"id\":\"28130d74-8a86-453d-9957-e635df769078\",\"type\":\"LinearAxis\"},{\"attributes\":{\"axis_label\":\"Popularity with Kanye West\",\"formatter\":{\"id\":\"08e043e0-0a11-4fb2-b754-5733aba1213e\",\"type\":\"BasicTickFormatter\"},\"plot\":{\"id\":\"42b26200-b7f4-471b-9e6d-e6c695170799\",\"subtype\":\"Figure\",\"type\":\"Plot\"},\"ticker\":{\"id\":\"5ef632b3-ad3a-427f-b124-cad2d7ef19f3\",\"type\":\"BasicTicker\"}},\"id\":\"ec64ff70-8e68-4a7f-8675-b91dbd9faa3b\",\"type\":\"LinearAxis\"},{\"attributes\":{\"data_source\":{\"id\":\"a29e99ce-41b5-47ec-92ab-276e6c5a9ee7\",\"type\":\"ColumnDataSource\"},\"glyph\":{\"id\":\"34f2529a-df36-49e0-a5e2-bb05da215047\",\"type\":\"Line\"},\"hover_glyph\":null,\"nonselection_glyph\":{\"id\":\"21513efd-f5bd-46d4-9fc7-9f863677ac24\",\"type\":\"Line\"},\"selection_glyph\":null},\"id\":\"5e78204f-3d72-4bbe-a691-98df5c175702\",\"type\":\"GlyphRenderer\"},{\"attributes\":{\"plot\":{\"id\":\"5764a231-4ab9-4c49-9328-3438f91b1e7d\",\"subtype\":\"Figure\",\"type\":\"Plot\"},\"ticker\":{\"id\":\"6f2b0b9e-dbb0-4604-9923-a8252ce718f3\",\"type\":\"BasicTicker\"}},\"id\":\"435fd502-6b65-4775-84f1-5c1506a6f054\",\"type\":\"Grid\"},{\"attributes\":{\"callback\":null,\"column_names\":[\"y\",\"x\"],\"data\":{\"x\":[0.0,1.0,2.0,3.0,4.0,5.0,6.0,7.0,8.0,9.0,10.0,11.0,12.0,13.0,14.0,15.0,16.0,17.0,18.0,19.0,20.0,21.0,22.0,23.0,24.0,25.0,26.0,27.0,28.0,29.0,30.0,31.0,32.0,33.0,34.0,35.0,36.0,37.0,38.0,39.0,40.0,41.0,42.0,43.0,44.0,45.0,46.0,47.0,48.0,49.0,50.0,51.0,52.0,53.0,54.0,55.0,56.0,57.0,58.0,59.0,60.0,61.0,62.0,63.0,64.0,65.0,66.0,67.0,68.0,69.0,70.0,71.0,72.0,73.0,74.0,75.0,76.0,77.0,78.0,79.0,80.0,81.0,82.0,83.0,84.0,85.0,86.0,87.0,88.0,89.0,90.0,91.0,92.0,93.0,94.0,95.0,96.0,97.0,98.0,99.0],\"y\":[\"NaN\",\"NaN\",\"NaN\",\"NaN\",\"NaN\",\"NaN\",\"NaN\",\"NaN\",\"NaN\",\"NaN\",\"NaN\",\"NaN\",\"NaN\",\"NaN\",\"NaN\",\"NaN\",\"NaN\",\"NaN\",\"NaN\",\"NaN\",\"NaN\",\"NaN\",\"NaN\",\"NaN\",\"NaN\",\"NaN\",\"NaN\",\"NaN\",\"NaN\",\"NaN\",\"NaN\",\"NaN\",\"NaN\",\"NaN\",\"NaN\",\"NaN\",\"NaN\",\"NaN\",\"NaN\",\"NaN\",\"NaN\",\"NaN\",\"NaN\",\"NaN\",\"NaN\",\"NaN\",\"NaN\",\"NaN\",\"NaN\",\"NaN\",\"NaN\",\"NaN\",\"NaN\",\"NaN\",\"NaN\",\"NaN\",\"NaN\",\"NaN\",\"NaN\",\"NaN\",\"NaN\",\"NaN\",\"NaN\",\"NaN\",\"NaN\",\"NaN\",\"NaN\",\"NaN\",\"NaN\",\"NaN\",\"NaN\",\"NaN\",\"NaN\",\"NaN\",\"NaN\",\"NaN\",\"NaN\",\"NaN\",\"NaN\",\"NaN\",\"NaN\",\"NaN\",\"NaN\",\"NaN\",\"NaN\",\"NaN\",\"NaN\",\"NaN\",\"NaN\",\"NaN\",\"NaN\",\"NaN\",\"NaN\",\"NaN\",\"NaN\",\"NaN\",\"NaN\",\"NaN\",\"NaN\",\"NaN\"]}},\"id\":\"a29e99ce-41b5-47ec-92ab-276e6c5a9ee7\",\"type\":\"ColumnDataSource\"},{\"attributes\":{\"callback\":null,\"column_names\":[\"y\",\"x\"],\"data\":{\"x\":[19,40],\"y\":[19,40]}},\"id\":\"0e1c062b-b7c2-4596-8ca7-9dacf940f150\",\"type\":\"ColumnDataSource\"},{\"attributes\":{},\"id\":\"cb488cc3-9a51-4e38-b079-3309bfb68ce0\",\"type\":\"ToolEvents\"},{\"attributes\":{\"callback\":null},\"id\":\"abde4c6e-7c47-4cfb-9bea-14be5a564ec7\",\"type\":\"DataRange1d\"},{\"attributes\":{\"callback\":null,\"plot\":{\"id\":\"c408c193-dbd0-4238-9e09-8cca6f1bc118\",\"subtype\":\"Figure\",\"type\":\"Plot\"},\"tooltips\":[[\"Artist\",\"@artist\"]]},\"id\":\"3ee29314-18ca-4408-a279-78f79394ab3a\",\"type\":\"HoverTool\"},{\"attributes\":{},\"id\":\"c2910b54-375e-4eea-b8ae-74fe67af195e\",\"type\":\"BasicTicker\"},{\"attributes\":{},\"id\":\"cdad5081-821c-422e-a366-fe4b88b38c38\",\"type\":\"BasicTicker\"},{\"attributes\":{},\"id\":\"2c6b5e78-4d57-40b0-b69b-38a238170a3a\",\"type\":\"BasicTickFormatter\"},{\"attributes\":{\"line_alpha\":{\"value\":0.1},\"line_color\":{\"value\":\"#1f77b4\"},\"line_dash\":[2,2],\"line_width\":{\"value\":2},\"x\":{\"field\":\"x\"},\"y\":{\"field\":\"y\"}},\"id\":\"74390606-6983-43b0-b4e6-daf16d37fc4b\",\"type\":\"Line\"},{\"attributes\":{\"fill_alpha\":{\"value\":0.4},\"fill_color\":{\"value\":\"black\"},\"size\":{\"units\":\"screen\",\"value\":7},\"x\":{\"field\":\"x\"},\"y\":{\"field\":\"y\"}},\"id\":\"4ae6d25d-58f4-4961-9e1b-0fdb8753c66a\",\"type\":\"Circle\"},{\"attributes\":{\"legends\":[[\"Linear Regression\",[{\"id\":\"90e24dd6-27b7-477e-8ae2-7ddb6c312133\",\"type\":\"GlyphRenderer\"}]],[\"One-to-One\",[{\"id\":\"668c337a-759d-4d03-9868-aa0fe13e0311\",\"type\":\"GlyphRenderer\"}]]],\"plot\":{\"id\":\"ff1a1bb6-7d01-404c-aebc-9eed7b87d723\",\"subtype\":\"Figure\",\"type\":\"Plot\"}},\"id\":\"c7769d70-a8c3-4ad3-8070-0f16d6bc630c\",\"type\":\"Legend\"},{\"attributes\":{\"overlay\":{\"id\":\"c0dd3053-76b4-4e25-b966-8acc0411c424\",\"type\":\"BoxAnnotation\"},\"plot\":{\"id\":\"7f392cca-c8ef-45a1-b061-b8211c4efb49\",\"subtype\":\"Figure\",\"type\":\"Plot\"}},\"id\":\"226aa19d-c54e-46cb-b0e8-06cbcd00722c\",\"type\":\"BoxZoomTool\"},{\"attributes\":{\"callback\":null},\"id\":\"a9b7d84f-b76d-4708-b931-e41f56fbeb06\",\"type\":\"DataRange1d\"},{\"attributes\":{},\"id\":\"ec4b378c-0d7b-45ae-8085-4775dfb0b916\",\"type\":\"ToolEvents\"},{\"attributes\":{\"callback\":null,\"column_names\":[\"y\",\"x\",\"collab_num\",\"artist\"],\"data\":{\"artist\":[\"Jamie Foxx\",\"T-Pain\",\"Nicki Minaj\",\"Chris Martin\",\"Brandy\",\"The Game\",\"Ludacris\",\"Freeway\"],\"collab_num\":[\"4.0\",\"4.0\",\"5.0\",\"nan\",\"3.0\",\"3.0\",\"0.0\",\"0.0\"],\"x\":[25.40963855421687,18.983471074380166,35.90243902439025,\"NaN\",25.061643835616437,22.8203125,24.944444444444443,5.895161290322581],\"y\":[26.75,19.5,30.8,\"NaN\",28.333333333333332,37.666666666666664,\"NaN\",\"NaN\"]}},\"id\":\"dd033a3f-a1ca-406d-86f3-7a4b37d2088f\",\"type\":\"ColumnDataSource\"},{\"attributes\":{\"axis_label\":\"Popularity with Kanye West\",\"formatter\":{\"id\":\"e141eb5f-afc5-49ee-8d33-71940875c849\",\"type\":\"BasicTickFormatter\"},\"plot\":{\"id\":\"ff1a1bb6-7d01-404c-aebc-9eed7b87d723\",\"subtype\":\"Figure\",\"type\":\"Plot\"},\"ticker\":{\"id\":\"55377109-1c2a-45c4-84b1-96af5db97a08\",\"type\":\"BasicTicker\"}},\"id\":\"90c3d9f4-002e-4ce7-9c78-5276768ee8f7\",\"type\":\"LinearAxis\"},{\"attributes\":{},\"id\":\"bd5a5469-b0ee-48bd-9448-8a061ecab4d2\",\"type\":\"BasicTickFormatter\"},{\"attributes\":{\"line_dash\":[4,4],\"line_width\":{\"value\":2},\"x\":{\"field\":\"x\"},\"y\":{\"field\":\"y\"}},\"id\":\"d1666c7d-5019-4057-bf4f-85073a1547dd\",\"type\":\"Line\"},{\"attributes\":{\"axis_label\":\"Solo Popularity\",\"formatter\":{\"id\":\"3ebfcddc-9432-4ab1-9d65-a352454701d1\",\"type\":\"BasicTickFormatter\"},\"plot\":{\"id\":\"42b26200-b7f4-471b-9e6d-e6c695170799\",\"subtype\":\"Figure\",\"type\":\"Plot\"},\"ticker\":{\"id\":\"267d6443-e73f-4be3-92fc-625c4991f475\",\"type\":\"BasicTicker\"}},\"id\":\"3e551207-914c-44ea-bdcb-b97affca05b7\",\"type\":\"LinearAxis\"},{\"attributes\":{},\"id\":\"d08bd846-ff75-4478-858e-52d19ba837ee\",\"type\":\"BasicTickFormatter\"},{\"attributes\":{},\"id\":\"07ed71e1-c7af-446f-a351-33d14d19c438\",\"type\":\"BasicTicker\"},{\"attributes\":{},\"id\":\"efb8f2c0-bbca-49df-8e88-7365295f4b2d\",\"type\":\"BasicTicker\"},{\"attributes\":{\"axis_label\":\"Solo Popularity\",\"formatter\":{\"id\":\"c66e3a1c-9eb6-46c8-8c88-4d2b54546018\",\"type\":\"BasicTickFormatter\"},\"plot\":{\"id\":\"c408c193-dbd0-4238-9e09-8cca6f1bc118\",\"subtype\":\"Figure\",\"type\":\"Plot\"},\"ticker\":{\"id\":\"e933a7cb-abc9-4d42-b43e-bb189a2a3414\",\"type\":\"BasicTicker\"}},\"id\":\"fd81386d-9873-48b4-81c3-75227915b1cc\",\"type\":\"LinearAxis\"},{\"attributes\":{},\"id\":\"2c411b49-657f-40b1-9b24-3edc7c1caa92\",\"type\":\"BasicTickFormatter\"},{\"attributes\":{\"fill_alpha\":{\"value\":0.4},\"fill_color\":{\"value\":\"black\"},\"size\":{\"units\":\"screen\",\"value\":7},\"x\":{\"field\":\"x\"},\"y\":{\"field\":\"y\"}},\"id\":\"b440bc21-fb31-4442-8b28-c6c19c8517d6\",\"type\":\"Circle\"},{\"attributes\":{\"callback\":null,\"column_names\":[\"y\",\"x\"],\"data\":{\"x\":[19.0,20.0,21.0,22.0,23.0,24.0,25.0,26.0,27.0,28.0,29.0,30.0,31.0,32.0,33.0,34.0,35.0,36.0,37.0,38.0,39.0],\"y\":[26.16662063011134,26.534848947871815,26.903077265632287,27.27130558339276,27.639533901153236,28.00776221891371,28.375990536674184,28.744218854434656,29.112447172195132,29.480675489955605,29.848903807716077,30.217132125476553,30.58536044323703,30.9535887609975,31.321817078757974,31.69004539651845,32.058273714278926,32.426502032039394,32.79473034979987,33.162958667560346,33.531186985320815]}},\"id\":\"b86b9b09-e53f-4579-b2ce-3c4140c5cd23\",\"type\":\"ColumnDataSource\"},{\"attributes\":{},\"id\":\"6d7378df-fa92-414c-85b2-683c9fa2882c\",\"type\":\"ToolEvents\"},{\"attributes\":{\"line_alpha\":{\"value\":0.1},\"line_color\":{\"value\":\"#1f77b4\"},\"line_dash\":[4,4],\"line_width\":{\"value\":2},\"x\":{\"field\":\"x\"},\"y\":{\"field\":\"y\"}},\"id\":\"8ad7c985-4fe7-4366-a365-79e80896efc4\",\"type\":\"Line\"},{\"attributes\":{},\"id\":\"e9b8964d-0128-4894-88ae-7dd350ca69b2\",\"type\":\"BasicTickFormatter\"},{\"attributes\":{},\"id\":\"5ef632b3-ad3a-427f-b124-cad2d7ef19f3\",\"type\":\"BasicTicker\"},{\"attributes\":{\"callback\":null},\"id\":\"c1347798-ab19-44a7-b2c3-d3cba0d48c48\",\"type\":\"DataRange1d\"},{\"attributes\":{},\"id\":\"6b09b514-4301-45cd-9f3b-5fc4f2cdf195\",\"type\":\"BasicTicker\"},{\"attributes\":{\"callback\":null,\"column_names\":[\"y\",\"x\",\"collab_num\",\"artist\"],\"data\":{\"artist\":[\"Jamie Foxx\",\"T-Pain\",\"Nicki Minaj\",\"Chris Martin\",\"Brandy\",\"The Game\",\"Ludacris\",\"Freeway\"],\"collab_num\":[\"4.0\",\"4.0\",\"5.0\",\"nan\",\"3.0\",\"3.0\",\"0.0\",\"0.0\"],\"x\":[25.40963855421687,18.983471074380166,35.90243902439025,\"NaN\",25.061643835616437,22.8203125,24.944444444444443,5.895161290322581],\"y\":[26.75,19.5,30.8,\"NaN\",28.333333333333332,37.666666666666664,\"NaN\",\"NaN\"]}},\"id\":\"f688e081-54ae-4000-b0c1-b4c79be404b0\",\"type\":\"ColumnDataSource\"},{\"attributes\":{\"callback\":null,\"column_names\":[\"y\",\"x\",\"collab_num\",\"artist\"],\"data\":{\"artist\":[\"Jamie Foxx\",\"T-Pain\",\"Nicki Minaj\",\"Chris Martin\",\"Brandy\",\"The Game\",\"Ludacris\",\"Freeway\"],\"collab_num\":[\"4.0\",\"4.0\",\"5.0\",\"nan\",\"3.0\",\"3.0\",\"0.0\",\"0.0\"],\"x\":[25.40963855421687,18.983471074380166,35.90243902439025,\"NaN\",25.061643835616437,22.8203125,24.944444444444443,5.895161290322581],\"y\":[26.75,19.5,30.8,\"NaN\",28.333333333333332,37.666666666666664,\"NaN\",\"NaN\"]}},\"id\":\"b100f4f4-3e0a-4a2e-a6f7-2c5d8f668171\",\"type\":\"ColumnDataSource\"},{\"attributes\":{\"callback\":null,\"column_names\":[\"y\",\"x\"],\"data\":{\"x\":[19,19],\"y\":[40,40]}},\"id\":\"2edd8c95-683b-47e4-8269-c4a8cf03cfae\",\"type\":\"ColumnDataSource\"},{\"attributes\":{\"overlay\":{\"id\":\"2ecfde08-19f9-4196-b965-0577f13a4180\",\"type\":\"BoxAnnotation\"},\"plot\":{\"id\":\"494cd51e-c172-4a8e-9508-87ea4175f880\",\"subtype\":\"Figure\",\"type\":\"Plot\"}},\"id\":\"b3efce60-0421-4737-827b-b0db4505a3da\",\"type\":\"BoxZoomTool\"},{\"attributes\":{\"fill_alpha\":{\"value\":0.1},\"fill_color\":{\"value\":\"#1f77b4\"},\"line_alpha\":{\"value\":0.1},\"line_color\":{\"value\":\"#1f77b4\"},\"size\":{\"units\":\"screen\",\"value\":7},\"x\":{\"field\":\"x\"},\"y\":{\"field\":\"y\"}},\"id\":\"6e0a49e0-62e1-442a-bbcf-678c7a0a0756\",\"type\":\"Circle\"},{\"attributes\":{\"line_alpha\":{\"value\":0.1},\"line_color\":{\"value\":\"#1f77b4\"},\"line_dash\":[4,4],\"line_width\":{\"value\":2},\"x\":{\"field\":\"x\"},\"y\":{\"field\":\"y\"}},\"id\":\"118f3769-12ed-4a5b-a73e-b606d5297809\",\"type\":\"Line\"},{\"attributes\":{\"line_alpha\":{\"value\":0.1},\"line_color\":{\"value\":\"#1f77b4\"},\"line_dash\":[2,2],\"line_width\":{\"value\":2},\"x\":{\"field\":\"x\"},\"y\":{\"field\":\"y\"}},\"id\":\"7f37376a-6ea0-4d17-b7dd-4b77ce46dceb\",\"type\":\"Line\"},{\"attributes\":{\"axis_label\":\"Solo Popularity\",\"formatter\":{\"id\":\"8e8efda0-445a-455a-a23a-338359d3c41e\",\"type\":\"BasicTickFormatter\"},\"plot\":{\"id\":\"ee8bf908-1495-452c-8107-f53650c59665\",\"subtype\":\"Figure\",\"type\":\"Plot\"},\"ticker\":{\"id\":\"c40773db-3848-4974-bc25-2474c859dfaa\",\"type\":\"BasicTicker\"}},\"id\":\"0d4d3d78-174c-41d6-9c39-3eda1fa61e6b\",\"type\":\"LinearAxis\"},{\"attributes\":{\"callback\":null,\"column_names\":[\"y\",\"x\"],\"data\":{\"x\":[19,40],\"y\":[19,40]}},\"id\":\"0a8faae5-5abd-46a4-b9fb-c728ef53d9bf\",\"type\":\"ColumnDataSource\"},{\"attributes\":{\"callback\":null,\"plot\":{\"id\":\"ee8bf908-1495-452c-8107-f53650c59665\",\"subtype\":\"Figure\",\"type\":\"Plot\"},\"tooltips\":[[\"Artist\",\"@artist\"]]},\"id\":\"96acb8fe-174e-4ae0-803b-baa4be1d7f7f\",\"type\":\"HoverTool\"},{\"attributes\":{\"plot\":{\"id\":\"5764a231-4ab9-4c49-9328-3438f91b1e7d\",\"subtype\":\"Figure\",\"type\":\"Plot\"}},\"id\":\"2ab9de4f-d6bb-4a2d-aa13-b4b003142b83\",\"type\":\"ResetTool\"},{\"attributes\":{\"below\":[{\"id\":\"5133c0af-a4b0-491f-8a10-3538079066f0\",\"type\":\"LinearAxis\"}],\"left\":[{\"id\":\"32d0af90-f127-4d7b-b14f-a3b5f9b6a6ba\",\"type\":\"LinearAxis\"}],\"plot_height\":500,\"renderers\":[{\"id\":\"5133c0af-a4b0-491f-8a10-3538079066f0\",\"type\":\"LinearAxis\"},{\"id\":\"a6a41275-e7e9-4d0d-8937-cf89f98b9a47\",\"type\":\"Grid\"},{\"id\":\"32d0af90-f127-4d7b-b14f-a3b5f9b6a6ba\",\"type\":\"LinearAxis\"},{\"id\":\"0ae04dd9-7428-4f62-8db5-e3d61d60edc4\",\"type\":\"Grid\"},{\"id\":\"2ecfde08-19f9-4196-b965-0577f13a4180\",\"type\":\"BoxAnnotation\"},{\"id\":\"6917c470-7cbe-417b-860b-7b1752dde275\",\"type\":\"GlyphRenderer\"}],\"tool_events\":{\"id\":\"0236d8d5-167f-4c77-8524-105c0e562af3\",\"type\":\"ToolEvents\"},\"tools\":[{\"id\":\"b3efce60-0421-4737-827b-b0db4505a3da\",\"type\":\"BoxZoomTool\"},{\"id\":\"1c669b1b-161c-4b56-a21f-730054c7f1c0\",\"type\":\"ResetTool\"},{\"id\":\"c8c72ef1-70e7-487d-b564-1423691958b3\",\"type\":\"HoverTool\"}],\"x_range\":{\"id\":\"eddf76fe-b2ea-4b85-a18e-aa73b482190c\",\"type\":\"DataRange1d\"},\"y_range\":{\"id\":\"ac9e3f57-42a3-4ea2-8b1d-b5fe05c8a0b2\",\"type\":\"DataRange1d\"}},\"id\":\"494cd51e-c172-4a8e-9508-87ea4175f880\",\"subtype\":\"Figure\",\"type\":\"Plot\"},{\"attributes\":{\"overlay\":{\"id\":\"9aca23be-c6dc-4acd-9422-c5ca2762911b\",\"type\":\"BoxAnnotation\"},\"plot\":{\"id\":\"ff1a1bb6-7d01-404c-aebc-9eed7b87d723\",\"subtype\":\"Figure\",\"type\":\"Plot\"}},\"id\":\"bcd343b6-f245-43f5-935d-ff67fc2b9a0a\",\"type\":\"BoxZoomTool\"},{\"attributes\":{\"callback\":null},\"id\":\"03df4a00-9ec1-47cd-90b2-09c3821babeb\",\"type\":\"DataRange1d\"},{\"attributes\":{\"line_alpha\":{\"value\":0.1},\"line_color\":{\"value\":\"#1f77b4\"},\"line_dash\":[2,2],\"line_width\":{\"value\":2},\"x\":{\"field\":\"x\"},\"y\":{\"field\":\"y\"}},\"id\":\"053fbcec-f82a-4ff4-b000-16e740827c2a\",\"type\":\"Line\"},{\"attributes\":{\"data_source\":{\"id\":\"48f81100-6433-4e07-b6f3-b58964960769\",\"type\":\"ColumnDataSource\"},\"glyph\":{\"id\":\"d5259e1b-5384-46a1-9525-1fc28aeea58e\",\"type\":\"Circle\"},\"hover_glyph\":null,\"nonselection_glyph\":{\"id\":\"0d6774d6-4517-497d-abe3-23dc9c917fa1\",\"type\":\"Circle\"},\"selection_glyph\":null},\"id\":\"6917c470-7cbe-417b-860b-7b1752dde275\",\"type\":\"GlyphRenderer\"},{\"attributes\":{\"line_alpha\":{\"value\":0.1},\"line_color\":{\"value\":\"#1f77b4\"},\"line_dash\":[2,2],\"line_width\":{\"value\":2},\"x\":{\"field\":\"x\"},\"y\":{\"field\":\"y\"}},\"id\":\"e02cee4d-4b11-41ae-8a7d-8ad68f9bc24b\",\"type\":\"Line\"},{\"attributes\":{},\"id\":\"3ebfcddc-9432-4ab1-9d65-a352454701d1\",\"type\":\"BasicTickFormatter\"},{\"attributes\":{\"data_source\":{\"id\":\"b100f4f4-3e0a-4a2e-a6f7-2c5d8f668171\",\"type\":\"ColumnDataSource\"},\"glyph\":{\"id\":\"b440bc21-fb31-4442-8b28-c6c19c8517d6\",\"type\":\"Circle\"},\"hover_glyph\":null,\"nonselection_glyph\":{\"id\":\"acf96ad3-b06f-4d6c-bf65-8e2ff85aad27\",\"type\":\"Circle\"},\"selection_glyph\":null},\"id\":\"189dec03-3fbe-4e56-8ae3-d1bb76b28e47\",\"type\":\"GlyphRenderer\"},{\"attributes\":{\"plot\":{\"id\":\"387c4220-e6d0-47c2-9b8e-3fbff398f0de\",\"subtype\":\"Figure\",\"type\":\"Plot\"}},\"id\":\"86e71426-ecb0-4456-8b66-33b700fcfb36\",\"type\":\"ResetTool\"},{\"attributes\":{\"data_source\":{\"id\":\"b86b9b09-e53f-4579-b2ce-3c4140c5cd23\",\"type\":\"ColumnDataSource\"},\"glyph\":{\"id\":\"a2a2b367-962d-441a-8368-c7355a287828\",\"type\":\"Line\"},\"hover_glyph\":null,\"nonselection_glyph\":{\"id\":\"31551514-0824-4692-92d1-260957e401eb\",\"type\":\"Line\"},\"selection_glyph\":null},\"id\":\"3fb57330-b033-4ac9-b4a1-eed54e3d4c7e\",\"type\":\"GlyphRenderer\"},{\"attributes\":{\"callback\":null},\"id\":\"61794b80-1277-41d1-876a-218609ec80c9\",\"type\":\"DataRange1d\"},{\"attributes\":{\"plot\":{\"id\":\"0fe05308-cf4a-4426-879c-471e75c969f5\",\"subtype\":\"Figure\",\"type\":\"Plot\"},\"ticker\":{\"id\":\"c2910b54-375e-4eea-b8ae-74fe67af195e\",\"type\":\"BasicTicker\"}},\"id\":\"0a557f6c-60a8-4f3a-85f8-d7314fe3d756\",\"type\":\"Grid\"},{\"attributes\":{\"line_alpha\":{\"value\":0.1},\"line_color\":{\"value\":\"#1f77b4\"},\"line_dash\":[4,4],\"line_width\":{\"value\":2},\"x\":{\"field\":\"x\"},\"y\":{\"field\":\"y\"}},\"id\":\"31551514-0824-4692-92d1-260957e401eb\",\"type\":\"Line\"},{\"attributes\":{},\"id\":\"e806422c-8f23-41f7-af8d-a580f0f956c6\",\"type\":\"ToolEvents\"},{\"attributes\":{},\"id\":\"7f07fd37-ca7d-4b54-9277-5ac16d86de86\",\"type\":\"BasicTicker\"},{\"attributes\":{\"callback\":null,\"plot\":{\"id\":\"0fe05308-cf4a-4426-879c-471e75c969f5\",\"subtype\":\"Figure\",\"type\":\"Plot\"},\"tooltips\":[[\"Artist\",\"@artist\"]]},\"id\":\"b936b873-cc29-4511-bb22-536d1ec64ada\",\"type\":\"HoverTool\"},{\"attributes\":{\"callback\":null},\"id\":\"6754149e-7c16-486d-97eb-36ddd972930f\",\"type\":\"DataRange1d\"},{\"attributes\":{},\"id\":\"8e8efda0-445a-455a-a23a-338359d3c41e\",\"type\":\"BasicTickFormatter\"},{\"attributes\":{\"dimension\":1,\"plot\":{\"id\":\"0fe05308-cf4a-4426-879c-471e75c969f5\",\"subtype\":\"Figure\",\"type\":\"Plot\"},\"ticker\":{\"id\":\"5de7bc3b-ed82-4358-8515-d1e486401b24\",\"type\":\"BasicTicker\"}},\"id\":\"ce7a668c-bfb0-4310-8106-b9e69a8dbacd\",\"type\":\"Grid\"},{\"attributes\":{\"callback\":null},\"id\":\"f0eb28a7-ac82-4cc6-a0d9-3491caaa4fd5\",\"type\":\"DataRange1d\"},{\"attributes\":{\"below\":[{\"id\":\"d8fa35b9-42e1-4b7e-ba8b-98a5e22e165b\",\"type\":\"LinearAxis\"}],\"left\":[{\"id\":\"af7c0099-0d16-4fbd-8e1d-b3b7c49c8dae\",\"type\":\"LinearAxis\"}],\"plot_height\":500,\"renderers\":[{\"id\":\"d8fa35b9-42e1-4b7e-ba8b-98a5e22e165b\",\"type\":\"LinearAxis\"},{\"id\":\"bfd3ce95-5703-452a-91fe-27d886a85f76\",\"type\":\"Grid\"},{\"id\":\"af7c0099-0d16-4fbd-8e1d-b3b7c49c8dae\",\"type\":\"LinearAxis\"},{\"id\":\"f597704f-2fdb-4e48-8f67-f7564743fc57\",\"type\":\"Grid\"},{\"id\":\"484e4b25-1dab-4545-8592-86fcdceb54f3\",\"type\":\"BoxAnnotation\"},{\"id\":\"c9336279-14eb-4b13-9b95-8e65edc3b758\",\"type\":\"GlyphRenderer\"},{\"id\":\"5e78204f-3d72-4bbe-a691-98df5c175702\",\"type\":\"GlyphRenderer\"}],\"tool_events\":{\"id\":\"4ee9b25a-3189-4b7c-9336-572566206248\",\"type\":\"ToolEvents\"},\"tools\":[{\"id\":\"334ec9d2-ef73-41b4-bcf8-47c8af4f52e9\",\"type\":\"BoxZoomTool\"},{\"id\":\"86e71426-ecb0-4456-8b66-33b700fcfb36\",\"type\":\"ResetTool\"},{\"id\":\"c80296f4-2421-4eb3-8d7f-b666bea840a4\",\"type\":\"HoverTool\"}],\"x_range\":{\"id\":\"61794b80-1277-41d1-876a-218609ec80c9\",\"type\":\"DataRange1d\"},\"y_range\":{\"id\":\"449eb4b3-0e9e-4386-940d-ed601f759ddb\",\"type\":\"DataRange1d\"}},\"id\":\"387c4220-e6d0-47c2-9b8e-3fbff398f0de\",\"subtype\":\"Figure\",\"type\":\"Plot\"},{\"attributes\":{\"fill_alpha\":{\"value\":0.4},\"fill_color\":{\"value\":\"black\"},\"size\":{\"units\":\"screen\",\"value\":7},\"x\":{\"field\":\"x\"},\"y\":{\"field\":\"y\"}},\"id\":\"45854199-e379-4891-950c-ebe39b92db31\",\"type\":\"Circle\"},{\"attributes\":{\"fill_alpha\":{\"value\":0.4},\"fill_color\":{\"value\":\"black\"},\"size\":{\"units\":\"screen\",\"value\":7},\"x\":{\"field\":\"x\"},\"y\":{\"field\":\"y\"}},\"id\":\"d5259e1b-5384-46a1-9525-1fc28aeea58e\",\"type\":\"Circle\"},{\"attributes\":{\"fill_alpha\":{\"value\":0.1},\"fill_color\":{\"value\":\"#1f77b4\"},\"line_alpha\":{\"value\":0.1},\"line_color\":{\"value\":\"#1f77b4\"},\"size\":{\"units\":\"screen\",\"value\":7},\"x\":{\"field\":\"x\"},\"y\":{\"field\":\"y\"}},\"id\":\"acf96ad3-b06f-4d6c-bf65-8e2ff85aad27\",\"type\":\"Circle\"},{\"attributes\":{\"callback\":null,\"plot\":{\"id\":\"494cd51e-c172-4a8e-9508-87ea4175f880\",\"subtype\":\"Figure\",\"type\":\"Plot\"},\"tooltips\":[[\"Artist\",\"@artist\"]]},\"id\":\"c8c72ef1-70e7-487d-b564-1423691958b3\",\"type\":\"HoverTool\"},{\"attributes\":{\"fill_alpha\":{\"value\":0.4},\"fill_color\":{\"value\":\"black\"},\"size\":{\"units\":\"screen\",\"value\":7},\"x\":{\"field\":\"x\"},\"y\":{\"field\":\"y\"}},\"id\":\"b2db8c6b-6f1c-4381-b554-a1d1602d5a3f\",\"type\":\"Circle\"},{\"attributes\":{},\"id\":\"9786decf-b4e3-4190-8f20-e9c45ba838f7\",\"type\":\"BasicTickFormatter\"},{\"attributes\":{\"callback\":null,\"column_names\":[\"y\",\"x\"],\"data\":{\"x\":[19.0,20.0,21.0,22.0,23.0,24.0,25.0,26.0,27.0,28.0,29.0,30.0,31.0,32.0,33.0,34.0,35.0,36.0,37.0,38.0,39.0],\"y\":[26.16662063011134,26.534848947871815,26.903077265632287,27.27130558339276,27.639533901153236,28.00776221891371,28.375990536674184,28.744218854434656,29.112447172195132,29.480675489955605,29.848903807716077,30.217132125476553,30.58536044323703,30.9535887609975,31.321817078757974,31.69004539651845,32.058273714278926,32.426502032039394,32.79473034979987,33.162958667560346,33.531186985320815]}},\"id\":\"6c473c5c-a512-44c6-8c86-dcfbc467f65c\",\"type\":\"ColumnDataSource\"},{\"attributes\":{\"below\":[{\"id\":\"4ac583c0-12b1-4b9a-a706-0ac2cf3a9fd0\",\"type\":\"LinearAxis\"}],\"left\":[{\"id\":\"90c3d9f4-002e-4ce7-9c78-5276768ee8f7\",\"type\":\"LinearAxis\"}],\"plot_height\":500,\"renderers\":[{\"id\":\"4ac583c0-12b1-4b9a-a706-0ac2cf3a9fd0\",\"type\":\"LinearAxis\"},{\"id\":\"161cc818-18e0-4d57-8613-31a8c798ba16\",\"type\":\"Grid\"},{\"id\":\"90c3d9f4-002e-4ce7-9c78-5276768ee8f7\",\"type\":\"LinearAxis\"},{\"id\":\"7138f824-2fb9-4def-99ea-6f57f25a1e9b\",\"type\":\"Grid\"},{\"id\":\"9aca23be-c6dc-4acd-9422-c5ca2762911b\",\"type\":\"BoxAnnotation\"},{\"id\":\"d45819c6-829f-4261-bb92-ba1c85b0ea9c\",\"type\":\"GlyphRenderer\"},{\"id\":\"c7769d70-a8c3-4ad3-8070-0f16d6bc630c\",\"type\":\"Legend\"},{\"id\":\"90e24dd6-27b7-477e-8ae2-7ddb6c312133\",\"type\":\"GlyphRenderer\"},{\"id\":\"668c337a-759d-4d03-9868-aa0fe13e0311\",\"type\":\"GlyphRenderer\"}],\"tool_events\":{\"id\":\"f1ba9f9d-6013-4ae8-a0aa-78552d44130b\",\"type\":\"ToolEvents\"},\"tools\":[{\"id\":\"bcd343b6-f245-43f5-935d-ff67fc2b9a0a\",\"type\":\"BoxZoomTool\"},{\"id\":\"ce5f2f94-d5c2-46ab-a2b9-9010e1646db9\",\"type\":\"ResetTool\"},{\"id\":\"b467bba0-ad9a-43b2-a774-822dc574043b\",\"type\":\"HoverTool\"}],\"x_range\":{\"id\":\"a9b7d84f-b76d-4708-b931-e41f56fbeb06\",\"type\":\"DataRange1d\"},\"y_range\":{\"id\":\"4cf8518b-291f-4d43-81e6-5c1822f305bc\",\"type\":\"DataRange1d\"}},\"id\":\"ff1a1bb6-7d01-404c-aebc-9eed7b87d723\",\"subtype\":\"Figure\",\"type\":\"Plot\"},{\"attributes\":{\"callback\":null,\"column_names\":[\"y\",\"x\"],\"data\":{\"x\":[0.0,1.0,2.0,3.0,4.0,5.0,6.0,7.0,8.0,9.0,10.0,11.0,12.0,13.0,14.0,15.0,16.0,17.0,18.0,19.0,20.0,21.0,22.0,23.0,24.0,25.0,26.0,27.0,28.0,29.0,30.0,31.0,32.0,33.0,34.0,35.0,36.0,37.0,38.0,39.0,40.0,41.0,42.0,43.0,44.0,45.0,46.0,47.0,48.0,49.0,50.0,51.0,52.0,53.0,54.0,55.0,56.0,57.0,58.0,59.0,60.0,61.0,62.0,63.0,64.0,65.0,66.0,67.0,68.0,69.0,70.0,71.0,72.0,73.0,74.0,75.0,76.0,77.0,78.0,79.0,80.0,81.0,82.0,83.0,84.0,85.0,86.0,87.0,88.0,89.0,90.0,91.0,92.0,93.0,94.0,95.0,96.0,97.0,98.0,99.0],\"y\":[\"NaN\",\"NaN\",\"NaN\",\"NaN\",\"NaN\",\"NaN\",\"NaN\",\"NaN\",\"NaN\",\"NaN\",\"NaN\",\"NaN\",\"NaN\",\"NaN\",\"NaN\",\"NaN\",\"NaN\",\"NaN\",\"NaN\",\"NaN\",\"NaN\",\"NaN\",\"NaN\",\"NaN\",\"NaN\",\"NaN\",\"NaN\",\"NaN\",\"NaN\",\"NaN\",\"NaN\",\"NaN\",\"NaN\",\"NaN\",\"NaN\",\"NaN\",\"NaN\",\"NaN\",\"NaN\",\"NaN\",\"NaN\",\"NaN\",\"NaN\",\"NaN\",\"NaN\",\"NaN\",\"NaN\",\"NaN\",\"NaN\",\"NaN\",\"NaN\",\"NaN\",\"NaN\",\"NaN\",\"NaN\",\"NaN\",\"NaN\",\"NaN\",\"NaN\",\"NaN\",\"NaN\",\"NaN\",\"NaN\",\"NaN\",\"NaN\",\"NaN\",\"NaN\",\"NaN\",\"NaN\",\"NaN\",\"NaN\",\"NaN\",\"NaN\",\"NaN\",\"NaN\",\"NaN\",\"NaN\",\"NaN\",\"NaN\",\"NaN\",\"NaN\",\"NaN\",\"NaN\",\"NaN\",\"NaN\",\"NaN\",\"NaN\",\"NaN\",\"NaN\",\"NaN\",\"NaN\",\"NaN\",\"NaN\",\"NaN\",\"NaN\",\"NaN\",\"NaN\",\"NaN\",\"NaN\",\"NaN\"]}},\"id\":\"e1cd52f1-da9e-48cf-98b1-a85cad3513e0\",\"type\":\"ColumnDataSource\"},{\"attributes\":{\"axis_label\":\"Popularity with Kanye West\",\"formatter\":{\"id\":\"c1c5a629-077a-49f1-818a-01b3d4c02301\",\"type\":\"BasicTickFormatter\"},\"plot\":{\"id\":\"387c4220-e6d0-47c2-9b8e-3fbff398f0de\",\"subtype\":\"Figure\",\"type\":\"Plot\"},\"ticker\":{\"id\":\"5748aa93-7048-4eb1-a4d3-46a91d57be96\",\"type\":\"BasicTicker\"}},\"id\":\"af7c0099-0d16-4fbd-8e1d-b3b7c49c8dae\",\"type\":\"LinearAxis\"},{\"attributes\":{\"bottom_units\":\"screen\",\"fill_alpha\":{\"value\":0.5},\"fill_color\":{\"value\":\"lightgrey\"},\"left_units\":\"screen\",\"level\":\"overlay\",\"line_alpha\":{\"value\":1.0},\"line_color\":{\"value\":\"black\"},\"line_dash\":[4,4],\"line_width\":{\"value\":2},\"plot\":null,\"render_mode\":\"css\",\"right_units\":\"screen\",\"top_units\":\"screen\"},\"id\":\"7c6e7d41-e5d1-497a-8512-88cd59321a07\",\"type\":\"BoxAnnotation\"},{\"attributes\":{\"callback\":null,\"column_names\":[\"y\",\"x\"],\"data\":{\"x\":[19,40],\"y\":[19,40]}},\"id\":\"52447346-c2c7-4d60-a2ec-4228f65cb3fe\",\"type\":\"ColumnDataSource\"},{\"attributes\":{\"data_source\":{\"id\":\"08922909-46a1-4560-ac25-91924a281612\",\"type\":\"ColumnDataSource\"},\"glyph\":{\"id\":\"ee3915e9-020d-4e28-adee-d8c845b82e30\",\"type\":\"Line\"},\"hover_glyph\":null,\"nonselection_glyph\":{\"id\":\"053fbcec-f82a-4ff4-b000-16e740827c2a\",\"type\":\"Line\"},\"selection_glyph\":null},\"id\":\"668c337a-759d-4d03-9868-aa0fe13e0311\",\"type\":\"GlyphRenderer\"},{\"attributes\":{\"line_alpha\":{\"value\":0.1},\"line_color\":{\"value\":\"#1f77b4\"},\"line_dash\":[4,4],\"line_width\":{\"value\":2},\"x\":{\"field\":\"x\"},\"y\":{\"field\":\"y\"}},\"id\":\"fd041c1d-5550-4276-8cfa-a0e8e5c577b5\",\"type\":\"Line\"},{\"attributes\":{},\"id\":\"b40b8b6c-626c-4870-8a5d-a49db98fe2a6\",\"type\":\"BasicTicker\"},{\"attributes\":{\"dimension\":1,\"plot\":{\"id\":\"bc33107e-aba8-4089-9a78-6fe316ed070a\",\"subtype\":\"Figure\",\"type\":\"Plot\"},\"ticker\":{\"id\":\"efb8f2c0-bbca-49df-8e88-7365295f4b2d\",\"type\":\"BasicTicker\"}},\"id\":\"28534387-0836-4320-95cd-e46066dde082\",\"type\":\"Grid\"},{\"attributes\":{},\"id\":\"bafe104a-0fce-4306-a243-d8dd97c8a68b\",\"type\":\"BasicTickFormatter\"},{\"attributes\":{\"line_color\":{\"value\":\"red\"},\"line_dash\":[4,4],\"line_width\":{\"value\":2},\"x\":{\"field\":\"x\"},\"y\":{\"field\":\"y\"}},\"id\":\"583354ec-a42f-43ef-82e4-e32eaf70655a\",\"type\":\"Line\"},{\"attributes\":{},\"id\":\"f7ce38a0-c984-41c0-9fef-b4ffd0ec6760\",\"type\":\"BasicTickFormatter\"},{\"attributes\":{\"fill_alpha\":{\"value\":0.1},\"fill_color\":{\"value\":\"#1f77b4\"},\"line_alpha\":{\"value\":0.1},\"line_color\":{\"value\":\"#1f77b4\"},\"size\":{\"units\":\"screen\",\"value\":7},\"x\":{\"field\":\"x\"},\"y\":{\"field\":\"y\"}},\"id\":\"cde6d0e7-1351-41e1-b70d-7500fcee393c\",\"type\":\"Circle\"},{\"attributes\":{\"plot\":{\"id\":\"494cd51e-c172-4a8e-9508-87ea4175f880\",\"subtype\":\"Figure\",\"type\":\"Plot\"}},\"id\":\"1c669b1b-161c-4b56-a21f-730054c7f1c0\",\"type\":\"ResetTool\"},{\"attributes\":{},\"id\":\"0aa78de7-7153-4d2e-969a-a81bd48cc93f\",\"type\":\"BasicTickFormatter\"},{\"attributes\":{},\"id\":\"55377109-1c2a-45c4-84b1-96af5db97a08\",\"type\":\"BasicTicker\"},{\"attributes\":{\"dimension\":1,\"plot\":{\"id\":\"387c4220-e6d0-47c2-9b8e-3fbff398f0de\",\"subtype\":\"Figure\",\"type\":\"Plot\"},\"ticker\":{\"id\":\"5748aa93-7048-4eb1-a4d3-46a91d57be96\",\"type\":\"BasicTicker\"}},\"id\":\"f597704f-2fdb-4e48-8f67-f7564743fc57\",\"type\":\"Grid\"},{\"attributes\":{\"dimension\":1,\"plot\":{\"id\":\"47971771-53df-4b38-b60c-bad39f5e84b5\",\"subtype\":\"Figure\",\"type\":\"Plot\"},\"ticker\":{\"id\":\"07ed71e1-c7af-446f-a351-33d14d19c438\",\"type\":\"BasicTicker\"}},\"id\":\"17e24659-9a74-48e3-8a87-a3784407fcd9\",\"type\":\"Grid\"},{\"attributes\":{\"plot\":{\"id\":\"c408c193-dbd0-4238-9e09-8cca6f1bc118\",\"subtype\":\"Figure\",\"type\":\"Plot\"},\"ticker\":{\"id\":\"e933a7cb-abc9-4d42-b43e-bb189a2a3414\",\"type\":\"BasicTicker\"}},\"id\":\"04c72576-b325-4aee-aeb1-e94d5a1b5f89\",\"type\":\"Grid\"},{\"attributes\":{\"bottom_units\":\"screen\",\"fill_alpha\":{\"value\":0.5},\"fill_color\":{\"value\":\"lightgrey\"},\"left_units\":\"screen\",\"level\":\"overlay\",\"line_alpha\":{\"value\":1.0},\"line_color\":{\"value\":\"black\"},\"line_dash\":[4,4],\"line_width\":{\"value\":2},\"plot\":null,\"render_mode\":\"css\",\"right_units\":\"screen\",\"top_units\":\"screen\"},\"id\":\"137740ae-405b-4ec7-942b-baeccf40b735\",\"type\":\"BoxAnnotation\"},{\"attributes\":{\"data_source\":{\"id\":\"7f337833-e8ab-48e3-95ec-7113fd4bd801\",\"type\":\"ColumnDataSource\"},\"glyph\":{\"id\":\"fcbe74e8-bdcd-424a-b1e8-06b9a84e79b1\",\"type\":\"Circle\"},\"hover_glyph\":null,\"nonselection_glyph\":{\"id\":\"6786a4d2-5413-46e1-863a-1cac9dd445f2\",\"type\":\"Circle\"},\"selection_glyph\":null},\"id\":\"44e6ce02-4d51-4f04-88e0-737de5f6c514\",\"type\":\"GlyphRenderer\"},{\"attributes\":{\"callback\":null,\"column_names\":[\"y\",\"x\"],\"data\":{\"x\":[19.0,20.0,21.0,22.0,23.0,24.0,25.0,26.0,27.0,28.0,29.0,30.0,31.0,32.0,33.0,34.0,35.0,36.0,37.0,38.0,39.0],\"y\":[26.16662063011134,26.534848947871815,26.903077265632287,27.27130558339276,27.639533901153236,28.00776221891371,28.375990536674184,28.744218854434656,29.112447172195132,29.480675489955605,29.848903807716077,30.217132125476553,30.58536044323703,30.9535887609975,31.321817078757974,31.69004539651845,32.058273714278926,32.426502032039394,32.79473034979987,33.162958667560346,33.531186985320815]}},\"id\":\"96a3e152-22a7-41e1-9104-d977ff0941ea\",\"type\":\"ColumnDataSource\"},{\"attributes\":{\"data_source\":{\"id\":\"8c0c505e-4838-4f8e-a53c-5dd8f523a6d9\",\"type\":\"ColumnDataSource\"},\"glyph\":{\"id\":\"08816804-bb44-4171-90ee-92638fc50243\",\"type\":\"Circle\"},\"hover_glyph\":null,\"nonselection_glyph\":{\"id\":\"6e0a49e0-62e1-442a-bbcf-678c7a0a0756\",\"type\":\"Circle\"},\"selection_glyph\":null},\"id\":\"106ba6b8-830b-4a09-a9c2-0c7c380a8277\",\"type\":\"GlyphRenderer\"},{\"attributes\":{\"axis_label\":\"Solo Popularity\",\"formatter\":{\"id\":\"2c411b49-657f-40b1-9b24-3edc7c1caa92\",\"type\":\"BasicTickFormatter\"},\"plot\":{\"id\":\"47971771-53df-4b38-b60c-bad39f5e84b5\",\"subtype\":\"Figure\",\"type\":\"Plot\"},\"ticker\":{\"id\":\"a898ee4b-fe93-4e98-a20f-d9402a8a658e\",\"type\":\"BasicTicker\"}},\"id\":\"ef76f36c-76ec-4c5c-891b-52cb43228d47\",\"type\":\"LinearAxis\"},{\"attributes\":{\"callback\":null,\"column_names\":[\"y\",\"x\",\"collab_num\",\"artist\"],\"data\":{\"artist\":[\"Jamie Foxx\",\"T-Pain\",\"Nicki Minaj\",\"Chris Martin\",\"Brandy\",\"The Game\",\"Ludacris\",\"Freeway\"],\"collab_num\":[\"4.0\",\"4.0\",\"5.0\",\"nan\",\"3.0\",\"3.0\",\"0.0\",\"0.0\"],\"x\":[25.40963855421687,18.983471074380166,35.90243902439025,\"NaN\",25.061643835616437,22.8203125,24.944444444444443,5.895161290322581],\"y\":[26.75,19.5,30.8,\"NaN\",28.333333333333332,37.666666666666664,\"NaN\",\"NaN\"]}},\"id\":\"48f81100-6433-4e07-b6f3-b58964960769\",\"type\":\"ColumnDataSource\"},{\"attributes\":{\"fill_alpha\":{\"value\":0.4},\"fill_color\":{\"value\":\"black\"},\"size\":{\"units\":\"screen\",\"value\":7},\"x\":{\"field\":\"x\"},\"y\":{\"field\":\"y\"}},\"id\":\"435342af-c5cc-44a7-92f6-aeb8068ae0f1\",\"type\":\"Circle\"},{\"attributes\":{\"data_source\":{\"id\":\"d33a9ccc-2d01-4496-8c6a-4246cf8ae117\",\"type\":\"ColumnDataSource\"},\"glyph\":{\"id\":\"35a18987-beba-4001-8394-939bbe7efe1a\",\"type\":\"Line\"},\"hover_glyph\":null,\"nonselection_glyph\":{\"id\":\"42268f21-e476-4b7d-81ae-ba5955879cb0\",\"type\":\"Line\"},\"selection_glyph\":null},\"id\":\"0541b06b-01c5-4cd7-a974-b6a3247ac20c\",\"type\":\"GlyphRenderer\"},{\"attributes\":{\"plot\":{\"id\":\"42b26200-b7f4-471b-9e6d-e6c695170799\",\"subtype\":\"Figure\",\"type\":\"Plot\"}},\"id\":\"61f77232-55c3-4489-82be-4727ce42cff7\",\"type\":\"ResetTool\"},{\"attributes\":{\"overlay\":{\"id\":\"9c0e4044-0075-4bab-93cd-2135d0fbf321\",\"type\":\"BoxAnnotation\"},\"plot\":{\"id\":\"0fe05308-cf4a-4426-879c-471e75c969f5\",\"subtype\":\"Figure\",\"type\":\"Plot\"}},\"id\":\"e42e9f02-6b77-4928-bc0c-e9fb6b1a9000\",\"type\":\"BoxZoomTool\"},{\"attributes\":{\"data_source\":{\"id\":\"c54f6ef3-fd1e-4379-8521-42a3793a15d1\",\"type\":\"ColumnDataSource\"},\"glyph\":{\"id\":\"435342af-c5cc-44a7-92f6-aeb8068ae0f1\",\"type\":\"Circle\"},\"hover_glyph\":null,\"nonselection_glyph\":{\"id\":\"e8f2fa54-9585-46d6-9615-0039a72a55ee\",\"type\":\"Circle\"},\"selection_glyph\":null},\"id\":\"54ea1f3a-b38f-4d5d-b5a5-ad840f34e8b5\",\"type\":\"GlyphRenderer\"},{\"attributes\":{\"data_source\":{\"id\":\"dc7b137d-f0bb-43b8-b827-c94dcd585c75\",\"type\":\"ColumnDataSource\"},\"glyph\":{\"id\":\"4ae6d25d-58f4-4961-9e1b-0fdb8753c66a\",\"type\":\"Circle\"},\"hover_glyph\":null,\"nonselection_glyph\":{\"id\":\"851bee58-5a22-4835-9b2c-aea0695f75fa\",\"type\":\"Circle\"},\"selection_glyph\":null},\"id\":\"77c0cdbe-40e3-4eda-83be-5f856342095c\",\"type\":\"GlyphRenderer\"},{\"attributes\":{\"callback\":null,\"column_names\":[\"y\",\"x\",\"collab_num\",\"artist\"],\"data\":{\"artist\":[\"Jamie Foxx\",\"T-Pain\",\"Nicki Minaj\",\"Chris Martin\",\"Brandy\",\"The Game\",\"Ludacris\",\"Freeway\"],\"collab_num\":[\"4.0\",\"4.0\",\"5.0\",\"nan\",\"3.0\",\"3.0\",\"0.0\",\"0.0\"],\"x\":[25.40963855421687,18.983471074380166,35.90243902439025,\"NaN\",25.061643835616437,22.8203125,24.944444444444443,5.895161290322581],\"y\":[26.75,19.5,30.8,\"NaN\",28.333333333333332,37.666666666666664,\"NaN\",\"NaN\"]}},\"id\":\"8c0c505e-4838-4f8e-a53c-5dd8f523a6d9\",\"type\":\"ColumnDataSource\"},{\"attributes\":{},\"id\":\"e73411ac-3428-4477-aa37-080f842158ac\",\"type\":\"BasicTicker\"},{\"attributes\":{\"plot\":{\"id\":\"387c4220-e6d0-47c2-9b8e-3fbff398f0de\",\"subtype\":\"Figure\",\"type\":\"Plot\"},\"ticker\":{\"id\":\"792b9fa2-8175-4cd4-bde0-8eb8c30d56d9\",\"type\":\"BasicTicker\"}},\"id\":\"bfd3ce95-5703-452a-91fe-27d886a85f76\",\"type\":\"Grid\"},{\"attributes\":{\"plot\":{\"id\":\"47971771-53df-4b38-b60c-bad39f5e84b5\",\"subtype\":\"Figure\",\"type\":\"Plot\"},\"ticker\":{\"id\":\"a898ee4b-fe93-4e98-a20f-d9402a8a658e\",\"type\":\"BasicTicker\"}},\"id\":\"0516b4b0-0e0c-4fa0-841a-126ae940d625\",\"type\":\"Grid\"},{\"attributes\":{\"plot\":{\"id\":\"494cd51e-c172-4a8e-9508-87ea4175f880\",\"subtype\":\"Figure\",\"type\":\"Plot\"},\"ticker\":{\"id\":\"b40b8b6c-626c-4870-8a5d-a49db98fe2a6\",\"type\":\"BasicTicker\"}},\"id\":\"a6a41275-e7e9-4d0d-8937-cf89f98b9a47\",\"type\":\"Grid\"},{\"attributes\":{\"fill_alpha\":{\"value\":0.1},\"fill_color\":{\"value\":\"#1f77b4\"},\"line_alpha\":{\"value\":0.1},\"line_color\":{\"value\":\"#1f77b4\"},\"size\":{\"units\":\"screen\",\"value\":7},\"x\":{\"field\":\"x\"},\"y\":{\"field\":\"y\"}},\"id\":\"0d6774d6-4517-497d-abe3-23dc9c917fa1\",\"type\":\"Circle\"},{\"attributes\":{},\"id\":\"529ec1a2-de70-473a-96c8-1fb28853411c\",\"type\":\"BasicTicker\"},{\"attributes\":{\"below\":[{\"id\":\"6d9dc42d-f94c-4429-b5b3-3aa35b99c423\",\"type\":\"LinearAxis\"}],\"left\":[{\"id\":\"0b275e77-efc7-45ec-89bd-a12562735c17\",\"type\":\"LinearAxis\"}],\"plot_height\":500,\"renderers\":[{\"id\":\"6d9dc42d-f94c-4429-b5b3-3aa35b99c423\",\"type\":\"LinearAxis\"},{\"id\":\"988c0330-de89-4186-8aed-87f105bb3e7f\",\"type\":\"Grid\"},{\"id\":\"0b275e77-efc7-45ec-89bd-a12562735c17\",\"type\":\"LinearAxis\"},{\"id\":\"11f89492-92f4-412c-a017-e1d356bd4767\",\"type\":\"Grid\"},{\"id\":\"137740ae-405b-4ec7-942b-baeccf40b735\",\"type\":\"BoxAnnotation\"},{\"id\":\"cd85202c-6b95-4eb8-8388-5f349dc17f03\",\"type\":\"GlyphRenderer\"},{\"id\":\"4dfb4a85-6c16-4039-b8ec-7b5a2254f971\",\"type\":\"GlyphRenderer\"},{\"id\":\"8db52d90-e4ae-4655-9bed-bf26b91fc4ff\",\"type\":\"GlyphRenderer\"}],\"tool_events\":{\"id\":\"737f6299-d58c-4cff-b126-9d42d65e12a3\",\"type\":\"ToolEvents\"},\"tools\":[{\"id\":\"de2b77cc-7e9a-4b65-bb29-9fcfc54cdf71\",\"type\":\"BoxZoomTool\"},{\"id\":\"d3d5e184-6019-4d92-99ee-ec4119e1d6d6\",\"type\":\"ResetTool\"},{\"id\":\"6290dd74-73ff-4ffb-8c2b-bdae87044a1d\",\"type\":\"HoverTool\"}],\"x_range\":{\"id\":\"03df4a00-9ec1-47cd-90b2-09c3821babeb\",\"type\":\"DataRange1d\"},\"y_range\":{\"id\":\"8fffcdd6-0326-46a8-a5ca-3972d8bfd5ae\",\"type\":\"DataRange1d\"}},\"id\":\"465ea307-fd56-4097-b766-a39707ca5496\",\"subtype\":\"Figure\",\"type\":\"Plot\"},{\"attributes\":{\"line_dash\":[4,4],\"line_width\":{\"value\":2},\"x\":{\"field\":\"x\"},\"y\":{\"field\":\"y\"}},\"id\":\"f476aeb6-eb9d-428c-becd-9770d2a07bb6\",\"type\":\"Line\"},{\"attributes\":{\"fill_alpha\":{\"value\":0.4},\"fill_color\":{\"value\":\"black\"},\"size\":{\"units\":\"screen\",\"value\":7},\"x\":{\"field\":\"x\"},\"y\":{\"field\":\"y\"}},\"id\":\"08816804-bb44-4171-90ee-92638fc50243\",\"type\":\"Circle\"},{\"attributes\":{\"data_source\":{\"id\":\"0a8faae5-5abd-46a4-b9fb-c728ef53d9bf\",\"type\":\"ColumnDataSource\"},\"glyph\":{\"id\":\"731d1cdb-0b79-4bf9-9473-e8e332233a94\",\"type\":\"Line\"},\"hover_glyph\":null,\"nonselection_glyph\":{\"id\":\"9f28edb4-6f3f-424c-8354-51c7efeda53d\",\"type\":\"Line\"},\"selection_glyph\":null},\"id\":\"6a04e231-8a9a-4bcd-bebc-dbf544017826\",\"type\":\"GlyphRenderer\"},{\"attributes\":{},\"id\":\"25ac2325-15e8-4f3d-8c30-d708cb2e94a8\",\"type\":\"BasicTickFormatter\"},{\"attributes\":{\"callback\":null,\"column_names\":[\"y\",\"x\",\"collab_num\",\"artist\"],\"data\":{\"artist\":[\"Jamie Foxx\",\"T-Pain\",\"Nicki Minaj\",\"Chris Martin\",\"Brandy\",\"The Game\",\"Ludacris\",\"Freeway\"],\"collab_num\":[\"4.0\",\"4.0\",\"5.0\",\"nan\",\"3.0\",\"3.0\",\"0.0\",\"0.0\"],\"x\":[25.40963855421687,18.983471074380166,35.90243902439025,\"NaN\",25.061643835616437,22.8203125,24.944444444444443,5.895161290322581],\"y\":[26.75,19.5,30.8,\"NaN\",28.333333333333332,37.666666666666664,\"NaN\",\"NaN\"]}},\"id\":\"dc7b137d-f0bb-43b8-b827-c94dcd585c75\",\"type\":\"ColumnDataSource\"},{\"attributes\":{\"callback\":null,\"column_names\":[\"y\",\"x\"],\"data\":{\"x\":[19.0,20.0,21.0,22.0,23.0,24.0,25.0,26.0,27.0,28.0,29.0,30.0,31.0,32.0,33.0,34.0,35.0,36.0,37.0,38.0,39.0],\"y\":[26.16662063011134,26.534848947871815,26.903077265632287,27.27130558339276,27.639533901153236,28.00776221891371,28.375990536674184,28.744218854434656,29.112447172195132,29.480675489955605,29.848903807716077,30.217132125476553,30.58536044323703,30.9535887609975,31.321817078757974,31.69004539651845,32.058273714278926,32.426502032039394,32.79473034979987,33.162958667560346,33.531186985320815]}},\"id\":\"306590ec-3ed5-492f-9522-e935834b10cd\",\"type\":\"ColumnDataSource\"},{\"attributes\":{\"line_dash\":[2,2],\"line_width\":{\"value\":2},\"x\":{\"field\":\"x\"},\"y\":{\"field\":\"y\"}},\"id\":\"731d1cdb-0b79-4bf9-9473-e8e332233a94\",\"type\":\"Line\"},{\"attributes\":{\"fill_alpha\":{\"value\":0.4},\"fill_color\":{\"value\":\"black\"},\"size\":{\"units\":\"screen\",\"value\":7},\"x\":{\"field\":\"x\"},\"y\":{\"field\":\"y\"}},\"id\":\"6bb13a09-24fd-43e9-861f-18f6d2d56638\",\"type\":\"Circle\"},{\"attributes\":{\"line_dash\":[4,4],\"line_width\":{\"value\":2},\"x\":{\"field\":\"x\"},\"y\":{\"field\":\"y\"}},\"id\":\"34f2529a-df36-49e0-a5e2-bb05da215047\",\"type\":\"Line\"},{\"attributes\":{\"data_source\":{\"id\":\"e2c7be56-b59c-475e-9632-593a2868d799\",\"type\":\"ColumnDataSource\"},\"glyph\":{\"id\":\"1f096ba0-c477-4a68-8b85-73a8b0b8bb3d\",\"type\":\"Circle\"},\"hover_glyph\":null,\"nonselection_glyph\":{\"id\":\"cea158c6-948f-4e6a-8796-9d4ca219b59a\",\"type\":\"Circle\"},\"selection_glyph\":null},\"id\":\"d45819c6-829f-4261-bb92-ba1c85b0ea9c\",\"type\":\"GlyphRenderer\"},{\"attributes\":{\"below\":[{\"id\":\"fd81386d-9873-48b4-81c3-75227915b1cc\",\"type\":\"LinearAxis\"}],\"left\":[{\"id\":\"d656c675-e24a-4420-822a-b3c6543b96ab\",\"type\":\"LinearAxis\"}],\"plot_height\":500,\"renderers\":[{\"id\":\"fd81386d-9873-48b4-81c3-75227915b1cc\",\"type\":\"LinearAxis\"},{\"id\":\"04c72576-b325-4aee-aeb1-e94d5a1b5f89\",\"type\":\"Grid\"},{\"id\":\"d656c675-e24a-4420-822a-b3c6543b96ab\",\"type\":\"LinearAxis\"},{\"id\":\"edadf3dd-e2c8-4237-ad4a-f2e47a59a42d\",\"type\":\"Grid\"},{\"id\":\"a774185c-950c-4bdb-aefb-1cc3c109f499\",\"type\":\"BoxAnnotation\"},{\"id\":\"3a8b16f2-f4f2-4151-bddb-d87071fa4f13\",\"type\":\"GlyphRenderer\"},{\"id\":\"438f115b-5324-4e4e-bc5b-e324d7c71aa3\",\"type\":\"GlyphRenderer\"}],\"tool_events\":{\"id\":\"cb488cc3-9a51-4e38-b079-3309bfb68ce0\",\"type\":\"ToolEvents\"},\"tools\":[{\"id\":\"7c693b07-886d-4863-9a56-4f7dec862eff\",\"type\":\"BoxZoomTool\"},{\"id\":\"cba643d3-f3d6-4691-acd2-d8a85ed4df10\",\"type\":\"ResetTool\"},{\"id\":\"3ee29314-18ca-4408-a279-78f79394ab3a\",\"type\":\"HoverTool\"}],\"x_range\":{\"id\":\"7742a62b-e786-4090-b84c-fd82a944a704\",\"type\":\"DataRange1d\"},\"y_range\":{\"id\":\"6754149e-7c16-486d-97eb-36ddd972930f\",\"type\":\"DataRange1d\"}},\"id\":\"c408c193-dbd0-4238-9e09-8cca6f1bc118\",\"subtype\":\"Figure\",\"type\":\"Plot\"},{\"attributes\":{\"callback\":null},\"id\":\"7742a62b-e786-4090-b84c-fd82a944a704\",\"type\":\"DataRange1d\"},{\"attributes\":{},\"id\":\"5de7bc3b-ed82-4358-8515-d1e486401b24\",\"type\":\"BasicTicker\"},{\"attributes\":{\"bottom_units\":\"screen\",\"fill_alpha\":{\"value\":0.5},\"fill_color\":{\"value\":\"lightgrey\"},\"left_units\":\"screen\",\"level\":\"overlay\",\"line_alpha\":{\"value\":1.0},\"line_color\":{\"value\":\"black\"},\"line_dash\":[4,4],\"line_width\":{\"value\":2},\"plot\":null,\"render_mode\":\"css\",\"right_units\":\"screen\",\"top_units\":\"screen\"},\"id\":\"6b8cc7e2-c49f-419b-81df-3cbfb0d430fc\",\"type\":\"BoxAnnotation\"},{\"attributes\":{\"callback\":null},\"id\":\"4cf8518b-291f-4d43-81e6-5c1822f305bc\",\"type\":\"DataRange1d\"},{\"attributes\":{\"axis_label\":\"Solo Popularity\",\"formatter\":{\"id\":\"bafe104a-0fce-4306-a243-d8dd97c8a68b\",\"type\":\"BasicTickFormatter\"},\"plot\":{\"id\":\"0fe05308-cf4a-4426-879c-471e75c969f5\",\"subtype\":\"Figure\",\"type\":\"Plot\"},\"ticker\":{\"id\":\"c2910b54-375e-4eea-b8ae-74fe67af195e\",\"type\":\"BasicTicker\"}},\"id\":\"4f276a5d-4338-4dcf-8008-2051e58cf855\",\"type\":\"LinearAxis\"},{\"attributes\":{\"line_color\":{\"value\":\"red\"},\"line_dash\":[2,2],\"line_width\":{\"value\":2},\"x\":{\"field\":\"x\"},\"y\":{\"field\":\"y\"}},\"id\":\"e03d814c-c6a9-4c61-b6b4-92a11e7ddcd2\",\"type\":\"Line\"},{\"attributes\":{\"callback\":null,\"plot\":{\"id\":\"465ea307-fd56-4097-b766-a39707ca5496\",\"subtype\":\"Figure\",\"type\":\"Plot\"},\"tooltips\":[[\"Artist\",\"@artist\"]]},\"id\":\"6290dd74-73ff-4ffb-8c2b-bdae87044a1d\",\"type\":\"HoverTool\"},{\"attributes\":{\"fill_alpha\":{\"value\":0.1},\"fill_color\":{\"value\":\"#1f77b4\"},\"line_alpha\":{\"value\":0.1},\"line_color\":{\"value\":\"#1f77b4\"},\"size\":{\"units\":\"screen\",\"value\":7},\"x\":{\"field\":\"x\"},\"y\":{\"field\":\"y\"}},\"id\":\"6786a4d2-5413-46e1-863a-1cac9dd445f2\",\"type\":\"Circle\"},{\"attributes\":{\"axis_label\":\"Popularity with Kanye West\",\"formatter\":{\"id\":\"e9b8964d-0128-4894-88ae-7dd350ca69b2\",\"type\":\"BasicTickFormatter\"},\"plot\":{\"id\":\"7f392cca-c8ef-45a1-b061-b8211c4efb49\",\"subtype\":\"Figure\",\"type\":\"Plot\"},\"ticker\":{\"id\":\"ae833a0d-1cae-4e9c-be12-06ca6899420e\",\"type\":\"BasicTicker\"}},\"id\":\"24619f12-e62e-467a-9ea8-56433dcb9dbc\",\"type\":\"LinearAxis\"},{\"attributes\":{\"axis_label\":\"Popularity with Kanye West\",\"formatter\":{\"id\":\"5aeb28b3-98dc-4a41-a456-78d098d5e70f\",\"type\":\"BasicTickFormatter\"},\"plot\":{\"id\":\"47971771-53df-4b38-b60c-bad39f5e84b5\",\"subtype\":\"Figure\",\"type\":\"Plot\"},\"ticker\":{\"id\":\"07ed71e1-c7af-446f-a351-33d14d19c438\",\"type\":\"BasicTicker\"}},\"id\":\"a0720abc-ef21-4024-94a4-78cfbee20078\",\"type\":\"LinearAxis\"},{\"attributes\":{\"callback\":null,\"column_names\":[\"y\",\"x\",\"collab_num\",\"artist\"],\"data\":{\"artist\":[\"Jamie Foxx\",\"T-Pain\",\"Nicki Minaj\",\"Chris Martin\",\"Brandy\",\"The Game\",\"Ludacris\",\"Freeway\"],\"collab_num\":[\"4.0\",\"4.0\",\"5.0\",\"nan\",\"3.0\",\"3.0\",\"0.0\",\"0.0\"],\"x\":[25.40963855421687,18.983471074380166,35.90243902439025,\"NaN\",25.061643835616437,22.8203125,24.944444444444443,5.895161290322581],\"y\":[26.75,19.5,30.8,\"NaN\",28.333333333333332,37.666666666666664,\"NaN\",\"NaN\"]}},\"id\":\"e1e4d0ff-ce7b-4355-a585-ca29824aa1eb\",\"type\":\"ColumnDataSource\"},{\"attributes\":{\"callback\":null,\"plot\":{\"id\":\"5764a231-4ab9-4c49-9328-3438f91b1e7d\",\"subtype\":\"Figure\",\"type\":\"Plot\"},\"tooltips\":[[\"Artist\",\"@artist\"]]},\"id\":\"1d63c33a-0d83-49d0-a3d9-2ca1160d297d\",\"type\":\"HoverTool\"},{\"attributes\":{\"axis_label\":\"Solo Popularity\",\"formatter\":{\"id\":\"9786decf-b4e3-4190-8f20-e9c45ba838f7\",\"type\":\"BasicTickFormatter\"},\"plot\":{\"id\":\"465ea307-fd56-4097-b766-a39707ca5496\",\"subtype\":\"Figure\",\"type\":\"Plot\"},\"ticker\":{\"id\":\"7f07fd37-ca7d-4b54-9277-5ac16d86de86\",\"type\":\"BasicTicker\"}},\"id\":\"6d9dc42d-f94c-4429-b5b3-3aa35b99c423\",\"type\":\"LinearAxis\"},{\"attributes\":{},\"id\":\"6f2b0b9e-dbb0-4604-9923-a8252ce718f3\",\"type\":\"BasicTicker\"},{\"attributes\":{},\"id\":\"737f6299-d58c-4cff-b126-9d42d65e12a3\",\"type\":\"ToolEvents\"},{\"attributes\":{\"axis_label\":\"Popularity with Kanye West\",\"formatter\":{\"id\":\"0aa78de7-7153-4d2e-969a-a81bd48cc93f\",\"type\":\"BasicTickFormatter\"},\"plot\":{\"id\":\"c408c193-dbd0-4238-9e09-8cca6f1bc118\",\"subtype\":\"Figure\",\"type\":\"Plot\"},\"ticker\":{\"id\":\"529ec1a2-de70-473a-96c8-1fb28853411c\",\"type\":\"BasicTicker\"}},\"id\":\"d656c675-e24a-4420-822a-b3c6543b96ab\",\"type\":\"LinearAxis\"},{\"attributes\":{\"dimension\":1,\"plot\":{\"id\":\"7f392cca-c8ef-45a1-b061-b8211c4efb49\",\"subtype\":\"Figure\",\"type\":\"Plot\"},\"ticker\":{\"id\":\"ae833a0d-1cae-4e9c-be12-06ca6899420e\",\"type\":\"BasicTicker\"}},\"id\":\"3a68a2fe-f8bc-4c51-bd3f-229fa14617c7\",\"type\":\"Grid\"},{\"attributes\":{\"line_alpha\":{\"value\":0.1},\"line_color\":{\"value\":\"#1f77b4\"},\"line_dash\":[4,4],\"line_width\":{\"value\":2},\"x\":{\"field\":\"x\"},\"y\":{\"field\":\"y\"}},\"id\":\"26f97ca7-0800-4740-9a11-45290f4dc244\",\"type\":\"Line\"},{\"attributes\":{\"callback\":null},\"id\":\"489edb3c-3d3c-4e02-b8c4-130dc1430ec1\",\"type\":\"DataRange1d\"},{\"attributes\":{\"callback\":null},\"id\":\"1a269a2b-8fee-4b30-afe4-fd8ce8cd2b7b\",\"type\":\"DataRange1d\"},{\"attributes\":{\"axis_label\":\"Solo Popularity\",\"formatter\":{\"id\":\"2c6b5e78-4d57-40b0-b69b-38a238170a3a\",\"type\":\"BasicTickFormatter\"},\"plot\":{\"id\":\"494cd51e-c172-4a8e-9508-87ea4175f880\",\"subtype\":\"Figure\",\"type\":\"Plot\"},\"ticker\":{\"id\":\"b40b8b6c-626c-4870-8a5d-a49db98fe2a6\",\"type\":\"BasicTicker\"}},\"id\":\"5133c0af-a4b0-491f-8a10-3538079066f0\",\"type\":\"LinearAxis\"},{\"attributes\":{},\"id\":\"f30e8acb-f3b0-424a-86eb-6615c06e2050\",\"type\":\"BasicTickFormatter\"},{\"attributes\":{\"overlay\":{\"id\":\"484e4b25-1dab-4545-8592-86fcdceb54f3\",\"type\":\"BoxAnnotation\"},\"plot\":{\"id\":\"387c4220-e6d0-47c2-9b8e-3fbff398f0de\",\"subtype\":\"Figure\",\"type\":\"Plot\"}},\"id\":\"334ec9d2-ef73-41b4-bcf8-47c8af4f52e9\",\"type\":\"BoxZoomTool\"},{\"attributes\":{\"data_source\":{\"id\":\"a7948cad-97bf-4cad-aed9-e3a4b0d6f1c4\",\"type\":\"ColumnDataSource\"},\"glyph\":{\"id\":\"cb9e2483-3fca-41a2-97a4-e3d4d62b3f81\",\"type\":\"Circle\"},\"hover_glyph\":null,\"nonselection_glyph\":{\"id\":\"8d2633f0-226c-4cf8-ae43-65e72a7a64f8\",\"type\":\"Circle\"},\"selection_glyph\":null},\"id\":\"cd85202c-6b95-4eb8-8388-5f349dc17f03\",\"type\":\"GlyphRenderer\"},{\"attributes\":{\"axis_label\":\"Solo Popularity\",\"formatter\":{\"id\":\"bd5a5469-b0ee-48bd-9448-8a061ecab4d2\",\"type\":\"BasicTickFormatter\"},\"plot\":{\"id\":\"387c4220-e6d0-47c2-9b8e-3fbff398f0de\",\"subtype\":\"Figure\",\"type\":\"Plot\"},\"ticker\":{\"id\":\"792b9fa2-8175-4cd4-bde0-8eb8c30d56d9\",\"type\":\"BasicTicker\"}},\"id\":\"d8fa35b9-42e1-4b7e-ba8b-98a5e22e165b\",\"type\":\"LinearAxis\"},{\"attributes\":{\"below\":[{\"id\":\"0d4d3d78-174c-41d6-9c39-3eda1fa61e6b\",\"type\":\"LinearAxis\"}],\"left\":[{\"id\":\"28130d74-8a86-453d-9957-e635df769078\",\"type\":\"LinearAxis\"}],\"plot_height\":500,\"renderers\":[{\"id\":\"0d4d3d78-174c-41d6-9c39-3eda1fa61e6b\",\"type\":\"LinearAxis\"},{\"id\":\"b103a797-1aef-46d0-b6f9-88234496a6d5\",\"type\":\"Grid\"},{\"id\":\"28130d74-8a86-453d-9957-e635df769078\",\"type\":\"LinearAxis\"},{\"id\":\"2e87d983-be67-4e22-a7ef-c4e5b9365ba9\",\"type\":\"Grid\"},{\"id\":\"7c6e7d41-e5d1-497a-8512-88cd59321a07\",\"type\":\"BoxAnnotation\"},{\"id\":\"44e6ce02-4d51-4f04-88e0-737de5f6c514\",\"type\":\"GlyphRenderer\"},{\"id\":\"67b16e7a-e842-43a6-9285-4ca463b33146\",\"type\":\"GlyphRenderer\"},{\"id\":\"13fffd45-c09d-4af3-b240-85e20be017ef\",\"type\":\"GlyphRenderer\"}],\"tool_events\":{\"id\":\"6d565847-8f7d-480e-8789-d6179434474a\",\"type\":\"ToolEvents\"},\"tools\":[{\"id\":\"2bc9af22-470f-4403-8977-df86e48379b5\",\"type\":\"BoxZoomTool\"},{\"id\":\"47b6b101-8fda-412a-9a51-9542ae8ada0b\",\"type\":\"ResetTool\"},{\"id\":\"96acb8fe-174e-4ae0-803b-baa4be1d7f7f\",\"type\":\"HoverTool\"}],\"x_range\":{\"id\":\"647b3642-8c91-4c40-be4f-32f19e2f3ce1\",\"type\":\"DataRange1d\"},\"y_range\":{\"id\":\"9906bf21-9c62-4a55-ad77-13712e8f6d01\",\"type\":\"DataRange1d\"}},\"id\":\"ee8bf908-1495-452c-8107-f53650c59665\",\"subtype\":\"Figure\",\"type\":\"Plot\"},{\"attributes\":{},\"id\":\"e141eb5f-afc5-49ee-8d33-71940875c849\",\"type\":\"BasicTickFormatter\"},{\"attributes\":{\"bottom_units\":\"screen\",\"fill_alpha\":{\"value\":0.5},\"fill_color\":{\"value\":\"lightgrey\"},\"left_units\":\"screen\",\"level\":\"overlay\",\"line_alpha\":{\"value\":1.0},\"line_color\":{\"value\":\"black\"},\"line_dash\":[4,4],\"line_width\":{\"value\":2},\"plot\":null,\"render_mode\":\"css\",\"right_units\":\"screen\",\"top_units\":\"screen\"},\"id\":\"9aca23be-c6dc-4acd-9422-c5ca2762911b\",\"type\":\"BoxAnnotation\"},{\"attributes\":{},\"id\":\"3595a915-239a-4368-bb63-c25d9cdc3d4c\",\"type\":\"BasicTickFormatter\"},{\"attributes\":{\"fill_alpha\":{\"value\":0.1},\"fill_color\":{\"value\":\"#1f77b4\"},\"line_alpha\":{\"value\":0.1},\"line_color\":{\"value\":\"#1f77b4\"},\"size\":{\"units\":\"screen\",\"value\":7},\"x\":{\"field\":\"x\"},\"y\":{\"field\":\"y\"}},\"id\":\"8d2633f0-226c-4cf8-ae43-65e72a7a64f8\",\"type\":\"Circle\"},{\"attributes\":{\"dimension\":1,\"plot\":{\"id\":\"ee8bf908-1495-452c-8107-f53650c59665\",\"subtype\":\"Figure\",\"type\":\"Plot\"},\"ticker\":{\"id\":\"6b09b514-4301-45cd-9f3b-5fc4f2cdf195\",\"type\":\"BasicTicker\"}},\"id\":\"2e87d983-be67-4e22-a7ef-c4e5b9365ba9\",\"type\":\"Grid\"},{\"attributes\":{},\"id\":\"b56b338b-5b76-4007-a2ca-22d0040ced1f\",\"type\":\"ToolEvents\"},{\"attributes\":{\"line_color\":{\"value\":\"red\"},\"line_dash\":[4,4],\"line_width\":{\"value\":2},\"x\":{\"field\":\"x\"},\"y\":{\"field\":\"y\"}},\"id\":\"1daa539a-bf95-4376-beb6-bf3d4f14edc5\",\"type\":\"Line\"},{\"attributes\":{\"bottom_units\":\"screen\",\"fill_alpha\":{\"value\":0.5},\"fill_color\":{\"value\":\"lightgrey\"},\"left_units\":\"screen\",\"level\":\"overlay\",\"line_alpha\":{\"value\":1.0},\"line_color\":{\"value\":\"black\"},\"line_dash\":[4,4],\"line_width\":{\"value\":2},\"plot\":null,\"render_mode\":\"css\",\"right_units\":\"screen\",\"top_units\":\"screen\"},\"id\":\"aadc548b-d31b-42b9-af87-7740bbb56164\",\"type\":\"BoxAnnotation\"},{\"attributes\":{},\"id\":\"0236d8d5-167f-4c77-8524-105c0e562af3\",\"type\":\"ToolEvents\"},{\"attributes\":{\"callback\":null},\"id\":\"ccbb9104-18e6-4702-9b16-209d647c07f6\",\"type\":\"DataRange1d\"},{\"attributes\":{\"axis_label\":\"Solo Popularity\",\"formatter\":{\"id\":\"b0c9b0ea-68e1-4027-a5a0-9299aca6686c\",\"type\":\"BasicTickFormatter\"},\"plot\":{\"id\":\"5764a231-4ab9-4c49-9328-3438f91b1e7d\",\"subtype\":\"Figure\",\"type\":\"Plot\"},\"ticker\":{\"id\":\"6f2b0b9e-dbb0-4604-9923-a8252ce718f3\",\"type\":\"BasicTicker\"}},\"id\":\"a3094d5c-d209-4415-abd1-638afbc28c7f\",\"type\":\"LinearAxis\"},{\"attributes\":{},\"id\":\"6262a11f-0cf4-4943-ac1f-902e0e091cab\",\"type\":\"BasicTicker\"},{\"attributes\":{\"callback\":null},\"id\":\"28d98346-021f-4978-97d9-465c315e54d0\",\"type\":\"DataRange1d\"},{\"attributes\":{},\"id\":\"267d6443-e73f-4be3-92fc-625c4991f475\",\"type\":\"BasicTicker\"},{\"attributes\":{\"callback\":null},\"id\":\"8fffcdd6-0326-46a8-a5ca-3972d8bfd5ae\",\"type\":\"DataRange1d\"},{\"attributes\":{\"callback\":null,\"plot\":{\"id\":\"42b26200-b7f4-471b-9e6d-e6c695170799\",\"subtype\":\"Figure\",\"type\":\"Plot\"},\"tooltips\":[[\"Artist\",\"@artist\"]]},\"id\":\"27fef094-80e0-463c-88a0-a63811dba823\",\"type\":\"HoverTool\"},{\"attributes\":{\"plot\":{\"id\":\"ff1a1bb6-7d01-404c-aebc-9eed7b87d723\",\"subtype\":\"Figure\",\"type\":\"Plot\"},\"ticker\":{\"id\":\"e73411ac-3428-4477-aa37-080f842158ac\",\"type\":\"BasicTicker\"}},\"id\":\"161cc818-18e0-4d57-8613-31a8c798ba16\",\"type\":\"Grid\"},{\"attributes\":{\"callback\":null},\"id\":\"ac9e3f57-42a3-4ea2-8b1d-b5fe05c8a0b2\",\"type\":\"DataRange1d\"},{\"attributes\":{\"axis_label\":\"Popularity with Kanye West\",\"formatter\":{\"id\":\"240073e2-c055-4da7-9f2f-ff4f1290563e\",\"type\":\"BasicTickFormatter\"},\"plot\":{\"id\":\"5764a231-4ab9-4c49-9328-3438f91b1e7d\",\"subtype\":\"Figure\",\"type\":\"Plot\"},\"ticker\":{\"id\":\"6262a11f-0cf4-4943-ac1f-902e0e091cab\",\"type\":\"BasicTicker\"}},\"id\":\"bc869fc1-74bc-4e30-8ab3-a5c501823455\",\"type\":\"LinearAxis\"},{\"attributes\":{\"line_alpha\":{\"value\":0.1},\"line_color\":{\"value\":\"#1f77b4\"},\"line_dash\":[2,2],\"line_width\":{\"value\":2},\"x\":{\"field\":\"x\"},\"y\":{\"field\":\"y\"}},\"id\":\"9f28edb4-6f3f-424c-8354-51c7efeda53d\",\"type\":\"Line\"},{\"attributes\":{\"overlay\":{\"id\":\"1df6e5d5-4bbb-4a0b-95ef-b5e03fa02d8c\",\"type\":\"BoxAnnotation\"},\"plot\":{\"id\":\"5764a231-4ab9-4c49-9328-3438f91b1e7d\",\"subtype\":\"Figure\",\"type\":\"Plot\"}},\"id\":\"ec896e0c-eba7-4f39-8b29-67f9e0b72f5a\",\"type\":\"BoxZoomTool\"},{\"attributes\":{\"fill_alpha\":{\"value\":0.1},\"fill_color\":{\"value\":\"#1f77b4\"},\"line_alpha\":{\"value\":0.1},\"line_color\":{\"value\":\"#1f77b4\"},\"size\":{\"units\":\"screen\",\"value\":7},\"x\":{\"field\":\"x\"},\"y\":{\"field\":\"y\"}},\"id\":\"27aeb3a7-f2c5-401c-96f9-7999fec7fa60\",\"type\":\"Circle\"},{\"attributes\":{\"callback\":null,\"column_names\":[\"y\",\"x\",\"collab_num\",\"artist\"],\"data\":{\"artist\":[\"Jamie Foxx\",\"T-Pain\",\"Nicki Minaj\",\"Chris Martin\",\"Brandy\",\"The Game\",\"Ludacris\",\"Freeway\"],\"collab_num\":[\"4.0\",\"4.0\",\"5.0\",\"nan\",\"3.0\",\"3.0\",\"0.0\",\"0.0\"],\"x\":[25.40963855421687,18.983471074380166,35.90243902439025,\"NaN\",25.061643835616437,22.8203125,24.944444444444443,5.895161290322581],\"y\":[26.75,19.5,30.8,\"NaN\",28.333333333333332,37.666666666666664,\"NaN\",\"NaN\"]}},\"id\":\"a7948cad-97bf-4cad-aed9-e3a4b0d6f1c4\",\"type\":\"ColumnDataSource\"},{\"attributes\":{\"data_source\":{\"id\":\"f688e081-54ae-4000-b0c1-b4c79be404b0\",\"type\":\"ColumnDataSource\"},\"glyph\":{\"id\":\"455f0028-ab21-4b42-9ae3-a51201fe6c78\",\"type\":\"Circle\"},\"hover_glyph\":null,\"nonselection_glyph\":{\"id\":\"c38d0e4d-f662-41da-af8c-6a76e4b8baaa\",\"type\":\"Circle\"},\"selection_glyph\":null},\"id\":\"c9336279-14eb-4b13-9b95-8e65edc3b758\",\"type\":\"GlyphRenderer\"},{\"attributes\":{},\"id\":\"4ee9b25a-3189-4b7c-9336-572566206248\",\"type\":\"ToolEvents\"},{\"attributes\":{\"fill_alpha\":{\"value\":0.1},\"fill_color\":{\"value\":\"#1f77b4\"},\"line_alpha\":{\"value\":0.1},\"line_color\":{\"value\":\"#1f77b4\"},\"size\":{\"units\":\"screen\",\"value\":7},\"x\":{\"field\":\"x\"},\"y\":{\"field\":\"y\"}},\"id\":\"851bee58-5a22-4835-9b2c-aea0695f75fa\",\"type\":\"Circle\"},{\"attributes\":{\"callback\":null},\"id\":\"52590b21-8bb8-4a74-90f2-da972174c0c0\",\"type\":\"DataRange1d\"},{\"attributes\":{\"data_source\":{\"id\":\"0e1c062b-b7c2-4596-8ca7-9dacf940f150\",\"type\":\"ColumnDataSource\"},\"glyph\":{\"id\":\"e03d814c-c6a9-4c61-b6b4-92a11e7ddcd2\",\"type\":\"Line\"},\"hover_glyph\":null,\"nonselection_glyph\":{\"id\":\"e02cee4d-4b11-41ae-8a7d-8ad68f9bc24b\",\"type\":\"Line\"},\"selection_glyph\":null},\"id\":\"13fffd45-c09d-4af3-b240-85e20be017ef\",\"type\":\"GlyphRenderer\"},{\"attributes\":{},\"id\":\"ae833a0d-1cae-4e9c-be12-06ca6899420e\",\"type\":\"BasicTicker\"},{\"attributes\":{\"below\":[{\"id\":\"a3094d5c-d209-4415-abd1-638afbc28c7f\",\"type\":\"LinearAxis\"}],\"left\":[{\"id\":\"bc869fc1-74bc-4e30-8ab3-a5c501823455\",\"type\":\"LinearAxis\"}],\"plot_height\":500,\"renderers\":[{\"id\":\"a3094d5c-d209-4415-abd1-638afbc28c7f\",\"type\":\"LinearAxis\"},{\"id\":\"435fd502-6b65-4775-84f1-5c1506a6f054\",\"type\":\"Grid\"},{\"id\":\"bc869fc1-74bc-4e30-8ab3-a5c501823455\",\"type\":\"LinearAxis\"},{\"id\":\"b0b2da8d-42ea-4b94-8986-c19fc6857489\",\"type\":\"Grid\"},{\"id\":\"1df6e5d5-4bbb-4a0b-95ef-b5e03fa02d8c\",\"type\":\"BoxAnnotation\"},{\"id\":\"dec28cad-30a8-4274-aee6-ba946e481d04\",\"type\":\"GlyphRenderer\"},{\"id\":\"0541b06b-01c5-4cd7-a974-b6a3247ac20c\",\"type\":\"GlyphRenderer\"}],\"tool_events\":{\"id\":\"e806422c-8f23-41f7-af8d-a580f0f956c6\",\"type\":\"ToolEvents\"},\"tools\":[{\"id\":\"ec896e0c-eba7-4f39-8b29-67f9e0b72f5a\",\"type\":\"BoxZoomTool\"},{\"id\":\"2ab9de4f-d6bb-4a2d-aa13-b4b003142b83\",\"type\":\"ResetTool\"},{\"id\":\"1d63c33a-0d83-49d0-a3d9-2ca1160d297d\",\"type\":\"HoverTool\"}],\"x_range\":{\"id\":\"c1347798-ab19-44a7-b2c3-d3cba0d48c48\",\"type\":\"DataRange1d\"},\"y_range\":{\"id\":\"f0eb28a7-ac82-4cc6-a0d9-3491caaa4fd5\",\"type\":\"DataRange1d\"}},\"id\":\"5764a231-4ab9-4c49-9328-3438f91b1e7d\",\"subtype\":\"Figure\",\"type\":\"Plot\"},{\"attributes\":{\"callback\":null,\"column_names\":[\"y\",\"x\"],\"data\":{\"x\":[19,40],\"y\":[19,40]}},\"id\":\"08922909-46a1-4560-ac25-91924a281612\",\"type\":\"ColumnDataSource\"},{\"attributes\":{},\"id\":\"df1bb289-664a-4f08-8c5c-c9c8b95400c0\",\"type\":\"BasicTickFormatter\"},{\"attributes\":{\"fill_alpha\":{\"value\":0.1},\"fill_color\":{\"value\":\"#1f77b4\"},\"line_alpha\":{\"value\":0.1},\"line_color\":{\"value\":\"#1f77b4\"},\"size\":{\"units\":\"screen\",\"value\":7},\"x\":{\"field\":\"x\"},\"y\":{\"field\":\"y\"}},\"id\":\"bce50665-677a-4c2d-abc4-b12947fac29c\",\"type\":\"Circle\"},{\"attributes\":{\"dimension\":1,\"plot\":{\"id\":\"5764a231-4ab9-4c49-9328-3438f91b1e7d\",\"subtype\":\"Figure\",\"type\":\"Plot\"},\"ticker\":{\"id\":\"6262a11f-0cf4-4943-ac1f-902e0e091cab\",\"type\":\"BasicTicker\"}},\"id\":\"b0b2da8d-42ea-4b94-8986-c19fc6857489\",\"type\":\"Grid\"},{\"attributes\":{\"line_dash\":[2,2],\"line_width\":{\"value\":2},\"x\":{\"field\":\"x\"},\"y\":{\"field\":\"y\"}},\"id\":\"b1eab63b-2bda-4ee7-8b04-35dd148f6ed6\",\"type\":\"Line\"},{\"attributes\":{\"dimension\":1,\"plot\":{\"id\":\"494cd51e-c172-4a8e-9508-87ea4175f880\",\"subtype\":\"Figure\",\"type\":\"Plot\"},\"ticker\":{\"id\":\"79282433-285a-4f1a-a74a-2b2d66d3e9d3\",\"type\":\"BasicTicker\"}},\"id\":\"0ae04dd9-7428-4f62-8db5-e3d61d60edc4\",\"type\":\"Grid\"},{\"attributes\":{\"bottom_units\":\"screen\",\"fill_alpha\":{\"value\":0.5},\"fill_color\":{\"value\":\"lightgrey\"},\"left_units\":\"screen\",\"level\":\"overlay\",\"line_alpha\":{\"value\":1.0},\"line_color\":{\"value\":\"black\"},\"line_dash\":[4,4],\"line_width\":{\"value\":2},\"plot\":null,\"render_mode\":\"css\",\"right_units\":\"screen\",\"top_units\":\"screen\"},\"id\":\"484e4b25-1dab-4545-8592-86fcdceb54f3\",\"type\":\"BoxAnnotation\"},{\"attributes\":{},\"id\":\"792b9fa2-8175-4cd4-bde0-8eb8c30d56d9\",\"type\":\"BasicTicker\"},{\"attributes\":{\"line_alpha\":{\"value\":0.1},\"line_color\":{\"value\":\"#1f77b4\"},\"line_dash\":[4,4],\"line_width\":{\"value\":2},\"x\":{\"field\":\"x\"},\"y\":{\"field\":\"y\"}},\"id\":\"42268f21-e476-4b7d-81ae-ba5955879cb0\",\"type\":\"Line\"},{\"attributes\":{},\"id\":\"78933b45-6aeb-4b43-ad73-cb75c027d3c1\",\"type\":\"ToolEvents\"},{\"attributes\":{\"dimension\":1,\"plot\":{\"id\":\"ff1a1bb6-7d01-404c-aebc-9eed7b87d723\",\"subtype\":\"Figure\",\"type\":\"Plot\"},\"ticker\":{\"id\":\"55377109-1c2a-45c4-84b1-96af5db97a08\",\"type\":\"BasicTicker\"}},\"id\":\"7138f824-2fb9-4def-99ea-6f57f25a1e9b\",\"type\":\"Grid\"},{\"attributes\":{\"callback\":null},\"id\":\"449eb4b3-0e9e-4386-940d-ed601f759ddb\",\"type\":\"DataRange1d\"},{\"attributes\":{\"plot\":{\"id\":\"bc33107e-aba8-4089-9a78-6fe316ed070a\",\"subtype\":\"Figure\",\"type\":\"Plot\"}},\"id\":\"e41c760d-8dfa-46e4-a26f-8d78a85baa6c\",\"type\":\"ResetTool\"},{\"attributes\":{},\"id\":\"c1c5a629-077a-49f1-818a-01b3d4c02301\",\"type\":\"BasicTickFormatter\"},{\"attributes\":{},\"id\":\"1aab4074-5dd3-4064-b3a1-ccbd7a7477dc\",\"type\":\"BasicTickFormatter\"},{\"attributes\":{\"bottom_units\":\"screen\",\"fill_alpha\":{\"value\":0.5},\"fill_color\":{\"value\":\"lightgrey\"},\"left_units\":\"screen\",\"level\":\"overlay\",\"line_alpha\":{\"value\":1.0},\"line_color\":{\"value\":\"black\"},\"line_dash\":[4,4],\"line_width\":{\"value\":2},\"plot\":null,\"render_mode\":\"css\",\"right_units\":\"screen\",\"top_units\":\"screen\"},\"id\":\"c0dd3053-76b4-4e25-b966-8acc0411c424\",\"type\":\"BoxAnnotation\"},{\"attributes\":{\"plot\":{\"id\":\"7f392cca-c8ef-45a1-b061-b8211c4efb49\",\"subtype\":\"Figure\",\"type\":\"Plot\"},\"ticker\":{\"id\":\"cdad5081-821c-422e-a366-fe4b88b38c38\",\"type\":\"BasicTicker\"}},\"id\":\"90263d47-7e75-49ba-a557-0a51d5258953\",\"type\":\"Grid\"},{\"attributes\":{\"fill_alpha\":{\"value\":0.1},\"fill_color\":{\"value\":\"#1f77b4\"},\"line_alpha\":{\"value\":0.1},\"line_color\":{\"value\":\"#1f77b4\"},\"size\":{\"units\":\"screen\",\"value\":7},\"x\":{\"field\":\"x\"},\"y\":{\"field\":\"y\"}},\"id\":\"c38d0e4d-f662-41da-af8c-6a76e4b8baaa\",\"type\":\"Circle\"},{\"attributes\":{\"data_source\":{\"id\":\"5070377f-ced3-41a6-966e-febed1d616b5\",\"type\":\"ColumnDataSource\"},\"glyph\":{\"id\":\"45854199-e379-4891-950c-ebe39b92db31\",\"type\":\"Circle\"},\"hover_glyph\":null,\"nonselection_glyph\":{\"id\":\"bce50665-677a-4c2d-abc4-b12947fac29c\",\"type\":\"Circle\"},\"selection_glyph\":null},\"id\":\"3a8b16f2-f4f2-4151-bddb-d87071fa4f13\",\"type\":\"GlyphRenderer\"},{\"attributes\":{\"overlay\":{\"id\":\"7c6e7d41-e5d1-497a-8512-88cd59321a07\",\"type\":\"BoxAnnotation\"},\"plot\":{\"id\":\"ee8bf908-1495-452c-8107-f53650c59665\",\"subtype\":\"Figure\",\"type\":\"Plot\"}},\"id\":\"2bc9af22-470f-4403-8977-df86e48379b5\",\"type\":\"BoxZoomTool\"},{\"attributes\":{\"axis_label\":\"Popularity with Kanye West\",\"formatter\":{\"id\":\"f30e8acb-f3b0-424a-86eb-6615c06e2050\",\"type\":\"BasicTickFormatter\"},\"plot\":{\"id\":\"465ea307-fd56-4097-b766-a39707ca5496\",\"subtype\":\"Figure\",\"type\":\"Plot\"},\"ticker\":{\"id\":\"3af64c11-47e0-43db-a7c2-e7b03359c9d4\",\"type\":\"BasicTicker\"}},\"id\":\"0b275e77-efc7-45ec-89bd-a12562735c17\",\"type\":\"LinearAxis\"},{\"attributes\":{},\"id\":\"c40773db-3848-4974-bc25-2474c859dfaa\",\"type\":\"BasicTicker\"},{\"attributes\":{\"plot\":{\"id\":\"ff1a1bb6-7d01-404c-aebc-9eed7b87d723\",\"subtype\":\"Figure\",\"type\":\"Plot\"}},\"id\":\"ce5f2f94-d5c2-46ab-a2b9-9010e1646db9\",\"type\":\"ResetTool\"},{\"attributes\":{\"callback\":null,\"column_names\":[\"y\",\"x\"],\"data\":{\"x\":[0.0,1.0,2.0,3.0,4.0,5.0,6.0,7.0,8.0,9.0,10.0,11.0,12.0,13.0,14.0,15.0,16.0,17.0,18.0,19.0,20.0,21.0,22.0,23.0,24.0,25.0,26.0,27.0,28.0,29.0,30.0,31.0,32.0,33.0,34.0,35.0,36.0,37.0,38.0,39.0,40.0,41.0,42.0,43.0,44.0,45.0,46.0,47.0,48.0,49.0,50.0,51.0,52.0,53.0,54.0,55.0,56.0,57.0,58.0,59.0,60.0,61.0,62.0,63.0,64.0,65.0,66.0,67.0,68.0,69.0,70.0,71.0,72.0,73.0,74.0,75.0,76.0,77.0,78.0,79.0,80.0,81.0,82.0,83.0,84.0,85.0,86.0,87.0,88.0,89.0,90.0,91.0,92.0,93.0,94.0,95.0,96.0,97.0,98.0,99.0],\"y\":[19.170282592662335,19.538510910422808,19.906739228183284,20.274967545943756,20.643195863704232,21.011424181464704,21.37965249922518,21.747880816985653,22.116109134746125,22.4843374525066,22.852565770267073,23.22079408802755,23.589022405788022,23.957250723548498,24.32547904130897,24.693707359069442,25.06193567682992,25.430163994590394,25.798392312350867,26.16662063011134,26.534848947871815,26.903077265632287,27.27130558339276,27.639533901153236,28.00776221891371,28.375990536674184,28.744218854434656,29.112447172195132,29.480675489955605,29.848903807716077,30.217132125476553,30.58536044323703,30.9535887609975,31.321817078757974,31.69004539651845,32.058273714278926,32.426502032039394,32.79473034979987,33.162958667560346,33.531186985320815,33.89941530308129,34.26764362084177,34.63587193860224,35.00410025636272,35.37232857412319,35.740556891883664,36.10878520964414,36.47701352740461,36.845241845165084,37.21347016292556,37.58169848068603,37.949926798446505,38.31815511620698,38.68638343396745,39.05461175172793,39.4228400694884,39.79106838724887,40.15929670500935,40.52752502276982,40.8957533405303,41.263981658290774,41.63220997605124,42.00043829381172,42.368666611572195,42.736894929332664,43.10512324709314,43.473351564853616,43.841579882614084,44.20980820037457,44.578036518135036,44.94626483589551,45.31449315365599,45.68272147141646,46.05094978917693,46.41917810693741,46.78740642469788,47.15563474245835,47.52386306021883,47.8920913779793,48.26031969573978,48.62854801350025,48.99677633126072,49.3650046490212,49.73323296678167,50.10146128454215,50.46968960230262,50.83791792006309,51.206146237823575,51.57437455558404,51.94260287334451,52.310831191104995,52.679059508865464,53.04728782662593,53.415516144386416,53.783744462146885,54.151972779907354,54.52020109766784,54.888429415428305,55.256657733188774,55.62488605094926]}},\"id\":\"d33a9ccc-2d01-4496-8c6a-4246cf8ae117\",\"type\":\"ColumnDataSource\"},{\"attributes\":{\"callback\":null},\"id\":\"9906bf21-9c62-4a55-ad77-13712e8f6d01\",\"type\":\"DataRange1d\"},{\"attributes\":{\"callback\":null},\"id\":\"55ffec82-6e5b-4adf-ba51-1364bfefecf6\",\"type\":\"DataRange1d\"},{\"attributes\":{\"bottom_units\":\"screen\",\"fill_alpha\":{\"value\":0.5},\"fill_color\":{\"value\":\"lightgrey\"},\"left_units\":\"screen\",\"level\":\"overlay\",\"line_alpha\":{\"value\":1.0},\"line_color\":{\"value\":\"black\"},\"line_dash\":[4,4],\"line_width\":{\"value\":2},\"plot\":null,\"render_mode\":\"css\",\"right_units\":\"screen\",\"top_units\":\"screen\"},\"id\":\"a774185c-950c-4bdb-aefb-1cc3c109f499\",\"type\":\"BoxAnnotation\"},{\"attributes\":{\"plot\":{\"id\":\"ee8bf908-1495-452c-8107-f53650c59665\",\"subtype\":\"Figure\",\"type\":\"Plot\"},\"ticker\":{\"id\":\"c40773db-3848-4974-bc25-2474c859dfaa\",\"type\":\"BasicTicker\"}},\"id\":\"b103a797-1aef-46d0-b6f9-88234496a6d5\",\"type\":\"Grid\"},{\"attributes\":{\"callback\":null,\"column_names\":[\"y\",\"x\"],\"data\":{\"x\":[19.0,20.0,21.0,22.0,23.0,24.0,25.0,26.0,27.0,28.0,29.0,30.0,31.0,32.0,33.0,34.0,35.0,36.0,37.0,38.0,39.0],\"y\":[26.16662063011134,26.534848947871815,26.903077265632287,27.27130558339276,27.639533901153236,28.00776221891371,28.375990536674184,28.744218854434656,29.112447172195132,29.480675489955605,29.848903807716077,30.217132125476553,30.58536044323703,30.9535887609975,31.321817078757974,31.69004539651845,32.058273714278926,32.426502032039394,32.79473034979987,33.162958667560346,33.531186985320815]}},\"id\":\"c0aa8a4c-fcbc-4c39-aaa7-0ff189aefd4c\",\"type\":\"ColumnDataSource\"},{\"attributes\":{\"data_source\":{\"id\":\"e1cd52f1-da9e-48cf-98b1-a85cad3513e0\",\"type\":\"ColumnDataSource\"},\"glyph\":{\"id\":\"2a991302-8fe7-4ee3-9c9a-7674f486a93c\",\"type\":\"Line\"},\"hover_glyph\":null,\"nonselection_glyph\":{\"id\":\"26f97ca7-0800-4740-9a11-45290f4dc244\",\"type\":\"Line\"},\"selection_glyph\":null},\"id\":\"438f115b-5324-4e4e-bc5b-e324d7c71aa3\",\"type\":\"GlyphRenderer\"},{\"attributes\":{},\"id\":\"c66e3a1c-9eb6-46c8-8c88-4d2b54546018\",\"type\":\"BasicTickFormatter\"},{\"attributes\":{},\"id\":\"08e043e0-0a11-4fb2-b754-5733aba1213e\",\"type\":\"BasicTickFormatter\"},{\"attributes\":{\"axis_label\":\"Popularity with Kanye West\",\"formatter\":{\"id\":\"b5bfe713-f35e-4226-af21-4e9aff07d8da\",\"type\":\"BasicTickFormatter\"},\"plot\":{\"id\":\"bc33107e-aba8-4089-9a78-6fe316ed070a\",\"subtype\":\"Figure\",\"type\":\"Plot\"},\"ticker\":{\"id\":\"efb8f2c0-bbca-49df-8e88-7365295f4b2d\",\"type\":\"BasicTicker\"}},\"id\":\"655ff762-7fbf-42f0-a361-9e58631dcb91\",\"type\":\"LinearAxis\"},{\"attributes\":{\"bottom_units\":\"screen\",\"fill_alpha\":{\"value\":0.5},\"fill_color\":{\"value\":\"lightgrey\"},\"left_units\":\"screen\",\"level\":\"overlay\",\"line_alpha\":{\"value\":1.0},\"line_color\":{\"value\":\"black\"},\"line_dash\":[4,4],\"line_width\":{\"value\":2},\"plot\":null,\"render_mode\":\"css\",\"right_units\":\"screen\",\"top_units\":\"screen\"},\"id\":\"2ecfde08-19f9-4196-b965-0577f13a4180\",\"type\":\"BoxAnnotation\"},{\"attributes\":{\"fill_alpha\":{\"value\":0.4},\"fill_color\":{\"value\":\"black\"},\"size\":{\"units\":\"screen\",\"value\":7},\"x\":{\"field\":\"x\"},\"y\":{\"field\":\"y\"}},\"id\":\"cb9e2483-3fca-41a2-97a4-e3d4d62b3f81\",\"type\":\"Circle\"},{\"attributes\":{\"callback\":null},\"id\":\"541a4307-be09-4c51-a056-1c25ad812954\",\"type\":\"DataRange1d\"},{\"attributes\":{\"data_source\":{\"id\":\"6c473c5c-a512-44c6-8c86-dcfbc467f65c\",\"type\":\"ColumnDataSource\"},\"glyph\":{\"id\":\"f476aeb6-eb9d-428c-becd-9770d2a07bb6\",\"type\":\"Line\"},\"hover_glyph\":null,\"nonselection_glyph\":{\"id\":\"fd041c1d-5550-4276-8cfa-a0e8e5c577b5\",\"type\":\"Line\"},\"selection_glyph\":null},\"id\":\"4dfb4a85-6c16-4039-b8ec-7b5a2254f971\",\"type\":\"GlyphRenderer\"},{\"attributes\":{\"fill_alpha\":{\"value\":0.4},\"fill_color\":{\"value\":\"black\"},\"size\":{\"units\":\"screen\",\"value\":7},\"x\":{\"field\":\"x\"},\"y\":{\"field\":\"y\"}},\"id\":\"1f096ba0-c477-4a68-8b85-73a8b0b8bb3d\",\"type\":\"Circle\"},{\"attributes\":{\"callback\":null,\"plot\":{\"id\":\"47971771-53df-4b38-b60c-bad39f5e84b5\",\"subtype\":\"Figure\",\"type\":\"Plot\"},\"tooltips\":[[\"Artist\",\"@artist\"]]},\"id\":\"68c2efca-99c3-4e53-b05c-675451f7d390\",\"type\":\"HoverTool\"},{\"attributes\":{},\"id\":\"240073e2-c055-4da7-9f2f-ff4f1290563e\",\"type\":\"BasicTickFormatter\"},{\"attributes\":{},\"id\":\"6d565847-8f7d-480e-8789-d6179434474a\",\"type\":\"ToolEvents\"},{\"attributes\":{\"callback\":null,\"column_names\":[\"y\",\"x\"],\"data\":{\"x\":[19.0,20.0,21.0,22.0,23.0,24.0,25.0,26.0,27.0,28.0,29.0,30.0,31.0,32.0,33.0,34.0,35.0,36.0,37.0,38.0,39.0],\"y\":[26.16662063011134,26.534848947871815,26.903077265632287,27.27130558339276,27.639533901153236,28.00776221891371,28.375990536674184,28.744218854434656,29.112447172195132,29.480675489955605,29.848903807716077,30.217132125476553,30.58536044323703,30.9535887609975,31.321817078757974,31.69004539651845,32.058273714278926,32.426502032039394,32.79473034979987,33.162958667560346,33.531186985320815]}},\"id\":\"5dbc1506-500e-46ee-9517-fb7767232651\",\"type\":\"ColumnDataSource\"},{\"attributes\":{\"line_dash\":[2,2],\"line_width\":{\"value\":2},\"x\":{\"field\":\"x\"},\"y\":{\"field\":\"y\"}},\"id\":\"ee3915e9-020d-4e28-adee-d8c845b82e30\",\"type\":\"Line\"},{\"attributes\":{\"data_source\":{\"id\":\"96a3e152-22a7-41e1-9104-d977ff0941ea\",\"type\":\"ColumnDataSource\"},\"glyph\":{\"id\":\"a075b257-ff41-4112-8938-7f163333edcc\",\"type\":\"Line\"},\"hover_glyph\":null,\"nonselection_glyph\":{\"id\":\"58a4146b-0bf2-4493-956b-fe99a4627ab6\",\"type\":\"Line\"},\"selection_glyph\":null},\"id\":\"67b16e7a-e842-43a6-9285-4ca463b33146\",\"type\":\"GlyphRenderer\"},{\"attributes\":{\"callback\":null,\"column_names\":[\"y\",\"x\",\"collab_num\",\"artist\"],\"data\":{\"artist\":[\"Jamie Foxx\",\"T-Pain\",\"Nicki Minaj\",\"Chris Martin\",\"Brandy\",\"The Game\",\"Ludacris\",\"Freeway\"],\"collab_num\":[\"4.0\",\"4.0\",\"5.0\",\"nan\",\"3.0\",\"3.0\",\"0.0\",\"0.0\"],\"x\":[25.40963855421687,18.983471074380166,35.90243902439025,\"NaN\",25.061643835616437,22.8203125,24.944444444444443,5.895161290322581],\"y\":[26.75,19.5,30.8,\"NaN\",28.333333333333332,37.666666666666664,\"NaN\",\"NaN\"]}},\"id\":\"7f337833-e8ab-48e3-95ec-7113fd4bd801\",\"type\":\"ColumnDataSource\"},{\"attributes\":{\"overlay\":{\"id\":\"61c4ba21-a8cd-4fba-afce-332f48a5dde7\",\"type\":\"BoxAnnotation\"},\"plot\":{\"id\":\"47971771-53df-4b38-b60c-bad39f5e84b5\",\"subtype\":\"Figure\",\"type\":\"Plot\"}},\"id\":\"3c5d9ad8-e4e1-47b7-877a-b9ea4299d88f\",\"type\":\"BoxZoomTool\"},{\"attributes\":{},\"id\":\"b0c9b0ea-68e1-4027-a5a0-9299aca6686c\",\"type\":\"BasicTickFormatter\"},{\"attributes\":{\"axis_label\":\"Solo Popularity\",\"formatter\":{\"id\":\"1aab4074-5dd3-4064-b3a1-ccbd7a7477dc\",\"type\":\"BasicTickFormatter\"},\"plot\":{\"id\":\"ff1a1bb6-7d01-404c-aebc-9eed7b87d723\",\"subtype\":\"Figure\",\"type\":\"Plot\"},\"ticker\":{\"id\":\"e73411ac-3428-4477-aa37-080f842158ac\",\"type\":\"BasicTicker\"}},\"id\":\"4ac583c0-12b1-4b9a-a706-0ac2cf3a9fd0\",\"type\":\"LinearAxis\"},{\"attributes\":{\"plot\":{\"id\":\"465ea307-fd56-4097-b766-a39707ca5496\",\"subtype\":\"Figure\",\"type\":\"Plot\"},\"ticker\":{\"id\":\"7f07fd37-ca7d-4b54-9277-5ac16d86de86\",\"type\":\"BasicTicker\"}},\"id\":\"988c0330-de89-4186-8aed-87f105bb3e7f\",\"type\":\"Grid\"},{\"attributes\":{\"callback\":null},\"id\":\"bb3838a2-e6ba-458c-8dc3-1a1985b03403\",\"type\":\"DataRange1d\"},{\"attributes\":{\"callback\":null},\"id\":\"e3a36d54-151b-4bf1-b6ec-da083016a5ae\",\"type\":\"DataRange1d\"},{\"attributes\":{\"dimension\":1,\"plot\":{\"id\":\"465ea307-fd56-4097-b766-a39707ca5496\",\"subtype\":\"Figure\",\"type\":\"Plot\"},\"ticker\":{\"id\":\"3af64c11-47e0-43db-a7c2-e7b03359c9d4\",\"type\":\"BasicTicker\"}},\"id\":\"11f89492-92f4-412c-a017-e1d356bd4767\",\"type\":\"Grid\"},{\"attributes\":{\"dimension\":1,\"plot\":{\"id\":\"42b26200-b7f4-471b-9e6d-e6c695170799\",\"subtype\":\"Figure\",\"type\":\"Plot\"},\"ticker\":{\"id\":\"5ef632b3-ad3a-427f-b124-cad2d7ef19f3\",\"type\":\"BasicTicker\"}},\"id\":\"f842f1fe-1958-4218-bba5-8aaea3798260\",\"type\":\"Grid\"},{\"attributes\":{\"data_source\":{\"id\":\"52447346-c2c7-4d60-a2ec-4228f65cb3fe\",\"type\":\"ColumnDataSource\"},\"glyph\":{\"id\":\"3d46be53-674c-403f-930d-d04390b3dff3\",\"type\":\"Line\"},\"hover_glyph\":null,\"nonselection_glyph\":{\"id\":\"74390606-6983-43b0-b4e6-daf16d37fc4b\",\"type\":\"Line\"},\"selection_glyph\":null},\"id\":\"8db52d90-e4ae-4655-9bed-bf26b91fc4ff\",\"type\":\"GlyphRenderer\"},{\"attributes\":{\"plot\":{\"id\":\"0fe05308-cf4a-4426-879c-471e75c969f5\",\"subtype\":\"Figure\",\"type\":\"Plot\"}},\"id\":\"4c921ec2-0233-40d2-93bd-497f969789c2\",\"type\":\"ResetTool\"},{\"attributes\":{\"callback\":null},\"id\":\"647b3642-8c91-4c40-be4f-32f19e2f3ce1\",\"type\":\"DataRange1d\"},{\"attributes\":{\"overlay\":{\"id\":\"137740ae-405b-4ec7-942b-baeccf40b735\",\"type\":\"BoxAnnotation\"},\"plot\":{\"id\":\"465ea307-fd56-4097-b766-a39707ca5496\",\"subtype\":\"Figure\",\"type\":\"Plot\"}},\"id\":\"de2b77cc-7e9a-4b65-bb29-9fcfc54cdf71\",\"type\":\"BoxZoomTool\"},{\"attributes\":{\"fill_alpha\":{\"value\":0.4},\"fill_color\":{\"value\":\"black\"},\"size\":{\"units\":\"screen\",\"value\":7},\"x\":{\"field\":\"x\"},\"y\":{\"field\":\"y\"}},\"id\":\"455f0028-ab21-4b42-9ae3-a51201fe6c78\",\"type\":\"Circle\"},{\"attributes\":{\"plot\":{\"id\":\"ee8bf908-1495-452c-8107-f53650c59665\",\"subtype\":\"Figure\",\"type\":\"Plot\"}},\"id\":\"47b6b101-8fda-412a-9a51-9542ae8ada0b\",\"type\":\"ResetTool\"},{\"attributes\":{},\"id\":\"e933a7cb-abc9-4d42-b43e-bb189a2a3414\",\"type\":\"BasicTicker\"},{\"attributes\":{\"overlay\":{\"id\":\"aadc548b-d31b-42b9-af87-7740bbb56164\",\"type\":\"BoxAnnotation\"},\"plot\":{\"id\":\"bc33107e-aba8-4089-9a78-6fe316ed070a\",\"subtype\":\"Figure\",\"type\":\"Plot\"}},\"id\":\"b14b4a4a-6696-4daf-937c-9e85fd6382e0\",\"type\":\"BoxZoomTool\"},{\"attributes\":{\"callback\":null,\"plot\":{\"id\":\"7f392cca-c8ef-45a1-b061-b8211c4efb49\",\"subtype\":\"Figure\",\"type\":\"Plot\"},\"tooltips\":[[\"Artist\",\"@artist\"]]},\"id\":\"9fd1da84-5439-41b6-b2f7-9f830e6e064e\",\"type\":\"HoverTool\"},{\"attributes\":{\"bottom_units\":\"screen\",\"fill_alpha\":{\"value\":0.5},\"fill_color\":{\"value\":\"lightgrey\"},\"left_units\":\"screen\",\"level\":\"overlay\",\"line_alpha\":{\"value\":1.0},\"line_color\":{\"value\":\"black\"},\"line_dash\":[4,4],\"line_width\":{\"value\":2},\"plot\":null,\"render_mode\":\"css\",\"right_units\":\"screen\",\"top_units\":\"screen\"},\"id\":\"61c4ba21-a8cd-4fba-afce-332f48a5dde7\",\"type\":\"BoxAnnotation\"},{\"attributes\":{\"axis_label\":\"Solo Popularity\",\"formatter\":{\"id\":\"d08bd846-ff75-4478-858e-52d19ba837ee\",\"type\":\"BasicTickFormatter\"},\"major_label_text_font_size\":{\"value\":\"0pt\"},\"plot\":{\"id\":\"bc33107e-aba8-4089-9a78-6fe316ed070a\",\"subtype\":\"Figure\",\"type\":\"Plot\"},\"ticker\":{\"id\":\"598b8d9e-7b85-4f63-a5a4-378f5dc4843e\",\"type\":\"BasicTicker\"}},\"id\":\"a08fd6d1-8804-4972-886e-4610e50b54fe\",\"type\":\"LinearAxis\"},{\"attributes\":{\"plot\":{\"id\":\"47971771-53df-4b38-b60c-bad39f5e84b5\",\"subtype\":\"Figure\",\"type\":\"Plot\"}},\"id\":\"fdcd262b-16b4-42cf-b472-81dc1553c12e\",\"type\":\"ResetTool\"},{\"attributes\":{\"callback\":null,\"plot\":{\"id\":\"bc33107e-aba8-4089-9a78-6fe316ed070a\",\"subtype\":\"Figure\",\"type\":\"Plot\"},\"tooltips\":[[\"Artist\",\"@artist\"]]},\"id\":\"4500b645-7623-4d36-b664-5d55d83b4ae7\",\"type\":\"HoverTool\"},{\"attributes\":{\"data_source\":{\"id\":\"e1e4d0ff-ce7b-4355-a585-ca29824aa1eb\",\"type\":\"ColumnDataSource\"},\"glyph\":{\"id\":\"b2db8c6b-6f1c-4381-b554-a1d1602d5a3f\",\"type\":\"Circle\"},\"hover_glyph\":null,\"nonselection_glyph\":{\"id\":\"cde6d0e7-1351-41e1-b70d-7500fcee393c\",\"type\":\"Circle\"},\"selection_glyph\":null},\"id\":\"202fe497-01c3-4cc8-b929-057af07e1aa2\",\"type\":\"GlyphRenderer\"},{\"attributes\":{\"line_dash\":[4,4],\"line_width\":{\"value\":2},\"x\":{\"field\":\"x\"},\"y\":{\"field\":\"y\"}},\"id\":\"a2a2b367-962d-441a-8368-c7355a287828\",\"type\":\"Line\"},{\"attributes\":{\"plot\":{\"id\":\"c408c193-dbd0-4238-9e09-8cca6f1bc118\",\"subtype\":\"Figure\",\"type\":\"Plot\"}},\"id\":\"cba643d3-f3d6-4691-acd2-d8a85ed4df10\",\"type\":\"ResetTool\"},{\"attributes\":{\"data_source\":{\"id\":\"dd033a3f-a1ca-406d-86f3-7a4b37d2088f\",\"type\":\"ColumnDataSource\"},\"glyph\":{\"id\":\"6bb13a09-24fd-43e9-861f-18f6d2d56638\",\"type\":\"Circle\"},\"hover_glyph\":null,\"nonselection_glyph\":{\"id\":\"27aeb3a7-f2c5-401c-96f9-7999fec7fa60\",\"type\":\"Circle\"},\"selection_glyph\":null},\"id\":\"dec28cad-30a8-4274-aee6-ba946e481d04\",\"type\":\"GlyphRenderer\"},{\"attributes\":{\"fill_alpha\":{\"value\":0.1},\"fill_color\":{\"value\":\"#1f77b4\"},\"line_alpha\":{\"value\":0.1},\"line_color\":{\"value\":\"#1f77b4\"},\"size\":{\"units\":\"screen\",\"value\":7},\"x\":{\"field\":\"x\"},\"y\":{\"field\":\"y\"}},\"id\":\"cea158c6-948f-4e6a-8796-9d4ca219b59a\",\"type\":\"Circle\"},{\"attributes\":{\"below\":[{\"id\":\"3e551207-914c-44ea-bdcb-b97affca05b7\",\"type\":\"LinearAxis\"}],\"left\":[{\"id\":\"ec64ff70-8e68-4a7f-8675-b91dbd9faa3b\",\"type\":\"LinearAxis\"}],\"plot_height\":500,\"renderers\":[{\"id\":\"3e551207-914c-44ea-bdcb-b97affca05b7\",\"type\":\"LinearAxis\"},{\"id\":\"a3dcfc44-8bad-465d-9066-5fa6f383cdec\",\"type\":\"Grid\"},{\"id\":\"ec64ff70-8e68-4a7f-8675-b91dbd9faa3b\",\"type\":\"LinearAxis\"},{\"id\":\"f842f1fe-1958-4218-bba5-8aaea3798260\",\"type\":\"Grid\"},{\"id\":\"6b8cc7e2-c49f-419b-81df-3cbfb0d430fc\",\"type\":\"BoxAnnotation\"},{\"id\":\"77c0cdbe-40e3-4eda-83be-5f856342095c\",\"type\":\"GlyphRenderer\"}],\"tool_events\":{\"id\":\"6d7378df-fa92-414c-85b2-683c9fa2882c\",\"type\":\"ToolEvents\"},\"tools\":[{\"id\":\"c0db36a3-d013-43d5-9a23-edd7d42c08ff\",\"type\":\"BoxZoomTool\"},{\"id\":\"61f77232-55c3-4489-82be-4727ce42cff7\",\"type\":\"ResetTool\"},{\"id\":\"27fef094-80e0-463c-88a0-a63811dba823\",\"type\":\"HoverTool\"}],\"x_range\":{\"id\":\"541a4307-be09-4c51-a056-1c25ad812954\",\"type\":\"DataRange1d\"},\"y_range\":{\"id\":\"55ffec82-6e5b-4adf-ba51-1364bfefecf6\",\"type\":\"DataRange1d\"}},\"id\":\"42b26200-b7f4-471b-9e6d-e6c695170799\",\"subtype\":\"Figure\",\"type\":\"Plot\"},{\"attributes\":{\"callback\":null,\"plot\":{\"id\":\"387c4220-e6d0-47c2-9b8e-3fbff398f0de\",\"subtype\":\"Figure\",\"type\":\"Plot\"},\"tooltips\":[[\"Artist\",\"@artist\"]]},\"id\":\"c80296f4-2421-4eb3-8d7f-b666bea840a4\",\"type\":\"HoverTool\"},{\"attributes\":{\"legends\":[[\"Linear Regression\",[{\"id\":\"f4f95378-bd33-4b6c-b821-262c169350ee\",\"type\":\"GlyphRenderer\"}]],[\"One-to-One\",[{\"id\":\"6a04e231-8a9a-4bcd-bebc-dbf544017826\",\"type\":\"GlyphRenderer\"}]]],\"plot\":{\"id\":\"0fe05308-cf4a-4426-879c-471e75c969f5\",\"subtype\":\"Figure\",\"type\":\"Plot\"}},\"id\":\"ddb55c73-7358-4963-8be5-c8fbff151841\",\"type\":\"Legend\"},{\"attributes\":{\"data_source\":{\"id\":\"5dbc1506-500e-46ee-9517-fb7767232651\",\"type\":\"ColumnDataSource\"},\"glyph\":{\"id\":\"583354ec-a42f-43ef-82e4-e32eaf70655a\",\"type\":\"Line\"},\"hover_glyph\":null,\"nonselection_glyph\":{\"id\":\"118f3769-12ed-4a5b-a73e-b606d5297809\",\"type\":\"Line\"},\"selection_glyph\":null},\"id\":\"90e24dd6-27b7-477e-8ae2-7ddb6c312133\",\"type\":\"GlyphRenderer\"},{\"attributes\":{\"below\":[{\"id\":\"97b5f9ab-4917-4fd0-acef-f324b2998f4a\",\"type\":\"LinearAxis\"}],\"left\":[{\"id\":\"24619f12-e62e-467a-9ea8-56433dcb9dbc\",\"type\":\"LinearAxis\"}],\"plot_height\":500,\"renderers\":[{\"id\":\"97b5f9ab-4917-4fd0-acef-f324b2998f4a\",\"type\":\"LinearAxis\"},{\"id\":\"90263d47-7e75-49ba-a557-0a51d5258953\",\"type\":\"Grid\"},{\"id\":\"24619f12-e62e-467a-9ea8-56433dcb9dbc\",\"type\":\"LinearAxis\"},{\"id\":\"3a68a2fe-f8bc-4c51-bd3f-229fa14617c7\",\"type\":\"Grid\"},{\"id\":\"c0dd3053-76b4-4e25-b966-8acc0411c424\",\"type\":\"BoxAnnotation\"},{\"id\":\"106ba6b8-830b-4a09-a9c2-0c7c380a8277\",\"type\":\"GlyphRenderer\"},{\"id\":\"967cd272-7a3d-414d-a504-5eee000b33b9\",\"type\":\"GlyphRenderer\"}],\"tool_events\":{\"id\":\"ec4b378c-0d7b-45ae-8085-4775dfb0b916\",\"type\":\"ToolEvents\"},\"tools\":[{\"id\":\"226aa19d-c54e-46cb-b0e8-06cbcd00722c\",\"type\":\"BoxZoomTool\"},{\"id\":\"8ce41f1a-4203-4ba8-b27f-0e485eeefdbb\",\"type\":\"ResetTool\"},{\"id\":\"9fd1da84-5439-41b6-b2f7-9f830e6e064e\",\"type\":\"HoverTool\"}],\"x_range\":{\"id\":\"abde4c6e-7c47-4cfb-9bea-14be5a564ec7\",\"type\":\"DataRange1d\"},\"y_range\":{\"id\":\"28d98346-021f-4978-97d9-465c315e54d0\",\"type\":\"DataRange1d\"}},\"id\":\"7f392cca-c8ef-45a1-b061-b8211c4efb49\",\"subtype\":\"Figure\",\"type\":\"Plot\"},{\"attributes\":{\"callback\":null,\"column_names\":[\"y\",\"x\",\"collab_num\",\"artist\"],\"data\":{\"artist\":[\"Jamie Foxx\",\"T-Pain\",\"Nicki Minaj\",\"Chris Martin\",\"Brandy\",\"The Game\",\"Ludacris\",\"Freeway\"],\"collab_num\":[\"4.0\",\"4.0\",\"5.0\",\"nan\",\"3.0\",\"3.0\",\"0.0\",\"0.0\"],\"x\":[25.40963855421687,18.983471074380166,35.90243902439025,\"NaN\",25.061643835616437,22.8203125,24.944444444444443,5.895161290322581],\"y\":[26.75,19.5,30.8,\"NaN\",28.333333333333332,37.666666666666664,\"NaN\",\"NaN\"]}},\"id\":\"5070377f-ced3-41a6-966e-febed1d616b5\",\"type\":\"ColumnDataSource\"},{\"attributes\":{},\"id\":\"dedb3376-8ac0-40d7-868b-5d065da72feb\",\"type\":\"ToolEvents\"},{\"attributes\":{\"below\":[{\"id\":\"4f276a5d-4338-4dcf-8008-2051e58cf855\",\"type\":\"LinearAxis\"}],\"left\":[{\"id\":\"a594a4d0-e49f-4a4a-8f9c-59a5e1d25a48\",\"type\":\"LinearAxis\"}],\"plot_height\":500,\"renderers\":[{\"id\":\"4f276a5d-4338-4dcf-8008-2051e58cf855\",\"type\":\"LinearAxis\"},{\"id\":\"0a557f6c-60a8-4f3a-85f8-d7314fe3d756\",\"type\":\"Grid\"},{\"id\":\"a594a4d0-e49f-4a4a-8f9c-59a5e1d25a48\",\"type\":\"LinearAxis\"},{\"id\":\"ce7a668c-bfb0-4310-8106-b9e69a8dbacd\",\"type\":\"Grid\"},{\"id\":\"9c0e4044-0075-4bab-93cd-2135d0fbf321\",\"type\":\"BoxAnnotation\"},{\"id\":\"202fe497-01c3-4cc8-b929-057af07e1aa2\",\"type\":\"GlyphRenderer\"},{\"id\":\"ddb55c73-7358-4963-8be5-c8fbff151841\",\"type\":\"Legend\"},{\"id\":\"f4f95378-bd33-4b6c-b821-262c169350ee\",\"type\":\"GlyphRenderer\"},{\"id\":\"6a04e231-8a9a-4bcd-bebc-dbf544017826\",\"type\":\"GlyphRenderer\"}],\"tool_events\":{\"id\":\"b56b338b-5b76-4007-a2ca-22d0040ced1f\",\"type\":\"ToolEvents\"},\"tools\":[{\"id\":\"e42e9f02-6b77-4928-bc0c-e9fb6b1a9000\",\"type\":\"BoxZoomTool\"},{\"id\":\"4c921ec2-0233-40d2-93bd-497f969789c2\",\"type\":\"ResetTool\"},{\"id\":\"b936b873-cc29-4511-bb22-536d1ec64ada\",\"type\":\"HoverTool\"}],\"x_range\":{\"id\":\"52590b21-8bb8-4a74-90f2-da972174c0c0\",\"type\":\"DataRange1d\"},\"y_range\":{\"id\":\"489edb3c-3d3c-4e02-b8c4-130dc1430ec1\",\"type\":\"DataRange1d\"}},\"id\":\"0fe05308-cf4a-4426-879c-471e75c969f5\",\"subtype\":\"Figure\",\"type\":\"Plot\"},{\"attributes\":{\"plot\":{\"id\":\"42b26200-b7f4-471b-9e6d-e6c695170799\",\"subtype\":\"Figure\",\"type\":\"Plot\"},\"ticker\":{\"id\":\"267d6443-e73f-4be3-92fc-625c4991f475\",\"type\":\"BasicTicker\"}},\"id\":\"a3dcfc44-8bad-465d-9066-5fa6f383cdec\",\"type\":\"Grid\"},{\"attributes\":{\"data_source\":{\"id\":\"c0aa8a4c-fcbc-4c39-aaa7-0ff189aefd4c\",\"type\":\"ColumnDataSource\"},\"glyph\":{\"id\":\"1daa539a-bf95-4376-beb6-bf3d4f14edc5\",\"type\":\"Line\"},\"hover_glyph\":null,\"nonselection_glyph\":{\"id\":\"8ad7c985-4fe7-4366-a365-79e80896efc4\",\"type\":\"Line\"},\"selection_glyph\":null},\"id\":\"f4f95378-bd33-4b6c-b821-262c169350ee\",\"type\":\"GlyphRenderer\"},{\"attributes\":{\"callback\":null,\"column_names\":[\"y\",\"x\",\"collab_num\",\"artist\"],\"data\":{\"artist\":[\"Jamie Foxx\",\"T-Pain\",\"Nicki Minaj\",\"Chris Martin\",\"Brandy\",\"The Game\",\"Ludacris\",\"Freeway\"],\"collab_num\":[\"4.0\",\"4.0\",\"5.0\",\"nan\",\"3.0\",\"3.0\",\"0.0\",\"0.0\"],\"x\":[25.40963855421687,18.983471074380166,35.90243902439025,\"NaN\",25.061643835616437,22.8203125,24.944444444444443,5.895161290322581],\"y\":[26.75,19.5,30.8,\"NaN\",28.333333333333332,37.666666666666664,\"NaN\",\"NaN\"]}},\"id\":\"c54f6ef3-fd1e-4379-8521-42a3793a15d1\",\"type\":\"ColumnDataSource\"},{\"attributes\":{\"line_dash\":[4,4],\"line_width\":{\"value\":2},\"x\":{\"field\":\"x\"},\"y\":{\"field\":\"y\"}},\"id\":\"a075b257-ff41-4112-8938-7f163333edcc\",\"type\":\"Line\"},{\"attributes\":{\"line_dash\":[4,4],\"line_width\":{\"value\":2},\"x\":{\"field\":\"x\"},\"y\":{\"field\":\"y\"}},\"id\":\"2a991302-8fe7-4ee3-9c9a-7674f486a93c\",\"type\":\"Line\"},{\"attributes\":{\"callback\":null,\"plot\":{\"id\":\"ff1a1bb6-7d01-404c-aebc-9eed7b87d723\",\"subtype\":\"Figure\",\"type\":\"Plot\"},\"tooltips\":[[\"Artist\",\"@artist\"]]},\"id\":\"b467bba0-ad9a-43b2-a774-822dc574043b\",\"type\":\"HoverTool\"},{\"attributes\":{\"plot\":{\"id\":\"7f392cca-c8ef-45a1-b061-b8211c4efb49\",\"subtype\":\"Figure\",\"type\":\"Plot\"}},\"id\":\"8ce41f1a-4203-4ba8-b27f-0e485eeefdbb\",\"type\":\"ResetTool\"},{\"attributes\":{\"plot\":{\"id\":\"bc33107e-aba8-4089-9a78-6fe316ed070a\",\"subtype\":\"Figure\",\"type\":\"Plot\"},\"ticker\":{\"id\":\"598b8d9e-7b85-4f63-a5a4-378f5dc4843e\",\"type\":\"BasicTicker\"}},\"id\":\"9158d1e3-ccf4-4902-a832-6425bc08e3be\",\"type\":\"Grid\"},{\"attributes\":{\"callback\":null},\"id\":\"eddf76fe-b2ea-4b85-a18e-aa73b482190c\",\"type\":\"DataRange1d\"},{\"attributes\":{},\"id\":\"b5bfe713-f35e-4226-af21-4e9aff07d8da\",\"type\":\"BasicTickFormatter\"},{\"attributes\":{},\"id\":\"79282433-285a-4f1a-a74a-2b2d66d3e9d3\",\"type\":\"BasicTicker\"},{\"attributes\":{\"fill_alpha\":{\"value\":0.4},\"fill_color\":{\"value\":\"black\"},\"size\":{\"units\":\"screen\",\"value\":7},\"x\":{\"field\":\"x\"},\"y\":{\"field\":\"y\"}},\"id\":\"fcbe74e8-bdcd-424a-b1e8-06b9a84e79b1\",\"type\":\"Circle\"},{\"attributes\":{\"line_dash\":[2,2],\"line_width\":{\"value\":2},\"x\":{\"field\":\"x\"},\"y\":{\"field\":\"y\"}},\"id\":\"3d46be53-674c-403f-930d-d04390b3dff3\",\"type\":\"Line\"},{\"attributes\":{\"bottom_units\":\"screen\",\"fill_alpha\":{\"value\":0.5},\"fill_color\":{\"value\":\"lightgrey\"},\"left_units\":\"screen\",\"level\":\"overlay\",\"line_alpha\":{\"value\":1.0},\"line_color\":{\"value\":\"black\"},\"line_dash\":[4,4],\"line_width\":{\"value\":2},\"plot\":null,\"render_mode\":\"css\",\"right_units\":\"screen\",\"top_units\":\"screen\"},\"id\":\"1df6e5d5-4bbb-4a0b-95ef-b5e03fa02d8c\",\"type\":\"BoxAnnotation\"},{\"attributes\":{},\"id\":\"5748aa93-7048-4eb1-a4d3-46a91d57be96\",\"type\":\"BasicTicker\"},{\"attributes\":{\"line_alpha\":{\"value\":0.1},\"line_color\":{\"value\":\"#1f77b4\"},\"line_dash\":[4,4],\"line_width\":{\"value\":2},\"x\":{\"field\":\"x\"},\"y\":{\"field\":\"y\"}},\"id\":\"21513efd-f5bd-46d4-9fc7-9f863677ac24\",\"type\":\"Line\"},{\"attributes\":{\"data_source\":{\"id\":\"306590ec-3ed5-492f-9522-e935834b10cd\",\"type\":\"ColumnDataSource\"},\"glyph\":{\"id\":\"d1666c7d-5019-4057-bf4f-85073a1547dd\",\"type\":\"Line\"},\"hover_glyph\":null,\"nonselection_glyph\":{\"id\":\"c34c8ea3-2715-480f-bb32-8082085bef56\",\"type\":\"Line\"},\"selection_glyph\":null},\"id\":\"967cd272-7a3d-414d-a504-5eee000b33b9\",\"type\":\"GlyphRenderer\"}],\"root_ids\":[\"bc33107e-aba8-4089-9a78-6fe316ed070a\",\"494cd51e-c172-4a8e-9508-87ea4175f880\",\"42b26200-b7f4-471b-9e6d-e6c695170799\",\"c408c193-dbd0-4238-9e09-8cca6f1bc118\",\"387c4220-e6d0-47c2-9b8e-3fbff398f0de\",\"5764a231-4ab9-4c49-9328-3438f91b1e7d\",\"7f392cca-c8ef-45a1-b061-b8211c4efb49\",\"47971771-53df-4b38-b60c-bad39f5e84b5\",\"465ea307-fd56-4097-b766-a39707ca5496\",\"ee8bf908-1495-452c-8107-f53650c59665\",\"0fe05308-cf4a-4426-879c-471e75c969f5\",\"ff1a1bb6-7d01-404c-aebc-9eed7b87d723\"]},\"title\":\"Bokeh Application\",\"version\":\"0.11.1\"}};\n",
       "            var render_items = [{\"docid\":\"7fbad75e-1947-4b98-bc00-0f90e7d91ca2\",\"elementid\":\"7dcc2b8b-3ff8-4ac2-ae13-ad4996626e05\",\"modelid\":\"ff1a1bb6-7d01-404c-aebc-9eed7b87d723\",\"notebook_comms_target\":\"adbecb9f-67b7-41a0-b632-86754a395555\"}];\n",
       "            \n",
       "            Bokeh.embed.embed_items(docs_json, render_items);\n",
       "        });\n",
       "      },\n",
       "      function(Bokeh) {\n",
       "      }\n",
       "    ];\n",
       "  \n",
       "    function run_inline_js() {\n",
       "      for (var i = 0; i < inline_js.length; i++) {\n",
       "        inline_js[i](window.Bokeh);\n",
       "      }\n",
       "    }\n",
       "  \n",
       "    if (window._bokeh_is_loading === 0) {\n",
       "      console.log(\"Bokeh: BokehJS loaded, going straight to plotting\");\n",
       "      run_inline_js();\n",
       "    } else {\n",
       "      load_libs(js_urls, function() {\n",
       "        console.log(\"Bokeh: BokehJS plotting callback run at\", now());\n",
       "        run_inline_js();\n",
       "      });\n",
       "    }\n",
       "  }(this));\n",
       "</script>"
      ]
     },
     "metadata": {},
     "output_type": "display_data"
    },
    {
     "data": {
      "text/html": [
       "<p><code>&lt;Bokeh Notebook handle for <strong>In[35]</strong>&gt;</code></p>"
      ],
      "text/plain": [
       "<bokeh.io._CommsHandle at 0x11174acd0>"
      ]
     },
     "execution_count": 35,
     "metadata": {},
     "output_type": "execute_result"
    }
   ],
   "source": [
    "from bokeh.plotting import figure, show, vplot\n",
    "from bokeh.charts import Histogram,Bar, output_file, show, output_notebook\n",
    "from bokeh.charts.attributes import cat, color\n",
    "from bokeh.charts.operations import blend\n",
    "from bokeh.models import ColumnDataSource, HoverTool, BoxZoomTool, ResetTool    \n",
    "from bokeh.charts import Scatter, output_file, show \n",
    "from scipy import stats \n",
    "\n",
    "\n",
    "source = ColumnDataSource(\n",
    "        data=dict(\n",
    "            x=other_artists['solo_pop'],\n",
    "            y=other_artists['kanye_pop'],\n",
    "            artist=other_artists['name'].astype(object),\n",
    "            collab_num=other_artists['kanye_num'].astype(str),\n",
    "        )\n",
    "    )\n",
    "\n",
    "TOOLS = [BoxZoomTool(), ResetTool(), HoverTool(tooltips=[(\"Artist\",\"@artist\"),])]\n",
    "\n",
    "p3 = figure(plot_width=600, plot_height=500, tools=TOOLS)\n",
    "p3.xaxis.axis_label = \"Solo Popularity\"\n",
    "p3.yaxis.axis_label = \"Popularity with Kanye West\"\n",
    "p3.circle('x', 'y', size=7,fill_alpha=0.4, color=\"black\", source=source)\n",
    "\n",
    "other_artists_vals=other_artists.loc[np.where((other_artists['kanye_num']!=0) & \\\n",
    "                                              (np.isnan(other_artists['kanye_num'])==False))[0]]\n",
    "slope, intercept, r_value, p_value, std_err = stats.linregress(other_artists_vals['solo_pop'],\\\n",
    "                                                               other_artists_vals['kanye_pop'])\n",
    "xvalue=np.arange(19, 40, dtype=np.float)\n",
    "yvalue=slope*xvalue+intercept\n",
    "\n",
    "p3.line(xvalue, yvalue, line_dash=\"4 4\", line_width=2, color='red', legend=\"Linear Regression\")\n",
    "p3.line([19,40], [19,40], line_dash=\"2 2\", line_width=2, color='black', legend=\"One-to-One\")\n",
    "\n",
    "output_notebook()\n",
    "\n",
    "show(p3)"
   ]
  },
  {
   "cell_type": "code",
   "execution_count": 36,
   "metadata": {
    "collapsed": false
   },
   "outputs": [
    {
     "name": "stdout",
     "output_type": "stream",
     "text": [
      "\n",
      "<div class=\"plotdiv\" id=\"c5642b58-7f51-40c8-957b-bbf1c5e9e20a\"></div>\n"
     ]
    }
   ],
   "source": [
    "from bokeh.embed import components\n",
    "script, div = components(p3)\n",
    "\n",
    "print div\n",
    "\n",
    "f=open('p8.js', 'w')\n",
    "f.write(script)\n",
    "f.close()"
   ]
  },
  {
   "cell_type": "code",
   "execution_count": null,
   "metadata": {
    "collapsed": true
   },
   "outputs": [],
   "source": []
  },
  {
   "cell_type": "code",
   "execution_count": null,
   "metadata": {
    "collapsed": true
   },
   "outputs": [],
   "source": []
  }
 ],
 "metadata": {
  "kernelspec": {
   "display_name": "Python 2",
   "language": "python",
   "name": "python2"
  },
  "language_info": {
   "codemirror_mode": {
    "name": "ipython",
    "version": 2
   },
   "file_extension": ".py",
   "mimetype": "text/x-python",
   "name": "python",
   "nbconvert_exporter": "python",
   "pygments_lexer": "ipython2",
   "version": "2.7.6"
  },
  "widgets": {
   "state": {},
   "version": "1.1.1"
  }
 },
 "nbformat": 4,
 "nbformat_minor": 0
}
