{
 "cells": [
  {
   "cell_type": "code",
   "execution_count": 1,
   "metadata": {
    "collapsed": true
   },
   "outputs": [],
   "source": [
    "import sys\n",
    "import pandas as pd\n",
    "import numpy as np\n",
    "import spotipy \n",
    "sp=spotipy.Spotify()"
   ]
  },
  {
   "cell_type": "code",
   "execution_count": 2,
   "metadata": {
    "collapsed": true
   },
   "outputs": [],
   "source": [
    "from bokeh.embed import file_html"
   ]
  },
  {
   "cell_type": "code",
   "execution_count": 3,
   "metadata": {
    "collapsed": true
   },
   "outputs": [],
   "source": [
    "## Get information on each of the albums for a given artist \n",
    "def fetch_albums(musician): \n",
    "    artist=sp.search(q='artist:'+musician, type='artist')\n",
    "    if (len(artist['artists'])==0): \n",
    "        print 'Error: Check Musician Name'\n",
    "        return None\n",
    "    else: \n",
    "        ## Pull album information \n",
    "        albums=sp.artist_albums(artist['artists']['items'][0]['id'], album_type='album', country='US')\n",
    "        df_album=pd.DataFrame()\n",
    "        for i in range(len(albums['items'])): \n",
    "            df_album.loc[i,'name']=albums['items'][i]['name']\n",
    "            df_album.loc[i,'id']=albums['items'][i]['id']\n",
    "        for j in range(len(df_album)): \n",
    "            album_info=sp.album(df_album.loc[j,'id'])\n",
    "            df_album.loc[j,'release_date']=album_info['release_date']\n",
    "            df_album.loc[j,'popularity']=album_info['popularity']\n",
    "            \n",
    "    return df_album\n"
   ]
  },
  {
   "cell_type": "code",
   "execution_count": 4,
   "metadata": {
    "collapsed": false
   },
   "outputs": [],
   "source": [
    "def fetch_tracks(df_album): \n",
    "    tracks=pd.DataFrame()\n",
    "    print 'Querying Album Tracks'\n",
    "    for i in range(len(df_album)):\n",
    "        test=sp.album_tracks(df_album.loc[i,'id'])\n",
    "        for j in range(len(test['items'])): \n",
    "            k=len(tracks)\n",
    "            tracks.loc[k,'album']=df_album.loc[i,'name']\n",
    "            tracks.loc[k, 'name']=test['items'][j]['name']\n",
    "            tracks.loc[k,'track_id']=test['items'][j]['id']\n",
    "            tracks.loc[k,'artist_num']=len(test['items'][j]['artists'])\n",
    "\n",
    "    for i in range(len(tracks)): \n",
    "        if (i%20==0): \n",
    "            print i \n",
    "        test=sp.track(tracks.loc[i,'track_id'])\n",
    "        tracks.loc[i,'popularity']=test['popularity']\n",
    "        tracks.loc[i,'explicit']=test['explicit']\n",
    "        if (tracks.loc[i, 'artist_num']>1): \n",
    "            stringer=''\n",
    "            for j in range(0,tracks.loc[i, 'artist_num'].astype(int)): \n",
    "                if (j<tracks.loc[i, 'artist_num']-1):\n",
    "                    namer=test['artists'][j]['name']\n",
    "                    stringer=stringer+test['artists'][j]['name']+', '\n",
    "                else: \n",
    "                    stringer=stringer+test['artists'][j]['name']\n",
    "            tracks.loc[i,'artists_on_track']=stringer\n",
    "            \n",
    "    return tracks \n"
   ]
  },
  {
   "cell_type": "code",
   "execution_count": 5,
   "metadata": {
    "collapsed": false
   },
   "outputs": [],
   "source": [
    "# Create list of collaborators\n",
    "import unicodedata\n",
    "\n",
    "def make_collab_list(df_tracks, main_artist):\n",
    "    collaborators_list=[]\n",
    "    for i in range(len(df_tracks)): \n",
    "        if (df_tracks.loc[i,'artist_num']>1): \n",
    "            test1=unicodedata.normalize('NFKD', df_tracks.loc[i,'artists_on_track']).encode('ascii','ignore')\n",
    "            test=test1.split(',')\n",
    "            for j in range(len(test)): \n",
    "                if (test[j].lstrip()!=main_artist) : \n",
    "                    name=test[j].lstrip()\n",
    "                    matching = [s for s in collaborators_list if name in s]\n",
    "                    if (len(matching)==0):\n",
    "                        collaborators_list.append(name)\n",
    "                        \n",
    "        collab=pd.DataFrame()\n",
    "        collab['collaborator']=collaborators_list\n",
    "\n",
    "    for i in range(len(collab)): \n",
    "        person=collab.loc[i,'collaborator']\n",
    "        ### BETTER WAY TO SORT OUT UNICODE ISSUES? \n",
    "        if (person=='Beyonce'): \n",
    "            person='Beyo'\n",
    "        temp=df_tracks.loc[np.where((df_tracks['artists_on_track'].str.contains(person))==True)[0],['album', 'artists_on_track','popularity']]\n",
    "        collab.loc[i, 'num_collab']=len(temp)\n",
    "        collab.loc[i, 'mean_pop']=np.mean(temp['popularity'])\n",
    "        collab.loc[i, 'std_pop']=np.std(temp['popularity'])\n",
    "    \n",
    "    return collab"
   ]
  },
  {
   "cell_type": "code",
   "execution_count": 6,
   "metadata": {
    "collapsed": true
   },
   "outputs": [],
   "source": [
    "kw_albums=fetch_albums('Kanye West')"
   ]
  },
  {
   "cell_type": "code",
   "execution_count": 7,
   "metadata": {
    "collapsed": false
   },
   "outputs": [
    {
     "data": {
      "text/html": [
       "<div style=\"max-height:1000px;max-width:1500px;overflow:auto;\">\n",
       "<table border=\"1\" class=\"dataframe\">\n",
       "  <thead>\n",
       "    <tr style=\"text-align: right;\">\n",
       "      <th></th>\n",
       "      <th>name</th>\n",
       "      <th>id</th>\n",
       "      <th>release_date</th>\n",
       "      <th>popularity</th>\n",
       "    </tr>\n",
       "  </thead>\n",
       "  <tbody>\n",
       "    <tr>\n",
       "      <th>0 </th>\n",
       "      <td>                                 The Life Of Pablo</td>\n",
       "      <td> 0WAuEfa5Lmg72xfydLVcca</td>\n",
       "      <td> 2016-04-04</td>\n",
       "      <td> 94</td>\n",
       "    </tr>\n",
       "    <tr>\n",
       "      <th>1 </th>\n",
       "      <td>                                            Yeezus</td>\n",
       "      <td> 7D2NdGvBHIavgLhmcwhluK</td>\n",
       "      <td> 2013-06-18</td>\n",
       "      <td> 78</td>\n",
       "    </tr>\n",
       "    <tr>\n",
       "      <th>2 </th>\n",
       "      <td>               Watch The Throne (Explicit Version)</td>\n",
       "      <td> 7mCeLbChyegbRwwKK5shJs</td>\n",
       "      <td> 2011-08-12</td>\n",
       "      <td> 70</td>\n",
       "    </tr>\n",
       "    <tr>\n",
       "      <th>3 </th>\n",
       "      <td>                 Watch The Throne (Edited Version)</td>\n",
       "      <td> 0eZRIt3Ht1IuMXsr0QR8OY</td>\n",
       "      <td> 2011-08-12</td>\n",
       "      <td> 42</td>\n",
       "    </tr>\n",
       "    <tr>\n",
       "      <th>4 </th>\n",
       "      <td>      Watch The Throne [Deluxe Edition (Explicit)]</td>\n",
       "      <td> 1YwzJz7CrV9fd9Qeb6oo1d</td>\n",
       "      <td> 2011-08-12</td>\n",
       "      <td> 79</td>\n",
       "    </tr>\n",
       "    <tr>\n",
       "      <th>5 </th>\n",
       "      <td>        Watch The Throne [Deluxe Edition (Edited)]</td>\n",
       "      <td> 4P63UgNDUcF11MnWzyvVrh</td>\n",
       "      <td> 2011-08-12</td>\n",
       "      <td> 51</td>\n",
       "    </tr>\n",
       "    <tr>\n",
       "      <th>6 </th>\n",
       "      <td> My Beautiful Dark Twisted Fantasy (Explicit Ve...</td>\n",
       "      <td> 20r762YmB5HeofjMCiPMLv</td>\n",
       "      <td> 2010-11-19</td>\n",
       "      <td> 80</td>\n",
       "    </tr>\n",
       "    <tr>\n",
       "      <th>7 </th>\n",
       "      <td> My Beautiful Dark Twisted Fantasy (Edited Vers...</td>\n",
       "      <td> 6klUp8sQyRXGuJhqZu4PG3</td>\n",
       "      <td> 2010-11-22</td>\n",
       "      <td> 50</td>\n",
       "    </tr>\n",
       "    <tr>\n",
       "      <th>8 </th>\n",
       "      <td>                                 808s &amp; Heartbreak</td>\n",
       "      <td> 2JK89jt4unItFroOr0kT3g</td>\n",
       "      <td> 2008-11-24</td>\n",
       "      <td> 74</td>\n",
       "    </tr>\n",
       "    <tr>\n",
       "      <th>9 </th>\n",
       "      <td>                     Graduation (Explicit Version)</td>\n",
       "      <td> 3SZr5Pco2oqKFORCP3WNj9</td>\n",
       "      <td> 2007-09-11</td>\n",
       "      <td> 80</td>\n",
       "    </tr>\n",
       "    <tr>\n",
       "      <th>10</th>\n",
       "      <td>                       Graduation (Edited Version)</td>\n",
       "      <td> 7nxBMFwJtTTKDNxVCKmYi3</td>\n",
       "      <td> 2007-09-11</td>\n",
       "      <td> 52</td>\n",
       "    </tr>\n",
       "    <tr>\n",
       "      <th>11</th>\n",
       "      <td>              Late Registration (Explicit Version)</td>\n",
       "      <td> 5ll74bqtkcXlKE7wwkMq4g</td>\n",
       "      <td> 2005-09-30</td>\n",
       "      <td> 78</td>\n",
       "    </tr>\n",
       "    <tr>\n",
       "      <th>12</th>\n",
       "      <td>                Late Registration (Edited Version)</td>\n",
       "      <td> 4yJqrqT2BpuXLj5BMJlAXR</td>\n",
       "      <td> 2005-08-30</td>\n",
       "      <td> 53</td>\n",
       "    </tr>\n",
       "    <tr>\n",
       "      <th>13</th>\n",
       "      <td>                    The College Dropout (Explicit)</td>\n",
       "      <td> 3ff2p3LnR6V7m6BinwhNaQ</td>\n",
       "      <td> 2004-02-13</td>\n",
       "      <td> 76</td>\n",
       "    </tr>\n",
       "    <tr>\n",
       "      <th>14</th>\n",
       "      <td>                      The College Dropout (Edited)</td>\n",
       "      <td> 0bSrRp502dZKkpwZa9F1MY</td>\n",
       "      <td> 2004-02-10</td>\n",
       "      <td> 45</td>\n",
       "    </tr>\n",
       "  </tbody>\n",
       "</table>\n",
       "</div>"
      ],
      "text/plain": [
       "                                                 name                      id  \\\n",
       "0                                   The Life Of Pablo  0WAuEfa5Lmg72xfydLVcca   \n",
       "1                                              Yeezus  7D2NdGvBHIavgLhmcwhluK   \n",
       "2                 Watch The Throne (Explicit Version)  7mCeLbChyegbRwwKK5shJs   \n",
       "3                   Watch The Throne (Edited Version)  0eZRIt3Ht1IuMXsr0QR8OY   \n",
       "4        Watch The Throne [Deluxe Edition (Explicit)]  1YwzJz7CrV9fd9Qeb6oo1d   \n",
       "5          Watch The Throne [Deluxe Edition (Edited)]  4P63UgNDUcF11MnWzyvVrh   \n",
       "6   My Beautiful Dark Twisted Fantasy (Explicit Ve...  20r762YmB5HeofjMCiPMLv   \n",
       "7   My Beautiful Dark Twisted Fantasy (Edited Vers...  6klUp8sQyRXGuJhqZu4PG3   \n",
       "8                                   808s & Heartbreak  2JK89jt4unItFroOr0kT3g   \n",
       "9                       Graduation (Explicit Version)  3SZr5Pco2oqKFORCP3WNj9   \n",
       "10                        Graduation (Edited Version)  7nxBMFwJtTTKDNxVCKmYi3   \n",
       "11               Late Registration (Explicit Version)  5ll74bqtkcXlKE7wwkMq4g   \n",
       "12                 Late Registration (Edited Version)  4yJqrqT2BpuXLj5BMJlAXR   \n",
       "13                     The College Dropout (Explicit)  3ff2p3LnR6V7m6BinwhNaQ   \n",
       "14                       The College Dropout (Edited)  0bSrRp502dZKkpwZa9F1MY   \n",
       "\n",
       "   release_date  popularity  \n",
       "0    2016-04-04          94  \n",
       "1    2013-06-18          78  \n",
       "2    2011-08-12          70  \n",
       "3    2011-08-12          42  \n",
       "4    2011-08-12          79  \n",
       "5    2011-08-12          51  \n",
       "6    2010-11-19          80  \n",
       "7    2010-11-22          50  \n",
       "8    2008-11-24          74  \n",
       "9    2007-09-11          80  \n",
       "10   2007-09-11          52  \n",
       "11   2005-09-30          78  \n",
       "12   2005-08-30          53  \n",
       "13   2004-02-13          76  \n",
       "14   2004-02-10          45  "
      ]
     },
     "execution_count": 7,
     "metadata": {},
     "output_type": "execute_result"
    }
   ],
   "source": [
    "kw_albums"
   ]
  },
  {
   "cell_type": "code",
   "execution_count": 8,
   "metadata": {
    "collapsed": false
   },
   "outputs": [
    {
     "name": "stdout",
     "output_type": "stream",
     "text": [
      "Querying Album Tracks\n",
      "0\n",
      "20\n",
      "40\n",
      "60\n",
      "80\n",
      "100\n",
      "120\n",
      "140\n",
      "160\n",
      "180\n",
      "200\n",
      "220\n"
     ]
    }
   ],
   "source": [
    "tracks=fetch_tracks(kw_albums)"
   ]
  },
  {
   "cell_type": "markdown",
   "metadata": {},
   "source": [
    "There are multiple versions of individual albums (explicit/clean, standard/deluxe). First let's see if whether or not the track is explicit affects its popularity"
   ]
  },
  {
   "cell_type": "code",
   "execution_count": 11,
   "metadata": {
    "collapsed": false
   },
   "outputs": [],
   "source": [
    "ex_hist, ex_edges = np.histogram(tracks.loc[np.where(tracks['explicit']==True)[0],'popularity'],range=[0,100], bins=25)\n",
    "ex_center=(ex_edges[:-1]+ex_edges[1:])/2.\n",
    "\n",
    "cl_hist, cl_edges = np.histogram(tracks.loc[np.where(tracks['explicit']==False)[0],'popularity'],range=[0,100], bins=25)\n",
    "cl_center=(cl_edges[:-1]+cl_edges[1:])/2.\n",
    "\n",
    "histo=pd.DataFrame()\n",
    "histo['explicit']=ex_hist\n",
    "histo['ex_center']=ex_center\n",
    "histo['clean']=cl_hist\n",
    "histo['cl_center']=cl_center"
   ]
  },
  {
   "cell_type": "code",
   "execution_count": 9,
   "metadata": {
    "collapsed": false
   },
   "outputs": [
    {
     "name": "stdout",
     "output_type": "stream",
     "text": [
      "Mean Popularity (Explicit):  58.9596774194 +- 12.2332170706\n",
      "Mean Popularity (Clean):  31.871559633 +- 12.1656011646\n"
     ]
    },
    {
     "data": {
      "text/html": [
       "\n",
       "    <div class=\"bk-banner\">\n",
       "        <a href=\"http://bokeh.pydata.org\" target=\"_blank\" class=\"bk-logo bk-logo-small bk-logo-notebook\"></a>\n",
       "        <span id=\"cd7348af-7ede-4e75-af53-f1cae680285a\">Loading BokehJS ...</span>\n",
       "    </div>"
      ]
     },
     "metadata": {},
     "output_type": "display_data"
    },
    {
     "data": {
      "application/javascript": [
       "\n",
       "(function(global) {\n",
       "  function now() {\n",
       "    return new Date();\n",
       "  }\n",
       "\n",
       "  if (typeof (window._bokeh_onload_callbacks) === \"undefined\") {\n",
       "    window._bokeh_onload_callbacks = [];\n",
       "  }\n",
       "\n",
       "  function run_callbacks() {\n",
       "    window._bokeh_onload_callbacks.forEach(function(callback) { callback() });\n",
       "    delete window._bokeh_onload_callbacks\n",
       "    console.info(\"Bokeh: all callbacks have finished\");\n",
       "  }\n",
       "\n",
       "  function load_libs(js_urls, callback) {\n",
       "    window._bokeh_onload_callbacks.push(callback);\n",
       "    if (window._bokeh_is_loading > 0) {\n",
       "      console.log(\"Bokeh: BokehJS is being loaded, scheduling callback at\", now());\n",
       "      return null;\n",
       "    }\n",
       "    if (js_urls == null || js_urls.length === 0) {\n",
       "      run_callbacks();\n",
       "      return null;\n",
       "    }\n",
       "    console.log(\"Bokeh: BokehJS not loaded, scheduling load and callback at\", now());\n",
       "    window._bokeh_is_loading = js_urls.length;\n",
       "    for (var i = 0; i < js_urls.length; i++) {\n",
       "      var url = js_urls[i];\n",
       "      var s = document.createElement('script');\n",
       "      s.src = url;\n",
       "      s.async = false;\n",
       "      s.onreadystatechange = s.onload = function() {\n",
       "        window._bokeh_is_loading--;\n",
       "        if (window._bokeh_is_loading === 0) {\n",
       "          console.log(\"Bokeh: all BokehJS libraries loaded\");\n",
       "          run_callbacks()\n",
       "        }\n",
       "      };\n",
       "      s.onerror = function() {\n",
       "        console.warn(\"failed to load library \" + url);\n",
       "      };\n",
       "      console.log(\"Bokeh: injecting script tag for BokehJS library: \", url);\n",
       "      document.getElementsByTagName(\"head\")[0].appendChild(s);\n",
       "    }\n",
       "  };\n",
       "\n",
       "  var js_urls = ['https://cdn.pydata.org/bokeh/release/bokeh-0.11.1.min.js', 'https://cdn.pydata.org/bokeh/release/bokeh-widgets-0.11.1.min.js', 'https://cdn.pydata.org/bokeh/release/bokeh-compiler-0.11.1.min.js'];\n",
       "\n",
       "  var inline_js = [\n",
       "    function(Bokeh) {\n",
       "      Bokeh.set_log_level(\"info\");\n",
       "    },\n",
       "    \n",
       "    function(Bokeh) {\n",
       "      Bokeh.$(\"#cd7348af-7ede-4e75-af53-f1cae680285a\").text(\"BokehJS successfully loaded\");\n",
       "    },\n",
       "    function(Bokeh) {\n",
       "      console.log(\"Bokeh: injecting CSS: https://cdn.pydata.org/bokeh/release/bokeh-0.11.1.min.css\");\n",
       "      Bokeh.embed.inject_css(\"https://cdn.pydata.org/bokeh/release/bokeh-0.11.1.min.css\");\n",
       "      console.log(\"Bokeh: injecting CSS: https://cdn.pydata.org/bokeh/release/bokeh-widgets-0.11.1.min.css\");\n",
       "      Bokeh.embed.inject_css(\"https://cdn.pydata.org/bokeh/release/bokeh-widgets-0.11.1.min.css\");\n",
       "    }\n",
       "  ];\n",
       "\n",
       "  function run_inline_js() {\n",
       "    for (var i = 0; i < inline_js.length; i++) {\n",
       "      inline_js[i](window.Bokeh);\n",
       "    }\n",
       "  }\n",
       "\n",
       "  if (window._bokeh_is_loading === 0) {\n",
       "    console.log(\"Bokeh: BokehJS loaded, going straight to plotting\");\n",
       "    run_inline_js();\n",
       "  } else {\n",
       "    load_libs(js_urls, function() {\n",
       "      console.log(\"Bokeh: BokehJS plotting callback run at\", now());\n",
       "      run_inline_js();\n",
       "    });\n",
       "  }\n",
       "}(this));"
      ]
     },
     "metadata": {},
     "output_type": "display_data"
    }
   ],
   "source": [
    "from bokeh.plotting import figure, show, vplot\n",
    "from bokeh.charts import Histogram,Bar, output_file, show, output_notebook\n",
    "from bokeh.charts.attributes import cat, color\n",
    "from bokeh.charts.operations import blend\n",
    "\n",
    "p = figure(width=600, height=400)\n",
    "\n",
    "p = Bar(histo, label='ex_center', \n",
    "        values=blend('explicit', 'clean', labels_name='typer'),  \n",
    "        stack=cat(columns='typer', sort=False),\n",
    "        color=color(columns='typer', palette=['red', 'blue'],sort=False), \n",
    "        legend='top_right', xlabel='Popularity', ylabel='Number',\n",
    "        tooltips=[('number', '@typer'), ('popularity', '@ex_center')])\n",
    "\n",
    "\n",
    "print 'Mean Popularity (Explicit): ', np.mean(tracks.loc[np.where(tracks['explicit']==True)[0],'popularity']),'+-',np.std(tracks.loc[np.where(tracks['explicit']==True)[0],'popularity'])\n",
    "print 'Mean Popularity (Clean): ', np.mean(tracks.loc[np.where(tracks['explicit']==False)[0],'popularity']),'+-',np.std(tracks.loc[np.where(tracks['explicit']==False)[0],'popularity'])\n",
    "\n",
    "output_notebook()\n",
    "\n",
    "#show(p)"
   ]
  },
  {
   "cell_type": "code",
   "execution_count": 13,
   "metadata": {
    "collapsed": false
   },
   "outputs": [
    {
     "name": "stdout",
     "output_type": "stream",
     "text": [
      "Mean Popularity (Explicit):  58.9758064516 +- 12.2944150116\n",
      "Mean Popularity (Clean):  31.7981651376 +- 12.1728980187\n"
     ]
    },
    {
     "data": {
      "text/html": [
       "\n",
       "    <div class=\"bk-banner\">\n",
       "        <a href=\"http://bokeh.pydata.org\" target=\"_blank\" class=\"bk-logo bk-logo-small bk-logo-notebook\"></a>\n",
       "        <span id=\"b854f776-736d-4f5b-a8f9-89573990e019\">Loading BokehJS ...</span>\n",
       "    </div>"
      ]
     },
     "metadata": {},
     "output_type": "display_data"
    },
    {
     "data": {
      "application/javascript": [
       "\n",
       "(function(global) {\n",
       "  function now() {\n",
       "    return new Date();\n",
       "  }\n",
       "\n",
       "  if (typeof (window._bokeh_onload_callbacks) === \"undefined\") {\n",
       "    window._bokeh_onload_callbacks = [];\n",
       "  }\n",
       "\n",
       "  function run_callbacks() {\n",
       "    window._bokeh_onload_callbacks.forEach(function(callback) { callback() });\n",
       "    delete window._bokeh_onload_callbacks\n",
       "    console.info(\"Bokeh: all callbacks have finished\");\n",
       "  }\n",
       "\n",
       "  function load_libs(js_urls, callback) {\n",
       "    window._bokeh_onload_callbacks.push(callback);\n",
       "    if (window._bokeh_is_loading > 0) {\n",
       "      console.log(\"Bokeh: BokehJS is being loaded, scheduling callback at\", now());\n",
       "      return null;\n",
       "    }\n",
       "    if (js_urls == null || js_urls.length === 0) {\n",
       "      run_callbacks();\n",
       "      return null;\n",
       "    }\n",
       "    console.log(\"Bokeh: BokehJS not loaded, scheduling load and callback at\", now());\n",
       "    window._bokeh_is_loading = js_urls.length;\n",
       "    for (var i = 0; i < js_urls.length; i++) {\n",
       "      var url = js_urls[i];\n",
       "      var s = document.createElement('script');\n",
       "      s.src = url;\n",
       "      s.async = false;\n",
       "      s.onreadystatechange = s.onload = function() {\n",
       "        window._bokeh_is_loading--;\n",
       "        if (window._bokeh_is_loading === 0) {\n",
       "          console.log(\"Bokeh: all BokehJS libraries loaded\");\n",
       "          run_callbacks()\n",
       "        }\n",
       "      };\n",
       "      s.onerror = function() {\n",
       "        console.warn(\"failed to load library \" + url);\n",
       "      };\n",
       "      console.log(\"Bokeh: injecting script tag for BokehJS library: \", url);\n",
       "      document.getElementsByTagName(\"head\")[0].appendChild(s);\n",
       "    }\n",
       "  };\n",
       "\n",
       "  var js_urls = ['https://cdn.pydata.org/bokeh/release/bokeh-0.11.1.min.js', 'https://cdn.pydata.org/bokeh/release/bokeh-widgets-0.11.1.min.js', 'https://cdn.pydata.org/bokeh/release/bokeh-compiler-0.11.1.min.js'];\n",
       "\n",
       "  var inline_js = [\n",
       "    function(Bokeh) {\n",
       "      Bokeh.set_log_level(\"info\");\n",
       "    },\n",
       "    \n",
       "    function(Bokeh) {\n",
       "      Bokeh.$(\"#b854f776-736d-4f5b-a8f9-89573990e019\").text(\"BokehJS successfully loaded\");\n",
       "    },\n",
       "    function(Bokeh) {\n",
       "      console.log(\"Bokeh: injecting CSS: https://cdn.pydata.org/bokeh/release/bokeh-0.11.1.min.css\");\n",
       "      Bokeh.embed.inject_css(\"https://cdn.pydata.org/bokeh/release/bokeh-0.11.1.min.css\");\n",
       "      console.log(\"Bokeh: injecting CSS: https://cdn.pydata.org/bokeh/release/bokeh-widgets-0.11.1.min.css\");\n",
       "      Bokeh.embed.inject_css(\"https://cdn.pydata.org/bokeh/release/bokeh-widgets-0.11.1.min.css\");\n",
       "    }\n",
       "  ];\n",
       "\n",
       "  function run_inline_js() {\n",
       "    for (var i = 0; i < inline_js.length; i++) {\n",
       "      inline_js[i](window.Bokeh);\n",
       "    }\n",
       "  }\n",
       "\n",
       "  if (window._bokeh_is_loading === 0) {\n",
       "    console.log(\"Bokeh: BokehJS loaded, going straight to plotting\");\n",
       "    run_inline_js();\n",
       "  } else {\n",
       "    load_libs(js_urls, function() {\n",
       "      console.log(\"Bokeh: BokehJS plotting callback run at\", now());\n",
       "      run_inline_js();\n",
       "    });\n",
       "  }\n",
       "}(this));"
      ]
     },
     "metadata": {},
     "output_type": "display_data"
    }
   ],
   "source": [
    "from bokeh.plotting import figure, show, vplot\n",
    "from bokeh.charts import Histogram,Bar, output_file, show, output_notebook\n",
    "from bokeh.charts.attributes import cat, color\n",
    "from bokeh.charts.operations import blend\n",
    "from bokeh.models import ColumnDataSource, HoverTool, BoxZoomTool, ResetTool    \n",
    "\n",
    "p = figure(width=600, height=400)\n",
    "\n",
    "p.quad(top=ex_hist, bottom=0, left=ex_edges[:-1],right=ex_edges[1:],\\\n",
    "       fill_color=\"white\",line_color=\"red\", legend=\"Explicit\")\n",
    "p.quad(top=cl_hist, bottom=0, left=cl_edges[:-1], right=cl_edges[1:],\\\n",
    "      fill_color=\"white\", line_color=\"blue\", fill_alpha=0.2, legend=\"Clean\")\n",
    "\n",
    "p.legend.location=\"top_right\"\n",
    "p.xaxis.axis_label=\"Popularity\"\n",
    "p.yaxis.axis_label=\"Number of Tracks\"\n",
    "\n",
    "print 'Mean Popularity (Explicit): ', np.mean(tracks.loc[np.where(tracks['explicit']==True)[0],'popularity']),'+-',np.std(tracks.loc[np.where(tracks['explicit']==True)[0],'popularity'])\n",
    "print 'Mean Popularity (Clean): ', np.mean(tracks.loc[np.where(tracks['explicit']==False)[0],'popularity']),'+-',np.std(tracks.loc[np.where(tracks['explicit']==False)[0],'popularity'])\n",
    "\n",
    "output_notebook()\n",
    "\n",
    "#show(p)"
   ]
  },
  {
   "cell_type": "code",
   "execution_count": 12,
   "metadata": {
    "collapsed": false
   },
   "outputs": [
    {
     "name": "stdout",
     "output_type": "stream",
     "text": [
      "\n",
      "<div class=\"plotdiv\" id=\"89556313-b589-45bc-baaf-a3e933260621\"></div>\n"
     ]
    }
   ],
   "source": [
    "from bokeh.embed import components\n",
    "script, div = components(p)\n",
    "\n",
    "print div\n",
    "\n",
    "f=open('p1.js', 'w')\n",
    "f.write(script)\n",
    "f.close()"
   ]
  },
  {
   "cell_type": "markdown",
   "metadata": {},
   "source": [
    "Overall, the explicit version of Kanye songs are significantly more popular than the clean versions. I suppose that makes \n",
    "sense in a go big or go home sort of way. If you're going to listen to Kanye, listen to KANYE. \n",
    "\n",
    "However the distributions show that some clean versions of songs are as popular as other explicit versions. Let's look at how the difference in popularity between song versions varies by song. "
   ]
  },
  {
   "cell_type": "code",
   "execution_count": 14,
   "metadata": {
    "collapsed": false
   },
   "outputs": [
    {
     "name": "stderr",
     "output_type": "stream",
     "text": [
      "/Users/kschles/Library/Enthought/Canopy_64bit/User/lib/python2.7/site-packages/pandas/core/strings.py:189: UserWarning: This pattern has match groups. To actually get the groups, use str.extract.\n",
      "  \" groups, use str.extract.\", UserWarning)\n"
     ]
    }
   ],
   "source": [
    "## Need to clean up song titles such that I can group them cleanly in pandas\n",
    "pd.set_option('display.max_rows', 200)\n",
    "indexer=np.where(tracks['name'].str.contains('(Edited)')==True)[0]\n",
    "tracks['ed_name']=tracks['name']\n",
    "tracks.loc[indexer, 'ed_name']=tracks.loc[indexer, 'name'].str[:-24]\n",
    "tracks['ed_name']=tracks['ed_name'].str.rstrip()\n"
   ]
  },
  {
   "cell_type": "code",
   "execution_count": 15,
   "metadata": {
    "collapsed": false
   },
   "outputs": [],
   "source": [
    "tracks_temp=pd.DataFrame()\n",
    "tracks_temp=tracks\n",
    "tracks_temp['pop_max']=tracks['popularity']\n",
    "tracks_temp['pop_diff']=tracks['popularity']\n",
    "\n",
    "grouped=tracks_temp[['ed_name', 'album','popularity', 'pop_max', 'pop_diff']].groupby('ed_name')\n",
    "\n",
    "pop_diff=grouped.agg({'ed_name' : 'first', 'album': 'first', 'popularity' : 'first', 'pop_max' : 'max', 'pop_diff' : lambda x: np.max(x)-np.min(x)})\n",
    "pop_diff.reset_index(drop=True, inplace=True)"
   ]
  },
  {
   "cell_type": "code",
   "execution_count": 16,
   "metadata": {
    "collapsed": false
   },
   "outputs": [],
   "source": [
    "# Remove songs where there is only one version \n",
    "pop_diff_ed=pop_diff.loc[np.where(pop_diff['pop_diff']!=0)[0]]"
   ]
  },
  {
   "cell_type": "code",
   "execution_count": 19,
   "metadata": {
    "collapsed": false
   },
   "outputs": [
    {
     "data": {
      "text/html": [
       "\n",
       "    <div class=\"bk-banner\">\n",
       "        <a href=\"http://bokeh.pydata.org\" target=\"_blank\" class=\"bk-logo bk-logo-small bk-logo-notebook\"></a>\n",
       "        <span id=\"cc720c11-0111-49fb-9036-1ab5a3a33545\">Loading BokehJS ...</span>\n",
       "    </div>"
      ]
     },
     "metadata": {},
     "output_type": "display_data"
    },
    {
     "data": {
      "application/javascript": [
       "\n",
       "(function(global) {\n",
       "  function now() {\n",
       "    return new Date();\n",
       "  }\n",
       "\n",
       "  if (typeof (window._bokeh_onload_callbacks) === \"undefined\") {\n",
       "    window._bokeh_onload_callbacks = [];\n",
       "  }\n",
       "\n",
       "  function run_callbacks() {\n",
       "    window._bokeh_onload_callbacks.forEach(function(callback) { callback() });\n",
       "    delete window._bokeh_onload_callbacks\n",
       "    console.info(\"Bokeh: all callbacks have finished\");\n",
       "  }\n",
       "\n",
       "  function load_libs(js_urls, callback) {\n",
       "    window._bokeh_onload_callbacks.push(callback);\n",
       "    if (window._bokeh_is_loading > 0) {\n",
       "      console.log(\"Bokeh: BokehJS is being loaded, scheduling callback at\", now());\n",
       "      return null;\n",
       "    }\n",
       "    if (js_urls == null || js_urls.length === 0) {\n",
       "      run_callbacks();\n",
       "      return null;\n",
       "    }\n",
       "    console.log(\"Bokeh: BokehJS not loaded, scheduling load and callback at\", now());\n",
       "    window._bokeh_is_loading = js_urls.length;\n",
       "    for (var i = 0; i < js_urls.length; i++) {\n",
       "      var url = js_urls[i];\n",
       "      var s = document.createElement('script');\n",
       "      s.src = url;\n",
       "      s.async = false;\n",
       "      s.onreadystatechange = s.onload = function() {\n",
       "        window._bokeh_is_loading--;\n",
       "        if (window._bokeh_is_loading === 0) {\n",
       "          console.log(\"Bokeh: all BokehJS libraries loaded\");\n",
       "          run_callbacks()\n",
       "        }\n",
       "      };\n",
       "      s.onerror = function() {\n",
       "        console.warn(\"failed to load library \" + url);\n",
       "      };\n",
       "      console.log(\"Bokeh: injecting script tag for BokehJS library: \", url);\n",
       "      document.getElementsByTagName(\"head\")[0].appendChild(s);\n",
       "    }\n",
       "  };\n",
       "\n",
       "  var js_urls = ['https://cdn.pydata.org/bokeh/release/bokeh-0.11.1.min.js', 'https://cdn.pydata.org/bokeh/release/bokeh-widgets-0.11.1.min.js', 'https://cdn.pydata.org/bokeh/release/bokeh-compiler-0.11.1.min.js'];\n",
       "\n",
       "  var inline_js = [\n",
       "    function(Bokeh) {\n",
       "      Bokeh.set_log_level(\"info\");\n",
       "    },\n",
       "    \n",
       "    function(Bokeh) {\n",
       "      Bokeh.$(\"#cc720c11-0111-49fb-9036-1ab5a3a33545\").text(\"BokehJS successfully loaded\");\n",
       "    },\n",
       "    function(Bokeh) {\n",
       "      console.log(\"Bokeh: injecting CSS: https://cdn.pydata.org/bokeh/release/bokeh-0.11.1.min.css\");\n",
       "      Bokeh.embed.inject_css(\"https://cdn.pydata.org/bokeh/release/bokeh-0.11.1.min.css\");\n",
       "      console.log(\"Bokeh: injecting CSS: https://cdn.pydata.org/bokeh/release/bokeh-widgets-0.11.1.min.css\");\n",
       "      Bokeh.embed.inject_css(\"https://cdn.pydata.org/bokeh/release/bokeh-widgets-0.11.1.min.css\");\n",
       "    }\n",
       "  ];\n",
       "\n",
       "  function run_inline_js() {\n",
       "    for (var i = 0; i < inline_js.length; i++) {\n",
       "      inline_js[i](window.Bokeh);\n",
       "    }\n",
       "  }\n",
       "\n",
       "  if (window._bokeh_is_loading === 0) {\n",
       "    console.log(\"Bokeh: BokehJS loaded, going straight to plotting\");\n",
       "    run_inline_js();\n",
       "  } else {\n",
       "    load_libs(js_urls, function() {\n",
       "      console.log(\"Bokeh: BokehJS plotting callback run at\", now());\n",
       "      run_inline_js();\n",
       "    });\n",
       "  }\n",
       "}(this));"
      ]
     },
     "metadata": {},
     "output_type": "display_data"
    }
   ],
   "source": [
    "from bokeh.charts import Scatter, output_file, show\n",
    "from bokeh.models import ColumnDataSource, HoverTool, BoxZoomTool, ResetTool    \n",
    "from scipy import stats \n",
    "\n",
    "source = ColumnDataSource(\n",
    "        data=dict(\n",
    "            x=pop_diff_ed['pop_max'].astype(int),\n",
    "            y=pop_diff_ed['pop_diff'].astype(int),\n",
    "            album=pop_diff_ed['album'].astype(str),\n",
    "            song=pop_diff_ed['ed_name'].astype(object),\n",
    "            per=pop_diff_ed['pop_diff']/pop_diff_ed['pop_max'],\n",
    "        )\n",
    "    )\n",
    "\n",
    "TOOLS = [BoxZoomTool(), ResetTool(),HoverTool(tooltips=[(\"song\", \"@song\"),(\"album\", \"@album\")])]\n",
    "\n",
    "p2 = figure(plot_width=600, plot_height=400, tools=TOOLS)\n",
    "p2.xaxis.axis_label = \"Popularity (Explicit Version)\"\n",
    "p2.yaxis.axis_label = \"Difference in Popularity\"\n",
    "\n",
    "colormap = {'Graduation (Explicit Version)': 'red', 'Late Registration (Explicit Version)': 'green',\\\n",
    "            'My Beautiful Dark Twisted Fantasy (Explicit Version)': 'blue', \\\n",
    "           'The College Dropout (Explicit)': 'purple', \\\n",
    "            'Watch The Throne (Explicit Version)': 'cyan',\\\n",
    "            'Watch The Throne [Deluxe Edition (Explicit)]' : 'black'}\n",
    "pop_diff_ed['color'] = pop_diff_ed['album'].map(lambda x: colormap[x])\n",
    "\n",
    "slope, intercept, r_value, p_value, std_err = stats.linregress(source.data['x'],source.data['y'])\n",
    "xvalue=np.arange(0, 100, dtype=np.float)\n",
    "yvalue=slope*xvalue+intercept\n",
    "\n",
    "p2.line(xvalue, yvalue, line_dash=\"4 4\", line_width=2, color='black')\n",
    "\n",
    "\n",
    "p2.circle('x', 'y', size=7, color=pop_diff_ed['color'], \\\n",
    "         fill_alpha=0.2, source=source)\n",
    "\n",
    "output_notebook()\n",
    "\n",
    "#show(p2)\n"
   ]
  },
  {
   "cell_type": "code",
   "execution_count": 21,
   "metadata": {
    "collapsed": false
   },
   "outputs": [
    {
     "name": "stdout",
     "output_type": "stream",
     "text": [
      "\n",
      "<div class=\"plotdiv\" id=\"4095a633-eecd-4c3f-bc5c-cf33f2d49846\"></div>\n"
     ]
    }
   ],
   "source": [
    "from bokeh.embed import components\n",
    "script, div = components(p2)\n",
    "\n",
    "print div\n",
    "\n",
    "f=open('p2.js', 'w')\n",
    "f.write(script)\n",
    "f.close()"
   ]
  },
  {
   "cell_type": "markdown",
   "metadata": {},
   "source": [
    "In general, the differences between the popularity of the explicit and clean version increases as songs get more popular. I suppose this makes sense, as the popularity index takes into account number of plays. \n",
    "\n",
    "The biggest discrepancy is for the most popular song, 'Ni**as in Paris.' And for that song, I can't even imagine the clean version!\n",
    "\n",
    "For the rest of this analysis, I'm going to just use the explicit versions of tracks when available. There also is a Deluxe version of one album, 'Watch the Throne'. I'll remove that one as well for now, and just stick with the regular explicit version. "
   ]
  },
  {
   "cell_type": "code",
   "execution_count": 24,
   "metadata": {
    "collapsed": false
   },
   "outputs": [],
   "source": [
    "#explicit=tracks.loc[np.where((tracks['explicit']==True) & (tracks['album'].str.contains('Deluxe')==False))[0]]\n",
    "explicit=tracks.loc[np.where((tracks['album'].str.contains('Edited')==False) & (tracks['album'].str.contains('Deluxe')==False))[0]]\n",
    "explicit.reset_index(drop=True,inplace=True)"
   ]
  },
  {
   "cell_type": "code",
   "execution_count": 26,
   "metadata": {
    "collapsed": false
   },
   "outputs": [],
   "source": [
    "#explicit[['name', 'explicit', 'album']].sort('name')"
   ]
  },
  {
   "cell_type": "markdown",
   "metadata": {},
   "source": [
    "Now that I've trimmed all the tracks down to the explicit versions, I want to see how Kanye alone fares against Kanye and Friends. Let's see how the distribution of popularity compares for these two categories. "
   ]
  },
  {
   "cell_type": "code",
   "execution_count": 27,
   "metadata": {
    "collapsed": false
   },
   "outputs": [],
   "source": [
    "ex_hist, ex_edges = np.histogram(explicit.loc[np.where(explicit['artist_num']==1)[0],'popularity'],range=[0,100], bins=25)\n",
    "ex_center=(ex_edges[:-1]+ex_edges[1:])/2.\n",
    "## Fractional: \n",
    "#ex_hist=(ex_hist.astype(float))/float(sum(ex_hist))\n",
    "\n",
    "cl_hist, cl_edges = np.histogram(explicit.loc[np.where(explicit['artist_num']>1)[0],'popularity'],range=[0,100], bins=25)\n",
    "cl_center=(cl_edges[:-1]+cl_edges[1:])/2.\n",
    "## Fractional: \n",
    "#cl_hist=(cl_hist.astype(float))/float(sum(cl_hist))\n",
    "\n",
    "histo=pd.DataFrame()\n",
    "histo['alone']=ex_hist\n",
    "histo['ex_center']=ex_center\n",
    "histo['collaboration']=cl_hist\n",
    "histo['cl_center']=cl_center\n"
   ]
  },
  {
   "cell_type": "code",
   "execution_count": 31,
   "metadata": {
    "collapsed": false,
    "scrolled": true
   },
   "outputs": [
    {
     "name": "stdout",
     "output_type": "stream",
     "text": [
      "Average Track Popularity (Kanye Alone):  61.1818181818 +- 19.8423146715\n",
      "Average Track Popularity (with Collaborators):  56.5476190476 +- 15.8097893281\n"
     ]
    },
    {
     "data": {
      "text/html": [
       "\n",
       "    <div class=\"bk-banner\">\n",
       "        <a href=\"http://bokeh.pydata.org\" target=\"_blank\" class=\"bk-logo bk-logo-small bk-logo-notebook\"></a>\n",
       "        <span id=\"f66a943c-8148-4318-9979-2047e777141c\">Loading BokehJS ...</span>\n",
       "    </div>"
      ]
     },
     "metadata": {},
     "output_type": "display_data"
    },
    {
     "data": {
      "application/javascript": [
       "\n",
       "(function(global) {\n",
       "  function now() {\n",
       "    return new Date();\n",
       "  }\n",
       "\n",
       "  if (typeof (window._bokeh_onload_callbacks) === \"undefined\") {\n",
       "    window._bokeh_onload_callbacks = [];\n",
       "  }\n",
       "\n",
       "  function run_callbacks() {\n",
       "    window._bokeh_onload_callbacks.forEach(function(callback) { callback() });\n",
       "    delete window._bokeh_onload_callbacks\n",
       "    console.info(\"Bokeh: all callbacks have finished\");\n",
       "  }\n",
       "\n",
       "  function load_libs(js_urls, callback) {\n",
       "    window._bokeh_onload_callbacks.push(callback);\n",
       "    if (window._bokeh_is_loading > 0) {\n",
       "      console.log(\"Bokeh: BokehJS is being loaded, scheduling callback at\", now());\n",
       "      return null;\n",
       "    }\n",
       "    if (js_urls == null || js_urls.length === 0) {\n",
       "      run_callbacks();\n",
       "      return null;\n",
       "    }\n",
       "    console.log(\"Bokeh: BokehJS not loaded, scheduling load and callback at\", now());\n",
       "    window._bokeh_is_loading = js_urls.length;\n",
       "    for (var i = 0; i < js_urls.length; i++) {\n",
       "      var url = js_urls[i];\n",
       "      var s = document.createElement('script');\n",
       "      s.src = url;\n",
       "      s.async = false;\n",
       "      s.onreadystatechange = s.onload = function() {\n",
       "        window._bokeh_is_loading--;\n",
       "        if (window._bokeh_is_loading === 0) {\n",
       "          console.log(\"Bokeh: all BokehJS libraries loaded\");\n",
       "          run_callbacks()\n",
       "        }\n",
       "      };\n",
       "      s.onerror = function() {\n",
       "        console.warn(\"failed to load library \" + url);\n",
       "      };\n",
       "      console.log(\"Bokeh: injecting script tag for BokehJS library: \", url);\n",
       "      document.getElementsByTagName(\"head\")[0].appendChild(s);\n",
       "    }\n",
       "  };\n",
       "\n",
       "  var js_urls = ['https://cdn.pydata.org/bokeh/release/bokeh-0.11.1.min.js', 'https://cdn.pydata.org/bokeh/release/bokeh-widgets-0.11.1.min.js', 'https://cdn.pydata.org/bokeh/release/bokeh-compiler-0.11.1.min.js'];\n",
       "\n",
       "  var inline_js = [\n",
       "    function(Bokeh) {\n",
       "      Bokeh.set_log_level(\"info\");\n",
       "    },\n",
       "    \n",
       "    function(Bokeh) {\n",
       "      Bokeh.$(\"#f66a943c-8148-4318-9979-2047e777141c\").text(\"BokehJS successfully loaded\");\n",
       "    },\n",
       "    function(Bokeh) {\n",
       "      console.log(\"Bokeh: injecting CSS: https://cdn.pydata.org/bokeh/release/bokeh-0.11.1.min.css\");\n",
       "      Bokeh.embed.inject_css(\"https://cdn.pydata.org/bokeh/release/bokeh-0.11.1.min.css\");\n",
       "      console.log(\"Bokeh: injecting CSS: https://cdn.pydata.org/bokeh/release/bokeh-widgets-0.11.1.min.css\");\n",
       "      Bokeh.embed.inject_css(\"https://cdn.pydata.org/bokeh/release/bokeh-widgets-0.11.1.min.css\");\n",
       "    }\n",
       "  ];\n",
       "\n",
       "  function run_inline_js() {\n",
       "    for (var i = 0; i < inline_js.length; i++) {\n",
       "      inline_js[i](window.Bokeh);\n",
       "    }\n",
       "  }\n",
       "\n",
       "  if (window._bokeh_is_loading === 0) {\n",
       "    console.log(\"Bokeh: BokehJS loaded, going straight to plotting\");\n",
       "    run_inline_js();\n",
       "  } else {\n",
       "    load_libs(js_urls, function() {\n",
       "      console.log(\"Bokeh: BokehJS plotting callback run at\", now());\n",
       "      run_inline_js();\n",
       "    });\n",
       "  }\n",
       "}(this));"
      ]
     },
     "metadata": {},
     "output_type": "display_data"
    }
   ],
   "source": [
    "from bokeh.plotting import figure, show, vplot\n",
    "from bokeh.charts import Histogram,Bar, output_file, show, output_notebook\n",
    "from bokeh.charts.attributes import cat, color\n",
    "from bokeh.charts.operations import blend\n",
    "\n",
    "p = figure(width=300, height=300)\n",
    "\n",
    "p = Bar(histo, label='ex_center', \n",
    "        values=blend('alone', 'collaboration', labels_name='typer'),  \n",
    "        stack=cat(columns='typer', sort=False),\n",
    "        color=color(columns='typer', palette=['red', 'blue'], sort=False), \n",
    "        legend='top_right', xlabel='Popularity', ylabel='Number',\n",
    "        tooltips=[('number', '@typer'), ('popularity', '@ex_center')])\n",
    "\n",
    "print 'Average Track Popularity (Kanye Alone): ', np.mean(explicit.loc[np.where(explicit['artist_num']==1)[0],'popularity']), '+-', np.std(tracks.loc[np.where(tracks['artist_num']==1)[0],'popularity'])\n",
    "print 'Average Track Popularity (with Collaborators): ', np.mean(explicit.loc[np.where(explicit['artist_num']!=1)[0],'popularity']), '+-', np.std(tracks.loc[np.where(tracks['artist_num']!=1)[0],'popularity'])\n",
    "\n",
    "output_notebook()\n",
    "#show(p)"
   ]
  },
  {
   "cell_type": "code",
   "execution_count": 100,
   "metadata": {
    "collapsed": false
   },
   "outputs": [
    {
     "name": "stdout",
     "output_type": "stream",
     "text": [
      "Average Track Popularity (Kanye Alone):  60.6266666667 +- 20.0659730602\n",
      "Average Track Popularity (with Collaborators):  56.6739130435 +- 15.807100188\n"
     ]
    },
    {
     "data": {
      "text/html": [
       "\n",
       "    <div class=\"bk-banner\">\n",
       "        <a href=\"http://bokeh.pydata.org\" target=\"_blank\" class=\"bk-logo bk-logo-small bk-logo-notebook\"></a>\n",
       "        <span id=\"a82337e9-9205-4959-af8b-99c05a03e1d4\">Loading BokehJS ...</span>\n",
       "    </div>"
      ]
     },
     "metadata": {},
     "output_type": "display_data"
    },
    {
     "data": {
      "application/javascript": [
       "\n",
       "(function(global) {\n",
       "  function now() {\n",
       "    return new Date();\n",
       "  }\n",
       "\n",
       "  if (typeof (window._bokeh_onload_callbacks) === \"undefined\") {\n",
       "    window._bokeh_onload_callbacks = [];\n",
       "  }\n",
       "\n",
       "  function run_callbacks() {\n",
       "    window._bokeh_onload_callbacks.forEach(function(callback) { callback() });\n",
       "    delete window._bokeh_onload_callbacks\n",
       "    console.info(\"Bokeh: all callbacks have finished\");\n",
       "  }\n",
       "\n",
       "  function load_libs(js_urls, callback) {\n",
       "    window._bokeh_onload_callbacks.push(callback);\n",
       "    if (window._bokeh_is_loading > 0) {\n",
       "      console.log(\"Bokeh: BokehJS is being loaded, scheduling callback at\", now());\n",
       "      return null;\n",
       "    }\n",
       "    if (js_urls == null || js_urls.length === 0) {\n",
       "      run_callbacks();\n",
       "      return null;\n",
       "    }\n",
       "    console.log(\"Bokeh: BokehJS not loaded, scheduling load and callback at\", now());\n",
       "    window._bokeh_is_loading = js_urls.length;\n",
       "    for (var i = 0; i < js_urls.length; i++) {\n",
       "      var url = js_urls[i];\n",
       "      var s = document.createElement('script');\n",
       "      s.src = url;\n",
       "      s.async = false;\n",
       "      s.onreadystatechange = s.onload = function() {\n",
       "        window._bokeh_is_loading--;\n",
       "        if (window._bokeh_is_loading === 0) {\n",
       "          console.log(\"Bokeh: all BokehJS libraries loaded\");\n",
       "          run_callbacks()\n",
       "        }\n",
       "      };\n",
       "      s.onerror = function() {\n",
       "        console.warn(\"failed to load library \" + url);\n",
       "      };\n",
       "      console.log(\"Bokeh: injecting script tag for BokehJS library: \", url);\n",
       "      document.getElementsByTagName(\"head\")[0].appendChild(s);\n",
       "    }\n",
       "  };\n",
       "\n",
       "  var js_urls = ['https://cdn.pydata.org/bokeh/release/bokeh-0.11.1.min.js', 'https://cdn.pydata.org/bokeh/release/bokeh-widgets-0.11.1.min.js', 'https://cdn.pydata.org/bokeh/release/bokeh-compiler-0.11.1.min.js'];\n",
       "\n",
       "  var inline_js = [\n",
       "    function(Bokeh) {\n",
       "      Bokeh.set_log_level(\"info\");\n",
       "    },\n",
       "    \n",
       "    function(Bokeh) {\n",
       "      Bokeh.$(\"#a82337e9-9205-4959-af8b-99c05a03e1d4\").text(\"BokehJS successfully loaded\");\n",
       "    },\n",
       "    function(Bokeh) {\n",
       "      console.log(\"Bokeh: injecting CSS: https://cdn.pydata.org/bokeh/release/bokeh-0.11.1.min.css\");\n",
       "      Bokeh.embed.inject_css(\"https://cdn.pydata.org/bokeh/release/bokeh-0.11.1.min.css\");\n",
       "      console.log(\"Bokeh: injecting CSS: https://cdn.pydata.org/bokeh/release/bokeh-widgets-0.11.1.min.css\");\n",
       "      Bokeh.embed.inject_css(\"https://cdn.pydata.org/bokeh/release/bokeh-widgets-0.11.1.min.css\");\n",
       "    }\n",
       "  ];\n",
       "\n",
       "  function run_inline_js() {\n",
       "    for (var i = 0; i < inline_js.length; i++) {\n",
       "      inline_js[i](window.Bokeh);\n",
       "    }\n",
       "  }\n",
       "\n",
       "  if (window._bokeh_is_loading === 0) {\n",
       "    console.log(\"Bokeh: BokehJS loaded, going straight to plotting\");\n",
       "    run_inline_js();\n",
       "  } else {\n",
       "    load_libs(js_urls, function() {\n",
       "      console.log(\"Bokeh: BokehJS plotting callback run at\", now());\n",
       "      run_inline_js();\n",
       "    });\n",
       "  }\n",
       "}(this));"
      ]
     },
     "metadata": {},
     "output_type": "display_data"
    }
   ],
   "source": [
    "from bokeh.plotting import figure, show, vplot\n",
    "from bokeh.charts import Histogram,Bar, output_file, show, output_notebook\n",
    "from bokeh.charts.attributes import cat, color\n",
    "from bokeh.charts.operations import blend\n",
    "from bokeh.models import ColumnDataSource, HoverTool, BoxZoomTool, ResetTool    \n",
    "\n",
    "p = figure(width=600, height=400)\n",
    "\n",
    "p.quad(top=ex_hist, bottom=0, left=ex_edges[:-1],right=ex_edges[1:],\\\n",
    "       fill_color=\"white\",line_color=\"red\", legend=\"Solo\")\n",
    "p.quad(top=cl_hist, bottom=0, left=cl_edges[:-1], right=cl_edges[1:],\\\n",
    "      fill_color=\"white\", line_color=\"blue\", fill_alpha=0.2, legend=\"Collaboration\")\n",
    "\n",
    "p.legend.location=\"top_right\"\n",
    "p.xaxis.axis_label=\"Popularity\"\n",
    "p.yaxis.axis_label=\"Number of Tracks\"\n",
    "\n",
    "print 'Average Track Popularity (Kanye Alone): ', np.mean(explicit.loc[np.where(explicit['artist_num']==1)[0],'popularity']), '+-', np.std(tracks.loc[np.where(tracks['artist_num']==1)[0],'popularity'])\n",
    "print 'Average Track Popularity (with Collaborators): ', np.mean(explicit.loc[np.where(explicit['artist_num']!=1)[0],'popularity']), '+-', np.std(tracks.loc[np.where(tracks['artist_num']!=1)[0],'popularity'])\n",
    "\n",
    "output_notebook()\n",
    "\n",
    "#show(p)\n",
    "\n",
    "######### REDO FOR HTML ############"
   ]
  },
  {
   "cell_type": "code",
   "execution_count": 99,
   "metadata": {
    "collapsed": false
   },
   "outputs": [
    {
     "name": "stdout",
     "output_type": "stream",
     "text": [
      "\n",
      "<div class=\"plotdiv\" id=\"b7efeb1b-9ab2-45b1-91d3-3a10798aa16a\"></div>\n"
     ]
    }
   ],
   "source": [
    "from bokeh.embed import components\n",
    "script, div = components(p)|\n",
    "\n",
    "print div\n",
    "\n",
    "f=open('p3.js', 'w')\n",
    "f.write(script)\n",
    "f.close()"
   ]
  },
  {
   "cell_type": "markdown",
   "metadata": {},
   "source": [
    "In general, the distributions of popularity for Kanye with and without collaborators are pretty similar, although Kanye alone is slightly more popular. "
   ]
  },
  {
   "cell_type": "markdown",
   "metadata": {},
   "source": [
    "Let's see which other musicians have the largest affect on song popularity... "
   ]
  },
  {
   "cell_type": "code",
   "execution_count": 30,
   "metadata": {
    "collapsed": false
   },
   "outputs": [],
   "source": [
    "collab_info=make_collab_list(explicit, 'Kanye West')"
   ]
  },
  {
   "cell_type": "code",
   "execution_count": 31,
   "metadata": {
    "collapsed": false
   },
   "outputs": [],
   "source": [
    "collab_info['count']=pd.Series(range(0, len(collab_info)))"
   ]
  },
  {
   "cell_type": "markdown",
   "metadata": {},
   "source": [
    "Now, I'm going to look at the mean popularity of songs for each collaborator and compare it to the popularity of Kanye alone, e.g., who drags him down and who raises him up. "
   ]
  },
  {
   "cell_type": "code",
   "execution_count": 32,
   "metadata": {
    "collapsed": false
   },
   "outputs": [
    {
     "data": {
      "text/html": [
       "<div style=\"max-height:1000px;max-width:1500px;overflow:auto;\">\n",
       "<table border=\"1\" class=\"dataframe\">\n",
       "  <thead>\n",
       "    <tr style=\"text-align: right;\">\n",
       "      <th></th>\n",
       "      <th>album</th>\n",
       "      <th>name</th>\n",
       "      <th>track_id</th>\n",
       "      <th>artist_num</th>\n",
       "      <th>popularity</th>\n",
       "      <th>explicit</th>\n",
       "      <th>artists_on_track</th>\n",
       "      <th>ed_name</th>\n",
       "      <th>pop_max</th>\n",
       "      <th>pop_diff</th>\n",
       "    </tr>\n",
       "  </thead>\n",
       "  <tbody>\n",
       "    <tr>\n",
       "      <th>77</th>\n",
       "      <td> Graduation (Explicit Version)</td>\n",
       "      <td> Homecoming</td>\n",
       "      <td> 2iaCM7WvOknQI1230hA9eK</td>\n",
       "      <td> 2</td>\n",
       "      <td> 13</td>\n",
       "      <td> True</td>\n",
       "      <td> Kanye West, Chris Martin</td>\n",
       "      <td> Homecoming</td>\n",
       "      <td> 13</td>\n",
       "      <td> 13</td>\n",
       "    </tr>\n",
       "  </tbody>\n",
       "</table>\n",
       "</div>"
      ],
      "text/plain": [
       "                            album        name                track_id  \\\n",
       "77  Graduation (Explicit Version)  Homecoming  2iaCM7WvOknQI1230hA9eK   \n",
       "\n",
       "    artist_num  popularity explicit          artists_on_track     ed_name  \\\n",
       "77           2          13     True  Kanye West, Chris Martin  Homecoming   \n",
       "\n",
       "    pop_max  pop_diff  \n",
       "77       13        13  "
      ]
     },
     "execution_count": 32,
     "metadata": {},
     "output_type": "execute_result"
    }
   ],
   "source": [
    "explicit.loc[np.where(explicit['name']=='Homecoming')[0]]"
   ]
  },
  {
   "cell_type": "code",
   "execution_count": 97,
   "metadata": {
    "collapsed": false,
    "scrolled": false
   },
   "outputs": [
    {
     "data": {
      "text/plain": [
       "<bokeh.models.renderers.GlyphRenderer at 0x1131794d0>"
      ]
     },
     "execution_count": 97,
     "metadata": {},
     "output_type": "execute_result"
    }
   ],
   "source": [
    "from bokeh.charts import Scatter, output_file, show\n",
    "from bokeh.models import ColumnDataSource, HoverTool, BoxZoomTool, ResetTool    \n",
    "\n",
    "source = ColumnDataSource(\n",
    "        data=dict(\n",
    "            x=collab_info['count'],\n",
    "            y=collab_info['mean_pop'].astype(int),\n",
    "            person=collab_info['collaborator'].astype(object),\n",
    "        )\n",
    "    )\n",
    "\n",
    "TOOLS = [BoxZoomTool(), ResetTool(), HoverTool(tooltips=[(\"Collaborator\",\"@person\")])]\n",
    "\n",
    "kanye_mean=np.mean(explicit.loc[np.where(explicit['artist_num']==1)[0],'popularity'])\n",
    "kanye_std=np.std(explicit.loc[np.where(explicit['artist_num']==1)[0],'popularity'])\n",
    "\n",
    "collab_mean=np.mean(explicit.loc[np.where(explicit['artist_num']>1)[0],'popularity'])\n",
    "collab_std=np.std(explicit.loc[np.where(explicit['artist_num']>1)[0],'popularity'])\n",
    "\n",
    "collab_mean2=np.mean(explicit.loc[np.where((explicit['artist_num']>1) & (explicit['name']!='Homecoming'))[0],'popularity'])\n",
    "collab_std2=np.std(explicit.loc[np.where(explicit['artist_num']>1)[0],'popularity'])\n",
    "\n",
    "\n",
    "p = figure(plot_width=600, plot_height=500, tools=TOOLS)\n",
    "p.xaxis.axis_label = \"Collaborator\"\n",
    "p.yaxis.axis_label = \"Mean Popularity of Collaboration\"\n",
    "p.circle(collab_info.loc[np.where(collab_info['collaborator']=='JAY Z')[0],'count'], collab_info.loc[np.where(collab_info['collaborator']=='JAY Z')[0],'mean_pop'], size=12, color='gold')\n",
    "p.circle('x', 'y', size=7, color='black', source=source)\n",
    "p.xaxis.major_label_text_font_size = '0pt'\n",
    "\n",
    "p.line([-1,45],[kanye_mean, kanye_mean], line_width=2, color='red')\n",
    "p.line([-1,45],[(kanye_mean+kanye_std), (kanye_mean+kanye_std)], line_dash=\"4 4\", line_width=2, color='red')\n",
    "p.line([-1,45],[(kanye_mean-kanye_std), (kanye_mean-kanye_std)], line_dash=\"4 4\", line_width=2, color='red')\n",
    "\n",
    "p.line([-1,45],[collab_mean, collab_mean], line_width=2, color='blue')\n",
    "#p.line([-1,45],[collab_mean2, collab_mean2], line_width=2, color='blue', line_dash=\"4 4\")\n",
    "#p.line([-1,45],[(collab_mean+collab_std), (collab_mean+collab_std)], line_dash=\"4 4\", line_width=2, color='blue')\n",
    "#p.line([-1,45],[(collab_mean-collab_std), (collab_mean-collab_std)], line_dash=\"4 4\", line_width=2, color='blue')\n",
    "\n",
    "#show(p)\n",
    "\n",
    "############# REDO FOR HTML #############"
   ]
  },
  {
   "cell_type": "code",
   "execution_count": 96,
   "metadata": {
    "collapsed": false
   },
   "outputs": [
    {
     "name": "stdout",
     "output_type": "stream",
     "text": [
      "\n",
      "<div class=\"plotdiv\" id=\"57830594-3b21-4c70-929b-2b61cc173dc4\"></div>\n"
     ]
    }
   ],
   "source": [
    "from bokeh.embed import components\n",
    "script, div = components(p)\n",
    "\n",
    "print div\n",
    "\n",
    "f=open('p4.js', 'w')\n",
    "f.write(script)\n",
    "f.close()"
   ]
  },
  {
   "cell_type": "markdown",
   "metadata": {},
   "source": [
    "Most of the collaborative tracks are well within the range of popularity for Kanye alone. Except for that one little guy. Which leads to the all important question: do Kanye fans hate Chris Martin?!\n",
    "\n",
    "The song 'Homecoming' is from the album 'Graduation.' "
   ]
  },
  {
   "cell_type": "code",
   "execution_count": 35,
   "metadata": {
    "collapsed": false
   },
   "outputs": [],
   "source": [
    "explicit_albums=kw_albums.loc[np.where((kw_albums['name'].str.contains('Deluxe')==False) & (kw_albums['name'].str.contains('Edited')==False))[0]]\n",
    "explicit_albums.reset_index(inplace=True, drop=True)\n",
    "explicit_albums['count']=pd.Series(range(0, len(explicit_albums)))"
   ]
  },
  {
   "cell_type": "code",
   "execution_count": 36,
   "metadata": {
    "collapsed": false
   },
   "outputs": [],
   "source": [
    "explicit_albums['year']=explicit_albums['release_date'].astype(str).str[0:4].astype(int)"
   ]
  },
  {
   "cell_type": "code",
   "execution_count": 94,
   "metadata": {
    "collapsed": false
   },
   "outputs": [
    {
     "data": {
      "text/plain": [
       "<bokeh.models.renderers.GlyphRenderer at 0x11318abd0>"
      ]
     },
     "execution_count": 94,
     "metadata": {},
     "output_type": "execute_result"
    }
   ],
   "source": [
    "from bokeh.charts import Scatter, output_file, show\n",
    "from bokeh.models import ColumnDataSource, HoverTool, BoxZoomTool, ResetTool    \n",
    "\n",
    "source = ColumnDataSource(\n",
    "        data=dict(\n",
    "            x=explicit_albums['year'],\n",
    "            y=explicit_albums['popularity'],\n",
    "            album=explicit_albums['name'].astype(object),\n",
    "        )\n",
    "    )\n",
    "\n",
    "TOOLS = [BoxZoomTool(), ResetTool(), HoverTool(tooltips=[(\"album\",\"@album\")])]\n",
    "\n",
    "meaner=np.mean(explicit_albums['popularity'])\n",
    "stder=np.std(explicit_albums['popularity'])\n",
    "\n",
    "p = figure(plot_width=600, plot_height=500, tools=TOOLS)\n",
    "p.xaxis.axis_label = \"Album Year\"\n",
    "p.yaxis.axis_label = \"Popularity\"\n",
    "p.circle(explicit_albums.loc[5,'year'], explicit_albums.loc[5,'popularity'], size=15, color='cyan')\n",
    "p.circle('x', 'y', size=10, color='black', source=source)\n",
    "#p.xaxis.major_label_text_font_size = '0pt'\n",
    "\n",
    "p.line([2003,2017],[meaner, meaner], line_width=2, color='red')\n",
    "p.line([2003,2017],[(meaner+stder), (meaner+stder)], line_dash=\"4 4\", line_width=2, color='red')\n",
    "p.line([2003,2017],[(meaner-stder), (meaner-stder)], line_dash=\"4 4\", line_width=2, color='red')\n",
    "\n",
    "\n",
    "#show(p)\n",
    "\n",
    "##### REDO FOR HTML ########"
   ]
  },
  {
   "cell_type": "code",
   "execution_count": 93,
   "metadata": {
    "collapsed": false
   },
   "outputs": [
    {
     "name": "stdout",
     "output_type": "stream",
     "text": [
      "\n",
      "<div class=\"plotdiv\" id=\"4b45defc-0397-410e-b1af-6f988f6a2f2f\"></div>\n"
     ]
    }
   ],
   "source": [
    "from bokeh.embed import components\n",
    "script, div = components(p)\n",
    "\n",
    "print div\n",
    "\n",
    "f=open('p5.js', 'w')\n",
    "f.write(script)\n",
    "f.close()"
   ]
  },
  {
   "cell_type": "markdown",
   "metadata": {},
   "source": [
    "Here I have marked 'Graduation' with a cyan border. As you can see , the album itself is above average in popularity. Additionally, the average is a probably skewed a bit high, as 'Life of Pablo' is a fairly new release, so is probably quite popular at the moment. "
   ]
  },
  {
   "cell_type": "code",
   "execution_count": 40,
   "metadata": {
    "collapsed": false
   },
   "outputs": [
    {
     "data": {
      "text/plain": [
       "<bokeh.models.renderers.GlyphRenderer at 0x11285fd90>"
      ]
     },
     "execution_count": 40,
     "metadata": {},
     "output_type": "execute_result"
    }
   ],
   "source": [
    "from bokeh.charts import Scatter, output_file, show\n",
    "from bokeh.models import ColumnDataSource, HoverTool, BoxZoomTool, ResetTool    \n",
    "\n",
    "source = ColumnDataSource(\n",
    "        data=dict(\n",
    "            x=explicit_albums['year'],\n",
    "            y=explicit_albums['popularity'],\n",
    "            album=explicit_albums['name'].astype(object),\n",
    "        )\n",
    "    )\n",
    "\n",
    "TOOLS = [BoxZoomTool(), ResetTool(), HoverTool(tooltips=[(\"album\",\"@album\")])]\n",
    "\n",
    "meaner=np.mean(explicit_albums['popularity'])\n",
    "stder=np.std(explicit_albums['popularity'])\n",
    "\n",
    "p = figure(plot_width=600, plot_height=500, tools=TOOLS)\n",
    "p.xaxis.axis_label = \"Release Year\"\n",
    "p.yaxis.axis_label = \"Popularity\"\n",
    "p.circle(explicit_albums.loc[5,'year'], explicit_albums.loc[5,'popularity'], size=15, color='cyan')\n",
    "p.circle('x', 'y', size=10, color='black', source=source)\n",
    "p.xaxis.major_label_text_font_size = '0pt'\n",
    "\n",
    "p.line([2000,2017],[meaner, meaner], line_width=2, color='red')\n",
    "p.line([2000,2017],[(meaner+stder), (meaner+stder)], line_dash=\"4 4\", line_width=2, color='red')\n",
    "p.line([2000,2017],[(meaner-stder), (meaner-stder)], line_dash=\"4 4\", line_width=2, color='red')\n",
    "\n",
    "\n",
    "#show(p)"
   ]
  },
  {
   "cell_type": "markdown",
   "metadata": {},
   "source": [
    "There is not a clear correlation between age of album and popularity. But 'Life of Pablo' is so recent, I'm guessing it's value is a bit biased. I mean it's good, but I'm not sure it's 2sigma good. \n",
    "\n",
    "Anyways, you can see that 'Graduation' as an album is pretty popular. So what's up with that Chris Martin collaboration?!"
   ]
  },
  {
   "cell_type": "code",
   "execution_count": 216,
   "metadata": {
    "collapsed": false
   },
   "outputs": [
    {
     "data": {
      "text/html": [
       "<div style=\"max-height:1000px;max-width:1500px;overflow:auto;\">\n",
       "<table border=\"1\" class=\"dataframe\">\n",
       "  <thead>\n",
       "    <tr style=\"text-align: right;\">\n",
       "      <th></th>\n",
       "      <th>name</th>\n",
       "      <th>id</th>\n",
       "      <th>release_date</th>\n",
       "      <th>popularity</th>\n",
       "      <th>count</th>\n",
       "      <th>year</th>\n",
       "    </tr>\n",
       "  </thead>\n",
       "  <tbody>\n",
       "    <tr>\n",
       "      <th>0</th>\n",
       "      <td>                                 The Life Of Pablo</td>\n",
       "      <td> 0WAuEfa5Lmg72xfydLVcca</td>\n",
       "      <td> 2016-04-04</td>\n",
       "      <td> 95</td>\n",
       "      <td> 0</td>\n",
       "      <td> 2016</td>\n",
       "    </tr>\n",
       "    <tr>\n",
       "      <th>1</th>\n",
       "      <td>                                            Yeezus</td>\n",
       "      <td> 7D2NdGvBHIavgLhmcwhluK</td>\n",
       "      <td> 2013-06-18</td>\n",
       "      <td> 78</td>\n",
       "      <td> 1</td>\n",
       "      <td> 2013</td>\n",
       "    </tr>\n",
       "    <tr>\n",
       "      <th>2</th>\n",
       "      <td>               Watch The Throne (Explicit Version)</td>\n",
       "      <td> 7mCeLbChyegbRwwKK5shJs</td>\n",
       "      <td> 2011-08-12</td>\n",
       "      <td> 70</td>\n",
       "      <td> 2</td>\n",
       "      <td> 2011</td>\n",
       "    </tr>\n",
       "    <tr>\n",
       "      <th>3</th>\n",
       "      <td> My Beautiful Dark Twisted Fantasy (Explicit Ve...</td>\n",
       "      <td> 20r762YmB5HeofjMCiPMLv</td>\n",
       "      <td> 2010-11-19</td>\n",
       "      <td> 81</td>\n",
       "      <td> 3</td>\n",
       "      <td> 2010</td>\n",
       "    </tr>\n",
       "    <tr>\n",
       "      <th>4</th>\n",
       "      <td>                                 808s &amp; Heartbreak</td>\n",
       "      <td> 2JK89jt4unItFroOr0kT3g</td>\n",
       "      <td> 2008-11-24</td>\n",
       "      <td> 75</td>\n",
       "      <td> 4</td>\n",
       "      <td> 2008</td>\n",
       "    </tr>\n",
       "    <tr>\n",
       "      <th>5</th>\n",
       "      <td>                     Graduation (Explicit Version)</td>\n",
       "      <td> 3SZr5Pco2oqKFORCP3WNj9</td>\n",
       "      <td> 2007-09-11</td>\n",
       "      <td> 81</td>\n",
       "      <td> 5</td>\n",
       "      <td> 2007</td>\n",
       "    </tr>\n",
       "    <tr>\n",
       "      <th>6</th>\n",
       "      <td>              Late Registration (Explicit Version)</td>\n",
       "      <td> 5ll74bqtkcXlKE7wwkMq4g</td>\n",
       "      <td> 2005-09-30</td>\n",
       "      <td> 79</td>\n",
       "      <td> 6</td>\n",
       "      <td> 2005</td>\n",
       "    </tr>\n",
       "    <tr>\n",
       "      <th>7</th>\n",
       "      <td>                    The College Dropout (Explicit)</td>\n",
       "      <td> 3ff2p3LnR6V7m6BinwhNaQ</td>\n",
       "      <td> 2004-02-13</td>\n",
       "      <td> 77</td>\n",
       "      <td> 7</td>\n",
       "      <td> 2004</td>\n",
       "    </tr>\n",
       "  </tbody>\n",
       "</table>\n",
       "</div>"
      ],
      "text/plain": [
       "                                                name                      id  \\\n",
       "0                                  The Life Of Pablo  0WAuEfa5Lmg72xfydLVcca   \n",
       "1                                             Yeezus  7D2NdGvBHIavgLhmcwhluK   \n",
       "2                Watch The Throne (Explicit Version)  7mCeLbChyegbRwwKK5shJs   \n",
       "3  My Beautiful Dark Twisted Fantasy (Explicit Ve...  20r762YmB5HeofjMCiPMLv   \n",
       "4                                  808s & Heartbreak  2JK89jt4unItFroOr0kT3g   \n",
       "5                      Graduation (Explicit Version)  3SZr5Pco2oqKFORCP3WNj9   \n",
       "6               Late Registration (Explicit Version)  5ll74bqtkcXlKE7wwkMq4g   \n",
       "7                     The College Dropout (Explicit)  3ff2p3LnR6V7m6BinwhNaQ   \n",
       "\n",
       "  release_date  popularity  count  year  \n",
       "0   2016-04-04          95      0  2016  \n",
       "1   2013-06-18          78      1  2013  \n",
       "2   2011-08-12          70      2  2011  \n",
       "3   2010-11-19          81      3  2010  \n",
       "4   2008-11-24          75      4  2008  \n",
       "5   2007-09-11          81      5  2007  \n",
       "6   2005-09-30          79      6  2005  \n",
       "7   2004-02-13          77      7  2004  "
      ]
     },
     "execution_count": 216,
     "metadata": {},
     "output_type": "execute_result"
    }
   ],
   "source": [
    "### Want to see how it did in the RIAA rankings. "
   ]
  },
  {
   "cell_type": "code",
   "execution_count": 270,
   "metadata": {
    "collapsed": false
   },
   "outputs": [],
   "source": [
    "from bs4 import BeautifulSoup\n",
    "import urllib2\n",
    "wiki = \"https://en.wikipedia.org/wiki/Kanye_West_discography#Singles\"\n",
    "header = {'User-Agent': 'Mozilla/5.0'} #Needed to prevent 403 error on Wikipedia\n",
    "req = urllib2.Request(wiki,headers=header)\n",
    "page = urllib2.urlopen(req)\n",
    "soup = BeautifulSoup(page)"
   ]
  },
  {
   "cell_type": "code",
   "execution_count": 296,
   "metadata": {
    "collapsed": false
   },
   "outputs": [],
   "source": [
    "# The list of singles is the 5th table on the wikipage\n",
    "singles = soup.findAll(\"table\", { \"class\" : \"wikitable plainrowheaders\" })[4]"
   ]
  },
  {
   "cell_type": "code",
   "execution_count": 542,
   "metadata": {
    "collapsed": false
   },
   "outputs": [],
   "source": [
    "wiki_data=pd.DataFrame()\n",
    "\n",
    "rows=singles.findAll(\"tr\")\n",
    "#Null value for billboard ranking \n",
    "nuller=(rows[12].findAll('td')[0])\n",
    "\n",
    "for i in range(2,len(rows)-1): \n",
    "    row=rows[i]\n",
    "    ## pull out song title\n",
    "    wiki_data.loc[i,'title']=row.findAll(\"th\")[0].findAll(\"a\")[0].get('title')\n",
    "    cells=row.findAll(\"td\")\n",
    "    ## pull out US chart ranking \n",
    "    \"\"\"\n",
    "    if ((cells[0]!=nuller)): \n",
    "        if ((cells[0].renderContents()>2000) & (cells[1]!=nuller)): \n",
    "            wiki_data.loc[i, 'us_rank']=int(cells[1].renderContents())\n",
    "        else if (): \n",
    "            wiki_data.loc[i, 'us_rank']=int(cells[0].renderContents())\n",
    "\n",
    "    ## pull out RIAA Rating\n",
    "    #if (len(cells)>11): \n",
    "    #    if (cells[11].li!=None): \n",
    "            temp=(unicode(cells).strip())\n",
    "            if (temp.find(u'RIAA: Gold')>-1): \n",
    "                wiki_data.loc[i,'riaa']='G'\n",
    "            if (temp.find(u'RIAA: Platinum')>-1): \n",
    "                wiki_data.loc[i,'riaa']='P'\n",
    "            if (temp.find(u'RIAA: 2x Platinum')>-1): \n",
    "                wiki_data.loc[i,'riaa']='2P'\n",
    "            if (temp.find(u'RIAA: 3x Platinum')>-1): \n",
    "                wiki_data.loc[i,'riaa']='3P'\n",
    "            if (temp.find(u'RIAA: 4x Platinum')>-1): \n",
    "                wiki_data.loc[i,'riaa']='4P'\n",
    "            if (temp.find(u'RIAA: 5x Platinum')>-1): \n",
    "                wiki_data.loc[i,'riaa']='5P'\n",
    "            if (temp.find(u'RIAA: 6x Platinum')>-1): \n",
    "                wiki_data.loc[i,'riaa']='6P'\n",
    "            if (temp.find(u'RIAA: 7x Platinum')>-1): \n",
    "                wiki_data.loc[i,'riaa']='7P'\n",
    "    \"\"\"\n"
   ]
  },
  {
   "cell_type": "code",
   "execution_count": 497,
   "metadata": {
    "collapsed": false
   },
   "outputs": [
    {
     "data": {
      "text/plain": [
       "\"\\nprint i\\nrow=rows[i]\\ncells=(row.findAll('td'))\\nprint cells[1]\\nif (cells!=test) : \\n    barf=cells[0]\\n    print 'Barf', barf\\n\""
      ]
     },
     "execution_count": 497,
     "metadata": {},
     "output_type": "execute_result"
    }
   ],
   "source": [
    "\"\"\"\n",
    "print i\n",
    "row=rows[i]\n",
    "cells=(row.findAll('td'))\n",
    "print cells[1]\n",
    "if (cells!=test) : \n",
    "    barf=cells[0]\n",
    "    print 'Barf', barf\n",
    "\"\"\""
   ]
  },
  {
   "cell_type": "code",
   "execution_count": 543,
   "metadata": {
    "collapsed": false
   },
   "outputs": [
    {
     "data": {
      "text/html": [
       "<div style=\"max-height:1000px;max-width:1500px;overflow:auto;\">\n",
       "<table border=\"1\" class=\"dataframe\">\n",
       "  <thead>\n",
       "    <tr style=\"text-align: right;\">\n",
       "      <th></th>\n",
       "      <th>title</th>\n",
       "    </tr>\n",
       "  </thead>\n",
       "  <tbody>\n",
       "    <tr>\n",
       "      <th>2 </th>\n",
       "      <td>                                  Through the Wire</td>\n",
       "    </tr>\n",
       "    <tr>\n",
       "      <th>3 </th>\n",
       "      <td>                                         Slow Jamz</td>\n",
       "    </tr>\n",
       "    <tr>\n",
       "      <th>4 </th>\n",
       "      <td>                                    All Falls Down</td>\n",
       "    </tr>\n",
       "    <tr>\n",
       "      <th>5 </th>\n",
       "      <td>                     Jesus Walks (Kanye West song)</td>\n",
       "    </tr>\n",
       "    <tr>\n",
       "      <th>6 </th>\n",
       "      <td>                              The New Workout Plan</td>\n",
       "    </tr>\n",
       "    <tr>\n",
       "      <th>7 </th>\n",
       "      <td>                        Diamonds from Sierra Leone</td>\n",
       "    </tr>\n",
       "    <tr>\n",
       "      <th>8 </th>\n",
       "      <td>                     Gold Digger (Kanye West song)</td>\n",
       "    </tr>\n",
       "    <tr>\n",
       "      <th>9 </th>\n",
       "      <td>                                     Heard 'Em Say</td>\n",
       "    </tr>\n",
       "    <tr>\n",
       "      <th>10</th>\n",
       "      <td>                   Touch the Sky (Kanye West song)</td>\n",
       "    </tr>\n",
       "    <tr>\n",
       "      <th>11</th>\n",
       "      <td>                                            Twista</td>\n",
       "    </tr>\n",
       "    <tr>\n",
       "      <th>12</th>\n",
       "      <td>                                        Drive Slow</td>\n",
       "    </tr>\n",
       "    <tr>\n",
       "      <th>13</th>\n",
       "      <td>              Classic (Better Than I've Ever Been)</td>\n",
       "    </tr>\n",
       "    <tr>\n",
       "      <th>14</th>\n",
       "      <td>                             Can't Tell Me Nothing</td>\n",
       "    </tr>\n",
       "    <tr>\n",
       "      <th>15</th>\n",
       "      <td>                        Stronger (Kanye West song)</td>\n",
       "    </tr>\n",
       "    <tr>\n",
       "      <th>16</th>\n",
       "      <td>                       Good Life (Kanye West song)</td>\n",
       "    </tr>\n",
       "    <tr>\n",
       "      <th>17</th>\n",
       "      <td>                 Flashing Lights (Kanye West song)</td>\n",
       "    </tr>\n",
       "    <tr>\n",
       "      <th>18</th>\n",
       "      <td>                      Homecoming (Kanye West song)</td>\n",
       "    </tr>\n",
       "    <tr>\n",
       "      <th>19</th>\n",
       "      <td>                                     Love Lockdown</td>\n",
       "    </tr>\n",
       "    <tr>\n",
       "      <th>20</th>\n",
       "      <td>                       Heartless (Kanye West song)</td>\n",
       "    </tr>\n",
       "    <tr>\n",
       "      <th>21</th>\n",
       "      <td>                         Amazing (Kanye West song)</td>\n",
       "    </tr>\n",
       "    <tr>\n",
       "      <th>22</th>\n",
       "      <td>                        Paranoid (Kanye West song)</td>\n",
       "    </tr>\n",
       "    <tr>\n",
       "      <th>23</th>\n",
       "      <td>                           Power (Kanye West song)</td>\n",
       "    </tr>\n",
       "    <tr>\n",
       "      <th>24</th>\n",
       "      <td>                         Monster (Kanye West song)</td>\n",
       "    </tr>\n",
       "    <tr>\n",
       "      <th>25</th>\n",
       "      <td>                         Runaway (Kanye West song)</td>\n",
       "    </tr>\n",
       "    <tr>\n",
       "      <th>26</th>\n",
       "      <td>                               Christmas in Harlem</td>\n",
       "    </tr>\n",
       "    <tr>\n",
       "      <th>27</th>\n",
       "      <td>                                             H•A•M</td>\n",
       "    </tr>\n",
       "    <tr>\n",
       "      <th>28</th>\n",
       "      <td>                                 All of the Lights</td>\n",
       "    </tr>\n",
       "    <tr>\n",
       "      <th>29</th>\n",
       "      <td>                                       Otis (song)</td>\n",
       "    </tr>\n",
       "    <tr>\n",
       "      <th>30</th>\n",
       "      <td>                                   Lift Off (song)</td>\n",
       "    </tr>\n",
       "    <tr>\n",
       "      <th>31</th>\n",
       "      <td>                                   Niggas in Paris</td>\n",
       "    </tr>\n",
       "    <tr>\n",
       "      <th>32</th>\n",
       "      <td>        Why I Love You (Jay-Z and Kanye West song)</td>\n",
       "    </tr>\n",
       "    <tr>\n",
       "      <th>33</th>\n",
       "      <td>                              Gotta Have It (song)</td>\n",
       "    </tr>\n",
       "    <tr>\n",
       "      <th>34</th>\n",
       "      <td>                             No Church in the Wild</td>\n",
       "    </tr>\n",
       "    <tr>\n",
       "      <th>35</th>\n",
       "      <td> Mercy (Kanye West, Big Sean, Pusha T and 2 Cha...</td>\n",
       "    </tr>\n",
       "    <tr>\n",
       "      <th>36</th>\n",
       "      <td>                            Cold (Kanye West song)</td>\n",
       "    </tr>\n",
       "    <tr>\n",
       "      <th>37</th>\n",
       "      <td>                                      New God Flow</td>\n",
       "    </tr>\n",
       "    <tr>\n",
       "      <th>38</th>\n",
       "      <td>                                     Clique (song)</td>\n",
       "    </tr>\n",
       "    <tr>\n",
       "      <th>39</th>\n",
       "      <td>                                    Black Skinhead</td>\n",
       "    </tr>\n",
       "    <tr>\n",
       "      <th>40</th>\n",
       "      <td>                                           Bound 2</td>\n",
       "    </tr>\n",
       "    <tr>\n",
       "      <th>41</th>\n",
       "      <td>                        Only One (Kanye West song)</td>\n",
       "    </tr>\n",
       "    <tr>\n",
       "      <th>42</th>\n",
       "      <td>                                   FourFiveSeconds</td>\n",
       "    </tr>\n",
       "    <tr>\n",
       "      <th>43</th>\n",
       "      <td>                         All Day (Kanye West song)</td>\n",
       "    </tr>\n",
       "    <tr>\n",
       "      <th>44</th>\n",
       "      <td>                          Famous (Kanye West song)</td>\n",
       "    </tr>\n",
       "  </tbody>\n",
       "</table>\n",
       "</div>"
      ],
      "text/plain": [
       "                                                title\n",
       "2                                    Through the Wire\n",
       "3                                           Slow Jamz\n",
       "4                                      All Falls Down\n",
       "5                       Jesus Walks (Kanye West song)\n",
       "6                                The New Workout Plan\n",
       "7                          Diamonds from Sierra Leone\n",
       "8                       Gold Digger (Kanye West song)\n",
       "9                                       Heard 'Em Say\n",
       "10                    Touch the Sky (Kanye West song)\n",
       "11                                             Twista\n",
       "12                                         Drive Slow\n",
       "13               Classic (Better Than I've Ever Been)\n",
       "14                              Can't Tell Me Nothing\n",
       "15                         Stronger (Kanye West song)\n",
       "16                        Good Life (Kanye West song)\n",
       "17                  Flashing Lights (Kanye West song)\n",
       "18                       Homecoming (Kanye West song)\n",
       "19                                      Love Lockdown\n",
       "20                        Heartless (Kanye West song)\n",
       "21                          Amazing (Kanye West song)\n",
       "22                         Paranoid (Kanye West song)\n",
       "23                            Power (Kanye West song)\n",
       "24                          Monster (Kanye West song)\n",
       "25                          Runaway (Kanye West song)\n",
       "26                                Christmas in Harlem\n",
       "27                                              H•A•M\n",
       "28                                  All of the Lights\n",
       "29                                        Otis (song)\n",
       "30                                    Lift Off (song)\n",
       "31                                    Niggas in Paris\n",
       "32         Why I Love You (Jay-Z and Kanye West song)\n",
       "33                               Gotta Have It (song)\n",
       "34                              No Church in the Wild\n",
       "35  Mercy (Kanye West, Big Sean, Pusha T and 2 Cha...\n",
       "36                             Cold (Kanye West song)\n",
       "37                                       New God Flow\n",
       "38                                      Clique (song)\n",
       "39                                     Black Skinhead\n",
       "40                                            Bound 2\n",
       "41                         Only One (Kanye West song)\n",
       "42                                    FourFiveSeconds\n",
       "43                          All Day (Kanye West song)\n",
       "44                           Famous (Kanye West song)"
      ]
     },
     "execution_count": 543,
     "metadata": {},
     "output_type": "execute_result"
    }
   ],
   "source": [
    "## Giving up at the moment \n",
    "[2, ], ['G', '']"
   ]
  },
  {
   "cell_type": "markdown",
   "metadata": {},
   "source": [
    "I was trying to webscrape wikipedia to see if I can compare songs on popularity and RIAA rating. Homecoming is certified Platinum. "
   ]
  },
  {
   "cell_type": "code",
   "execution_count": 41,
   "metadata": {
    "collapsed": false
   },
   "outputs": [],
   "source": [
    "explicit['count']=pd.Series(range(0, len(explicit)))"
   ]
  },
  {
   "cell_type": "code",
   "execution_count": 43,
   "metadata": {
    "collapsed": false
   },
   "outputs": [
    {
     "data": {
      "text/plain": [
       "<bokeh.models.renderers.GlyphRenderer at 0x112a8a050>"
      ]
     },
     "execution_count": 43,
     "metadata": {},
     "output_type": "execute_result"
    }
   ],
   "source": [
    "from bokeh.charts import Scatter, output_file, show\n",
    "from bokeh.models import ColumnDataSource, HoverTool, BoxZoomTool, ResetTool    \n",
    "\n",
    "source = ColumnDataSource(\n",
    "        data=dict(\n",
    "            x=explicit['count'],\n",
    "            y=explicit['popularity'],\n",
    "            track=explicit['name'].astype(object),\n",
    "        )\n",
    "    )\n",
    "\n",
    "TOOLS = [BoxZoomTool(), ResetTool(), HoverTool(tooltips=[(\"Track\",\"@track\")])]\n",
    "\n",
    "meaner=np.mean(explicit['popularity'])\n",
    "stder=np.std(explicit['popularity'])\n",
    "\n",
    "p = figure(plot_width=600, plot_height=500, tools=TOOLS)\n",
    "p.xaxis.axis_label = \"track\"\n",
    "p.yaxis.axis_label = \"Popularity\"\n",
    "p.circle(explicit.loc[np.where(explicit['name']=='Homecoming')[0],'count'], explicit.loc[np.where(explicit['name']=='Homecoming')[0],'popularity'], size=15, color='cyan')\n",
    "p.circle('x', 'y', size=10, color='black', source=source)\n",
    "p.xaxis.major_label_text_font_size = '0pt'\n",
    "\n",
    "p.line([-1,10],[meaner, meaner], line_width=2, color='red')\n",
    "p.line([-1,10],[(meaner+stder), (meaner+stder)], line_dash=\"4 4\", line_width=2, color='red')\n",
    "p.line([-1,10],[(meaner-stder), (meaner-stder)], line_dash=\"4 4\", line_width=2, color='red')\n",
    "\n",
    "\n",
    "#show(p)"
   ]
  },
  {
   "cell_type": "markdown",
   "metadata": {},
   "source": [
    "Kanye brags that Jay Z followed his lead by putting Chris Martin on a track (Kingdom Come, Beach Chair). Is this track similarly reviled? "
   ]
  },
  {
   "cell_type": "code",
   "execution_count": 44,
   "metadata": {
    "collapsed": false
   },
   "outputs": [
    {
     "name": "stdout",
     "output_type": "stream",
     "text": [
      "Querying Album Tracks\n",
      "0\n",
      "20\n",
      "40\n",
      "60\n",
      "80\n",
      "100\n",
      "120\n",
      "140\n",
      "160\n",
      "180\n",
      "200\n",
      "220\n",
      "240\n",
      "260\n"
     ]
    }
   ],
   "source": [
    "jz_albums=fetch_albums('JAY Z') \n",
    "jz_tracks=fetch_tracks(jz_albums)\n",
    "jz_explicit=jz_tracks.loc[np.where((jz_tracks['album'].str.contains('Edited')==False) & (jz_tracks['album'].str.contains('Deluxe')==False) &\\\n",
    "                                   (jz_tracks['album'].str.contains('Acappella')==False))[0]]\n",
    "jz_explicit.reset_index(drop=True,inplace=True)"
   ]
  },
  {
   "cell_type": "code",
   "execution_count": 101,
   "metadata": {
    "collapsed": false
   },
   "outputs": [],
   "source": [
    "jz_explicit=jz_tracks.loc[np.where((jz_tracks['album'].str.contains('Edited')==False) &\\\n",
    "                                   (jz_tracks['album'].str.contains('Deluxe')==False) &\\\n",
    "                                   (jz_tracks['album'].str.contains('Acappella')==False) & \n",
    "                                   (jz_tracks['name'].str.contains('Edited')==False))[0]]\n",
    "jz_explicit.reset_index(drop=True,inplace=True)"
   ]
  },
  {
   "cell_type": "code",
   "execution_count": 102,
   "metadata": {
    "collapsed": false,
    "scrolled": true
   },
   "outputs": [
    {
     "data": {
      "text/html": [
       "\n",
       "    <div class=\"bk-banner\">\n",
       "        <a href=\"http://bokeh.pydata.org\" target=\"_blank\" class=\"bk-logo bk-logo-small bk-logo-notebook\"></a>\n",
       "        <span id=\"eb49b9cf-4b8d-49ad-81d3-cece6d9c8f1c\">Loading BokehJS ...</span>\n",
       "    </div>"
      ]
     },
     "metadata": {},
     "output_type": "display_data"
    },
    {
     "data": {
      "application/javascript": [
       "\n",
       "(function(global) {\n",
       "  function now() {\n",
       "    return new Date();\n",
       "  }\n",
       "\n",
       "  if (typeof (window._bokeh_onload_callbacks) === \"undefined\") {\n",
       "    window._bokeh_onload_callbacks = [];\n",
       "  }\n",
       "\n",
       "  function run_callbacks() {\n",
       "    window._bokeh_onload_callbacks.forEach(function(callback) { callback() });\n",
       "    delete window._bokeh_onload_callbacks\n",
       "    console.info(\"Bokeh: all callbacks have finished\");\n",
       "  }\n",
       "\n",
       "  function load_libs(js_urls, callback) {\n",
       "    window._bokeh_onload_callbacks.push(callback);\n",
       "    if (window._bokeh_is_loading > 0) {\n",
       "      console.log(\"Bokeh: BokehJS is being loaded, scheduling callback at\", now());\n",
       "      return null;\n",
       "    }\n",
       "    if (js_urls == null || js_urls.length === 0) {\n",
       "      run_callbacks();\n",
       "      return null;\n",
       "    }\n",
       "    console.log(\"Bokeh: BokehJS not loaded, scheduling load and callback at\", now());\n",
       "    window._bokeh_is_loading = js_urls.length;\n",
       "    for (var i = 0; i < js_urls.length; i++) {\n",
       "      var url = js_urls[i];\n",
       "      var s = document.createElement('script');\n",
       "      s.src = url;\n",
       "      s.async = false;\n",
       "      s.onreadystatechange = s.onload = function() {\n",
       "        window._bokeh_is_loading--;\n",
       "        if (window._bokeh_is_loading === 0) {\n",
       "          console.log(\"Bokeh: all BokehJS libraries loaded\");\n",
       "          run_callbacks()\n",
       "        }\n",
       "      };\n",
       "      s.onerror = function() {\n",
       "        console.warn(\"failed to load library \" + url);\n",
       "      };\n",
       "      console.log(\"Bokeh: injecting script tag for BokehJS library: \", url);\n",
       "      document.getElementsByTagName(\"head\")[0].appendChild(s);\n",
       "    }\n",
       "  };\n",
       "\n",
       "  var js_urls = ['https://cdn.pydata.org/bokeh/release/bokeh-0.11.1.min.js', 'https://cdn.pydata.org/bokeh/release/bokeh-widgets-0.11.1.min.js', 'https://cdn.pydata.org/bokeh/release/bokeh-compiler-0.11.1.min.js'];\n",
       "\n",
       "  var inline_js = [\n",
       "    function(Bokeh) {\n",
       "      Bokeh.set_log_level(\"info\");\n",
       "    },\n",
       "    \n",
       "    function(Bokeh) {\n",
       "      Bokeh.$(\"#eb49b9cf-4b8d-49ad-81d3-cece6d9c8f1c\").text(\"BokehJS successfully loaded\");\n",
       "    },\n",
       "    function(Bokeh) {\n",
       "      console.log(\"Bokeh: injecting CSS: https://cdn.pydata.org/bokeh/release/bokeh-0.11.1.min.css\");\n",
       "      Bokeh.embed.inject_css(\"https://cdn.pydata.org/bokeh/release/bokeh-0.11.1.min.css\");\n",
       "      console.log(\"Bokeh: injecting CSS: https://cdn.pydata.org/bokeh/release/bokeh-widgets-0.11.1.min.css\");\n",
       "      Bokeh.embed.inject_css(\"https://cdn.pydata.org/bokeh/release/bokeh-widgets-0.11.1.min.css\");\n",
       "    }\n",
       "  ];\n",
       "\n",
       "  function run_inline_js() {\n",
       "    for (var i = 0; i < inline_js.length; i++) {\n",
       "      inline_js[i](window.Bokeh);\n",
       "    }\n",
       "  }\n",
       "\n",
       "  if (window._bokeh_is_loading === 0) {\n",
       "    console.log(\"Bokeh: BokehJS loaded, going straight to plotting\");\n",
       "    run_inline_js();\n",
       "  } else {\n",
       "    load_libs(js_urls, function() {\n",
       "      console.log(\"Bokeh: BokehJS plotting callback run at\", now());\n",
       "      run_inline_js();\n",
       "    });\n",
       "  }\n",
       "}(this));"
      ]
     },
     "metadata": {},
     "output_type": "display_data"
    },
    {
     "data": {
      "text/html": [
       "\n",
       "\n",
       "    <div class=\"plotdiv\" id=\"71bb8e0a-e6bd-435c-8532-95f5ac9def7f\"></div>\n",
       "<script type=\"text/javascript\">\n",
       "  \n",
       "  (function(global) {\n",
       "    function now() {\n",
       "      return new Date();\n",
       "    }\n",
       "  \n",
       "    if (typeof (window._bokeh_onload_callbacks) === \"undefined\") {\n",
       "      window._bokeh_onload_callbacks = [];\n",
       "    }\n",
       "  \n",
       "    function run_callbacks() {\n",
       "      window._bokeh_onload_callbacks.forEach(function(callback) { callback() });\n",
       "      delete window._bokeh_onload_callbacks\n",
       "      console.info(\"Bokeh: all callbacks have finished\");\n",
       "    }\n",
       "  \n",
       "    function load_libs(js_urls, callback) {\n",
       "      window._bokeh_onload_callbacks.push(callback);\n",
       "      if (window._bokeh_is_loading > 0) {\n",
       "        console.log(\"Bokeh: BokehJS is being loaded, scheduling callback at\", now());\n",
       "        return null;\n",
       "      }\n",
       "      if (js_urls == null || js_urls.length === 0) {\n",
       "        run_callbacks();\n",
       "        return null;\n",
       "      }\n",
       "      console.log(\"Bokeh: BokehJS not loaded, scheduling load and callback at\", now());\n",
       "      window._bokeh_is_loading = js_urls.length;\n",
       "      for (var i = 0; i < js_urls.length; i++) {\n",
       "        var url = js_urls[i];\n",
       "        var s = document.createElement('script');\n",
       "        s.src = url;\n",
       "        s.async = false;\n",
       "        s.onreadystatechange = s.onload = function() {\n",
       "          window._bokeh_is_loading--;\n",
       "          if (window._bokeh_is_loading === 0) {\n",
       "            console.log(\"Bokeh: all BokehJS libraries loaded\");\n",
       "            run_callbacks()\n",
       "          }\n",
       "        };\n",
       "        s.onerror = function() {\n",
       "          console.warn(\"failed to load library \" + url);\n",
       "        };\n",
       "        console.log(\"Bokeh: injecting script tag for BokehJS library: \", url);\n",
       "        document.getElementsByTagName(\"head\")[0].appendChild(s);\n",
       "      }\n",
       "    };var element = document.getElementById(\"71bb8e0a-e6bd-435c-8532-95f5ac9def7f\");\n",
       "    if (element == null) {\n",
       "      console.log(\"Bokeh: ERROR: autoload.js configured with elementid '71bb8e0a-e6bd-435c-8532-95f5ac9def7f' but no matching script tag was found. \")\n",
       "      return false;\n",
       "    }\n",
       "  \n",
       "    var js_urls = [];\n",
       "  \n",
       "    var inline_js = [\n",
       "      function(Bokeh) {\n",
       "        Bokeh.$(function() {\n",
       "            var docs_json = {\"fc5030ed-0392-410b-a148-401ea2058523\":{\"roots\":{\"references\":[{\"attributes\":{\"callback\":null},\"id\":\"2f6e9607-877f-4d24-90eb-4519949c3697\",\"type\":\"ColumnDataSource\"},{\"attributes\":{},\"id\":\"523b10f4-9055-4969-bba4-7e9f407adc85\",\"type\":\"BasicTicker\"},{\"attributes\":{\"line_dash\":[4,4],\"line_width\":{\"value\":2},\"x\":{\"field\":\"x\"},\"y\":{\"field\":\"y\"}},\"id\":\"60c505fe-f87b-412d-9f2a-6cd0b782998b\",\"type\":\"Line\"},{\"attributes\":{\"plot\":{\"id\":\"00954d86-a32b-49f4-b0b3-c33b05112bed\",\"subtype\":\"Figure\",\"type\":\"Plot\"},\"ticker\":{\"id\":\"6ac16410-2310-4921-8e0c-23d9433aa12e\",\"type\":\"BasicTicker\"}},\"id\":\"430ca078-7c57-43e2-b655-272940232e1a\",\"type\":\"Grid\"},{\"attributes\":{\"data_source\":{\"id\":\"9753ff27-fc7b-47d3-b723-f077191b51b9\",\"type\":\"ColumnDataSource\"},\"glyph\":{\"id\":\"f6b60c08-de3f-460f-b98b-bea14683bdf1\",\"type\":\"Line\"},\"hover_glyph\":null,\"nonselection_glyph\":{\"id\":\"2791aaa3-00d3-4b82-9e3e-9554788638a9\",\"type\":\"Line\"},\"selection_glyph\":null},\"id\":\"d7806f60-7e02-4631-87bf-8e8f3c22a7bd\",\"type\":\"GlyphRenderer\"},{\"attributes\":{\"callback\":null,\"column_names\":[\"y\",\"x\"],\"data\":{\"x\":[-1,130],\"y\":[30.708626440232365,30.708626440232365]}},\"id\":\"30bf46a3-2d97-47b2-97f9-73556f008eb8\",\"type\":\"ColumnDataSource\"},{\"attributes\":{},\"id\":\"6954ed6d-35ff-443a-a7ee-54629488c775\",\"type\":\"BasicTickFormatter\"},{\"attributes\":{\"callback\":null},\"id\":\"28188933-6f7d-445b-9a85-7016ac778039\",\"type\":\"DataRange1d\"},{\"attributes\":{\"overlay\":{\"id\":\"c412ae3a-3c1f-4ea9-93ed-bbdbaebd67ae\",\"type\":\"BoxAnnotation\"},\"plot\":{\"id\":\"0218e7c7-c2e7-440c-a494-9b99e502f7a8\",\"subtype\":\"Figure\",\"type\":\"Plot\"}},\"id\":\"c72afe66-3502-4b22-9bf7-f797f93628de\",\"type\":\"BoxZoomTool\"},{\"attributes\":{\"line_alpha\":{\"value\":0.1},\"line_color\":{\"value\":\"#1f77b4\"},\"line_dash\":[4,4],\"line_width\":{\"value\":2},\"x\":{\"field\":\"x\"},\"y\":{\"field\":\"y\"}},\"id\":\"694becec-fe2b-48b3-ae57-9c9cf7749fb1\",\"type\":\"Line\"},{\"attributes\":{\"fill_color\":{\"value\":\"cyan\"},\"line_color\":{\"value\":\"cyan\"},\"size\":{\"units\":\"screen\",\"value\":15},\"x\":{\"value\":2007},\"y\":{\"value\":80.0}},\"id\":\"bff01a80-c35b-45cb-a670-913e17fdd32f\",\"type\":\"Circle\"},{\"attributes\":{\"line_color\":{\"value\":\"red\"},\"line_dash\":[4,4],\"line_width\":{\"value\":2},\"x\":{\"field\":\"x\"},\"y\":{\"field\":\"y\"}},\"id\":\"794e84ae-b75b-42a0-a9be-2674ce6412c2\",\"type\":\"Line\"},{\"attributes\":{\"line_color\":{\"value\":\"red\"},\"line_dash\":[4,4],\"line_width\":{\"value\":2},\"x\":{\"field\":\"x\"},\"y\":{\"field\":\"y\"}},\"id\":\"a85c9606-3589-491c-8c0f-3dda09320fab\",\"type\":\"Line\"},{\"attributes\":{\"line_dash\":[2,2],\"line_width\":{\"value\":2},\"x\":{\"field\":\"x\"},\"y\":{\"field\":\"y\"}},\"id\":\"7feb5b98-27f4-4d62-ae06-118f79104d43\",\"type\":\"Line\"},{\"attributes\":{},\"id\":\"a74d0610-e3fb-48cc-b041-f81b5e2f8303\",\"type\":\"BasicTicker\"},{\"attributes\":{\"callback\":null,\"column_names\":[\"y\",\"x\"],\"data\":{\"x\":[1],\"y\":[55.3125]}},\"id\":\"b2312f66-5e4b-4fb1-9329-4216ab3a0a69\",\"type\":\"ColumnDataSource\"},{\"attributes\":{\"plot\":{\"id\":\"58361c2d-9a21-4f09-9573-41312e1214d0\",\"subtype\":\"Figure\",\"type\":\"Plot\"}},\"id\":\"dd906d2d-03a3-43ce-8509-0e225062139a\",\"type\":\"ResetTool\"},{\"attributes\":{\"callback\":null,\"column_names\":[\"y\",\"x\"],\"data\":{\"x\":[56],\"y\":[40.0]}},\"id\":\"a448b730-aa04-425c-bf0e-f06cbf6903a0\",\"type\":\"ColumnDataSource\"},{\"attributes\":{},\"id\":\"84463a87-fbc3-4f48-ac9f-9c899780892a\",\"type\":\"BasicTickFormatter\"},{\"attributes\":{},\"id\":\"779b0e84-d78e-404f-a8b4-ea13f072b287\",\"type\":\"ToolEvents\"},{\"attributes\":{\"callback\":null},\"id\":\"156636fc-d000-492a-b339-a84f8cfdb72a\",\"type\":\"DataRange1d\"},{\"attributes\":{\"data_source\":{\"id\":\"e4ba07f3-b80f-4965-be51-45606e3411ec\",\"type\":\"ColumnDataSource\"},\"glyph\":{\"id\":\"00c575cc-7d20-4684-9ed5-d328a7be2bf6\",\"type\":\"Quad\"},\"hover_glyph\":null,\"nonselection_glyph\":{\"id\":\"0427db36-4a2d-4de4-8c08-da7eaecd9152\",\"type\":\"Quad\"},\"selection_glyph\":null},\"id\":\"0401bbee-5a05-40b6-95ed-ae1e97c8db3f\",\"type\":\"GlyphRenderer\"},{\"attributes\":{\"line_alpha\":{\"value\":0.1},\"line_color\":{\"value\":\"#1f77b4\"},\"line_dash\":[4,4],\"line_width\":{\"value\":2},\"x\":{\"field\":\"x\"},\"y\":{\"field\":\"y\"}},\"id\":\"4889dcd4-0232-4ab2-93c4-c80026527ad5\",\"type\":\"Line\"},{\"attributes\":{\"bottom\":{\"value\":0},\"fill_alpha\":{\"value\":0.1},\"fill_color\":{\"value\":\"#1f77b4\"},\"left\":{\"field\":\"left\"},\"line_alpha\":{\"value\":0.1},\"line_color\":{\"value\":\"#1f77b4\"},\"right\":{\"field\":\"right\"},\"top\":{\"field\":\"top\"}},\"id\":\"7e8dfe79-41b1-4e6a-9b97-1aa3f3cf1b64\",\"type\":\"Quad\"},{\"attributes\":{\"data_source\":{\"id\":\"19b6b168-2b25-44d7-91a1-36258bc43bd3\",\"type\":\"ColumnDataSource\"},\"glyph\":{\"id\":\"92617e7e-4868-4e2d-a09c-13a0eab400f9\",\"type\":\"Line\"},\"hover_glyph\":null,\"nonselection_glyph\":{\"id\":\"ceb525ca-6e02-4ad7-b5a4-7735a3d313da\",\"type\":\"Line\"},\"selection_glyph\":null},\"id\":\"96a4a9c3-9f7d-4032-91b3-5017221cec72\",\"type\":\"GlyphRenderer\"},{\"attributes\":{\"callback\":null,\"plot\":{\"id\":\"c163acbe-edba-4d39-ae8f-0c56519a9cc4\",\"subtype\":\"Figure\",\"type\":\"Plot\"},\"tooltips\":[[\"Track\",\"@track\"],[\"album\",\"@album\"]]},\"id\":\"40f762b2-7da1-4e62-8a16-0af3594206da\",\"type\":\"HoverTool\"},{\"attributes\":{\"overlay\":{\"id\":\"6442f5ed-cfd3-4b2f-b015-66f324f0d39a\",\"type\":\"BoxAnnotation\"},\"plot\":{\"id\":\"fa223b75-3433-4548-8291-731dae75b280\",\"subtype\":\"Figure\",\"type\":\"Plot\"}},\"id\":\"de1cf72a-f4a8-4ed1-9e8e-54422a836f32\",\"type\":\"BoxZoomTool\"},{\"attributes\":{\"fill_alpha\":{\"value\":0.1},\"fill_color\":{\"value\":\"#1f77b4\"},\"line_alpha\":{\"value\":0.1},\"line_color\":{\"value\":\"#1f77b4\"},\"size\":{\"units\":\"screen\",\"value\":12},\"x\":{\"field\":\"x\"},\"y\":{\"field\":\"y\"}},\"id\":\"1faf7358-5f6e-48ac-850d-ae8b0f1c8dee\",\"type\":\"Circle\"},{\"attributes\":{\"callback\":null,\"column_names\":[\"y\",\"x\"],\"data\":{\"x\":[-1,45],\"y\":[46.865103447968636,46.865103447968636]}},\"id\":\"3eb391fa-7269-48a5-ade8-7979d77e875c\",\"type\":\"ColumnDataSource\"},{\"attributes\":{\"callback\":null,\"column_names\":[\"y\",\"x\",\"collab_num\",\"artist\"],\"data\":{\"artist\":[\"JAY Z\",\"Frank Ocean\",\"The-Dream\",\"Beyonce\",\"Mr Hudson\",\"Kid Cudi\",\"Raekwon\",\"Rick Ross\",\"Nicki Minaj\",\"Pusha T\",\"Prynce Cy Hi\",\"Swizz Beatz\",\"John Legend\",\"Jeezy\",\"Lil Wayne\",\"T-Pain\",\"Mos Def\",\"DJ Premier\",\"Lupe Fiasco\",\"Jamie Foxx\",\"Paul Wall\",\"GLC\",\"Common\",\"The Game\",\"Brandy\",\"Nas\",\"Really Doe\",\"Consequence\",\"Cam'Ron\",\"J. Ivy\",\"Talib Kweli\",\"Twista\",\"Ludacris\",\"Freeway\"],\"collab_num\":[\"56.0\",\"0.0\",\"2.0\",\"4.0\",\"2.0\",\"6.0\",\"0.0\",\"8.0\",\"5.0\",\"4.0\",\"nan\",\"0.0\",\"2.0\",\"2.0\",\"0.0\",\"4.0\",\"0.0\",\"nan\",\"0.0\",\"4.0\",\"0.0\",\"2.0\",\"6.0\",\"3.0\",\"3.0\",\"4.0\",\"nan\",\"4.0\",\"2.0\",\"nan\",\"2.0\",\"2.0\",\"0.0\",\"0.0\"],\"x\":[32.01754385964912,59.357142857142854,22.310077519379846,52.36923076923077,17.22222222222222,39.7265625,15.037735849056604,28.440677966101696,35.91463414634146,32.206896551724135,\"NaN\",15.85,44.015151515151516,23.11244979919679,31.128,19.09090909090909,32.5,\"NaN\",28.619402985074625,25.40963855421687,13.08148148148148,1.5833333333333333,24.664429530201343,22.8515625,25.075342465753426,24.407960199004975,\"NaN\",9.690909090909091,16.333333333333332,\"NaN\",18.36190476190476,17.55151515151515,25.0,5.862903225806452],\"y\":[41.625,\"NaN\",34.0,51.5,31.0,44.5,\"NaN\",32.875,30.8,36.75,\"NaN\",\"NaN\",27.0,52.5,\"NaN\",19.75,\"NaN\",\"NaN\",\"NaN\",26.5,\"NaN\",23.5,30.166666666666668,37.666666666666664,29.0,27.75,\"NaN\",34.0,37.5,\"NaN\",23.0,50.5,\"NaN\",\"NaN\"]}},\"id\":\"53f6a3df-8b76-4aa3-83c1-2fcec32da48d\",\"type\":\"ColumnDataSource\"},{\"attributes\":{\"callback\":null,\"plot\":{\"id\":\"c4b3a879-ecc0-433b-ab6e-393d30e0a4fd\",\"subtype\":\"Figure\",\"type\":\"Plot\"},\"tooltips\":[[\"Artist\",\"@artist\"]]},\"id\":\"57eb9488-057b-4130-a8e3-2a5c7331318f\",\"type\":\"HoverTool\"},{\"attributes\":{\"plot\":{\"id\":\"5581247a-fe58-45f5-82af-2159194a2f13\",\"subtype\":\"Figure\",\"type\":\"Plot\"}},\"id\":\"befe0fa3-a3ed-469b-8cef-85980b91d8ca\",\"type\":\"HelpTool\"},{\"attributes\":{\"line_dash\":[4,4],\"line_width\":{\"value\":2},\"x\":{\"field\":\"x\"},\"y\":{\"field\":\"y\"}},\"id\":\"be61941f-a95b-41fe-b504-0ebe60dc3230\",\"type\":\"Line\"},{\"attributes\":{},\"id\":\"6ab4c617-82c9-45e0-a149-28de6eb20938\",\"type\":\"BasicTickFormatter\"},{\"attributes\":{\"callback\":null,\"column_names\":[\"y\",\"x\"],\"data\":{\"x\":[-1,130],\"y\":[53.27025969971829,53.27025969971829]}},\"id\":\"9968262e-5830-477b-a00f-8fddb5c4298e\",\"type\":\"ColumnDataSource\"},{\"attributes\":{},\"id\":\"bf086761-e2f5-4f7e-89bd-ed9a753770a5\",\"type\":\"BasicTicker\"},{\"attributes\":{\"plot\":{\"id\":\"4e696ab0-d96e-4cab-b1c5-5f2b4861d8bc\",\"subtype\":\"Figure\",\"type\":\"Plot\"}},\"id\":\"8a3e286f-7f45-4a29-9032-7b2af099132e\",\"type\":\"ResetTool\"},{\"attributes\":{\"bottom\":{\"value\":0},\"fill_color\":{\"value\":\"white\"},\"left\":{\"field\":\"left\"},\"line_color\":{\"value\":\"red\"},\"right\":{\"field\":\"right\"},\"top\":{\"field\":\"top\"}},\"id\":\"d1c7b0c2-f035-4724-b472-65a6decf6862\",\"type\":\"Quad\"},{\"attributes\":{\"callback\":null,\"column_names\":[\"y\",\"x\"],\"data\":{\"x\":[19,50],\"y\":[19,50]}},\"id\":\"46390122-3b59-40ce-9164-58f9645c2acb\",\"type\":\"ColumnDataSource\"},{\"attributes\":{\"plot\":{\"id\":\"906090f5-7fc8-4666-bdc4-2cfa29be15ef\",\"subtype\":\"Figure\",\"type\":\"Plot\"},\"ticker\":{\"id\":\"a4969b78-71da-47fd-89c1-1d3d0c18e5cd\",\"type\":\"BasicTicker\"}},\"id\":\"6cb819c4-c9c7-4f63-b930-d8f91e59b470\",\"type\":\"Grid\"},{\"attributes\":{\"plot\":{\"id\":\"42d95f82-ea66-4636-bfa0-901593efc674\",\"subtype\":\"Figure\",\"type\":\"Plot\"},\"ticker\":{\"id\":\"022fdb79-819b-45c0-8e9b-939188ce8e69\",\"type\":\"BasicTicker\"}},\"id\":\"b65b5113-230e-4139-b9fb-9a126b24e135\",\"type\":\"Grid\"},{\"attributes\":{\"line_dash\":[4,4],\"line_width\":{\"value\":2},\"x\":{\"field\":\"x\"},\"y\":{\"field\":\"y\"}},\"id\":\"cc87628e-b23a-41dc-9525-d7a369f8f4b5\",\"type\":\"Line\"},{\"attributes\":{\"data_source\":{\"id\":\"61e0744b-01a4-4e77-9d09-2dbaccacef0f\",\"type\":\"ColumnDataSource\"},\"glyph\":{\"id\":\"4682452b-ce25-416a-851d-f3e0916a3c7d\",\"type\":\"Line\"},\"hover_glyph\":null,\"nonselection_glyph\":{\"id\":\"6aae6e72-bffa-429c-a7f0-c44952702ee7\",\"type\":\"Line\"},\"selection_glyph\":null},\"id\":\"908af314-71dd-457f-b61d-298e64256078\",\"type\":\"GlyphRenderer\"},{\"attributes\":{\"callback\":null,\"column_names\":[\"y\",\"person\",\"x\"],\"data\":{\"person\":[\"God\",\"JAY Z\",\"Frank Ocean\",\"The-Dream\",\"Beyonce\",\"Otis Redding\",\"Mr Hudson\",\"Kid Cudi\",\"Raekwon\",\"Rick Ross\",\"Nicki Minaj\",\"Bon Iver\",\"Pusha T\",\"Prynce Cy Hi\",\"Swizz Beatz\",\"RZA\",\"John Legend\",\"Jeezy\",\"Lil Wayne\",\"T-Pain\",\"Mos Def\",\"DJ Premier\",\"Chris Martin\",\"Adam Levine\",\"Lupe Fiasco\",\"Jamie Foxx\",\"Paul Wall\",\"GLC\",\"Common\",\"The Game\",\"Brandy\",\"Nas\",\"Really Doe\",\"Consequence\",\"Cam'Ron\",\"Syleena Johnson\",\"J. Ivy\",\"Talib Kweli\",\"Twista\",\"Ludacris\",\"Freeway\",\"The Boys Choir Of Harlem\"],\"x\":[0,1,2,3,4,5,6,7,8,9,10,11,12,13,14,15,16,17,18,19,20,21,22,23,24,25,26,27,28,29,30,31,32,33,34,35,36,37,38,39,40,41],\"y\":[60,55,54,59,52,58,55,59,61,64,68,63,63,58,58,58,59,64,55,67,54,59,13,62,63,69,58,58,54,52,51,53,53,57,56,66,56,57,62,53,53,53]}},\"id\":\"82d7761a-fb26-4007-9b4d-b08eabe50729\",\"type\":\"ColumnDataSource\"},{\"attributes\":{\"callback\":null,\"column_names\":[\"album\",\"y\",\"x\"],\"data\":{\"album\":[\"The Life Of Pablo\",\"Yeezus\",\"Watch The Throne (Explicit Version)\",\"My Beautiful Dark Twisted Fantasy (Explicit Version)\",\"808s & Heartbreak\",\"Graduation (Explicit Version)\",\"Late Registration (Explicit Version)\",\"The College Dropout (Explicit)\"],\"x\":[2016,2013,2011,2010,2008,2007,2005,2004],\"y\":[94.0,78.0,70.0,80.0,74.0,80.0,78.0,76.0]}},\"id\":\"b19668f0-d970-456b-8cfe-a11dd717f04b\",\"type\":\"ColumnDataSource\"},{\"attributes\":{},\"id\":\"79a09a53-902d-4f2f-9e72-94a430737346\",\"type\":\"BasicTicker\"},{\"attributes\":{\"below\":[{\"id\":\"301bda01-a690-4582-a552-b20b2c19b90f\",\"type\":\"LinearAxis\"}],\"left\":[{\"id\":\"bfa107e5-2106-4fcd-9676-3864667b5035\",\"type\":\"LinearAxis\"}],\"plot_height\":500,\"renderers\":[{\"id\":\"301bda01-a690-4582-a552-b20b2c19b90f\",\"type\":\"LinearAxis\"},{\"id\":\"e0415ee9-78e2-4d60-9d01-e7d20c8380f9\",\"type\":\"Grid\"},{\"id\":\"bfa107e5-2106-4fcd-9676-3864667b5035\",\"type\":\"LinearAxis\"},{\"id\":\"b9088047-f6a3-448f-a0d6-1ddc58fdbfbf\",\"type\":\"Grid\"},{\"id\":\"4c78607c-7ff5-4e72-8c29-5df46c86680f\",\"type\":\"BoxAnnotation\"},{\"id\":\"cf52b1e2-c7ec-40ab-8294-1c058dde291a\",\"type\":\"GlyphRenderer\"},{\"id\":\"57ab308c-f352-4583-bc5a-2eb72b810df6\",\"type\":\"GlyphRenderer\"},{\"id\":\"6c3b293d-0085-4617-932f-8f8f9059e38c\",\"type\":\"GlyphRenderer\"},{\"id\":\"3141b13a-32a3-48e7-a9c9-b58a101799ca\",\"type\":\"GlyphRenderer\"},{\"id\":\"4c12851d-1a85-4b41-96f2-d631ff0c5a5d\",\"type\":\"GlyphRenderer\"}],\"tool_events\":{\"id\":\"6914544a-e5f4-4516-9394-19043cf09aaa\",\"type\":\"ToolEvents\"},\"tools\":[{\"id\":\"dbc41221-ab71-4596-8d72-c6957b04c185\",\"type\":\"BoxZoomTool\"},{\"id\":\"8a3e286f-7f45-4a29-9032-7b2af099132e\",\"type\":\"ResetTool\"},{\"id\":\"73987307-0b4b-45f8-aad6-af62786a91ba\",\"type\":\"HoverTool\"}],\"x_range\":{\"id\":\"1caa4fb8-7b70-4c8c-b27d-9dead14a9f01\",\"type\":\"DataRange1d\"},\"y_range\":{\"id\":\"cbef0052-6ea7-41f5-b13e-0033a6c1d1b3\",\"type\":\"DataRange1d\"}},\"id\":\"4e696ab0-d96e-4cab-b1c5-5f2b4861d8bc\",\"subtype\":\"Figure\",\"type\":\"Plot\"},{\"attributes\":{\"callback\":null,\"column_names\":[\"y\",\"x\"],\"data\":{\"x\":[-1,130],\"y\":[38.84347826086957,38.84347826086957]}},\"id\":\"b8b5a027-bcde-4ea1-a237-56d7293523ee\",\"type\":\"ColumnDataSource\"},{\"attributes\":{\"below\":[{\"id\":\"2783934f-20b6-493e-9909-d92383f7c352\",\"type\":\"LinearAxis\"}],\"left\":[{\"id\":\"84166016-9dcd-44c8-9773-05e61eadb531\",\"type\":\"LinearAxis\"}],\"plot_height\":500,\"renderers\":[{\"id\":\"2783934f-20b6-493e-9909-d92383f7c352\",\"type\":\"LinearAxis\"},{\"id\":\"10587220-a4d8-4eb2-975e-648c0a6807fa\",\"type\":\"Grid\"},{\"id\":\"84166016-9dcd-44c8-9773-05e61eadb531\",\"type\":\"LinearAxis\"},{\"id\":\"c891ab6d-30b1-4042-9f37-b79070a361e6\",\"type\":\"Grid\"},{\"id\":\"f080177b-a467-43e6-8a8c-e49f244810c6\",\"type\":\"BoxAnnotation\"},{\"id\":\"6a85bb6f-5a66-4e59-b46e-def6ca0effdb\",\"type\":\"GlyphRenderer\"},{\"id\":\"5a82a51a-b456-491d-8bad-4baa8b7b17fa\",\"type\":\"Legend\"},{\"id\":\"5fb75457-b28b-4ffb-b4c1-57e198dc280f\",\"type\":\"GlyphRenderer\"},{\"id\":\"7a28d43c-f4e4-412a-b534-57d8d5661fb4\",\"type\":\"GlyphRenderer\"}],\"tool_events\":{\"id\":\"84e24ff0-7ed1-49c9-ac0e-de59704e881b\",\"type\":\"ToolEvents\"},\"tools\":[{\"id\":\"d5e63929-4eb3-43f4-94ff-555c9f67906e\",\"type\":\"BoxZoomTool\"},{\"id\":\"cfdc65bb-84f1-4464-8292-e8559812f855\",\"type\":\"ResetTool\"},{\"id\":\"6fe011fd-e90c-43e4-a1d1-9fbd8da2e6b2\",\"type\":\"HoverTool\"}],\"x_range\":{\"id\":\"93920f90-eb06-4729-a2e7-e193f7722c49\",\"type\":\"DataRange1d\"},\"y_range\":{\"id\":\"b83b450b-8dae-47f4-9754-1b954d82b676\",\"type\":\"DataRange1d\"}},\"id\":\"50fb0a0d-4a0a-457f-bcb5-db1a0b705072\",\"subtype\":\"Figure\",\"type\":\"Plot\"},{\"attributes\":{\"callback\":null,\"column_names\":[\"y\",\"x\"],\"data\":{\"x\":[77],\"y\":[13.0]}},\"id\":\"121293bb-0130-4447-97f5-91a479f61b91\",\"type\":\"ColumnDataSource\"},{\"attributes\":{\"data_source\":{\"id\":\"7a3a18be-7c71-4cdc-85c6-6993b1843f1a\",\"type\":\"ColumnDataSource\"},\"glyph\":{\"id\":\"d1def2b3-46fe-4fcc-a193-0426085cee2c\",\"type\":\"Quad\"},\"hover_glyph\":null,\"nonselection_glyph\":{\"id\":\"850833e6-22f8-41c1-a086-62273abde2e5\",\"type\":\"Quad\"},\"selection_glyph\":null},\"id\":\"e3e2ef3a-5d59-4a30-911f-eff614eed3b4\",\"type\":\"GlyphRenderer\"},{\"attributes\":{},\"id\":\"7633448e-27be-4231-bca5-604af242126c\",\"type\":\"ToolEvents\"},{\"attributes\":{\"callback\":null},\"id\":\"c1c08ec0-5b69-48da-980a-5004804f51eb\",\"type\":\"DataRange1d\"},{\"attributes\":{\"callback\":null},\"id\":\"be7537a6-840c-4e87-ad01-772e41b6af65\",\"type\":\"DataRange1d\"},{\"attributes\":{},\"id\":\"54d538e6-8cae-400a-8402-f60571aec35b\",\"type\":\"BasicTicker\"},{\"attributes\":{\"plot\":{\"id\":\"077763eb-d52b-42ce-8454-df4a37e542ba\",\"subtype\":\"Figure\",\"type\":\"Plot\"}},\"id\":\"ec075d7e-6eec-4cc1-b7a7-c1dc7ae75349\",\"type\":\"ResetTool\"},{\"attributes\":{\"data_source\":{\"id\":\"9cc7d8fd-adbf-497d-a0d4-2602d900de82\",\"type\":\"ColumnDataSource\"},\"glyph\":{\"id\":\"4a1af2e9-18cf-4b67-954a-24abd950c3f8\",\"type\":\"Line\"},\"hover_glyph\":null,\"nonselection_glyph\":{\"id\":\"48ba6836-1db8-4c3a-a64b-b690bb8b8e8a\",\"type\":\"Line\"},\"selection_glyph\":null},\"id\":\"82ff201a-39c1-4849-838c-52fb94b8f112\",\"type\":\"GlyphRenderer\"},{\"attributes\":{\"callback\":null,\"plot\":{\"id\":\"50fb0a0d-4a0a-457f-bcb5-db1a0b705072\",\"subtype\":\"Figure\",\"type\":\"Plot\"},\"tooltips\":[[\"Artist\",\"@artist\"]]},\"id\":\"6fe011fd-e90c-43e4-a1d1-9fbd8da2e6b2\",\"type\":\"HoverTool\"},{\"attributes\":{\"data_source\":{\"id\":\"c6fd012b-ee1f-4b64-b787-2e4d6ddb3b8c\",\"type\":\"ColumnDataSource\"},\"glyph\":{\"id\":\"6847283d-9a9a-496a-a17b-4b4f994c8d60\",\"type\":\"Line\"},\"hover_glyph\":null,\"nonselection_glyph\":{\"id\":\"f74bf83e-f29d-4a19-a293-716c1f9eb0bb\",\"type\":\"Line\"},\"selection_glyph\":null},\"id\":\"7133c261-124d-4f38-902c-e7a0f4b80a30\",\"type\":\"GlyphRenderer\"},{\"attributes\":{\"data_source\":{\"id\":\"9ccd3268-925c-4d00-97f6-91c3255171d6\",\"type\":\"ColumnDataSource\"},\"glyph\":{\"id\":\"39aa001c-e7dc-4470-82b3-1bb4d6b91dba\",\"type\":\"Quad\"},\"hover_glyph\":null,\"nonselection_glyph\":{\"id\":\"69787ef6-f590-427f-9934-c88c34f0bf0e\",\"type\":\"Quad\"},\"selection_glyph\":null},\"id\":\"2f220f79-a3cb-454a-b987-d348cb0553e2\",\"type\":\"GlyphRenderer\"},{\"attributes\":{\"plot\":{\"id\":\"ff811071-6dec-40fe-a96c-f0a67ca21b61\",\"subtype\":\"Figure\",\"type\":\"Plot\"}},\"id\":\"21c77674-448a-442c-9ae2-884d176625bd\",\"type\":\"ResetTool\"},{\"attributes\":{},\"id\":\"3e7f25f4-4f1d-436d-be86-5acf33f70416\",\"type\":\"ToolEvents\"},{\"attributes\":{\"plot\":{\"id\":\"f0cbd62f-278f-4516-a395-9babb5082038\",\"subtype\":\"Figure\",\"type\":\"Plot\"}},\"id\":\"824d771f-ccd5-4c93-90bf-eefbcc32dc67\",\"type\":\"PreviewSaveTool\"},{\"attributes\":{\"axis_label\":\"Popularity\",\"formatter\":{\"id\":\"698e9106-b428-4e85-87d6-20af7a52fd6b\",\"type\":\"BasicTickFormatter\"},\"plot\":{\"id\":\"5763382d-75de-4932-aa18-5d1f033657d2\",\"subtype\":\"Figure\",\"type\":\"Plot\"},\"ticker\":{\"id\":\"88d1fc45-e2aa-4b66-9f83-33729e6f2aca\",\"type\":\"BasicTicker\"}},\"id\":\"0253484a-cfb5-4a3b-a65d-82fa2c9aa36c\",\"type\":\"LinearAxis\"},{\"attributes\":{\"fill_alpha\":{\"value\":0.1},\"fill_color\":{\"value\":\"#1f77b4\"},\"line_alpha\":{\"value\":0.1},\"line_color\":{\"value\":\"#1f77b4\"},\"size\":{\"units\":\"screen\",\"value\":7},\"x\":{\"field\":\"x\"},\"y\":{\"field\":\"y\"}},\"id\":\"e0c638d5-bb63-4aa4-ab36-043185f2d27d\",\"type\":\"Circle\"},{\"attributes\":{\"line_alpha\":{\"value\":0.1},\"line_color\":{\"value\":\"#1f77b4\"},\"line_dash\":[4,4],\"line_width\":{\"value\":2},\"x\":{\"field\":\"x\"},\"y\":{\"field\":\"y\"}},\"id\":\"8bcbbeba-5806-42b4-8b67-bf7e2983ac02\",\"type\":\"Line\"},{\"attributes\":{\"data_source\":{\"id\":\"0fff0acb-9e28-4602-990e-43f67c3ad3d9\",\"type\":\"ColumnDataSource\"},\"glyph\":{\"id\":\"9552b8a7-0966-4480-a5e5-d93048ed3ef1\",\"type\":\"Line\"},\"hover_glyph\":null,\"nonselection_glyph\":{\"id\":\"3a65fe63-cc10-4b22-97d0-6d6db30091e5\",\"type\":\"Line\"},\"selection_glyph\":null},\"id\":\"0a1e45c5-29d7-4b39-9f32-1d86cb53e270\",\"type\":\"GlyphRenderer\"},{\"attributes\":{\"dimension\":1,\"plot\":{\"id\":\"4a4d436d-255f-4335-8d9c-e1391d214d68\",\"subtype\":\"Figure\",\"type\":\"Plot\"},\"ticker\":{\"id\":\"e03c43df-aa08-48da-976c-656b7ff42087\",\"type\":\"BasicTicker\"}},\"id\":\"ba0197b5-704f-4c9c-88de-ed1650d116e4\",\"type\":\"Grid\"},{\"attributes\":{\"line_dash\":[4,4],\"line_width\":{\"value\":2},\"x\":{\"field\":\"x\"},\"y\":{\"field\":\"y\"}},\"id\":\"6d23cc85-286c-47f0-a873-846f88714dd0\",\"type\":\"Line\"},{\"attributes\":{\"axis_label\":\"Popularity\",\"formatter\":{\"id\":\"9332969d-8cad-4961-bad7-c5d666b70b04\",\"type\":\"BasicTickFormatter\"},\"plot\":{\"id\":\"87004a05-fd1e-4435-ab9a-c02034cd2ae0\",\"subtype\":\"Figure\",\"type\":\"Plot\"},\"ticker\":{\"id\":\"db2e1044-aff9-461f-a9ff-a8d782ce1028\",\"type\":\"BasicTicker\"}},\"id\":\"026ae877-2b8d-46c7-b301-e19c7df2023d\",\"type\":\"LinearAxis\"},{\"attributes\":{\"below\":[{\"id\":\"08000b92-a355-485b-b4ce-8d2bb6797f15\",\"type\":\"LinearAxis\"}],\"left\":[{\"id\":\"2cb8b9f9-692a-45d1-8f46-3ffcdd4ef7ec\",\"type\":\"LinearAxis\"}],\"plot_height\":400,\"renderers\":[{\"id\":\"08000b92-a355-485b-b4ce-8d2bb6797f15\",\"type\":\"LinearAxis\"},{\"id\":\"e0bd856c-05a8-4f4d-81ef-2be61e46ffc4\",\"type\":\"Grid\"},{\"id\":\"2cb8b9f9-692a-45d1-8f46-3ffcdd4ef7ec\",\"type\":\"LinearAxis\"},{\"id\":\"ba0197b5-704f-4c9c-88de-ed1650d116e4\",\"type\":\"Grid\"},{\"id\":\"362be3d4-21ee-4a42-b26e-1dfab095e298\",\"type\":\"BoxAnnotation\"},{\"id\":\"aa705b06-b4ff-40e3-bacc-aae43ae13b79\",\"type\":\"GlyphRenderer\"},{\"id\":\"eec64811-f433-4bdf-9f9b-c4cded32466d\",\"type\":\"GlyphRenderer\"}],\"tool_events\":{\"id\":\"fcf1de76-b40a-45c0-8a77-8f0731e8562c\",\"type\":\"ToolEvents\"},\"tools\":[{\"id\":\"f45041b0-3684-4fec-a14f-3bded51c5580\",\"type\":\"BoxZoomTool\"},{\"id\":\"18d67d73-a4c7-452d-affa-d8e17fd5bb4f\",\"type\":\"ResetTool\"},{\"id\":\"c74d6917-2339-4027-9614-7d8bd0b6b913\",\"type\":\"HoverTool\"}],\"x_range\":{\"id\":\"7ca9e2e5-a9f7-42ac-a7a0-ffee5d128f99\",\"type\":\"DataRange1d\"},\"y_range\":{\"id\":\"b4fab627-c1af-4169-9857-cc2578b60ee5\",\"type\":\"DataRange1d\"}},\"id\":\"4a4d436d-255f-4335-8d9c-e1391d214d68\",\"subtype\":\"Figure\",\"type\":\"Plot\"},{\"attributes\":{\"fill_alpha\":{\"value\":0.1},\"fill_color\":{\"value\":\"#1f77b4\"},\"line_alpha\":{\"value\":0.1},\"line_color\":{\"value\":\"#1f77b4\"},\"size\":{\"units\":\"screen\",\"value\":7},\"x\":{\"field\":\"x\"},\"y\":{\"field\":\"y\"}},\"id\":\"930a063d-fd84-43fe-a144-bcdf4448ab16\",\"type\":\"Circle\"},{\"attributes\":{\"axis_label\":\"Number of Tracks\",\"formatter\":{\"id\":\"12ab9300-0e3c-4454-be3d-8a03250987c3\",\"type\":\"BasicTickFormatter\"},\"plot\":{\"id\":\"40984381-804f-484c-b412-49c9a1eb6ef2\",\"subtype\":\"Figure\",\"type\":\"Plot\"},\"ticker\":{\"id\":\"82b7995b-6760-4da5-b76e-bec5c3ff06ed\",\"type\":\"BasicTicker\"}},\"id\":\"8dbd4c0d-2840-4849-9676-5127040ceae8\",\"type\":\"LinearAxis\"},{\"attributes\":{\"bottom_units\":\"screen\",\"fill_alpha\":{\"value\":0.5},\"fill_color\":{\"value\":\"lightgrey\"},\"left_units\":\"screen\",\"level\":\"overlay\",\"line_alpha\":{\"value\":1.0},\"line_color\":{\"value\":\"black\"},\"line_dash\":[4,4],\"line_width\":{\"value\":2},\"plot\":null,\"render_mode\":\"css\",\"right_units\":\"screen\",\"top_units\":\"screen\"},\"id\":\"c5dbf8cd-7bdc-4716-aa78-30b847d3c5fa\",\"type\":\"BoxAnnotation\"},{\"attributes\":{},\"id\":\"6ffe1497-8a91-457a-8022-0cbd5027c2f9\",\"type\":\"BasicTickFormatter\"},{\"attributes\":{\"dimension\":1,\"plot\":{\"id\":\"40984381-804f-484c-b412-49c9a1eb6ef2\",\"subtype\":\"Figure\",\"type\":\"Plot\"},\"ticker\":{\"id\":\"82b7995b-6760-4da5-b76e-bec5c3ff06ed\",\"type\":\"BasicTicker\"}},\"id\":\"754bc869-d7ca-4ebd-865a-576809cbb1fc\",\"type\":\"Grid\"},{\"attributes\":{},\"id\":\"fc01b7f9-307e-46b3-baf2-5ee464daeaeb\",\"type\":\"BasicTickFormatter\"},{\"attributes\":{\"fill_alpha\":{\"value\":0.1},\"fill_color\":{\"value\":\"#1f77b4\"},\"line_alpha\":{\"value\":0.1},\"line_color\":{\"value\":\"#1f77b4\"},\"size\":{\"units\":\"screen\",\"value\":12},\"x\":{\"field\":\"x\"},\"y\":{\"field\":\"y\"}},\"id\":\"ac01d743-f1be-40f3-b30b-19ad2db9d8b5\",\"type\":\"Circle\"},{\"attributes\":{},\"id\":\"00503b32-fea2-455e-9b5b-8c0f01fae917\",\"type\":\"BasicTicker\"},{\"attributes\":{\"dimension\":1,\"plot\":{\"id\":\"c3c0eb43-d653-4732-99f4-363b81ebfd66\",\"subtype\":\"Figure\",\"type\":\"Plot\"},\"ticker\":{\"id\":\"215f32d7-14a9-4260-af2f-0f6f0fe76959\",\"type\":\"BasicTicker\"}},\"id\":\"21e77b2f-95af-4cf5-8a44-077353db3cf9\",\"type\":\"Grid\"},{\"attributes\":{\"below\":[{\"id\":\"29ad538e-5133-4534-bfd4-6845c77a8fda\",\"type\":\"LinearAxis\"}],\"left\":[{\"id\":\"b2645ef7-f35e-4b31-a726-4c9cb6370532\",\"type\":\"LinearAxis\"}],\"plot_height\":500,\"renderers\":[{\"id\":\"29ad538e-5133-4534-bfd4-6845c77a8fda\",\"type\":\"LinearAxis\"},{\"id\":\"9138fccf-f3ae-4a06-874c-9d611f172d55\",\"type\":\"Grid\"},{\"id\":\"b2645ef7-f35e-4b31-a726-4c9cb6370532\",\"type\":\"LinearAxis\"},{\"id\":\"b5263ce3-d157-4113-9720-5cab6496cfbc\",\"type\":\"Grid\"},{\"id\":\"d4dca88a-3ae0-49e7-88b0-9ae09c9857e7\",\"type\":\"BoxAnnotation\"},{\"id\":\"d621a931-fc93-4278-87b6-315d9536c3da\",\"type\":\"GlyphRenderer\"},{\"id\":\"2c884cbf-7b9b-4a91-9937-8121990e1f83\",\"type\":\"GlyphRenderer\"},{\"id\":\"7fce6016-7d48-42ac-b635-dd7c7091481d\",\"type\":\"GlyphRenderer\"},{\"id\":\"a6a38609-5f5e-4e19-8970-5095aa1652e4\",\"type\":\"GlyphRenderer\"},{\"id\":\"8c1769c0-e9eb-4b5c-befa-de1f72864807\",\"type\":\"GlyphRenderer\"},{\"id\":\"908af314-71dd-457f-b61d-298e64256078\",\"type\":\"GlyphRenderer\"}],\"tool_events\":{\"id\":\"8a637abc-a562-40f8-a478-740ce33d6383\",\"type\":\"ToolEvents\"},\"tools\":[{\"id\":\"342e189e-a6c4-46a0-9a2c-f4e37b866f72\",\"type\":\"BoxZoomTool\"},{\"id\":\"33a18897-56e3-4dc4-841a-3a41c19c49e9\",\"type\":\"ResetTool\"},{\"id\":\"83b3c857-a633-4421-9892-8e6b214e5224\",\"type\":\"HoverTool\"}],\"x_range\":{\"id\":\"6979fe70-83af-4d2d-82f0-5f0975e353f7\",\"type\":\"DataRange1d\"},\"y_range\":{\"id\":\"c74157c8-ad64-465f-b061-e693a2f373c4\",\"type\":\"DataRange1d\"}},\"id\":\"4ffbe01a-4dc5-41a4-b3e4-1da56420e097\",\"subtype\":\"Figure\",\"type\":\"Plot\"},{\"attributes\":{\"fill_alpha\":{\"value\":0.1},\"fill_color\":{\"value\":\"#1f77b4\"},\"line_alpha\":{\"value\":0.1},\"line_color\":{\"value\":\"#1f77b4\"},\"size\":{\"units\":\"screen\",\"value\":10},\"x\":{\"field\":\"x\"},\"y\":{\"field\":\"y\"}},\"id\":\"32884714-de17-4fda-b880-9742ff2d70a8\",\"type\":\"Circle\"},{\"attributes\":{},\"id\":\"e8d56b36-8b5a-407b-b035-25afb3a5b586\",\"type\":\"BasicTickFormatter\"},{\"attributes\":{},\"id\":\"ce9c46d2-8612-4bd6-a968-6eae13c967b6\",\"type\":\"BasicTickFormatter\"},{\"attributes\":{\"dimension\":1,\"plot\":{\"id\":\"4ec5713c-3a2c-479d-9d6e-f0ce4a54d454\",\"subtype\":\"Figure\",\"type\":\"Plot\"},\"ticker\":{\"id\":\"b0925e5a-928e-4397-a9bd-873fa80d2552\",\"type\":\"BasicTicker\"}},\"id\":\"02676e2f-9363-45ba-9b34-19abf2432175\",\"type\":\"Grid\"},{\"attributes\":{\"plot\":{\"id\":\"5581247a-fe58-45f5-82af-2159194a2f13\",\"subtype\":\"Figure\",\"type\":\"Plot\"}},\"id\":\"08a4f087-4467-4d32-bae2-8528d2bdbdb7\",\"type\":\"ResizeTool\"},{\"attributes\":{},\"id\":\"f4919ead-faa7-494a-91b7-7d9a9b8cd8c0\",\"type\":\"BasicTicker\"},{\"attributes\":{\"bottom\":{\"value\":0},\"fill_alpha\":{\"value\":0.2},\"fill_color\":{\"value\":\"white\"},\"left\":{\"field\":\"left\"},\"line_color\":{\"value\":\"blue\"},\"right\":{\"field\":\"right\"},\"top\":{\"field\":\"top\"}},\"id\":\"36a5602c-8ff8-4e89-b344-1ca8a63b28e7\",\"type\":\"Quad\"},{\"attributes\":{\"data_source\":{\"id\":\"121293bb-0130-4447-97f5-91a479f61b91\",\"type\":\"ColumnDataSource\"},\"glyph\":{\"id\":\"876bcb8d-fc4e-478e-a41b-2c16bff3ec35\",\"type\":\"Circle\"},\"hover_glyph\":null,\"nonselection_glyph\":{\"id\":\"63e35815-942a-4452-8895-d9b88e60aee1\",\"type\":\"Circle\"},\"selection_glyph\":null},\"id\":\"676faa88-3048-4462-bf92-c4a1e1121f24\",\"type\":\"GlyphRenderer\"},{\"attributes\":{\"axis_label\":\"Solo Popularity\",\"formatter\":{\"id\":\"6ab4c617-82c9-45e0-a149-28de6eb20938\",\"type\":\"BasicTickFormatter\"},\"plot\":{\"id\":\"50fb0a0d-4a0a-457f-bcb5-db1a0b705072\",\"subtype\":\"Figure\",\"type\":\"Plot\"},\"ticker\":{\"id\":\"68e6ef1a-3eb5-472f-80ef-df150ad91bf6\",\"type\":\"BasicTicker\"}},\"id\":\"2783934f-20b6-493e-9909-d92383f7c352\",\"type\":\"LinearAxis\"},{\"attributes\":{\"line_alpha\":{\"value\":0.1},\"line_color\":{\"value\":\"#1f77b4\"},\"line_width\":{\"value\":2},\"x\":{\"field\":\"x\"},\"y\":{\"field\":\"y\"}},\"id\":\"516080b1-c70f-487e-b75d-023d423eb583\",\"type\":\"Line\"},{\"attributes\":{\"legends\":[[\"Solo\",[{\"id\":\"444f5023-1940-47a5-aaff-c4a61f3b3db5\",\"type\":\"GlyphRenderer\"}]],[\"Collaboration\",[{\"id\":\"d100adc5-ed19-4508-b424-f3fe4d7b58ec\",\"type\":\"GlyphRenderer\"}]]],\"plot\":{\"id\":\"4ec5713c-3a2c-479d-9d6e-f0ce4a54d454\",\"subtype\":\"Figure\",\"type\":\"Plot\"}},\"id\":\"426b716a-8797-4b5a-91c7-c6f503e4bd83\",\"type\":\"Legend\"},{\"attributes\":{\"line_dash\":[4,4],\"line_width\":{\"value\":2},\"x\":{\"field\":\"x\"},\"y\":{\"field\":\"y\"}},\"id\":\"9f36b78c-adeb-4f30-9f77-7a63cfea9a12\",\"type\":\"Line\"},{\"attributes\":{\"axis_label\":\"Collaborator\",\"formatter\":{\"id\":\"e039c03e-7499-4f8c-bb0a-ab32ed94c3d2\",\"type\":\"BasicTickFormatter\"},\"major_label_text_font_size\":{\"value\":\"0pt\"},\"plot\":{\"id\":\"3fcbd322-bcc0-44be-a67c-49e08ce201f3\",\"subtype\":\"Figure\",\"type\":\"Plot\"},\"ticker\":{\"id\":\"0795ba7f-0dac-44d2-8e12-8200c0e1237a\",\"type\":\"BasicTicker\"}},\"id\":\"7ace6f6d-0d2f-4c6d-ab5f-b27e0635a21a\",\"type\":\"LinearAxis\"},{\"attributes\":{\"plot\":{\"id\":\"92b5ec37-ca99-4256-98f6-89b3d5e02eb3\",\"subtype\":\"Figure\",\"type\":\"Plot\"}},\"id\":\"c017a0b9-1d9b-42cf-beec-d151e6c2bc6a\",\"type\":\"ResetTool\"},{\"attributes\":{\"fill_alpha\":{\"value\":0.2},\"fill_color\":{\"field\":\"fill_color\"},\"line_color\":{\"field\":\"line_color\"},\"size\":{\"units\":\"screen\",\"value\":7},\"x\":{\"field\":\"x\"},\"y\":{\"field\":\"y\"}},\"id\":\"7a827644-9df7-45c3-9330-a97b477bcbf1\",\"type\":\"Circle\"},{\"attributes\":{\"line_alpha\":{\"value\":0.1},\"line_color\":{\"value\":\"#1f77b4\"},\"line_width\":{\"value\":2},\"x\":{\"field\":\"x\"},\"y\":{\"field\":\"y\"}},\"id\":\"28faed3c-2f9d-49d6-b26f-e434743c15b8\",\"type\":\"Line\"},{\"attributes\":{\"axis_label\":\"Popularity\",\"formatter\":{\"id\":\"6954ed6d-35ff-443a-a7ee-54629488c775\",\"type\":\"BasicTickFormatter\"},\"plot\":{\"id\":\"f8d0ef78-8fe7-49c2-8a93-afe1dcadb6b4\",\"subtype\":\"Figure\",\"type\":\"Plot\"},\"ticker\":{\"id\":\"8a8c08bd-b223-49c6-b238-f74f1343dfb2\",\"type\":\"BasicTicker\"}},\"id\":\"d9e87d9b-ab6c-4e85-9713-0b77e4f4dccc\",\"type\":\"LinearAxis\"},{\"attributes\":{\"fill_color\":{\"value\":\"gold\"},\"line_color\":{\"value\":\"gold\"},\"size\":{\"units\":\"screen\",\"value\":12},\"x\":{\"field\":\"x\"},\"y\":{\"field\":\"y\"}},\"id\":\"38d73fd5-e745-4e43-9876-51a75f930aca\",\"type\":\"Circle\"},{\"attributes\":{\"callback\":null,\"column_names\":[\"right\",\"top\",\"left\"],\"data\":{\"left\":[0.0,4.0,8.0,12.0,16.0,20.0,24.0,28.0,32.0,36.0,40.0,44.0,48.0,52.0,56.0,60.0,64.0,68.0,72.0,76.0,80.0,84.0,88.0,92.0,96.0],\"right\":[4.0,8.0,12.0,16.0,20.0,24.0,28.0,32.0,36.0,40.0,44.0,48.0,52.0,56.0,60.0,64.0,68.0,72.0,76.0,80.0,84.0,88.0,92.0,96.0,100.0],\"top\":[2,0,0,0,0,0,0,0,0,0,0,1,9,15,9,11,4,6,12,2,4,0,0,0,0]}},\"id\":\"a956e3fd-6601-4f76-a6d5-9406af1b7f72\",\"type\":\"ColumnDataSource\"},{\"attributes\":{\"bottom_units\":\"screen\",\"fill_alpha\":{\"value\":0.5},\"fill_color\":{\"value\":\"lightgrey\"},\"left_units\":\"screen\",\"level\":\"overlay\",\"line_alpha\":{\"value\":1.0},\"line_color\":{\"value\":\"black\"},\"line_dash\":[4,4],\"line_width\":{\"value\":2},\"plot\":null,\"render_mode\":\"css\",\"right_units\":\"screen\",\"top_units\":\"screen\"},\"id\":\"f080177b-a467-43e6-8a8c-e49f244810c6\",\"type\":\"BoxAnnotation\"},{\"attributes\":{\"line_color\":{\"value\":\"blue\"},\"line_width\":{\"value\":2},\"x\":{\"field\":\"x\"},\"y\":{\"field\":\"y\"}},\"id\":\"3ae5dffb-aaaa-4c91-b1ac-896397570ed9\",\"type\":\"Line\"},{\"attributes\":{\"axis_label\":\"Release Year\",\"formatter\":{\"id\":\"38ddf5b2-aa36-4af7-bfb5-e30a66ad48a7\",\"type\":\"BasicTickFormatter\"},\"major_label_text_font_size\":{\"value\":\"0pt\"},\"plot\":{\"id\":\"c3c0eb43-d653-4732-99f4-363b81ebfd66\",\"subtype\":\"Figure\",\"type\":\"Plot\"},\"ticker\":{\"id\":\"fbd5c153-096f-467e-800b-198f8f1e690a\",\"type\":\"BasicTicker\"}},\"id\":\"ea27b664-5c22-474c-b75b-1713f61e641e\",\"type\":\"LinearAxis\"},{\"attributes\":{\"line_color\":{\"value\":\"red\"},\"line_dash\":[4,4],\"line_width\":{\"value\":2},\"x\":{\"field\":\"x\"},\"y\":{\"field\":\"y\"}},\"id\":\"7dc2ed2a-7d37-49c1-b7bc-9b9f13a45f93\",\"type\":\"Line\"},{\"attributes\":{\"fill_alpha\":{\"value\":0.1},\"fill_color\":{\"value\":\"#1f77b4\"},\"line_alpha\":{\"value\":0.1},\"line_color\":{\"value\":\"#1f77b4\"},\"size\":{\"units\":\"screen\",\"value\":7},\"x\":{\"field\":\"x\"},\"y\":{\"field\":\"y\"}},\"id\":\"e80ab632-5458-4933-8584-0b6c6a622ece\",\"type\":\"Circle\"},{\"attributes\":{\"fill_alpha\":{\"value\":0.1},\"fill_color\":{\"value\":\"#1f77b4\"},\"line_alpha\":{\"value\":0.1},\"line_color\":{\"value\":\"#1f77b4\"},\"size\":{\"units\":\"screen\",\"value\":15},\"x\":{\"value\":2007},\"y\":{\"value\":80.0}},\"id\":\"d12beb63-c0b8-4383-a00b-117b59d84ab8\",\"type\":\"Circle\"},{\"attributes\":{\"bottom\":{\"value\":0},\"fill_alpha\":{\"value\":0.1},\"fill_color\":{\"value\":\"#1f77b4\"},\"left\":{\"field\":\"left\"},\"line_alpha\":{\"value\":0.1},\"line_color\":{\"value\":\"#1f77b4\"},\"right\":{\"field\":\"right\"},\"top\":{\"field\":\"top\"}},\"id\":\"69787ef6-f590-427f-9934-c88c34f0bf0e\",\"type\":\"Quad\"},{\"attributes\":{\"callback\":null,\"column_names\":[\"right\",\"top\",\"left\"],\"data\":{\"left\":[0.0,4.0,8.0,12.0,16.0,20.0,24.0,28.0,32.0,36.0,40.0,44.0,48.0,52.0,56.0,60.0,64.0,68.0,72.0,76.0,80.0,84.0,88.0,92.0,96.0],\"right\":[4.0,8.0,12.0,16.0,20.0,24.0,28.0,32.0,36.0,40.0,44.0,48.0,52.0,56.0,60.0,64.0,68.0,72.0,76.0,80.0,84.0,88.0,92.0,96.0,100.0],\"top\":[2,0,0,1,0,0,0,0,0,0,0,1,21,20,25,20,7,7,12,4,4,0,0,0,0]}},\"id\":\"fcdce9da-1dae-45fe-9540-8fb21599dd01\",\"type\":\"ColumnDataSource\"},{\"attributes\":{\"overlay\":{\"id\":\"c53fdf6f-d720-4c03-bfa2-4e15829eed4f\",\"type\":\"BoxAnnotation\"},\"plot\":{\"id\":\"ff811071-6dec-40fe-a96c-f0a67ca21b61\",\"subtype\":\"Figure\",\"type\":\"Plot\"}},\"id\":\"06cf3e57-cee6-4149-844b-cc05b0a013fb\",\"type\":\"BoxZoomTool\"},{\"attributes\":{},\"id\":\"a6ef89f7-5a0f-44eb-b45a-fae029765be1\",\"type\":\"BasicTicker\"},{\"attributes\":{},\"id\":\"abc28772-c354-4272-bfcb-e8a06f7e1eae\",\"type\":\"BasicTickFormatter\"},{\"attributes\":{\"data_source\":{\"id\":\"3954cf70-67f0-4501-b03e-e27f34ce3d0a\",\"type\":\"ColumnDataSource\"},\"glyph\":{\"id\":\"c925caac-cabc-42a3-85d0-6f432fb81c68\",\"type\":\"Line\"},\"hover_glyph\":null,\"nonselection_glyph\":{\"id\":\"5a1f6c19-707e-4aab-8f49-f3744fa121f6\",\"type\":\"Line\"},\"selection_glyph\":null},\"id\":\"eeec4139-2fd1-4d47-8ae9-376c968203c4\",\"type\":\"GlyphRenderer\"},{\"attributes\":{},\"id\":\"aa586dd5-1cb7-4a38-ab1e-ec8914a73a25\",\"type\":\"BasicTicker\"},{\"attributes\":{\"callback\":null,\"plot\":{\"id\":\"00954d86-a32b-49f4-b0b3-c33b05112bed\",\"subtype\":\"Figure\",\"type\":\"Plot\"},\"tooltips\":[[\"Track\",\"@track\"],[\"album\",\"@album\"]]},\"id\":\"03a80e29-5b3f-4658-a166-7b36dba4e95f\",\"type\":\"HoverTool\"},{\"attributes\":{\"callback\":null},\"id\":\"1cdc6e57-297e-41c0-93fd-304aedb13612\",\"type\":\"DataRange1d\"},{\"attributes\":{\"callback\":null,\"column_names\":[\"y\",\"x\"],\"data\":{\"x\":[2003,2017],\"y\":[72.19732878895942,72.19732878895942]}},\"id\":\"efe73b61-8178-4c97-bc65-2ac3162c48c1\",\"type\":\"ColumnDataSource\"},{\"attributes\":{\"line_color\":{\"value\":\"red\"},\"line_width\":{\"value\":2},\"x\":{\"field\":\"x\"},\"y\":{\"field\":\"y\"}},\"id\":\"ede7b73d-6e5a-4af0-bece-2d55cd0aeab0\",\"type\":\"Line\"},{\"attributes\":{\"plot\":{\"id\":\"f0cbd62f-278f-4516-a395-9babb5082038\",\"subtype\":\"Figure\",\"type\":\"Plot\"}},\"id\":\"497c4bff-2293-4e9e-8c67-3d6f48a9691f\",\"type\":\"HelpTool\"},{\"attributes\":{\"callback\":null},\"id\":\"7bd90884-ab56-4f68-9696-20c2241ca8dd\",\"type\":\"DataRange1d\"},{\"attributes\":{\"plot\":{\"id\":\"906090f5-7fc8-4666-bdc4-2cfa29be15ef\",\"subtype\":\"Figure\",\"type\":\"Plot\"}},\"id\":\"b0802b6b-c621-4d84-8c38-f1496228d20c\",\"type\":\"ResizeTool\"},{\"attributes\":{\"plot\":{\"id\":\"d88ffe13-3f11-4938-b3bf-6ca710b53c87\",\"subtype\":\"Figure\",\"type\":\"Plot\"},\"ticker\":{\"id\":\"00503b32-fea2-455e-9b5b-8c0f01fae917\",\"type\":\"BasicTicker\"}},\"id\":\"21de8303-ef16-4220-8a08-b271edf333e8\",\"type\":\"Grid\"},{\"attributes\":{},\"id\":\"88d1fc45-e2aa-4b66-9f83-33729e6f2aca\",\"type\":\"BasicTicker\"},{\"attributes\":{\"line_dash\":[4,4],\"line_width\":{\"value\":2},\"x\":{\"field\":\"x\"},\"y\":{\"field\":\"y\"}},\"id\":\"e0970849-ea39-49fc-888a-1bbe8005c30a\",\"type\":\"Line\"},{\"attributes\":{\"axis_label\":\"Popularity\",\"formatter\":{\"id\":\"2fdf8843-214f-49f1-b569-741652ddb89d\",\"type\":\"BasicTickFormatter\"},\"plot\":{\"id\":\"db14c567-64ba-4e05-b6f1-bb87ce6bf4f1\",\"subtype\":\"Figure\",\"type\":\"Plot\"},\"ticker\":{\"id\":\"1f363afd-123e-492d-8a54-ae2c4c44d806\",\"type\":\"BasicTicker\"}},\"id\":\"401fc5e1-1c2e-48b1-ae5f-dba3ac882189\",\"type\":\"LinearAxis\"},{\"attributes\":{\"fill_color\":{\"value\":\"gold\"},\"line_color\":{\"value\":\"gold\"},\"size\":{\"units\":\"screen\",\"value\":12},\"x\":{\"field\":\"x\"},\"y\":{\"field\":\"y\"}},\"id\":\"038a01bf-4faf-4907-bd86-9b89d165c15d\",\"type\":\"Circle\"},{\"attributes\":{},\"id\":\"7b86a00c-80d6-41fa-a0c2-fab1f1f7f415\",\"type\":\"BasicTickFormatter\"},{\"attributes\":{\"line_alpha\":{\"value\":0.1},\"line_color\":{\"value\":\"#1f77b4\"},\"line_dash\":[2,2],\"line_width\":{\"value\":2},\"x\":{\"field\":\"x\"},\"y\":{\"field\":\"y\"}},\"id\":\"7a4a2bf5-5657-473a-9ad2-7963a6875f46\",\"type\":\"Line\"},{\"attributes\":{},\"id\":\"d1e3297f-f8da-4abb-8e16-08d7abb2fe4f\",\"type\":\"BasicTicker\"},{\"attributes\":{\"axis_label\":\"Number of Tracks\",\"formatter\":{\"id\":\"ba3b8107-85c7-4b2e-89cc-6dfc45fb27e1\",\"type\":\"BasicTickFormatter\"},\"plot\":{\"id\":\"f0cbd62f-278f-4516-a395-9babb5082038\",\"subtype\":\"Figure\",\"type\":\"Plot\"},\"ticker\":{\"id\":\"d2e4d84b-9b5c-4201-ad3c-46891a78f669\",\"type\":\"BasicTicker\"}},\"id\":\"5477ec46-72bc-4fff-810b-d23c73699159\",\"type\":\"LinearAxis\"},{\"attributes\":{\"callback\":null,\"column_names\":[\"y\",\"x\"],\"data\":{\"x\":[1],\"y\":[55.3125]}},\"id\":\"f41546c4-3d86-4e95-a477-92ba7927809f\",\"type\":\"ColumnDataSource\"},{\"attributes\":{\"bottom\":{\"value\":0},\"fill_alpha\":{\"value\":0.2},\"fill_color\":{\"value\":\"white\"},\"left\":{\"field\":\"left\"},\"line_color\":{\"value\":\"blue\"},\"right\":{\"field\":\"right\"},\"top\":{\"field\":\"top\"}},\"id\":\"39aa001c-e7dc-4470-82b3-1bb4d6b91dba\",\"type\":\"Quad\"},{\"attributes\":{\"plot\":{\"id\":\"40984381-804f-484c-b412-49c9a1eb6ef2\",\"subtype\":\"Figure\",\"type\":\"Plot\"}},\"id\":\"807704b3-49cb-4451-9233-e4578351eed5\",\"type\":\"WheelZoomTool\"},{\"attributes\":{},\"id\":\"e977185b-cd0b-44d5-8417-a47903e4e205\",\"type\":\"ToolEvents\"},{\"attributes\":{\"plot\":{\"id\":\"5581247a-fe58-45f5-82af-2159194a2f13\",\"subtype\":\"Figure\",\"type\":\"Plot\"}},\"id\":\"7b9f6733-0bd4-4248-8326-b81a39e5680f\",\"type\":\"PanTool\"},{\"attributes\":{\"axis_label\":\"Popularity\",\"formatter\":{\"id\":\"6ffe1497-8a91-457a-8022-0cbd5027c2f9\",\"type\":\"BasicTickFormatter\"},\"plot\":{\"id\":\"5581247a-fe58-45f5-82af-2159194a2f13\",\"subtype\":\"Figure\",\"type\":\"Plot\"},\"ticker\":{\"id\":\"bf086761-e2f5-4f7e-89bd-ed9a753770a5\",\"type\":\"BasicTicker\"}},\"id\":\"f66e905b-3ac9-4db7-aa64-5be1a7ab386d\",\"type\":\"LinearAxis\"},{\"attributes\":{\"data_source\":{\"id\":\"1b47d267-1e65-455d-8217-670e07aa6906\",\"type\":\"ColumnDataSource\"},\"glyph\":{\"id\":\"6ba14347-2a48-4857-8a64-8bbe7c2a2fd5\",\"type\":\"Circle\"},\"hover_glyph\":null,\"nonselection_glyph\":{\"id\":\"4781e8d4-77d9-4e81-a8e0-d11159b671f3\",\"type\":\"Circle\"},\"selection_glyph\":null},\"id\":\"5cdd6d05-c7ff-4809-91a1-f5dfd59185ad\",\"type\":\"GlyphRenderer\"},{\"attributes\":{\"axis_label\":\"Mean Popularity of Collaboration\",\"formatter\":{\"id\":\"48b39edc-0de4-42b7-82df-aa6b9f7ec251\",\"type\":\"BasicTickFormatter\"},\"plot\":{\"id\":\"3fcbd322-bcc0-44be-a67c-49e08ce201f3\",\"subtype\":\"Figure\",\"type\":\"Plot\"},\"ticker\":{\"id\":\"16aa96ad-fd70-4d92-a473-02145fbe083c\",\"type\":\"BasicTicker\"}},\"id\":\"277baa8d-c53b-4ff4-a3c5-f1b706b3c173\",\"type\":\"LinearAxis\"},{\"attributes\":{\"axis_label\":\"Number of Tracks\",\"formatter\":{\"id\":\"ce9c46d2-8612-4bd6-a968-6eae13c967b6\",\"type\":\"BasicTickFormatter\"},\"plot\":{\"id\":\"4ec5713c-3a2c-479d-9d6e-f0ce4a54d454\",\"subtype\":\"Figure\",\"type\":\"Plot\"},\"ticker\":{\"id\":\"b0925e5a-928e-4397-a9bd-873fa80d2552\",\"type\":\"BasicTicker\"}},\"id\":\"5c06a52c-de4a-46e2-a0bf-0dedcf24c810\",\"type\":\"LinearAxis\"},{\"attributes\":{},\"id\":\"81d820d5-40f2-4dfb-bfb4-f6c19022b6e1\",\"type\":\"BasicTicker\"},{\"attributes\":{\"data_source\":{\"id\":\"fcdce9da-1dae-45fe-9540-8fb21599dd01\",\"type\":\"ColumnDataSource\"},\"glyph\":{\"id\":\"6ac4a4cd-8ab5-4038-acb9-0c77b961a3dc\",\"type\":\"Quad\"},\"hover_glyph\":null,\"nonselection_glyph\":{\"id\":\"f72bfd1a-fcf4-4298-b59f-9a7245aaea80\",\"type\":\"Quad\"},\"selection_glyph\":null},\"id\":\"2a4b5862-d51f-4e57-9595-d1837f80830c\",\"type\":\"GlyphRenderer\"},{\"attributes\":{\"line_color\":{\"value\":\"red\"},\"line_dash\":[4,4],\"line_width\":{\"value\":2},\"x\":{\"field\":\"x\"},\"y\":{\"field\":\"y\"}},\"id\":\"6eb7cb35-2895-4581-82ea-ff334643fbb3\",\"type\":\"Line\"},{\"attributes\":{\"line_alpha\":{\"value\":0.1},\"line_color\":{\"value\":\"#1f77b4\"},\"line_width\":{\"value\":2},\"x\":{\"field\":\"x\"},\"y\":{\"field\":\"y\"}},\"id\":\"a46626e6-d4bb-421f-aa12-108ef1ec0b61\",\"type\":\"Line\"},{\"attributes\":{\"callback\":null,\"column_names\":[\"y\",\"x\"],\"data\":{\"x\":[-1,10],\"y\":[59.12396694214876,59.12396694214876]}},\"id\":\"7cafff3f-cc2c-4396-b56e-8e70b1a03750\",\"type\":\"ColumnDataSource\"},{\"attributes\":{\"fill_alpha\":{\"value\":0.1},\"fill_color\":{\"value\":\"#1f77b4\"},\"line_alpha\":{\"value\":0.1},\"line_color\":{\"value\":\"#1f77b4\"},\"size\":{\"units\":\"screen\",\"value\":10},\"x\":{\"field\":\"x\"},\"y\":{\"field\":\"y\"}},\"id\":\"4e0f4972-87cb-4bd1-ba35-42fdd0100887\",\"type\":\"Circle\"},{\"attributes\":{\"line_dash\":[4,4],\"line_width\":{\"value\":2},\"x\":{\"field\":\"x\"},\"y\":{\"field\":\"y\"}},\"id\":\"c61e531a-b177-4ffe-a5dd-27c7b2a532df\",\"type\":\"Line\"},{\"attributes\":{\"line_alpha\":{\"value\":0.1},\"line_color\":{\"value\":\"#1f77b4\"},\"line_width\":{\"value\":2},\"x\":{\"field\":\"x\"},\"y\":{\"field\":\"y\"}},\"id\":\"0f3c6024-e662-4bed-98c7-390417e1c41c\",\"type\":\"Line\"},{\"attributes\":{\"overlay\":{\"id\":\"77089070-3322-4371-8802-4066541cf69a\",\"type\":\"BoxAnnotation\"},\"plot\":{\"id\":\"5581247a-fe58-45f5-82af-2159194a2f13\",\"subtype\":\"Figure\",\"type\":\"Plot\"}},\"id\":\"4d99d184-4a7d-4b41-b550-ae36846f3fcf\",\"type\":\"BoxZoomTool\"},{\"attributes\":{\"axis_label\":\"Popularity (Explicit Version)\",\"formatter\":{\"id\":\"558c2445-732a-47f7-85e3-e5026cd30a57\",\"type\":\"BasicTickFormatter\"},\"plot\":{\"id\":\"ff811071-6dec-40fe-a96c-f0a67ca21b61\",\"subtype\":\"Figure\",\"type\":\"Plot\"},\"ticker\":{\"id\":\"8fd46e2c-da36-404e-b3af-528ebed21458\",\"type\":\"BasicTicker\"}},\"id\":\"4c3eee25-beed-4cbf-904e-903cd25ccde4\",\"type\":\"LinearAxis\"},{\"attributes\":{},\"id\":\"572959c1-ffce-4e0e-9e52-9497ff22145c\",\"type\":\"BasicTickFormatter\"},{\"attributes\":{\"callback\":null},\"id\":\"3e925dc7-428b-4ab8-ae4c-5088d636e574\",\"type\":\"DataRange1d\"},{\"attributes\":{},\"id\":\"d30f5bf0-50c6-4ca0-b08c-d658a1e3b622\",\"type\":\"BasicTickFormatter\"},{\"attributes\":{\"data_source\":{\"id\":\"108801a5-871d-440a-8a6a-04f5ec86a180\",\"type\":\"ColumnDataSource\"},\"glyph\":{\"id\":\"9840895d-e51a-4c5a-b067-c33d0406c18b\",\"type\":\"Line\"},\"hover_glyph\":null,\"nonselection_glyph\":{\"id\":\"a46626e6-d4bb-421f-aa12-108ef1ec0b61\",\"type\":\"Line\"},\"selection_glyph\":null},\"id\":\"46350f62-2e0c-4051-ac0f-becab8acd0f2\",\"type\":\"GlyphRenderer\"},{\"attributes\":{\"line_dash\":[4,4],\"line_width\":{\"value\":2},\"x\":{\"field\":\"x\"},\"y\":{\"field\":\"y\"}},\"id\":\"bae17215-4124-4b71-91cc-3d432af70813\",\"type\":\"Line\"},{\"attributes\":{\"data_source\":{\"id\":\"24eb72a4-c8f7-43df-b3e3-2b75903cf223\",\"type\":\"ColumnDataSource\"},\"glyph\":{\"id\":\"786aa315-1da7-4377-b03e-245a70991de3\",\"type\":\"Line\"},\"hover_glyph\":null,\"nonselection_glyph\":{\"id\":\"1ba29749-28ce-4c84-bde7-546bb3f281e2\",\"type\":\"Line\"},\"selection_glyph\":null},\"id\":\"632d2f39-7144-4dfb-9475-79bf96d217b0\",\"type\":\"GlyphRenderer\"},{\"attributes\":{\"fill_color\":{\"value\":\"black\"},\"size\":{\"units\":\"screen\",\"value\":10},\"x\":{\"field\":\"x\"},\"y\":{\"field\":\"y\"}},\"id\":\"7ac3d6ce-fbf0-4bdb-8780-83a722dc214a\",\"type\":\"Circle\"},{\"attributes\":{\"callback\":null,\"column_names\":[\"y\",\"x\"],\"data\":{\"x\":[0.0,1.0,2.0,3.0,4.0,5.0,6.0,7.0,8.0,9.0,10.0,11.0,12.0,13.0,14.0,15.0,16.0,17.0,18.0,19.0,20.0,21.0,22.0,23.0,24.0,25.0,26.0,27.0,28.0,29.0,30.0,31.0,32.0,33.0,34.0,35.0,36.0,37.0,38.0,39.0,40.0,41.0,42.0,43.0,44.0,45.0,46.0,47.0,48.0,49.0],\"y\":[26.99799686189477,27.289015120980906,27.580033380067043,27.871051639153176,28.162069898239313,28.45308815732545,28.744106416411586,29.03512467549772,29.326142934583856,29.617161193669993,29.90817945275613,30.199197711842267,30.4902159709284,30.781234230014537,31.072252489100674,31.36327074818681,31.654289007272943,31.94530726635908,32.23632552544522,32.527343784531354,32.81836204361749,33.10938030270363,33.400398561789764,33.6914168208759,33.98243507996203,34.27345333904817,34.564471598134304,34.85548985722044,35.14650811630658,35.437526375392714,35.72854463447885,36.01956289356498,36.310581152651125,36.601599411737254,36.89261767082339,37.18363592990953,37.474654188995665,37.7656724480818,38.05669070716794,38.347708966254075,38.638727225340205,38.92974548442635,39.22076374351248,39.511782002598615,39.80280026168475,40.09381852077089,40.384836779857025,40.67585503894316,40.9668732980293,41.257891557115435]}},\"id\":\"aec34fc7-2265-4090-94cc-95330becfd86\",\"type\":\"ColumnDataSource\"},{\"attributes\":{\"below\":[{\"id\":\"5415e952-a3f7-4b01-bd64-934db80bfd3e\",\"type\":\"LinearAxis\"}],\"left\":[{\"id\":\"026ae877-2b8d-46c7-b301-e19c7df2023d\",\"type\":\"LinearAxis\"}],\"plot_height\":500,\"renderers\":[{\"id\":\"5415e952-a3f7-4b01-bd64-934db80bfd3e\",\"type\":\"LinearAxis\"},{\"id\":\"8b6348a1-ee5a-4c0b-8cc8-7fba95547abf\",\"type\":\"Grid\"},{\"id\":\"026ae877-2b8d-46c7-b301-e19c7df2023d\",\"type\":\"LinearAxis\"},{\"id\":\"f2d98781-d78f-4ea7-a3be-5caf8039f2f6\",\"type\":\"Grid\"},{\"id\":\"d6bf8068-5729-4796-a4fc-c12031e9eff9\",\"type\":\"BoxAnnotation\"},{\"id\":\"84734ba8-1a3e-4fd3-8017-68aecf6a426c\",\"type\":\"GlyphRenderer\"},{\"id\":\"10b45989-5e43-46c5-a121-d2859670c51b\",\"type\":\"GlyphRenderer\"},{\"id\":\"46123408-f0ba-49c0-a958-a7c974aa7ac4\",\"type\":\"GlyphRenderer\"},{\"id\":\"4974308d-c05d-4ff8-93a5-cecf708d3fd0\",\"type\":\"GlyphRenderer\"},{\"id\":\"74c3231e-c58d-45ad-bb6e-b833c5460923\",\"type\":\"GlyphRenderer\"}],\"tool_events\":{\"id\":\"5b21ff67-1da5-4e80-9dfd-cf74605b6093\",\"type\":\"ToolEvents\"},\"tools\":[{\"id\":\"3dfacaba-d839-4cb5-a402-271cb7aa77f1\",\"type\":\"BoxZoomTool\"},{\"id\":\"e38aafe9-f680-4d62-b938-8307b6a1a936\",\"type\":\"ResetTool\"},{\"id\":\"8a385a86-e6a4-40e9-ad15-5420a4ea94e6\",\"type\":\"HoverTool\"}],\"x_range\":{\"id\":\"7bd90884-ab56-4f68-9696-20c2241ca8dd\",\"type\":\"DataRange1d\"},\"y_range\":{\"id\":\"17dbe2b5-d146-4904-b410-f95ae3cb515a\",\"type\":\"DataRange1d\"}},\"id\":\"87004a05-fd1e-4435-ab9a-c02034cd2ae0\",\"subtype\":\"Figure\",\"type\":\"Plot\"},{\"attributes\":{\"callback\":null},\"id\":\"2c265865-be7a-4cde-a71e-64b9daf76e08\",\"type\":\"DataRange1d\"},{\"attributes\":{\"line_alpha\":{\"value\":0.1},\"line_color\":{\"value\":\"#1f77b4\"},\"line_dash\":[4,4],\"line_width\":{\"value\":2},\"x\":{\"field\":\"x\"},\"y\":{\"field\":\"y\"}},\"id\":\"df285216-e84c-4303-bd96-48086b042749\",\"type\":\"Line\"},{\"attributes\":{},\"id\":\"28c95a60-1345-4ddd-81ed-c5ef5ce7c9ce\",\"type\":\"ToolEvents\"},{\"attributes\":{\"plot\":{\"id\":\"fa223b75-3433-4548-8291-731dae75b280\",\"subtype\":\"Figure\",\"type\":\"Plot\"},\"ticker\":{\"id\":\"3bd23572-c1c8-4ce9-931c-3c8d9a225d16\",\"type\":\"BasicTicker\"}},\"id\":\"67403744-5661-4cc6-a7b3-3d1ada77b811\",\"type\":\"Grid\"},{\"attributes\":{\"dimension\":1,\"plot\":{\"id\":\"808beac1-0692-49c6-a2e3-ecf0db7e7de9\",\"subtype\":\"Figure\",\"type\":\"Plot\"},\"ticker\":{\"id\":\"22769a39-31d8-4dce-b252-80c5c4ac7817\",\"type\":\"BasicTicker\"}},\"id\":\"9c20f8bd-6da4-4ab6-afc1-a77ed26c4be2\",\"type\":\"Grid\"},{\"attributes\":{\"line_alpha\":{\"value\":0.1},\"line_color\":{\"value\":\"#1f77b4\"},\"line_dash\":[4,4],\"line_width\":{\"value\":2},\"x\":{\"field\":\"x\"},\"y\":{\"field\":\"y\"}},\"id\":\"6347bea5-8025-4f1f-bd20-69fd0011cf27\",\"type\":\"Line\"},{\"attributes\":{\"bottom_units\":\"screen\",\"fill_alpha\":{\"value\":0.5},\"fill_color\":{\"value\":\"lightgrey\"},\"left_units\":\"screen\",\"level\":\"overlay\",\"line_alpha\":{\"value\":1.0},\"line_color\":{\"value\":\"black\"},\"line_dash\":[4,4],\"line_width\":{\"value\":2},\"plot\":null,\"render_mode\":\"css\",\"right_units\":\"screen\",\"top_units\":\"screen\"},\"id\":\"7bb7d5ff-df63-4766-b8e0-dca83ddc9de1\",\"type\":\"BoxAnnotation\"},{\"attributes\":{\"plot\":{\"id\":\"50fb0a0d-4a0a-457f-bcb5-db1a0b705072\",\"subtype\":\"Figure\",\"type\":\"Plot\"},\"ticker\":{\"id\":\"68e6ef1a-3eb5-472f-80ef-df150ad91bf6\",\"type\":\"BasicTicker\"}},\"id\":\"10587220-a4d8-4eb2-975e-648c0a6807fa\",\"type\":\"Grid\"},{\"attributes\":{},\"id\":\"89935a6c-304e-4cb7-afe6-3a5137dcda5f\",\"type\":\"ToolEvents\"},{\"attributes\":{\"data_source\":{\"id\":\"0e5d2b89-4746-4ef4-a7e1-2136e517d961\",\"type\":\"ColumnDataSource\"},\"glyph\":{\"id\":\"ce413278-548e-4de5-b8b5-719009289607\",\"type\":\"Circle\"},\"hover_glyph\":null,\"nonselection_glyph\":{\"id\":\"32884714-de17-4fda-b880-9742ff2d70a8\",\"type\":\"Circle\"},\"selection_glyph\":null},\"id\":\"1000497f-7c4d-40b0-96be-4892d5f9177d\",\"type\":\"GlyphRenderer\"},{\"attributes\":{\"bottom_units\":\"screen\",\"fill_alpha\":{\"value\":0.5},\"fill_color\":{\"value\":\"lightgrey\"},\"left_units\":\"screen\",\"level\":\"overlay\",\"line_alpha\":{\"value\":1.0},\"line_color\":{\"value\":\"black\"},\"line_dash\":[4,4],\"line_width\":{\"value\":2},\"plot\":null,\"render_mode\":\"css\",\"right_units\":\"screen\",\"top_units\":\"screen\"},\"id\":\"4cb35d78-0b88-403f-9e48-d62cd2d0e4c0\",\"type\":\"BoxAnnotation\"},{\"attributes\":{},\"id\":\"63e7ffbd-4a9b-496c-9031-d66b9bedb7e6\",\"type\":\"BasicTicker\"},{\"attributes\":{\"bottom\":{\"value\":0},\"fill_alpha\":{\"value\":0.1},\"fill_color\":{\"value\":\"#1f77b4\"},\"left\":{\"field\":\"left\"},\"line_alpha\":{\"value\":0.1},\"line_color\":{\"value\":\"#1f77b4\"},\"right\":{\"field\":\"right\"},\"top\":{\"field\":\"top\"}},\"id\":\"dca35dc2-e001-4477-b0f4-30fa2df3179e\",\"type\":\"Quad\"},{\"attributes\":{\"callback\":null,\"plot\":{\"id\":\"92b5ec37-ca99-4256-98f6-89b3d5e02eb3\",\"subtype\":\"Figure\",\"type\":\"Plot\"},\"tooltips\":[[\"album\",\"@album\"]]},\"id\":\"497fdc86-3748-4885-81f0-7ed65e81c2f0\",\"type\":\"HoverTool\"},{\"attributes\":{},\"id\":\"1f363afd-123e-492d-8a54-ae2c4c44d806\",\"type\":\"BasicTicker\"},{\"attributes\":{\"axis_label\":\"Difference in Popularity\",\"formatter\":{\"id\":\"51f174e1-9fdb-4093-b51e-3127edb468b4\",\"type\":\"BasicTickFormatter\"},\"plot\":{\"id\":\"4a4d436d-255f-4335-8d9c-e1391d214d68\",\"subtype\":\"Figure\",\"type\":\"Plot\"},\"ticker\":{\"id\":\"e03c43df-aa08-48da-976c-656b7ff42087\",\"type\":\"BasicTicker\"}},\"id\":\"2cb8b9f9-692a-45d1-8f46-3ffcdd4ef7ec\",\"type\":\"LinearAxis\"},{\"attributes\":{\"data_source\":{\"id\":\"c1aac4a5-a7e3-4e93-a33b-8710c5194152\",\"type\":\"ColumnDataSource\"},\"glyph\":{\"id\":\"96c73445-462c-472e-9007-29663a27ebfc\",\"type\":\"Circle\"},\"hover_glyph\":null,\"nonselection_glyph\":{\"id\":\"892d169d-b95d-4203-83b2-f0276ad153bd\",\"type\":\"Circle\"},\"selection_glyph\":null},\"id\":\"2e90bc7d-ebac-4e24-a35c-1a22c6359e69\",\"type\":\"GlyphRenderer\"},{\"attributes\":{\"fill_color\":{\"value\":\"gold\"},\"line_color\":{\"value\":\"gold\"},\"size\":{\"units\":\"screen\",\"value\":12},\"x\":{\"field\":\"x\"},\"y\":{\"field\":\"y\"}},\"id\":\"1a0eef1f-ecdd-44d7-bb32-688f47cc9467\",\"type\":\"Circle\"},{\"attributes\":{},\"id\":\"c093020d-8919-49a2-a8bf-9286d7f2b4b7\",\"type\":\"BasicTicker\"},{\"attributes\":{\"line_color\":{\"value\":\"red\"},\"line_dash\":[4,4],\"line_width\":{\"value\":2},\"x\":{\"field\":\"x\"},\"y\":{\"field\":\"y\"}},\"id\":\"3b7e2696-cf9c-4238-b3a6-d383f64b2dda\",\"type\":\"Line\"},{\"attributes\":{\"fill_color\":{\"value\":\"cyan\"},\"line_color\":{\"value\":\"cyan\"},\"size\":{\"units\":\"screen\",\"value\":15},\"x\":{\"field\":\"x\"},\"y\":{\"field\":\"y\"}},\"id\":\"92d64910-1732-4355-ba64-28a0b87f8bfa\",\"type\":\"Circle\"},{\"attributes\":{\"overlay\":{\"id\":\"e219acf4-f8c4-4569-a714-a14ad3f289a7\",\"type\":\"BoxAnnotation\"},\"plot\":{\"id\":\"c4b3a879-ecc0-433b-ab6e-393d30e0a4fd\",\"subtype\":\"Figure\",\"type\":\"Plot\"}},\"id\":\"cf3716f6-a4c5-4941-99ca-c047a3b28390\",\"type\":\"BoxZoomTool\"},{\"attributes\":{\"overlay\":{\"id\":\"c5dbf8cd-7bdc-4716-aa78-30b847d3c5fa\",\"type\":\"BoxAnnotation\"},\"plot\":{\"id\":\"3fcbd322-bcc0-44be-a67c-49e08ce201f3\",\"subtype\":\"Figure\",\"type\":\"Plot\"}},\"id\":\"953247a7-2353-4adf-8dd7-413984a54cf4\",\"type\":\"BoxZoomTool\"},{\"attributes\":{},\"id\":\"0127af6f-a87f-4bd2-956f-3b8c598ba321\",\"type\":\"ToolEvents\"},{\"attributes\":{\"line_color\":{\"value\":\"red\"},\"line_dash\":[4,4],\"line_width\":{\"value\":2},\"x\":{\"field\":\"x\"},\"y\":{\"field\":\"y\"}},\"id\":\"fc2d07c9-feb0-4ab5-8b0c-c1ca0ce85bfb\",\"type\":\"Line\"},{\"attributes\":{\"axis_label\":\"Popularity\",\"formatter\":{\"id\":\"01b3879a-732e-4d87-a151-ad7187c59d83\",\"type\":\"BasicTickFormatter\"},\"plot\":{\"id\":\"fa223b75-3433-4548-8291-731dae75b280\",\"subtype\":\"Figure\",\"type\":\"Plot\"},\"ticker\":{\"id\":\"3bd23572-c1c8-4ce9-931c-3c8d9a225d16\",\"type\":\"BasicTicker\"}},\"id\":\"b5472690-ba6e-41cb-bd2a-e1987e342ccb\",\"type\":\"LinearAxis\"},{\"attributes\":{\"dimension\":1,\"plot\":{\"id\":\"3616ae36-d489-4dc8-b94e-8f7dbc10e264\",\"subtype\":\"Figure\",\"type\":\"Plot\"},\"ticker\":{\"id\":\"ed58d681-643b-4b98-ac3a-edb1467211f9\",\"type\":\"BasicTicker\"}},\"id\":\"5f4f7334-9366-4ae6-be18-f80856d66c2c\",\"type\":\"Grid\"},{\"attributes\":{\"line_alpha\":{\"value\":0.1},\"line_color\":{\"value\":\"#1f77b4\"},\"line_width\":{\"value\":2},\"x\":{\"field\":\"x\"},\"y\":{\"field\":\"y\"}},\"id\":\"30ae3341-4eae-4b37-a734-710df1b8868b\",\"type\":\"Line\"},{\"attributes\":{\"line_alpha\":{\"value\":0.1},\"line_color\":{\"value\":\"#1f77b4\"},\"line_dash\":[4,4],\"line_width\":{\"value\":2},\"x\":{\"field\":\"x\"},\"y\":{\"field\":\"y\"}},\"id\":\"1cb03c57-b17e-4123-8cc7-56aad6aebe50\",\"type\":\"Line\"},{\"attributes\":{\"callback\":null},\"id\":\"76792235-bb91-4d7c-b895-4113bc540e12\",\"type\":\"DataRange1d\"},{\"attributes\":{\"line_alpha\":{\"value\":0.1},\"line_color\":{\"value\":\"#1f77b4\"},\"line_dash\":[4,4],\"line_width\":{\"value\":2},\"x\":{\"field\":\"x\"},\"y\":{\"field\":\"y\"}},\"id\":\"6546db76-f730-48bc-b773-2b867ffc3883\",\"type\":\"Line\"},{\"attributes\":{\"line_alpha\":{\"value\":0.1},\"line_color\":{\"value\":\"#1f77b4\"},\"line_dash\":[4,4],\"line_width\":{\"value\":2},\"x\":{\"field\":\"x\"},\"y\":{\"field\":\"y\"}},\"id\":\"d7a76faa-dc7a-45d8-9663-d61fd4e7f116\",\"type\":\"Line\"},{\"attributes\":{\"callback\":null,\"column_names\":[\"y\",\"x\"],\"data\":{\"x\":[-1,130],\"y\":[53.27025969971829,53.27025969971829]}},\"id\":\"b0cc88dd-33df-4ca9-ad2f-c3761c1db70e\",\"type\":\"ColumnDataSource\"},{\"attributes\":{\"plot\":{\"id\":\"87004a05-fd1e-4435-ab9a-c02034cd2ae0\",\"subtype\":\"Figure\",\"type\":\"Plot\"}},\"id\":\"e38aafe9-f680-4d62-b938-8307b6a1a936\",\"type\":\"ResetTool\"},{\"attributes\":{\"line_alpha\":{\"value\":0.1},\"line_color\":{\"value\":\"#1f77b4\"},\"line_dash\":[4,4],\"line_width\":{\"value\":2},\"x\":{\"field\":\"x\"},\"y\":{\"field\":\"y\"}},\"id\":\"1ab60f89-745a-45f4-a50a-1127addafc5c\",\"type\":\"Line\"},{\"attributes\":{},\"id\":\"8cb61461-9e20-4758-a0fa-98854fb48788\",\"type\":\"BasicTickFormatter\"},{\"attributes\":{\"plot\":{\"id\":\"4ffbe01a-4dc5-41a4-b3e4-1da56420e097\",\"subtype\":\"Figure\",\"type\":\"Plot\"},\"ticker\":{\"id\":\"d1e3297f-f8da-4abb-8e16-08d7abb2fe4f\",\"type\":\"BasicTicker\"}},\"id\":\"9138fccf-f3ae-4a06-874c-9d611f172d55\",\"type\":\"Grid\"},{\"attributes\":{},\"id\":\"1666d41f-1515-4d15-a867-431aea2a8056\",\"type\":\"BasicTicker\"},{\"attributes\":{},\"id\":\"cdcf6ac1-fa44-48e8-b449-becc571cc477\",\"type\":\"ToolEvents\"},{\"attributes\":{\"fill_alpha\":{\"value\":0.1},\"fill_color\":{\"value\":\"#1f77b4\"},\"line_alpha\":{\"value\":0.1},\"line_color\":{\"value\":\"#1f77b4\"},\"size\":{\"units\":\"screen\",\"value\":10},\"x\":{\"field\":\"x\"},\"y\":{\"field\":\"y\"}},\"id\":\"c61158f8-40fe-46e4-8341-fc92e76f23a1\",\"type\":\"Circle\"},{\"attributes\":{\"axis_label\":\"Number of Tracks\",\"formatter\":{\"id\":\"c76ed546-f702-4d23-a592-c54abc00b74c\",\"type\":\"BasicTickFormatter\"},\"plot\":{\"id\":\"906090f5-7fc8-4666-bdc4-2cfa29be15ef\",\"subtype\":\"Figure\",\"type\":\"Plot\"},\"ticker\":{\"id\":\"be6e8a7d-f431-4ede-bed6-60cd0bb65621\",\"type\":\"BasicTicker\"}},\"id\":\"68f8ec45-2ec5-467b-8f37-11e1c4780d8b\",\"type\":\"LinearAxis\"},{\"attributes\":{\"fill_alpha\":{\"value\":0.4},\"fill_color\":{\"value\":\"black\"},\"size\":{\"units\":\"screen\",\"value\":7},\"x\":{\"field\":\"x\"},\"y\":{\"field\":\"y\"}},\"id\":\"bfbc0324-e802-4ee6-9b8b-2977926d9753\",\"type\":\"Circle\"},{\"attributes\":{},\"id\":\"20eb63c3-3c98-4334-802b-f131211dd1c4\",\"type\":\"BasicTickFormatter\"},{\"attributes\":{\"callback\":null,\"column_names\":[\"y\",\"x\"],\"data\":{\"x\":[-1,10],\"y\":[71.32379775518366,71.32379775518366]}},\"id\":\"68c199b8-b0b8-497e-add7-1cc5861f1c51\",\"type\":\"ColumnDataSource\"},{\"attributes\":{\"line_alpha\":{\"value\":0.1},\"line_color\":{\"value\":\"#1f77b4\"},\"line_dash\":[4,4],\"line_width\":{\"value\":2},\"x\":{\"field\":\"x\"},\"y\":{\"field\":\"y\"}},\"id\":\"581aab77-a596-49fe-a778-d6d24d09ad09\",\"type\":\"Line\"},{\"attributes\":{\"line_color\":{\"value\":\"red\"},\"line_dash\":[4,4],\"line_width\":{\"value\":2},\"x\":{\"field\":\"x\"},\"y\":{\"field\":\"y\"}},\"id\":\"1a1c0839-6616-4acd-988b-3f78e854d271\",\"type\":\"Line\"},{\"attributes\":{\"callback\":null,\"column_names\":[\"y\",\"x\"],\"data\":{\"x\":[1],\"y\":[55.3125]}},\"id\":\"183cc5b9-a002-4161-978e-eb9651794660\",\"type\":\"ColumnDataSource\"},{\"attributes\":{\"fill_color\":{\"value\":\"cyan\"},\"line_color\":{\"value\":\"cyan\"},\"size\":{\"units\":\"screen\",\"value\":15},\"x\":{\"value\":2007},\"y\":{\"value\":80.0}},\"id\":\"96c73445-462c-472e-9007-29663a27ebfc\",\"type\":\"Circle\"},{\"attributes\":{\"callback\":null,\"column_names\":[\"album\",\"y\",\"x\"],\"data\":{\"album\":[\"The Life Of Pablo\",\"Yeezus\",\"Watch The Throne (Explicit Version)\",\"My Beautiful Dark Twisted Fantasy (Explicit Version)\",\"808s & Heartbreak\",\"Graduation (Explicit Version)\",\"Late Registration (Explicit Version)\",\"The College Dropout (Explicit)\"],\"x\":[2016,2013,2011,2010,2008,2007,2005,2004],\"y\":[94.0,78.0,70.0,80.0,74.0,80.0,78.0,76.0]}},\"id\":\"2eb9ddff-84bb-48ff-9ba9-fa51f3b39470\",\"type\":\"ColumnDataSource\"},{\"attributes\":{\"data_source\":{\"id\":\"82d7761a-fb26-4007-9b4d-b08eabe50729\",\"type\":\"ColumnDataSource\"},\"glyph\":{\"id\":\"0167a9a0-7d7d-4f89-920c-71309f3f8e59\",\"type\":\"Circle\"},\"hover_glyph\":null,\"nonselection_glyph\":{\"id\":\"26d8fb34-4f1d-4e16-9129-de9d495d7698\",\"type\":\"Circle\"},\"selection_glyph\":null},\"id\":\"56b724e5-2882-4471-aa96-cee0433af2c3\",\"type\":\"GlyphRenderer\"},{\"attributes\":{},\"id\":\"ba3b8107-85c7-4b2e-89cc-6dfc45fb27e1\",\"type\":\"BasicTickFormatter\"},{\"attributes\":{},\"id\":\"8a637abc-a562-40f8-a478-740ce33d6383\",\"type\":\"ToolEvents\"},{\"attributes\":{\"callback\":null,\"plot\":{\"id\":\"a406ebf3-7fee-4dd4-9327-caaf80fc284a\",\"subtype\":\"Figure\",\"type\":\"Plot\"},\"tooltips\":[[\"Artist\",\"@artist\"]]},\"id\":\"6c9b4644-1a23-4f24-8d64-1081cb37878d\",\"type\":\"HoverTool\"},{\"attributes\":{\"overlay\":{\"id\":\"6c0bcb03-2c87-4889-afe4-9d503f7a358b\",\"type\":\"BoxAnnotation\"},\"plot\":{\"id\":\"f8d0ef78-8fe7-49c2-8a93-afe1dcadb6b4\",\"subtype\":\"Figure\",\"type\":\"Plot\"}},\"id\":\"86b76a50-e05a-444d-805f-68cc3084bb43\",\"type\":\"BoxZoomTool\"},{\"attributes\":{},\"id\":\"6914544a-e5f4-4516-9394-19043cf09aaa\",\"type\":\"ToolEvents\"},{\"attributes\":{},\"id\":\"be6e8a7d-f431-4ede-bed6-60cd0bb65621\",\"type\":\"BasicTicker\"},{\"attributes\":{\"line_color\":{\"value\":\"red\"},\"line_dash\":[4,4],\"line_width\":{\"value\":2},\"x\":{\"field\":\"x\"},\"y\":{\"field\":\"y\"}},\"id\":\"c925caac-cabc-42a3-85d0-6f432fb81c68\",\"type\":\"Line\"},{\"attributes\":{\"plot\":{\"id\":\"f8d0ef78-8fe7-49c2-8a93-afe1dcadb6b4\",\"subtype\":\"Figure\",\"type\":\"Plot\"},\"ticker\":{\"id\":\"006f8a4a-f4f6-4555-95d7-3a5d699e7ec6\",\"type\":\"BasicTicker\"}},\"id\":\"3b7e7573-438d-467e-9ece-80068c77ebaf\",\"type\":\"Grid\"},{\"attributes\":{\"below\":[{\"id\":\"48a31fc3-7c77-4b55-bc2e-5f8cae2aa884\",\"type\":\"LinearAxis\"}],\"left\":[{\"id\":\"8dbb2fd2-2ed8-4956-a483-18c495aa42ff\",\"type\":\"LinearAxis\"}],\"plot_height\":500,\"renderers\":[{\"id\":\"48a31fc3-7c77-4b55-bc2e-5f8cae2aa884\",\"type\":\"LinearAxis\"},{\"id\":\"61b870a8-5129-40f8-b142-1b00b862ee1a\",\"type\":\"Grid\"},{\"id\":\"8dbb2fd2-2ed8-4956-a483-18c495aa42ff\",\"type\":\"LinearAxis\"},{\"id\":\"31a6bb5d-e98e-4c8a-bc94-80f8ff27fd55\",\"type\":\"Grid\"},{\"id\":\"34979b5b-f3d8-44be-bc32-917d7c4c4502\",\"type\":\"BoxAnnotation\"},{\"id\":\"f336ed95-f041-43ff-9504-b7ae3944a606\",\"type\":\"GlyphRenderer\"},{\"id\":\"877e15b7-2950-428a-b759-08658d277d2c\",\"type\":\"GlyphRenderer\"},{\"id\":\"c1bb538a-725a-4116-bbf8-9a9664e50b69\",\"type\":\"GlyphRenderer\"},{\"id\":\"eeec4139-2fd1-4d47-8ae9-376c968203c4\",\"type\":\"GlyphRenderer\"},{\"id\":\"f6b8618e-1398-4725-b707-1282bb93c294\",\"type\":\"GlyphRenderer\"}],\"tool_events\":{\"id\":\"fd24f850-ffcb-4ae5-a056-673a6fad74d9\",\"type\":\"ToolEvents\"},\"tools\":[{\"id\":\"17b4c003-ab0a-4b19-adec-2d6d9afa78ef\",\"type\":\"BoxZoomTool\"},{\"id\":\"e22d4335-9e1a-45cb-8686-413d986fb130\",\"type\":\"ResetTool\"},{\"id\":\"841a955d-1651-4ee1-a6b5-48c5ec79a225\",\"type\":\"HoverTool\"}],\"x_range\":{\"id\":\"c1cb8cfe-7048-4545-95c5-547250e7b519\",\"type\":\"DataRange1d\"},\"y_range\":{\"id\":\"76792235-bb91-4d7c-b895-4113bc540e12\",\"type\":\"DataRange1d\"}},\"id\":\"364976bb-91fe-4abc-8ff2-febda1eb7377\",\"subtype\":\"Figure\",\"type\":\"Plot\"},{\"attributes\":{\"plot\":{\"id\":\"40984381-804f-484c-b412-49c9a1eb6ef2\",\"subtype\":\"Figure\",\"type\":\"Plot\"},\"ticker\":{\"id\":\"aafccb55-2e25-466b-b3de-99311f73c403\",\"type\":\"BasicTicker\"}},\"id\":\"dd6fc76a-d707-4636-8e27-a9bac87b6681\",\"type\":\"Grid\"},{\"attributes\":{\"plot\":{\"id\":\"fa223b75-3433-4548-8291-731dae75b280\",\"subtype\":\"Figure\",\"type\":\"Plot\"}},\"id\":\"4e806aae-6b0c-4c29-a465-ee22a09f45b4\",\"type\":\"HelpTool\"},{\"attributes\":{\"bottom_units\":\"screen\",\"fill_alpha\":{\"value\":0.5},\"fill_color\":{\"value\":\"lightgrey\"},\"left_units\":\"screen\",\"level\":\"overlay\",\"line_alpha\":{\"value\":1.0},\"line_color\":{\"value\":\"black\"},\"line_dash\":[4,4],\"line_width\":{\"value\":2},\"plot\":null,\"render_mode\":\"css\",\"right_units\":\"screen\",\"top_units\":\"screen\"},\"id\":\"e219acf4-f8c4-4569-a714-a14ad3f289a7\",\"type\":\"BoxAnnotation\"},{\"attributes\":{\"callback\":null},\"id\":\"9cfec26d-d77a-40bd-b9f3-499c78969f83\",\"type\":\"DataRange1d\"},{\"attributes\":{\"data_source\":{\"id\":\"d1f364c9-17c5-4f3c-82ab-f248cabb407e\",\"type\":\"ColumnDataSource\"},\"glyph\":{\"id\":\"bff01a80-c35b-45cb-a670-913e17fdd32f\",\"type\":\"Circle\"},\"hover_glyph\":null,\"nonselection_glyph\":{\"id\":\"d12beb63-c0b8-4383-a00b-117b59d84ab8\",\"type\":\"Circle\"},\"selection_glyph\":null},\"id\":\"84734ba8-1a3e-4fd3-8017-68aecf6a426c\",\"type\":\"GlyphRenderer\"},{\"attributes\":{\"overlay\":{\"id\":\"4cb35d78-0b88-403f-9e48-d62cd2d0e4c0\",\"type\":\"BoxAnnotation\"},\"plot\":{\"id\":\"40984381-804f-484c-b412-49c9a1eb6ef2\",\"subtype\":\"Figure\",\"type\":\"Plot\"}},\"id\":\"e2e9660b-eaa5-4d35-a3db-2529bcc3a2d3\",\"type\":\"BoxZoomTool\"},{\"attributes\":{\"below\":[{\"id\":\"43b888c9-c789-46e1-a18b-6ee35397b8af\",\"type\":\"LinearAxis\"}],\"left\":[{\"id\":\"209335d5-8129-4c52-b0e7-a368e0d4c729\",\"type\":\"LinearAxis\"}],\"plot_height\":500,\"renderers\":[{\"id\":\"43b888c9-c789-46e1-a18b-6ee35397b8af\",\"type\":\"LinearAxis\"},{\"id\":\"68f95b47-03d6-4754-8170-58c27a1acc6a\",\"type\":\"Grid\"},{\"id\":\"209335d5-8129-4c52-b0e7-a368e0d4c729\",\"type\":\"LinearAxis\"},{\"id\":\"a5066f26-eba0-4b03-b23a-9ca74fed7b7f\",\"type\":\"Grid\"},{\"id\":\"e219acf4-f8c4-4569-a714-a14ad3f289a7\",\"type\":\"BoxAnnotation\"},{\"id\":\"5f8685ce-e305-4e12-9075-d2533c5b3bc5\",\"type\":\"GlyphRenderer\"},{\"id\":\"df511407-6640-4e89-a493-412dbe4d8e80\",\"type\":\"Legend\"},{\"id\":\"e148832a-d985-465d-8823-91b3a43258d7\",\"type\":\"GlyphRenderer\"},{\"id\":\"632d2f39-7144-4dfb-9475-79bf96d217b0\",\"type\":\"GlyphRenderer\"}],\"tool_events\":{\"id\":\"9a0e5239-77f0-4f80-a5b4-ff6b217f7869\",\"type\":\"ToolEvents\"},\"tools\":[{\"id\":\"cf3716f6-a4c5-4941-99ca-c047a3b28390\",\"type\":\"BoxZoomTool\"},{\"id\":\"059ef0ac-1574-4607-9c72-67d64fc77508\",\"type\":\"ResetTool\"},{\"id\":\"57eb9488-057b-4130-a8e3-2a5c7331318f\",\"type\":\"HoverTool\"}],\"x_range\":{\"id\":\"8ae55547-f68a-432e-ab4e-d99bad682da5\",\"type\":\"DataRange1d\"},\"y_range\":{\"id\":\"d7e495ca-df68-4cf5-a9f6-a9bb6f27dc8a\",\"type\":\"DataRange1d\"}},\"id\":\"c4b3a879-ecc0-433b-ab6e-393d30e0a4fd\",\"subtype\":\"Figure\",\"type\":\"Plot\"},{\"attributes\":{\"bottom_units\":\"screen\",\"fill_alpha\":{\"value\":0.5},\"fill_color\":{\"value\":\"lightgrey\"},\"left_units\":\"screen\",\"level\":\"overlay\",\"line_alpha\":{\"value\":1.0},\"line_color\":{\"value\":\"black\"},\"line_dash\":[4,4],\"line_width\":{\"value\":2},\"plot\":null,\"render_mode\":\"css\",\"right_units\":\"screen\",\"top_units\":\"screen\"},\"id\":\"40076bb1-bfa7-4189-b8e1-3527cd3d4a01\",\"type\":\"BoxAnnotation\"},{\"attributes\":{},\"id\":\"373fa728-26d7-4f4e-96a9-448c4077bb25\",\"type\":\"BasicTicker\"},{\"attributes\":{\"line_alpha\":{\"value\":0.1},\"line_color\":{\"value\":\"#1f77b4\"},\"line_dash\":[4,4],\"line_width\":{\"value\":2},\"x\":{\"field\":\"x\"},\"y\":{\"field\":\"y\"}},\"id\":\"827bde17-3f57-4d56-8e0e-4e7fe537b3b7\",\"type\":\"Line\"},{\"attributes\":{\"data_source\":{\"id\":\"65f6a207-69e7-4b06-8045-5437bb739125\",\"type\":\"ColumnDataSource\"},\"glyph\":{\"id\":\"cc87628e-b23a-41dc-9525-d7a369f8f4b5\",\"type\":\"Line\"},\"hover_glyph\":null,\"nonselection_glyph\":{\"id\":\"6546db76-f730-48bc-b773-2b867ffc3883\",\"type\":\"Line\"},\"selection_glyph\":null},\"id\":\"fd4e43bb-c5ff-479f-aad3-6c0d73b41257\",\"type\":\"GlyphRenderer\"},{\"attributes\":{\"below\":[{\"id\":\"ceb83e6f-8dab-484b-bffd-71e76d98a255\",\"type\":\"LinearAxis\"}],\"left\":[{\"id\":\"dc53d25c-e534-478b-9eb9-1ad2ad5e10fc\",\"type\":\"LinearAxis\"}],\"plot_height\":500,\"renderers\":[{\"id\":\"ceb83e6f-8dab-484b-bffd-71e76d98a255\",\"type\":\"LinearAxis\"},{\"id\":\"21de8303-ef16-4220-8a08-b271edf333e8\",\"type\":\"Grid\"},{\"id\":\"dc53d25c-e534-478b-9eb9-1ad2ad5e10fc\",\"type\":\"LinearAxis\"},{\"id\":\"fb7f8c71-87cc-4440-a6de-b91103fb9e72\",\"type\":\"Grid\"},{\"id\":\"56f1af86-e4a5-441e-b557-1f49f9a7193d\",\"type\":\"BoxAnnotation\"},{\"id\":\"ac48ee74-b0d7-47d2-8301-21af140cc18f\",\"type\":\"GlyphRenderer\"},{\"id\":\"9ba91f8f-4aa8-439a-b22f-2a471023c3d5\",\"type\":\"GlyphRenderer\"},{\"id\":\"6245b2be-44cb-4bb5-97bb-04ac52185f54\",\"type\":\"GlyphRenderer\"},{\"id\":\"f1827d17-d73b-4bf1-9166-2a0661edc9e3\",\"type\":\"GlyphRenderer\"},{\"id\":\"f04aeb9e-3b0b-4a8a-bc23-a0f18a372629\",\"type\":\"GlyphRenderer\"}],\"tool_events\":{\"id\":\"e701de83-94a3-4a53-a4c3-22d0b1d563c5\",\"type\":\"ToolEvents\"},\"tools\":[{\"id\":\"11351d40-797f-4e55-9859-fd30db144f45\",\"type\":\"BoxZoomTool\"},{\"id\":\"cb43cb91-fef6-4594-9384-bf137f55c25e\",\"type\":\"ResetTool\"},{\"id\":\"df657545-ce9e-4783-9e19-cda025edf06a\",\"type\":\"HoverTool\"}],\"x_range\":{\"id\":\"6a209925-dc6f-4516-978b-535bce5f0773\",\"type\":\"DataRange1d\"},\"y_range\":{\"id\":\"8fd20ca3-335f-4bf7-88a2-61bca079208e\",\"type\":\"DataRange1d\"}},\"id\":\"d88ffe13-3f11-4938-b3bf-6ca710b53c87\",\"subtype\":\"Figure\",\"type\":\"Plot\"},{\"attributes\":{\"line_alpha\":{\"value\":0.1},\"line_color\":{\"value\":\"#1f77b4\"},\"line_dash\":[4,4],\"line_width\":{\"value\":2},\"x\":{\"field\":\"x\"},\"y\":{\"field\":\"y\"}},\"id\":\"afc788ee-240b-43de-8850-23ae7faf6151\",\"type\":\"Line\"},{\"attributes\":{\"callback\":null,\"column_names\":[\"y\",\"x\"],\"data\":{\"x\":[0.0,1.0,2.0,3.0,4.0,5.0,6.0,7.0,8.0,9.0,10.0,11.0,12.0,13.0,14.0,15.0,16.0,17.0,18.0,19.0,20.0,21.0,22.0,23.0,24.0,25.0,26.0,27.0,28.0,29.0,30.0,31.0,32.0,33.0,34.0,35.0,36.0,37.0,38.0,39.0,40.0,41.0,42.0,43.0,44.0,45.0,46.0,47.0,48.0,49.0,50.0,51.0,52.0,53.0,54.0,55.0,56.0,57.0,58.0,59.0,60.0,61.0,62.0,63.0,64.0,65.0,66.0,67.0,68.0,69.0,70.0,71.0,72.0,73.0,74.0,75.0,76.0,77.0,78.0,79.0,80.0,81.0,82.0,83.0,84.0,85.0,86.0,87.0,88.0,89.0,90.0,91.0,92.0,93.0,94.0,95.0,96.0,97.0,98.0,99.0],\"y\":[5.817063634290186,6.213079567299863,6.6090955003095395,7.005111433319216,7.401127366328894,7.797143299338571,8.193159232348247,8.589175165357926,8.985191098367602,9.38120703137728,9.777222964386956,10.173238897396633,10.56925483040631,10.965270763415987,11.361286696425665,11.75730262943534,12.153318562445019,12.549334495454694,12.945350428464373,13.34136636147405,13.737382294483726,14.133398227493403,14.52941416050308,14.925430093512757,15.321446026522434,15.71746195953211,16.113477892541788,16.509493825551466,16.905509758561145,17.30152569157082,17.697541624580495,18.093557557590174,18.489573490599852,18.885589423609527,19.281605356619202,19.67762128962888,20.07363722263856,20.469653155648235,20.865669088657913,21.26168502166759,21.657700954677267,22.053716887686942,22.44973282069662,22.8457487537063,23.241764686715975,23.637780619725653,24.03379655273533,24.429812485745007,24.825828418754682,25.22184435176436,25.617860284774036,26.013876217783714,26.40989215079339,26.805908083803068,27.201924016812747,27.597939949822422,27.9939558828321,28.389971815841776,28.785987748851454,29.18200368186113,29.578019614870808,29.974035547880483,30.37005148089016,30.766067413899837,31.162083346909515,31.558099279919194,31.95411521292887,32.35013114593855,32.746147078948226,33.142163011957905,33.53817894496758,33.934194877977255,34.33021081098693,34.726226743996605,35.122242677006284,35.51825861001596,35.91427454302564,36.31029047603532,36.706306409045,37.10232234205467,37.49833827506435,37.89435420807403,38.2903701410837,38.68638607409338,39.082402007103056,39.478417940112735,39.87443387312241,40.270449806132085,40.66646573914176,41.06248167215144,41.45849760516112,41.85451353817079,42.25052947118047,42.64654540419015,43.04256133719983,43.4385772702095,43.83459320321918,44.23060913622886,44.626625069238536,45.022641002248214]}},\"id\":\"18f1c63c-342a-4f27-99e1-fd685e6a3f47\",\"type\":\"ColumnDataSource\"},{\"attributes\":{},\"id\":\"33c7be18-0d55-4efc-af65-bc6e5923f5ef\",\"type\":\"BasicTickFormatter\"},{\"attributes\":{\"callback\":null,\"column_names\":[\"album\",\"track\",\"y\",\"x\",\"line_color\",\"fill_color\"],\"data\":{\"album\":[\"Magna Carta... Holy Grail (Explicit Version)\",\"Magna Carta... Holy Grail (Explicit Version)\",\"Magna Carta... Holy Grail (Explicit Version)\",\"Magna Carta... Holy Grail (Explicit Version)\",\"Magna Carta... Holy Grail (Explicit Version)\",\"Magna Carta... Holy Grail (Explicit Version)\",\"Magna Carta... Holy Grail (Explicit Version)\",\"Magna Carta... Holy Grail (Explicit Version)\",\"Magna Carta... Holy Grail (Explicit Version)\",\"Magna Carta... Holy Grail (Explicit Version)\",\"Magna Carta... Holy Grail (Explicit Version)\",\"Magna Carta... Holy Grail (Explicit Version)\",\"Magna Carta... Holy Grail (Explicit Version)\",\"Magna Carta... Holy Grail (Explicit Version)\",\"Magna Carta... Holy Grail (Explicit Version)\",\"Magna Carta... Holy Grail (Explicit Version)\",\"Watch The Throne (Explicit Version)\",\"Watch The Throne (Explicit Version)\",\"Watch The Throne (Explicit Version)\",\"Watch The Throne (Explicit Version)\",\"Watch The Throne (Explicit Version)\",\"Watch The Throne (Explicit Version)\",\"Watch The Throne (Explicit Version)\",\"Watch The Throne (Explicit Version)\",\"Watch The Throne (Explicit Version)\",\"Watch The Throne (Explicit Version)\",\"Watch The Throne (Explicit Version)\",\"Watch The Throne (Explicit Version)\",\"American Gangster (Explicit Version)\",\"American Gangster (Explicit Version)\",\"American Gangster (Explicit Version)\",\"American Gangster (Explicit Version)\",\"American Gangster (Explicit Version)\",\"American Gangster (Explicit Version)\",\"American Gangster (Explicit Version)\",\"American Gangster (Explicit Version)\",\"American Gangster (Explicit Version)\",\"American Gangster (Explicit Version)\",\"American Gangster (Explicit Version)\",\"American Gangster (Explicit Version)\",\"American Gangster (Explicit Version)\",\"American Gangster (Explicit Version)\",\"American Gangster (Explicit Version)\",\"Kingdom Come\",\"Kingdom Come\",\"Kingdom Come\",\"Kingdom Come\",\"Kingdom Come\",\"Kingdom Come\",\"Kingdom Come\",\"Kingdom Come\",\"Kingdom Come\",\"Kingdom Come\",\"Kingdom Come\",\"Kingdom Come\",\"Kingdom Come\",\"Kingdom Come\",\"Kingdom Come\",\"Collision Course\",\"Collision Course\",\"Collision Course\",\"Collision Course\",\"Collision Course\",\"Collision Course\",\"Unfinished Business (Explicit)\",\"Unfinished Business (Explicit)\",\"Unfinished Business (Explicit)\",\"Unfinished Business (Explicit)\",\"Unfinished Business (Explicit)\",\"Unfinished Business (Explicit)\",\"Unfinished Business (Explicit)\",\"Unfinished Business (Explicit)\",\"Unfinished Business (Explicit)\",\"Unfinished Business (Explicit)\",\"Unfinished Business (Explicit)\",\"The Black Album (Explicit)\",\"The Black Album (Explicit)\",\"The Black Album (Explicit)\",\"The Black Album (Explicit)\",\"The Black Album (Explicit)\",\"The Black Album (Explicit)\",\"The Black Album (Explicit)\",\"The Black Album (Explicit)\",\"The Black Album (Explicit)\",\"The Black Album (Explicit)\",\"The Black Album (Explicit)\",\"The Black Album (Explicit)\",\"The Black Album (Explicit)\",\"The Black Album (Explicit)\",\"The Best Of Both Worlds (Explicit Version)\",\"The Best Of Both Worlds (Explicit Version)\",\"The Best Of Both Worlds (Explicit Version)\",\"The Best Of Both Worlds (Explicit Version)\",\"The Best Of Both Worlds (Explicit Version)\",\"The Best Of Both Worlds (Explicit Version)\",\"The Best Of Both Worlds (Explicit Version)\",\"The Best Of Both Worlds (Explicit Version)\",\"The Best Of Both Worlds (Explicit Version)\",\"The Best Of Both Worlds (Explicit Version)\",\"The Best Of Both Worlds (Explicit Version)\",\"The Best Of Both Worlds (Explicit Version)\",\"The Best Of Both Worlds (Explicit Version)\"],\"fill_color\":[\"blue\",\"blue\",\"blue\",\"blue\",\"blue\",\"blue\",\"blue\",\"blue\",\"blue\",\"blue\",\"blue\",\"blue\",\"blue\",\"blue\",\"blue\",\"blue\",\"orange\",\"orange\",\"orange\",\"orange\",\"orange\",\"orange\",\"orange\",\"orange\",\"orange\",\"orange\",\"orange\",\"orange\",\"red\",\"red\",\"red\",\"red\",\"red\",\"red\",\"red\",\"red\",\"red\",\"red\",\"red\",\"red\",\"red\",\"red\",\"red\",\"green\",\"green\",\"green\",\"green\",\"green\",\"green\",\"green\",\"green\",\"green\",\"green\",\"green\",\"green\",\"green\",\"green\",\"green\",\"pink\",\"pink\",\"pink\",\"pink\",\"pink\",\"pink\",\"black\",\"black\",\"black\",\"black\",\"black\",\"black\",\"black\",\"black\",\"black\",\"black\",\"black\",\"cyan\",\"cyan\",\"cyan\",\"cyan\",\"cyan\",\"cyan\",\"cyan\",\"cyan\",\"cyan\",\"cyan\",\"cyan\",\"cyan\",\"cyan\",\"cyan\",\"purple\",\"purple\",\"purple\",\"purple\",\"purple\",\"purple\",\"purple\",\"purple\",\"purple\",\"purple\",\"purple\",\"purple\",\"purple\"],\"line_color\":[\"blue\",\"blue\",\"blue\",\"blue\",\"blue\",\"blue\",\"blue\",\"blue\",\"blue\",\"blue\",\"blue\",\"blue\",\"blue\",\"blue\",\"blue\",\"blue\",\"orange\",\"orange\",\"orange\",\"orange\",\"orange\",\"orange\",\"orange\",\"orange\",\"orange\",\"orange\",\"orange\",\"orange\",\"red\",\"red\",\"red\",\"red\",\"red\",\"red\",\"red\",\"red\",\"red\",\"red\",\"red\",\"red\",\"red\",\"red\",\"red\",\"green\",\"green\",\"green\",\"green\",\"green\",\"green\",\"green\",\"green\",\"green\",\"green\",\"green\",\"green\",\"green\",\"green\",\"green\",\"pink\",\"pink\",\"pink\",\"pink\",\"pink\",\"pink\",\"black\",\"black\",\"black\",\"black\",\"black\",\"black\",\"black\",\"black\",\"black\",\"black\",\"black\",\"cyan\",\"cyan\",\"cyan\",\"cyan\",\"cyan\",\"cyan\",\"cyan\",\"cyan\",\"cyan\",\"cyan\",\"cyan\",\"cyan\",\"cyan\",\"cyan\",\"purple\",\"purple\",\"purple\",\"purple\",\"purple\",\"purple\",\"purple\",\"purple\",\"purple\",\"purple\",\"purple\",\"purple\",\"purple\"],\"track\":[\"Holy Grail\",\"Picasso Baby\",\"Tom Ford\",\"F*ckwithmeyouknowigotit\",\"Oceans\",\"F.U.T.W.\",\"Somewhereinamerica\",\"Crown\",\"Heaven\",\"Versus\",\"Part II (On The Run)\",\"Beach Is Better\",\"BBC\",\"JAY Z Blue\",\"La Familia\",\"Nickels And Dimes\",\"No Church In The Wild\",\"Lift Off\",\"Ni**as In Paris\",\"Otis\",\"Gotta Have It\",\"New Day\",\"That's My Bitch\",\"Welcome To The Jungle\",\"Who Gon Stop Me\",\"Murder To Excellence\",\"Made In America\",\"Why I Love You\",\"Intro\",\"Pray\",\"American Dreamin'\",\"Hello Brooklyn 2.0\",\"No Hook\",\"Roc Boys (And The Winner Is)...\",\"Sweet\",\"I Know\",\"Party Life\",\"Ignorant Sh*t\",\"Say Hello\",\"Success\",\"Fallin'\",\"Blue Magic\",\"American Gangster\",\"The Prelude\",\"Oh My God\",\"Kingdom Come\",\"Show Me What You Got\",\"Lost One\",\"Do U Wanna Ride\",\"30 Something\",\"I Made It\",\"Anything\",\"Hollywood\",\"Trouble\",\"Dig A Hole\",\"Minority Report\",\"Beach Chair\",\"Show Me What You Got\",\"Dirt Off Your Shoulder/Lying From You\",\"Big Pimpin'/Papercut\",\"Jigga What/Faint\",\"Numb/Encore\",\"Izzo/In The End\",\"Points Of Authority/99 Problems/One Step Closer\",\"The Return\",\"Big Chips\",\"We Got Em Goin'\",\"She's Coming Home With Me\",\"Feelin' You In Stereo\",\"Stop\",\"Mo' Money\",\"Pretty Girls\",\"Break Up (That's All We Do)\",\"Don't Let Me Die\",\"The Return (Remix)\",\"Interlude\",\"December 4th\",\"What More Can I Say\",\"Encore\",\"Change Clothes\",\"Dirt Off Your Shoulder\",\"Threat\",\"Moment Of Clarity\",\"99 Problems\",\"Interlude\",\"Justify My Thug\",\"Lucifer\",\"Allure\",\"My 1st Song\",\"The Best Of Both Worlds\",\"Take You Home With Me A.K.A. Body\",\"Break Up To Make Up\",\"It Ain't Personal\",\"The Streets\",\"Green Light\",\"Naked\",\"Shake Ya Body\",\"Somebody's Girl\",\"Get This Money\",\"Shorty\",\"Honey\",\"P***y\"],\"x\":[0,1,2,3,4,5,6,7,8,9,10,11,12,13,14,15,16,17,18,19,20,21,22,23,24,25,26,27,28,29,30,31,32,33,34,35,36,37,38,39,40,41,42,43,44,45,46,47,48,49,50,51,52,53,54,55,56,57,58,59,60,61,62,63,64,65,66,67,68,69,70,71,72,73,74,75,76,77,78,79,80,81,82,83,84,85,86,87,88,89,90,91,92,93,94,95,96,97,98,99,100,101],\"y\":[72.0,52.0,66.0,64.0,54.0,51.0,53.0,52.0,50.0,46.0,58.0,51.0,49.0,47.0,48.0,47.0,59.0,52.0,58.0,58.0,58.0,50.0,49.0,50.0,59.0,52.0,50.0,52.0,35.0,40.0,41.0,41.0,40.0,49.0,38.0,43.0,40.0,42.0,42.0,41.0,40.0,41.0,38.0,39.0,41.0,42.0,44.0,50.0,40.0,44.0,38.0,38.0,38.0,39.0,33.0,36.0,40.0,24.0,35.0,32.0,31.0,42.0,32.0,34.0,0.0,29.0,24.0,26.0,28.0,24.0,27.0,25.0,24.0,25.0,23.0,40.0,47.0,49.0,50.0,49.0,63.0,45.0,55.0,65.0,48.0,45.0,55.0,46.0,49.0,38.0,39.0,32.0,32.0,32.0,29.0,32.0,30.0,44.0,32.0,31.0,32.0,30.0]}},\"id\":\"46514f03-4f9f-48dc-8e04-1117fa5b7a08\",\"type\":\"ColumnDataSource\"},{\"attributes\":{\"dimension\":1,\"plot\":{\"id\":\"0218e7c7-c2e7-440c-a494-9b99e502f7a8\",\"subtype\":\"Figure\",\"type\":\"Plot\"},\"ticker\":{\"id\":\"81d820d5-40f2-4dfb-bfb4-f6c19022b6e1\",\"type\":\"BasicTicker\"}},\"id\":\"9af2c3bf-3637-4b1d-96af-3ba0eb0ee5c7\",\"type\":\"Grid\"},{\"attributes\":{\"below\":[{\"id\":\"b5472690-ba6e-41cb-bd2a-e1987e342ccb\",\"type\":\"LinearAxis\"}],\"left\":[{\"id\":\"2cfc7531-d306-4342-b15a-1b56568c4b93\",\"type\":\"LinearAxis\"}],\"plot_height\":400,\"renderers\":[{\"id\":\"b5472690-ba6e-41cb-bd2a-e1987e342ccb\",\"type\":\"LinearAxis\"},{\"id\":\"67403744-5661-4cc6-a7b3-3d1ada77b811\",\"type\":\"Grid\"},{\"id\":\"2cfc7531-d306-4342-b15a-1b56568c4b93\",\"type\":\"LinearAxis\"},{\"id\":\"91edb9b8-0276-4bae-8a62-61c9d2056e03\",\"type\":\"Grid\"},{\"id\":\"6442f5ed-cfd3-4b2f-b015-66f324f0d39a\",\"type\":\"BoxAnnotation\"},{\"id\":\"f699d395-afb0-4f13-86f2-0a2671e20b39\",\"type\":\"Legend\"},{\"id\":\"d9db22cc-e762-45a1-95a2-cbc5343ec96c\",\"type\":\"GlyphRenderer\"},{\"id\":\"2f220f79-a3cb-454a-b987-d348cb0553e2\",\"type\":\"GlyphRenderer\"}],\"tool_events\":{\"id\":\"3e7f25f4-4f1d-436d-be86-5acf33f70416\",\"type\":\"ToolEvents\"},\"tools\":[{\"id\":\"ed760b7a-0264-4f3d-8cf4-b2b253618ff2\",\"type\":\"PanTool\"},{\"id\":\"9461311b-6fe3-4049-a6ec-ce12910dd8a6\",\"type\":\"WheelZoomTool\"},{\"id\":\"de1cf72a-f4a8-4ed1-9e8e-54422a836f32\",\"type\":\"BoxZoomTool\"},{\"id\":\"51e582db-1565-4339-8cc8-9de43a39f28b\",\"type\":\"PreviewSaveTool\"},{\"id\":\"f8cc6530-7399-4030-bbde-181463300a79\",\"type\":\"ResizeTool\"},{\"id\":\"033ed9ac-ce57-48aa-b558-7bbafbd0b9bc\",\"type\":\"ResetTool\"},{\"id\":\"4e806aae-6b0c-4c29-a465-ee22a09f45b4\",\"type\":\"HelpTool\"}],\"x_range\":{\"id\":\"1cdc6e57-297e-41c0-93fd-304aedb13612\",\"type\":\"DataRange1d\"},\"y_range\":{\"id\":\"c3c98343-c229-4651-99ac-b2e79ccd264a\",\"type\":\"DataRange1d\"}},\"id\":\"fa223b75-3433-4548-8291-731dae75b280\",\"subtype\":\"Figure\",\"type\":\"Plot\"},{\"attributes\":{\"callback\":null,\"column_names\":[\"album\",\"y\",\"x\"],\"data\":{\"album\":[\"The Life Of Pablo\",\"Yeezus\",\"Watch The Throne (Explicit Version)\",\"My Beautiful Dark Twisted Fantasy (Explicit Version)\",\"808s & Heartbreak\",\"Graduation (Explicit Version)\",\"Late Registration (Explicit Version)\",\"The College Dropout (Explicit)\"],\"x\":[2016,2013,2011,2010,2008,2007,2005,2004],\"y\":[94.0,78.0,70.0,80.0,74.0,80.0,78.0,76.0]}},\"id\":\"764ac36f-b18a-4443-9a5e-e20eca91d9aa\",\"type\":\"ColumnDataSource\"},{\"attributes\":{\"line_alpha\":{\"value\":0.1},\"line_color\":{\"value\":\"#1f77b4\"},\"line_dash\":[4,4],\"line_width\":{\"value\":2},\"x\":{\"field\":\"x\"},\"y\":{\"field\":\"y\"}},\"id\":\"030b033f-4b62-4bac-8299-a06a30628c36\",\"type\":\"Line\"},{\"attributes\":{\"callback\":null,\"column_names\":[\"y\",\"x\"],\"data\":{\"x\":[0.0,1.0,2.0,3.0,4.0,5.0,6.0,7.0,8.0,9.0,10.0,11.0,12.0,13.0,14.0,15.0,16.0,17.0,18.0,19.0,20.0,21.0,22.0,23.0,24.0,25.0,26.0,27.0,28.0,29.0,30.0,31.0,32.0,33.0,34.0,35.0,36.0,37.0,38.0,39.0,40.0,41.0,42.0,43.0,44.0,45.0,46.0,47.0,48.0,49.0,50.0,51.0,52.0,53.0,54.0,55.0,56.0,57.0,58.0,59.0,60.0,61.0,62.0,63.0,64.0,65.0,66.0,67.0,68.0,69.0,70.0,71.0,72.0,73.0,74.0,75.0,76.0,77.0,78.0,79.0,80.0,81.0,82.0,83.0,84.0,85.0,86.0,87.0,88.0,89.0,90.0,91.0,92.0,93.0,94.0,95.0,96.0,97.0,98.0,99.0],\"y\":[5.817063634290186,6.213079567299863,6.6090955003095395,7.005111433319216,7.401127366328894,7.797143299338571,8.193159232348247,8.589175165357926,8.985191098367602,9.38120703137728,9.777222964386956,10.173238897396633,10.56925483040631,10.965270763415987,11.361286696425665,11.75730262943534,12.153318562445019,12.549334495454694,12.945350428464373,13.34136636147405,13.737382294483726,14.133398227493403,14.52941416050308,14.925430093512757,15.321446026522434,15.71746195953211,16.113477892541788,16.509493825551466,16.905509758561145,17.30152569157082,17.697541624580495,18.093557557590174,18.489573490599852,18.885589423609527,19.281605356619202,19.67762128962888,20.07363722263856,20.469653155648235,20.865669088657913,21.26168502166759,21.657700954677267,22.053716887686942,22.44973282069662,22.8457487537063,23.241764686715975,23.637780619725653,24.03379655273533,24.429812485745007,24.825828418754682,25.22184435176436,25.617860284774036,26.013876217783714,26.40989215079339,26.805908083803068,27.201924016812747,27.597939949822422,27.9939558828321,28.389971815841776,28.785987748851454,29.18200368186113,29.578019614870808,29.974035547880483,30.37005148089016,30.766067413899837,31.162083346909515,31.558099279919194,31.95411521292887,32.35013114593855,32.746147078948226,33.142163011957905,33.53817894496758,33.934194877977255,34.33021081098693,34.726226743996605,35.122242677006284,35.51825861001596,35.91427454302564,36.31029047603532,36.706306409045,37.10232234205467,37.49833827506435,37.89435420807403,38.2903701410837,38.68638607409338,39.082402007103056,39.478417940112735,39.87443387312241,40.270449806132085,40.66646573914176,41.06248167215144,41.45849760516112,41.85451353817079,42.25052947118047,42.64654540419015,43.04256133719983,43.4385772702095,43.83459320321918,44.23060913622886,44.626625069238536,45.022641002248214]}},\"id\":\"c8868f0f-ef28-48f7-87ef-6d5891d68eef\",\"type\":\"ColumnDataSource\"},{\"attributes\":{\"callback\":null},\"id\":\"7e0e1203-838b-4a27-9a90-4dd82209c8b9\",\"type\":\"DataRange1d\"},{\"attributes\":{\"data_source\":{\"id\":\"fe4b7e06-aa55-4039-a744-d67068ac7370\",\"type\":\"ColumnDataSource\"},\"glyph\":{\"id\":\"ee81ce9f-5697-4fa9-b010-f1ad574f78cb\",\"type\":\"Circle\"},\"hover_glyph\":null,\"nonselection_glyph\":{\"id\":\"3b2ba5c6-b3b2-42b6-8733-3444fb9a958c\",\"type\":\"Circle\"},\"selection_glyph\":null},\"id\":\"5f8685ce-e305-4e12-9075-d2533c5b3bc5\",\"type\":\"GlyphRenderer\"},{\"attributes\":{\"line_alpha\":{\"value\":0.1},\"line_color\":{\"value\":\"#1f77b4\"},\"line_dash\":[4,4],\"line_width\":{\"value\":2},\"x\":{\"field\":\"x\"},\"y\":{\"field\":\"y\"}},\"id\":\"c0969225-72b3-49ed-8166-3424956c6714\",\"type\":\"Line\"},{\"attributes\":{\"data_source\":{\"id\":\"440cef14-eb19-4375-ad59-c6fef8bdd21e\",\"type\":\"ColumnDataSource\"},\"glyph\":{\"id\":\"a6ea9383-45e2-46fb-b74e-a8780cd5ce49\",\"type\":\"Line\"},\"hover_glyph\":null,\"nonselection_glyph\":{\"id\":\"694becec-fe2b-48b3-ae57-9c9cf7749fb1\",\"type\":\"Line\"},\"selection_glyph\":null},\"id\":\"508d0760-62aa-464d-b43a-9b9a1cc55384\",\"type\":\"GlyphRenderer\"},{\"attributes\":{\"legends\":[[\"Linear Regression\",[{\"id\":\"7abbbbbc-e459-41a4-8784-71dd5d28455c\",\"type\":\"GlyphRenderer\"}]],[\"One-to-One\",[{\"id\":\"5cbe49c5-3515-4cc5-987c-23efa1704582\",\"type\":\"GlyphRenderer\"}]]],\"plot\":{\"id\":\"42d95f82-ea66-4636-bfa0-901593efc674\",\"subtype\":\"Figure\",\"type\":\"Plot\"}},\"id\":\"69ff8c12-c1bf-4034-a3b2-a1f6122c5e88\",\"type\":\"Legend\"},{\"attributes\":{\"bottom\":{\"value\":0},\"fill_alpha\":{\"value\":0.1},\"fill_color\":{\"value\":\"#1f77b4\"},\"left\":{\"field\":\"left\"},\"line_alpha\":{\"value\":0.1},\"line_color\":{\"value\":\"#1f77b4\"},\"right\":{\"field\":\"right\"},\"top\":{\"field\":\"top\"}},\"id\":\"85750481-fa7e-4ba0-a85d-8767243961ff\",\"type\":\"Quad\"},{\"attributes\":{},\"id\":\"3611e479-ec6e-4acf-af7e-c970757af630\",\"type\":\"BasicTicker\"},{\"attributes\":{\"data_source\":{\"id\":\"8136faa4-8f3c-4250-aa7b-af77c0e0e30e\",\"type\":\"ColumnDataSource\"},\"glyph\":{\"id\":\"c61e531a-b177-4ffe-a5dd-27c7b2a532df\",\"type\":\"Line\"},\"hover_glyph\":null,\"nonselection_glyph\":{\"id\":\"4889dcd4-0232-4ab2-93c4-c80026527ad5\",\"type\":\"Line\"},\"selection_glyph\":null},\"id\":\"f04aeb9e-3b0b-4a8a-bc23-a0f18a372629\",\"type\":\"GlyphRenderer\"},{\"attributes\":{\"axis_label\":\"track\",\"formatter\":{\"id\":\"cfbf4ced-e2ce-4dbb-aa3c-e8307983f136\",\"type\":\"BasicTickFormatter\"},\"major_label_text_font_size\":{\"value\":\"0pt\"},\"plot\":{\"id\":\"f8d0ef78-8fe7-49c2-8a93-afe1dcadb6b4\",\"subtype\":\"Figure\",\"type\":\"Plot\"},\"ticker\":{\"id\":\"006f8a4a-f4f6-4555-95d7-3a5d699e7ec6\",\"type\":\"BasicTicker\"}},\"id\":\"6b73566d-716b-45a6-8684-ac72a95491c3\",\"type\":\"LinearAxis\"},{\"attributes\":{\"fill_alpha\":{\"value\":0.1},\"fill_color\":{\"value\":\"#1f77b4\"},\"line_alpha\":{\"value\":0.1},\"line_color\":{\"value\":\"#1f77b4\"},\"size\":{\"units\":\"screen\",\"value\":10},\"x\":{\"field\":\"x\"},\"y\":{\"field\":\"y\"}},\"id\":\"6dab1c8f-2d51-4af5-a3fc-2c30dec942f6\",\"type\":\"Circle\"},{\"attributes\":{\"callback\":null},\"id\":\"8ae55547-f68a-432e-ab4e-d99bad682da5\",\"type\":\"DataRange1d\"},{\"attributes\":{\"line_color\":{\"value\":\"red\"},\"line_dash\":[4,4],\"line_width\":{\"value\":2},\"x\":{\"field\":\"x\"},\"y\":{\"field\":\"y\"}},\"id\":\"e5f6bdd8-3b2a-476d-90f5-39b02ff73b7f\",\"type\":\"Line\"},{\"attributes\":{\"line_color\":{\"value\":\"red\"},\"line_dash\":[4,4],\"line_width\":{\"value\":2},\"x\":{\"field\":\"x\"},\"y\":{\"field\":\"y\"}},\"id\":\"02229556-d6a6-466f-834c-d9848cdad97f\",\"type\":\"Line\"},{\"attributes\":{\"callback\":null,\"column_names\":[\"album\",\"track\",\"y\",\"x\",\"line_color\",\"fill_color\"],\"data\":{\"album\":[\"Magna Carta... Holy Grail (Explicit Version)\",\"Magna Carta... Holy Grail (Explicit Version)\",\"Magna Carta... Holy Grail (Explicit Version)\",\"Magna Carta... Holy Grail (Explicit Version)\",\"Magna Carta... Holy Grail (Explicit Version)\",\"Magna Carta... Holy Grail (Explicit Version)\",\"Magna Carta... Holy Grail (Explicit Version)\",\"Magna Carta... Holy Grail (Explicit Version)\",\"Magna Carta... Holy Grail (Explicit Version)\",\"Magna Carta... Holy Grail (Explicit Version)\",\"Magna Carta... Holy Grail (Explicit Version)\",\"Magna Carta... Holy Grail (Explicit Version)\",\"Magna Carta... Holy Grail (Explicit Version)\",\"Magna Carta... Holy Grail (Explicit Version)\",\"Magna Carta... Holy Grail (Explicit Version)\",\"Magna Carta... Holy Grail (Explicit Version)\",\"Watch The Throne (Explicit Version)\",\"Watch The Throne (Explicit Version)\",\"Watch The Throne (Explicit Version)\",\"Watch The Throne (Explicit Version)\",\"Watch The Throne (Explicit Version)\",\"Watch The Throne (Explicit Version)\",\"Watch The Throne (Explicit Version)\",\"Watch The Throne (Explicit Version)\",\"Watch The Throne (Explicit Version)\",\"Watch The Throne (Explicit Version)\",\"Watch The Throne (Explicit Version)\",\"Watch The Throne (Explicit Version)\",\"American Gangster (Explicit Version)\",\"American Gangster (Explicit Version)\",\"American Gangster (Explicit Version)\",\"American Gangster (Explicit Version)\",\"American Gangster (Explicit Version)\",\"American Gangster (Explicit Version)\",\"American Gangster (Explicit Version)\",\"American Gangster (Explicit Version)\",\"American Gangster (Explicit Version)\",\"American Gangster (Explicit Version)\",\"American Gangster (Explicit Version)\",\"American Gangster (Explicit Version)\",\"American Gangster (Explicit Version)\",\"American Gangster (Explicit Version)\",\"American Gangster (Explicit Version)\",\"Kingdom Come\",\"Kingdom Come\",\"Kingdom Come\",\"Kingdom Come\",\"Kingdom Come\",\"Kingdom Come\",\"Kingdom Come\",\"Kingdom Come\",\"Kingdom Come\",\"Kingdom Come\",\"Kingdom Come\",\"Kingdom Come\",\"Kingdom Come\",\"Kingdom Come\",\"Kingdom Come\",\"Kingdom Come\",\"Kingdom Come\",\"Kingdom Come\",\"Kingdom Come\",\"Kingdom Come\",\"Kingdom Come\",\"Kingdom Come\",\"Kingdom Come\",\"Kingdom Come\",\"Kingdom Come\",\"Kingdom Come\",\"Kingdom Come\",\"Kingdom Come\",\"Collision Course\",\"Collision Course\",\"Collision Course\",\"Collision Course\",\"Collision Course\",\"Collision Course\",\"Unfinished Business (Explicit)\",\"Unfinished Business (Explicit)\",\"Unfinished Business (Explicit)\",\"Unfinished Business (Explicit)\",\"Unfinished Business (Explicit)\",\"Unfinished Business (Explicit)\",\"Unfinished Business (Explicit)\",\"Unfinished Business (Explicit)\",\"Unfinished Business (Explicit)\",\"Unfinished Business (Explicit)\",\"Unfinished Business (Explicit)\",\"The Black Album (Explicit)\",\"The Black Album (Explicit)\",\"The Black Album (Explicit)\",\"The Black Album (Explicit)\",\"The Black Album (Explicit)\",\"The Black Album (Explicit)\",\"The Black Album (Explicit)\",\"The Black Album (Explicit)\",\"The Black Album (Explicit)\",\"The Black Album (Explicit)\",\"The Black Album (Explicit)\",\"The Black Album (Explicit)\",\"The Black Album (Explicit)\",\"The Black Album (Explicit)\",\"The Best Of Both Worlds (Explicit Version)\",\"The Best Of Both Worlds (Explicit Version)\",\"The Best Of Both Worlds (Explicit Version)\",\"The Best Of Both Worlds (Explicit Version)\",\"The Best Of Both Worlds (Explicit Version)\",\"The Best Of Both Worlds (Explicit Version)\",\"The Best Of Both Worlds (Explicit Version)\",\"The Best Of Both Worlds (Explicit Version)\",\"The Best Of Both Worlds (Explicit Version)\",\"The Best Of Both Worlds (Explicit Version)\",\"The Best Of Both Worlds (Explicit Version)\",\"The Best Of Both Worlds (Explicit Version)\",\"The Best Of Both Worlds (Explicit Version)\"],\"fill_color\":[\"blue\",\"blue\",\"blue\",\"blue\",\"blue\",\"blue\",\"blue\",\"blue\",\"blue\",\"blue\",\"blue\",\"blue\",\"blue\",\"blue\",\"blue\",\"blue\",\"orange\",\"orange\",\"orange\",\"orange\",\"orange\",\"orange\",\"orange\",\"orange\",\"orange\",\"orange\",\"orange\",\"orange\",\"red\",\"red\",\"red\",\"red\",\"red\",\"red\",\"red\",\"red\",\"red\",\"red\",\"red\",\"red\",\"red\",\"red\",\"red\",\"green\",\"green\",\"green\",\"green\",\"green\",\"green\",\"green\",\"green\",\"green\",\"green\",\"green\",\"green\",\"green\",\"green\",\"green\",\"green\",\"green\",\"green\",\"green\",\"green\",\"green\",\"green\",\"green\",\"green\",\"green\",\"green\",\"green\",\"green\",\"pink\",\"pink\",\"pink\",\"pink\",\"pink\",\"pink\",\"black\",\"black\",\"black\",\"black\",\"black\",\"black\",\"black\",\"black\",\"black\",\"black\",\"black\",\"cyan\",\"cyan\",\"cyan\",\"cyan\",\"cyan\",\"cyan\",\"cyan\",\"cyan\",\"cyan\",\"cyan\",\"cyan\",\"cyan\",\"cyan\",\"cyan\",\"purple\",\"purple\",\"purple\",\"purple\",\"purple\",\"purple\",\"purple\",\"purple\",\"purple\",\"purple\",\"purple\",\"purple\",\"purple\"],\"line_color\":[\"blue\",\"blue\",\"blue\",\"blue\",\"blue\",\"blue\",\"blue\",\"blue\",\"blue\",\"blue\",\"blue\",\"blue\",\"blue\",\"blue\",\"blue\",\"blue\",\"orange\",\"orange\",\"orange\",\"orange\",\"orange\",\"orange\",\"orange\",\"orange\",\"orange\",\"orange\",\"orange\",\"orange\",\"red\",\"red\",\"red\",\"red\",\"red\",\"red\",\"red\",\"red\",\"red\",\"red\",\"red\",\"red\",\"red\",\"red\",\"red\",\"green\",\"green\",\"green\",\"green\",\"green\",\"green\",\"green\",\"green\",\"green\",\"green\",\"green\",\"green\",\"green\",\"green\",\"green\",\"green\",\"green\",\"green\",\"green\",\"green\",\"green\",\"green\",\"green\",\"green\",\"green\",\"green\",\"green\",\"green\",\"pink\",\"pink\",\"pink\",\"pink\",\"pink\",\"pink\",\"black\",\"black\",\"black\",\"black\",\"black\",\"black\",\"black\",\"black\",\"black\",\"black\",\"black\",\"cyan\",\"cyan\",\"cyan\",\"cyan\",\"cyan\",\"cyan\",\"cyan\",\"cyan\",\"cyan\",\"cyan\",\"cyan\",\"cyan\",\"cyan\",\"cyan\",\"purple\",\"purple\",\"purple\",\"purple\",\"purple\",\"purple\",\"purple\",\"purple\",\"purple\",\"purple\",\"purple\",\"purple\",\"purple\"],\"track\":[\"Holy Grail\",\"Picasso Baby\",\"Tom Ford\",\"F*ckwithmeyouknowigotit\",\"Oceans\",\"F.U.T.W.\",\"Somewhereinamerica\",\"Crown\",\"Heaven\",\"Versus\",\"Part II (On The Run)\",\"Beach Is Better\",\"BBC\",\"JAY Z Blue\",\"La Familia\",\"Nickels And Dimes\",\"No Church In The Wild\",\"Lift Off\",\"Ni**as In Paris\",\"Otis\",\"Gotta Have It\",\"New Day\",\"That's My Bitch\",\"Welcome To The Jungle\",\"Who Gon Stop Me\",\"Murder To Excellence\",\"Made In America\",\"Why I Love You\",\"Intro\",\"Pray\",\"American Dreamin'\",\"Hello Brooklyn 2.0\",\"No Hook\",\"Roc Boys (And The Winner Is)...\",\"Sweet\",\"I Know\",\"Party Life\",\"Ignorant Sh*t\",\"Say Hello\",\"Success\",\"Fallin'\",\"Blue Magic\",\"American Gangster\",\"The Prelude\",\"Oh My God\",\"Kingdom Come\",\"Show Me What You Got\",\"Lost One\",\"Do U Wanna Ride\",\"30 Something\",\"I Made It\",\"Anything\",\"Hollywood\",\"Trouble\",\"Dig A Hole\",\"Minority Report\",\"Beach Chair\",\"The Prelude - Album Version (Edited)\",\"Oh My God - Album Version (Edited)\",\"Kingdom Come - Album Version (Edited)\",\"Show Me What You Got\",\"Lost One - Album Version (Edited)\",\"Do U Wanna Ride - Album Version (Edited)\",\"30 Something - Album Version (Edited)\",\"I Made It - Album Version (Edited)\",\"Anything - Album Version (Edited)\",\"Hollywood - Album Version (Edited)\",\"Trouble - Album Version (Edited)\",\"Dig A Hole - Album Version (Edited)\",\"Minority Report - Album Version (Edited)\",\"Beach Chair - Album Version (Edited)\",\"Dirt Off Your Shoulder/Lying From You\",\"Big Pimpin'/Papercut\",\"Jigga What/Faint\",\"Numb/Encore\",\"Izzo/In The End\",\"Points Of Authority/99 Problems/One Step Closer\",\"The Return\",\"Big Chips\",\"We Got Em Goin'\",\"She's Coming Home With Me\",\"Feelin' You In Stereo\",\"Stop\",\"Mo' Money\",\"Pretty Girls\",\"Break Up (That's All We Do)\",\"Don't Let Me Die\",\"The Return (Remix)\",\"Interlude\",\"December 4th\",\"What More Can I Say\",\"Encore\",\"Change Clothes\",\"Dirt Off Your Shoulder\",\"Threat\",\"Moment Of Clarity\",\"99 Problems\",\"Interlude\",\"Justify My Thug\",\"Lucifer\",\"Allure\",\"My 1st Song\",\"The Best Of Both Worlds\",\"Take You Home With Me A.K.A. Body\",\"Break Up To Make Up\",\"It Ain't Personal\",\"The Streets\",\"Green Light\",\"Naked\",\"Shake Ya Body\",\"Somebody's Girl\",\"Get This Money\",\"Shorty\",\"Honey\",\"P***y\"],\"x\":[0,1,2,3,4,5,6,7,8,9,10,11,12,13,14,15,16,17,18,19,20,21,22,23,24,25,26,27,28,29,30,31,32,33,34,35,36,37,38,39,40,41,42,43,44,45,46,47,48,49,50,51,52,53,54,55,56,57,58,59,60,61,62,63,64,65,66,67,68,69,70,71,72,73,74,75,76,77,78,79,80,81,82,83,84,85,86,87,88,89,90,91,92,93,94,95,96,97,98,99,100,101,102,103,104,105,106,107,108,109,110,111,112,113,114],\"y\":[72.0,52.0,66.0,64.0,54.0,51.0,53.0,52.0,50.0,46.0,58.0,51.0,49.0,47.0,48.0,47.0,59.0,52.0,58.0,58.0,58.0,50.0,49.0,50.0,59.0,52.0,50.0,52.0,35.0,40.0,41.0,41.0,40.0,49.0,38.0,43.0,40.0,42.0,42.0,41.0,40.0,41.0,38.0,39.0,41.0,42.0,44.0,50.0,40.0,44.0,38.0,38.0,38.0,39.0,33.0,36.0,40.0,9.0,13.0,15.0,24.0,24.0,10.0,18.0,8.0,16.0,15.0,9.0,4.0,8.0,14.0,35.0,32.0,31.0,42.0,32.0,34.0,0.0,29.0,24.0,26.0,28.0,24.0,27.0,25.0,24.0,25.0,23.0,40.0,47.0,49.0,50.0,49.0,63.0,45.0,55.0,65.0,48.0,45.0,55.0,46.0,49.0,38.0,39.0,32.0,32.0,32.0,29.0,32.0,30.0,44.0,32.0,31.0,32.0,30.0]}},\"id\":\"186cc859-dcf1-479e-b089-a737d9c534b5\",\"type\":\"ColumnDataSource\"},{\"attributes\":{\"overlay\":{\"id\":\"d6bf8068-5729-4796-a4fc-c12031e9eff9\",\"type\":\"BoxAnnotation\"},\"plot\":{\"id\":\"87004a05-fd1e-4435-ab9a-c02034cd2ae0\",\"subtype\":\"Figure\",\"type\":\"Plot\"}},\"id\":\"3dfacaba-d839-4cb5-a402-271cb7aa77f1\",\"type\":\"BoxZoomTool\"},{\"attributes\":{},\"id\":\"8a8c08bd-b223-49c6-b238-f74f1343dfb2\",\"type\":\"BasicTicker\"},{\"attributes\":{\"fill_alpha\":{\"value\":0.1},\"fill_color\":{\"value\":\"#1f77b4\"},\"line_alpha\":{\"value\":0.1},\"line_color\":{\"value\":\"#1f77b4\"},\"size\":{\"units\":\"screen\",\"value\":10},\"x\":{\"field\":\"x\"},\"y\":{\"field\":\"y\"}},\"id\":\"8e7cf267-4730-42f0-b396-60712bebbf77\",\"type\":\"Circle\"},{\"attributes\":{\"data_source\":{\"id\":\"5ad01f00-7eb5-4cfb-973d-039da7551c99\",\"type\":\"ColumnDataSource\"},\"glyph\":{\"id\":\"109f661a-ebcd-47cb-85a2-355d79c4b4d6\",\"type\":\"Line\"},\"hover_glyph\":null,\"nonselection_glyph\":{\"id\":\"d14ca55d-e26d-4dc1-924a-8e3078c7fda8\",\"type\":\"Line\"},\"selection_glyph\":null},\"id\":\"66f4f4d0-2264-499b-ae44-5b5964ef92fa\",\"type\":\"GlyphRenderer\"},{\"attributes\":{\"fill_color\":{\"value\":\"gold\"},\"line_color\":{\"value\":\"gold\"},\"size\":{\"units\":\"screen\",\"value\":12},\"x\":{\"field\":\"x\"},\"y\":{\"field\":\"y\"}},\"id\":\"54537b9a-d39c-40b2-9b4e-b5f0c2650432\",\"type\":\"Circle\"},{\"attributes\":{\"plot\":{\"id\":\"f0cbd62f-278f-4516-a395-9babb5082038\",\"subtype\":\"Figure\",\"type\":\"Plot\"}},\"id\":\"5c3caa61-b837-4aee-b55c-65a097b37e3c\",\"type\":\"WheelZoomTool\"},{\"attributes\":{\"bottom\":{\"value\":0},\"fill_alpha\":{\"value\":0.1},\"fill_color\":{\"value\":\"#1f77b4\"},\"left\":{\"field\":\"left\"},\"line_alpha\":{\"value\":0.1},\"line_color\":{\"value\":\"#1f77b4\"},\"right\":{\"field\":\"right\"},\"top\":{\"field\":\"top\"}},\"id\":\"98b075fa-9806-4962-933a-288b9071324c\",\"type\":\"Quad\"},{\"attributes\":{\"plot\":{\"id\":\"db14c567-64ba-4e05-b6f1-bb87ce6bf4f1\",\"subtype\":\"Figure\",\"type\":\"Plot\"},\"ticker\":{\"id\":\"96e6bccd-5113-4ba7-b159-5a9d5f2fe46a\",\"type\":\"BasicTicker\"}},\"id\":\"3218c748-b433-465c-9fdf-9066b43d7820\",\"type\":\"Grid\"},{\"attributes\":{\"data_source\":{\"id\":\"579afc5b-a840-49c6-93f8-f531c14be932\",\"type\":\"ColumnDataSource\"},\"glyph\":{\"id\":\"6eb7cb35-2895-4581-82ea-ff334643fbb3\",\"type\":\"Line\"},\"hover_glyph\":null,\"nonselection_glyph\":{\"id\":\"6347bea5-8025-4f1f-bd20-69fd0011cf27\",\"type\":\"Line\"},\"selection_glyph\":null},\"id\":\"a9953bc2-c101-4e30-a9c0-eed42a5bc1ab\",\"type\":\"GlyphRenderer\"},{\"attributes\":{\"callback\":null},\"id\":\"4bc1dd8b-bec4-4e4c-acdb-5d84dcb726e4\",\"type\":\"ColumnDataSource\"},{\"attributes\":{\"callback\":null,\"column_names\":[\"y\",\"x\"],\"data\":{\"x\":[-1,45],\"y\":[74.3882298853647,74.3882298853647]}},\"id\":\"09865b41-2d7b-43a0-8362-6cc3f43fb186\",\"type\":\"ColumnDataSource\"},{\"attributes\":{\"callback\":null,\"column_names\":[\"album\",\"track\",\"y\",\"x\",\"line_color\",\"fill_color\"],\"data\":{\"album\":[\"Magna Carta... Holy Grail (Explicit Version)\",\"Magna Carta... Holy Grail (Explicit Version)\",\"Magna Carta... Holy Grail (Explicit Version)\",\"Magna Carta... Holy Grail (Explicit Version)\",\"Magna Carta... Holy Grail (Explicit Version)\",\"Magna Carta... Holy Grail (Explicit Version)\",\"Magna Carta... Holy Grail (Explicit Version)\",\"Magna Carta... Holy Grail (Explicit Version)\",\"Magna Carta... Holy Grail (Explicit Version)\",\"Magna Carta... Holy Grail (Explicit Version)\",\"Magna Carta... Holy Grail (Explicit Version)\",\"Magna Carta... Holy Grail (Explicit Version)\",\"Magna Carta... Holy Grail (Explicit Version)\",\"Magna Carta... Holy Grail (Explicit Version)\",\"Magna Carta... Holy Grail (Explicit Version)\",\"Magna Carta... Holy Grail (Explicit Version)\",\"Watch The Throne (Explicit Version)\",\"Watch The Throne (Explicit Version)\",\"Watch The Throne (Explicit Version)\",\"Watch The Throne (Explicit Version)\",\"Watch The Throne (Explicit Version)\",\"Watch The Throne (Explicit Version)\",\"Watch The Throne (Explicit Version)\",\"Watch The Throne (Explicit Version)\",\"Watch The Throne (Explicit Version)\",\"Watch The Throne (Explicit Version)\",\"Watch The Throne (Explicit Version)\",\"Watch The Throne (Explicit Version)\",\"American Gangster (Explicit Version)\",\"American Gangster (Explicit Version)\",\"American Gangster (Explicit Version)\",\"American Gangster (Explicit Version)\",\"American Gangster (Explicit Version)\",\"American Gangster (Explicit Version)\",\"American Gangster (Explicit Version)\",\"American Gangster (Explicit Version)\",\"American Gangster (Explicit Version)\",\"American Gangster (Explicit Version)\",\"American Gangster (Explicit Version)\",\"American Gangster (Explicit Version)\",\"American Gangster (Explicit Version)\",\"American Gangster (Explicit Version)\",\"American Gangster (Explicit Version)\",\"Kingdom Come\",\"Kingdom Come\",\"Kingdom Come\",\"Kingdom Come\",\"Kingdom Come\",\"Kingdom Come\",\"Kingdom Come\",\"Kingdom Come\",\"Kingdom Come\",\"Kingdom Come\",\"Kingdom Come\",\"Kingdom Come\",\"Kingdom Come\",\"Kingdom Come\",\"Kingdom Come\",\"Kingdom Come\",\"Kingdom Come\",\"Kingdom Come\",\"Kingdom Come\",\"Kingdom Come\",\"Kingdom Come\",\"Kingdom Come\",\"Kingdom Come\",\"Kingdom Come\",\"Kingdom Come\",\"Kingdom Come\",\"Kingdom Come\",\"Kingdom Come\",\"Collision Course\",\"Collision Course\",\"Collision Course\",\"Collision Course\",\"Collision Course\",\"Collision Course\",\"Unfinished Business (Explicit)\",\"Unfinished Business (Explicit)\",\"Unfinished Business (Explicit)\",\"Unfinished Business (Explicit)\",\"Unfinished Business (Explicit)\",\"Unfinished Business (Explicit)\",\"Unfinished Business (Explicit)\",\"Unfinished Business (Explicit)\",\"Unfinished Business (Explicit)\",\"Unfinished Business (Explicit)\",\"Unfinished Business (Explicit)\",\"The Black Album (Explicit)\",\"The Black Album (Explicit)\",\"The Black Album (Explicit)\",\"The Black Album (Explicit)\",\"The Black Album (Explicit)\",\"The Black Album (Explicit)\",\"The Black Album (Explicit)\",\"The Black Album (Explicit)\",\"The Black Album (Explicit)\",\"The Black Album (Explicit)\",\"The Black Album (Explicit)\",\"The Black Album (Explicit)\",\"The Black Album (Explicit)\",\"The Black Album (Explicit)\",\"The Best Of Both Worlds (Explicit Version)\",\"The Best Of Both Worlds (Explicit Version)\",\"The Best Of Both Worlds (Explicit Version)\",\"The Best Of Both Worlds (Explicit Version)\",\"The Best Of Both Worlds (Explicit Version)\",\"The Best Of Both Worlds (Explicit Version)\",\"The Best Of Both Worlds (Explicit Version)\",\"The Best Of Both Worlds (Explicit Version)\",\"The Best Of Both Worlds (Explicit Version)\",\"The Best Of Both Worlds (Explicit Version)\",\"The Best Of Both Worlds (Explicit Version)\",\"The Best Of Both Worlds (Explicit Version)\",\"The Best Of Both Worlds (Explicit Version)\"],\"fill_color\":[\"blue\",\"blue\",\"blue\",\"blue\",\"blue\",\"blue\",\"blue\",\"blue\",\"blue\",\"blue\",\"blue\",\"blue\",\"blue\",\"blue\",\"blue\",\"blue\",\"orange\",\"orange\",\"orange\",\"orange\",\"orange\",\"orange\",\"orange\",\"orange\",\"orange\",\"orange\",\"orange\",\"orange\",\"red\",\"red\",\"red\",\"red\",\"red\",\"red\",\"red\",\"red\",\"red\",\"red\",\"red\",\"red\",\"red\",\"red\",\"red\",\"green\",\"green\",\"green\",\"green\",\"green\",\"green\",\"green\",\"green\",\"green\",\"green\",\"green\",\"green\",\"green\",\"green\",\"green\",\"green\",\"green\",\"green\",\"green\",\"green\",\"green\",\"green\",\"green\",\"green\",\"green\",\"green\",\"green\",\"green\",\"pink\",\"pink\",\"pink\",\"pink\",\"pink\",\"pink\",\"black\",\"black\",\"black\",\"black\",\"black\",\"black\",\"black\",\"black\",\"black\",\"black\",\"black\",\"cyan\",\"cyan\",\"cyan\",\"cyan\",\"cyan\",\"cyan\",\"cyan\",\"cyan\",\"cyan\",\"cyan\",\"cyan\",\"cyan\",\"cyan\",\"cyan\",\"purple\",\"purple\",\"purple\",\"purple\",\"purple\",\"purple\",\"purple\",\"purple\",\"purple\",\"purple\",\"purple\",\"purple\",\"purple\"],\"line_color\":[\"blue\",\"blue\",\"blue\",\"blue\",\"blue\",\"blue\",\"blue\",\"blue\",\"blue\",\"blue\",\"blue\",\"blue\",\"blue\",\"blue\",\"blue\",\"blue\",\"orange\",\"orange\",\"orange\",\"orange\",\"orange\",\"orange\",\"orange\",\"orange\",\"orange\",\"orange\",\"orange\",\"orange\",\"red\",\"red\",\"red\",\"red\",\"red\",\"red\",\"red\",\"red\",\"red\",\"red\",\"red\",\"red\",\"red\",\"red\",\"red\",\"green\",\"green\",\"green\",\"green\",\"green\",\"green\",\"green\",\"green\",\"green\",\"green\",\"green\",\"green\",\"green\",\"green\",\"green\",\"green\",\"green\",\"green\",\"green\",\"green\",\"green\",\"green\",\"green\",\"green\",\"green\",\"green\",\"green\",\"green\",\"pink\",\"pink\",\"pink\",\"pink\",\"pink\",\"pink\",\"black\",\"black\",\"black\",\"black\",\"black\",\"black\",\"black\",\"black\",\"black\",\"black\",\"black\",\"cyan\",\"cyan\",\"cyan\",\"cyan\",\"cyan\",\"cyan\",\"cyan\",\"cyan\",\"cyan\",\"cyan\",\"cyan\",\"cyan\",\"cyan\",\"cyan\",\"purple\",\"purple\",\"purple\",\"purple\",\"purple\",\"purple\",\"purple\",\"purple\",\"purple\",\"purple\",\"purple\",\"purple\",\"purple\"],\"track\":[\"Holy Grail\",\"Picasso Baby\",\"Tom Ford\",\"F*ckwithmeyouknowigotit\",\"Oceans\",\"F.U.T.W.\",\"Somewhereinamerica\",\"Crown\",\"Heaven\",\"Versus\",\"Part II (On The Run)\",\"Beach Is Better\",\"BBC\",\"JAY Z Blue\",\"La Familia\",\"Nickels And Dimes\",\"No Church In The Wild\",\"Lift Off\",\"Ni**as In Paris\",\"Otis\",\"Gotta Have It\",\"New Day\",\"That's My Bitch\",\"Welcome To The Jungle\",\"Who Gon Stop Me\",\"Murder To Excellence\",\"Made In America\",\"Why I Love You\",\"Intro\",\"Pray\",\"American Dreamin'\",\"Hello Brooklyn 2.0\",\"No Hook\",\"Roc Boys (And The Winner Is)...\",\"Sweet\",\"I Know\",\"Party Life\",\"Ignorant Sh*t\",\"Say Hello\",\"Success\",\"Fallin'\",\"Blue Magic\",\"American Gangster\",\"The Prelude\",\"Oh My God\",\"Kingdom Come\",\"Show Me What You Got\",\"Lost One\",\"Do U Wanna Ride\",\"30 Something\",\"I Made It\",\"Anything\",\"Hollywood\",\"Trouble\",\"Dig A Hole\",\"Minority Report\",\"Beach Chair\",\"The Prelude - Album Version (Edited)\",\"Oh My God - Album Version (Edited)\",\"Kingdom Come - Album Version (Edited)\",\"Show Me What You Got\",\"Lost One - Album Version (Edited)\",\"Do U Wanna Ride - Album Version (Edited)\",\"30 Something - Album Version (Edited)\",\"I Made It - Album Version (Edited)\",\"Anything - Album Version (Edited)\",\"Hollywood - Album Version (Edited)\",\"Trouble - Album Version (Edited)\",\"Dig A Hole - Album Version (Edited)\",\"Minority Report - Album Version (Edited)\",\"Beach Chair - Album Version (Edited)\",\"Dirt Off Your Shoulder/Lying From You\",\"Big Pimpin'/Papercut\",\"Jigga What/Faint\",\"Numb/Encore\",\"Izzo/In The End\",\"Points Of Authority/99 Problems/One Step Closer\",\"The Return\",\"Big Chips\",\"We Got Em Goin'\",\"She's Coming Home With Me\",\"Feelin' You In Stereo\",\"Stop\",\"Mo' Money\",\"Pretty Girls\",\"Break Up (That's All We Do)\",\"Don't Let Me Die\",\"The Return (Remix)\",\"Interlude\",\"December 4th\",\"What More Can I Say\",\"Encore\",\"Change Clothes\",\"Dirt Off Your Shoulder\",\"Threat\",\"Moment Of Clarity\",\"99 Problems\",\"Interlude\",\"Justify My Thug\",\"Lucifer\",\"Allure\",\"My 1st Song\",\"The Best Of Both Worlds\",\"Take You Home With Me A.K.A. Body\",\"Break Up To Make Up\",\"It Ain't Personal\",\"The Streets\",\"Green Light\",\"Naked\",\"Shake Ya Body\",\"Somebody's Girl\",\"Get This Money\",\"Shorty\",\"Honey\",\"P***y\"],\"x\":[0,1,2,3,4,5,6,7,8,9,10,11,12,13,14,15,16,17,18,19,20,21,22,23,24,25,26,27,28,29,30,31,32,33,34,35,36,37,38,39,40,41,42,43,44,45,46,47,48,49,50,51,52,53,54,55,56,57,58,59,60,61,62,63,64,65,66,67,68,69,70,71,72,73,74,75,76,77,78,79,80,81,82,83,84,85,86,87,88,89,90,91,92,93,94,95,96,97,98,99,100,101,102,103,104,105,106,107,108,109,110,111,112,113,114],\"y\":[72.0,52.0,66.0,64.0,54.0,51.0,53.0,52.0,50.0,46.0,58.0,51.0,49.0,47.0,48.0,47.0,59.0,52.0,58.0,58.0,58.0,50.0,49.0,50.0,59.0,52.0,50.0,52.0,35.0,40.0,41.0,41.0,40.0,49.0,38.0,43.0,40.0,42.0,42.0,41.0,40.0,41.0,38.0,39.0,41.0,42.0,44.0,50.0,40.0,44.0,38.0,38.0,38.0,39.0,33.0,36.0,40.0,9.0,13.0,15.0,24.0,24.0,10.0,18.0,8.0,16.0,15.0,9.0,4.0,8.0,14.0,35.0,32.0,31.0,42.0,32.0,34.0,0.0,29.0,24.0,26.0,28.0,24.0,27.0,25.0,24.0,25.0,23.0,40.0,47.0,49.0,50.0,49.0,63.0,45.0,55.0,65.0,48.0,45.0,55.0,46.0,49.0,38.0,39.0,32.0,32.0,32.0,29.0,32.0,30.0,44.0,32.0,31.0,32.0,30.0]}},\"id\":\"1953078a-84af-4f44-8b46-2b4b50eff9f7\",\"type\":\"ColumnDataSource\"},{\"attributes\":{\"data_source\":{\"id\":\"ecd79337-6dfe-466a-9e5d-2e2496568a25\",\"type\":\"ColumnDataSource\"},\"glyph\":{\"id\":\"7feb5b98-27f4-4d62-ae06-118f79104d43\",\"type\":\"Line\"},\"hover_glyph\":null,\"nonselection_glyph\":{\"id\":\"7a4a2bf5-5657-473a-9ad2-7963a6875f46\",\"type\":\"Line\"},\"selection_glyph\":null},\"id\":\"d5630ed1-d224-449e-bc5b-b8bd30c00b45\",\"type\":\"GlyphRenderer\"},{\"attributes\":{\"callback\":null},\"id\":\"d290438e-1e67-44fd-952b-56e424967d62\",\"type\":\"DataRange1d\"},{\"attributes\":{},\"id\":\"cfbf4ced-e2ce-4dbb-aa3c-e8307983f136\",\"type\":\"BasicTickFormatter\"},{\"attributes\":{},\"id\":\"50386a82-176b-4c46-8ae3-12d6ecd5cd99\",\"type\":\"BasicTickFormatter\"},{\"attributes\":{\"callback\":null,\"column_names\":[\"y\",\"x\"],\"data\":{\"x\":[2003,2017],\"y\":[72.19732878895942,72.19732878895942]}},\"id\":\"a7af213c-76d3-4a20-b595-1e9e5ae8d795\",\"type\":\"ColumnDataSource\"},{\"attributes\":{\"fill_alpha\":{\"value\":0.1},\"fill_color\":{\"value\":\"#1f77b4\"},\"line_alpha\":{\"value\":0.1},\"line_color\":{\"value\":\"#1f77b4\"},\"size\":{\"units\":\"screen\",\"value\":12},\"x\":{\"field\":\"x\"},\"y\":{\"field\":\"y\"}},\"id\":\"1dbb8f3e-eec3-494e-b721-8b49b90f3248\",\"type\":\"Circle\"},{\"attributes\":{},\"id\":\"022fdb79-819b-45c0-8e9b-939188ce8e69\",\"type\":\"BasicTicker\"},{\"attributes\":{\"plot\":{\"id\":\"906090f5-7fc8-4666-bdc4-2cfa29be15ef\",\"subtype\":\"Figure\",\"type\":\"Plot\"}},\"id\":\"b9e7569f-778b-40c5-967a-314beba73a9b\",\"type\":\"WheelZoomTool\"},{\"attributes\":{\"fill_alpha\":{\"value\":0.4},\"fill_color\":{\"value\":\"black\"},\"size\":{\"units\":\"screen\",\"value\":7},\"x\":{\"field\":\"x\"},\"y\":{\"field\":\"y\"}},\"id\":\"94c6f3bf-1f3f-43ce-9bd6-c0f525e9d8c3\",\"type\":\"Circle\"},{\"attributes\":{\"axis_label\":\"Mean Popularity of Collaboration\",\"formatter\":{\"id\":\"7b86a00c-80d6-41fa-a0c2-fab1f1f7f415\",\"type\":\"BasicTickFormatter\"},\"plot\":{\"id\":\"58361c2d-9a21-4f09-9573-41312e1214d0\",\"subtype\":\"Figure\",\"type\":\"Plot\"},\"ticker\":{\"id\":\"373fa728-26d7-4f4e-96a9-448c4077bb25\",\"type\":\"BasicTicker\"}},\"id\":\"92466c64-1383-4426-9316-4a9ebc4d7019\",\"type\":\"LinearAxis\"},{\"attributes\":{\"below\":[{\"id\":\"ef01d7f4-c3e9-4ff4-b937-e12f9cd1e27e\",\"type\":\"LinearAxis\"}],\"left\":[{\"id\":\"8dbd4c0d-2840-4849-9676-5127040ceae8\",\"type\":\"LinearAxis\"}],\"plot_height\":400,\"renderers\":[{\"id\":\"ef01d7f4-c3e9-4ff4-b937-e12f9cd1e27e\",\"type\":\"LinearAxis\"},{\"id\":\"dd6fc76a-d707-4636-8e27-a9bac87b6681\",\"type\":\"Grid\"},{\"id\":\"8dbd4c0d-2840-4849-9676-5127040ceae8\",\"type\":\"LinearAxis\"},{\"id\":\"754bc869-d7ca-4ebd-865a-576809cbb1fc\",\"type\":\"Grid\"},{\"id\":\"4cb35d78-0b88-403f-9e48-d62cd2d0e4c0\",\"type\":\"BoxAnnotation\"},{\"id\":\"27964b6e-be2d-45fe-b261-460289046e4f\",\"type\":\"Legend\"},{\"id\":\"03b245c2-8859-449b-933c-78e2c86874fc\",\"type\":\"GlyphRenderer\"},{\"id\":\"0401bbee-5a05-40b6-95ed-ae1e97c8db3f\",\"type\":\"GlyphRenderer\"}],\"tool_events\":{\"id\":\"0127af6f-a87f-4bd2-956f-3b8c598ba321\",\"type\":\"ToolEvents\"},\"tools\":[{\"id\":\"3cfadfda-c85a-45af-ab92-ba5911ce31f9\",\"type\":\"PanTool\"},{\"id\":\"807704b3-49cb-4451-9233-e4578351eed5\",\"type\":\"WheelZoomTool\"},{\"id\":\"e2e9660b-eaa5-4d35-a3db-2529bcc3a2d3\",\"type\":\"BoxZoomTool\"},{\"id\":\"ab6bce07-1e31-43ce-a090-efc67cd873f2\",\"type\":\"PreviewSaveTool\"},{\"id\":\"8dd32684-51b1-4223-992f-84c80bb7292e\",\"type\":\"ResizeTool\"},{\"id\":\"61e3b6a9-01bf-4b2c-9061-4f225c8210e4\",\"type\":\"ResetTool\"},{\"id\":\"4ab63bf9-b2f4-4869-ae00-38690843c210\",\"type\":\"HelpTool\"}],\"x_range\":{\"id\":\"601336ca-e3ac-405d-8f8a-4f1e1f800d9e\",\"type\":\"DataRange1d\"},\"y_range\":{\"id\":\"c1c08ec0-5b69-48da-980a-5004804f51eb\",\"type\":\"DataRange1d\"}},\"id\":\"40984381-804f-484c-b412-49c9a1eb6ef2\",\"subtype\":\"Figure\",\"type\":\"Plot\"},{\"attributes\":{\"plot\":{\"id\":\"40984381-804f-484c-b412-49c9a1eb6ef2\",\"subtype\":\"Figure\",\"type\":\"Plot\"}},\"id\":\"4ab63bf9-b2f4-4869-ae00-38690843c210\",\"type\":\"HelpTool\"},{\"attributes\":{\"callback\":null,\"column_names\":[\"y\",\"x\"],\"data\":{\"x\":[-1,45],\"y\":[56.67391304347826,56.67391304347826]}},\"id\":\"e84cb9c3-1ebf-4f12-a9a0-37927ec1a5c5\",\"type\":\"ColumnDataSource\"},{\"attributes\":{\"plot\":{\"id\":\"4e696ab0-d96e-4cab-b1c5-5f2b4861d8bc\",\"subtype\":\"Figure\",\"type\":\"Plot\"},\"ticker\":{\"id\":\"e13c9409-d4f1-4f70-b2d8-9cf539d3af17\",\"type\":\"BasicTicker\"}},\"id\":\"e0415ee9-78e2-4d60-9d01-e7d20c8380f9\",\"type\":\"Grid\"},{\"attributes\":{\"axis_label\":\"Popularity\",\"formatter\":{\"id\":\"84463a87-fbc3-4f48-ac9f-9c899780892a\",\"type\":\"BasicTickFormatter\"},\"plot\":{\"id\":\"4ec5713c-3a2c-479d-9d6e-f0ce4a54d454\",\"subtype\":\"Figure\",\"type\":\"Plot\"},\"ticker\":{\"id\":\"8cf7ab97-6c8d-4a06-908f-b766d6277916\",\"type\":\"BasicTicker\"}},\"id\":\"6904fc17-fb81-449b-8e41-e63e467003b8\",\"type\":\"LinearAxis\"},{\"attributes\":{\"callback\":null,\"column_names\":[\"y\",\"x\"],\"data\":{\"x\":[-1,130],\"y\":[53.27025969971829,53.27025969971829]}},\"id\":\"44ae1bc3-86c2-43a0-a6f8-949fcf75d05f\",\"type\":\"ColumnDataSource\"},{\"attributes\":{},\"id\":\"1a91aedc-3af4-4d52-ad69-00ddddf41191\",\"type\":\"BasicTicker\"},{\"attributes\":{\"data_source\":{\"id\":\"a9a99ded-7bae-4ecd-9558-318a26636695\",\"type\":\"ColumnDataSource\"},\"glyph\":{\"id\":\"b490ffc6-5b13-407a-84cd-8d2d1a20a298\",\"type\":\"Circle\"},\"hover_glyph\":null,\"nonselection_glyph\":{\"id\":\"96f73271-9f38-467d-b758-4145316e436e\",\"type\":\"Circle\"},\"selection_glyph\":null},\"id\":\"4e91a7d7-b2d2-4728-bafe-6df624ad61fb\",\"type\":\"GlyphRenderer\"},{\"attributes\":{\"axis_label\":\"Number of Tracks\",\"formatter\":{\"id\":\"80eda9f7-4e8d-4a4d-9ac0-7d07d24c13b8\",\"type\":\"BasicTickFormatter\"},\"plot\":{\"id\":\"fa223b75-3433-4548-8291-731dae75b280\",\"subtype\":\"Figure\",\"type\":\"Plot\"},\"ticker\":{\"id\":\"55a9ea6a-4fbb-4ce6-8a6c-879b4e0b23d2\",\"type\":\"BasicTicker\"}},\"id\":\"2cfc7531-d306-4342-b15a-1b56568c4b93\",\"type\":\"LinearAxis\"},{\"attributes\":{\"overlay\":{\"id\":\"52c6777d-b399-4693-a99c-ba3c6a302cf6\",\"type\":\"BoxAnnotation\"},\"plot\":{\"id\":\"906090f5-7fc8-4666-bdc4-2cfa29be15ef\",\"subtype\":\"Figure\",\"type\":\"Plot\"}},\"id\":\"baafd154-38b2-44d4-8aa9-37745c82b6ee\",\"type\":\"BoxZoomTool\"},{\"attributes\":{\"line_color\":{\"value\":\"blue\"},\"line_width\":{\"value\":2},\"x\":{\"field\":\"x\"},\"y\":{\"field\":\"y\"}},\"id\":\"4682452b-ce25-416a-851d-f3e0916a3c7d\",\"type\":\"Line\"},{\"attributes\":{\"data_source\":{\"id\":\"58c6f0f9-57ec-489a-8524-578c2a654eec\",\"type\":\"ColumnDataSource\"},\"glyph\":{\"id\":\"aca392e6-69a1-4794-a8c4-2dc01d035fbe\",\"type\":\"Line\"},\"hover_glyph\":null,\"nonselection_glyph\":{\"id\":\"30ae3341-4eae-4b37-a734-710df1b8868b\",\"type\":\"Line\"},\"selection_glyph\":null},\"id\":\"7fce6016-7d48-42ac-b635-dd7c7091481d\",\"type\":\"GlyphRenderer\"},{\"attributes\":{\"line_color\":{\"value\":\"red\"},\"line_dash\":[4,4],\"line_width\":{\"value\":2},\"x\":{\"field\":\"x\"},\"y\":{\"field\":\"y\"}},\"id\":\"b8e3abcd-e34c-4bbb-b6bc-400944b2fab4\",\"type\":\"Line\"},{\"attributes\":{\"data_source\":{\"id\":\"30bf46a3-2d97-47b2-97f9-73556f008eb8\",\"type\":\"ColumnDataSource\"},\"glyph\":{\"id\":\"b1301338-740d-4c18-bd5b-862506685932\",\"type\":\"Line\"},\"hover_glyph\":null,\"nonselection_glyph\":{\"id\":\"f60c7f19-cac3-4336-be86-a265e7e64889\",\"type\":\"Line\"},\"selection_glyph\":null},\"id\":\"5c179635-e9e3-449b-9734-6c219a806570\",\"type\":\"GlyphRenderer\"},{\"attributes\":{\"overlay\":{\"id\":\"34979b5b-f3d8-44be-bc32-917d7c4c4502\",\"type\":\"BoxAnnotation\"},\"plot\":{\"id\":\"364976bb-91fe-4abc-8ff2-febda1eb7377\",\"subtype\":\"Figure\",\"type\":\"Plot\"}},\"id\":\"17b4c003-ab0a-4b19-adec-2d6d9afa78ef\",\"type\":\"BoxZoomTool\"},{\"attributes\":{\"callback\":null,\"column_names\":[\"y\",\"x\"],\"data\":{\"x\":[2003,2017],\"y\":[78.75,78.75]}},\"id\":\"aa8c9241-cd1c-4f73-999b-cafd59ef819e\",\"type\":\"ColumnDataSource\"},{\"attributes\":{\"overlay\":{\"id\":\"4c78607c-7ff5-4e72-8c29-5df46c86680f\",\"type\":\"BoxAnnotation\"},\"plot\":{\"id\":\"4e696ab0-d96e-4cab-b1c5-5f2b4861d8bc\",\"subtype\":\"Figure\",\"type\":\"Plot\"}},\"id\":\"dbc41221-ab71-4596-8d72-c6957b04c185\",\"type\":\"BoxZoomTool\"},{\"attributes\":{\"data_source\":{\"id\":\"183cc5b9-a002-4161-978e-eb9651794660\",\"type\":\"ColumnDataSource\"},\"glyph\":{\"id\":\"12d865e2-2c3b-49ef-aa45-23fbdc691334\",\"type\":\"Circle\"},\"hover_glyph\":null,\"nonselection_glyph\":{\"id\":\"7273c309-8e39-4b66-9d74-e4e332233b82\",\"type\":\"Circle\"},\"selection_glyph\":null},\"id\":\"d621a931-fc93-4278-87b6-315d9536c3da\",\"type\":\"GlyphRenderer\"},{\"attributes\":{\"plot\":{\"id\":\"5763382d-75de-4932-aa18-5d1f033657d2\",\"subtype\":\"Figure\",\"type\":\"Plot\"}},\"id\":\"6e32f29e-2ccd-4426-b713-50e4baccfae7\",\"type\":\"ResetTool\"},{\"attributes\":{\"legends\":[[\"Solo\",[{\"id\":\"e0f63ab5-f49e-4218-9605-460d30533296\",\"type\":\"GlyphRenderer\"}]],[\"Collaboration\",[{\"id\":\"ae334773-3ba4-4074-9a76-636e3a40eb12\",\"type\":\"GlyphRenderer\"}]]],\"plot\":{\"id\":\"5581247a-fe58-45f5-82af-2159194a2f13\",\"subtype\":\"Figure\",\"type\":\"Plot\"}},\"id\":\"d348ee79-293c-4c17-8d0d-48f3d6b41e28\",\"type\":\"Legend\"},{\"attributes\":{},\"id\":\"58b06bd2-73ae-4039-a603-6fd54cf22c2a\",\"type\":\"BasicTickFormatter\"},{\"attributes\":{\"callback\":null},\"id\":\"58ab02c7-22ba-468f-babc-cce38ff7bfeb\",\"type\":\"DataRange1d\"},{\"attributes\":{\"plot\":{\"id\":\"a406ebf3-7fee-4dd4-9327-caaf80fc284a\",\"subtype\":\"Figure\",\"type\":\"Plot\"}},\"id\":\"472ab9a7-7ac5-4880-ae8b-77b17cfc17bc\",\"type\":\"ResetTool\"},{\"attributes\":{\"axis_label\":\"Popularity\",\"formatter\":{\"id\":\"97194abd-421b-4fab-97ed-4102681f8182\",\"type\":\"BasicTickFormatter\"},\"plot\":{\"id\":\"0218e7c7-c2e7-440c-a494-9b99e502f7a8\",\"subtype\":\"Figure\",\"type\":\"Plot\"},\"ticker\":{\"id\":\"81d820d5-40f2-4dfb-bfb4-f6c19022b6e1\",\"type\":\"BasicTicker\"}},\"id\":\"9d11a10a-c24d-4474-82cc-4ad1e94a9d28\",\"type\":\"LinearAxis\"},{\"attributes\":{\"data_source\":{\"id\":\"2225116a-8a06-4e78-a4c4-69d6f66c3df3\",\"type\":\"ColumnDataSource\"},\"glyph\":{\"id\":\"6369c6b0-b491-4b6c-adcc-6daf3d64493d\",\"type\":\"Circle\"},\"hover_glyph\":null,\"nonselection_glyph\":{\"id\":\"700760fb-4408-4e45-8550-b9b7d016b0a0\",\"type\":\"Circle\"},\"selection_glyph\":null},\"id\":\"f336ed95-f041-43ff-9504-b7ae3944a606\",\"type\":\"GlyphRenderer\"},{\"attributes\":{\"bottom\":{\"value\":0},\"fill_alpha\":{\"value\":0.1},\"fill_color\":{\"value\":\"#1f77b4\"},\"left\":{\"field\":\"left\"},\"line_alpha\":{\"value\":0.1},\"line_color\":{\"value\":\"#1f77b4\"},\"right\":{\"field\":\"right\"},\"top\":{\"field\":\"top\"}},\"id\":\"f72bfd1a-fcf4-4298-b59f-9a7245aaea80\",\"type\":\"Quad\"},{\"attributes\":{},\"id\":\"12ab9300-0e3c-4454-be3d-8a03250987c3\",\"type\":\"BasicTickFormatter\"},{\"attributes\":{\"callback\":null,\"plot\":{\"id\":\"3616ae36-d489-4dc8-b94e-8f7dbc10e264\",\"subtype\":\"Figure\",\"type\":\"Plot\"},\"tooltips\":[[\"song\",\"@song\"],[\"album\",\"@album\"]]},\"id\":\"747937f4-6eed-4554-8fe6-a0cd1128f80a\",\"type\":\"HoverTool\"},{\"attributes\":{\"line_alpha\":{\"value\":0.1},\"line_color\":{\"value\":\"#1f77b4\"},\"line_width\":{\"value\":2},\"x\":{\"field\":\"x\"},\"y\":{\"field\":\"y\"}},\"id\":\"be1bdf93-4fb1-4c1a-8695-949e51b650ee\",\"type\":\"Line\"},{\"attributes\":{\"callback\":null,\"plot\":{\"id\":\"42d95f82-ea66-4636-bfa0-901593efc674\",\"subtype\":\"Figure\",\"type\":\"Plot\"},\"tooltips\":[[\"Artist\",\"@artist\"]]},\"id\":\"0e019564-1c7b-4070-962e-8e5a101d1bc0\",\"type\":\"HoverTool\"},{\"attributes\":{\"line_alpha\":{\"value\":0.1},\"line_color\":{\"value\":\"#1f77b4\"},\"line_dash\":[4,4],\"line_width\":{\"value\":2},\"x\":{\"field\":\"x\"},\"y\":{\"field\":\"y\"}},\"id\":\"99f67a3a-95a7-4670-a7f8-501708d67806\",\"type\":\"Line\"},{\"attributes\":{\"data_source\":{\"id\":\"15781fa3-0629-46d7-9ff7-3ecd3be6174a\",\"type\":\"ColumnDataSource\"},\"glyph\":{\"id\":\"1a1c0839-6616-4acd-988b-3f78e854d271\",\"type\":\"Line\"},\"hover_glyph\":null,\"nonselection_glyph\":{\"id\":\"c35dc1fd-5841-4538-8ba2-69d064876154\",\"type\":\"Line\"},\"selection_glyph\":null},\"id\":\"5aaf8ee7-79b8-4575-9721-c73b71df4afd\",\"type\":\"GlyphRenderer\"},{\"attributes\":{},\"id\":\"80eda9f7-4e8d-4a4d-9ac0-7d07d24c13b8\",\"type\":\"BasicTickFormatter\"},{\"attributes\":{\"data_source\":{\"id\":\"ae427e73-74a2-450f-bffc-71b831247457\",\"type\":\"ColumnDataSource\"},\"glyph\":{\"id\":\"3ae5dffb-aaaa-4c91-b1ac-896397570ed9\",\"type\":\"Line\"},\"hover_glyph\":null,\"nonselection_glyph\":{\"id\":\"13360aff-28a1-46cf-91c2-8723a1491695\",\"type\":\"Line\"},\"selection_glyph\":null},\"id\":\"5c7042a5-8224-4ad1-b901-313985bea6eb\",\"type\":\"GlyphRenderer\"},{\"attributes\":{\"data_source\":{\"id\":\"e040d03f-b272-415b-8772-e62bdf1fbef8\",\"type\":\"ColumnDataSource\"},\"glyph\":{\"id\":\"8e7d5de4-3de0-414f-84ba-2253f5667a29\",\"type\":\"Circle\"},\"hover_glyph\":null,\"nonselection_glyph\":{\"id\":\"7cfea57b-1313-4b14-85f8-5c76584ddaae\",\"type\":\"Circle\"},\"selection_glyph\":null},\"id\":\"b9d02a8d-7cd2-4fe6-8398-641a51837995\",\"type\":\"GlyphRenderer\"},{\"attributes\":{\"fill_alpha\":{\"value\":0.1},\"fill_color\":{\"value\":\"#1f77b4\"},\"line_alpha\":{\"value\":0.1},\"line_color\":{\"value\":\"#1f77b4\"},\"size\":{\"units\":\"screen\",\"value\":7},\"x\":{\"field\":\"x\"},\"y\":{\"field\":\"y\"}},\"id\":\"52dc43e0-3fcc-4246-b0d6-3b2a528492f2\",\"type\":\"Circle\"},{\"attributes\":{\"plot\":{\"id\":\"c163acbe-edba-4d39-ae8f-0c56519a9cc4\",\"subtype\":\"Figure\",\"type\":\"Plot\"},\"ticker\":{\"id\":\"78dd2856-812b-4efd-93e4-9ac352e1d487\",\"type\":\"BasicTicker\"}},\"id\":\"6089a5e1-e302-402c-bbaf-4d73251fdd04\",\"type\":\"Grid\"},{\"attributes\":{\"axis_label\":\"Difference in Popularity\",\"formatter\":{\"id\":\"f4c8074a-47b7-4d9f-8da7-8ad9afb792a0\",\"type\":\"BasicTickFormatter\"},\"plot\":{\"id\":\"3616ae36-d489-4dc8-b94e-8f7dbc10e264\",\"subtype\":\"Figure\",\"type\":\"Plot\"},\"ticker\":{\"id\":\"ed58d681-643b-4b98-ac3a-edb1467211f9\",\"type\":\"BasicTicker\"}},\"id\":\"1c87e970-4161-41bc-81d9-f992b3383d41\",\"type\":\"LinearAxis\"},{\"attributes\":{\"axis_label\":\"Popularity with Kanye West\",\"formatter\":{\"id\":\"b286063d-03a0-4716-abff-d96aa9924dbe\",\"type\":\"BasicTickFormatter\"},\"plot\":{\"id\":\"42d95f82-ea66-4636-bfa0-901593efc674\",\"subtype\":\"Figure\",\"type\":\"Plot\"},\"ticker\":{\"id\":\"8d4a8fe6-9172-4a40-8cc8-c3dd38d5f18f\",\"type\":\"BasicTicker\"}},\"id\":\"2983fca6-1783-4695-9943-fffd803297bc\",\"type\":\"LinearAxis\"},{\"attributes\":{\"axis_label\":\"Collaborator\",\"formatter\":{\"id\":\"c25f3766-4458-4fbe-8bd6-77af3b0813ba\",\"type\":\"BasicTickFormatter\"},\"major_label_text_font_size\":{\"value\":\"0pt\"},\"plot\":{\"id\":\"c7e8162f-cc19-4796-bd8e-4bc85c8da834\",\"subtype\":\"Figure\",\"type\":\"Plot\"},\"ticker\":{\"id\":\"abb1c2b2-5c6f-45bf-8789-ad18a8208ec9\",\"type\":\"BasicTicker\"}},\"id\":\"2c727821-1cbf-46d0-bc67-c55568f842be\",\"type\":\"LinearAxis\"},{\"attributes\":{\"line_alpha\":{\"value\":0.1},\"line_color\":{\"value\":\"#1f77b4\"},\"line_dash\":[4,4],\"line_width\":{\"value\":2},\"x\":{\"field\":\"x\"},\"y\":{\"field\":\"y\"}},\"id\":\"d14ca55d-e26d-4dc1-924a-8e3078c7fda8\",\"type\":\"Line\"},{\"attributes\":{\"line_color\":{\"value\":\"red\"},\"line_dash\":[4,4],\"line_width\":{\"value\":2},\"x\":{\"field\":\"x\"},\"y\":{\"field\":\"y\"}},\"id\":\"4db873d1-26e7-4c46-bfbb-89fd895bc592\",\"type\":\"Line\"},{\"attributes\":{},\"id\":\"5e77417b-3f80-40ac-b8e0-523d0ddf9dd6\",\"type\":\"BasicTicker\"},{\"attributes\":{\"callback\":null,\"column_names\":[\"y\",\"x\"],\"data\":{\"x\":[2003,2017],\"y\":[72.19732878895942,72.19732878895942]}},\"id\":\"e6b94e34-a007-40dd-ac54-f14d88ae0153\",\"type\":\"ColumnDataSource\"},{\"attributes\":{\"callback\":null,\"column_names\":[\"right\",\"top\",\"left\"],\"data\":{\"left\":[0.0,4.0,8.0,12.0,16.0,20.0,24.0,28.0,32.0,36.0,40.0,44.0,48.0,52.0,56.0,60.0,64.0,68.0,72.0,76.0,80.0,84.0,88.0,92.0,96.0],\"right\":[4.0,8.0,12.0,16.0,20.0,24.0,28.0,32.0,36.0,40.0,44.0,48.0,52.0,56.0,60.0,64.0,68.0,72.0,76.0,80.0,84.0,88.0,92.0,96.0,100.0],\"top\":[2,0,0,1,0,0,0,0,0,0,0,1,21,20,25,20,7,7,12,4,4,0,0,0,0]}},\"id\":\"494b600a-a745-4921-87dd-c20e8a4eb04c\",\"type\":\"ColumnDataSource\"},{\"attributes\":{\"callback\":null,\"column_names\":[\"y\",\"x\"],\"data\":{\"x\":[-1,45],\"y\":[60.626666666666665,60.626666666666665]}},\"id\":\"855afb66-1603-44f3-a7b1-33083a4c7edc\",\"type\":\"ColumnDataSource\"},{\"attributes\":{},\"id\":\"326cb5cc-fd5b-4b94-b6b4-e252f5a1b784\",\"type\":\"BasicTicker\"},{\"attributes\":{\"line_width\":{\"value\":2},\"x\":{\"field\":\"x\"},\"y\":{\"field\":\"y\"}},\"id\":\"dc313c07-185f-4571-b36c-5396018b4dbc\",\"type\":\"Line\"},{\"attributes\":{\"callback\":null},\"id\":\"bedfb053-73d1-4664-a81e-5d8863b9758d\",\"type\":\"DataRange1d\"},{\"attributes\":{\"callback\":null,\"column_names\":[\"album\",\"track\",\"y\",\"x\",\"line_color\",\"fill_color\"],\"data\":{\"album\":[\"Magna Carta... Holy Grail (Explicit Version)\",\"Magna Carta... Holy Grail (Explicit Version)\",\"Magna Carta... Holy Grail (Explicit Version)\",\"Magna Carta... Holy Grail (Explicit Version)\",\"Magna Carta... Holy Grail (Explicit Version)\",\"Magna Carta... Holy Grail (Explicit Version)\",\"Magna Carta... Holy Grail (Explicit Version)\",\"Magna Carta... Holy Grail (Explicit Version)\",\"Magna Carta... Holy Grail (Explicit Version)\",\"Magna Carta... Holy Grail (Explicit Version)\",\"Magna Carta... Holy Grail (Explicit Version)\",\"Magna Carta... Holy Grail (Explicit Version)\",\"Magna Carta... Holy Grail (Explicit Version)\",\"Magna Carta... Holy Grail (Explicit Version)\",\"Magna Carta... Holy Grail (Explicit Version)\",\"Magna Carta... Holy Grail (Explicit Version)\",\"Watch The Throne (Explicit Version)\",\"Watch The Throne (Explicit Version)\",\"Watch The Throne (Explicit Version)\",\"Watch The Throne (Explicit Version)\",\"Watch The Throne (Explicit Version)\",\"Watch The Throne (Explicit Version)\",\"Watch The Throne (Explicit Version)\",\"Watch The Throne (Explicit Version)\",\"Watch The Throne (Explicit Version)\",\"Watch The Throne (Explicit Version)\",\"Watch The Throne (Explicit Version)\",\"Watch The Throne (Explicit Version)\",\"American Gangster (Explicit Version)\",\"American Gangster (Explicit Version)\",\"American Gangster (Explicit Version)\",\"American Gangster (Explicit Version)\",\"American Gangster (Explicit Version)\",\"American Gangster (Explicit Version)\",\"American Gangster (Explicit Version)\",\"American Gangster (Explicit Version)\",\"American Gangster (Explicit Version)\",\"American Gangster (Explicit Version)\",\"American Gangster (Explicit Version)\",\"American Gangster (Explicit Version)\",\"American Gangster (Explicit Version)\",\"American Gangster (Explicit Version)\",\"American Gangster (Explicit Version)\",\"Kingdom Come\",\"Kingdom Come\",\"Kingdom Come\",\"Kingdom Come\",\"Kingdom Come\",\"Kingdom Come\",\"Kingdom Come\",\"Kingdom Come\",\"Kingdom Come\",\"Kingdom Come\",\"Kingdom Come\",\"Kingdom Come\",\"Kingdom Come\",\"Kingdom Come\",\"Kingdom Come\",\"Kingdom Come\",\"Kingdom Come\",\"Kingdom Come\",\"Kingdom Come\",\"Kingdom Come\",\"Kingdom Come\",\"Kingdom Come\",\"Kingdom Come\",\"Kingdom Come\",\"Kingdom Come\",\"Kingdom Come\",\"Kingdom Come\",\"Kingdom Come\",\"Collision Course\",\"Collision Course\",\"Collision Course\",\"Collision Course\",\"Collision Course\",\"Collision Course\",\"Unfinished Business (Explicit)\",\"Unfinished Business (Explicit)\",\"Unfinished Business (Explicit)\",\"Unfinished Business (Explicit)\",\"Unfinished Business (Explicit)\",\"Unfinished Business (Explicit)\",\"Unfinished Business (Explicit)\",\"Unfinished Business (Explicit)\",\"Unfinished Business (Explicit)\",\"Unfinished Business (Explicit)\",\"Unfinished Business (Explicit)\",\"The Black Album (Explicit)\",\"The Black Album (Explicit)\",\"The Black Album (Explicit)\",\"The Black Album (Explicit)\",\"The Black Album (Explicit)\",\"The Black Album (Explicit)\",\"The Black Album (Explicit)\",\"The Black Album (Explicit)\",\"The Black Album (Explicit)\",\"The Black Album (Explicit)\",\"The Black Album (Explicit)\",\"The Black Album (Explicit)\",\"The Black Album (Explicit)\",\"The Black Album (Explicit)\",\"The Best Of Both Worlds (Explicit Version)\",\"The Best Of Both Worlds (Explicit Version)\",\"The Best Of Both Worlds (Explicit Version)\",\"The Best Of Both Worlds (Explicit Version)\",\"The Best Of Both Worlds (Explicit Version)\",\"The Best Of Both Worlds (Explicit Version)\",\"The Best Of Both Worlds (Explicit Version)\",\"The Best Of Both Worlds (Explicit Version)\",\"The Best Of Both Worlds (Explicit Version)\",\"The Best Of Both Worlds (Explicit Version)\",\"The Best Of Both Worlds (Explicit Version)\",\"The Best Of Both Worlds (Explicit Version)\",\"The Best Of Both Worlds (Explicit Version)\"],\"fill_color\":[\"blue\",\"blue\",\"blue\",\"blue\",\"blue\",\"blue\",\"blue\",\"blue\",\"blue\",\"blue\",\"blue\",\"blue\",\"blue\",\"blue\",\"blue\",\"blue\",\"orange\",\"orange\",\"orange\",\"orange\",\"orange\",\"orange\",\"orange\",\"orange\",\"orange\",\"orange\",\"orange\",\"orange\",\"red\",\"red\",\"red\",\"red\",\"red\",\"red\",\"red\",\"red\",\"red\",\"red\",\"red\",\"red\",\"red\",\"red\",\"red\",\"green\",\"green\",\"green\",\"green\",\"green\",\"green\",\"green\",\"green\",\"green\",\"green\",\"green\",\"green\",\"green\",\"green\",\"green\",\"green\",\"green\",\"green\",\"green\",\"green\",\"green\",\"green\",\"green\",\"green\",\"green\",\"green\",\"green\",\"green\",\"pink\",\"pink\",\"pink\",\"pink\",\"pink\",\"pink\",\"black\",\"black\",\"black\",\"black\",\"black\",\"black\",\"black\",\"black\",\"black\",\"black\",\"black\",\"cyan\",\"cyan\",\"cyan\",\"cyan\",\"cyan\",\"cyan\",\"cyan\",\"cyan\",\"cyan\",\"cyan\",\"cyan\",\"cyan\",\"cyan\",\"cyan\",\"purple\",\"purple\",\"purple\",\"purple\",\"purple\",\"purple\",\"purple\",\"purple\",\"purple\",\"purple\",\"purple\",\"purple\",\"purple\"],\"line_color\":[\"blue\",\"blue\",\"blue\",\"blue\",\"blue\",\"blue\",\"blue\",\"blue\",\"blue\",\"blue\",\"blue\",\"blue\",\"blue\",\"blue\",\"blue\",\"blue\",\"orange\",\"orange\",\"orange\",\"orange\",\"orange\",\"orange\",\"orange\",\"orange\",\"orange\",\"orange\",\"orange\",\"orange\",\"red\",\"red\",\"red\",\"red\",\"red\",\"red\",\"red\",\"red\",\"red\",\"red\",\"red\",\"red\",\"red\",\"red\",\"red\",\"green\",\"green\",\"green\",\"green\",\"green\",\"green\",\"green\",\"green\",\"green\",\"green\",\"green\",\"green\",\"green\",\"green\",\"green\",\"green\",\"green\",\"green\",\"green\",\"green\",\"green\",\"green\",\"green\",\"green\",\"green\",\"green\",\"green\",\"green\",\"pink\",\"pink\",\"pink\",\"pink\",\"pink\",\"pink\",\"black\",\"black\",\"black\",\"black\",\"black\",\"black\",\"black\",\"black\",\"black\",\"black\",\"black\",\"cyan\",\"cyan\",\"cyan\",\"cyan\",\"cyan\",\"cyan\",\"cyan\",\"cyan\",\"cyan\",\"cyan\",\"cyan\",\"cyan\",\"cyan\",\"cyan\",\"purple\",\"purple\",\"purple\",\"purple\",\"purple\",\"purple\",\"purple\",\"purple\",\"purple\",\"purple\",\"purple\",\"purple\",\"purple\"],\"track\":[\"Holy Grail\",\"Picasso Baby\",\"Tom Ford\",\"F*ckwithmeyouknowigotit\",\"Oceans\",\"F.U.T.W.\",\"Somewhereinamerica\",\"Crown\",\"Heaven\",\"Versus\",\"Part II (On The Run)\",\"Beach Is Better\",\"BBC\",\"JAY Z Blue\",\"La Familia\",\"Nickels And Dimes\",\"No Church In The Wild\",\"Lift Off\",\"Ni**as In Paris\",\"Otis\",\"Gotta Have It\",\"New Day\",\"That's My Bitch\",\"Welcome To The Jungle\",\"Who Gon Stop Me\",\"Murder To Excellence\",\"Made In America\",\"Why I Love You\",\"Intro\",\"Pray\",\"American Dreamin'\",\"Hello Brooklyn 2.0\",\"No Hook\",\"Roc Boys (And The Winner Is)...\",\"Sweet\",\"I Know\",\"Party Life\",\"Ignorant Sh*t\",\"Say Hello\",\"Success\",\"Fallin'\",\"Blue Magic\",\"American Gangster\",\"The Prelude\",\"Oh My God\",\"Kingdom Come\",\"Show Me What You Got\",\"Lost One\",\"Do U Wanna Ride\",\"30 Something\",\"I Made It\",\"Anything\",\"Hollywood\",\"Trouble\",\"Dig A Hole\",\"Minority Report\",\"Beach Chair\",\"The Prelude - Album Version (Edited)\",\"Oh My God - Album Version (Edited)\",\"Kingdom Come - Album Version (Edited)\",\"Show Me What You Got\",\"Lost One - Album Version (Edited)\",\"Do U Wanna Ride - Album Version (Edited)\",\"30 Something - Album Version (Edited)\",\"I Made It - Album Version (Edited)\",\"Anything - Album Version (Edited)\",\"Hollywood - Album Version (Edited)\",\"Trouble - Album Version (Edited)\",\"Dig A Hole - Album Version (Edited)\",\"Minority Report - Album Version (Edited)\",\"Beach Chair - Album Version (Edited)\",\"Dirt Off Your Shoulder/Lying From You\",\"Big Pimpin'/Papercut\",\"Jigga What/Faint\",\"Numb/Encore\",\"Izzo/In The End\",\"Points Of Authority/99 Problems/One Step Closer\",\"The Return\",\"Big Chips\",\"We Got Em Goin'\",\"She's Coming Home With Me\",\"Feelin' You In Stereo\",\"Stop\",\"Mo' Money\",\"Pretty Girls\",\"Break Up (That's All We Do)\",\"Don't Let Me Die\",\"The Return (Remix)\",\"Interlude\",\"December 4th\",\"What More Can I Say\",\"Encore\",\"Change Clothes\",\"Dirt Off Your Shoulder\",\"Threat\",\"Moment Of Clarity\",\"99 Problems\",\"Interlude\",\"Justify My Thug\",\"Lucifer\",\"Allure\",\"My 1st Song\",\"The Best Of Both Worlds\",\"Take You Home With Me A.K.A. Body\",\"Break Up To Make Up\",\"It Ain't Personal\",\"The Streets\",\"Green Light\",\"Naked\",\"Shake Ya Body\",\"Somebody's Girl\",\"Get This Money\",\"Shorty\",\"Honey\",\"P***y\"],\"x\":[0,1,2,3,4,5,6,7,8,9,10,11,12,13,14,15,16,17,18,19,20,21,22,23,24,25,26,27,28,29,30,31,32,33,34,35,36,37,38,39,40,41,42,43,44,45,46,47,48,49,50,51,52,53,54,55,56,57,58,59,60,61,62,63,64,65,66,67,68,69,70,71,72,73,74,75,76,77,78,79,80,81,82,83,84,85,86,87,88,89,90,91,92,93,94,95,96,97,98,99,100,101,102,103,104,105,106,107,108,109,110,111,112,113,114],\"y\":[72.0,52.0,66.0,64.0,54.0,51.0,53.0,52.0,50.0,46.0,58.0,51.0,49.0,47.0,48.0,47.0,59.0,52.0,58.0,58.0,58.0,50.0,49.0,50.0,59.0,52.0,50.0,52.0,35.0,40.0,41.0,41.0,40.0,49.0,38.0,43.0,40.0,42.0,42.0,41.0,40.0,41.0,38.0,39.0,41.0,42.0,44.0,50.0,40.0,44.0,38.0,38.0,38.0,39.0,33.0,36.0,40.0,9.0,13.0,15.0,24.0,24.0,10.0,18.0,8.0,16.0,15.0,9.0,4.0,8.0,14.0,35.0,32.0,31.0,42.0,32.0,34.0,0.0,29.0,24.0,26.0,28.0,24.0,27.0,25.0,24.0,25.0,23.0,40.0,47.0,49.0,50.0,49.0,63.0,45.0,55.0,65.0,48.0,45.0,55.0,46.0,49.0,38.0,39.0,32.0,32.0,32.0,29.0,32.0,30.0,44.0,32.0,31.0,32.0,30.0]}},\"id\":\"4065cff7-94ac-4bab-9472-ccf425be1889\",\"type\":\"ColumnDataSource\"},{\"attributes\":{\"overlay\":{\"id\":\"335123d1-029b-4008-a95b-8e240a8d4e96\",\"type\":\"BoxAnnotation\"},\"plot\":{\"id\":\"f0cbd62f-278f-4516-a395-9babb5082038\",\"subtype\":\"Figure\",\"type\":\"Plot\"}},\"id\":\"3033a831-cfba-49b7-a015-c66bad16c8ce\",\"type\":\"BoxZoomTool\"},{\"attributes\":{\"callback\":null,\"column_names\":[\"album\",\"y\",\"x\"],\"data\":{\"album\":[\"The Life Of Pablo\",\"Yeezus\",\"Watch The Throne (Explicit Version)\",\"My Beautiful Dark Twisted Fantasy (Explicit Version)\",\"808s & Heartbreak\",\"Graduation (Explicit Version)\",\"Late Registration (Explicit Version)\",\"The College Dropout (Explicit)\"],\"x\":[2016,2013,2011,2010,2008,2007,2005,2004],\"y\":[94.0,78.0,70.0,80.0,74.0,80.0,78.0,76.0]}},\"id\":\"0e5d2b89-4746-4ef4-a7e1-2136e517d961\",\"type\":\"ColumnDataSource\"},{\"attributes\":{\"callback\":null},\"id\":\"c0aeac93-887f-4bf5-b600-69c9d17cf869\",\"type\":\"DataRange1d\"},{\"attributes\":{\"bottom\":{\"value\":0},\"fill_alpha\":{\"value\":0.1},\"fill_color\":{\"value\":\"#1f77b4\"},\"left\":{\"field\":\"left\"},\"line_alpha\":{\"value\":0.1},\"line_color\":{\"value\":\"#1f77b4\"},\"right\":{\"field\":\"right\"},\"top\":{\"field\":\"top\"}},\"id\":\"929b4c03-8bd7-4522-9707-8d7b442a688e\",\"type\":\"Quad\"},{\"attributes\":{\"callback\":null},\"id\":\"f36b75bc-33a0-4f26-b013-1140c89ab86a\",\"type\":\"DataRange1d\"},{\"attributes\":{\"line_alpha\":{\"value\":0.1},\"line_color\":{\"value\":\"#1f77b4\"},\"line_width\":{\"value\":2},\"x\":{\"field\":\"x\"},\"y\":{\"field\":\"y\"}},\"id\":\"16deb429-906e-4eaa-8b99-58fb358de465\",\"type\":\"Line\"},{\"attributes\":{\"axis_label\":\"track\",\"formatter\":{\"id\":\"1822efb6-f87f-4e78-b198-17519e2f7381\",\"type\":\"BasicTickFormatter\"},\"major_label_text_font_size\":{\"value\":\"0pt\"},\"plot\":{\"id\":\"00954d86-a32b-49f4-b0b3-c33b05112bed\",\"subtype\":\"Figure\",\"type\":\"Plot\"},\"ticker\":{\"id\":\"6ac16410-2310-4921-8e0c-23d9433aa12e\",\"type\":\"BasicTicker\"}},\"id\":\"9161a3ac-5a26-438f-852c-8f086a5550ca\",\"type\":\"LinearAxis\"},{\"attributes\":{\"callback\":null},\"id\":\"39f032f9-a9ef-41a0-a26b-2fddff3ac7d0\",\"type\":\"DataRange1d\"},{\"attributes\":{},\"id\":\"fd24f850-ffcb-4ae5-a056-673a6fad74d9\",\"type\":\"ToolEvents\"},{\"attributes\":{\"plot\":{\"id\":\"87004a05-fd1e-4435-ab9a-c02034cd2ae0\",\"subtype\":\"Figure\",\"type\":\"Plot\"},\"ticker\":{\"id\":\"3611e479-ec6e-4acf-af7e-c970757af630\",\"type\":\"BasicTicker\"}},\"id\":\"8b6348a1-ee5a-4c0b-8cc8-7fba95547abf\",\"type\":\"Grid\"},{\"attributes\":{\"callback\":null},\"id\":\"d7e495ca-df68-4cf5-a9f6-a9bb6f27dc8a\",\"type\":\"DataRange1d\"},{\"attributes\":{\"fill_alpha\":{\"value\":0.1},\"fill_color\":{\"value\":\"#1f77b4\"},\"line_alpha\":{\"value\":0.1},\"line_color\":{\"value\":\"#1f77b4\"},\"size\":{\"units\":\"screen\",\"value\":12},\"x\":{\"field\":\"x\"},\"y\":{\"field\":\"y\"}},\"id\":\"6ade87f1-493f-4f56-8445-ea3bb0c244fa\",\"type\":\"Circle\"},{\"attributes\":{\"data_source\":{\"id\":\"a448b730-aa04-425c-bf0e-f06cbf6903a0\",\"type\":\"ColumnDataSource\"},\"glyph\":{\"id\":\"1a0eef1f-ecdd-44d7-bb32-688f47cc9467\",\"type\":\"Circle\"},\"hover_glyph\":null,\"nonselection_glyph\":{\"id\":\"98ed2280-9437-43c6-a8c5-a70d6a6ad5b4\",\"type\":\"Circle\"},\"selection_glyph\":null},\"id\":\"804be820-0781-43b2-b61f-849a4b23b15c\",\"type\":\"GlyphRenderer\"},{\"attributes\":{\"plot\":{\"id\":\"00954d86-a32b-49f4-b0b3-c33b05112bed\",\"subtype\":\"Figure\",\"type\":\"Plot\"}},\"id\":\"4e0af6bd-dd12-4466-82b1-e0ea14caf820\",\"type\":\"ResetTool\"},{\"attributes\":{\"overlay\":{\"id\":\"8faf5abc-f08d-42c3-9ba0-c9bc93a9766f\",\"type\":\"BoxAnnotation\"},\"plot\":{\"id\":\"5763382d-75de-4932-aa18-5d1f033657d2\",\"subtype\":\"Figure\",\"type\":\"Plot\"}},\"id\":\"84c43e9b-30a9-439d-a000-44be965b250f\",\"type\":\"BoxZoomTool\"},{\"attributes\":{\"line_dash\":[4,4],\"line_width\":{\"value\":2},\"x\":{\"field\":\"x\"},\"y\":{\"field\":\"y\"}},\"id\":\"b1301338-740d-4c18-bd5b-862506685932\",\"type\":\"Line\"},{\"attributes\":{\"callback\":null},\"id\":\"c8b38752-1d8f-46e0-8a6d-2d9a49b5303f\",\"type\":\"DataRange1d\"},{\"attributes\":{},\"id\":\"db2e1044-aff9-461f-a9ff-a8d782ce1028\",\"type\":\"BasicTicker\"},{\"attributes\":{\"below\":[{\"id\":\"81971321-cef4-43e9-b080-f540630529ef\",\"type\":\"LinearAxis\"}],\"left\":[{\"id\":\"0253484a-cfb5-4a3b-a65d-82fa2c9aa36c\",\"type\":\"LinearAxis\"}],\"plot_height\":500,\"renderers\":[{\"id\":\"81971321-cef4-43e9-b080-f540630529ef\",\"type\":\"LinearAxis\"},{\"id\":\"c0d68fca-99a1-4557-a417-2e34a770498b\",\"type\":\"Grid\"},{\"id\":\"0253484a-cfb5-4a3b-a65d-82fa2c9aa36c\",\"type\":\"LinearAxis\"},{\"id\":\"3d8f2de1-b83a-456c-81a9-8a2733106b28\",\"type\":\"Grid\"},{\"id\":\"8faf5abc-f08d-42c3-9ba0-c9bc93a9766f\",\"type\":\"BoxAnnotation\"},{\"id\":\"804be820-0781-43b2-b61f-849a4b23b15c\",\"type\":\"GlyphRenderer\"},{\"id\":\"def9fd3f-2510-4956-82a0-bc259f01ac3c\",\"type\":\"GlyphRenderer\"},{\"id\":\"92de2698-fdef-432c-95bd-75feeaf9cd18\",\"type\":\"GlyphRenderer\"},{\"id\":\"6802f9b1-cb76-440b-982a-795bd6bd52be\",\"type\":\"GlyphRenderer\"},{\"id\":\"23489ebb-9d74-4518-bfc5-1d74a2d3c156\",\"type\":\"GlyphRenderer\"}],\"tool_events\":{\"id\":\"cdcf6ac1-fa44-48e8-b449-becc571cc477\",\"type\":\"ToolEvents\"},\"tools\":[{\"id\":\"84c43e9b-30a9-439d-a000-44be965b250f\",\"type\":\"BoxZoomTool\"},{\"id\":\"6e32f29e-2ccd-4426-b713-50e4baccfae7\",\"type\":\"ResetTool\"},{\"id\":\"3a9c3a55-f186-4adc-8330-a9097908e77c\",\"type\":\"HoverTool\"}],\"x_range\":{\"id\":\"156636fc-d000-492a-b339-a84f8cfdb72a\",\"type\":\"DataRange1d\"},\"y_range\":{\"id\":\"d3793768-6581-4369-9877-ffe90c6b7f27\",\"type\":\"DataRange1d\"}},\"id\":\"5763382d-75de-4932-aa18-5d1f033657d2\",\"subtype\":\"Figure\",\"type\":\"Plot\"},{\"attributes\":{\"data_source\":{\"id\":\"81f74e3f-0084-4692-8180-d335accae043\",\"type\":\"ColumnDataSource\"},\"glyph\":{\"id\":\"aafb55b8-3c6a-4cb6-bf63-8dbd1ccfe5ec\",\"type\":\"Line\"},\"hover_glyph\":null,\"nonselection_glyph\":{\"id\":\"f0498147-93f4-406e-8f59-d142068768b1\",\"type\":\"Line\"},\"selection_glyph\":null},\"id\":\"eba97ab9-9d14-4a22-a3ca-ba3e9f4d1f52\",\"type\":\"GlyphRenderer\"},{\"attributes\":{\"fill_color\":{\"value\":\"cyan\"},\"line_color\":{\"value\":\"cyan\"},\"size\":{\"units\":\"screen\",\"value\":15},\"x\":{\"value\":2007},\"y\":{\"value\":80.0}},\"id\":\"e4da1315-3837-4cd7-b46f-f36ae0edca45\",\"type\":\"Circle\"},{\"attributes\":{\"callback\":null,\"plot\":{\"id\":\"364976bb-91fe-4abc-8ff2-febda1eb7377\",\"subtype\":\"Figure\",\"type\":\"Plot\"},\"tooltips\":[[\"album\",\"@album\"]]},\"id\":\"841a955d-1651-4ee1-a6b5-48c5ec79a225\",\"type\":\"HoverTool\"},{\"attributes\":{\"data_source\":{\"id\":\"d8169078-3422-405e-99db-f97ca3db8c13\",\"type\":\"ColumnDataSource\"},\"glyph\":{\"id\":\"e62db179-da5b-4180-8f72-c2b41d332c3b\",\"type\":\"Circle\"},\"hover_glyph\":null,\"nonselection_glyph\":{\"id\":\"6ade87f1-493f-4f56-8445-ea3bb0c244fa\",\"type\":\"Circle\"},\"selection_glyph\":null},\"id\":\"ac48ee74-b0d7-47d2-8301-21af140cc18f\",\"type\":\"GlyphRenderer\"},{\"attributes\":{\"below\":[{\"id\":\"f66e905b-3ac9-4db7-aa64-5be1a7ab386d\",\"type\":\"LinearAxis\"}],\"left\":[{\"id\":\"2df904e7-293f-455e-99d0-7a4ad799e5d9\",\"type\":\"LinearAxis\"}],\"plot_height\":400,\"renderers\":[{\"id\":\"f66e905b-3ac9-4db7-aa64-5be1a7ab386d\",\"type\":\"LinearAxis\"},{\"id\":\"01b4967b-3bac-497e-beb8-08335161fa0c\",\"type\":\"Grid\"},{\"id\":\"2df904e7-293f-455e-99d0-7a4ad799e5d9\",\"type\":\"LinearAxis\"},{\"id\":\"fc2cd1e7-6e9f-4bd5-8400-0ee574433ab7\",\"type\":\"Grid\"},{\"id\":\"77089070-3322-4371-8802-4066541cf69a\",\"type\":\"BoxAnnotation\"},{\"id\":\"d348ee79-293c-4c17-8d0d-48f3d6b41e28\",\"type\":\"Legend\"},{\"id\":\"e0f63ab5-f49e-4218-9605-460d30533296\",\"type\":\"GlyphRenderer\"},{\"id\":\"ae334773-3ba4-4074-9a76-636e3a40eb12\",\"type\":\"GlyphRenderer\"}],\"tool_events\":{\"id\":\"426080a3-4fdb-402d-9c67-c62fcf994183\",\"type\":\"ToolEvents\"},\"tools\":[{\"id\":\"7b9f6733-0bd4-4248-8326-b81a39e5680f\",\"type\":\"PanTool\"},{\"id\":\"67e989ee-53b3-4a1e-a896-4e5254d4eec6\",\"type\":\"WheelZoomTool\"},{\"id\":\"4d99d184-4a7d-4b41-b550-ae36846f3fcf\",\"type\":\"BoxZoomTool\"},{\"id\":\"a7095210-6835-470a-a857-6ead691f4d98\",\"type\":\"PreviewSaveTool\"},{\"id\":\"08a4f087-4467-4d32-bae2-8528d2bdbdb7\",\"type\":\"ResizeTool\"},{\"id\":\"7cd908df-a498-47b9-8de8-d4b5b277ef7e\",\"type\":\"ResetTool\"},{\"id\":\"befe0fa3-a3ed-469b-8cef-85980b91d8ca\",\"type\":\"HelpTool\"}],\"x_range\":{\"id\":\"d209f6f8-5595-4cee-b433-c25164b3b7d3\",\"type\":\"DataRange1d\"},\"y_range\":{\"id\":\"8d94f961-10fe-4d07-a8a2-d74cec2c1f16\",\"type\":\"DataRange1d\"}},\"id\":\"5581247a-fe58-45f5-82af-2159194a2f13\",\"subtype\":\"Figure\",\"type\":\"Plot\"},{\"attributes\":{\"callback\":null,\"column_names\":[\"right\",\"top\",\"left\"],\"data\":{\"left\":[0.0,4.0,8.0,12.0,16.0,20.0,24.0,28.0,32.0,36.0,40.0,44.0,48.0,52.0,56.0,60.0,64.0,68.0,72.0,76.0,80.0,84.0,88.0,92.0,96.0],\"right\":[4.0,8.0,12.0,16.0,20.0,24.0,28.0,32.0,36.0,40.0,44.0,48.0,52.0,56.0,60.0,64.0,68.0,72.0,76.0,80.0,84.0,88.0,92.0,96.0,100.0],\"top\":[0,0,0,1,0,0,0,0,0,0,0,0,6,9,18,6,3,2,0,1,0,0,0,0,0]}},\"id\":\"b5a4c1d5-d2aa-4b59-9abe-d451e77cdc24\",\"type\":\"ColumnDataSource\"},{\"attributes\":{\"callback\":null},\"id\":\"c3c98343-c229-4651-99ac-b2e79ccd264a\",\"type\":\"DataRange1d\"},{\"attributes\":{\"bottom_units\":\"screen\",\"fill_alpha\":{\"value\":0.5},\"fill_color\":{\"value\":\"lightgrey\"},\"left_units\":\"screen\",\"level\":\"overlay\",\"line_alpha\":{\"value\":1.0},\"line_color\":{\"value\":\"black\"},\"line_dash\":[4,4],\"line_width\":{\"value\":2},\"plot\":null,\"render_mode\":\"css\",\"right_units\":\"screen\",\"top_units\":\"screen\"},\"id\":\"788ea862-834d-4546-8b96-8a45edc9bdd0\",\"type\":\"BoxAnnotation\"},{\"attributes\":{\"data_source\":{\"id\":\"2b6119cb-6b79-4238-8ce2-b0ff50fb96c7\",\"type\":\"ColumnDataSource\"},\"glyph\":{\"id\":\"bcfa1dd3-d09a-45a7-80cc-0b0570dfc001\",\"type\":\"Circle\"},\"hover_glyph\":null,\"nonselection_glyph\":{\"id\":\"8e7cf267-4730-42f0-b396-60712bebbf77\",\"type\":\"Circle\"},\"selection_glyph\":null},\"id\":\"88fe1698-a13b-463b-8936-67b1c6950d59\",\"type\":\"GlyphRenderer\"},{\"attributes\":{\"data_source\":{\"id\":\"0bd92b21-59d0-4a4d-8180-331ce42f1724\",\"type\":\"ColumnDataSource\"},\"glyph\":{\"id\":\"2717c17f-e156-4bb0-9c1b-0ad707c8c1f2\",\"type\":\"Line\"},\"hover_glyph\":null,\"nonselection_glyph\":{\"id\":\"16deb429-906e-4eaa-8b99-58fb358de465\",\"type\":\"Line\"},\"selection_glyph\":null},\"id\":\"ab716833-d3c8-4abd-9b26-1f73a8ea66dc\",\"type\":\"GlyphRenderer\"},{\"attributes\":{\"callback\":null,\"column_names\":[\"y\",\"x\"],\"data\":{\"x\":[-1,45],\"y\":[46.865103447968636,46.865103447968636]}},\"id\":\"19b6b168-2b25-44d7-91a1-36258bc43bd3\",\"type\":\"ColumnDataSource\"},{\"attributes\":{\"data_source\":{\"id\":\"417e50d1-13f0-4947-a37a-657679119191\",\"type\":\"ColumnDataSource\"},\"glyph\":{\"id\":\"db1bb9a8-884a-430c-b1a6-58a73d812177\",\"type\":\"Circle\"},\"hover_glyph\":null,\"nonselection_glyph\":{\"id\":\"29e8a813-1860-4bc4-b7e7-fbb177d9df01\",\"type\":\"Circle\"},\"selection_glyph\":null},\"id\":\"10b45989-5e43-46c5-a121-d2859670c51b\",\"type\":\"GlyphRenderer\"},{\"attributes\":{\"callback\":null,\"plot\":{\"id\":\"077763eb-d52b-42ce-8454-df4a37e542ba\",\"subtype\":\"Figure\",\"type\":\"Plot\"},\"tooltips\":[[\"Track\",\"@track\"],[\"album\",\"@album\"]]},\"id\":\"c5131853-c0dc-45d9-879e-b5e556ed6366\",\"type\":\"HoverTool\"},{\"attributes\":{\"line_alpha\":{\"value\":0.1},\"line_color\":{\"value\":\"#1f77b4\"},\"line_width\":{\"value\":2},\"x\":{\"field\":\"x\"},\"y\":{\"field\":\"y\"}},\"id\":\"e8a227d0-4c55-47f3-972e-d93344a9ff36\",\"type\":\"Line\"},{\"attributes\":{\"callback\":null,\"column_names\":[\"y\",\"x\"],\"data\":{\"x\":[56],\"y\":[40.0]}},\"id\":\"a9a99ded-7bae-4ecd-9558-318a26636695\",\"type\":\"ColumnDataSource\"},{\"attributes\":{\"plot\":{\"id\":\"077763eb-d52b-42ce-8454-df4a37e542ba\",\"subtype\":\"Figure\",\"type\":\"Plot\"},\"ticker\":{\"id\":\"54d538e6-8cae-400a-8402-f60571aec35b\",\"type\":\"BasicTicker\"}},\"id\":\"c4b9a856-2b34-4a2b-91f9-6d41cd0dfe14\",\"type\":\"Grid\"},{\"attributes\":{\"data_source\":{\"id\":\"ec03d3cd-efba-4535-81e9-231d92a9e28a\",\"type\":\"ColumnDataSource\"},\"glyph\":{\"id\":\"79221cc2-a76b-4384-9556-543b09856994\",\"type\":\"Line\"},\"hover_glyph\":null,\"nonselection_glyph\":{\"id\":\"55c17a4b-e115-4b79-9c32-45ba212ed8e1\",\"type\":\"Line\"},\"selection_glyph\":null},\"id\":\"46123408-f0ba-49c0-a958-a7c974aa7ac4\",\"type\":\"GlyphRenderer\"},{\"attributes\":{\"data_source\":{\"id\":\"5141f3de-4b5f-49fd-a427-045ff1437064\",\"type\":\"ColumnDataSource\"},\"glyph\":{\"id\":\"9603a256-c645-4161-94b3-23bc534b375c\",\"type\":\"Circle\"},\"hover_glyph\":null,\"nonselection_glyph\":{\"id\":\"7dfb4adc-0004-4a7e-98b4-a4bec45b442e\",\"type\":\"Circle\"},\"selection_glyph\":null},\"id\":\"ed203345-b0c3-4310-b0a8-5ad8d10e7512\",\"type\":\"GlyphRenderer\"},{\"attributes\":{\"data_source\":{\"id\":\"44ae1bc3-86c2-43a0-a6f8-949fcf75d05f\",\"type\":\"ColumnDataSource\"},\"glyph\":{\"id\":\"f183a5e5-d6c1-48d8-b34b-bf811d4f8a37\",\"type\":\"Line\"},\"hover_glyph\":null,\"nonselection_glyph\":{\"id\":\"af1f73f5-94cf-4896-adf3-cecb070c8e3e\",\"type\":\"Line\"},\"selection_glyph\":null},\"id\":\"3e1ddf40-b1cd-4afb-bb0a-3f6e88b257a9\",\"type\":\"GlyphRenderer\"},{\"attributes\":{\"callback\":null,\"column_names\":[\"y\",\"x\"],\"data\":{\"x\":[-1,130],\"y\":[24.416696822020846,24.416696822020846]}},\"id\":\"8136faa4-8f3c-4250-aa7b-af77c0e0e30e\",\"type\":\"ColumnDataSource\"},{\"attributes\":{\"overlay\":{\"id\":\"bf1cd74b-2654-4e27-a8b6-b22b6045516d\",\"type\":\"BoxAnnotation\"},\"plot\":{\"id\":\"92b5ec37-ca99-4256-98f6-89b3d5e02eb3\",\"subtype\":\"Figure\",\"type\":\"Plot\"}},\"id\":\"68a877e8-2f83-418f-925a-a0161bb8b416\",\"type\":\"BoxZoomTool\"},{\"attributes\":{\"plot\":{\"id\":\"4ffbe01a-4dc5-41a4-b3e4-1da56420e097\",\"subtype\":\"Figure\",\"type\":\"Plot\"}},\"id\":\"33a18897-56e3-4dc4-841a-3a41c19c49e9\",\"type\":\"ResetTool\"},{\"attributes\":{\"data_source\":{\"id\":\"c8868f0f-ef28-48f7-87ef-6d5891d68eef\",\"type\":\"ColumnDataSource\"},\"glyph\":{\"id\":\"be61941f-a95b-41fe-b504-0ebe60dc3230\",\"type\":\"Line\"},\"hover_glyph\":null,\"nonselection_glyph\":{\"id\":\"6509a696-5b84-469f-b150-89d6429b7180\",\"type\":\"Line\"},\"selection_glyph\":null},\"id\":\"c4348f15-404a-4289-bc55-36d9fc7f5338\",\"type\":\"GlyphRenderer\"},{\"attributes\":{},\"id\":\"ad1f0a6e-2a28-4439-b295-67cd6cac4c17\",\"type\":\"BasicTickFormatter\"},{\"attributes\":{\"line_color\":{\"value\":\"blue\"},\"line_width\":{\"value\":2},\"x\":{\"field\":\"x\"},\"y\":{\"field\":\"y\"}},\"id\":\"6847283d-9a9a-496a-a17b-4b4f994c8d60\",\"type\":\"Line\"},{\"attributes\":{\"data_source\":{\"id\":\"e84cb9c3-1ebf-4f12-a9a0-37927ec1a5c5\",\"type\":\"ColumnDataSource\"},\"glyph\":{\"id\":\"2ffe86cd-6e42-4848-abba-d5ab5e78c3a0\",\"type\":\"Line\"},\"hover_glyph\":null,\"nonselection_glyph\":{\"id\":\"4282acca-ecbc-4f5d-9683-7baa32656559\",\"type\":\"Line\"},\"selection_glyph\":null},\"id\":\"9b9e63e9-a24c-4cc2-adea-ba6573782a6f\",\"type\":\"GlyphRenderer\"},{\"attributes\":{},\"id\":\"94230054-7bbf-4a83-9618-20707b10ca3d\",\"type\":\"BasicTicker\"},{\"attributes\":{},\"id\":\"47c10fdd-1241-4ec1-896f-5461b8180d92\",\"type\":\"BasicTicker\"},{\"attributes\":{\"plot\":{\"id\":\"f0cbd62f-278f-4516-a395-9babb5082038\",\"subtype\":\"Figure\",\"type\":\"Plot\"},\"ticker\":{\"id\":\"c093020d-8919-49a2-a8bf-9286d7f2b4b7\",\"type\":\"BasicTicker\"}},\"id\":\"9793898a-18af-4b24-9fae-83894a012e41\",\"type\":\"Grid\"},{\"attributes\":{\"data_source\":{\"id\":\"ce9377fc-a9b5-4147-b266-925172576b72\",\"type\":\"ColumnDataSource\"},\"glyph\":{\"id\":\"39bf8ed2-3b0d-4038-be7b-1880a4f3ae44\",\"type\":\"Line\"},\"hover_glyph\":null,\"nonselection_glyph\":{\"id\":\"9a7b4c20-0561-411a-940f-fdb6c80fd907\",\"type\":\"Line\"},\"selection_glyph\":null},\"id\":\"7a28d43c-f4e4-412a-b534-57d8d5661fb4\",\"type\":\"GlyphRenderer\"},{\"attributes\":{\"data_source\":{\"id\":\"68c199b8-b0b8-497e-add7-1cc5861f1c51\",\"type\":\"ColumnDataSource\"},\"glyph\":{\"id\":\"72a111ae-8547-4e6d-ae03-0ab148cbd2a1\",\"type\":\"Line\"},\"hover_glyph\":null,\"nonselection_glyph\":{\"id\":\"89b11470-dd86-4bd4-be48-c06a643ee8bb\",\"type\":\"Line\"},\"selection_glyph\":null},\"id\":\"4951b433-b4bb-45b1-8331-23d1de71df85\",\"type\":\"GlyphRenderer\"},{\"attributes\":{},\"id\":\"b286063d-03a0-4716-abff-d96aa9924dbe\",\"type\":\"BasicTickFormatter\"},{\"attributes\":{\"bottom_units\":\"screen\",\"fill_alpha\":{\"value\":0.5},\"fill_color\":{\"value\":\"lightgrey\"},\"left_units\":\"screen\",\"level\":\"overlay\",\"line_alpha\":{\"value\":1.0},\"line_color\":{\"value\":\"black\"},\"line_dash\":[4,4],\"line_width\":{\"value\":2},\"plot\":null,\"render_mode\":\"css\",\"right_units\":\"screen\",\"top_units\":\"screen\"},\"id\":\"d4dca88a-3ae0-49e7-88b0-9ae09c9857e7\",\"type\":\"BoxAnnotation\"},{\"attributes\":{\"line_alpha\":{\"value\":0.1},\"line_color\":{\"value\":\"#1f77b4\"},\"line_dash\":[4,4],\"line_width\":{\"value\":2},\"x\":{\"field\":\"x\"},\"y\":{\"field\":\"y\"}},\"id\":\"af1f73f5-94cf-4896-adf3-cecb070c8e3e\",\"type\":\"Line\"},{\"attributes\":{\"data_source\":{\"id\":\"09865b41-2d7b-43a0-8362-6cc3f43fb186\",\"type\":\"ColumnDataSource\"},\"glyph\":{\"id\":\"7df3706d-a027-4f57-bd37-e6e6b35e470c\",\"type\":\"Line\"},\"hover_glyph\":null,\"nonselection_glyph\":{\"id\":\"d7a76faa-dc7a-45d8-9663-d61fd4e7f116\",\"type\":\"Line\"},\"selection_glyph\":null},\"id\":\"1eb1145d-3d81-429f-b73a-004de79c272b\",\"type\":\"GlyphRenderer\"},{\"attributes\":{\"line_color\":{\"value\":\"red\"},\"line_dash\":[4,4],\"line_width\":{\"value\":2},\"x\":{\"field\":\"x\"},\"y\":{\"field\":\"y\"}},\"id\":\"282d310e-41d2-4b6f-a630-81f79ce5888f\",\"type\":\"Line\"},{\"attributes\":{\"callback\":null,\"column_names\":[\"y\",\"x\"],\"data\":{\"x\":[2000,2017],\"y\":[85.30267121104058,85.30267121104058]}},\"id\":\"579afc5b-a840-49c6-93f8-f531c14be932\",\"type\":\"ColumnDataSource\"},{\"attributes\":{\"fill_alpha\":{\"value\":0.1},\"fill_color\":{\"value\":\"#1f77b4\"},\"line_alpha\":{\"value\":0.1},\"line_color\":{\"value\":\"#1f77b4\"},\"size\":{\"units\":\"screen\",\"value\":12},\"x\":{\"field\":\"x\"},\"y\":{\"field\":\"y\"}},\"id\":\"96f73271-9f38-467d-b758-4145316e436e\",\"type\":\"Circle\"},{\"attributes\":{\"axis_label\":\"track\",\"formatter\":{\"id\":\"3d6cee21-97a9-4b69-812f-f436247d451d\",\"type\":\"BasicTickFormatter\"},\"major_label_text_font_size\":{\"value\":\"0pt\"},\"plot\":{\"id\":\"808beac1-0692-49c6-a2e3-ecf0db7e7de9\",\"subtype\":\"Figure\",\"type\":\"Plot\"},\"ticker\":{\"id\":\"47c10fdd-1241-4ec1-896f-5461b8180d92\",\"type\":\"BasicTicker\"}},\"id\":\"d6e19fa4-6a5d-49dc-9a19-a9e542006cd0\",\"type\":\"LinearAxis\"},{\"attributes\":{\"plot\":{\"id\":\"f0cbd62f-278f-4516-a395-9babb5082038\",\"subtype\":\"Figure\",\"type\":\"Plot\"}},\"id\":\"2252675a-0b89-447f-bef1-4258f8455603\",\"type\":\"PanTool\"},{\"attributes\":{\"axis_label\":\"Solo Popularity\",\"formatter\":{\"id\":\"49322fed-e000-4609-b736-9f8ccb84765b\",\"type\":\"BasicTickFormatter\"},\"plot\":{\"id\":\"c4b3a879-ecc0-433b-ab6e-393d30e0a4fd\",\"subtype\":\"Figure\",\"type\":\"Plot\"},\"ticker\":{\"id\":\"79a09a53-902d-4f2f-9e72-94a430737346\",\"type\":\"BasicTicker\"}},\"id\":\"43b888c9-c789-46e1-a18b-6ee35397b8af\",\"type\":\"LinearAxis\"},{\"attributes\":{\"data_source\":{\"id\":\"f6fb807f-25ae-4524-8c80-7bc0d75b6ab5\",\"type\":\"ColumnDataSource\"},\"glyph\":{\"id\":\"b8e3abcd-e34c-4bbb-b6bc-400944b2fab4\",\"type\":\"Line\"},\"hover_glyph\":null,\"nonselection_glyph\":{\"id\":\"9aca4e64-dc42-4c66-b4a4-a760f2e0190e\",\"type\":\"Line\"},\"selection_glyph\":null},\"id\":\"e148832a-d985-465d-8823-91b3a43258d7\",\"type\":\"GlyphRenderer\"},{\"attributes\":{\"fill_alpha\":{\"value\":0.1},\"fill_color\":{\"value\":\"#1f77b4\"},\"line_alpha\":{\"value\":0.1},\"line_color\":{\"value\":\"#1f77b4\"},\"size\":{\"units\":\"screen\",\"value\":15},\"x\":{\"field\":\"x\"},\"y\":{\"field\":\"y\"}},\"id\":\"63e35815-942a-4452-8895-d9b88e60aee1\",\"type\":\"Circle\"},{\"attributes\":{},\"id\":\"a417c17e-df43-4040-a7fb-61cfb91eaf7e\",\"type\":\"BasicTicker\"},{\"attributes\":{\"data_source\":{\"id\":\"7799b65e-9b86-4039-8139-fdb27540db0b\",\"type\":\"ColumnDataSource\"},\"glyph\":{\"id\":\"0b962307-9160-4ee7-939c-924d641dfb45\",\"type\":\"Line\"},\"hover_glyph\":null,\"nonselection_glyph\":{\"id\":\"1cb03c57-b17e-4123-8cc7-56aad6aebe50\",\"type\":\"Line\"},\"selection_glyph\":null},\"id\":\"7abbbbbc-e459-41a4-8784-71dd5d28455c\",\"type\":\"GlyphRenderer\"},{\"attributes\":{\"plot\":{\"id\":\"50fb0a0d-4a0a-457f-bcb5-db1a0b705072\",\"subtype\":\"Figure\",\"type\":\"Plot\"}},\"id\":\"cfdc65bb-84f1-4464-8292-e8559812f855\",\"type\":\"ResetTool\"},{\"attributes\":{},\"id\":\"b0d18a66-f01a-4da7-a6e2-97a9cfcc537a\",\"type\":\"BasicTickFormatter\"},{\"attributes\":{\"line_color\":{\"value\":\"red\"},\"line_width\":{\"value\":2},\"x\":{\"field\":\"x\"},\"y\":{\"field\":\"y\"}},\"id\":\"aca392e6-69a1-4794-a8c4-2dc01d035fbe\",\"type\":\"Line\"},{\"attributes\":{\"plot\":{\"id\":\"4a4d436d-255f-4335-8d9c-e1391d214d68\",\"subtype\":\"Figure\",\"type\":\"Plot\"},\"ticker\":{\"id\":\"a74d0610-e3fb-48cc-b041-f81b5e2f8303\",\"type\":\"BasicTicker\"}},\"id\":\"e0bd856c-05a8-4f4d-81ef-2be61e46ffc4\",\"type\":\"Grid\"},{\"attributes\":{\"line_color\":{\"value\":\"red\"},\"line_dash\":[4,4],\"line_width\":{\"value\":2},\"x\":{\"field\":\"x\"},\"y\":{\"field\":\"y\"}},\"id\":\"96eedcff-b32d-472d-b4d2-6043756d080f\",\"type\":\"Line\"},{\"attributes\":{\"bottom_units\":\"screen\",\"fill_alpha\":{\"value\":0.5},\"fill_color\":{\"value\":\"lightgrey\"},\"left_units\":\"screen\",\"level\":\"overlay\",\"line_alpha\":{\"value\":1.0},\"line_color\":{\"value\":\"black\"},\"line_dash\":[4,4],\"line_width\":{\"value\":2},\"plot\":null,\"render_mode\":\"css\",\"right_units\":\"screen\",\"top_units\":\"screen\"},\"id\":\"d6bf8068-5729-4796-a4fc-c12031e9eff9\",\"type\":\"BoxAnnotation\"},{\"attributes\":{\"line_alpha\":{\"value\":0.1},\"line_color\":{\"value\":\"#1f77b4\"},\"line_dash\":[4,4],\"line_width\":{\"value\":2},\"x\":{\"field\":\"x\"},\"y\":{\"field\":\"y\"}},\"id\":\"6beb50b8-ebc9-448e-accc-cb79193c5dca\",\"type\":\"Line\"},{\"attributes\":{\"data_source\":{\"id\":\"b28f8839-0baf-4548-8392-414c46e6d669\",\"type\":\"ColumnDataSource\"},\"glyph\":{\"id\":\"7a827644-9df7-45c3-9330-a97b477bcbf1\",\"type\":\"Circle\"},\"hover_glyph\":null,\"nonselection_glyph\":{\"id\":\"52dc43e0-3fcc-4246-b0d6-3b2a528492f2\",\"type\":\"Circle\"},\"selection_glyph\":null},\"id\":\"eec64811-f433-4bdf-9f9b-c4cded32466d\",\"type\":\"GlyphRenderer\"},{\"attributes\":{\"line_color\":{\"value\":\"red\"},\"line_dash\":[4,4],\"line_width\":{\"value\":2},\"x\":{\"field\":\"x\"},\"y\":{\"field\":\"y\"}},\"id\":\"731c70dd-eb86-40d3-a35a-01bd99c6c8d9\",\"type\":\"Line\"},{\"attributes\":{\"bottom_units\":\"screen\",\"fill_alpha\":{\"value\":0.5},\"fill_color\":{\"value\":\"lightgrey\"},\"left_units\":\"screen\",\"level\":\"overlay\",\"line_alpha\":{\"value\":1.0},\"line_color\":{\"value\":\"black\"},\"line_dash\":[4,4],\"line_width\":{\"value\":2},\"plot\":null,\"render_mode\":\"css\",\"right_units\":\"screen\",\"top_units\":\"screen\"},\"id\":\"a52e9846-dd2e-4ffa-a189-53e634117791\",\"type\":\"BoxAnnotation\"},{\"attributes\":{\"callback\":null,\"column_names\":[\"y\",\"x\"],\"data\":{\"x\":[-1,45],\"y\":[74.3882298853647,74.3882298853647]}},\"id\":\"3cff1d4a-cf79-4fe1-8f70-700638689654\",\"type\":\"ColumnDataSource\"},{\"attributes\":{\"data_source\":{\"id\":\"b0caba47-41bd-4c81-9d93-19fe2998b616\",\"type\":\"ColumnDataSource\"},\"glyph\":{\"id\":\"9f36b78c-adeb-4f30-9f77-7a63cfea9a12\",\"type\":\"Line\"},\"hover_glyph\":null,\"nonselection_glyph\":{\"id\":\"827bde17-3f57-4d56-8e0e-4e7fe537b3b7\",\"type\":\"Line\"},\"selection_glyph\":null},\"id\":\"23489ebb-9d74-4518-bfc5-1d74a2d3c156\",\"type\":\"GlyphRenderer\"},{\"attributes\":{\"bottom_units\":\"screen\",\"fill_alpha\":{\"value\":0.5},\"fill_color\":{\"value\":\"lightgrey\"},\"left_units\":\"screen\",\"level\":\"overlay\",\"line_alpha\":{\"value\":1.0},\"line_color\":{\"value\":\"black\"},\"line_dash\":[4,4],\"line_width\":{\"value\":2},\"plot\":null,\"render_mode\":\"css\",\"right_units\":\"screen\",\"top_units\":\"screen\"},\"id\":\"d6cae131-ff21-49a6-bb40-7419e20d59cc\",\"type\":\"BoxAnnotation\"},{\"attributes\":{\"bottom_units\":\"screen\",\"fill_alpha\":{\"value\":0.5},\"fill_color\":{\"value\":\"lightgrey\"},\"left_units\":\"screen\",\"level\":\"overlay\",\"line_alpha\":{\"value\":1.0},\"line_color\":{\"value\":\"black\"},\"line_dash\":[4,4],\"line_width\":{\"value\":2},\"plot\":null,\"render_mode\":\"css\",\"right_units\":\"screen\",\"top_units\":\"screen\"},\"id\":\"c412ae3a-3c1f-4ea9-93ed-bbdbaebd67ae\",\"type\":\"BoxAnnotation\"},{\"attributes\":{\"callback\":null,\"plot\":{\"id\":\"4a4d436d-255f-4335-8d9c-e1391d214d68\",\"subtype\":\"Figure\",\"type\":\"Plot\"},\"tooltips\":[[\"song\",\"@song\"],[\"album\",\"@album\"]]},\"id\":\"c74d6917-2339-4027-9614-7d8bd0b6b913\",\"type\":\"HoverTool\"},{\"attributes\":{\"plot\":{\"id\":\"c4b3a879-ecc0-433b-ab6e-393d30e0a4fd\",\"subtype\":\"Figure\",\"type\":\"Plot\"},\"ticker\":{\"id\":\"79a09a53-902d-4f2f-9e72-94a430737346\",\"type\":\"BasicTicker\"}},\"id\":\"68f95b47-03d6-4754-8170-58c27a1acc6a\",\"type\":\"Grid\"},{\"attributes\":{\"callback\":null,\"column_names\":[\"y\",\"x\"],\"data\":{\"x\":[0.0,1.0,2.0,3.0,4.0,5.0,6.0,7.0,8.0,9.0,10.0,11.0,12.0,13.0,14.0,15.0,16.0,17.0,18.0,19.0,20.0,21.0,22.0,23.0,24.0,25.0,26.0,27.0,28.0,29.0,30.0,31.0,32.0,33.0,34.0,35.0,36.0,37.0,38.0,39.0,40.0,41.0,42.0,43.0,44.0,45.0,46.0,47.0,48.0,49.0,50.0,51.0,52.0,53.0,54.0,55.0,56.0,57.0,58.0,59.0,60.0,61.0,62.0,63.0,64.0,65.0,66.0,67.0,68.0,69.0,70.0,71.0,72.0,73.0,74.0,75.0,76.0,77.0,78.0,79.0,80.0,81.0,82.0,83.0,84.0,85.0,86.0,87.0,88.0,89.0,90.0,91.0,92.0,93.0,94.0,95.0,96.0,97.0,98.0,99.0],\"y\":[5.817063634290186,6.213079567299863,6.6090955003095395,7.005111433319216,7.401127366328894,7.797143299338571,8.193159232348247,8.589175165357926,8.985191098367602,9.38120703137728,9.777222964386956,10.173238897396633,10.56925483040631,10.965270763415987,11.361286696425665,11.75730262943534,12.153318562445019,12.549334495454694,12.945350428464373,13.34136636147405,13.737382294483726,14.133398227493403,14.52941416050308,14.925430093512757,15.321446026522434,15.71746195953211,16.113477892541788,16.509493825551466,16.905509758561145,17.30152569157082,17.697541624580495,18.093557557590174,18.489573490599852,18.885589423609527,19.281605356619202,19.67762128962888,20.07363722263856,20.469653155648235,20.865669088657913,21.26168502166759,21.657700954677267,22.053716887686942,22.44973282069662,22.8457487537063,23.241764686715975,23.637780619725653,24.03379655273533,24.429812485745007,24.825828418754682,25.22184435176436,25.617860284774036,26.013876217783714,26.40989215079339,26.805908083803068,27.201924016812747,27.597939949822422,27.9939558828321,28.389971815841776,28.785987748851454,29.18200368186113,29.578019614870808,29.974035547880483,30.37005148089016,30.766067413899837,31.162083346909515,31.558099279919194,31.95411521292887,32.35013114593855,32.746147078948226,33.142163011957905,33.53817894496758,33.934194877977255,34.33021081098693,34.726226743996605,35.122242677006284,35.51825861001596,35.91427454302564,36.31029047603532,36.706306409045,37.10232234205467,37.49833827506435,37.89435420807403,38.2903701410837,38.68638607409338,39.082402007103056,39.478417940112735,39.87443387312241,40.270449806132085,40.66646573914176,41.06248167215144,41.45849760516112,41.85451353817079,42.25052947118047,42.64654540419015,43.04256133719983,43.4385772702095,43.83459320321918,44.23060913622886,44.626625069238536,45.022641002248214]}},\"id\":\"65fd2086-66f6-4ef6-96c1-679c1a563eca\",\"type\":\"ColumnDataSource\"},{\"attributes\":{\"data_source\":{\"id\":\"ad0e4994-422a-430d-ba96-d14e636d8dda\",\"type\":\"ColumnDataSource\"},\"glyph\":{\"id\":\"3b7e2696-cf9c-4238-b3a6-d383f64b2dda\",\"type\":\"Line\"},\"hover_glyph\":null,\"nonselection_glyph\":{\"id\":\"347667e0-f03a-4c38-b13d-b61a1867046f\",\"type\":\"Line\"},\"selection_glyph\":null},\"id\":\"d7d65529-dd0e-420d-8584-9a05629a245d\",\"type\":\"GlyphRenderer\"},{\"attributes\":{},\"id\":\"8cf7ab97-6c8d-4a06-908f-b766d6277916\",\"type\":\"BasicTicker\"},{\"attributes\":{},\"id\":\"f694e5a7-67ea-405b-86c8-b19bc69a9215\",\"type\":\"ToolEvents\"},{\"attributes\":{\"axis_label\":\"Album Year\",\"formatter\":{\"id\":\"d1c30808-0821-40dc-b021-10ea871d3f76\",\"type\":\"BasicTickFormatter\"},\"plot\":{\"id\":\"4e696ab0-d96e-4cab-b1c5-5f2b4861d8bc\",\"subtype\":\"Figure\",\"type\":\"Plot\"},\"ticker\":{\"id\":\"e13c9409-d4f1-4f70-b2d8-9cf539d3af17\",\"type\":\"BasicTicker\"}},\"id\":\"301bda01-a690-4582-a552-b20b2c19b90f\",\"type\":\"LinearAxis\"},{\"attributes\":{\"fill_alpha\":{\"value\":0.1},\"fill_color\":{\"value\":\"#1f77b4\"},\"line_alpha\":{\"value\":0.1},\"line_color\":{\"value\":\"#1f77b4\"},\"size\":{\"units\":\"screen\",\"value\":12},\"x\":{\"field\":\"x\"},\"y\":{\"field\":\"y\"}},\"id\":\"7273c309-8e39-4b66-9d74-e4e332233b82\",\"type\":\"Circle\"},{\"attributes\":{\"bottom_units\":\"screen\",\"fill_alpha\":{\"value\":0.5},\"fill_color\":{\"value\":\"lightgrey\"},\"left_units\":\"screen\",\"level\":\"overlay\",\"line_alpha\":{\"value\":1.0},\"line_color\":{\"value\":\"black\"},\"line_dash\":[4,4],\"line_width\":{\"value\":2},\"plot\":null,\"render_mode\":\"css\",\"right_units\":\"screen\",\"top_units\":\"screen\"},\"id\":\"335123d1-029b-4008-a95b-8e240a8d4e96\",\"type\":\"BoxAnnotation\"},{\"attributes\":{},\"id\":\"6cdcb055-aa2d-46c1-af3f-33a49b2dfd52\",\"type\":\"BasicTickFormatter\"},{\"attributes\":{\"callback\":null,\"column_names\":[\"y\",\"x\"],\"data\":{\"x\":[56],\"y\":[40.0]}},\"id\":\"d8169078-3422-405e-99db-f97ca3db8c13\",\"type\":\"ColumnDataSource\"},{\"attributes\":{},\"id\":\"de5d8012-b12d-4eaf-b7bd-cebc8ab37903\",\"type\":\"BasicTickFormatter\"},{\"attributes\":{\"axis_label\":\"Popularity (Explicit Version)\",\"formatter\":{\"id\":\"de5d8012-b12d-4eaf-b7bd-cebc8ab37903\",\"type\":\"BasicTickFormatter\"},\"plot\":{\"id\":\"3616ae36-d489-4dc8-b94e-8f7dbc10e264\",\"subtype\":\"Figure\",\"type\":\"Plot\"},\"ticker\":{\"id\":\"8214ab64-e4ce-4661-a62b-87be4ed1add0\",\"type\":\"BasicTicker\"}},\"id\":\"6a7220b0-1192-4297-98e1-09aad97dfe2b\",\"type\":\"LinearAxis\"},{\"attributes\":{\"bottom_units\":\"screen\",\"fill_alpha\":{\"value\":0.5},\"fill_color\":{\"value\":\"lightgrey\"},\"left_units\":\"screen\",\"level\":\"overlay\",\"line_alpha\":{\"value\":1.0},\"line_color\":{\"value\":\"black\"},\"line_dash\":[4,4],\"line_width\":{\"value\":2},\"plot\":null,\"render_mode\":\"css\",\"right_units\":\"screen\",\"top_units\":\"screen\"},\"id\":\"70a686fb-3c3a-43b7-b77f-6d7e15a3618f\",\"type\":\"BoxAnnotation\"},{\"attributes\":{\"bottom\":{\"value\":0},\"fill_alpha\":{\"value\":0.1},\"fill_color\":{\"value\":\"#1f77b4\"},\"left\":{\"field\":\"left\"},\"line_alpha\":{\"value\":0.1},\"line_color\":{\"value\":\"#1f77b4\"},\"right\":{\"field\":\"right\"},\"top\":{\"field\":\"top\"}},\"id\":\"0427db36-4a2d-4de4-8c08-da7eaecd9152\",\"type\":\"Quad\"},{\"attributes\":{\"axis_label\":\"Album Year\",\"formatter\":{\"id\":\"14200525-12ae-4892-85c1-67f5c954f4bd\",\"type\":\"BasicTickFormatter\"},\"plot\":{\"id\":\"87004a05-fd1e-4435-ab9a-c02034cd2ae0\",\"subtype\":\"Figure\",\"type\":\"Plot\"},\"ticker\":{\"id\":\"3611e479-ec6e-4acf-af7e-c970757af630\",\"type\":\"BasicTicker\"}},\"id\":\"5415e952-a3f7-4b01-bd64-934db80bfd3e\",\"type\":\"LinearAxis\"},{\"attributes\":{},\"id\":\"14200525-12ae-4892-85c1-67f5c954f4bd\",\"type\":\"BasicTickFormatter\"},{\"attributes\":{\"plot\":{\"id\":\"f0cbd62f-278f-4516-a395-9babb5082038\",\"subtype\":\"Figure\",\"type\":\"Plot\"}},\"id\":\"780568e9-5eba-4c8d-b8f3-87bacbc8681d\",\"type\":\"ResetTool\"},{\"attributes\":{},\"id\":\"e701de83-94a3-4a53-a4c3-22d0b1d563c5\",\"type\":\"ToolEvents\"},{\"attributes\":{\"callback\":null,\"column_names\":[\"y\",\"x\"],\"data\":{\"x\":[19,50],\"y\":[19,50]}},\"id\":\"24eb72a4-c8f7-43df-b3e3-2b75903cf223\",\"type\":\"ColumnDataSource\"},{\"attributes\":{\"line_color\":{\"value\":\"red\"},\"line_dash\":[4,4],\"line_width\":{\"value\":2},\"x\":{\"field\":\"x\"},\"y\":{\"field\":\"y\"}},\"id\":\"37d95cf6-6c82-474b-bd53-cb7f1e1d5888\",\"type\":\"Line\"},{\"attributes\":{\"data_source\":{\"id\":\"a956e3fd-6601-4f76-a6d5-9406af1b7f72\",\"type\":\"ColumnDataSource\"},\"glyph\":{\"id\":\"7620232d-cfff-4f76-9bb5-1b6dc72642d7\",\"type\":\"Quad\"},\"hover_glyph\":null,\"nonselection_glyph\":{\"id\":\"4b00a3f6-43dc-4eac-a458-15694836d16d\",\"type\":\"Quad\"},\"selection_glyph\":null},\"id\":\"eb434d8a-ed69-4e9d-a51b-04f31ad120fc\",\"type\":\"GlyphRenderer\"},{\"attributes\":{\"data_source\":{\"id\":\"38590e56-0dbe-47c0-9975-eaaa25b6fdcd\",\"type\":\"ColumnDataSource\"},\"glyph\":{\"id\":\"e0970849-ea39-49fc-888a-1bbe8005c30a\",\"type\":\"Line\"},\"hover_glyph\":null,\"nonselection_glyph\":{\"id\":\"078fddce-07d5-4b8f-9929-bf3af0c7254b\",\"type\":\"Line\"},\"selection_glyph\":null},\"id\":\"c6e16a99-eed3-433d-a212-1fe5aaba5202\",\"type\":\"GlyphRenderer\"},{\"attributes\":{\"callback\":null},\"id\":\"d0d5df73-bc71-41d0-b6d5-99149a3da3ba\",\"type\":\"DataRange1d\"},{\"attributes\":{\"callback\":null,\"column_names\":[\"y\",\"x\"],\"data\":{\"x\":[2000,2017],\"y\":[78.75,78.75]}},\"id\":\"0bd92b21-59d0-4a4d-8180-331ce42f1724\",\"type\":\"ColumnDataSource\"},{\"attributes\":{\"line_alpha\":{\"value\":0.1},\"line_color\":{\"value\":\"#1f77b4\"},\"line_dash\":[4,4],\"line_width\":{\"value\":2},\"x\":{\"field\":\"x\"},\"y\":{\"field\":\"y\"}},\"id\":\"078fddce-07d5-4b8f-9929-bf3af0c7254b\",\"type\":\"Line\"},{\"attributes\":{},\"id\":\"f4c8074a-47b7-4d9f-8da7-8ad9afb792a0\",\"type\":\"BasicTickFormatter\"},{\"attributes\":{\"overlay\":{\"id\":\"b7a73df1-8d59-4d28-9711-c8f831becb80\",\"type\":\"BoxAnnotation\"},\"plot\":{\"id\":\"c7e8162f-cc19-4796-bd8e-4bc85c8da834\",\"subtype\":\"Figure\",\"type\":\"Plot\"}},\"id\":\"3a543fb9-9100-410c-870b-e49fc6e36e58\",\"type\":\"BoxZoomTool\"},{\"attributes\":{\"callback\":null,\"column_names\":[\"y\",\"x\"],\"data\":{\"x\":[-1,45],\"y\":[56.67391304347826,56.67391304347826]}},\"id\":\"ae427e73-74a2-450f-bffc-71b831247457\",\"type\":\"ColumnDataSource\"},{\"attributes\":{\"callback\":null,\"column_names\":[\"y\",\"x\"],\"data\":{\"x\":[2003,2017],\"y\":[85.30267121104058,85.30267121104058]}},\"id\":\"f70c4b7b-ece7-44f9-889b-79489e310d87\",\"type\":\"ColumnDataSource\"},{\"attributes\":{\"line_color\":{\"value\":\"blue\"},\"line_width\":{\"value\":2},\"x\":{\"field\":\"x\"},\"y\":{\"field\":\"y\"}},\"id\":\"2ffe86cd-6e42-4848-abba-d5ab5e78c3a0\",\"type\":\"Line\"},{\"attributes\":{\"line_color\":{\"value\":\"red\"},\"line_dash\":[4,4],\"line_width\":{\"value\":2},\"x\":{\"field\":\"x\"},\"y\":{\"field\":\"y\"}},\"id\":\"3f59f421-d9b9-4a2a-bbe6-fbd0740ca468\",\"type\":\"Line\"},{\"attributes\":{\"data_source\":{\"id\":\"427bd790-bff5-4735-92b1-3ae194829412\",\"type\":\"ColumnDataSource\"},\"glyph\":{\"id\":\"6d23cc85-286c-47f0-a873-846f88714dd0\",\"type\":\"Line\"},\"hover_glyph\":null,\"nonselection_glyph\":{\"id\":\"99f67a3a-95a7-4670-a7f8-501708d67806\",\"type\":\"Line\"},\"selection_glyph\":null},\"id\":\"42282dec-f3e3-4e78-9fce-0fd0a4c6dd11\",\"type\":\"GlyphRenderer\"},{\"attributes\":{},\"id\":\"55a9ea6a-4fbb-4ce6-8a6c-879b4e0b23d2\",\"type\":\"BasicTicker\"},{\"attributes\":{\"callback\":null},\"id\":\"77bce5fb-626b-41ec-9f76-c691c69912ba\",\"type\":\"DataRange1d\"},{\"attributes\":{\"fill_alpha\":{\"value\":0.4},\"fill_color\":{\"value\":\"black\"},\"size\":{\"units\":\"screen\",\"value\":7},\"x\":{\"field\":\"x\"},\"y\":{\"field\":\"y\"}},\"id\":\"55b1f6b3-3d17-4be9-a9f4-a4aad4229063\",\"type\":\"Circle\"},{\"attributes\":{\"callback\":null},\"id\":\"b4fab627-c1af-4169-9857-cc2578b60ee5\",\"type\":\"DataRange1d\"},{\"attributes\":{},\"id\":\"1822efb6-f87f-4e78-b198-17519e2f7381\",\"type\":\"BasicTickFormatter\"},{\"attributes\":{\"plot\":{\"id\":\"5763382d-75de-4932-aa18-5d1f033657d2\",\"subtype\":\"Figure\",\"type\":\"Plot\"},\"ticker\":{\"id\":\"e6c06f8b-fccd-42c2-b22f-fb23ac7d6d2a\",\"type\":\"BasicTicker\"}},\"id\":\"c0d68fca-99a1-4557-a417-2e34a770498b\",\"type\":\"Grid\"},{\"attributes\":{\"data_source\":{\"id\":\"aa8c9241-cd1c-4f73-999b-cafd59ef819e\",\"type\":\"ColumnDataSource\"},\"glyph\":{\"id\":\"45993d78-6016-4ea7-be4a-d006151d375e\",\"type\":\"Line\"},\"hover_glyph\":null,\"nonselection_glyph\":{\"id\":\"9b79316c-a777-4a92-af4e-363b1ab60daf\",\"type\":\"Line\"},\"selection_glyph\":null},\"id\":\"c1bb538a-725a-4116-bbf8-9a9664e50b69\",\"type\":\"GlyphRenderer\"},{\"attributes\":{\"plot\":{\"id\":\"4ec5713c-3a2c-479d-9d6e-f0ce4a54d454\",\"subtype\":\"Figure\",\"type\":\"Plot\"}},\"id\":\"ba81b15f-3d28-4fd8-abe0-d3207d122db7\",\"type\":\"HelpTool\"},{\"attributes\":{\"fill_color\":{\"value\":\"gold\"},\"line_color\":{\"value\":\"gold\"},\"size\":{\"units\":\"screen\",\"value\":12},\"x\":{\"field\":\"x\"},\"y\":{\"field\":\"y\"}},\"id\":\"e62db179-da5b-4180-8f72-c2b41d332c3b\",\"type\":\"Circle\"},{\"attributes\":{\"bottom_units\":\"screen\",\"fill_alpha\":{\"value\":0.5},\"fill_color\":{\"value\":\"lightgrey\"},\"left_units\":\"screen\",\"level\":\"overlay\",\"line_alpha\":{\"value\":1.0},\"line_color\":{\"value\":\"black\"},\"line_dash\":[4,4],\"line_width\":{\"value\":2},\"plot\":null,\"render_mode\":\"css\",\"right_units\":\"screen\",\"top_units\":\"screen\"},\"id\":\"c8451158-2173-4369-9c8b-0aea0debd5e5\",\"type\":\"BoxAnnotation\"},{\"attributes\":{\"callback\":null,\"column_names\":[\"y\",\"x\"],\"data\":{\"x\":[-1,10],\"y\":[71.32379775518366,71.32379775518366]}},\"id\":\"854f450e-1e12-41cf-a564-4d4ff3be56ef\",\"type\":\"ColumnDataSource\"},{\"attributes\":{},\"id\":\"f7ba4e77-ad10-412b-9e84-c24a23afe61c\",\"type\":\"BasicTickFormatter\"},{\"attributes\":{\"bottom\":{\"value\":0},\"fill_alpha\":{\"value\":0.2},\"fill_color\":{\"value\":\"white\"},\"left\":{\"field\":\"left\"},\"line_color\":{\"value\":\"blue\"},\"right\":{\"field\":\"right\"},\"top\":{\"field\":\"top\"}},\"id\":\"b1c63d2f-135f-4776-8895-91473684f08f\",\"type\":\"Quad\"},{\"attributes\":{\"below\":[{\"id\":\"6904fc17-fb81-449b-8e41-e63e467003b8\",\"type\":\"LinearAxis\"}],\"left\":[{\"id\":\"5c06a52c-de4a-46e2-a0bf-0dedcf24c810\",\"type\":\"LinearAxis\"}],\"plot_height\":400,\"renderers\":[{\"id\":\"6904fc17-fb81-449b-8e41-e63e467003b8\",\"type\":\"LinearAxis\"},{\"id\":\"1b30ac20-b372-456e-9fed-87a4d58905a4\",\"type\":\"Grid\"},{\"id\":\"5c06a52c-de4a-46e2-a0bf-0dedcf24c810\",\"type\":\"LinearAxis\"},{\"id\":\"02676e2f-9363-45ba-9b34-19abf2432175\",\"type\":\"Grid\"},{\"id\":\"40076bb1-bfa7-4189-b8e1-3527cd3d4a01\",\"type\":\"BoxAnnotation\"},{\"id\":\"426b716a-8797-4b5a-91c7-c6f503e4bd83\",\"type\":\"Legend\"},{\"id\":\"444f5023-1940-47a5-aaff-c4a61f3b3db5\",\"type\":\"GlyphRenderer\"},{\"id\":\"d100adc5-ed19-4508-b424-f3fe4d7b58ec\",\"type\":\"GlyphRenderer\"}],\"tool_events\":{\"id\":\"71c591c6-51f1-4058-a975-ec54d044b448\",\"type\":\"ToolEvents\"},\"tools\":[{\"id\":\"b8c3d11b-9499-412b-8539-1fea367b6bca\",\"type\":\"PanTool\"},{\"id\":\"33c6e98b-bde0-4721-b85c-71e490d056d7\",\"type\":\"WheelZoomTool\"},{\"id\":\"a7263f89-1bc6-42c8-9e42-39601d7c6933\",\"type\":\"BoxZoomTool\"},{\"id\":\"683f3913-5159-4950-b325-32fa6c23d203\",\"type\":\"PreviewSaveTool\"},{\"id\":\"6859dd9c-c926-4637-b7bf-bdba28ac02b3\",\"type\":\"ResizeTool\"},{\"id\":\"78db55da-bc62-4f7a-a71a-c2ea8a098dd0\",\"type\":\"ResetTool\"},{\"id\":\"ba81b15f-3d28-4fd8-abe0-d3207d122db7\",\"type\":\"HelpTool\"}],\"x_range\":{\"id\":\"5cbc0cb8-8769-42d1-b165-ec106a7a1aba\",\"type\":\"DataRange1d\"},\"y_range\":{\"id\":\"3e925dc7-428b-4ab8-ae4c-5088d636e574\",\"type\":\"DataRange1d\"}},\"id\":\"4ec5713c-3a2c-479d-9d6e-f0ce4a54d454\",\"subtype\":\"Figure\",\"type\":\"Plot\"},{\"attributes\":{\"plot\":{\"id\":\"906090f5-7fc8-4666-bdc4-2cfa29be15ef\",\"subtype\":\"Figure\",\"type\":\"Plot\"}},\"id\":\"2120b579-ee11-4156-8fe1-edebecbf1f54\",\"type\":\"ResetTool\"},{\"attributes\":{},\"id\":\"82b7995b-6760-4da5-b76e-bec5c3ff06ed\",\"type\":\"BasicTicker\"},{\"attributes\":{\"line_color\":{\"value\":\"red\"},\"line_dash\":[4,4],\"line_width\":{\"value\":2},\"x\":{\"field\":\"x\"},\"y\":{\"field\":\"y\"}},\"id\":\"68b92349-841b-43b2-be4d-d9a09626a624\",\"type\":\"Line\"},{\"attributes\":{},\"id\":\"bb60433c-8384-4f29-a487-69bd8e59114d\",\"type\":\"BasicTicker\"},{\"attributes\":{\"callback\":null,\"column_names\":[\"y\",\"x\"],\"data\":{\"x\":[19,50],\"y\":[19,50]}},\"id\":\"ce9377fc-a9b5-4147-b266-925172576b72\",\"type\":\"ColumnDataSource\"},{\"attributes\":{\"line_alpha\":{\"value\":0.1},\"line_color\":{\"value\":\"#1f77b4\"},\"line_dash\":[4,4],\"line_width\":{\"value\":2},\"x\":{\"field\":\"x\"},\"y\":{\"field\":\"y\"}},\"id\":\"89b11470-dd86-4bd4-be48-c06a643ee8bb\",\"type\":\"Line\"},{\"attributes\":{\"dimension\":1,\"plot\":{\"id\":\"f8d0ef78-8fe7-49c2-8a93-afe1dcadb6b4\",\"subtype\":\"Figure\",\"type\":\"Plot\"},\"ticker\":{\"id\":\"8a8c08bd-b223-49c6-b238-f74f1343dfb2\",\"type\":\"BasicTicker\"}},\"id\":\"0a303161-f1d0-46b4-ab71-647bcc3de371\",\"type\":\"Grid\"},{\"attributes\":{\"dimension\":1,\"plot\":{\"id\":\"00954d86-a32b-49f4-b0b3-c33b05112bed\",\"subtype\":\"Figure\",\"type\":\"Plot\"},\"ticker\":{\"id\":\"f4919ead-faa7-494a-91b7-7d9a9b8cd8c0\",\"type\":\"BasicTicker\"}},\"id\":\"b0b5a1ae-fecd-4de1-a2e0-184fe92c094d\",\"type\":\"Grid\"},{\"attributes\":{\"overlay\":{\"id\":\"d4dca88a-3ae0-49e7-88b0-9ae09c9857e7\",\"type\":\"BoxAnnotation\"},\"plot\":{\"id\":\"4ffbe01a-4dc5-41a4-b3e4-1da56420e097\",\"subtype\":\"Figure\",\"type\":\"Plot\"}},\"id\":\"342e189e-a6c4-46a0-9a2c-f4e37b866f72\",\"type\":\"BoxZoomTool\"},{\"attributes\":{\"below\":[{\"id\":\"83a0c4a3-8432-4e1a-b571-d8e4f384096e\",\"type\":\"LinearAxis\"}],\"left\":[{\"id\":\"eee51a06-9ebf-4009-a4d5-c26235fa4242\",\"type\":\"LinearAxis\"}],\"plot_height\":500,\"renderers\":[{\"id\":\"83a0c4a3-8432-4e1a-b571-d8e4f384096e\",\"type\":\"LinearAxis\"},{\"id\":\"6089a5e1-e302-402c-bbaf-4d73251fdd04\",\"type\":\"Grid\"},{\"id\":\"eee51a06-9ebf-4009-a4d5-c26235fa4242\",\"type\":\"LinearAxis\"},{\"id\":\"74614a42-aec9-4ab4-aa5b-86522b3ba1e8\",\"type\":\"Grid\"},{\"id\":\"0ab540d4-60dd-4b43-93ae-42842b46483b\",\"type\":\"BoxAnnotation\"},{\"id\":\"ed203345-b0c3-4310-b0a8-5ad8d10e7512\",\"type\":\"GlyphRenderer\"},{\"id\":\"d7b8dd7c-60f0-45b9-adf7-9617372a8ea9\",\"type\":\"GlyphRenderer\"},{\"id\":\"d7337c1c-980c-4ca6-8011-4297728e76a7\",\"type\":\"GlyphRenderer\"},{\"id\":\"912afba4-8957-49d8-ae4f-372ba1eca9bd\",\"type\":\"GlyphRenderer\"},{\"id\":\"04e0b68d-bd45-44e5-a34f-7dfb4f9a2d73\",\"type\":\"GlyphRenderer\"}],\"tool_events\":{\"id\":\"ce17c3ca-d521-4c22-9bb8-810c8ad5edc1\",\"type\":\"ToolEvents\"},\"tools\":[{\"id\":\"e39da555-1c14-46f0-b5ff-d96f95615c9e\",\"type\":\"BoxZoomTool\"},{\"id\":\"d2fb5fc3-4b58-453d-b828-e01b89b460b1\",\"type\":\"ResetTool\"},{\"id\":\"40f762b2-7da1-4e62-8a16-0af3594206da\",\"type\":\"HoverTool\"}],\"x_range\":{\"id\":\"aba07958-ee2f-4c2b-b2a0-88844052c34a\",\"type\":\"DataRange1d\"},\"y_range\":{\"id\":\"9cfec26d-d77a-40bd-b9f3-499c78969f83\",\"type\":\"DataRange1d\"}},\"id\":\"c163acbe-edba-4d39-ae8f-0c56519a9cc4\",\"subtype\":\"Figure\",\"type\":\"Plot\"},{\"attributes\":{\"line_color\":{\"value\":\"red\"},\"line_width\":{\"value\":2},\"x\":{\"field\":\"x\"},\"y\":{\"field\":\"y\"}},\"id\":\"c2b9b7ae-1333-4cef-b412-94c91a409508\",\"type\":\"Line\"},{\"attributes\":{\"data_source\":{\"id\":\"1953078a-84af-4f44-8b46-2b4b50eff9f7\",\"type\":\"ColumnDataSource\"},\"glyph\":{\"id\":\"105526fc-c993-4d5b-b334-f76ff7e67164\",\"type\":\"Circle\"},\"hover_glyph\":null,\"nonselection_glyph\":{\"id\":\"2987f3e6-22f4-49c1-8a56-93de3f185db5\",\"type\":\"Circle\"},\"selection_glyph\":null},\"id\":\"def9fd3f-2510-4956-82a0-bc259f01ac3c\",\"type\":\"GlyphRenderer\"},{\"attributes\":{},\"id\":\"9332969d-8cad-4961-bad7-c5d666b70b04\",\"type\":\"BasicTickFormatter\"},{\"attributes\":{\"below\":[{\"id\":\"d25cfbb7-b381-42b6-aaa8-6a14d7b91de6\",\"type\":\"LinearAxis\"}],\"left\":[{\"id\":\"ebffbba0-a95c-4147-9f5f-662d510a159d\",\"type\":\"LinearAxis\"}],\"plot_height\":500,\"renderers\":[{\"id\":\"d25cfbb7-b381-42b6-aaa8-6a14d7b91de6\",\"type\":\"LinearAxis\"},{\"id\":\"4735b095-16c3-48f2-98f8-c6df725efb61\",\"type\":\"Grid\"},{\"id\":\"ebffbba0-a95c-4147-9f5f-662d510a159d\",\"type\":\"LinearAxis\"},{\"id\":\"48515ef3-6d79-454c-9008-128cc433678a\",\"type\":\"Grid\"},{\"id\":\"bf1cd74b-2654-4e27-a8b6-b22b6045516d\",\"type\":\"BoxAnnotation\"},{\"id\":\"90f305ec-ef05-40ab-a9b5-7a469b70a8d0\",\"type\":\"GlyphRenderer\"},{\"id\":\"8595a94d-0c7b-44d9-8df2-06b45288643d\",\"type\":\"GlyphRenderer\"},{\"id\":\"74fb3894-91ff-4267-975a-1bcf087e342c\",\"type\":\"GlyphRenderer\"},{\"id\":\"c477a25b-77c6-4a8c-a295-17c27202d82f\",\"type\":\"GlyphRenderer\"},{\"id\":\"66f4f4d0-2264-499b-ae44-5b5964ef92fa\",\"type\":\"GlyphRenderer\"}],\"tool_events\":{\"id\":\"c6b4c4ff-8b59-4f6b-8670-588e1d5328a1\",\"type\":\"ToolEvents\"},\"tools\":[{\"id\":\"68a877e8-2f83-418f-925a-a0161bb8b416\",\"type\":\"BoxZoomTool\"},{\"id\":\"c017a0b9-1d9b-42cf-beec-d151e6c2bc6a\",\"type\":\"ResetTool\"},{\"id\":\"497fdc86-3748-4885-81f0-7ed65e81c2f0\",\"type\":\"HoverTool\"}],\"x_range\":{\"id\":\"28188933-6f7d-445b-9a85-7016ac778039\",\"type\":\"DataRange1d\"},\"y_range\":{\"id\":\"be7537a6-840c-4e87-ad01-772e41b6af65\",\"type\":\"DataRange1d\"}},\"id\":\"92b5ec37-ca99-4256-98f6-89b3d5e02eb3\",\"subtype\":\"Figure\",\"type\":\"Plot\"},{\"attributes\":{\"callback\":null},\"id\":\"8df807bb-e38a-4797-848b-cd528b0a5208\",\"type\":\"DataRange1d\"},{\"attributes\":{\"plot\":{\"id\":\"364976bb-91fe-4abc-8ff2-febda1eb7377\",\"subtype\":\"Figure\",\"type\":\"Plot\"},\"ticker\":{\"id\":\"a6ef89f7-5a0f-44eb-b45a-fae029765be1\",\"type\":\"BasicTicker\"}},\"id\":\"61b870a8-5129-40f8-b142-1b00b862ee1a\",\"type\":\"Grid\"},{\"attributes\":{\"callback\":null,\"plot\":{\"id\":\"d88ffe13-3f11-4938-b3bf-6ca710b53c87\",\"subtype\":\"Figure\",\"type\":\"Plot\"},\"tooltips\":[[\"Track\",\"@track\"],[\"album\",\"@album\"]]},\"id\":\"df657545-ce9e-4783-9e19-cda025edf06a\",\"type\":\"HoverTool\"},{\"attributes\":{\"legends\":[[\"Linear Regression\",[{\"id\":\"5fb75457-b28b-4ffb-b4c1-57e198dc280f\",\"type\":\"GlyphRenderer\"}]],[\"One-to-One\",[{\"id\":\"7a28d43c-f4e4-412a-b534-57d8d5661fb4\",\"type\":\"GlyphRenderer\"}]]],\"plot\":{\"id\":\"50fb0a0d-4a0a-457f-bcb5-db1a0b705072\",\"subtype\":\"Figure\",\"type\":\"Plot\"}},\"id\":\"5a82a51a-b456-491d-8bad-4baa8b7b17fa\",\"type\":\"Legend\"},{\"attributes\":{\"line_alpha\":{\"value\":0.1},\"line_color\":{\"value\":\"#1f77b4\"},\"line_dash\":[4,4],\"line_width\":{\"value\":2},\"x\":{\"field\":\"x\"},\"y\":{\"field\":\"y\"}},\"id\":\"5a1f6c19-707e-4aab-8f49-f3744fa121f6\",\"type\":\"Line\"},{\"attributes\":{\"data_source\":{\"id\":\"494b600a-a745-4921-87dd-c20e8a4eb04c\",\"type\":\"ColumnDataSource\"},\"glyph\":{\"id\":\"42d903b2-04b1-4120-98bf-931530935a7a\",\"type\":\"Quad\"},\"hover_glyph\":null,\"nonselection_glyph\":{\"id\":\"dca35dc2-e001-4477-b0f4-30fa2df3179e\",\"type\":\"Quad\"},\"selection_glyph\":null},\"id\":\"d9db22cc-e762-45a1-95a2-cbc5343ec96c\",\"type\":\"GlyphRenderer\"},{\"attributes\":{\"line_alpha\":{\"value\":0.1},\"line_color\":{\"value\":\"#1f77b4\"},\"line_dash\":[4,4],\"line_width\":{\"value\":2},\"x\":{\"field\":\"x\"},\"y\":{\"field\":\"y\"}},\"id\":\"7b649b0d-dbb6-4acf-8ab4-4d2a68bc675d\",\"type\":\"Line\"},{\"attributes\":{\"fill_alpha\":{\"value\":0.4},\"fill_color\":{\"field\":\"fill_color\"},\"line_color\":{\"field\":\"line_color\"},\"size\":{\"units\":\"screen\",\"value\":7},\"x\":{\"field\":\"x\"},\"y\":{\"field\":\"y\"}},\"id\":\"105526fc-c993-4d5b-b334-f76ff7e67164\",\"type\":\"Circle\"},{\"attributes\":{\"callback\":null},\"id\":\"5475e486-e667-41c7-8ea8-3a249572fe06\",\"type\":\"DataRange1d\"},{\"attributes\":{\"callback\":null,\"column_names\":[\"y\",\"x\"],\"data\":{\"x\":[-1,130],\"y\":[38.84347826086957,38.84347826086957]}},\"id\":\"a85a8151-2e4c-458d-b583-5a7e3882aecb\",\"type\":\"ColumnDataSource\"},{\"attributes\":{\"line_dash\":[4,4],\"line_width\":{\"value\":2},\"x\":{\"field\":\"x\"},\"y\":{\"field\":\"y\"}},\"id\":\"7f105035-59be-47af-ab2d-388db43a4f37\",\"type\":\"Line\"},{\"attributes\":{\"callback\":null,\"column_names\":[\"right\",\"top\",\"left\"],\"data\":{\"left\":[0.0,4.0,8.0,12.0,16.0,20.0,24.0,28.0,32.0,36.0,40.0,44.0,48.0,52.0,56.0,60.0,64.0,68.0,72.0,76.0,80.0,84.0,88.0,92.0,96.0],\"right\":[4.0,8.0,12.0,16.0,20.0,24.0,28.0,32.0,36.0,40.0,44.0,48.0,52.0,56.0,60.0,64.0,68.0,72.0,76.0,80.0,84.0,88.0,92.0,96.0,100.0],\"top\":[2,0,0,0,0,0,0,0,0,0,0,1,9,15,9,11,4,6,12,2,4,0,0,0,0]}},\"id\":\"7d3dc4bb-9eeb-440f-bf44-379e2e716204\",\"type\":\"ColumnDataSource\"},{\"attributes\":{\"data_source\":{\"id\":\"91cbe3ca-220e-41ba-850d-ae8d9282a85d\",\"type\":\"ColumnDataSource\"},\"glyph\":{\"id\":\"c2b9b7ae-1333-4cef-b412-94c91a409508\",\"type\":\"Line\"},\"hover_glyph\":null,\"nonselection_glyph\":{\"id\":\"e8a227d0-4c55-47f3-972e-d93344a9ff36\",\"type\":\"Line\"},\"selection_glyph\":null},\"id\":\"d66f9e6e-84b7-4fff-af39-ebaab886a291\",\"type\":\"GlyphRenderer\"},{\"attributes\":{\"data_source\":{\"id\":\"02e21157-996b-4934-bb44-8671833d07de\",\"type\":\"ColumnDataSource\"},\"glyph\":{\"id\":\"54537b9a-d39c-40b2-9b4e-b5f0c2650432\",\"type\":\"Circle\"},\"hover_glyph\":null,\"nonselection_glyph\":{\"id\":\"1faf7358-5f6e-48ac-850d-ae8b0f1c8dee\",\"type\":\"Circle\"},\"selection_glyph\":null},\"id\":\"453bc32e-273b-43bc-ad16-b546d34361f7\",\"type\":\"GlyphRenderer\"},{\"attributes\":{\"below\":[{\"id\":\"4c3eee25-beed-4cbf-904e-903cd25ccde4\",\"type\":\"LinearAxis\"}],\"left\":[{\"id\":\"706992f5-09c2-4c08-ae3b-73572ed349b5\",\"type\":\"LinearAxis\"}],\"plot_height\":400,\"renderers\":[{\"id\":\"4c3eee25-beed-4cbf-904e-903cd25ccde4\",\"type\":\"LinearAxis\"},{\"id\":\"1ac5cc1f-c032-44f7-b926-12d01270183f\",\"type\":\"Grid\"},{\"id\":\"706992f5-09c2-4c08-ae3b-73572ed349b5\",\"type\":\"LinearAxis\"},{\"id\":\"d328bbbd-5fd8-484b-9e51-612a0667659a\",\"type\":\"Grid\"},{\"id\":\"c53fdf6f-d720-4c03-bfa2-4e15829eed4f\",\"type\":\"BoxAnnotation\"},{\"id\":\"c4348f15-404a-4289-bc55-36d9fc7f5338\",\"type\":\"GlyphRenderer\"},{\"id\":\"486935c5-a3a6-4832-9ff5-148a6c1218db\",\"type\":\"GlyphRenderer\"}],\"tool_events\":{\"id\":\"7633448e-27be-4231-bca5-604af242126c\",\"type\":\"ToolEvents\"},\"tools\":[{\"id\":\"06cf3e57-cee6-4149-844b-cc05b0a013fb\",\"type\":\"BoxZoomTool\"},{\"id\":\"21c77674-448a-442c-9ae2-884d176625bd\",\"type\":\"ResetTool\"},{\"id\":\"734113de-0492-413e-9e1c-19c1939b00a4\",\"type\":\"HoverTool\"}],\"x_range\":{\"id\":\"a2f689b7-13e5-4b9d-a51c-43cb43ff9d8f\",\"type\":\"DataRange1d\"},\"y_range\":{\"id\":\"2c265865-be7a-4cde-a71e-64b9daf76e08\",\"type\":\"DataRange1d\"}},\"id\":\"ff811071-6dec-40fe-a96c-f0a67ca21b61\",\"subtype\":\"Figure\",\"type\":\"Plot\"},{\"attributes\":{\"data_source\":{\"id\":\"f70c4b7b-ece7-44f9-889b-79489e310d87\",\"type\":\"ColumnDataSource\"},\"glyph\":{\"id\":\"fc2d07c9-feb0-4ab5-8b0c-c1ca0ce85bfb\",\"type\":\"Line\"},\"hover_glyph\":null,\"nonselection_glyph\":{\"id\":\"8bcbbeba-5806-42b4-8b67-bf7e2983ac02\",\"type\":\"Line\"},\"selection_glyph\":null},\"id\":\"3141b13a-32a3-48e7-a9c9-b58a101799ca\",\"type\":\"GlyphRenderer\"},{\"attributes\":{\"below\":[{\"id\":\"ef85e85c-6987-4aea-85a4-c0b6bf559845\",\"type\":\"LinearAxis\"}],\"left\":[{\"id\":\"643b24ca-e264-4555-a068-ee018c13cfbf\",\"type\":\"LinearAxis\"}],\"plot_height\":500,\"renderers\":[{\"id\":\"ef85e85c-6987-4aea-85a4-c0b6bf559845\",\"type\":\"LinearAxis\"},{\"id\":\"fe9c04fc-a023-460b-a643-8827342c16f9\",\"type\":\"Grid\"},{\"id\":\"643b24ca-e264-4555-a068-ee018c13cfbf\",\"type\":\"LinearAxis\"},{\"id\":\"d047b8c8-50d5-49ee-b7e7-19291b44ced2\",\"type\":\"Grid\"},{\"id\":\"d6cae131-ff21-49a6-bb40-7419e20d59cc\",\"type\":\"BoxAnnotation\"},{\"id\":\"dd428bb2-8229-4215-80e2-a586d222ec62\",\"type\":\"GlyphRenderer\"},{\"id\":\"3d54dcb4-69a7-4a0f-9561-6bb039567fd1\",\"type\":\"Legend\"},{\"id\":\"1d5acea7-6552-40f4-8579-3fc1e54e9dda\",\"type\":\"GlyphRenderer\"},{\"id\":\"d5630ed1-d224-449e-bc5b-b8bd30c00b45\",\"type\":\"GlyphRenderer\"}],\"tool_events\":{\"id\":\"77887fb0-9d53-46d1-86b9-db4f2d3780bf\",\"type\":\"ToolEvents\"},\"tools\":[{\"id\":\"24d02c37-1372-4afd-b55b-84055c229373\",\"type\":\"BoxZoomTool\"},{\"id\":\"472ab9a7-7ac5-4880-ae8b-77b17cfc17bc\",\"type\":\"ResetTool\"},{\"id\":\"6c9b4644-1a23-4f24-8d64-1081cb37878d\",\"type\":\"HoverTool\"}],\"x_range\":{\"id\":\"39f032f9-a9ef-41a0-a26b-2fddff3ac7d0\",\"type\":\"DataRange1d\"},\"y_range\":{\"id\":\"673f7d57-7bc0-4369-93db-c90675af9655\",\"type\":\"DataRange1d\"}},\"id\":\"a406ebf3-7fee-4dd4-9327-caaf80fc284a\",\"subtype\":\"Figure\",\"type\":\"Plot\"},{\"attributes\":{\"callback\":null,\"column_names\":[\"y\",\"x\"],\"data\":{\"x\":[1],\"y\":[55.3125]}},\"id\":\"02e21157-996b-4934-bb44-8671833d07de\",\"type\":\"ColumnDataSource\"},{\"attributes\":{\"data_source\":{\"id\":\"46390122-3b59-40ce-9164-58f9645c2acb\",\"type\":\"ColumnDataSource\"},\"glyph\":{\"id\":\"2dca920f-ed73-47b4-92bd-9f873d2bc024\",\"type\":\"Line\"},\"hover_glyph\":null,\"nonselection_glyph\":{\"id\":\"12e9f61c-58eb-4654-8a0a-f77f4c642959\",\"type\":\"Line\"},\"selection_glyph\":null},\"id\":\"5cbe49c5-3515-4cc5-987c-23efa1704582\",\"type\":\"GlyphRenderer\"},{\"attributes\":{\"bottom_units\":\"screen\",\"fill_alpha\":{\"value\":0.5},\"fill_color\":{\"value\":\"lightgrey\"},\"left_units\":\"screen\",\"level\":\"overlay\",\"line_alpha\":{\"value\":1.0},\"line_color\":{\"value\":\"black\"},\"line_dash\":[4,4],\"line_width\":{\"value\":2},\"plot\":null,\"render_mode\":\"css\",\"right_units\":\"screen\",\"top_units\":\"screen\"},\"id\":\"bf1cd74b-2654-4e27-a8b6-b22b6045516d\",\"type\":\"BoxAnnotation\"},{\"attributes\":{\"line_alpha\":{\"value\":0.1},\"line_color\":{\"value\":\"#1f77b4\"},\"line_dash\":[4,4],\"line_width\":{\"value\":2},\"x\":{\"field\":\"x\"},\"y\":{\"field\":\"y\"}},\"id\":\"f60c7f19-cac3-4336-be86-a265e7e64889\",\"type\":\"Line\"},{\"attributes\":{\"callback\":null,\"column_names\":[\"y\",\"x\"],\"data\":{\"x\":[-1,130],\"y\":[53.27025969971829,53.27025969971829]}},\"id\":\"11f31baa-c449-4ac2-b62b-4c195c2a4655\",\"type\":\"ColumnDataSource\"},{\"attributes\":{\"line_color\":{\"value\":\"red\"},\"line_dash\":[4,4],\"line_width\":{\"value\":2},\"x\":{\"field\":\"x\"},\"y\":{\"field\":\"y\"}},\"id\":\"4a1af2e9-18cf-4b67-954a-24abd950c3f8\",\"type\":\"Line\"},{\"attributes\":{},\"id\":\"ce17c3ca-d521-4c22-9bb8-810c8ad5edc1\",\"type\":\"ToolEvents\"},{\"attributes\":{},\"id\":\"96e6bccd-5113-4ba7-b159-5a9d5f2fe46a\",\"type\":\"BasicTicker\"},{\"attributes\":{\"fill_color\":{\"value\":\"black\"},\"size\":{\"units\":\"screen\",\"value\":7},\"x\":{\"field\":\"x\"},\"y\":{\"field\":\"y\"}},\"id\":\"0167a9a0-7d7d-4f89-920c-71309f3f8e59\",\"type\":\"Circle\"},{\"attributes\":{},\"id\":\"9223b1bf-4fde-4f59-93e9-df29ba99c7ee\",\"type\":\"BasicTickFormatter\"},{\"attributes\":{\"data_source\":{\"id\":\"03c942c4-fd5b-4147-9b53-41d9d188ad55\",\"type\":\"ColumnDataSource\"},\"glyph\":{\"id\":\"99a68f7c-8399-463d-a234-dad3b1b183ed\",\"type\":\"Line\"},\"hover_glyph\":null,\"nonselection_glyph\":{\"id\":\"afc788ee-240b-43de-8850-23ae7faf6151\",\"type\":\"Line\"},\"selection_glyph\":null},\"id\":\"6802f9b1-cb76-440b-982a-795bd6bd52be\",\"type\":\"GlyphRenderer\"},{\"attributes\":{\"below\":[{\"id\":\"5a85af9d-bc4e-4440-bae5-b5a1051916c3\",\"type\":\"LinearAxis\"}],\"left\":[{\"id\":\"2983fca6-1783-4695-9943-fffd803297bc\",\"type\":\"LinearAxis\"}],\"plot_height\":500,\"renderers\":[{\"id\":\"5a85af9d-bc4e-4440-bae5-b5a1051916c3\",\"type\":\"LinearAxis\"},{\"id\":\"b65b5113-230e-4139-b9fb-9a126b24e135\",\"type\":\"Grid\"},{\"id\":\"2983fca6-1783-4695-9943-fffd803297bc\",\"type\":\"LinearAxis\"},{\"id\":\"858718e1-63c6-4c68-b19d-2a14d090c9a0\",\"type\":\"Grid\"},{\"id\":\"1c594e6b-d6b4-4a08-b945-f75396c0bcb7\",\"type\":\"BoxAnnotation\"},{\"id\":\"87c620db-bc3a-477d-ab03-1094b3cdd94f\",\"type\":\"GlyphRenderer\"},{\"id\":\"69ff8c12-c1bf-4034-a3b2-a1f6122c5e88\",\"type\":\"Legend\"},{\"id\":\"7abbbbbc-e459-41a4-8784-71dd5d28455c\",\"type\":\"GlyphRenderer\"},{\"id\":\"5cbe49c5-3515-4cc5-987c-23efa1704582\",\"type\":\"GlyphRenderer\"}],\"tool_events\":{\"id\":\"e0b0f541-dabd-4378-b3a8-1c3501386a41\",\"type\":\"ToolEvents\"},\"tools\":[{\"id\":\"fa0b37d1-f122-4166-b0d8-172f363149ef\",\"type\":\"BoxZoomTool\"},{\"id\":\"e3cbafdf-ae8a-41db-83d7-2a7298405b50\",\"type\":\"ResetTool\"},{\"id\":\"0e019564-1c7b-4070-962e-8e5a101d1bc0\",\"type\":\"HoverTool\"}],\"x_range\":{\"id\":\"0c219430-08bb-41b0-872a-743e3ccf6e18\",\"type\":\"DataRange1d\"},\"y_range\":{\"id\":\"77bce5fb-626b-41ec-9f76-c691c69912ba\",\"type\":\"DataRange1d\"}},\"id\":\"42d95f82-ea66-4636-bfa0-901593efc674\",\"subtype\":\"Figure\",\"type\":\"Plot\"},{\"attributes\":{\"data_source\":{\"id\":\"186cc859-dcf1-479e-b089-a737d9c534b5\",\"type\":\"ColumnDataSource\"},\"glyph\":{\"id\":\"390b642d-a08b-425b-8781-a1f3a350b6ce\",\"type\":\"Circle\"},\"hover_glyph\":null,\"nonselection_glyph\":{\"id\":\"0e80aa15-fcfa-44b3-852b-87b815e50ee7\",\"type\":\"Circle\"},\"selection_glyph\":null},\"id\":\"9ba91f8f-4aa8-439a-b22f-2a471023c3d5\",\"type\":\"GlyphRenderer\"},{\"attributes\":{\"plot\":{\"id\":\"c4b3a879-ecc0-433b-ab6e-393d30e0a4fd\",\"subtype\":\"Figure\",\"type\":\"Plot\"}},\"id\":\"059ef0ac-1574-4607-9c72-67d64fc77508\",\"type\":\"ResetTool\"},{\"attributes\":{},\"id\":\"d4695340-eca5-42cb-881a-3fe8a01a11ec\",\"type\":\"BasicTickFormatter\"},{\"attributes\":{\"callback\":null},\"id\":\"a2f689b7-13e5-4b9d-a51c-43cb43ff9d8f\",\"type\":\"DataRange1d\"},{\"attributes\":{\"line_width\":{\"value\":2},\"x\":{\"field\":\"x\"},\"y\":{\"field\":\"y\"}},\"id\":\"f1e721df-10fe-49c4-9516-0d11c5efbf35\",\"type\":\"Line\"},{\"attributes\":{\"line_alpha\":{\"value\":0.1},\"line_color\":{\"value\":\"#1f77b4\"},\"line_width\":{\"value\":2},\"x\":{\"field\":\"x\"},\"y\":{\"field\":\"y\"}},\"id\":\"c92fb238-0b7e-44c1-bad7-23fad7895c1a\",\"type\":\"Line\"},{\"attributes\":{\"data_source\":{\"id\":\"fe49adfb-f084-4ede-8b4b-a3c98bc105af\",\"type\":\"ColumnDataSource\"},\"glyph\":{\"id\":\"7f105035-59be-47af-ab2d-388db43a4f37\",\"type\":\"Line\"},\"hover_glyph\":null,\"nonselection_glyph\":{\"id\":\"9f19eefc-a673-42fd-bef4-ebf6b2dabf57\",\"type\":\"Line\"},\"selection_glyph\":null},\"id\":\"04e0b68d-bd45-44e5-a34f-7dfb4f9a2d73\",\"type\":\"GlyphRenderer\"},{\"attributes\":{\"data_source\":{\"id\":\"18f1c63c-342a-4f27-99e1-fd685e6a3f47\",\"type\":\"ColumnDataSource\"},\"glyph\":{\"id\":\"bae17215-4124-4b71-91cc-3d432af70813\",\"type\":\"Line\"},\"hover_glyph\":null,\"nonselection_glyph\":{\"id\":\"80fb5e46-93a0-4c00-a194-52f1c62fb999\",\"type\":\"Line\"},\"selection_glyph\":null},\"id\":\"5b9408c2-47b1-44cc-b87f-b1b8d1e4ce6e\",\"type\":\"GlyphRenderer\"},{\"attributes\":{\"callback\":null,\"column_names\":[\"y\",\"x\"],\"data\":{\"x\":[56],\"y\":[40.0]}},\"id\":\"e3040b2c-2339-4890-a26f-7e955c276f07\",\"type\":\"ColumnDataSource\"},{\"attributes\":{\"fill_alpha\":{\"value\":0.4},\"fill_color\":{\"field\":\"fill_color\"},\"line_color\":{\"field\":\"line_color\"},\"size\":{\"units\":\"screen\",\"value\":7},\"x\":{\"field\":\"x\"},\"y\":{\"field\":\"y\"}},\"id\":\"4afa9310-83aa-4efb-92d3-61387f0933ef\",\"type\":\"Circle\"},{\"attributes\":{\"callback\":null,\"column_names\":[\"y\",\"x\"],\"data\":{\"x\":[-1,45],\"y\":[56.67391304347826,56.67391304347826]}},\"id\":\"c6fd012b-ee1f-4b64-b787-2e4d6ddb3b8c\",\"type\":\"ColumnDataSource\"},{\"attributes\":{\"data_source\":{\"id\":\"2bb15be0-fd49-4d34-a408-34c3d3621c12\",\"type\":\"ColumnDataSource\"},\"glyph\":{\"id\":\"55b1f6b3-3d17-4be9-a9f4-a4aad4229063\",\"type\":\"Circle\"},\"hover_glyph\":null,\"nonselection_glyph\":{\"id\":\"15bd0777-b128-47a4-a8da-97017f2faddd\",\"type\":\"Circle\"},\"selection_glyph\":null},\"id\":\"6a85bb6f-5a66-4e59-b46e-def6ca0effdb\",\"type\":\"GlyphRenderer\"},{\"attributes\":{\"callback\":null,\"plot\":{\"id\":\"4e696ab0-d96e-4cab-b1c5-5f2b4861d8bc\",\"subtype\":\"Figure\",\"type\":\"Plot\"},\"tooltips\":[[\"album\",\"@album\"]]},\"id\":\"73987307-0b4b-45f8-aad6-af62786a91ba\",\"type\":\"HoverTool\"},{\"attributes\":{\"callback\":null},\"id\":\"6317a972-20be-4147-bfe3-654bfae34b17\",\"type\":\"DataRange1d\"},{\"attributes\":{\"data_source\":{\"id\":\"49d2107a-7d2d-4aa3-a7f3-cb55e13fd977\",\"type\":\"ColumnDataSource\"},\"glyph\":{\"id\":\"bfbc0324-e802-4ee6-9b8b-2977926d9753\",\"type\":\"Circle\"},\"hover_glyph\":null,\"nonselection_glyph\":{\"id\":\"930a063d-fd84-43fe-a144-bcdf4448ab16\",\"type\":\"Circle\"},\"selection_glyph\":null},\"id\":\"dd428bb2-8229-4215-80e2-a586d222ec62\",\"type\":\"GlyphRenderer\"},{\"attributes\":{\"plot\":{\"id\":\"0218e7c7-c2e7-440c-a494-9b99e502f7a8\",\"subtype\":\"Figure\",\"type\":\"Plot\"}},\"id\":\"1171bd5e-0f2e-43ba-b804-23c89681678d\",\"type\":\"ResetTool\"},{\"attributes\":{\"callback\":null,\"column_names\":[\"album\",\"track\",\"y\",\"x\",\"line_color\",\"fill_color\"],\"data\":{\"album\":[\"Magna Carta... Holy Grail (Explicit Version)\",\"Magna Carta... Holy Grail (Explicit Version)\",\"Magna Carta... Holy Grail (Explicit Version)\",\"Magna Carta... Holy Grail (Explicit Version)\",\"Magna Carta... Holy Grail (Explicit Version)\",\"Magna Carta... Holy Grail (Explicit Version)\",\"Magna Carta... Holy Grail (Explicit Version)\",\"Magna Carta... Holy Grail (Explicit Version)\",\"Magna Carta... Holy Grail (Explicit Version)\",\"Magna Carta... Holy Grail (Explicit Version)\",\"Magna Carta... Holy Grail (Explicit Version)\",\"Magna Carta... Holy Grail (Explicit Version)\",\"Magna Carta... Holy Grail (Explicit Version)\",\"Magna Carta... Holy Grail (Explicit Version)\",\"Magna Carta... Holy Grail (Explicit Version)\",\"Magna Carta... Holy Grail (Explicit Version)\",\"Watch The Throne (Explicit Version)\",\"Watch The Throne (Explicit Version)\",\"Watch The Throne (Explicit Version)\",\"Watch The Throne (Explicit Version)\",\"Watch The Throne (Explicit Version)\",\"Watch The Throne (Explicit Version)\",\"Watch The Throne (Explicit Version)\",\"Watch The Throne (Explicit Version)\",\"Watch The Throne (Explicit Version)\",\"Watch The Throne (Explicit Version)\",\"Watch The Throne (Explicit Version)\",\"Watch The Throne (Explicit Version)\",\"American Gangster (Explicit Version)\",\"American Gangster (Explicit Version)\",\"American Gangster (Explicit Version)\",\"American Gangster (Explicit Version)\",\"American Gangster (Explicit Version)\",\"American Gangster (Explicit Version)\",\"American Gangster (Explicit Version)\",\"American Gangster (Explicit Version)\",\"American Gangster (Explicit Version)\",\"American Gangster (Explicit Version)\",\"American Gangster (Explicit Version)\",\"American Gangster (Explicit Version)\",\"American Gangster (Explicit Version)\",\"American Gangster (Explicit Version)\",\"American Gangster (Explicit Version)\",\"Kingdom Come\",\"Kingdom Come\",\"Kingdom Come\",\"Kingdom Come\",\"Kingdom Come\",\"Kingdom Come\",\"Kingdom Come\",\"Kingdom Come\",\"Kingdom Come\",\"Kingdom Come\",\"Kingdom Come\",\"Kingdom Come\",\"Kingdom Come\",\"Kingdom Come\",\"Kingdom Come\",\"Kingdom Come\",\"Kingdom Come\",\"Kingdom Come\",\"Kingdom Come\",\"Kingdom Come\",\"Kingdom Come\",\"Kingdom Come\",\"Kingdom Come\",\"Kingdom Come\",\"Kingdom Come\",\"Kingdom Come\",\"Kingdom Come\",\"Kingdom Come\",\"Collision Course\",\"Collision Course\",\"Collision Course\",\"Collision Course\",\"Collision Course\",\"Collision Course\",\"Unfinished Business (Explicit)\",\"Unfinished Business (Explicit)\",\"Unfinished Business (Explicit)\",\"Unfinished Business (Explicit)\",\"Unfinished Business (Explicit)\",\"Unfinished Business (Explicit)\",\"Unfinished Business (Explicit)\",\"Unfinished Business (Explicit)\",\"Unfinished Business (Explicit)\",\"Unfinished Business (Explicit)\",\"Unfinished Business (Explicit)\",\"The Black Album (Explicit)\",\"The Black Album (Explicit)\",\"The Black Album (Explicit)\",\"The Black Album (Explicit)\",\"The Black Album (Explicit)\",\"The Black Album (Explicit)\",\"The Black Album (Explicit)\",\"The Black Album (Explicit)\",\"The Black Album (Explicit)\",\"The Black Album (Explicit)\",\"The Black Album (Explicit)\",\"The Black Album (Explicit)\",\"The Black Album (Explicit)\",\"The Black Album (Explicit)\",\"The Best Of Both Worlds (Explicit Version)\",\"The Best Of Both Worlds (Explicit Version)\",\"The Best Of Both Worlds (Explicit Version)\",\"The Best Of Both Worlds (Explicit Version)\",\"The Best Of Both Worlds (Explicit Version)\",\"The Best Of Both Worlds (Explicit Version)\",\"The Best Of Both Worlds (Explicit Version)\",\"The Best Of Both Worlds (Explicit Version)\",\"The Best Of Both Worlds (Explicit Version)\",\"The Best Of Both Worlds (Explicit Version)\",\"The Best Of Both Worlds (Explicit Version)\",\"The Best Of Both Worlds (Explicit Version)\",\"The Best Of Both Worlds (Explicit Version)\"],\"fill_color\":[\"blue\",\"blue\",\"blue\",\"blue\",\"blue\",\"blue\",\"blue\",\"blue\",\"blue\",\"blue\",\"blue\",\"blue\",\"blue\",\"blue\",\"blue\",\"blue\",\"orange\",\"orange\",\"orange\",\"orange\",\"orange\",\"orange\",\"orange\",\"orange\",\"orange\",\"orange\",\"orange\",\"orange\",\"red\",\"red\",\"red\",\"red\",\"red\",\"red\",\"red\",\"red\",\"red\",\"red\",\"red\",\"red\",\"red\",\"red\",\"red\",\"green\",\"green\",\"green\",\"green\",\"green\",\"green\",\"green\",\"green\",\"green\",\"green\",\"green\",\"green\",\"green\",\"green\",\"green\",\"green\",\"green\",\"green\",\"green\",\"green\",\"green\",\"green\",\"green\",\"green\",\"green\",\"green\",\"green\",\"green\",\"pink\",\"pink\",\"pink\",\"pink\",\"pink\",\"pink\",\"black\",\"black\",\"black\",\"black\",\"black\",\"black\",\"black\",\"black\",\"black\",\"black\",\"black\",\"cyan\",\"cyan\",\"cyan\",\"cyan\",\"cyan\",\"cyan\",\"cyan\",\"cyan\",\"cyan\",\"cyan\",\"cyan\",\"cyan\",\"cyan\",\"cyan\",\"purple\",\"purple\",\"purple\",\"purple\",\"purple\",\"purple\",\"purple\",\"purple\",\"purple\",\"purple\",\"purple\",\"purple\",\"purple\"],\"line_color\":[\"blue\",\"blue\",\"blue\",\"blue\",\"blue\",\"blue\",\"blue\",\"blue\",\"blue\",\"blue\",\"blue\",\"blue\",\"blue\",\"blue\",\"blue\",\"blue\",\"orange\",\"orange\",\"orange\",\"orange\",\"orange\",\"orange\",\"orange\",\"orange\",\"orange\",\"orange\",\"orange\",\"orange\",\"red\",\"red\",\"red\",\"red\",\"red\",\"red\",\"red\",\"red\",\"red\",\"red\",\"red\",\"red\",\"red\",\"red\",\"red\",\"green\",\"green\",\"green\",\"green\",\"green\",\"green\",\"green\",\"green\",\"green\",\"green\",\"green\",\"green\",\"green\",\"green\",\"green\",\"green\",\"green\",\"green\",\"green\",\"green\",\"green\",\"green\",\"green\",\"green\",\"green\",\"green\",\"green\",\"green\",\"pink\",\"pink\",\"pink\",\"pink\",\"pink\",\"pink\",\"black\",\"black\",\"black\",\"black\",\"black\",\"black\",\"black\",\"black\",\"black\",\"black\",\"black\",\"cyan\",\"cyan\",\"cyan\",\"cyan\",\"cyan\",\"cyan\",\"cyan\",\"cyan\",\"cyan\",\"cyan\",\"cyan\",\"cyan\",\"cyan\",\"cyan\",\"purple\",\"purple\",\"purple\",\"purple\",\"purple\",\"purple\",\"purple\",\"purple\",\"purple\",\"purple\",\"purple\",\"purple\",\"purple\"],\"track\":[\"Holy Grail\",\"Picasso Baby\",\"Tom Ford\",\"F*ckwithmeyouknowigotit\",\"Oceans\",\"F.U.T.W.\",\"Somewhereinamerica\",\"Crown\",\"Heaven\",\"Versus\",\"Part II (On The Run)\",\"Beach Is Better\",\"BBC\",\"JAY Z Blue\",\"La Familia\",\"Nickels And Dimes\",\"No Church In The Wild\",\"Lift Off\",\"Ni**as In Paris\",\"Otis\",\"Gotta Have It\",\"New Day\",\"That's My Bitch\",\"Welcome To The Jungle\",\"Who Gon Stop Me\",\"Murder To Excellence\",\"Made In America\",\"Why I Love You\",\"Intro\",\"Pray\",\"American Dreamin'\",\"Hello Brooklyn 2.0\",\"No Hook\",\"Roc Boys (And The Winner Is)...\",\"Sweet\",\"I Know\",\"Party Life\",\"Ignorant Sh*t\",\"Say Hello\",\"Success\",\"Fallin'\",\"Blue Magic\",\"American Gangster\",\"The Prelude\",\"Oh My God\",\"Kingdom Come\",\"Show Me What You Got\",\"Lost One\",\"Do U Wanna Ride\",\"30 Something\",\"I Made It\",\"Anything\",\"Hollywood\",\"Trouble\",\"Dig A Hole\",\"Minority Report\",\"Beach Chair\",\"The Prelude - Album Version (Edited)\",\"Oh My God - Album Version (Edited)\",\"Kingdom Come - Album Version (Edited)\",\"Show Me What You Got\",\"Lost One - Album Version (Edited)\",\"Do U Wanna Ride - Album Version (Edited)\",\"30 Something - Album Version (Edited)\",\"I Made It - Album Version (Edited)\",\"Anything - Album Version (Edited)\",\"Hollywood - Album Version (Edited)\",\"Trouble - Album Version (Edited)\",\"Dig A Hole - Album Version (Edited)\",\"Minority Report - Album Version (Edited)\",\"Beach Chair - Album Version (Edited)\",\"Dirt Off Your Shoulder/Lying From You\",\"Big Pimpin'/Papercut\",\"Jigga What/Faint\",\"Numb/Encore\",\"Izzo/In The End\",\"Points Of Authority/99 Problems/One Step Closer\",\"The Return\",\"Big Chips\",\"We Got Em Goin'\",\"She's Coming Home With Me\",\"Feelin' You In Stereo\",\"Stop\",\"Mo' Money\",\"Pretty Girls\",\"Break Up (That's All We Do)\",\"Don't Let Me Die\",\"The Return (Remix)\",\"Interlude\",\"December 4th\",\"What More Can I Say\",\"Encore\",\"Change Clothes\",\"Dirt Off Your Shoulder\",\"Threat\",\"Moment Of Clarity\",\"99 Problems\",\"Interlude\",\"Justify My Thug\",\"Lucifer\",\"Allure\",\"My 1st Song\",\"The Best Of Both Worlds\",\"Take You Home With Me A.K.A. Body\",\"Break Up To Make Up\",\"It Ain't Personal\",\"The Streets\",\"Green Light\",\"Naked\",\"Shake Ya Body\",\"Somebody's Girl\",\"Get This Money\",\"Shorty\",\"Honey\",\"P***y\"],\"x\":[0,1,2,3,4,5,6,7,8,9,10,11,12,13,14,15,16,17,18,19,20,21,22,23,24,25,26,27,28,29,30,31,32,33,34,35,36,37,38,39,40,41,42,43,44,45,46,47,48,49,50,51,52,53,54,55,56,57,58,59,60,61,62,63,64,65,66,67,68,69,70,71,72,73,74,75,76,77,78,79,80,81,82,83,84,85,86,87,88,89,90,91,92,93,94,95,96,97,98,99,100,101,102,103,104,105,106,107,108,109,110,111,112,113,114],\"y\":[72.0,52.0,66.0,64.0,54.0,51.0,53.0,52.0,50.0,46.0,58.0,51.0,49.0,47.0,48.0,47.0,59.0,52.0,58.0,58.0,58.0,50.0,49.0,50.0,59.0,52.0,50.0,52.0,35.0,40.0,41.0,41.0,40.0,49.0,38.0,43.0,40.0,42.0,42.0,41.0,40.0,41.0,38.0,39.0,41.0,42.0,44.0,50.0,40.0,44.0,38.0,38.0,38.0,39.0,33.0,36.0,40.0,9.0,13.0,15.0,24.0,24.0,10.0,18.0,8.0,16.0,15.0,9.0,4.0,8.0,14.0,35.0,32.0,31.0,42.0,32.0,34.0,0.0,29.0,24.0,26.0,28.0,24.0,27.0,25.0,24.0,25.0,23.0,40.0,47.0,49.0,50.0,49.0,63.0,45.0,55.0,65.0,48.0,45.0,55.0,46.0,49.0,38.0,39.0,32.0,32.0,32.0,29.0,32.0,30.0,44.0,32.0,31.0,32.0,30.0]}},\"id\":\"406bab7b-96ed-49ae-8c0d-54025e5d54e2\",\"type\":\"ColumnDataSource\"},{\"attributes\":{\"callback\":null,\"column_names\":[\"track\",\"y\",\"x\"],\"data\":{\"track\":[\"Ultralight Beam\",\"Father Stretch My Hands Pt. 1\",\"Pt. 2\",\"Famous\",\"Feedback\",\"Low Lights\",\"Highlights\",\"Freestyle 4\",\"I Love Kanye\",\"Waves\",\"FML\",\"Real Friends\",\"Wolves\",\"Frank's Track\",\"Siiiiiiiiilver Surffffeeeeer Intermission\",\"30 Hours\",\"No More Parties In LA\",\"Facts (Charlie Heat Version)\",\"Fade\",\"On Sight\",\"Black Skinhead\",\"I Am A God\",\"New Slaves\",\"Hold My Liquor\",\"I'm In It\",\"Blood On The Leaves\",\"Guilt Trip\",\"Send It Up\",\"Bound 2\",\"No Church In The Wild\",\"Lift Off\",\"Ni**as In Paris\",\"Otis\",\"Gotta Have It\",\"New Day\",\"That's My Bitch\",\"Welcome To The Jungle\",\"Who Gon Stop Me\",\"Murder To Excellence\",\"Made In America\",\"Why I Love You\",\"Dark Fantasy\",\"Gorgeous\",\"POWER\",\"All Of The Lights (Interlude)\",\"All Of The Lights\",\"Monster\",\"So Appalled\",\"Devil In A New Dress\",\"Runaway\",\"Hell Of A Life\",\"Blame Game\",\"Lost In The World\",\"Who Will Survive In America\",\"Say You Will\",\"Welcome To Heartbreak\",\"Heartless\",\"Amazing\",\"Love Lockdown\",\"Paranoid\",\"RoboCop\",\"Street Lights\",\"Bad News\",\"See You In My Nightmares\",\"Coldest Winter\",\"Pinocchio Story (Freestyle Live From Singapore)\",\"Good Morning\",\"Champion\",\"Stronger\",\"I Wonder\",\"Good Life\",\"Can't Tell Me Nothing\",\"Barry Bonds\",\"Drunk and Hot Girls\",\"Flashing Lights\",\"Everything I Am\",\"The Glory\",\"Homecoming\",\"Big Brother\",\"Wake Up Mr. West\",\"Heard 'Em Say\",\"Touch The Sky\",\"Gold Digger\",\"Skit #1 (Kanye West/Late Registration)\",\"Drive Slow\",\"My Way Home\",\"Crack Music\",\"Roses\",\"Bring Me Down\",\"Addiction\",\"Skit #2 (Kanye West/Late Registration)\",\"Diamonds From Sierra Leone - Remix - Album Version (Explicit)\",\"We Major\",\"Skit #3 (Kanye West/Late Registration)\",\"Hey Mama\",\"Celebration\",\"Skit #4 (Kanye West/Late Registration)\",\"Gone\",\"**Bonus Track** Diamonds From Sierra Leone\",\"Late\",\"Intro\",\"We Don't Care\",\"Graduation Day\",\"All Falls Down\",\"I'll Fly Away\",\"Spaceship\",\"Jesus Walks\",\"Never Let Me Down\",\"Get Em High\",\"Workout Plan\",\"The New Workout Plan\",\"Slow Jamz\",\"Breathe In Breathe Out\",\"School Spirit Skit 1\",\"School Spirit\",\"School Spirit Skit 2\",\"Lil Jimmy Skit\",\"Two Words\",\"Through The Wire\",\"Family Business\",\"Last Call\"],\"x\":[0,1,2,3,4,5,6,7,8,9,10,11,12,13,14,15,16,17,18,19,20,21,22,23,24,25,26,27,28,29,30,31,32,33,34,35,36,37,38,39,40,41,42,43,44,45,46,47,48,49,50,51,52,53,54,55,56,57,58,59,60,61,62,63,64,65,66,67,68,69,70,71,72,73,74,75,76,77,78,79,80,81,82,83,84,85,86,87,88,89,90,91,92,93,94,95,96,97,98,99,100,101,102,103,104,105,106,107,108,109,110,111,112,113,114,115,116,117,118,119,120],\"y\":[78.0,83.0,80.0,83.0,74.0,70.0,74.0,72.0,72.0,81.0,77.0,75.0,75.0,70.0,67.0,71.0,72.0,72.0,73.0,58.0,72.0,60.0,63.0,61.0,60.0,66.0,56.0,61.0,67.0,59.0,52.0,58.0,58.0,58.0,50.0,49.0,50.0,59.0,52.0,50.0,52.0,63.0,61.0,74.0,56.0,70.0,68.0,58.0,60.0,68.0,57.0,59.0,58.0,52.0,54.0,58.0,69.0,64.0,63.0,59.0,54.0,55.0,53.0,54.0,54.0,49.0,63.0,62.0,75.0,63.0,67.0,69.0,56.0,55.0,66.0,59.0,58.0,13.0,55.0,51.0,62.0,63.0,76.0,49.0,58.0,51.0,52.0,55.0,51.0,54.0,48.0,56.0,53.0,1.0,58.0,51.0,47.0,56.0,53.0,52.0,2.0,58.0,52.0,66.0,52.0,58.0,63.0,56.0,57.0,50.0,58.0,62.0,53.0,49.0,54.0,49.0,48.0,53.0,63.0,58.0,55.0]}},\"id\":\"2b6119cb-6b79-4238-8ce2-b0ff50fb96c7\",\"type\":\"ColumnDataSource\"},{\"attributes\":{},\"id\":\"8214ab64-e4ce-4661-a62b-87be4ed1add0\",\"type\":\"BasicTicker\"},{\"attributes\":{\"dimension\":1,\"plot\":{\"id\":\"364976bb-91fe-4abc-8ff2-febda1eb7377\",\"subtype\":\"Figure\",\"type\":\"Plot\"},\"ticker\":{\"id\":\"94230054-7bbf-4a83-9618-20707b10ca3d\",\"type\":\"BasicTicker\"}},\"id\":\"31a6bb5d-e98e-4c8a-bc94-80f8ff27fd55\",\"type\":\"Grid\"},{\"attributes\":{\"overlay\":{\"id\":\"b4306671-d0b8-4af2-ba7b-445dcbd1678d\",\"type\":\"BoxAnnotation\"},\"plot\":{\"id\":\"58361c2d-9a21-4f09-9573-41312e1214d0\",\"subtype\":\"Figure\",\"type\":\"Plot\"}},\"id\":\"8fffed5f-f43c-477e-a369-68a059ac9196\",\"type\":\"BoxZoomTool\"},{\"attributes\":{},\"id\":\"ea35fb39-b22f-419d-9c9d-c4d635ed323c\",\"type\":\"ToolEvents\"},{\"attributes\":{\"plot\":{\"id\":\"92b5ec37-ca99-4256-98f6-89b3d5e02eb3\",\"subtype\":\"Figure\",\"type\":\"Plot\"},\"ticker\":{\"id\":\"5e77417b-3f80-40ac-b8e0-523d0ddf9dd6\",\"type\":\"BasicTicker\"}},\"id\":\"4735b095-16c3-48f2-98f8-c6df725efb61\",\"type\":\"Grid\"},{\"attributes\":{\"data_source\":{\"id\":\"6484446c-96a2-457f-9682-ea77f23dae01\",\"type\":\"ColumnDataSource\"},\"glyph\":{\"id\":\"7ac3d6ce-fbf0-4bdb-8780-83a722dc214a\",\"type\":\"Circle\"},\"hover_glyph\":null,\"nonselection_glyph\":{\"id\":\"6dab1c8f-2d51-4af5-a3fc-2c30dec942f6\",\"type\":\"Circle\"},\"selection_glyph\":null},\"id\":\"8abb6639-8f5c-4f6a-b239-2c32764beef0\",\"type\":\"GlyphRenderer\"},{\"attributes\":{\"fill_color\":{\"value\":\"gold\"},\"line_color\":{\"value\":\"gold\"},\"size\":{\"units\":\"screen\",\"value\":12},\"x\":{\"field\":\"x\"},\"y\":{\"field\":\"y\"}},\"id\":\"71643046-4c02-44c4-aeb7-0d0e2711f822\",\"type\":\"Circle\"},{\"attributes\":{\"axis_label\":\"Popularity\",\"formatter\":{\"id\":\"296b0ad9-450a-4fe9-b787-01744853d101\",\"type\":\"BasicTickFormatter\"},\"plot\":{\"id\":\"f0cbd62f-278f-4516-a395-9babb5082038\",\"subtype\":\"Figure\",\"type\":\"Plot\"},\"ticker\":{\"id\":\"c093020d-8919-49a2-a8bf-9286d7f2b4b7\",\"type\":\"BasicTicker\"}},\"id\":\"fdb4733c-0f33-420b-a908-e1d3ed720b3e\",\"type\":\"LinearAxis\"},{\"attributes\":{\"fill_alpha\":{\"value\":0.2},\"fill_color\":{\"field\":\"fill_color\"},\"line_color\":{\"field\":\"line_color\"},\"size\":{\"units\":\"screen\",\"value\":7},\"x\":{\"field\":\"x\"},\"y\":{\"field\":\"y\"}},\"id\":\"859a712e-d3e8-4a3a-b0f8-493515e93834\",\"type\":\"Circle\"},{\"attributes\":{\"callback\":null},\"id\":\"d3793768-6581-4369-9877-ffe90c6b7f27\",\"type\":\"DataRange1d\"},{\"attributes\":{\"callback\":null},\"id\":\"7b4eb9fc-6dc7-4d0f-a6a3-ef31862211d2\",\"type\":\"DataRange1d\"},{\"attributes\":{\"callback\":null},\"id\":\"d1f364c9-17c5-4f3c-82ab-f248cabb407e\",\"type\":\"ColumnDataSource\"},{\"attributes\":{\"fill_color\":{\"value\":\"cyan\"},\"line_color\":{\"value\":\"cyan\"},\"size\":{\"units\":\"screen\",\"value\":15},\"x\":{\"value\":2007},\"y\":{\"value\":80.0}},\"id\":\"0df9bf6e-1ce7-4924-801a-6fcf886b16cf\",\"type\":\"Circle\"},{\"attributes\":{\"callback\":null,\"column_names\":[\"y\",\"x\"],\"data\":{\"x\":[0.0,1.0,2.0,3.0,4.0,5.0,6.0,7.0,8.0,9.0,10.0,11.0,12.0,13.0,14.0,15.0,16.0,17.0,18.0,19.0,20.0,21.0,22.0,23.0,24.0,25.0,26.0,27.0,28.0,29.0,30.0,31.0,32.0,33.0,34.0,35.0,36.0,37.0,38.0,39.0,40.0,41.0,42.0,43.0,44.0,45.0,46.0,47.0,48.0,49.0],\"y\":[26.99799686189477,27.289015120980906,27.580033380067043,27.871051639153176,28.162069898239313,28.45308815732545,28.744106416411586,29.03512467549772,29.326142934583856,29.617161193669993,29.90817945275613,30.199197711842267,30.4902159709284,30.781234230014537,31.072252489100674,31.36327074818681,31.654289007272943,31.94530726635908,32.23632552544522,32.527343784531354,32.81836204361749,33.10938030270363,33.400398561789764,33.6914168208759,33.98243507996203,34.27345333904817,34.564471598134304,34.85548985722044,35.14650811630658,35.437526375392714,35.72854463447885,36.01956289356498,36.310581152651125,36.601599411737254,36.89261767082339,37.18363592990953,37.474654188995665,37.7656724480818,38.05669070716794,38.347708966254075,38.638727225340205,38.92974548442635,39.22076374351248,39.511782002598615,39.80280026168475,40.09381852077089,40.384836779857025,40.67585503894316,40.9668732980293,41.257891557115435]}},\"id\":\"7799b65e-9b86-4039-8139-fdb27540db0b\",\"type\":\"ColumnDataSource\"},{\"attributes\":{\"plot\":{\"id\":\"4ec5713c-3a2c-479d-9d6e-f0ce4a54d454\",\"subtype\":\"Figure\",\"type\":\"Plot\"}},\"id\":\"b8c3d11b-9499-412b-8539-1fea367b6bca\",\"type\":\"PanTool\"},{\"attributes\":{\"fill_alpha\":{\"value\":0.1},\"fill_color\":{\"value\":\"#1f77b4\"},\"line_alpha\":{\"value\":0.1},\"line_color\":{\"value\":\"#1f77b4\"},\"size\":{\"units\":\"screen\",\"value\":7},\"x\":{\"field\":\"x\"},\"y\":{\"field\":\"y\"}},\"id\":\"49101cf1-65ba-43ad-9b60-1eb0983a80a3\",\"type\":\"Circle\"},{\"attributes\":{\"line_color\":{\"value\":\"red\"},\"line_dash\":[4,4],\"line_width\":{\"value\":2},\"x\":{\"field\":\"x\"},\"y\":{\"field\":\"y\"}},\"id\":\"109f661a-ebcd-47cb-85a2-355d79c4b4d6\",\"type\":\"Line\"},{\"attributes\":{\"callback\":null,\"column_names\":[\"y\",\"x\"],\"data\":{\"x\":[56],\"y\":[40.0]}},\"id\":\"5141f3de-4b5f-49fd-a427-045ff1437064\",\"type\":\"ColumnDataSource\"},{\"attributes\":{\"dimension\":1,\"plot\":{\"id\":\"ff811071-6dec-40fe-a96c-f0a67ca21b61\",\"subtype\":\"Figure\",\"type\":\"Plot\"},\"ticker\":{\"id\":\"6ad42883-bb36-418b-b15f-d3ee2cb30453\",\"type\":\"BasicTicker\"}},\"id\":\"d328bbbd-5fd8-484b-9e51-612a0667659a\",\"type\":\"Grid\"},{\"attributes\":{\"line_alpha\":{\"value\":0.1},\"line_color\":{\"value\":\"#1f77b4\"},\"line_width\":{\"value\":2},\"x\":{\"field\":\"x\"},\"y\":{\"field\":\"y\"}},\"id\":\"f74bf83e-f29d-4a19-a293-716c1f9eb0bb\",\"type\":\"Line\"},{\"attributes\":{},\"id\":\"eb4b0414-f829-4553-9fe6-691999652cdb\",\"type\":\"BasicTicker\"},{\"attributes\":{},\"id\":\"3bd23572-c1c8-4ce9-931c-3c8d9a225d16\",\"type\":\"BasicTicker\"},{\"attributes\":{},\"id\":\"ca04fd6a-9637-44c5-9507-4ec8299edb88\",\"type\":\"ToolEvents\"},{\"attributes\":{\"below\":[{\"id\":\"ea27b664-5c22-474c-b75b-1713f61e641e\",\"type\":\"LinearAxis\"}],\"left\":[{\"id\":\"30577a23-4cf0-40ef-a9c2-50f2fbdb1fce\",\"type\":\"LinearAxis\"}],\"plot_height\":500,\"renderers\":[{\"id\":\"ea27b664-5c22-474c-b75b-1713f61e641e\",\"type\":\"LinearAxis\"},{\"id\":\"6cc5adf0-9842-4e15-9501-a52df4488008\",\"type\":\"Grid\"},{\"id\":\"30577a23-4cf0-40ef-a9c2-50f2fbdb1fce\",\"type\":\"LinearAxis\"},{\"id\":\"21e77b2f-95af-4cf5-8a44-077353db3cf9\",\"type\":\"Grid\"},{\"id\":\"ff8af659-5004-4d35-877e-482ca72e7713\",\"type\":\"BoxAnnotation\"},{\"id\":\"524cd0bc-1383-44e3-9717-075d6a771147\",\"type\":\"GlyphRenderer\"},{\"id\":\"9d289c34-e7ee-4a1f-a5c2-ee639673c0a8\",\"type\":\"GlyphRenderer\"},{\"id\":\"d66f9e6e-84b7-4fff-af39-ebaab886a291\",\"type\":\"GlyphRenderer\"},{\"id\":\"a9953bc2-c101-4e30-a9c0-eed42a5bc1ab\",\"type\":\"GlyphRenderer\"},{\"id\":\"5069e8a9-90d2-4e5b-8932-edd3cb2daab1\",\"type\":\"GlyphRenderer\"}],\"tool_events\":{\"id\":\"28c95a60-1345-4ddd-81ed-c5ef5ce7c9ce\",\"type\":\"ToolEvents\"},\"tools\":[{\"id\":\"dbe18dde-0bc9-4bb3-acad-7f6a9698d9fe\",\"type\":\"BoxZoomTool\"},{\"id\":\"9a4639f0-8b61-4572-9da8-180351972405\",\"type\":\"ResetTool\"},{\"id\":\"4684022d-a1e7-4f9f-bab0-14f258efc186\",\"type\":\"HoverTool\"}],\"x_range\":{\"id\":\"f36b75bc-33a0-4f26-b013-1140c89ab86a\",\"type\":\"DataRange1d\"},\"y_range\":{\"id\":\"4d6f5b1f-e288-40a5-b2b9-b01e989b7f82\",\"type\":\"DataRange1d\"}},\"id\":\"c3c0eb43-d653-4732-99f4-363b81ebfd66\",\"subtype\":\"Figure\",\"type\":\"Plot\"},{\"attributes\":{\"fill_alpha\":{\"value\":0.1},\"fill_color\":{\"value\":\"#1f77b4\"},\"line_alpha\":{\"value\":0.1},\"line_color\":{\"value\":\"#1f77b4\"},\"size\":{\"units\":\"screen\",\"value\":10},\"x\":{\"field\":\"x\"},\"y\":{\"field\":\"y\"}},\"id\":\"8e308e92-1932-4b54-bcec-569272ac986a\",\"type\":\"Circle\"},{\"attributes\":{\"callback\":null,\"column_names\":[\"y\",\"x\"],\"data\":{\"x\":[-1,130],\"y\":[24.416696822020846,24.416696822020846]}},\"id\":\"fe49adfb-f084-4ede-8b4b-a3c98bc105af\",\"type\":\"ColumnDataSource\"},{\"attributes\":{\"callback\":null},\"id\":\"b8e1eab7-149d-4b2f-ad1a-1692d4efa4eb\",\"type\":\"ColumnDataSource\"},{\"attributes\":{\"plot\":{\"id\":\"fa223b75-3433-4548-8291-731dae75b280\",\"subtype\":\"Figure\",\"type\":\"Plot\"}},\"id\":\"f8cc6530-7399-4030-bbde-181463300a79\",\"type\":\"ResizeTool\"},{\"attributes\":{\"fill_alpha\":{\"value\":0.1},\"fill_color\":{\"value\":\"#1f77b4\"},\"line_alpha\":{\"value\":0.1},\"line_color\":{\"value\":\"#1f77b4\"},\"size\":{\"units\":\"screen\",\"value\":10},\"x\":{\"field\":\"x\"},\"y\":{\"field\":\"y\"}},\"id\":\"90fb274f-b3a1-404f-8e11-9602217d7fe9\",\"type\":\"Circle\"},{\"attributes\":{\"plot\":{\"id\":\"5581247a-fe58-45f5-82af-2159194a2f13\",\"subtype\":\"Figure\",\"type\":\"Plot\"}},\"id\":\"7cd908df-a498-47b9-8de8-d4b5b277ef7e\",\"type\":\"ResetTool\"},{\"attributes\":{\"plot\":{\"id\":\"5581247a-fe58-45f5-82af-2159194a2f13\",\"subtype\":\"Figure\",\"type\":\"Plot\"},\"ticker\":{\"id\":\"bf086761-e2f5-4f7e-89bd-ed9a753770a5\",\"type\":\"BasicTicker\"}},\"id\":\"01b4967b-3bac-497e-beb8-08335161fa0c\",\"type\":\"Grid\"},{\"attributes\":{\"axis_label\":\"Difference in Popularity\",\"formatter\":{\"id\":\"e177a795-aac3-4f7c-bedd-39ae66681936\",\"type\":\"BasicTickFormatter\"},\"plot\":{\"id\":\"ff811071-6dec-40fe-a96c-f0a67ca21b61\",\"subtype\":\"Figure\",\"type\":\"Plot\"},\"ticker\":{\"id\":\"6ad42883-bb36-418b-b15f-d3ee2cb30453\",\"type\":\"BasicTicker\"}},\"id\":\"706992f5-09c2-4c08-ae3b-73572ed349b5\",\"type\":\"LinearAxis\"},{\"attributes\":{\"callback\":null,\"plot\":{\"id\":\"c3c0eb43-d653-4732-99f4-363b81ebfd66\",\"subtype\":\"Figure\",\"type\":\"Plot\"},\"tooltips\":[[\"album\",\"@album\"]]},\"id\":\"4684022d-a1e7-4f9f-bab0-14f258efc186\",\"type\":\"HoverTool\"},{\"attributes\":{\"data_source\":{\"id\":\"65fd2086-66f6-4ef6-96c1-679c1a563eca\",\"type\":\"ColumnDataSource\"},\"glyph\":{\"id\":\"58853cd6-7bf4-406a-8e09-dd5e2331c910\",\"type\":\"Line\"},\"hover_glyph\":null,\"nonselection_glyph\":{\"id\":\"fe53a990-b89e-4eaa-ac48-aa20acdfc277\",\"type\":\"Line\"},\"selection_glyph\":null},\"id\":\"aa705b06-b4ff-40e3-bacc-aae43ae13b79\",\"type\":\"GlyphRenderer\"},{\"attributes\":{\"data_source\":{\"id\":\"a3edf1e2-3b44-4ec1-9d09-2336bd4cdae1\",\"type\":\"ColumnDataSource\"},\"glyph\":{\"id\":\"68b92349-841b-43b2-be4d-d9a09626a624\",\"type\":\"Line\"},\"hover_glyph\":null,\"nonselection_glyph\":{\"id\":\"84770c55-dc57-46dc-b188-6fd303c79051\",\"type\":\"Line\"},\"selection_glyph\":null},\"id\":\"4974308d-c05d-4ff8-93a5-cecf708d3fd0\",\"type\":\"GlyphRenderer\"},{\"attributes\":{\"dimension\":1,\"plot\":{\"id\":\"db14c567-64ba-4e05-b6f1-bb87ce6bf4f1\",\"subtype\":\"Figure\",\"type\":\"Plot\"},\"ticker\":{\"id\":\"1f363afd-123e-492d-8a54-ae2c4c44d806\",\"type\":\"BasicTicker\"}},\"id\":\"6caf3b03-ab53-4ffb-8448-80436c15688f\",\"type\":\"Grid\"},{\"attributes\":{\"plot\":{\"id\":\"ff811071-6dec-40fe-a96c-f0a67ca21b61\",\"subtype\":\"Figure\",\"type\":\"Plot\"},\"ticker\":{\"id\":\"8fd46e2c-da36-404e-b3af-528ebed21458\",\"type\":\"BasicTicker\"}},\"id\":\"1ac5cc1f-c032-44f7-b926-12d01270183f\",\"type\":\"Grid\"},{\"attributes\":{\"callback\":null,\"column_names\":[\"y\",\"x\"],\"data\":{\"x\":[2003,2017],\"y\":[78.75,78.75]}},\"id\":\"28f34429-b081-41be-84de-0f123de5209e\",\"type\":\"ColumnDataSource\"},{\"attributes\":{\"callback\":null},\"id\":\"c1cb8cfe-7048-4545-95c5-547250e7b519\",\"type\":\"DataRange1d\"},{\"attributes\":{\"axis_label\":\"Popularity\",\"formatter\":{\"id\":\"a6fc2080-5713-43a3-9ba5-547c26ba51f1\",\"type\":\"BasicTickFormatter\"},\"plot\":{\"id\":\"4e696ab0-d96e-4cab-b1c5-5f2b4861d8bc\",\"subtype\":\"Figure\",\"type\":\"Plot\"},\"ticker\":{\"id\":\"eb4b0414-f829-4553-9fe6-691999652cdb\",\"type\":\"BasicTicker\"}},\"id\":\"bfa107e5-2106-4fcd-9676-3864667b5035\",\"type\":\"LinearAxis\"},{\"attributes\":{\"plot\":{\"id\":\"364976bb-91fe-4abc-8ff2-febda1eb7377\",\"subtype\":\"Figure\",\"type\":\"Plot\"}},\"id\":\"e22d4335-9e1a-45cb-8686-413d986fb130\",\"type\":\"ResetTool\"},{\"attributes\":{\"plot\":{\"id\":\"5581247a-fe58-45f5-82af-2159194a2f13\",\"subtype\":\"Figure\",\"type\":\"Plot\"}},\"id\":\"67e989ee-53b3-4a1e-a896-4e5254d4eec6\",\"type\":\"WheelZoomTool\"},{\"attributes\":{\"dimension\":1,\"plot\":{\"id\":\"fa223b75-3433-4548-8291-731dae75b280\",\"subtype\":\"Figure\",\"type\":\"Plot\"},\"ticker\":{\"id\":\"55a9ea6a-4fbb-4ce6-8a6c-879b4e0b23d2\",\"type\":\"BasicTicker\"}},\"id\":\"91edb9b8-0276-4bae-8a62-61c9d2056e03\",\"type\":\"Grid\"},{\"attributes\":{\"below\":[{\"id\":\"06d115f9-3f97-42b3-82ce-59e0d44d29e9\",\"type\":\"LinearAxis\"}],\"left\":[{\"id\":\"92466c64-1383-4426-9316-4a9ebc4d7019\",\"type\":\"LinearAxis\"}],\"plot_height\":500,\"renderers\":[{\"id\":\"06d115f9-3f97-42b3-82ce-59e0d44d29e9\",\"type\":\"LinearAxis\"},{\"id\":\"8f82f6c4-4631-4f76-b456-fe07f0ed8659\",\"type\":\"Grid\"},{\"id\":\"92466c64-1383-4426-9316-4a9ebc4d7019\",\"type\":\"LinearAxis\"},{\"id\":\"0c7cb072-a6af-44dc-85ce-924e999529d4\",\"type\":\"Grid\"},{\"id\":\"b4306671-d0b8-4af2-ba7b-445dcbd1678d\",\"type\":\"BoxAnnotation\"},{\"id\":\"9081fd39-ea34-446b-b52d-bdb3a1246779\",\"type\":\"GlyphRenderer\"},{\"id\":\"b9d02a8d-7cd2-4fe6-8398-641a51837995\",\"type\":\"GlyphRenderer\"},{\"id\":\"eba97ab9-9d14-4a22-a3ca-ba3e9f4d1f52\",\"type\":\"GlyphRenderer\"},{\"id\":\"7502b8bb-3f78-4ad8-9d59-fd0e8642cd15\",\"type\":\"GlyphRenderer\"},{\"id\":\"b76db732-220d-49c6-a38f-dde76b54e2b3\",\"type\":\"GlyphRenderer\"},{\"id\":\"5c7042a5-8224-4ad1-b901-313985bea6eb\",\"type\":\"GlyphRenderer\"}],\"tool_events\":{\"id\":\"88fb0559-cd21-4a5c-a0da-40d5029ff296\",\"type\":\"ToolEvents\"},\"tools\":[{\"id\":\"8fffed5f-f43c-477e-a369-68a059ac9196\",\"type\":\"BoxZoomTool\"},{\"id\":\"dd906d2d-03a3-43ce-8509-0e225062139a\",\"type\":\"ResetTool\"},{\"id\":\"9c2de1ad-b699-41f7-8f97-1d1bed4639a0\",\"type\":\"HoverTool\"}],\"x_range\":{\"id\":\"69513f04-c228-4333-80c0-fbd62996b7b5\",\"type\":\"DataRange1d\"},\"y_range\":{\"id\":\"a14c875e-0571-4b15-bdb1-cf9a53e8562f\",\"type\":\"DataRange1d\"}},\"id\":\"58361c2d-9a21-4f09-9573-41312e1214d0\",\"subtype\":\"Figure\",\"type\":\"Plot\"},{\"attributes\":{\"callback\":null},\"id\":\"c1aac4a5-a7e3-4e93-a33b-8710c5194152\",\"type\":\"ColumnDataSource\"},{\"attributes\":{\"plot\":{\"id\":\"4ec5713c-3a2c-479d-9d6e-f0ce4a54d454\",\"subtype\":\"Figure\",\"type\":\"Plot\"}},\"id\":\"78db55da-bc62-4f7a-a71a-c2ea8a098dd0\",\"type\":\"ResetTool\"},{\"attributes\":{\"callback\":null,\"column_names\":[\"y\",\"x\"],\"data\":{\"x\":[-1,45],\"y\":[60.626666666666665,60.626666666666665]}},\"id\":\"58c6f0f9-57ec-489a-8524-578c2a654eec\",\"type\":\"ColumnDataSource\"},{\"attributes\":{},\"id\":\"49322fed-e000-4609-b736-9f8ccb84765b\",\"type\":\"BasicTickFormatter\"},{\"attributes\":{\"axis_label\":\"Collaborator\",\"formatter\":{\"id\":\"20eb63c3-3c98-4334-802b-f131211dd1c4\",\"type\":\"BasicTickFormatter\"},\"major_label_text_font_size\":{\"value\":\"0pt\"},\"plot\":{\"id\":\"4ffbe01a-4dc5-41a4-b3e4-1da56420e097\",\"subtype\":\"Figure\",\"type\":\"Plot\"},\"ticker\":{\"id\":\"d1e3297f-f8da-4abb-8e16-08d7abb2fe4f\",\"type\":\"BasicTicker\"}},\"id\":\"29ad538e-5133-4534-bfd4-6845c77a8fda\",\"type\":\"LinearAxis\"},{\"attributes\":{\"callback\":null,\"column_names\":[\"right\",\"top\",\"left\"],\"data\":{\"left\":[0.0,4.0,8.0,12.0,16.0,20.0,24.0,28.0,32.0,36.0,40.0,44.0,48.0,52.0,56.0,60.0,64.0,68.0,72.0,76.0,80.0,84.0,88.0,92.0,96.0],\"right\":[4.0,8.0,12.0,16.0,20.0,24.0,28.0,32.0,36.0,40.0,44.0,48.0,52.0,56.0,60.0,64.0,68.0,72.0,76.0,80.0,84.0,88.0,92.0,96.0,100.0],\"top\":[0,0,0,1,0,0,0,0,0,0,0,0,6,9,18,6,3,2,0,1,0,0,0,0,0]}},\"id\":\"e4ba07f3-b80f-4965-be51-45606e3411ec\",\"type\":\"ColumnDataSource\"},{\"attributes\":{\"bottom\":{\"value\":0},\"fill_color\":{\"value\":\"white\"},\"left\":{\"field\":\"left\"},\"line_color\":{\"value\":\"red\"},\"right\":{\"field\":\"right\"},\"top\":{\"field\":\"top\"}},\"id\":\"42d903b2-04b1-4120-98bf-931530935a7a\",\"type\":\"Quad\"},{\"attributes\":{\"line_dash\":[4,4],\"line_width\":{\"value\":2},\"x\":{\"field\":\"x\"},\"y\":{\"field\":\"y\"}},\"id\":\"ee565ae8-74b5-48ee-a5ff-f2e08a5aae37\",\"type\":\"Line\"},{\"attributes\":{\"dimension\":1,\"plot\":{\"id\":\"58361c2d-9a21-4f09-9573-41312e1214d0\",\"subtype\":\"Figure\",\"type\":\"Plot\"},\"ticker\":{\"id\":\"373fa728-26d7-4f4e-96a9-448c4077bb25\",\"type\":\"BasicTicker\"}},\"id\":\"0c7cb072-a6af-44dc-85ce-924e999529d4\",\"type\":\"Grid\"},{\"attributes\":{\"line_alpha\":{\"value\":0.1},\"line_color\":{\"value\":\"#1f77b4\"},\"line_width\":{\"value\":2},\"x\":{\"field\":\"x\"},\"y\":{\"field\":\"y\"}},\"id\":\"ea8b4d5b-e85d-4d38-a08b-8d5bd6495fbf\",\"type\":\"Line\"},{\"attributes\":{\"callback\":null,\"plot\":{\"id\":\"5763382d-75de-4932-aa18-5d1f033657d2\",\"subtype\":\"Figure\",\"type\":\"Plot\"},\"tooltips\":[[\"Track\",\"@track\"],[\"album\",\"@album\"]]},\"id\":\"3a9c3a55-f186-4adc-8330-a9097908e77c\",\"type\":\"HoverTool\"},{\"attributes\":{\"line_alpha\":{\"value\":0.1},\"line_color\":{\"value\":\"#1f77b4\"},\"line_dash\":[4,4],\"line_width\":{\"value\":2},\"x\":{\"field\":\"x\"},\"y\":{\"field\":\"y\"}},\"id\":\"20b58138-02d5-4275-a113-f68c95ff5371\",\"type\":\"Line\"},{\"attributes\":{\"data_source\":{\"id\":\"b0cc88dd-33df-4ca9-ad2f-c3761c1db70e\",\"type\":\"ColumnDataSource\"},\"glyph\":{\"id\":\"7df36fb0-22d4-4047-aab3-782338dd2987\",\"type\":\"Line\"},\"hover_glyph\":null,\"nonselection_glyph\":{\"id\":\"df285216-e84c-4303-bd96-48086b042749\",\"type\":\"Line\"},\"selection_glyph\":null},\"id\":\"f1827d17-d73b-4bf1-9166-2a0661edc9e3\",\"type\":\"GlyphRenderer\"},{\"attributes\":{\"line_alpha\":{\"value\":0.1},\"line_color\":{\"value\":\"#1f77b4\"},\"line_dash\":[4,4],\"line_width\":{\"value\":2},\"x\":{\"field\":\"x\"},\"y\":{\"field\":\"y\"}},\"id\":\"657d84cf-b85c-4967-933a-b6dc2b99a848\",\"type\":\"Line\"},{\"attributes\":{\"callback\":null,\"column_names\":[\"y\",\"x\"],\"data\":{\"x\":[2003,2017],\"y\":[85.30267121104058,85.30267121104058]}},\"id\":\"3954cf70-67f0-4501-b03e-e27f34ce3d0a\",\"type\":\"ColumnDataSource\"},{\"attributes\":{\"legends\":[[\"Solo\",[{\"id\":\"eb434d8a-ed69-4e9d-a51b-04f31ad120fc\",\"type\":\"GlyphRenderer\"}]],[\"Collaboration\",[{\"id\":\"f5159e69-a60c-475d-9c8f-812e28e00e9b\",\"type\":\"GlyphRenderer\"}]]],\"plot\":{\"id\":\"f0cbd62f-278f-4516-a395-9babb5082038\",\"subtype\":\"Figure\",\"type\":\"Plot\"}},\"id\":\"078f4833-263f-49ac-993e-09af5e946138\",\"type\":\"Legend\"},{\"attributes\":{\"plot\":{\"id\":\"4ec5713c-3a2c-479d-9d6e-f0ce4a54d454\",\"subtype\":\"Figure\",\"type\":\"Plot\"}},\"id\":\"6859dd9c-c926-4637-b7bf-bdba28ac02b3\",\"type\":\"ResizeTool\"},{\"attributes\":{\"fill_color\":{\"value\":\"black\"},\"size\":{\"units\":\"screen\",\"value\":7},\"x\":{\"field\":\"x\"},\"y\":{\"field\":\"y\"}},\"id\":\"8e7d5de4-3de0-414f-84ba-2253f5667a29\",\"type\":\"Circle\"},{\"attributes\":{\"fill_alpha\":{\"value\":0.1},\"fill_color\":{\"value\":\"#1f77b4\"},\"line_alpha\":{\"value\":0.1},\"line_color\":{\"value\":\"#1f77b4\"},\"size\":{\"units\":\"screen\",\"value\":7},\"x\":{\"field\":\"x\"},\"y\":{\"field\":\"y\"}},\"id\":\"7cfea57b-1313-4b14-85f8-5c76584ddaae\",\"type\":\"Circle\"},{\"attributes\":{\"callback\":null},\"id\":\"6a209925-dc6f-4516-978b-535bce5f0773\",\"type\":\"DataRange1d\"},{\"attributes\":{\"bottom\":{\"value\":0},\"fill_alpha\":{\"value\":0.2},\"fill_color\":{\"value\":\"white\"},\"left\":{\"field\":\"left\"},\"line_color\":{\"value\":\"blue\"},\"right\":{\"field\":\"right\"},\"top\":{\"field\":\"top\"}},\"id\":\"00c575cc-7d20-4684-9ed5-d328a7be2bf6\",\"type\":\"Quad\"},{\"attributes\":{\"callback\":null,\"column_names\":[\"right\",\"top\",\"left\"],\"data\":{\"left\":[0.0,4.0,8.0,12.0,16.0,20.0,24.0,28.0,32.0,36.0,40.0,44.0,48.0,52.0,56.0,60.0,64.0,68.0,72.0,76.0,80.0,84.0,88.0,92.0,96.0],\"right\":[4.0,8.0,12.0,16.0,20.0,24.0,28.0,32.0,36.0,40.0,44.0,48.0,52.0,56.0,60.0,64.0,68.0,72.0,76.0,80.0,84.0,88.0,92.0,96.0,100.0],\"top\":[2,0,0,0,0,0,0,0,0,0,0,1,9,15,9,11,4,6,12,2,4,0,0,0,0]}},\"id\":\"3232cc53-c7a2-4d47-9433-534119a1e029\",\"type\":\"ColumnDataSource\"},{\"attributes\":{\"data_source\":{\"id\":\"32b5bcac-e4d9-4f52-bbaf-37bc2f5930e3\",\"type\":\"ColumnDataSource\"},\"glyph\":{\"id\":\"e5f6bdd8-3b2a-476d-90f5-39b02ff73b7f\",\"type\":\"Line\"},\"hover_glyph\":null,\"nonselection_glyph\":{\"id\":\"657d84cf-b85c-4967-933a-b6dc2b99a848\",\"type\":\"Line\"},\"selection_glyph\":null},\"id\":\"a6a38609-5f5e-4e19-8970-5095aa1652e4\",\"type\":\"GlyphRenderer\"},{\"attributes\":{\"plot\":{\"id\":\"fa223b75-3433-4548-8291-731dae75b280\",\"subtype\":\"Figure\",\"type\":\"Plot\"}},\"id\":\"033ed9ac-ce57-48aa-b558-7bbafbd0b9bc\",\"type\":\"ResetTool\"},{\"attributes\":{},\"id\":\"84b213b8-541f-41aa-9aa1-767394a95519\",\"type\":\"BasicTickFormatter\"},{\"attributes\":{},\"id\":\"cd803df1-07cd-4341-8c63-c555917c5398\",\"type\":\"BasicTickFormatter\"},{\"attributes\":{\"callback\":null},\"id\":\"a14c875e-0571-4b15-bdb1-cf9a53e8562f\",\"type\":\"DataRange1d\"},{\"attributes\":{\"fill_alpha\":{\"value\":0.1},\"fill_color\":{\"value\":\"#1f77b4\"},\"line_alpha\":{\"value\":0.1},\"line_color\":{\"value\":\"#1f77b4\"},\"size\":{\"units\":\"screen\",\"value\":15},\"x\":{\"value\":2007},\"y\":{\"value\":80.0}},\"id\":\"ca08c7b8-fb57-4927-a003-6f5fd4d550c2\",\"type\":\"Circle\"},{\"attributes\":{\"callback\":null,\"column_names\":[\"y\",\"x\"],\"data\":{\"x\":[19,40],\"y\":[19,40]}},\"id\":\"ecd79337-6dfe-466a-9e5d-2e2496568a25\",\"type\":\"ColumnDataSource\"},{\"attributes\":{\"plot\":{\"id\":\"906090f5-7fc8-4666-bdc4-2cfa29be15ef\",\"subtype\":\"Figure\",\"type\":\"Plot\"}},\"id\":\"05165596-c6ce-40ba-87bb-d5ea5d75fe65\",\"type\":\"HelpTool\"},{\"attributes\":{\"data_source\":{\"id\":\"e6b94e34-a007-40dd-ac54-f14d88ae0153\",\"type\":\"ColumnDataSource\"},\"glyph\":{\"id\":\"a85c9606-3589-491c-8c0f-3dda09320fab\",\"type\":\"Line\"},\"hover_glyph\":null,\"nonselection_glyph\":{\"id\":\"6beb50b8-ebc9-448e-accc-cb79193c5dca\",\"type\":\"Line\"},\"selection_glyph\":null},\"id\":\"f6b8618e-1398-4725-b707-1282bb93c294\",\"type\":\"GlyphRenderer\"},{\"attributes\":{\"plot\":{\"id\":\"a406ebf3-7fee-4dd4-9327-caaf80fc284a\",\"subtype\":\"Figure\",\"type\":\"Plot\"},\"ticker\":{\"id\":\"b01fa35a-a278-41c1-9366-bb087aeadc3f\",\"type\":\"BasicTicker\"}},\"id\":\"fe9c04fc-a023-460b-a643-8827342c16f9\",\"type\":\"Grid\"},{\"attributes\":{\"line_dash\":[2,2],\"line_width\":{\"value\":2},\"x\":{\"field\":\"x\"},\"y\":{\"field\":\"y\"}},\"id\":\"786aa315-1da7-4377-b03e-245a70991de3\",\"type\":\"Line\"},{\"attributes\":{\"below\":[{\"id\":\"9161a3ac-5a26-438f-852c-8f086a5550ca\",\"type\":\"LinearAxis\"}],\"left\":[{\"id\":\"33ff9d8b-d916-402e-a68b-9c2f30e2a9db\",\"type\":\"LinearAxis\"}],\"plot_height\":500,\"renderers\":[{\"id\":\"9161a3ac-5a26-438f-852c-8f086a5550ca\",\"type\":\"LinearAxis\"},{\"id\":\"430ca078-7c57-43e2-b655-272940232e1a\",\"type\":\"Grid\"},{\"id\":\"33ff9d8b-d916-402e-a68b-9c2f30e2a9db\",\"type\":\"LinearAxis\"},{\"id\":\"b0b5a1ae-fecd-4de1-a2e0-184fe92c094d\",\"type\":\"Grid\"},{\"id\":\"c8451158-2173-4369-9c8b-0aea0debd5e5\",\"type\":\"BoxAnnotation\"},{\"id\":\"4119319b-b8ca-443e-926d-d5991fbf1166\",\"type\":\"GlyphRenderer\"},{\"id\":\"2cb835fd-a3db-466c-81c4-4a2c4ae33d1a\",\"type\":\"GlyphRenderer\"},{\"id\":\"d7806f60-7e02-4631-87bf-8e8f3c22a7bd\",\"type\":\"GlyphRenderer\"},{\"id\":\"fd4e43bb-c5ff-479f-aad3-6c0d73b41257\",\"type\":\"GlyphRenderer\"},{\"id\":\"5c179635-e9e3-449b-9734-6c219a806570\",\"type\":\"GlyphRenderer\"}],\"tool_events\":{\"id\":\"c7498d18-a356-49fb-bc60-e66be276ea67\",\"type\":\"ToolEvents\"},\"tools\":[{\"id\":\"a86e1543-3164-4146-9a39-bb220454d7be\",\"type\":\"BoxZoomTool\"},{\"id\":\"4e0af6bd-dd12-4466-82b1-e0ea14caf820\",\"type\":\"ResetTool\"},{\"id\":\"03a80e29-5b3f-4658-a166-7b36dba4e95f\",\"type\":\"HoverTool\"}],\"x_range\":{\"id\":\"38a147e7-f3e0-48a3-9eb4-0f79916a43f8\",\"type\":\"DataRange1d\"},\"y_range\":{\"id\":\"8df807bb-e38a-4797-848b-cd528b0a5208\",\"type\":\"DataRange1d\"}},\"id\":\"00954d86-a32b-49f4-b0b3-c33b05112bed\",\"subtype\":\"Figure\",\"type\":\"Plot\"},{\"attributes\":{\"plot\":{\"id\":\"40984381-804f-484c-b412-49c9a1eb6ef2\",\"subtype\":\"Figure\",\"type\":\"Plot\"}},\"id\":\"61e3b6a9-01bf-4b2c-9061-4f225c8210e4\",\"type\":\"ResetTool\"},{\"attributes\":{\"plot\":{\"id\":\"5581247a-fe58-45f5-82af-2159194a2f13\",\"subtype\":\"Figure\",\"type\":\"Plot\"}},\"id\":\"a7095210-6835-470a-a857-6ead691f4d98\",\"type\":\"PreviewSaveTool\"},{\"attributes\":{\"plot\":{\"id\":\"3616ae36-d489-4dc8-b94e-8f7dbc10e264\",\"subtype\":\"Figure\",\"type\":\"Plot\"}},\"id\":\"4a7e5b4e-30a9-4f96-ad96-7197dc83419b\",\"type\":\"ResetTool\"},{\"attributes\":{\"bottom_units\":\"screen\",\"fill_alpha\":{\"value\":0.5},\"fill_color\":{\"value\":\"lightgrey\"},\"left_units\":\"screen\",\"level\":\"overlay\",\"line_alpha\":{\"value\":1.0},\"line_color\":{\"value\":\"black\"},\"line_dash\":[4,4],\"line_width\":{\"value\":2},\"plot\":null,\"render_mode\":\"css\",\"right_units\":\"screen\",\"top_units\":\"screen\"},\"id\":\"6c0bcb03-2c87-4889-afe4-9d503f7a358b\",\"type\":\"BoxAnnotation\"},{\"attributes\":{\"line_color\":{\"value\":\"red\"},\"line_width\":{\"value\":2},\"x\":{\"field\":\"x\"},\"y\":{\"field\":\"y\"}},\"id\":\"2717c17f-e156-4bb0-9c1b-0ad707c8c1f2\",\"type\":\"Line\"},{\"attributes\":{\"data_source\":{\"id\":\"4065cff7-94ac-4bab-9472-ccf425be1889\",\"type\":\"ColumnDataSource\"},\"glyph\":{\"id\":\"f0a95e73-6913-4753-b659-8492d1d35524\",\"type\":\"Circle\"},\"hover_glyph\":null,\"nonselection_glyph\":{\"id\":\"e80ab632-5458-4933-8584-0b6c6a622ece\",\"type\":\"Circle\"},\"selection_glyph\":null},\"id\":\"da1abfb6-b0f1-4500-bb17-cc10ac0adc8b\",\"type\":\"GlyphRenderer\"},{\"attributes\":{\"line_alpha\":{\"value\":0.1},\"line_color\":{\"value\":\"#1f77b4\"},\"line_dash\":[4,4],\"line_width\":{\"value\":2},\"x\":{\"field\":\"x\"},\"y\":{\"field\":\"y\"}},\"id\":\"7e3fbeb8-1c1f-470d-8ae9-8d5f5b906a4d\",\"type\":\"Line\"},{\"attributes\":{\"data_source\":{\"id\":\"f41546c4-3d86-4e95-a477-92ba7927809f\",\"type\":\"ColumnDataSource\"},\"glyph\":{\"id\":\"38d73fd5-e745-4e43-9876-51a75f930aca\",\"type\":\"Circle\"},\"hover_glyph\":null,\"nonselection_glyph\":{\"id\":\"9e533ef1-71b0-4445-a05a-5dfac1381ab3\",\"type\":\"Circle\"},\"selection_glyph\":null},\"id\":\"118cdbf6-a972-4378-b9da-7795d2b164f4\",\"type\":\"GlyphRenderer\"},{\"attributes\":{\"line_alpha\":{\"value\":0.1},\"line_color\":{\"value\":\"#1f77b4\"},\"line_width\":{\"value\":2},\"x\":{\"field\":\"x\"},\"y\":{\"field\":\"y\"}},\"id\":\"9bfc374b-ae32-445b-9236-9ca03ac101a2\",\"type\":\"Line\"},{\"attributes\":{\"bottom_units\":\"screen\",\"fill_alpha\":{\"value\":0.5},\"fill_color\":{\"value\":\"lightgrey\"},\"left_units\":\"screen\",\"level\":\"overlay\",\"line_alpha\":{\"value\":1.0},\"line_color\":{\"value\":\"black\"},\"line_dash\":[4,4],\"line_width\":{\"value\":2},\"plot\":null,\"render_mode\":\"css\",\"right_units\":\"screen\",\"top_units\":\"screen\"},\"id\":\"b7a73df1-8d59-4d28-9711-c8f831becb80\",\"type\":\"BoxAnnotation\"},{\"attributes\":{\"fill_alpha\":{\"value\":0.1},\"fill_color\":{\"value\":\"#1f77b4\"},\"line_alpha\":{\"value\":0.1},\"line_color\":{\"value\":\"#1f77b4\"},\"size\":{\"units\":\"screen\",\"value\":10},\"x\":{\"field\":\"x\"},\"y\":{\"field\":\"y\"}},\"id\":\"29e8a813-1860-4bc4-b7e7-fbb177d9df01\",\"type\":\"Circle\"},{\"attributes\":{\"fill_color\":{\"value\":\"cyan\"},\"line_color\":{\"value\":\"cyan\"},\"size\":{\"units\":\"screen\",\"value\":15},\"x\":{\"value\":2007},\"y\":{\"value\":80.0}},\"id\":\"bc5bd058-9702-4533-a415-c3075a5370dc\",\"type\":\"Circle\"},{\"attributes\":{\"callback\":null},\"id\":\"2225116a-8a06-4e78-a4c4-69d6f66c3df3\",\"type\":\"ColumnDataSource\"},{\"attributes\":{\"callback\":null},\"id\":\"4155fd69-6a0a-4060-97bc-476bfd911f5f\",\"type\":\"DataRange1d\"},{\"attributes\":{\"callback\":null},\"id\":\"aba07958-ee2f-4c2b-b2a0-88844052c34a\",\"type\":\"DataRange1d\"},{\"attributes\":{\"fill_alpha\":{\"value\":0.1},\"fill_color\":{\"value\":\"#1f77b4\"},\"line_alpha\":{\"value\":0.1},\"line_color\":{\"value\":\"#1f77b4\"},\"size\":{\"units\":\"screen\",\"value\":15},\"x\":{\"value\":2007},\"y\":{\"value\":80.0}},\"id\":\"700760fb-4408-4e45-8550-b9b7d016b0a0\",\"type\":\"Circle\"},{\"attributes\":{\"plot\":{\"id\":\"58361c2d-9a21-4f09-9573-41312e1214d0\",\"subtype\":\"Figure\",\"type\":\"Plot\"},\"ticker\":{\"id\":\"1666d41f-1515-4d15-a867-431aea2a8056\",\"type\":\"BasicTicker\"}},\"id\":\"8f82f6c4-4631-4f76-b456-fe07f0ed8659\",\"type\":\"Grid\"},{\"attributes\":{\"line_alpha\":{\"value\":0.1},\"line_color\":{\"value\":\"#1f77b4\"},\"line_width\":{\"value\":2},\"x\":{\"field\":\"x\"},\"y\":{\"field\":\"y\"}},\"id\":\"13360aff-28a1-46cf-91c2-8723a1491695\",\"type\":\"Line\"},{\"attributes\":{},\"id\":\"48b39edc-0de4-42b7-82df-aa6b9f7ec251\",\"type\":\"BasicTickFormatter\"},{\"attributes\":{\"bottom_units\":\"screen\",\"fill_alpha\":{\"value\":0.5},\"fill_color\":{\"value\":\"lightgrey\"},\"left_units\":\"screen\",\"level\":\"overlay\",\"line_alpha\":{\"value\":1.0},\"line_color\":{\"value\":\"black\"},\"line_dash\":[4,4],\"line_width\":{\"value\":2},\"plot\":null,\"render_mode\":\"css\",\"right_units\":\"screen\",\"top_units\":\"screen\"},\"id\":\"34979b5b-f3d8-44be-bc32-917d7c4c4502\",\"type\":\"BoxAnnotation\"},{\"attributes\":{\"line_dash\":[2,2],\"line_width\":{\"value\":2},\"x\":{\"field\":\"x\"},\"y\":{\"field\":\"y\"}},\"id\":\"2dca920f-ed73-47b4-92bd-9f873d2bc024\",\"type\":\"Line\"},{\"attributes\":{\"plot\":{\"id\":\"c163acbe-edba-4d39-ae8f-0c56519a9cc4\",\"subtype\":\"Figure\",\"type\":\"Plot\"}},\"id\":\"d2fb5fc3-4b58-453d-b828-e01b89b460b1\",\"type\":\"ResetTool\"},{\"attributes\":{},\"id\":\"bd8dcfaf-6596-4e6f-bd81-eaaeff72dc1f\",\"type\":\"BasicTicker\"},{\"attributes\":{\"callback\":null},\"id\":\"d209f6f8-5595-4cee-b433-c25164b3b7d3\",\"type\":\"DataRange1d\"},{\"attributes\":{\"axis_label\":\"Mean Popularity of Collaboration\",\"formatter\":{\"id\":\"50386a82-176b-4c46-8ae3-12d6ecd5cd99\",\"type\":\"BasicTickFormatter\"},\"plot\":{\"id\":\"4ffbe01a-4dc5-41a4-b3e4-1da56420e097\",\"subtype\":\"Figure\",\"type\":\"Plot\"},\"ticker\":{\"id\":\"326cb5cc-fd5b-4b94-b6b4-e252f5a1b784\",\"type\":\"BasicTicker\"}},\"id\":\"b2645ef7-f35e-4b31-a726-4c9cb6370532\",\"type\":\"LinearAxis\"},{\"attributes\":{\"fill_color\":{\"value\":\"cyan\"},\"line_color\":{\"value\":\"cyan\"},\"size\":{\"units\":\"screen\",\"value\":15},\"x\":{\"field\":\"x\"},\"y\":{\"field\":\"y\"}},\"id\":\"876bcb8d-fc4e-478e-a41b-2c16bff3ec35\",\"type\":\"Circle\"},{\"attributes\":{\"bottom\":{\"value\":0},\"fill_alpha\":{\"value\":0.1},\"fill_color\":{\"value\":\"#1f77b4\"},\"left\":{\"field\":\"left\"},\"line_alpha\":{\"value\":0.1},\"line_color\":{\"value\":\"#1f77b4\"},\"right\":{\"field\":\"right\"},\"top\":{\"field\":\"top\"}},\"id\":\"4b00a3f6-43dc-4eac-a458-15694836d16d\",\"type\":\"Quad\"},{\"attributes\":{\"fill_color\":{\"value\":\"black\"},\"size\":{\"units\":\"screen\",\"value\":7},\"x\":{\"field\":\"x\"},\"y\":{\"field\":\"y\"}},\"id\":\"6ba14347-2a48-4857-8a64-8bbe7c2a2fd5\",\"type\":\"Circle\"},{\"attributes\":{},\"id\":\"51f174e1-9fdb-4093-b51e-3127edb468b4\",\"type\":\"BasicTickFormatter\"},{\"attributes\":{\"axis_label\":\"Popularity\",\"formatter\":{\"id\":\"efaddb0d-15fe-4964-8256-d4c66ad382a9\",\"type\":\"BasicTickFormatter\"},\"plot\":{\"id\":\"c163acbe-edba-4d39-ae8f-0c56519a9cc4\",\"subtype\":\"Figure\",\"type\":\"Plot\"},\"ticker\":{\"id\":\"523b10f4-9055-4969-bba4-7e9f407adc85\",\"type\":\"BasicTicker\"}},\"id\":\"eee51a06-9ebf-4009-a4d5-c26235fa4242\",\"type\":\"LinearAxis\"},{\"attributes\":{\"callback\":null,\"column_names\":[\"y\",\"x\"],\"data\":{\"x\":[2003,2017],\"y\":[78.75,78.75]}},\"id\":\"ec03d3cd-efba-4535-81e9-231d92a9e28a\",\"type\":\"ColumnDataSource\"},{\"attributes\":{\"callback\":null,\"column_names\":[\"y\",\"x\"],\"data\":{\"x\":[2000,2017],\"y\":[72.19732878895942,72.19732878895942]}},\"id\":\"9cc7d8fd-adbf-497d-a0d4-2602d900de82\",\"type\":\"ColumnDataSource\"},{\"attributes\":{},\"id\":\"558c2445-732a-47f7-85e3-e5026cd30a57\",\"type\":\"BasicTickFormatter\"},{\"attributes\":{},\"id\":\"77c26f02-91b9-428d-8fe0-f473b52431c7\",\"type\":\"BasicTicker\"},{\"attributes\":{\"fill_alpha\":{\"value\":0.1},\"fill_color\":{\"value\":\"#1f77b4\"},\"line_alpha\":{\"value\":0.1},\"line_color\":{\"value\":\"#1f77b4\"},\"size\":{\"units\":\"screen\",\"value\":7},\"x\":{\"field\":\"x\"},\"y\":{\"field\":\"y\"}},\"id\":\"15bd0777-b128-47a4-a8da-97017f2faddd\",\"type\":\"Circle\"},{\"attributes\":{\"overlay\":{\"id\":\"1c594e6b-d6b4-4a08-b945-f75396c0bcb7\",\"type\":\"BoxAnnotation\"},\"plot\":{\"id\":\"42d95f82-ea66-4636-bfa0-901593efc674\",\"subtype\":\"Figure\",\"type\":\"Plot\"}},\"id\":\"fa0b37d1-f122-4166-b0d8-172f363149ef\",\"type\":\"BoxZoomTool\"},{\"attributes\":{\"callback\":null},\"id\":\"c74157c8-ad64-465f-b061-e693a2f373c4\",\"type\":\"DataRange1d\"},{\"attributes\":{},\"id\":\"23e7e737-2ddd-48d5-ae88-56792986875b\",\"type\":\"BasicTicker\"},{\"attributes\":{},\"id\":\"68e6ef1a-3eb5-472f-80ef-df150ad91bf6\",\"type\":\"BasicTicker\"},{\"attributes\":{\"callback\":null,\"column_names\":[\"y\",\"x\"],\"data\":{\"x\":[-1,10],\"y\":[59.12396694214876,59.12396694214876]}},\"id\":\"0fff0acb-9e28-4602-990e-43f67c3ad3d9\",\"type\":\"ColumnDataSource\"},{\"attributes\":{\"callback\":null},\"id\":\"601336ca-e3ac-405d-8f8a-4f1e1f800d9e\",\"type\":\"DataRange1d\"},{\"attributes\":{\"bottom_units\":\"screen\",\"fill_alpha\":{\"value\":0.5},\"fill_color\":{\"value\":\"lightgrey\"},\"left_units\":\"screen\",\"level\":\"overlay\",\"line_alpha\":{\"value\":1.0},\"line_color\":{\"value\":\"black\"},\"line_dash\":[4,4],\"line_width\":{\"value\":2},\"plot\":null,\"render_mode\":\"css\",\"right_units\":\"screen\",\"top_units\":\"screen\"},\"id\":\"56f1af86-e4a5-441e-b557-1f49f9a7193d\",\"type\":\"BoxAnnotation\"},{\"attributes\":{\"data_source\":{\"id\":\"df970cb9-ecef-4749-acb5-feae005777bb\",\"type\":\"ColumnDataSource\"},\"glyph\":{\"id\":\"0a33078e-df76-4df7-9337-d30ff3479592\",\"type\":\"Line\"},\"hover_glyph\":null,\"nonselection_glyph\":{\"id\":\"28faed3c-2f9d-49d6-b26f-e434743c15b8\",\"type\":\"Line\"},\"selection_glyph\":null},\"id\":\"6245b2be-44cb-4bb5-97bb-04ac52185f54\",\"type\":\"GlyphRenderer\"},{\"attributes\":{\"below\":[{\"id\":\"6b73566d-716b-45a6-8684-ac72a95491c3\",\"type\":\"LinearAxis\"}],\"left\":[{\"id\":\"d9e87d9b-ab6c-4e85-9713-0b77e4f4dccc\",\"type\":\"LinearAxis\"}],\"plot_height\":500,\"renderers\":[{\"id\":\"6b73566d-716b-45a6-8684-ac72a95491c3\",\"type\":\"LinearAxis\"},{\"id\":\"3b7e7573-438d-467e-9ece-80068c77ebaf\",\"type\":\"Grid\"},{\"id\":\"d9e87d9b-ab6c-4e85-9713-0b77e4f4dccc\",\"type\":\"LinearAxis\"},{\"id\":\"0a303161-f1d0-46b4-ab71-647bcc3de371\",\"type\":\"Grid\"},{\"id\":\"6c0bcb03-2c87-4889-afe4-9d503f7a358b\",\"type\":\"BoxAnnotation\"},{\"id\":\"4df0cfd6-6efb-4a3a-8d50-b02979810c62\",\"type\":\"GlyphRenderer\"},{\"id\":\"8abb6639-8f5c-4f6a-b239-2c32764beef0\",\"type\":\"GlyphRenderer\"},{\"id\":\"0a1e45c5-29d7-4b39-9f32-1d86cb53e270\",\"type\":\"GlyphRenderer\"},{\"id\":\"4951b433-b4bb-45b1-8331-23d1de71df85\",\"type\":\"GlyphRenderer\"},{\"id\":\"77e9925b-f2a0-46b5-8fb7-f1e7b11250b5\",\"type\":\"GlyphRenderer\"}],\"tool_events\":{\"id\":\"03d76e0d-2be2-467a-9b66-df73f068a930\",\"type\":\"ToolEvents\"},\"tools\":[{\"id\":\"86b76a50-e05a-444d-805f-68cc3084bb43\",\"type\":\"BoxZoomTool\"},{\"id\":\"bc3e6bb3-c2a5-4ed1-ab5b-7b3c52c1cf03\",\"type\":\"ResetTool\"},{\"id\":\"6a139382-4ef6-4c3e-93f2-874182c0fb50\",\"type\":\"HoverTool\"}],\"x_range\":{\"id\":\"7b4eb9fc-6dc7-4d0f-a6a3-ef31862211d2\",\"type\":\"DataRange1d\"},\"y_range\":{\"id\":\"39072606-7759-427e-b76e-cfe095c6f627\",\"type\":\"DataRange1d\"}},\"id\":\"f8d0ef78-8fe7-49c2-8a93-afe1dcadb6b4\",\"subtype\":\"Figure\",\"type\":\"Plot\"},{\"attributes\":{\"callback\":null,\"column_names\":[\"y\",\"x\"],\"data\":{\"x\":[2000,2017],\"y\":[85.30267121104058,85.30267121104058]}},\"id\":\"ad0e4994-422a-430d-ba96-d14e636d8dda\",\"type\":\"ColumnDataSource\"},{\"attributes\":{\"plot\":{\"id\":\"3fcbd322-bcc0-44be-a67c-49e08ce201f3\",\"subtype\":\"Figure\",\"type\":\"Plot\"}},\"id\":\"f82be1d2-d036-4bd4-b634-4231513472be\",\"type\":\"ResetTool\"},{\"attributes\":{},\"id\":\"6ac16410-2310-4921-8e0c-23d9433aa12e\",\"type\":\"BasicTicker\"},{\"attributes\":{\"line_color\":{\"value\":\"red\"},\"line_width\":{\"value\":2},\"x\":{\"field\":\"x\"},\"y\":{\"field\":\"y\"}},\"id\":\"7efc4817-eee9-40fd-b6eb-6d91496d41a2\",\"type\":\"Line\"},{\"attributes\":{\"callback\":null,\"column_names\":[\"y\",\"x\"],\"data\":{\"x\":[2000,2017],\"y\":[72.19732878895942,72.19732878895942]}},\"id\":\"0c19176a-a121-4c18-bc47-5144fba677b0\",\"type\":\"ColumnDataSource\"},{\"attributes\":{\"data_source\":{\"id\":\"4bc1dd8b-bec4-4e4c-acdb-5d84dcb726e4\",\"type\":\"ColumnDataSource\"},\"glyph\":{\"id\":\"0df9bf6e-1ce7-4924-801a-6fcf886b16cf\",\"type\":\"Circle\"},\"hover_glyph\":null,\"nonselection_glyph\":{\"id\":\"7002645c-27a3-452b-9864-f59698439602\",\"type\":\"Circle\"},\"selection_glyph\":null},\"id\":\"90f305ec-ef05-40ab-a9b5-7a469b70a8d0\",\"type\":\"GlyphRenderer\"},{\"attributes\":{\"callback\":null,\"column_names\":[\"y\",\"x\"],\"data\":{\"x\":[-1,130],\"y\":[42.19607843137255,42.19607843137255]}},\"id\":\"9753ff27-fc7b-47d3-b723-f077191b51b9\",\"type\":\"ColumnDataSource\"},{\"attributes\":{\"data_source\":{\"id\":\"764ac36f-b18a-4443-9a5e-e20eca91d9aa\",\"type\":\"ColumnDataSource\"},\"glyph\":{\"id\":\"cd81f35b-63e2-4665-8a96-f08e22e2fc44\",\"type\":\"Circle\"},\"hover_glyph\":null,\"nonselection_glyph\":{\"id\":\"4e0f4972-87cb-4bd1-ba35-42fdd0100887\",\"type\":\"Circle\"},\"selection_glyph\":null},\"id\":\"8595a94d-0c7b-44d9-8df2-06b45288643d\",\"type\":\"GlyphRenderer\"},{\"attributes\":{\"line_dash\":[4,4],\"line_width\":{\"value\":2},\"x\":{\"field\":\"x\"},\"y\":{\"field\":\"y\"}},\"id\":\"f183a5e5-d6c1-48d8-b34b-bf811d4f8a37\",\"type\":\"Line\"},{\"attributes\":{\"overlay\":{\"id\":\"c8451158-2173-4369-9c8b-0aea0debd5e5\",\"type\":\"BoxAnnotation\"},\"plot\":{\"id\":\"00954d86-a32b-49f4-b0b3-c33b05112bed\",\"subtype\":\"Figure\",\"type\":\"Plot\"}},\"id\":\"a86e1543-3164-4146-9a39-bb220454d7be\",\"type\":\"BoxZoomTool\"},{\"attributes\":{\"data_source\":{\"id\":\"4834b0f2-ad3c-4577-b5dd-0fc7e4147b62\",\"type\":\"ColumnDataSource\"},\"glyph\":{\"id\":\"b1c63d2f-135f-4776-8895-91473684f08f\",\"type\":\"Quad\"},\"hover_glyph\":null,\"nonselection_glyph\":{\"id\":\"85750481-fa7e-4ba0-a85d-8767243961ff\",\"type\":\"Quad\"},\"selection_glyph\":null},\"id\":\"d100adc5-ed19-4508-b424-f3fe4d7b58ec\",\"type\":\"GlyphRenderer\"},{\"attributes\":{\"bottom\":{\"value\":0},\"fill_alpha\":{\"value\":0.2},\"fill_color\":{\"value\":\"white\"},\"left\":{\"field\":\"left\"},\"line_color\":{\"value\":\"blue\"},\"right\":{\"field\":\"right\"},\"top\":{\"field\":\"top\"}},\"id\":\"0ff30544-62ef-4ae6-a6c3-1b5fac4039c2\",\"type\":\"Quad\"},{\"attributes\":{\"callback\":null,\"column_names\":[\"y\",\"x\",\"collab_num\",\"artist\"],\"data\":{\"artist\":[\"JAY Z\",\"Frank Ocean\",\"The-Dream\",\"Beyonce\",\"Mr Hudson\",\"Kid Cudi\",\"Raekwon\",\"Rick Ross\",\"Nicki Minaj\",\"Pusha T\",\"Prynce Cy Hi\",\"Swizz Beatz\",\"John Legend\",\"Jeezy\",\"Lil Wayne\",\"T-Pain\",\"Mos Def\",\"DJ Premier\",\"Lupe Fiasco\",\"Jamie Foxx\",\"Paul Wall\",\"GLC\",\"Common\",\"The Game\",\"Brandy\",\"Nas\",\"Really Doe\",\"Consequence\",\"Cam'Ron\",\"J. Ivy\",\"Talib Kweli\",\"Twista\",\"Ludacris\",\"Freeway\"],\"collab_num\":[\"56.0\",\"0.0\",\"2.0\",\"4.0\",\"2.0\",\"6.0\",\"0.0\",\"8.0\",\"5.0\",\"4.0\",\"nan\",\"0.0\",\"2.0\",\"2.0\",\"0.0\",\"4.0\",\"0.0\",\"nan\",\"0.0\",\"4.0\",\"0.0\",\"2.0\",\"6.0\",\"3.0\",\"3.0\",\"4.0\",\"nan\",\"4.0\",\"2.0\",\"nan\",\"2.0\",\"2.0\",\"0.0\",\"0.0\"],\"x\":[32.01754385964912,59.357142857142854,22.310077519379846,52.36923076923077,17.22222222222222,39.7265625,15.037735849056604,28.440677966101696,35.91463414634146,32.206896551724135,\"NaN\",15.85,44.015151515151516,23.11244979919679,31.128,19.09090909090909,32.5,\"NaN\",28.619402985074625,25.40963855421687,13.08148148148148,1.5833333333333333,24.664429530201343,22.8515625,25.075342465753426,24.407960199004975,\"NaN\",9.690909090909091,16.333333333333332,\"NaN\",18.36190476190476,17.55151515151515,25.0,5.862903225806452],\"y\":[41.625,\"NaN\",34.0,51.5,31.0,44.5,\"NaN\",32.875,30.8,36.75,\"NaN\",\"NaN\",27.0,52.5,\"NaN\",19.75,\"NaN\",\"NaN\",\"NaN\",26.5,\"NaN\",23.5,30.166666666666668,37.666666666666664,29.0,27.75,\"NaN\",34.0,37.5,\"NaN\",23.0,50.5,\"NaN\",\"NaN\"]}},\"id\":\"49d2107a-7d2d-4aa3-a7f3-cb55e13fd977\",\"type\":\"ColumnDataSource\"},{\"attributes\":{\"callback\":null},\"id\":\"b83b450b-8dae-47f4-9754-1b954d82b676\",\"type\":\"DataRange1d\"},{\"attributes\":{\"fill_alpha\":{\"value\":0.1},\"fill_color\":{\"value\":\"#1f77b4\"},\"line_alpha\":{\"value\":0.1},\"line_color\":{\"value\":\"#1f77b4\"},\"size\":{\"units\":\"screen\",\"value\":12},\"x\":{\"field\":\"x\"},\"y\":{\"field\":\"y\"}},\"id\":\"98ed2280-9437-43c6-a8c5-a70d6a6ad5b4\",\"type\":\"Circle\"},{\"attributes\":{\"data_source\":{\"id\":\"0c19176a-a121-4c18-bc47-5144fba677b0\",\"type\":\"ColumnDataSource\"},\"glyph\":{\"id\":\"37d95cf6-6c82-474b-bd53-cb7f1e1d5888\",\"type\":\"Line\"},\"hover_glyph\":null,\"nonselection_glyph\":{\"id\":\"581aab77-a596-49fe-a778-d6d24d09ad09\",\"type\":\"Line\"},\"selection_glyph\":null},\"id\":\"5069e8a9-90d2-4e5b-8932-edd3cb2daab1\",\"type\":\"GlyphRenderer\"},{\"attributes\":{\"callback\":null,\"column_names\":[\"y\",\"x\"],\"data\":{\"x\":[-1,130],\"y\":[38.84347826086957,38.84347826086957]}},\"id\":\"df970cb9-ecef-4749-acb5-feae005777bb\",\"type\":\"ColumnDataSource\"},{\"attributes\":{},\"id\":\"d2e4d84b-9b5c-4201-ad3c-46891a78f669\",\"type\":\"BasicTicker\"},{\"attributes\":{\"overlay\":{\"id\":\"362be3d4-21ee-4a42-b26e-1dfab095e298\",\"type\":\"BoxAnnotation\"},\"plot\":{\"id\":\"4a4d436d-255f-4335-8d9c-e1391d214d68\",\"subtype\":\"Figure\",\"type\":\"Plot\"}},\"id\":\"f45041b0-3684-4fec-a14f-3bded51c5580\",\"type\":\"BoxZoomTool\"},{\"attributes\":{\"below\":[{\"id\":\"2e86a37f-f525-4002-a097-89096afeab3c\",\"type\":\"LinearAxis\"}],\"left\":[{\"id\":\"68f8ec45-2ec5-467b-8f37-11e1c4780d8b\",\"type\":\"LinearAxis\"}],\"plot_height\":400,\"renderers\":[{\"id\":\"2e86a37f-f525-4002-a097-89096afeab3c\",\"type\":\"LinearAxis\"},{\"id\":\"6cb819c4-c9c7-4f63-b930-d8f91e59b470\",\"type\":\"Grid\"},{\"id\":\"68f8ec45-2ec5-467b-8f37-11e1c4780d8b\",\"type\":\"LinearAxis\"},{\"id\":\"dcf4f4c4-cf32-422b-8c19-42be7532e8e8\",\"type\":\"Grid\"},{\"id\":\"52c6777d-b399-4693-a99c-ba3c6a302cf6\",\"type\":\"BoxAnnotation\"},{\"id\":\"b6895d4e-e7ed-4b8b-918b-cbc8affbe69f\",\"type\":\"Legend\"},{\"id\":\"2a4b5862-d51f-4e57-9595-d1837f80830c\",\"type\":\"GlyphRenderer\"},{\"id\":\"e3e2ef3a-5d59-4a30-911f-eff614eed3b4\",\"type\":\"GlyphRenderer\"}],\"tool_events\":{\"id\":\"89935a6c-304e-4cb7-afe6-3a5137dcda5f\",\"type\":\"ToolEvents\"},\"tools\":[{\"id\":\"2ca9ccab-37b0-4838-a6cd-80d040a951d0\",\"type\":\"PanTool\"},{\"id\":\"b9e7569f-778b-40c5-967a-314beba73a9b\",\"type\":\"WheelZoomTool\"},{\"id\":\"baafd154-38b2-44d4-8aa9-37745c82b6ee\",\"type\":\"BoxZoomTool\"},{\"id\":\"25260aa8-b57d-417c-bcd3-7cf04b9c7790\",\"type\":\"PreviewSaveTool\"},{\"id\":\"b0802b6b-c621-4d84-8c38-f1496228d20c\",\"type\":\"ResizeTool\"},{\"id\":\"2120b579-ee11-4156-8fe1-edebecbf1f54\",\"type\":\"ResetTool\"},{\"id\":\"05165596-c6ce-40ba-87bb-d5ea5d75fe65\",\"type\":\"HelpTool\"}],\"x_range\":{\"id\":\"7e0e1203-838b-4a27-9a90-4dd82209c8b9\",\"type\":\"DataRange1d\"},\"y_range\":{\"id\":\"4155fd69-6a0a-4060-97bc-476bfd911f5f\",\"type\":\"DataRange1d\"}},\"id\":\"906090f5-7fc8-4666-bdc4-2cfa29be15ef\",\"subtype\":\"Figure\",\"type\":\"Plot\"},{\"attributes\":{\"fill_alpha\":{\"value\":0.4},\"fill_color\":{\"value\":\"black\"},\"size\":{\"units\":\"screen\",\"value\":7},\"x\":{\"field\":\"x\"},\"y\":{\"field\":\"y\"}},\"id\":\"ee81ce9f-5697-4fa9-b010-f1ad574f78cb\",\"type\":\"Circle\"},{\"attributes\":{\"data_source\":{\"id\":\"97be9f7b-c67a-4020-bbb5-e65002df52f5\",\"type\":\"ColumnDataSource\"},\"glyph\":{\"id\":\"d1c7b0c2-f035-4724-b472-65a6decf6862\",\"type\":\"Quad\"},\"hover_glyph\":null,\"nonselection_glyph\":{\"id\":\"929b4c03-8bd7-4522-9707-8d7b442a688e\",\"type\":\"Quad\"},\"selection_glyph\":null},\"id\":\"03b245c2-8859-449b-933c-78e2c86874fc\",\"type\":\"GlyphRenderer\"},{\"attributes\":{\"axis_label\":\"Popularity with Kanye West\",\"formatter\":{\"id\":\"7bc6b995-74be-4377-8ab8-aff911066c44\",\"type\":\"BasicTickFormatter\"},\"plot\":{\"id\":\"50fb0a0d-4a0a-457f-bcb5-db1a0b705072\",\"subtype\":\"Figure\",\"type\":\"Plot\"},\"ticker\":{\"id\":\"63e7ffbd-4a9b-496c-9031-d66b9bedb7e6\",\"type\":\"BasicTicker\"}},\"id\":\"84166016-9dcd-44c8-9773-05e61eadb531\",\"type\":\"LinearAxis\"},{\"attributes\":{\"plot\":{\"id\":\"3fcbd322-bcc0-44be-a67c-49e08ce201f3\",\"subtype\":\"Figure\",\"type\":\"Plot\"},\"ticker\":{\"id\":\"0795ba7f-0dac-44d2-8e12-8200c0e1237a\",\"type\":\"BasicTicker\"}},\"id\":\"141fad31-b8e4-4bca-ac93-6ed7f2bc141f\",\"type\":\"Grid\"},{\"attributes\":{\"callback\":null,\"column_names\":[\"right\",\"top\",\"left\"],\"data\":{\"left\":[0.0,4.0,8.0,12.0,16.0,20.0,24.0,28.0,32.0,36.0,40.0,44.0,48.0,52.0,56.0,60.0,64.0,68.0,72.0,76.0,80.0,84.0,88.0,92.0,96.0],\"right\":[4.0,8.0,12.0,16.0,20.0,24.0,28.0,32.0,36.0,40.0,44.0,48.0,52.0,56.0,60.0,64.0,68.0,72.0,76.0,80.0,84.0,88.0,92.0,96.0,100.0],\"top\":[2,1,0,3,2,15,17,26,14,7,7,2,1,7,2,1,1,1,0,0,0,0,0,0,0]}},\"id\":\"9ccd3268-925c-4d00-97f6-91c3255171d6\",\"type\":\"ColumnDataSource\"},{\"attributes\":{\"callback\":null,\"column_names\":[\"y\",\"x\"],\"data\":{\"x\":[0.0,1.0,2.0,3.0,4.0,5.0,6.0,7.0,8.0,9.0,10.0,11.0,12.0,13.0,14.0,15.0,16.0,17.0,18.0,19.0,20.0,21.0,22.0,23.0,24.0,25.0,26.0,27.0,28.0,29.0,30.0,31.0,32.0,33.0,34.0,35.0,36.0,37.0,38.0,39.0,40.0,41.0,42.0,43.0,44.0,45.0,46.0,47.0,48.0,49.0],\"y\":[26.99799686189477,27.289015120980906,27.580033380067043,27.871051639153176,28.162069898239313,28.45308815732545,28.744106416411586,29.03512467549772,29.326142934583856,29.617161193669993,29.90817945275613,30.199197711842267,30.4902159709284,30.781234230014537,31.072252489100674,31.36327074818681,31.654289007272943,31.94530726635908,32.23632552544522,32.527343784531354,32.81836204361749,33.10938030270363,33.400398561789764,33.6914168208759,33.98243507996203,34.27345333904817,34.564471598134304,34.85548985722044,35.14650811630658,35.437526375392714,35.72854463447885,36.01956289356498,36.310581152651125,36.601599411737254,36.89261767082339,37.18363592990953,37.474654188995665,37.7656724480818,38.05669070716794,38.347708966254075,38.638727225340205,38.92974548442635,39.22076374351248,39.511782002598615,39.80280026168475,40.09381852077089,40.384836779857025,40.67585503894316,40.9668732980293,41.257891557115435]}},\"id\":\"f6fb807f-25ae-4524-8c80-7bc0d75b6ab5\",\"type\":\"ColumnDataSource\"},{\"attributes\":{\"bottom\":{\"value\":0},\"fill_color\":{\"value\":\"white\"},\"left\":{\"field\":\"left\"},\"line_color\":{\"value\":\"red\"},\"right\":{\"field\":\"right\"},\"top\":{\"field\":\"top\"}},\"id\":\"6ac4a4cd-8ab5-4038-acb9-0c77b961a3dc\",\"type\":\"Quad\"},{\"attributes\":{},\"id\":\"9a0e5239-77f0-4f80-a5b4-ff6b217f7869\",\"type\":\"ToolEvents\"},{\"attributes\":{\"fill_alpha\":{\"value\":0.1},\"fill_color\":{\"value\":\"#1f77b4\"},\"line_alpha\":{\"value\":0.1},\"line_color\":{\"value\":\"#1f77b4\"},\"size\":{\"units\":\"screen\",\"value\":15},\"x\":{\"field\":\"x\"},\"y\":{\"field\":\"y\"}},\"id\":\"a35d4b72-79c0-47cb-8b7e-cf2e5841055b\",\"type\":\"Circle\"},{\"attributes\":{\"line_color\":{\"value\":\"red\"},\"line_dash\":[4,4],\"line_width\":{\"value\":2},\"x\":{\"field\":\"x\"},\"y\":{\"field\":\"y\"}},\"id\":\"7df3706d-a027-4f57-bd37-e6e6b35e470c\",\"type\":\"Line\"},{\"attributes\":{\"axis_label\":\"Collaborator\",\"formatter\":{\"id\":\"84b213b8-541f-41aa-9aa1-767394a95519\",\"type\":\"BasicTickFormatter\"},\"major_label_text_font_size\":{\"value\":\"0pt\"},\"plot\":{\"id\":\"58361c2d-9a21-4f09-9573-41312e1214d0\",\"subtype\":\"Figure\",\"type\":\"Plot\"},\"ticker\":{\"id\":\"1666d41f-1515-4d15-a867-431aea2a8056\",\"type\":\"BasicTicker\"}},\"id\":\"06d115f9-3f97-42b3-82ce-59e0d44d29e9\",\"type\":\"LinearAxis\"},{\"attributes\":{\"axis_label\":\"Number of Tracks\",\"formatter\":{\"id\":\"58b06bd2-73ae-4039-a603-6fd54cf22c2a\",\"type\":\"BasicTickFormatter\"},\"plot\":{\"id\":\"5581247a-fe58-45f5-82af-2159194a2f13\",\"subtype\":\"Figure\",\"type\":\"Plot\"},\"ticker\":{\"id\":\"aa586dd5-1cb7-4a38-ab1e-ec8914a73a25\",\"type\":\"BasicTicker\"}},\"id\":\"2df904e7-293f-455e-99d0-7a4ad799e5d9\",\"type\":\"LinearAxis\"},{\"attributes\":{},\"id\":\"e0b0f541-dabd-4378-b3a8-1c3501386a41\",\"type\":\"ToolEvents\"},{\"attributes\":{},\"id\":\"b0925e5a-928e-4397-a9bd-873fa80d2552\",\"type\":\"BasicTicker\"},{\"attributes\":{\"legends\":[[\"Linear Regression\",[{\"id\":\"1d5acea7-6552-40f4-8579-3fc1e54e9dda\",\"type\":\"GlyphRenderer\"}]],[\"One-to-One\",[{\"id\":\"d5630ed1-d224-449e-bc5b-b8bd30c00b45\",\"type\":\"GlyphRenderer\"}]]],\"plot\":{\"id\":\"a406ebf3-7fee-4dd4-9327-caaf80fc284a\",\"subtype\":\"Figure\",\"type\":\"Plot\"}},\"id\":\"3d54dcb4-69a7-4a0f-9561-6bb039567fd1\",\"type\":\"Legend\"},{\"attributes\":{\"below\":[{\"id\":\"fdb4733c-0f33-420b-a908-e1d3ed720b3e\",\"type\":\"LinearAxis\"}],\"left\":[{\"id\":\"5477ec46-72bc-4fff-810b-d23c73699159\",\"type\":\"LinearAxis\"}],\"plot_height\":400,\"renderers\":[{\"id\":\"fdb4733c-0f33-420b-a908-e1d3ed720b3e\",\"type\":\"LinearAxis\"},{\"id\":\"9793898a-18af-4b24-9fae-83894a012e41\",\"type\":\"Grid\"},{\"id\":\"5477ec46-72bc-4fff-810b-d23c73699159\",\"type\":\"LinearAxis\"},{\"id\":\"5b494545-e1ab-455d-beb7-3c9a811c5029\",\"type\":\"Grid\"},{\"id\":\"335123d1-029b-4008-a95b-8e240a8d4e96\",\"type\":\"BoxAnnotation\"},{\"id\":\"078f4833-263f-49ac-993e-09af5e946138\",\"type\":\"Legend\"},{\"id\":\"eb434d8a-ed69-4e9d-a51b-04f31ad120fc\",\"type\":\"GlyphRenderer\"},{\"id\":\"f5159e69-a60c-475d-9c8f-812e28e00e9b\",\"type\":\"GlyphRenderer\"}],\"tool_events\":{\"id\":\"ea35fb39-b22f-419d-9c9d-c4d635ed323c\",\"type\":\"ToolEvents\"},\"tools\":[{\"id\":\"2252675a-0b89-447f-bef1-4258f8455603\",\"type\":\"PanTool\"},{\"id\":\"5c3caa61-b837-4aee-b55c-65a097b37e3c\",\"type\":\"WheelZoomTool\"},{\"id\":\"3033a831-cfba-49b7-a015-c66bad16c8ce\",\"type\":\"BoxZoomTool\"},{\"id\":\"824d771f-ccd5-4c93-90bf-eefbcc32dc67\",\"type\":\"PreviewSaveTool\"},{\"id\":\"6f17d0f1-53cb-4435-886b-5f0f4a87f2aa\",\"type\":\"ResizeTool\"},{\"id\":\"780568e9-5eba-4c8d-b8f3-87bacbc8681d\",\"type\":\"ResetTool\"},{\"id\":\"497c4bff-2293-4e9e-8c67-3d6f48a9691f\",\"type\":\"HelpTool\"}],\"x_range\":{\"id\":\"d0d5df73-bc71-41d0-b6d5-99149a3da3ba\",\"type\":\"DataRange1d\"},\"y_range\":{\"id\":\"d290438e-1e67-44fd-952b-56e424967d62\",\"type\":\"DataRange1d\"}},\"id\":\"f0cbd62f-278f-4516-a395-9babb5082038\",\"subtype\":\"Figure\",\"type\":\"Plot\"},{\"attributes\":{\"fill_alpha\":{\"value\":0.1},\"fill_color\":{\"value\":\"#1f77b4\"},\"line_alpha\":{\"value\":0.1},\"line_color\":{\"value\":\"#1f77b4\"},\"size\":{\"units\":\"screen\",\"value\":12},\"x\":{\"field\":\"x\"},\"y\":{\"field\":\"y\"}},\"id\":\"9e533ef1-71b0-4445-a05a-5dfac1381ab3\",\"type\":\"Circle\"},{\"attributes\":{\"data_source\":{\"id\":\"9004320a-1943-4ee5-84cb-968103fa2f9c\",\"type\":\"ColumnDataSource\"},\"glyph\":{\"id\":\"80542d5e-7029-41a0-add7-5bc41b63fd1b\",\"type\":\"Line\"},\"hover_glyph\":null,\"nonselection_glyph\":{\"id\":\"c0d82c0d-a319-48b2-baf8-1eae15872079\",\"type\":\"Line\"},\"selection_glyph\":null},\"id\":\"e114bae0-7582-49aa-affd-05f7397c5fc2\",\"type\":\"GlyphRenderer\"},{\"attributes\":{\"callback\":null},\"id\":\"7e19e687-99d1-402e-a464-2e1feb05306b\",\"type\":\"DataRange1d\"},{\"attributes\":{\"plot\":{\"id\":\"40984381-804f-484c-b412-49c9a1eb6ef2\",\"subtype\":\"Figure\",\"type\":\"Plot\"}},\"id\":\"ab6bce07-1e31-43ce-a090-efc67cd873f2\",\"type\":\"PreviewSaveTool\"},{\"attributes\":{\"plot\":{\"id\":\"d88ffe13-3f11-4938-b3bf-6ca710b53c87\",\"subtype\":\"Figure\",\"type\":\"Plot\"}},\"id\":\"cb43cb91-fef6-4594-9384-bf137f55c25e\",\"type\":\"ResetTool\"},{\"attributes\":{},\"id\":\"695a62d7-9ba4-4df6-80da-a4f2beff600d\",\"type\":\"BasicTickFormatter\"},{\"attributes\":{\"bottom_units\":\"screen\",\"fill_alpha\":{\"value\":0.5},\"fill_color\":{\"value\":\"lightgrey\"},\"left_units\":\"screen\",\"level\":\"overlay\",\"line_alpha\":{\"value\":1.0},\"line_color\":{\"value\":\"black\"},\"line_dash\":[4,4],\"line_width\":{\"value\":2},\"plot\":null,\"render_mode\":\"css\",\"right_units\":\"screen\",\"top_units\":\"screen\"},\"id\":\"c53fdf6f-d720-4c03-bfa2-4e15829eed4f\",\"type\":\"BoxAnnotation\"},{\"attributes\":{\"callback\":null},\"id\":\"17dbe2b5-d146-4904-b410-f95ae3cb515a\",\"type\":\"DataRange1d\"},{\"attributes\":{\"line_alpha\":{\"value\":0.1},\"line_color\":{\"value\":\"#1f77b4\"},\"line_dash\":[4,4],\"line_width\":{\"value\":2},\"x\":{\"field\":\"x\"},\"y\":{\"field\":\"y\"}},\"id\":\"fe53a990-b89e-4eaa-ac48-aa20acdfc277\",\"type\":\"Line\"},{\"attributes\":{\"line_alpha\":{\"value\":0.1},\"line_color\":{\"value\":\"#1f77b4\"},\"line_width\":{\"value\":2},\"x\":{\"field\":\"x\"},\"y\":{\"field\":\"y\"}},\"id\":\"2791aaa3-00d3-4b82-9e3e-9554788638a9\",\"type\":\"Line\"},{\"attributes\":{},\"id\":\"84e24ff0-7ed1-49c9-ac0e-de59704e881b\",\"type\":\"ToolEvents\"},{\"attributes\":{\"line_width\":{\"value\":2},\"x\":{\"field\":\"x\"},\"y\":{\"field\":\"y\"}},\"id\":\"f6b60c08-de3f-460f-b98b-bea14683bdf1\",\"type\":\"Line\"},{\"attributes\":{\"line_alpha\":{\"value\":0.1},\"line_color\":{\"value\":\"#1f77b4\"},\"line_width\":{\"value\":2},\"x\":{\"field\":\"x\"},\"y\":{\"field\":\"y\"}},\"id\":\"3a65fe63-cc10-4b22-97d0-6d6db30091e5\",\"type\":\"Line\"},{\"attributes\":{\"line_color\":{\"value\":\"red\"},\"line_dash\":[4,4],\"line_width\":{\"value\":2},\"x\":{\"field\":\"x\"},\"y\":{\"field\":\"y\"}},\"id\":\"72a111ae-8547-4e6d-ae03-0ab148cbd2a1\",\"type\":\"Line\"},{\"attributes\":{\"plot\":{\"id\":\"f8d0ef78-8fe7-49c2-8a93-afe1dcadb6b4\",\"subtype\":\"Figure\",\"type\":\"Plot\"}},\"id\":\"bc3e6bb3-c2a5-4ed1-ab5b-7b3c52c1cf03\",\"type\":\"ResetTool\"},{\"attributes\":{\"callback\":null,\"column_names\":[\"track\",\"y\",\"x\"],\"data\":{\"track\":[\"Ultralight Beam\",\"Father Stretch My Hands Pt. 1\",\"Pt. 2\",\"Famous\",\"Feedback\",\"Low Lights\",\"Highlights\",\"Freestyle 4\",\"I Love Kanye\",\"Waves\",\"FML\",\"Real Friends\",\"Wolves\",\"Frank's Track\",\"Siiiiiiiiilver Surffffeeeeer Intermission\",\"30 Hours\",\"No More Parties In LA\",\"Facts (Charlie Heat Version)\",\"Fade\",\"On Sight\",\"Black Skinhead\",\"I Am A God\",\"New Slaves\",\"Hold My Liquor\",\"I'm In It\",\"Blood On The Leaves\",\"Guilt Trip\",\"Send It Up\",\"Bound 2\",\"No Church In The Wild\",\"Lift Off\",\"Ni**as In Paris\",\"Otis\",\"Gotta Have It\",\"New Day\",\"That's My Bitch\",\"Welcome To The Jungle\",\"Who Gon Stop Me\",\"Murder To Excellence\",\"Made In America\",\"Why I Love You\",\"Dark Fantasy\",\"Gorgeous\",\"POWER\",\"All Of The Lights (Interlude)\",\"All Of The Lights\",\"Monster\",\"So Appalled\",\"Devil In A New Dress\",\"Runaway\",\"Hell Of A Life\",\"Blame Game\",\"Lost In The World\",\"Who Will Survive In America\",\"Say You Will\",\"Welcome To Heartbreak\",\"Heartless\",\"Amazing\",\"Love Lockdown\",\"Paranoid\",\"RoboCop\",\"Street Lights\",\"Bad News\",\"See You In My Nightmares\",\"Coldest Winter\",\"Pinocchio Story (Freestyle Live From Singapore)\",\"Good Morning\",\"Champion\",\"Stronger\",\"I Wonder\",\"Good Life\",\"Can't Tell Me Nothing\",\"Barry Bonds\",\"Drunk and Hot Girls\",\"Flashing Lights\",\"Everything I Am\",\"The Glory\",\"Homecoming\",\"Big Brother\",\"Wake Up Mr. West\",\"Heard 'Em Say\",\"Touch The Sky\",\"Gold Digger\",\"Skit #1 (Kanye West/Late Registration)\",\"Drive Slow\",\"My Way Home\",\"Crack Music\",\"Roses\",\"Bring Me Down\",\"Addiction\",\"Skit #2 (Kanye West/Late Registration)\",\"Diamonds From Sierra Leone - Remix - Album Version (Explicit)\",\"We Major\",\"Skit #3 (Kanye West/Late Registration)\",\"Hey Mama\",\"Celebration\",\"Skit #4 (Kanye West/Late Registration)\",\"Gone\",\"**Bonus Track** Diamonds From Sierra Leone\",\"Late\",\"Intro\",\"We Don't Care\",\"Graduation Day\",\"All Falls Down\",\"I'll Fly Away\",\"Spaceship\",\"Jesus Walks\",\"Never Let Me Down\",\"Get Em High\",\"Workout Plan\",\"The New Workout Plan\",\"Slow Jamz\",\"Breathe In Breathe Out\",\"School Spirit Skit 1\",\"School Spirit\",\"School Spirit Skit 2\",\"Lil Jimmy Skit\",\"Two Words\",\"Through The Wire\",\"Family Business\",\"Last Call\"],\"x\":[0,1,2,3,4,5,6,7,8,9,10,11,12,13,14,15,16,17,18,19,20,21,22,23,24,25,26,27,28,29,30,31,32,33,34,35,36,37,38,39,40,41,42,43,44,45,46,47,48,49,50,51,52,53,54,55,56,57,58,59,60,61,62,63,64,65,66,67,68,69,70,71,72,73,74,75,76,77,78,79,80,81,82,83,84,85,86,87,88,89,90,91,92,93,94,95,96,97,98,99,100,101,102,103,104,105,106,107,108,109,110,111,112,113,114,115,116,117,118,119,120],\"y\":[78.0,83.0,80.0,83.0,74.0,70.0,74.0,72.0,72.0,81.0,77.0,75.0,75.0,70.0,67.0,71.0,72.0,72.0,73.0,58.0,72.0,60.0,63.0,61.0,60.0,66.0,56.0,61.0,67.0,59.0,52.0,58.0,58.0,58.0,50.0,49.0,50.0,59.0,52.0,50.0,52.0,63.0,61.0,74.0,56.0,70.0,68.0,58.0,60.0,68.0,57.0,59.0,58.0,52.0,54.0,58.0,69.0,64.0,63.0,59.0,54.0,55.0,53.0,54.0,54.0,49.0,63.0,62.0,75.0,63.0,67.0,69.0,56.0,55.0,66.0,59.0,58.0,13.0,55.0,51.0,62.0,63.0,76.0,49.0,58.0,51.0,52.0,55.0,51.0,54.0,48.0,56.0,53.0,1.0,58.0,51.0,47.0,56.0,53.0,52.0,2.0,58.0,52.0,66.0,52.0,58.0,63.0,56.0,57.0,50.0,58.0,62.0,53.0,49.0,54.0,49.0,48.0,53.0,63.0,58.0,55.0]}},\"id\":\"6484446c-96a2-457f-9682-ea77f23dae01\",\"type\":\"ColumnDataSource\"},{\"attributes\":{},\"id\":\"e03c43df-aa08-48da-976c-656b7ff42087\",\"type\":\"BasicTicker\"},{\"attributes\":{\"data_source\":{\"id\":\"6b424f17-af1a-4f49-b2f6-7a6d50755848\",\"type\":\"ColumnDataSource\"},\"glyph\":{\"id\":\"0ff30544-62ef-4ae6-a6c3-1b5fac4039c2\",\"type\":\"Quad\"},\"hover_glyph\":null,\"nonselection_glyph\":{\"id\":\"51f8f747-d1a4-45de-bcfc-1e5a714b37e9\",\"type\":\"Quad\"},\"selection_glyph\":null},\"id\":\"ae334773-3ba4-4074-9a76-636e3a40eb12\",\"type\":\"GlyphRenderer\"},{\"attributes\":{\"line_alpha\":{\"value\":0.1},\"line_color\":{\"value\":\"#1f77b4\"},\"line_dash\":[4,4],\"line_width\":{\"value\":2},\"x\":{\"field\":\"x\"},\"y\":{\"field\":\"y\"}},\"id\":\"c35dc1fd-5841-4538-8ba2-69d064876154\",\"type\":\"Line\"},{\"attributes\":{\"callback\":null},\"id\":\"8fd20ca3-335f-4bf7-88a2-61bca079208e\",\"type\":\"DataRange1d\"},{\"attributes\":{\"plot\":{\"id\":\"fa223b75-3433-4548-8291-731dae75b280\",\"subtype\":\"Figure\",\"type\":\"Plot\"}},\"id\":\"ed760b7a-0264-4f3d-8cf4-b2b253618ff2\",\"type\":\"PanTool\"},{\"attributes\":{\"data_source\":{\"id\":\"855afb66-1603-44f3-a7b1-33083a4c7edc\",\"type\":\"ColumnDataSource\"},\"glyph\":{\"id\":\"88b0e5f7-7013-4d6d-a999-492e51937ca9\",\"type\":\"Line\"},\"hover_glyph\":null,\"nonselection_glyph\":{\"id\":\"ea8b4d5b-e85d-4d38-a08b-8d5bd6495fbf\",\"type\":\"Line\"},\"selection_glyph\":null},\"id\":\"b80c7365-5f79-4a13-a59d-1d9729250d46\",\"type\":\"GlyphRenderer\"},{\"attributes\":{\"data_source\":{\"id\":\"7b212631-2dd5-4184-8397-3c92160d63e1\",\"type\":\"ColumnDataSource\"},\"glyph\":{\"id\":\"96eedcff-b32d-472d-b4d2-6043756d080f\",\"type\":\"Line\"},\"hover_glyph\":null,\"nonselection_glyph\":{\"id\":\"f9862f6f-f2f0-4542-a8c1-4e93abe0abf8\",\"type\":\"Line\"},\"selection_glyph\":null},\"id\":\"b76db732-220d-49c6-a38f-dde76b54e2b3\",\"type\":\"GlyphRenderer\"},{\"attributes\":{\"axis_label\":\"Popularity with Kanye West\",\"formatter\":{\"id\":\"9223b1bf-4fde-4f59-93e9-df29ba99c7ee\",\"type\":\"BasicTickFormatter\"},\"plot\":{\"id\":\"a406ebf3-7fee-4dd4-9327-caaf80fc284a\",\"subtype\":\"Figure\",\"type\":\"Plot\"},\"ticker\":{\"id\":\"77c26f02-91b9-428d-8fe0-f473b52431c7\",\"type\":\"BasicTicker\"}},\"id\":\"643b24ca-e264-4555-a068-ee018c13cfbf\",\"type\":\"LinearAxis\"},{\"attributes\":{\"callback\":null,\"plot\":{\"id\":\"808beac1-0692-49c6-a2e3-ecf0db7e7de9\",\"subtype\":\"Figure\",\"type\":\"Plot\"},\"tooltips\":[[\"Track\",\"@track\"],[\"album\",\"@album\"]]},\"id\":\"bce8bc42-57c6-4c1f-9150-6875568a6b81\",\"type\":\"HoverTool\"},{\"attributes\":{},\"id\":\"c7498d18-a356-49fb-bc60-e66be276ea67\",\"type\":\"ToolEvents\"},{\"attributes\":{\"callback\":null,\"column_names\":[\"album\",\"y\",\"song\",\"per\",\"x\",\"line_color\",\"fill_color\"],\"data\":{\"album\":[\"Late Registration (Explicit Version)\",\"The College Dropout (Explicit)\",\"My Beautiful Dark Twisted Fantasy (Explicit Version)\",\"My Beautiful Dark Twisted Fantasy (Explicit Version)\",\"Graduation (Explicit Version)\",\"Graduation (Explicit Version)\",\"My Beautiful Dark Twisted Fantasy (Explicit Version)\",\"The College Dropout (Explicit)\",\"Late Registration (Explicit Version)\",\"Graduation (Explicit Version)\",\"Late Registration (Explicit Version)\",\"Graduation (Explicit Version)\",\"Late Registration (Explicit Version)\",\"My Beautiful Dark Twisted Fantasy (Explicit Version)\",\"My Beautiful Dark Twisted Fantasy (Explicit Version)\",\"Late Registration (Explicit Version)\",\"Graduation (Explicit Version)\",\"Graduation (Explicit Version)\",\"The College Dropout (Explicit)\",\"Graduation (Explicit Version)\",\"The College Dropout (Explicit)\",\"Late Registration (Explicit Version)\",\"Late Registration (Explicit Version)\",\"Graduation (Explicit Version)\",\"Graduation (Explicit Version)\",\"My Beautiful Dark Twisted Fantasy (Explicit Version)\",\"Watch The Throne (Explicit Version)\",\"The College Dropout (Explicit)\",\"Late Registration (Explicit Version)\",\"My Beautiful Dark Twisted Fantasy (Explicit Version)\",\"Late Registration (Explicit Version)\",\"Graduation (Explicit Version)\",\"Watch The Throne [Deluxe Edition (Explicit)]\",\"Graduation (Explicit Version)\",\"The College Dropout (Explicit)\",\"Watch The Throne [Deluxe Edition (Explicit)]\",\"The College Dropout (Explicit)\",\"The College Dropout (Explicit)\",\"The College Dropout (Explicit)\",\"Late Registration (Explicit Version)\",\"Watch The Throne (Explicit Version)\",\"The College Dropout (Explicit)\",\"My Beautiful Dark Twisted Fantasy (Explicit Version)\",\"Watch The Throne (Explicit Version)\",\"My Beautiful Dark Twisted Fantasy (Explicit Version)\",\"Watch The Throne (Explicit Version)\",\"Late Registration (Explicit Version)\",\"The College Dropout (Explicit)\",\"Watch The Throne (Explicit Version)\",\"Watch The Throne (Explicit Version)\",\"Watch The Throne (Explicit Version)\",\"Watch The Throne (Explicit Version)\",\"My Beautiful Dark Twisted Fantasy (Explicit Version)\",\"Watch The Throne [Deluxe Edition (Explicit)]\",\"Late Registration (Explicit Version)\",\"My Beautiful Dark Twisted Fantasy (Explicit Version)\",\"The College Dropout (Explicit)\",\"The College Dropout (Explicit)\",\"The College Dropout (Explicit)\",\"Late Registration (Explicit Version)\",\"Late Registration (Explicit Version)\",\"Late Registration (Explicit Version)\",\"Late Registration (Explicit Version)\",\"The College Dropout (Explicit)\",\"My Beautiful Dark Twisted Fantasy (Explicit Version)\",\"The College Dropout (Explicit)\",\"Graduation (Explicit Version)\",\"Watch The Throne (Explicit Version)\",\"Graduation (Explicit Version)\",\"Watch The Throne [Deluxe Edition (Explicit)]\",\"The College Dropout (Explicit)\",\"The College Dropout (Explicit)\",\"Late Registration (Explicit Version)\",\"The College Dropout (Explicit)\",\"Late Registration (Explicit Version)\",\"The College Dropout (Explicit)\",\"Late Registration (Explicit Version)\",\"Watch The Throne (Explicit Version)\",\"Watch The Throne (Explicit Version)\",\"My Beautiful Dark Twisted Fantasy (Explicit Version)\",\"Watch The Throne (Explicit Version)\",\"The College Dropout (Explicit)\"],\"fill_color\":[\"green\",\"purple\",\"blue\",\"blue\",\"red\",\"red\",\"blue\",\"purple\",\"green\",\"red\",\"green\",\"red\",\"green\",\"blue\",\"blue\",\"green\",\"red\",\"red\",\"purple\",\"red\",\"purple\",\"green\",\"green\",\"red\",\"red\",\"blue\",\"cyan\",\"purple\",\"green\",\"blue\",\"green\",\"red\",\"black\",\"red\",\"purple\",\"black\",\"purple\",\"purple\",\"purple\",\"green\",\"cyan\",\"purple\",\"blue\",\"cyan\",\"blue\",\"cyan\",\"green\",\"purple\",\"cyan\",\"cyan\",\"cyan\",\"cyan\",\"blue\",\"black\",\"green\",\"blue\",\"purple\",\"purple\",\"purple\",\"green\",\"green\",\"green\",\"green\",\"purple\",\"blue\",\"purple\",\"red\",\"cyan\",\"red\",\"black\",\"purple\",\"purple\",\"green\",\"purple\",\"green\",\"purple\",\"green\",\"cyan\",\"cyan\",\"blue\",\"cyan\",\"purple\"],\"line_color\":[\"green\",\"purple\",\"blue\",\"blue\",\"red\",\"red\",\"blue\",\"purple\",\"green\",\"red\",\"green\",\"red\",\"green\",\"blue\",\"blue\",\"green\",\"red\",\"red\",\"purple\",\"red\",\"purple\",\"green\",\"green\",\"red\",\"red\",\"blue\",\"cyan\",\"purple\",\"green\",\"blue\",\"green\",\"red\",\"black\",\"red\",\"purple\",\"black\",\"purple\",\"purple\",\"purple\",\"green\",\"cyan\",\"purple\",\"blue\",\"cyan\",\"blue\",\"cyan\",\"green\",\"purple\",\"cyan\",\"cyan\",\"cyan\",\"cyan\",\"blue\",\"black\",\"green\",\"blue\",\"purple\",\"purple\",\"purple\",\"green\",\"green\",\"green\",\"green\",\"purple\",\"blue\",\"purple\",\"red\",\"cyan\",\"red\",\"black\",\"purple\",\"purple\",\"green\",\"purple\",\"green\",\"purple\",\"green\",\"cyan\",\"cyan\",\"blue\",\"cyan\",\"purple\"],\"per\":[0.4444444444444444,0.4696969696969697,0.4,0.48214285714285715,0.5535714285714286,0.38181818181818183,0.5254237288135594,0.5849056603773585,0.45098039215686275,0.4057971014492754,0.47058823529411764,0.41935483870967744,0.4423076923076923,0.49206349206349204,0.5,0.43103448275862066,0.6,0.5423728813559322,0.5172413793103449,0.45454545454545453,0.5087719298245614,0.39473684210526316,0.42857142857142855,0.3880597014925373,0.49206349206349204,0.4918032786885246,0.5396825396825397,0.6346153846153846,0.3709677419354839,0.49122807017543857,0.41379310344827586,0.6153846153846154,0.45901639344262296,0.38095238095238093,0.6153846153846154,0.5510204081632653,1.0,0.47619047619047616,0.5818181818181818,0.4807692307692308,0.5660377358490566,0.6875,0.4827586206896552,0.58,0.47058823529411764,0.5660377358490566,0.45098039215686275,0.5535714285714286,0.5686274509803921,0.5714285714285714,0.5522388059701493,0.5409836065573771,0.4189189189189189,0.5306122448979592,0.45454545454545453,0.5,0.5370370370370371,0.6938775510204082,0.6938775510204082,0.42857142857142855,0.4583333333333333,1.0,0.48936170212765956,0.5161290322580645,0.5,0.5689655172413793,0.38666666666666666,0.5306122448979592,0.5344827586206896,0.5306122448979592,0.46551724137931033,0.5079365079365079,0.3492063492063492,0.6037735849056604,0.43137254901960786,0.5862068965517241,0.4339622641509434,0.52,0.5555555555555556,0.5,0.5740740740740741,0.64],\"song\":[\"Addiction\",\"All Falls Down\",\"All Of The Lights\",\"All Of The Lights (Interlude)\",\"Barry Bonds\",\"Big Brother\",\"Blame Game\",\"Breathe In Breathe Out\",\"Bring Me Down\",\"Can't Tell Me Nothing\",\"Celebration\",\"Champion\",\"Crack Music\",\"Dark Fantasy\",\"Devil In A New Dress\",\"Drive Slow\",\"Drunk and Hot Girls\",\"Everything I Am\",\"Family Business\",\"Flashing Lights\",\"Get Em High\",\"Gold Digger\",\"Gone\",\"Good Life\",\"Good Morning\",\"Gorgeous\",\"Gotta Have It\",\"Graduation Day\",\"Heard 'Em Say\",\"Hell Of A Life\",\"Hey Mama\",\"Homecoming\",\"H\\u2022A\\u2022M\",\"I Wonder\",\"I'll Fly Away\",\"Illest Motherf**ker Alive\",\"Intro\",\"Jesus Walks\",\"Last Call\",\"Late\",\"Lift Off\",\"Lil Jimmy Skit\",\"Lost In The World\",\"Made In America\",\"Monster\",\"Murder To Excellence\",\"My Way Home\",\"Never Let Me Down\",\"New Day\",\"Ni**as In Paris\",\"No Church In The Wild\",\"Otis\",\"POWER\",\"Primetime\",\"Roses\",\"Runaway\",\"School Spirit\",\"School Spirit Skit 1\",\"School Spirit Skit 2\",\"Skit #1 (Kanye West/Late Registration)\",\"Skit #2 (Kanye West/Late Registration)\",\"Skit #3 (Kanye West/Late Registration)\",\"Skit #4 (Kanye West/Late Registration)\",\"Slow Jamz\",\"So Appalled\",\"Spaceship\",\"Stronger\",\"That's My Bitch\",\"The Glory\",\"The Joy\",\"The New Workout Plan\",\"Through The Wire\",\"Touch The Sky\",\"Two Words\",\"Wake Up Mr. West\",\"We Don't Care\",\"We Major\",\"Welcome To The Jungle\",\"Who Gon Stop Me\",\"Who Will Survive In America\",\"Why I Love You\",\"Workout Plan\"],\"x\":[54,66,70,56,56,55,59,53,51,69,51,62,52,63,60,58,55,59,58,66,57,76,56,67,63,61,63,52,62,57,58,13,61,63,52,49,2,63,55,52,53,48,58,50,68,53,51,56,51,77,67,61,74,49,55,68,54,49,49,49,48,1,47,62,58,58,75,49,58,49,58,63,63,53,51,58,53,50,63,52,54,50],\"y\":[24,31,28,27,31,21,31,31,23,28,24,26,23,31,30,25,33,32,30,30,29,30,24,26,31,30,34,33,23,28,24,8,28,24,32,27,2,30,32,25,30,33,28,29,32,30,23,31,29,44,37,33,31,26,25,34,29,34,34,21,22,1,23,32,29,33,29,26,31,26,27,32,22,32,22,34,23,26,35,26,31,32]}},\"id\":\"b28f8839-0baf-4548-8392-414c46e6d669\",\"type\":\"ColumnDataSource\"},{\"attributes\":{},\"id\":\"ed58d681-643b-4b98-ac3a-edb1467211f9\",\"type\":\"BasicTicker\"},{\"attributes\":{\"bottom_units\":\"screen\",\"fill_alpha\":{\"value\":0.5},\"fill_color\":{\"value\":\"lightgrey\"},\"left_units\":\"screen\",\"level\":\"overlay\",\"line_alpha\":{\"value\":1.0},\"line_color\":{\"value\":\"black\"},\"line_dash\":[4,4],\"line_width\":{\"value\":2},\"plot\":null,\"render_mode\":\"css\",\"right_units\":\"screen\",\"top_units\":\"screen\"},\"id\":\"52c6777d-b399-4693-a99c-ba3c6a302cf6\",\"type\":\"BoxAnnotation\"},{\"attributes\":{\"line_alpha\":{\"value\":0.1},\"line_color\":{\"value\":\"#1f77b4\"},\"line_dash\":[4,4],\"line_width\":{\"value\":2},\"x\":{\"field\":\"x\"},\"y\":{\"field\":\"y\"}},\"id\":\"347667e0-f03a-4c38-b13d-b61a1867046f\",\"type\":\"Line\"},{\"attributes\":{\"below\":[{\"id\":\"7ffedc68-077e-4ae0-a164-fa6e967a55ca\",\"type\":\"LinearAxis\"}],\"left\":[{\"id\":\"e704fb80-5e8a-43a1-885b-bf3305fec287\",\"type\":\"LinearAxis\"}],\"plot_height\":500,\"renderers\":[{\"id\":\"7ffedc68-077e-4ae0-a164-fa6e967a55ca\",\"type\":\"LinearAxis\"},{\"id\":\"c4b9a856-2b34-4a2b-91f9-6d41cd0dfe14\",\"type\":\"Grid\"},{\"id\":\"e704fb80-5e8a-43a1-885b-bf3305fec287\",\"type\":\"LinearAxis\"},{\"id\":\"8b3301a4-6966-4657-b643-d00a416c57c7\",\"type\":\"Grid\"},{\"id\":\"7bb7d5ff-df63-4766-b8e0-dca83ddc9de1\",\"type\":\"BoxAnnotation\"},{\"id\":\"28f1295a-b65b-4e95-82df-e8d08da60892\",\"type\":\"GlyphRenderer\"},{\"id\":\"b6634ee4-7b28-4033-9696-10108a61d3d7\",\"type\":\"GlyphRenderer\"},{\"id\":\"46350f62-2e0c-4051-ac0f-becab8acd0f2\",\"type\":\"GlyphRenderer\"},{\"id\":\"00b5ee0d-fa48-44f5-a0fb-54df14b1f2a1\",\"type\":\"GlyphRenderer\"},{\"id\":\"42282dec-f3e3-4e78-9fce-0fd0a4c6dd11\",\"type\":\"GlyphRenderer\"}],\"tool_events\":{\"id\":\"ca04fd6a-9637-44c5-9507-4ec8299edb88\",\"type\":\"ToolEvents\"},\"tools\":[{\"id\":\"d427c91e-8f85-41dc-9c5a-561beac9c68a\",\"type\":\"BoxZoomTool\"},{\"id\":\"ec075d7e-6eec-4cc1-b7a7-c1dc7ae75349\",\"type\":\"ResetTool\"},{\"id\":\"c5131853-c0dc-45d9-879e-b5e556ed6366\",\"type\":\"HoverTool\"}],\"x_range\":{\"id\":\"e45542be-0933-4116-a5dd-5b18e8a994b1\",\"type\":\"DataRange1d\"},\"y_range\":{\"id\":\"3f72b500-874e-4933-a4eb-9959f6cc13ae\",\"type\":\"DataRange1d\"}},\"id\":\"077763eb-d52b-42ce-8454-df4a37e542ba\",\"subtype\":\"Figure\",\"type\":\"Plot\"},{\"attributes\":{\"callback\":null},\"id\":\"cbef0052-6ea7-41f5-b13e-0033a6c1d1b3\",\"type\":\"DataRange1d\"},{\"attributes\":{\"axis_label\":\"Popularity (Explicit Version)\",\"formatter\":{\"id\":\"e6d24066-f06d-4c4d-b89a-4ad8c047df5a\",\"type\":\"BasicTickFormatter\"},\"plot\":{\"id\":\"4a4d436d-255f-4335-8d9c-e1391d214d68\",\"subtype\":\"Figure\",\"type\":\"Plot\"},\"ticker\":{\"id\":\"a74d0610-e3fb-48cc-b041-f81b5e2f8303\",\"type\":\"BasicTicker\"}},\"id\":\"08000b92-a355-485b-b4ce-8d2bb6797f15\",\"type\":\"LinearAxis\"},{\"attributes\":{\"fill_alpha\":{\"value\":0.1},\"fill_color\":{\"value\":\"#1f77b4\"},\"line_alpha\":{\"value\":0.1},\"line_color\":{\"value\":\"#1f77b4\"},\"size\":{\"units\":\"screen\",\"value\":7},\"x\":{\"field\":\"x\"},\"y\":{\"field\":\"y\"}},\"id\":\"d5808149-3157-4876-9842-e08a941ff339\",\"type\":\"Circle\"},{\"attributes\":{\"line_color\":{\"value\":\"red\"},\"line_width\":{\"value\":2},\"x\":{\"field\":\"x\"},\"y\":{\"field\":\"y\"}},\"id\":\"1ddfed9d-ad8e-4c0c-9277-0ba84ba0fa62\",\"type\":\"Line\"},{\"attributes\":{},\"id\":\"215f32d7-14a9-4260-af2f-0f6f0fe76959\",\"type\":\"BasicTicker\"},{\"attributes\":{},\"id\":\"fed0dc9c-9b76-45d0-86e8-94e984ac2048\",\"type\":\"BasicTickFormatter\"},{\"attributes\":{},\"id\":\"59ba8e4d-2b9c-45ff-a01c-72c4b55648dd\",\"type\":\"BasicTickFormatter\"},{\"attributes\":{\"callback\":null,\"column_names\":[\"y\",\"x\"],\"data\":{\"x\":[-1,130],\"y\":[53.68353042251273,53.68353042251273]}},\"id\":\"65f6a207-69e7-4b06-8045-5437bb739125\",\"type\":\"ColumnDataSource\"},{\"attributes\":{\"fill_alpha\":{\"value\":0.1},\"fill_color\":{\"value\":\"#1f77b4\"},\"line_alpha\":{\"value\":0.1},\"line_color\":{\"value\":\"#1f77b4\"},\"size\":{\"units\":\"screen\",\"value\":7},\"x\":{\"field\":\"x\"},\"y\":{\"field\":\"y\"}},\"id\":\"d7b4d0cd-a5e5-4d40-a156-3f358ccef001\",\"type\":\"Circle\"},{\"attributes\":{\"below\":[{\"id\":\"608c493b-8b3f-4215-8adf-09403b8dd764\",\"type\":\"LinearAxis\"}],\"left\":[{\"id\":\"401fc5e1-1c2e-48b1-ae5f-dba3ac882189\",\"type\":\"LinearAxis\"}],\"plot_height\":500,\"renderers\":[{\"id\":\"608c493b-8b3f-4215-8adf-09403b8dd764\",\"type\":\"LinearAxis\"},{\"id\":\"3218c748-b433-465c-9fdf-9066b43d7820\",\"type\":\"Grid\"},{\"id\":\"401fc5e1-1c2e-48b1-ae5f-dba3ac882189\",\"type\":\"LinearAxis\"},{\"id\":\"6caf3b03-ab53-4ffb-8448-80436c15688f\",\"type\":\"Grid\"},{\"id\":\"a52e9846-dd2e-4ffa-a189-53e634117791\",\"type\":\"BoxAnnotation\"},{\"id\":\"2e90bc7d-ebac-4e24-a35c-1a22c6359e69\",\"type\":\"GlyphRenderer\"},{\"id\":\"1000497f-7c4d-40b0-96be-4892d5f9177d\",\"type\":\"GlyphRenderer\"},{\"id\":\"ab716833-d3c8-4abd-9b26-1f73a8ea66dc\",\"type\":\"GlyphRenderer\"},{\"id\":\"d7d65529-dd0e-420d-8584-9a05629a245d\",\"type\":\"GlyphRenderer\"},{\"id\":\"82ff201a-39c1-4849-838c-52fb94b8f112\",\"type\":\"GlyphRenderer\"}],\"tool_events\":{\"id\":\"b63f156d-09af-459a-adfe-ba877dcf6a9c\",\"type\":\"ToolEvents\"},\"tools\":[{\"id\":\"89e9a8a9-d25b-4d8b-908c-b3822aa6a424\",\"type\":\"BoxZoomTool\"},{\"id\":\"210d0e6f-649a-4063-93dc-527fde93318e\",\"type\":\"ResetTool\"},{\"id\":\"6bc4e98f-0927-4547-bf69-83bfe306fb39\",\"type\":\"HoverTool\"}],\"x_range\":{\"id\":\"c8b38752-1d8f-46e0-8a6d-2d9a49b5303f\",\"type\":\"DataRange1d\"},\"y_range\":{\"id\":\"7e19e687-99d1-402e-a464-2e1feb05306b\",\"type\":\"DataRange1d\"}},\"id\":\"db14c567-64ba-4e05-b6f1-bb87ce6bf4f1\",\"subtype\":\"Figure\",\"type\":\"Plot\"},{\"attributes\":{\"callback\":null,\"column_names\":[\"y\",\"x\"],\"data\":{\"x\":[-1,10],\"y\":[46.92413612911386,46.92413612911386]}},\"id\":\"f569d951-bc7a-4228-adfd-0c1550679aea\",\"type\":\"ColumnDataSource\"},{\"attributes\":{\"line_dash\":[4,4],\"line_width\":{\"value\":2},\"x\":{\"field\":\"x\"},\"y\":{\"field\":\"y\"}},\"id\":\"7df36fb0-22d4-4047-aab3-782338dd2987\",\"type\":\"Line\"},{\"attributes\":{\"callback\":null,\"column_names\":[\"y\",\"x\"],\"data\":{\"x\":[2003,2017],\"y\":[72.19732878895942,72.19732878895942]}},\"id\":\"5ad01f00-7eb5-4cfb-973d-039da7551c99\",\"type\":\"ColumnDataSource\"},{\"attributes\":{},\"id\":\"abb1c2b2-5c6f-45bf-8789-ad18a8208ec9\",\"type\":\"BasicTicker\"},{\"attributes\":{\"line_color\":{\"value\":\"red\"},\"line_dash\":[4,4],\"line_width\":{\"value\":2},\"x\":{\"field\":\"x\"},\"y\":{\"field\":\"y\"}},\"id\":\"80542d5e-7029-41a0-add7-5bc41b63fd1b\",\"type\":\"Line\"},{\"attributes\":{\"data_source\":{\"id\":\"efe73b61-8178-4c97-bc65-2ac3162c48c1\",\"type\":\"ColumnDataSource\"},\"glyph\":{\"id\":\"a5922b96-1715-4b87-81e8-abaaee9f4314\",\"type\":\"Line\"},\"hover_glyph\":null,\"nonselection_glyph\":{\"id\":\"a5df5d80-5dbd-4956-bd41-f22faeac4305\",\"type\":\"Line\"},\"selection_glyph\":null},\"id\":\"4c12851d-1a85-4b41-96f2-d631ff0c5a5d\",\"type\":\"GlyphRenderer\"},{\"attributes\":{\"callback\":null},\"id\":\"acccc05c-ef29-4d41-96a8-1808839180be\",\"type\":\"DataRange1d\"},{\"attributes\":{\"line_alpha\":{\"value\":0.1},\"line_color\":{\"value\":\"#1f77b4\"},\"line_dash\":[4,4],\"line_width\":{\"value\":2},\"x\":{\"field\":\"x\"},\"y\":{\"field\":\"y\"}},\"id\":\"ceb525ca-6e02-4ad7-b5a4-7735a3d313da\",\"type\":\"Line\"},{\"attributes\":{\"fill_color\":{\"value\":\"black\"},\"size\":{\"units\":\"screen\",\"value\":10},\"x\":{\"field\":\"x\"},\"y\":{\"field\":\"y\"}},\"id\":\"51929a80-dfc2-4f4a-8473-f0164f1db662\",\"type\":\"Circle\"},{\"attributes\":{\"line_alpha\":{\"value\":0.1},\"line_color\":{\"value\":\"#1f77b4\"},\"line_dash\":[2,2],\"line_width\":{\"value\":2},\"x\":{\"field\":\"x\"},\"y\":{\"field\":\"y\"}},\"id\":\"9a7b4c20-0561-411a-940f-fdb6c80fd907\",\"type\":\"Line\"},{\"attributes\":{\"data_source\":{\"id\":\"854f450e-1e12-41cf-a564-4d4ff3be56ef\",\"type\":\"ColumnDataSource\"},\"glyph\":{\"id\":\"4db873d1-26e7-4c46-bfbb-89fd895bc592\",\"type\":\"Line\"},\"hover_glyph\":null,\"nonselection_glyph\":{\"id\":\"f1c8b0e6-5aaa-4524-bc70-04c128af0bed\",\"type\":\"Line\"},\"selection_glyph\":null},\"id\":\"c4e18533-65d7-4931-822d-120d16d0e6d1\",\"type\":\"GlyphRenderer\"},{\"attributes\":{},\"id\":\"a6fc2080-5713-43a3-9ba5-547c26ba51f1\",\"type\":\"BasicTickFormatter\"},{\"attributes\":{\"data_source\":{\"id\":\"2eb9ddff-84bb-48ff-9ba9-fa51f3b39470\",\"type\":\"ColumnDataSource\"},\"glyph\":{\"id\":\"51929a80-dfc2-4f4a-8473-f0164f1db662\",\"type\":\"Circle\"},\"hover_glyph\":null,\"nonselection_glyph\":{\"id\":\"8e308e92-1932-4b54-bcec-569272ac986a\",\"type\":\"Circle\"},\"selection_glyph\":null},\"id\":\"877e15b7-2950-428a-b759-08658d277d2c\",\"type\":\"GlyphRenderer\"},{\"attributes\":{\"line_color\":{\"value\":\"red\"},\"line_width\":{\"value\":2},\"x\":{\"field\":\"x\"},\"y\":{\"field\":\"y\"}},\"id\":\"aafb55b8-3c6a-4cb6-bf63-8dbd1ccfe5ec\",\"type\":\"Line\"},{\"attributes\":{\"callback\":null,\"plot\":{\"id\":\"db14c567-64ba-4e05-b6f1-bb87ce6bf4f1\",\"subtype\":\"Figure\",\"type\":\"Plot\"},\"tooltips\":[[\"album\",\"@album\"]]},\"id\":\"6bc4e98f-0927-4547-bf69-83bfe306fb39\",\"type\":\"HoverTool\"},{\"attributes\":{\"bottom_units\":\"screen\",\"fill_alpha\":{\"value\":0.5},\"fill_color\":{\"value\":\"lightgrey\"},\"left_units\":\"screen\",\"level\":\"overlay\",\"line_alpha\":{\"value\":1.0},\"line_color\":{\"value\":\"black\"},\"line_dash\":[4,4],\"line_width\":{\"value\":2},\"plot\":null,\"render_mode\":\"css\",\"right_units\":\"screen\",\"top_units\":\"screen\"},\"id\":\"362be3d4-21ee-4a42-b26e-1dfab095e298\",\"type\":\"BoxAnnotation\"},{\"attributes\":{\"fill_alpha\":{\"value\":0.1},\"fill_color\":{\"value\":\"#1f77b4\"},\"line_alpha\":{\"value\":0.1},\"line_color\":{\"value\":\"#1f77b4\"},\"size\":{\"units\":\"screen\",\"value\":7},\"x\":{\"field\":\"x\"},\"y\":{\"field\":\"y\"}},\"id\":\"26d8fb34-4f1d-4e16-9129-de9d495d7698\",\"type\":\"Circle\"},{\"attributes\":{\"axis_label\":\"Popularity\",\"formatter\":{\"id\":\"695a62d7-9ba4-4df6-80da-a4f2beff600d\",\"type\":\"BasicTickFormatter\"},\"plot\":{\"id\":\"808beac1-0692-49c6-a2e3-ecf0db7e7de9\",\"subtype\":\"Figure\",\"type\":\"Plot\"},\"ticker\":{\"id\":\"22769a39-31d8-4dce-b252-80c5c4ac7817\",\"type\":\"BasicTicker\"}},\"id\":\"82a7a969-3134-4e82-8861-5513f58d3268\",\"type\":\"LinearAxis\"},{\"attributes\":{\"callback\":null,\"column_names\":[\"y\",\"x\",\"collab_num\",\"artist\"],\"data\":{\"artist\":[\"JAY Z\",\"Frank Ocean\",\"The-Dream\",\"Beyonce\",\"Mr Hudson\",\"Kid Cudi\",\"Raekwon\",\"Rick Ross\",\"Nicki Minaj\",\"Pusha T\",\"Prynce Cy Hi\",\"Swizz Beatz\",\"John Legend\",\"Jeezy\",\"Lil Wayne\",\"T-Pain\",\"Mos Def\",\"DJ Premier\",\"Lupe Fiasco\",\"Jamie Foxx\",\"Paul Wall\",\"GLC\",\"Common\",\"The Game\",\"Brandy\",\"Nas\",\"Really Doe\",\"Consequence\",\"Cam'Ron\",\"J. Ivy\",\"Talib Kweli\",\"Twista\",\"Ludacris\",\"Freeway\"],\"collab_num\":[\"56.0\",\"0.0\",\"2.0\",\"4.0\",\"2.0\",\"6.0\",\"0.0\",\"8.0\",\"5.0\",\"4.0\",\"nan\",\"0.0\",\"2.0\",\"2.0\",\"0.0\",\"4.0\",\"0.0\",\"nan\",\"0.0\",\"4.0\",\"0.0\",\"2.0\",\"6.0\",\"3.0\",\"3.0\",\"4.0\",\"nan\",\"4.0\",\"2.0\",\"nan\",\"2.0\",\"2.0\",\"0.0\",\"0.0\"],\"x\":[32.01754385964912,59.357142857142854,22.310077519379846,52.36923076923077,17.22222222222222,39.7265625,15.037735849056604,28.440677966101696,35.91463414634146,32.206896551724135,\"NaN\",15.85,44.015151515151516,23.11244979919679,31.128,19.09090909090909,32.5,\"NaN\",28.619402985074625,25.40963855421687,13.08148148148148,1.5833333333333333,24.664429530201343,22.8515625,25.075342465753426,24.407960199004975,\"NaN\",9.690909090909091,16.333333333333332,\"NaN\",18.36190476190476,17.55151515151515,25.0,5.862903225806452],\"y\":[41.625,\"NaN\",34.0,51.5,31.0,44.5,\"NaN\",32.875,30.8,36.75,\"NaN\",\"NaN\",27.0,52.5,\"NaN\",19.75,\"NaN\",\"NaN\",\"NaN\",26.5,\"NaN\",23.5,30.166666666666668,37.666666666666664,29.0,27.75,\"NaN\",34.0,37.5,\"NaN\",23.0,50.5,\"NaN\",\"NaN\"]}},\"id\":\"fe4b7e06-aa55-4039-a744-d67068ac7370\",\"type\":\"ColumnDataSource\"},{\"attributes\":{},\"id\":\"e039c03e-7499-4f8c-bb0a-ab32ed94c3d2\",\"type\":\"BasicTickFormatter\"},{\"attributes\":{\"plot\":{\"id\":\"808beac1-0692-49c6-a2e3-ecf0db7e7de9\",\"subtype\":\"Figure\",\"type\":\"Plot\"}},\"id\":\"fca8ec99-62f5-4514-8ea3-bc190dae4d97\",\"type\":\"ResetTool\"},{\"attributes\":{\"data_source\":{\"id\":\"f674587b-77a4-4c18-a60f-9046bd7d75e5\",\"type\":\"ColumnDataSource\"},\"glyph\":{\"id\":\"2e2a03a0-6ffb-4ce9-8d14-6817c70c2ddf\",\"type\":\"Circle\"},\"hover_glyph\":null,\"nonselection_glyph\":{\"id\":\"d7b4d0cd-a5e5-4d40-a156-3f358ccef001\",\"type\":\"Circle\"},\"selection_glyph\":null},\"id\":\"2c884cbf-7b9b-4a91-9937-8121990e1f83\",\"type\":\"GlyphRenderer\"},{\"attributes\":{\"line_alpha\":{\"value\":0.1},\"line_color\":{\"value\":\"#1f77b4\"},\"line_dash\":[4,4],\"line_width\":{\"value\":2},\"x\":{\"field\":\"x\"},\"y\":{\"field\":\"y\"}},\"id\":\"f9862f6f-f2f0-4542-a8c1-4e93abe0abf8\",\"type\":\"Line\"},{\"attributes\":{},\"id\":\"6ad42883-bb36-418b-b15f-d3ee2cb30453\",\"type\":\"BasicTicker\"},{\"attributes\":{\"callback\":null,\"column_names\":[\"album\",\"track\",\"y\",\"x\",\"line_color\",\"fill_color\"],\"data\":{\"album\":[\"Magna Carta... Holy Grail (Explicit Version)\",\"Magna Carta... Holy Grail (Explicit Version)\",\"Magna Carta... Holy Grail (Explicit Version)\",\"Magna Carta... Holy Grail (Explicit Version)\",\"Magna Carta... Holy Grail (Explicit Version)\",\"Magna Carta... Holy Grail (Explicit Version)\",\"Magna Carta... Holy Grail (Explicit Version)\",\"Magna Carta... Holy Grail (Explicit Version)\",\"Magna Carta... Holy Grail (Explicit Version)\",\"Magna Carta... Holy Grail (Explicit Version)\",\"Magna Carta... Holy Grail (Explicit Version)\",\"Magna Carta... Holy Grail (Explicit Version)\",\"Magna Carta... Holy Grail (Explicit Version)\",\"Magna Carta... Holy Grail (Explicit Version)\",\"Magna Carta... Holy Grail (Explicit Version)\",\"Magna Carta... Holy Grail (Explicit Version)\",\"Watch The Throne (Explicit Version)\",\"Watch The Throne (Explicit Version)\",\"Watch The Throne (Explicit Version)\",\"Watch The Throne (Explicit Version)\",\"Watch The Throne (Explicit Version)\",\"Watch The Throne (Explicit Version)\",\"Watch The Throne (Explicit Version)\",\"Watch The Throne (Explicit Version)\",\"Watch The Throne (Explicit Version)\",\"Watch The Throne (Explicit Version)\",\"Watch The Throne (Explicit Version)\",\"Watch The Throne (Explicit Version)\",\"American Gangster (Explicit Version)\",\"American Gangster (Explicit Version)\",\"American Gangster (Explicit Version)\",\"American Gangster (Explicit Version)\",\"American Gangster (Explicit Version)\",\"American Gangster (Explicit Version)\",\"American Gangster (Explicit Version)\",\"American Gangster (Explicit Version)\",\"American Gangster (Explicit Version)\",\"American Gangster (Explicit Version)\",\"American Gangster (Explicit Version)\",\"American Gangster (Explicit Version)\",\"American Gangster (Explicit Version)\",\"American Gangster (Explicit Version)\",\"American Gangster (Explicit Version)\",\"Kingdom Come\",\"Kingdom Come\",\"Kingdom Come\",\"Kingdom Come\",\"Kingdom Come\",\"Kingdom Come\",\"Kingdom Come\",\"Kingdom Come\",\"Kingdom Come\",\"Kingdom Come\",\"Kingdom Come\",\"Kingdom Come\",\"Kingdom Come\",\"Kingdom Come\",\"Kingdom Come\",\"Kingdom Come\",\"Kingdom Come\",\"Kingdom Come\",\"Kingdom Come\",\"Kingdom Come\",\"Kingdom Come\",\"Kingdom Come\",\"Kingdom Come\",\"Kingdom Come\",\"Kingdom Come\",\"Kingdom Come\",\"Kingdom Come\",\"Kingdom Come\",\"Collision Course\",\"Collision Course\",\"Collision Course\",\"Collision Course\",\"Collision Course\",\"Collision Course\",\"Unfinished Business (Explicit)\",\"Unfinished Business (Explicit)\",\"Unfinished Business (Explicit)\",\"Unfinished Business (Explicit)\",\"Unfinished Business (Explicit)\",\"Unfinished Business (Explicit)\",\"Unfinished Business (Explicit)\",\"Unfinished Business (Explicit)\",\"Unfinished Business (Explicit)\",\"Unfinished Business (Explicit)\",\"Unfinished Business (Explicit)\",\"The Black Album (Explicit)\",\"The Black Album (Explicit)\",\"The Black Album (Explicit)\",\"The Black Album (Explicit)\",\"The Black Album (Explicit)\",\"The Black Album (Explicit)\",\"The Black Album (Explicit)\",\"The Black Album (Explicit)\",\"The Black Album (Explicit)\",\"The Black Album (Explicit)\",\"The Black Album (Explicit)\",\"The Black Album (Explicit)\",\"The Black Album (Explicit)\",\"The Black Album (Explicit)\",\"The Best Of Both Worlds (Explicit Version)\",\"The Best Of Both Worlds (Explicit Version)\",\"The Best Of Both Worlds (Explicit Version)\",\"The Best Of Both Worlds (Explicit Version)\",\"The Best Of Both Worlds (Explicit Version)\",\"The Best Of Both Worlds (Explicit Version)\",\"The Best Of Both Worlds (Explicit Version)\",\"The Best Of Both Worlds (Explicit Version)\",\"The Best Of Both Worlds (Explicit Version)\",\"The Best Of Both Worlds (Explicit Version)\",\"The Best Of Both Worlds (Explicit Version)\",\"The Best Of Both Worlds (Explicit Version)\",\"The Best Of Both Worlds (Explicit Version)\"],\"fill_color\":[\"blue\",\"blue\",\"blue\",\"blue\",\"blue\",\"blue\",\"blue\",\"blue\",\"blue\",\"blue\",\"blue\",\"blue\",\"blue\",\"blue\",\"blue\",\"blue\",\"orange\",\"orange\",\"orange\",\"orange\",\"orange\",\"orange\",\"orange\",\"orange\",\"orange\",\"orange\",\"orange\",\"orange\",\"red\",\"red\",\"red\",\"red\",\"red\",\"red\",\"red\",\"red\",\"red\",\"red\",\"red\",\"red\",\"red\",\"red\",\"red\",\"green\",\"green\",\"green\",\"green\",\"green\",\"green\",\"green\",\"green\",\"green\",\"green\",\"green\",\"green\",\"green\",\"green\",\"green\",\"green\",\"green\",\"green\",\"green\",\"green\",\"green\",\"green\",\"green\",\"green\",\"green\",\"green\",\"green\",\"green\",\"pink\",\"pink\",\"pink\",\"pink\",\"pink\",\"pink\",\"black\",\"black\",\"black\",\"black\",\"black\",\"black\",\"black\",\"black\",\"black\",\"black\",\"black\",\"cyan\",\"cyan\",\"cyan\",\"cyan\",\"cyan\",\"cyan\",\"cyan\",\"cyan\",\"cyan\",\"cyan\",\"cyan\",\"cyan\",\"cyan\",\"cyan\",\"purple\",\"purple\",\"purple\",\"purple\",\"purple\",\"purple\",\"purple\",\"purple\",\"purple\",\"purple\",\"purple\",\"purple\",\"purple\"],\"line_color\":[\"blue\",\"blue\",\"blue\",\"blue\",\"blue\",\"blue\",\"blue\",\"blue\",\"blue\",\"blue\",\"blue\",\"blue\",\"blue\",\"blue\",\"blue\",\"blue\",\"orange\",\"orange\",\"orange\",\"orange\",\"orange\",\"orange\",\"orange\",\"orange\",\"orange\",\"orange\",\"orange\",\"orange\",\"red\",\"red\",\"red\",\"red\",\"red\",\"red\",\"red\",\"red\",\"red\",\"red\",\"red\",\"red\",\"red\",\"red\",\"red\",\"green\",\"green\",\"green\",\"green\",\"green\",\"green\",\"green\",\"green\",\"green\",\"green\",\"green\",\"green\",\"green\",\"green\",\"green\",\"green\",\"green\",\"green\",\"green\",\"green\",\"green\",\"green\",\"green\",\"green\",\"green\",\"green\",\"green\",\"green\",\"pink\",\"pink\",\"pink\",\"pink\",\"pink\",\"pink\",\"black\",\"black\",\"black\",\"black\",\"black\",\"black\",\"black\",\"black\",\"black\",\"black\",\"black\",\"cyan\",\"cyan\",\"cyan\",\"cyan\",\"cyan\",\"cyan\",\"cyan\",\"cyan\",\"cyan\",\"cyan\",\"cyan\",\"cyan\",\"cyan\",\"cyan\",\"purple\",\"purple\",\"purple\",\"purple\",\"purple\",\"purple\",\"purple\",\"purple\",\"purple\",\"purple\",\"purple\",\"purple\",\"purple\"],\"track\":[\"Holy Grail\",\"Picasso Baby\",\"Tom Ford\",\"F*ckwithmeyouknowigotit\",\"Oceans\",\"F.U.T.W.\",\"Somewhereinamerica\",\"Crown\",\"Heaven\",\"Versus\",\"Part II (On The Run)\",\"Beach Is Better\",\"BBC\",\"JAY Z Blue\",\"La Familia\",\"Nickels And Dimes\",\"No Church In The Wild\",\"Lift Off\",\"Ni**as In Paris\",\"Otis\",\"Gotta Have It\",\"New Day\",\"That's My Bitch\",\"Welcome To The Jungle\",\"Who Gon Stop Me\",\"Murder To Excellence\",\"Made In America\",\"Why I Love You\",\"Intro\",\"Pray\",\"American Dreamin'\",\"Hello Brooklyn 2.0\",\"No Hook\",\"Roc Boys (And The Winner Is)...\",\"Sweet\",\"I Know\",\"Party Life\",\"Ignorant Sh*t\",\"Say Hello\",\"Success\",\"Fallin'\",\"Blue Magic\",\"American Gangster\",\"The Prelude\",\"Oh My God\",\"Kingdom Come\",\"Show Me What You Got\",\"Lost One\",\"Do U Wanna Ride\",\"30 Something\",\"I Made It\",\"Anything\",\"Hollywood\",\"Trouble\",\"Dig A Hole\",\"Minority Report\",\"Beach Chair\",\"The Prelude - Album Version (Edited)\",\"Oh My God - Album Version (Edited)\",\"Kingdom Come - Album Version (Edited)\",\"Show Me What You Got\",\"Lost One - Album Version (Edited)\",\"Do U Wanna Ride - Album Version (Edited)\",\"30 Something - Album Version (Edited)\",\"I Made It - Album Version (Edited)\",\"Anything - Album Version (Edited)\",\"Hollywood - Album Version (Edited)\",\"Trouble - Album Version (Edited)\",\"Dig A Hole - Album Version (Edited)\",\"Minority Report - Album Version (Edited)\",\"Beach Chair - Album Version (Edited)\",\"Dirt Off Your Shoulder/Lying From You\",\"Big Pimpin'/Papercut\",\"Jigga What/Faint\",\"Numb/Encore\",\"Izzo/In The End\",\"Points Of Authority/99 Problems/One Step Closer\",\"The Return\",\"Big Chips\",\"We Got Em Goin'\",\"She's Coming Home With Me\",\"Feelin' You In Stereo\",\"Stop\",\"Mo' Money\",\"Pretty Girls\",\"Break Up (That's All We Do)\",\"Don't Let Me Die\",\"The Return (Remix)\",\"Interlude\",\"December 4th\",\"What More Can I Say\",\"Encore\",\"Change Clothes\",\"Dirt Off Your Shoulder\",\"Threat\",\"Moment Of Clarity\",\"99 Problems\",\"Interlude\",\"Justify My Thug\",\"Lucifer\",\"Allure\",\"My 1st Song\",\"The Best Of Both Worlds\",\"Take You Home With Me A.K.A. Body\",\"Break Up To Make Up\",\"It Ain't Personal\",\"The Streets\",\"Green Light\",\"Naked\",\"Shake Ya Body\",\"Somebody's Girl\",\"Get This Money\",\"Shorty\",\"Honey\",\"P***y\"],\"x\":[0,1,2,3,4,5,6,7,8,9,10,11,12,13,14,15,16,17,18,19,20,21,22,23,24,25,26,27,28,29,30,31,32,33,34,35,36,37,38,39,40,41,42,43,44,45,46,47,48,49,50,51,52,53,54,55,56,57,58,59,60,61,62,63,64,65,66,67,68,69,70,71,72,73,74,75,76,77,78,79,80,81,82,83,84,85,86,87,88,89,90,91,92,93,94,95,96,97,98,99,100,101,102,103,104,105,106,107,108,109,110,111,112,113,114],\"y\":[72.0,52.0,66.0,64.0,54.0,51.0,53.0,52.0,50.0,46.0,58.0,51.0,49.0,47.0,48.0,47.0,59.0,52.0,58.0,58.0,58.0,50.0,49.0,50.0,59.0,52.0,50.0,52.0,35.0,40.0,41.0,41.0,40.0,49.0,38.0,43.0,40.0,42.0,42.0,41.0,40.0,41.0,38.0,39.0,41.0,42.0,44.0,50.0,40.0,44.0,38.0,38.0,38.0,39.0,33.0,36.0,40.0,9.0,13.0,15.0,24.0,24.0,10.0,18.0,8.0,16.0,15.0,9.0,4.0,8.0,14.0,35.0,32.0,31.0,42.0,32.0,34.0,0.0,29.0,24.0,26.0,28.0,24.0,27.0,25.0,24.0,25.0,23.0,40.0,47.0,49.0,50.0,49.0,63.0,45.0,55.0,65.0,48.0,45.0,55.0,46.0,49.0,38.0,39.0,32.0,32.0,32.0,29.0,32.0,30.0,44.0,32.0,31.0,32.0,30.0]}},\"id\":\"7de05399-76ba-4d50-ae63-09b72816b785\",\"type\":\"ColumnDataSource\"},{\"attributes\":{\"below\":[{\"id\":\"2c727821-1cbf-46d0-bc67-c55568f842be\",\"type\":\"LinearAxis\"}],\"left\":[{\"id\":\"4b864a1d-f411-42e7-a603-90f1503f0919\",\"type\":\"LinearAxis\"}],\"plot_height\":500,\"renderers\":[{\"id\":\"2c727821-1cbf-46d0-bc67-c55568f842be\",\"type\":\"LinearAxis\"},{\"id\":\"d72ba304-eb1e-44ef-b417-6953ce90498c\",\"type\":\"Grid\"},{\"id\":\"4b864a1d-f411-42e7-a603-90f1503f0919\",\"type\":\"LinearAxis\"},{\"id\":\"7970d336-8e1e-4026-8d44-ca4ed3d2df4d\",\"type\":\"Grid\"},{\"id\":\"b7a73df1-8d59-4d28-9711-c8f831becb80\",\"type\":\"BoxAnnotation\"},{\"id\":\"118cdbf6-a972-4378-b9da-7795d2b164f4\",\"type\":\"GlyphRenderer\"},{\"id\":\"5cdd6d05-c7ff-4809-91a1-f5dfd59185ad\",\"type\":\"GlyphRenderer\"},{\"id\":\"8a43b5d0-cd3e-44e2-b430-0a00a797b2b1\",\"type\":\"GlyphRenderer\"},{\"id\":\"1eb1145d-3d81-429f-b73a-004de79c272b\",\"type\":\"GlyphRenderer\"},{\"id\":\"96a4a9c3-9f7d-4032-91b3-5017221cec72\",\"type\":\"GlyphRenderer\"},{\"id\":\"9b9e63e9-a24c-4cc2-adea-ba6573782a6f\",\"type\":\"GlyphRenderer\"}],\"tool_events\":{\"id\":\"f694e5a7-67ea-405b-86c8-b19bc69a9215\",\"type\":\"ToolEvents\"},\"tools\":[{\"id\":\"3a543fb9-9100-410c-870b-e49fc6e36e58\",\"type\":\"BoxZoomTool\"},{\"id\":\"6017f01e-4244-4915-b92b-279d2d638a5b\",\"type\":\"ResetTool\"},{\"id\":\"ec261d8c-089b-4f87-b059-6d048b658bd6\",\"type\":\"HoverTool\"}],\"x_range\":{\"id\":\"bedfb053-73d1-4664-a81e-5d8863b9758d\",\"type\":\"DataRange1d\"},\"y_range\":{\"id\":\"acccc05c-ef29-4d41-96a8-1808839180be\",\"type\":\"DataRange1d\"}},\"id\":\"c7e8162f-cc19-4796-bd8e-4bc85c8da834\",\"subtype\":\"Figure\",\"type\":\"Plot\"},{\"attributes\":{},\"id\":\"38ddf5b2-aa36-4af7-bfb5-e30a66ad48a7\",\"type\":\"BasicTickFormatter\"},{\"attributes\":{\"dimension\":1,\"plot\":{\"id\":\"d88ffe13-3f11-4938-b3bf-6ca710b53c87\",\"subtype\":\"Figure\",\"type\":\"Plot\"},\"ticker\":{\"id\":\"a417c17e-df43-4040-a7fb-61cfb91eaf7e\",\"type\":\"BasicTicker\"}},\"id\":\"fb7f8c71-87cc-4440-a6de-b91103fb9e72\",\"type\":\"Grid\"},{\"attributes\":{\"plot\":{\"id\":\"3616ae36-d489-4dc8-b94e-8f7dbc10e264\",\"subtype\":\"Figure\",\"type\":\"Plot\"},\"ticker\":{\"id\":\"8214ab64-e4ce-4661-a62b-87be4ed1add0\",\"type\":\"BasicTicker\"}},\"id\":\"c085bb71-5d41-43dc-89fa-6c8d56fb85cc\",\"type\":\"Grid\"},{\"attributes\":{\"fill_alpha\":{\"value\":0.1},\"fill_color\":{\"value\":\"#1f77b4\"},\"line_alpha\":{\"value\":0.1},\"line_color\":{\"value\":\"#1f77b4\"},\"size\":{\"units\":\"screen\",\"value\":7},\"x\":{\"field\":\"x\"},\"y\":{\"field\":\"y\"}},\"id\":\"4781e8d4-77d9-4e81-a8e0-d11159b671f3\",\"type\":\"Circle\"},{\"attributes\":{\"data_source\":{\"id\":\"b19668f0-d970-456b-8cfe-a11dd717f04b\",\"type\":\"ColumnDataSource\"},\"glyph\":{\"id\":\"72bc8a2c-c7c9-4e17-b71e-d381f0f7d761\",\"type\":\"Circle\"},\"hover_glyph\":null,\"nonselection_glyph\":{\"id\":\"c61158f8-40fe-46e4-8341-fc92e76f23a1\",\"type\":\"Circle\"},\"selection_glyph\":null},\"id\":\"57ab308c-f352-4583-bc5a-2eb72b810df6\",\"type\":\"GlyphRenderer\"},{\"attributes\":{},\"id\":\"bf95460d-d93a-4f6d-9422-70f4938d900d\",\"type\":\"BasicTickFormatter\"},{\"attributes\":{\"plot\":{\"id\":\"40984381-804f-484c-b412-49c9a1eb6ef2\",\"subtype\":\"Figure\",\"type\":\"Plot\"}},\"id\":\"3cfadfda-c85a-45af-ab92-ba5911ce31f9\",\"type\":\"PanTool\"},{\"attributes\":{},\"id\":\"5a561244-f0cf-4758-99f7-4a640a3aa7e9\",\"type\":\"ToolEvents\"},{\"attributes\":{\"line_color\":{\"value\":\"red\"},\"line_width\":{\"value\":2},\"x\":{\"field\":\"x\"},\"y\":{\"field\":\"y\"}},\"id\":\"79221cc2-a76b-4384-9556-543b09856994\",\"type\":\"Line\"},{\"attributes\":{\"callback\":null},\"id\":\"461ceceb-9e52-4f28-b9eb-bb06ff637a73\",\"type\":\"DataRange1d\"},{\"attributes\":{\"data_source\":{\"id\":\"aec34fc7-2265-4090-94cc-95330becfd86\",\"type\":\"ColumnDataSource\"},\"glyph\":{\"id\":\"35ed31cc-5a90-47cc-a36c-14fa62c72d1b\",\"type\":\"Line\"},\"hover_glyph\":null,\"nonselection_glyph\":{\"id\":\"030b033f-4b62-4bac-8299-a06a30628c36\",\"type\":\"Line\"},\"selection_glyph\":null},\"id\":\"5fb75457-b28b-4ffb-b4c1-57e198dc280f\",\"type\":\"GlyphRenderer\"},{\"attributes\":{\"callback\":null},\"id\":\"38a147e7-f3e0-48a3-9eb4-0f79916a43f8\",\"type\":\"DataRange1d\"},{\"attributes\":{\"line_alpha\":{\"value\":0.1},\"line_color\":{\"value\":\"#1f77b4\"},\"line_dash\":[4,4],\"line_width\":{\"value\":2},\"x\":{\"field\":\"x\"},\"y\":{\"field\":\"y\"}},\"id\":\"f11cdf9e-230d-4e5b-8b61-eb8cb4e7ac46\",\"type\":\"Line\"},{\"attributes\":{\"fill_alpha\":{\"value\":0.1},\"fill_color\":{\"value\":\"#1f77b4\"},\"line_alpha\":{\"value\":0.1},\"line_color\":{\"value\":\"#1f77b4\"},\"size\":{\"units\":\"screen\",\"value\":7},\"x\":{\"field\":\"x\"},\"y\":{\"field\":\"y\"}},\"id\":\"d0153741-313a-41f0-960c-1bfd0619f186\",\"type\":\"Circle\"},{\"attributes\":{\"axis_label\":\"Popularity\",\"formatter\":{\"id\":\"59ba8e4d-2b9c-45ff-a01c-72c4b55648dd\",\"type\":\"BasicTickFormatter\"},\"plot\":{\"id\":\"077763eb-d52b-42ce-8454-df4a37e542ba\",\"subtype\":\"Figure\",\"type\":\"Plot\"},\"ticker\":{\"id\":\"23e7e737-2ddd-48d5-ae88-56792986875b\",\"type\":\"BasicTicker\"}},\"id\":\"e704fb80-5e8a-43a1-885b-bf3305fec287\",\"type\":\"LinearAxis\"},{\"attributes\":{},\"id\":\"2fdf8843-214f-49f1-b569-741652ddb89d\",\"type\":\"BasicTickFormatter\"},{\"attributes\":{\"callback\":null,\"plot\":{\"id\":\"ff811071-6dec-40fe-a96c-f0a67ca21b61\",\"subtype\":\"Figure\",\"type\":\"Plot\"},\"tooltips\":[[\"song\",\"@song\"],[\"album\",\"@album\"]]},\"id\":\"734113de-0492-413e-9e1c-19c1939b00a4\",\"type\":\"HoverTool\"},{\"attributes\":{},\"id\":\"296b0ad9-450a-4fe9-b787-01744853d101\",\"type\":\"BasicTickFormatter\"},{\"attributes\":{\"callback\":null,\"column_names\":[\"y\",\"x\"],\"data\":{\"x\":[-1,130],\"y\":[38.84347826086957,38.84347826086957]}},\"id\":\"aadc17d0-bc72-453b-a098-64b27dec9d10\",\"type\":\"ColumnDataSource\"},{\"attributes\":{\"plot\":{\"id\":\"c7e8162f-cc19-4796-bd8e-4bc85c8da834\",\"subtype\":\"Figure\",\"type\":\"Plot\"}},\"id\":\"6017f01e-4244-4915-b92b-279d2d638a5b\",\"type\":\"ResetTool\"},{\"attributes\":{\"plot\":{\"id\":\"808beac1-0692-49c6-a2e3-ecf0db7e7de9\",\"subtype\":\"Figure\",\"type\":\"Plot\"},\"ticker\":{\"id\":\"47c10fdd-1241-4ec1-896f-5461b8180d92\",\"type\":\"BasicTicker\"}},\"id\":\"67624c49-aa64-4391-88ed-d91153e6a695\",\"type\":\"Grid\"},{\"attributes\":{\"data_source\":{\"id\":\"b8e1eab7-149d-4b2f-ad1a-1692d4efa4eb\",\"type\":\"ColumnDataSource\"},\"glyph\":{\"id\":\"e4da1315-3837-4cd7-b46f-f36ae0edca45\",\"type\":\"Circle\"},\"hover_glyph\":null,\"nonselection_glyph\":{\"id\":\"2e6b9431-7c77-46b7-ad88-22d7ab821f57\",\"type\":\"Circle\"},\"selection_glyph\":null},\"id\":\"cf52b1e2-c7ec-40ab-8294-1c058dde291a\",\"type\":\"GlyphRenderer\"},{\"attributes\":{\"axis_label\":\"Release Year\",\"formatter\":{\"id\":\"abc28772-c354-4272-bfcb-e8a06f7e1eae\",\"type\":\"BasicTickFormatter\"},\"major_label_text_font_size\":{\"value\":\"0pt\"},\"plot\":{\"id\":\"db14c567-64ba-4e05-b6f1-bb87ce6bf4f1\",\"subtype\":\"Figure\",\"type\":\"Plot\"},\"ticker\":{\"id\":\"96e6bccd-5113-4ba7-b159-5a9d5f2fe46a\",\"type\":\"BasicTicker\"}},\"id\":\"608c493b-8b3f-4215-8adf-09403b8dd764\",\"type\":\"LinearAxis\"},{\"attributes\":{\"line_color\":{\"value\":\"red\"},\"line_dash\":[4,4],\"line_width\":{\"value\":2},\"x\":{\"field\":\"x\"},\"y\":{\"field\":\"y\"}},\"id\":\"35ed31cc-5a90-47cc-a36c-14fa62c72d1b\",\"type\":\"Line\"},{\"attributes\":{\"plot\":{\"id\":\"fa223b75-3433-4548-8291-731dae75b280\",\"subtype\":\"Figure\",\"type\":\"Plot\"}},\"id\":\"9461311b-6fe3-4049-a6ec-ce12910dd8a6\",\"type\":\"WheelZoomTool\"},{\"attributes\":{\"overlay\":{\"id\":\"f080177b-a467-43e6-8a8c-e49f244810c6\",\"type\":\"BoxAnnotation\"},\"plot\":{\"id\":\"50fb0a0d-4a0a-457f-bcb5-db1a0b705072\",\"subtype\":\"Figure\",\"type\":\"Plot\"}},\"id\":\"d5e63929-4eb3-43f4-94ff-555c9f67906e\",\"type\":\"BoxZoomTool\"},{\"attributes\":{\"callback\":null,\"column_names\":[\"y\",\"x\"],\"data\":{\"x\":[2003,2017],\"y\":[78.75,78.75]}},\"id\":\"782b8b43-993c-4485-b42d-236b9575378b\",\"type\":\"ColumnDataSource\"},{\"attributes\":{\"plot\":{\"id\":\"db14c567-64ba-4e05-b6f1-bb87ce6bf4f1\",\"subtype\":\"Figure\",\"type\":\"Plot\"}},\"id\":\"210d0e6f-649a-4063-93dc-527fde93318e\",\"type\":\"ResetTool\"},{\"attributes\":{\"plot\":{\"id\":\"42d95f82-ea66-4636-bfa0-901593efc674\",\"subtype\":\"Figure\",\"type\":\"Plot\"}},\"id\":\"e3cbafdf-ae8a-41db-83d7-2a7298405b50\",\"type\":\"ResetTool\"},{\"attributes\":{\"callback\":null,\"column_names\":[\"y\",\"person\",\"x\"],\"data\":{\"person\":[\"God\",\"JAY Z\",\"Frank Ocean\",\"The-Dream\",\"Beyonce\",\"Otis Redding\",\"Mr Hudson\",\"Kid Cudi\",\"Raekwon\",\"Rick Ross\",\"Nicki Minaj\",\"Bon Iver\",\"Pusha T\",\"Prynce Cy Hi\",\"Swizz Beatz\",\"RZA\",\"John Legend\",\"Jeezy\",\"Lil Wayne\",\"T-Pain\",\"Mos Def\",\"DJ Premier\",\"Chris Martin\",\"Adam Levine\",\"Lupe Fiasco\",\"Jamie Foxx\",\"Paul Wall\",\"GLC\",\"Common\",\"The Game\",\"Brandy\",\"Nas\",\"Really Doe\",\"Consequence\",\"Cam'Ron\",\"Syleena Johnson\",\"J. Ivy\",\"Talib Kweli\",\"Twista\",\"Ludacris\",\"Freeway\",\"The Boys Choir Of Harlem\"],\"x\":[0,1,2,3,4,5,6,7,8,9,10,11,12,13,14,15,16,17,18,19,20,21,22,23,24,25,26,27,28,29,30,31,32,33,34,35,36,37,38,39,40,41],\"y\":[60,55,54,59,52,58,55,59,61,64,68,63,63,58,58,58,59,64,55,67,54,59,13,62,63,69,58,58,54,52,51,53,53,57,56,66,56,57,62,53,53,53]}},\"id\":\"1b47d267-1e65-455d-8217-670e07aa6906\",\"type\":\"ColumnDataSource\"},{\"attributes\":{},\"id\":\"367d85c3-94a8-4581-bd1c-a048d36b9694\",\"type\":\"ToolEvents\"},{\"attributes\":{\"dimension\":1,\"plot\":{\"id\":\"c7e8162f-cc19-4796-bd8e-4bc85c8da834\",\"subtype\":\"Figure\",\"type\":\"Plot\"},\"ticker\":{\"id\":\"bb60433c-8384-4f29-a487-69bd8e59114d\",\"type\":\"BasicTicker\"}},\"id\":\"7970d336-8e1e-4026-8d44-ca4ed3d2df4d\",\"type\":\"Grid\"},{\"attributes\":{\"line_alpha\":{\"value\":0.1},\"line_color\":{\"value\":\"#1f77b4\"},\"line_width\":{\"value\":2},\"x\":{\"field\":\"x\"},\"y\":{\"field\":\"y\"}},\"id\":\"4282acca-ecbc-4f5d-9683-7baa32656559\",\"type\":\"Line\"},{\"attributes\":{\"line_alpha\":{\"value\":0.1},\"line_color\":{\"value\":\"#1f77b4\"},\"line_dash\":[4,4],\"line_width\":{\"value\":2},\"x\":{\"field\":\"x\"},\"y\":{\"field\":\"y\"}},\"id\":\"2457305b-c732-47d4-8da8-8a0e46bbb6b6\",\"type\":\"Line\"},{\"attributes\":{\"overlay\":{\"id\":\"d6cae131-ff21-49a6-bb40-7419e20d59cc\",\"type\":\"BoxAnnotation\"},\"plot\":{\"id\":\"a406ebf3-7fee-4dd4-9327-caaf80fc284a\",\"subtype\":\"Figure\",\"type\":\"Plot\"}},\"id\":\"24d02c37-1372-4afd-b55b-84055c229373\",\"type\":\"BoxZoomTool\"},{\"attributes\":{\"data_source\":{\"id\":\"46514f03-4f9f-48dc-8e04-1117fa5b7a08\",\"type\":\"ColumnDataSource\"},\"glyph\":{\"id\":\"3ca19585-6c9f-4d8c-b899-92e36999d88f\",\"type\":\"Circle\"},\"hover_glyph\":null,\"nonselection_glyph\":{\"id\":\"74f8bbb1-7ea5-4ec7-a7fd-9ad9aade1b95\",\"type\":\"Circle\"},\"selection_glyph\":null},\"id\":\"2cb835fd-a3db-466c-81c4-4a2c4ae33d1a\",\"type\":\"GlyphRenderer\"},{\"attributes\":{\"plot\":{\"id\":\"40984381-804f-484c-b412-49c9a1eb6ef2\",\"subtype\":\"Figure\",\"type\":\"Plot\"}},\"id\":\"8dd32684-51b1-4223-992f-84c80bb7292e\",\"type\":\"ResizeTool\"},{\"attributes\":{\"dimension\":1,\"plot\":{\"id\":\"87004a05-fd1e-4435-ab9a-c02034cd2ae0\",\"subtype\":\"Figure\",\"type\":\"Plot\"},\"ticker\":{\"id\":\"db2e1044-aff9-461f-a9ff-a8d782ce1028\",\"type\":\"BasicTicker\"}},\"id\":\"f2d98781-d78f-4ea7-a3be-5caf8039f2f6\",\"type\":\"Grid\"},{\"attributes\":{\"line_alpha\":{\"value\":0.1},\"line_color\":{\"value\":\"#1f77b4\"},\"line_width\":{\"value\":2},\"x\":{\"field\":\"x\"},\"y\":{\"field\":\"y\"}},\"id\":\"f0498147-93f4-406e-8f59-d142068768b1\",\"type\":\"Line\"},{\"attributes\":{\"dimension\":1,\"plot\":{\"id\":\"4e696ab0-d96e-4cab-b1c5-5f2b4861d8bc\",\"subtype\":\"Figure\",\"type\":\"Plot\"},\"ticker\":{\"id\":\"eb4b0414-f829-4553-9fe6-691999652cdb\",\"type\":\"BasicTicker\"}},\"id\":\"b9088047-f6a3-448f-a0d6-1ddc58fdbfbf\",\"type\":\"Grid\"},{\"attributes\":{\"bottom_units\":\"screen\",\"fill_alpha\":{\"value\":0.5},\"fill_color\":{\"value\":\"lightgrey\"},\"left_units\":\"screen\",\"level\":\"overlay\",\"line_alpha\":{\"value\":1.0},\"line_color\":{\"value\":\"black\"},\"line_dash\":[4,4],\"line_width\":{\"value\":2},\"plot\":null,\"render_mode\":\"css\",\"right_units\":\"screen\",\"top_units\":\"screen\"},\"id\":\"4c78607c-7ff5-4e72-8c29-5df46c86680f\",\"type\":\"BoxAnnotation\"},{\"attributes\":{},\"id\":\"fcf1de76-b40a-45c0-8a77-8f0731e8562c\",\"type\":\"ToolEvents\"},{\"attributes\":{},\"id\":\"698e9106-b428-4e85-87d6-20af7a52fd6b\",\"type\":\"BasicTickFormatter\"},{\"attributes\":{\"callback\":null},\"id\":\"93920f90-eb06-4729-a2e7-e193f7722c49\",\"type\":\"DataRange1d\"},{\"attributes\":{\"plot\":{\"id\":\"0218e7c7-c2e7-440c-a494-9b99e502f7a8\",\"subtype\":\"Figure\",\"type\":\"Plot\"},\"ticker\":{\"id\":\"bd8dcfaf-6596-4e6f-bd81-eaaeff72dc1f\",\"type\":\"BasicTicker\"}},\"id\":\"d50bd70c-2e98-4cd3-a910-6bc4836424cd\",\"type\":\"Grid\"},{\"attributes\":{},\"id\":\"47e49045-e512-48a0-b7f1-57e8f7bc13ab\",\"type\":\"BasicTickFormatter\"},{\"attributes\":{\"data_source\":{\"id\":\"d484bd2f-fcad-4f1e-a3f3-f7d4fcfe704b\",\"type\":\"ColumnDataSource\"},\"glyph\":{\"id\":\"859a712e-d3e8-4a3a-b0f8-493515e93834\",\"type\":\"Circle\"},\"hover_glyph\":null,\"nonselection_glyph\":{\"id\":\"e0c638d5-bb63-4aa4-ab36-043185f2d27d\",\"type\":\"Circle\"},\"selection_glyph\":null},\"id\":\"2af78704-e61b-4186-a7c3-69dcb56ca729\",\"type\":\"GlyphRenderer\"},{\"attributes\":{\"callback\":null,\"column_names\":[\"y\",\"x\"],\"data\":{\"x\":[56],\"y\":[40.0]}},\"id\":\"eb21d5c6-d760-4586-b020-8d8b177a34c4\",\"type\":\"ColumnDataSource\"},{\"attributes\":{\"axis_label\":\"Album Year\",\"formatter\":{\"id\":\"ad1f0a6e-2a28-4439-b295-67cd6cac4c17\",\"type\":\"BasicTickFormatter\"},\"plot\":{\"id\":\"364976bb-91fe-4abc-8ff2-febda1eb7377\",\"subtype\":\"Figure\",\"type\":\"Plot\"},\"ticker\":{\"id\":\"a6ef89f7-5a0f-44eb-b45a-fae029765be1\",\"type\":\"BasicTicker\"}},\"id\":\"48a31fc3-7c77-4b55-bc2e-5f8cae2aa884\",\"type\":\"LinearAxis\"},{\"attributes\":{\"line_alpha\":{\"value\":0.1},\"line_color\":{\"value\":\"#1f77b4\"},\"line_width\":{\"value\":2},\"x\":{\"field\":\"x\"},\"y\":{\"field\":\"y\"}},\"id\":\"55c17a4b-e115-4b79-9c32-45ba212ed8e1\",\"type\":\"Line\"},{\"attributes\":{},\"id\":\"fbd5c153-096f-467e-800b-198f8f1e690a\",\"type\":\"BasicTicker\"},{\"attributes\":{\"plot\":{\"id\":\"906090f5-7fc8-4666-bdc4-2cfa29be15ef\",\"subtype\":\"Figure\",\"type\":\"Plot\"}},\"id\":\"2ca9ccab-37b0-4838-a6cd-80d040a951d0\",\"type\":\"PanTool\"},{\"attributes\":{\"fill_color\":{\"value\":\"black\"},\"size\":{\"units\":\"screen\",\"value\":10},\"x\":{\"field\":\"x\"},\"y\":{\"field\":\"y\"}},\"id\":\"cd81f35b-63e2-4665-8a96-f08e22e2fc44\",\"type\":\"Circle\"},{\"attributes\":{},\"id\":\"e13c9409-d4f1-4f70-b2d8-9cf539d3af17\",\"type\":\"BasicTicker\"},{\"attributes\":{},\"id\":\"a14cc69e-e0f5-42bd-91c7-d236dcf4665f\",\"type\":\"BasicTicker\"},{\"attributes\":{\"plot\":{\"id\":\"c3c0eb43-d653-4732-99f4-363b81ebfd66\",\"subtype\":\"Figure\",\"type\":\"Plot\"}},\"id\":\"9a4639f0-8b61-4572-9da8-180351972405\",\"type\":\"ResetTool\"},{\"attributes\":{},\"id\":\"8d4a8fe6-9172-4a40-8cc8-c3dd38d5f18f\",\"type\":\"BasicTicker\"},{\"attributes\":{\"data_source\":{\"id\":\"3cff1d4a-cf79-4fe1-8f70-700638689654\",\"type\":\"ColumnDataSource\"},\"glyph\":{\"id\":\"02229556-d6a6-466f-834c-d9848cdad97f\",\"type\":\"Line\"},\"hover_glyph\":null,\"nonselection_glyph\":{\"id\":\"f11cdf9e-230d-4e5b-8b61-eb8cb4e7ac46\",\"type\":\"Line\"},\"selection_glyph\":null},\"id\":\"7502b8bb-3f78-4ad8-9d59-fd0e8642cd15\",\"type\":\"GlyphRenderer\"},{\"attributes\":{\"plot\":{\"id\":\"c7e8162f-cc19-4796-bd8e-4bc85c8da834\",\"subtype\":\"Figure\",\"type\":\"Plot\"},\"ticker\":{\"id\":\"abb1c2b2-5c6f-45bf-8789-ad18a8208ec9\",\"type\":\"BasicTicker\"}},\"id\":\"d72ba304-eb1e-44ef-b417-6953ce90498c\",\"type\":\"Grid\"},{\"attributes\":{\"axis_label\":\"Album Year\",\"formatter\":{\"id\":\"572959c1-ffce-4e0e-9e52-9497ff22145c\",\"type\":\"BasicTickFormatter\"},\"plot\":{\"id\":\"92b5ec37-ca99-4256-98f6-89b3d5e02eb3\",\"subtype\":\"Figure\",\"type\":\"Plot\"},\"ticker\":{\"id\":\"5e77417b-3f80-40ac-b8e0-523d0ddf9dd6\",\"type\":\"BasicTicker\"}},\"id\":\"d25cfbb7-b381-42b6-aaa8-6a14d7b91de6\",\"type\":\"LinearAxis\"},{\"attributes\":{\"dimension\":1,\"plot\":{\"id\":\"92b5ec37-ca99-4256-98f6-89b3d5e02eb3\",\"subtype\":\"Figure\",\"type\":\"Plot\"},\"ticker\":{\"id\":\"1a91aedc-3af4-4d52-ad69-00ddddf41191\",\"type\":\"BasicTicker\"}},\"id\":\"48515ef3-6d79-454c-9008-128cc433678a\",\"type\":\"Grid\"},{\"attributes\":{\"fill_color\":{\"value\":\"black\"},\"size\":{\"units\":\"screen\",\"value\":7},\"x\":{\"field\":\"x\"},\"y\":{\"field\":\"y\"}},\"id\":\"2e2a03a0-6ffb-4ce9-8d14-6817c70c2ddf\",\"type\":\"Circle\"},{\"attributes\":{\"axis_label\":\"Popularity\",\"formatter\":{\"id\":\"cd803df1-07cd-4341-8c63-c555917c5398\",\"type\":\"BasicTickFormatter\"},\"plot\":{\"id\":\"d88ffe13-3f11-4938-b3bf-6ca710b53c87\",\"subtype\":\"Figure\",\"type\":\"Plot\"},\"ticker\":{\"id\":\"a417c17e-df43-4040-a7fb-61cfb91eaf7e\",\"type\":\"BasicTicker\"}},\"id\":\"dc53d25c-e534-478b-9eb9-1ad2ad5e10fc\",\"type\":\"LinearAxis\"},{\"attributes\":{\"callback\":null,\"plot\":{\"id\":\"f8d0ef78-8fe7-49c2-8a93-afe1dcadb6b4\",\"subtype\":\"Figure\",\"type\":\"Plot\"},\"tooltips\":[[\"Track\",\"@track\"]]},\"id\":\"6a139382-4ef6-4c3e-93f2-874182c0fb50\",\"type\":\"HoverTool\"},{\"attributes\":{\"axis_label\":\"Popularity\",\"formatter\":{\"id\":\"8cb61461-9e20-4758-a0fa-98854fb48788\",\"type\":\"BasicTickFormatter\"},\"plot\":{\"id\":\"40984381-804f-484c-b412-49c9a1eb6ef2\",\"subtype\":\"Figure\",\"type\":\"Plot\"},\"ticker\":{\"id\":\"aafccb55-2e25-466b-b3de-99311f73c403\",\"type\":\"BasicTicker\"}},\"id\":\"ef01d7f4-c3e9-4ff4-b937-e12f9cd1e27e\",\"type\":\"LinearAxis\"},{\"attributes\":{\"fill_color\":{\"value\":\"black\"},\"size\":{\"units\":\"screen\",\"value\":10},\"x\":{\"field\":\"x\"},\"y\":{\"field\":\"y\"}},\"id\":\"72bc8a2c-c7c9-4e17-b71e-d381f0f7d761\",\"type\":\"Circle\"},{\"attributes\":{\"line_width\":{\"value\":2},\"x\":{\"field\":\"x\"},\"y\":{\"field\":\"y\"}},\"id\":\"9840895d-e51a-4c5a-b067-c33d0406c18b\",\"type\":\"Line\"},{\"attributes\":{\"line_alpha\":{\"value\":0.1},\"line_color\":{\"value\":\"#1f77b4\"},\"line_dash\":[4,4],\"line_width\":{\"value\":2},\"x\":{\"field\":\"x\"},\"y\":{\"field\":\"y\"}},\"id\":\"a5df5d80-5dbd-4956-bd41-f22faeac4305\",\"type\":\"Line\"},{\"attributes\":{\"fill_alpha\":{\"value\":0.1},\"fill_color\":{\"value\":\"#1f77b4\"},\"line_alpha\":{\"value\":0.1},\"line_color\":{\"value\":\"#1f77b4\"},\"size\":{\"units\":\"screen\",\"value\":7},\"x\":{\"field\":\"x\"},\"y\":{\"field\":\"y\"}},\"id\":\"74f8bbb1-7ea5-4ec7-a7fd-9ad9aade1b95\",\"type\":\"Circle\"},{\"attributes\":{\"dimension\":1,\"plot\":{\"id\":\"c4b3a879-ecc0-433b-ab6e-393d30e0a4fd\",\"subtype\":\"Figure\",\"type\":\"Plot\"},\"ticker\":{\"id\":\"a14cc69e-e0f5-42bd-91c7-d236dcf4665f\",\"type\":\"BasicTicker\"}},\"id\":\"a5066f26-eba0-4b03-b23a-9ca74fed7b7f\",\"type\":\"Grid\"},{\"attributes\":{\"line_alpha\":{\"value\":0.1},\"line_color\":{\"value\":\"#1f77b4\"},\"line_dash\":[4,4],\"line_width\":{\"value\":2},\"x\":{\"field\":\"x\"},\"y\":{\"field\":\"y\"}},\"id\":\"b069eade-c057-4519-8fa7-51720e3b91f0\",\"type\":\"Line\"},{\"attributes\":{\"dimension\":1,\"plot\":{\"id\":\"42d95f82-ea66-4636-bfa0-901593efc674\",\"subtype\":\"Figure\",\"type\":\"Plot\"},\"ticker\":{\"id\":\"8d4a8fe6-9172-4a40-8cc8-c3dd38d5f18f\",\"type\":\"BasicTicker\"}},\"id\":\"858718e1-63c6-4c68-b19d-2a14d090c9a0\",\"type\":\"Grid\"},{\"attributes\":{\"data_source\":{\"id\":\"28f34429-b081-41be-84de-0f123de5209e\",\"type\":\"ColumnDataSource\"},\"glyph\":{\"id\":\"f354283a-999c-4196-a9ad-89c2055db6fe\",\"type\":\"Line\"},\"hover_glyph\":null,\"nonselection_glyph\":{\"id\":\"c92fb238-0b7e-44c1-bad7-23fad7895c1a\",\"type\":\"Line\"},\"selection_glyph\":null},\"id\":\"6c3b293d-0085-4617-932f-8f8f9059e38c\",\"type\":\"GlyphRenderer\"},{\"attributes\":{},\"id\":\"a87e92e8-ba53-477d-90ea-d54c5723a229\",\"type\":\"BasicTickFormatter\"},{\"attributes\":{},\"id\":\"d1c30808-0821-40dc-b021-10ea871d3f76\",\"type\":\"BasicTickFormatter\"},{\"attributes\":{\"callback\":null,\"column_names\":[\"y\",\"x\"],\"data\":{\"x\":[77],\"y\":[13.0]}},\"id\":\"a0f19ae1-08d1-4d3b-9165-3742f582223e\",\"type\":\"ColumnDataSource\"},{\"attributes\":{\"callback\":null,\"column_names\":[\"album\",\"y\",\"x\"],\"data\":{\"album\":[\"The Life Of Pablo\",\"Yeezus\",\"Watch The Throne (Explicit Version)\",\"My Beautiful Dark Twisted Fantasy (Explicit Version)\",\"808s & Heartbreak\",\"Graduation (Explicit Version)\",\"Late Registration (Explicit Version)\",\"The College Dropout (Explicit)\"],\"x\":[2016,2013,2011,2010,2008,2007,2005,2004],\"y\":[94.0,78.0,70.0,80.0,74.0,80.0,78.0,76.0]}},\"id\":\"417e50d1-13f0-4947-a37a-657679119191\",\"type\":\"ColumnDataSource\"},{\"attributes\":{\"bottom\":{\"value\":0},\"fill_color\":{\"value\":\"white\"},\"left\":{\"field\":\"left\"},\"line_color\":{\"value\":\"red\"},\"right\":{\"field\":\"right\"},\"top\":{\"field\":\"top\"}},\"id\":\"374945bb-07a3-49bd-bcdd-8ef4ad02a0ac\",\"type\":\"Quad\"},{\"attributes\":{\"line_alpha\":{\"value\":0.1},\"line_color\":{\"value\":\"#1f77b4\"},\"line_dash\":[4,4],\"line_width\":{\"value\":2},\"x\":{\"field\":\"x\"},\"y\":{\"field\":\"y\"}},\"id\":\"f1c8b0e6-5aaa-4524-bc70-04c128af0bed\",\"type\":\"Line\"},{\"attributes\":{\"fill_color\":{\"value\":\"gold\"},\"line_color\":{\"value\":\"gold\"},\"size\":{\"units\":\"screen\",\"value\":12},\"x\":{\"field\":\"x\"},\"y\":{\"field\":\"y\"}},\"id\":\"b490ffc6-5b13-407a-84cd-8d2d1a20a298\",\"type\":\"Circle\"},{\"attributes\":{\"line_alpha\":{\"value\":0.1},\"line_color\":{\"value\":\"#1f77b4\"},\"line_dash\":[4,4],\"line_width\":{\"value\":2},\"x\":{\"field\":\"x\"},\"y\":{\"field\":\"y\"}},\"id\":\"80fb5e46-93a0-4c00-a194-52f1c62fb999\",\"type\":\"Line\"},{\"attributes\":{\"callback\":null,\"column_names\":[\"y\",\"x\"],\"data\":{\"x\":[-1,130],\"y\":[24.416696822020846,24.416696822020846]}},\"id\":\"b0caba47-41bd-4c81-9d93-19fe2998b616\",\"type\":\"ColumnDataSource\"},{\"attributes\":{\"fill_alpha\":{\"value\":0.1},\"fill_color\":{\"value\":\"#1f77b4\"},\"line_alpha\":{\"value\":0.1},\"line_color\":{\"value\":\"#1f77b4\"},\"size\":{\"units\":\"screen\",\"value\":7},\"x\":{\"field\":\"x\"},\"y\":{\"field\":\"y\"}},\"id\":\"0e80aa15-fcfa-44b3-852b-87b815e50ee7\",\"type\":\"Circle\"},{\"attributes\":{\"axis_label\":\"track\",\"formatter\":{\"id\":\"d30f5bf0-50c6-4ca0-b08c-d658a1e3b622\",\"type\":\"BasicTickFormatter\"},\"major_label_text_font_size\":{\"value\":\"0pt\"},\"plot\":{\"id\":\"d88ffe13-3f11-4938-b3bf-6ca710b53c87\",\"subtype\":\"Figure\",\"type\":\"Plot\"},\"ticker\":{\"id\":\"00503b32-fea2-455e-9b5b-8c0f01fae917\",\"type\":\"BasicTicker\"}},\"id\":\"ceb83e6f-8dab-484b-bffd-71e76d98a255\",\"type\":\"LinearAxis\"},{\"attributes\":{\"fill_alpha\":{\"value\":0.2},\"fill_color\":{\"field\":\"fill_color\"},\"line_color\":{\"field\":\"line_color\"},\"size\":{\"units\":\"screen\",\"value\":7},\"x\":{\"field\":\"x\"},\"y\":{\"field\":\"y\"}},\"id\":\"aa415815-b3b5-4549-b620-904bb7db6ed6\",\"type\":\"Circle\"},{\"attributes\":{\"callback\":null,\"column_names\":[\"y\",\"x\"],\"data\":{\"x\":[-1,130],\"y\":[38.84347826086957,38.84347826086957]}},\"id\":\"108801a5-871d-440a-8a6a-04f5ec86a180\",\"type\":\"ColumnDataSource\"},{\"attributes\":{\"callback\":null},\"id\":\"6979fe70-83af-4d2d-82f0-5f0975e353f7\",\"type\":\"DataRange1d\"},{\"attributes\":{\"callback\":null,\"column_names\":[\"y\",\"x\"],\"data\":{\"x\":[-1,45],\"y\":[74.3882298853647,74.3882298853647]}},\"id\":\"32b5bcac-e4d9-4f52-bbaf-37bc2f5930e3\",\"type\":\"ColumnDataSource\"},{\"attributes\":{\"bottom\":{\"value\":0},\"fill_alpha\":{\"value\":0.1},\"fill_color\":{\"value\":\"#1f77b4\"},\"left\":{\"field\":\"left\"},\"line_alpha\":{\"value\":0.1},\"line_color\":{\"value\":\"#1f77b4\"},\"right\":{\"field\":\"right\"},\"top\":{\"field\":\"top\"}},\"id\":\"51f8f747-d1a4-45de-bcfc-1e5a714b37e9\",\"type\":\"Quad\"},{\"attributes\":{\"bottom_units\":\"screen\",\"fill_alpha\":{\"value\":0.5},\"fill_color\":{\"value\":\"lightgrey\"},\"left_units\":\"screen\",\"level\":\"overlay\",\"line_alpha\":{\"value\":1.0},\"line_color\":{\"value\":\"black\"},\"line_dash\":[4,4],\"line_width\":{\"value\":2},\"plot\":null,\"render_mode\":\"css\",\"right_units\":\"screen\",\"top_units\":\"screen\"},\"id\":\"77089070-3322-4371-8802-4066541cf69a\",\"type\":\"BoxAnnotation\"},{\"attributes\":{\"plot\":{\"id\":\"c3c0eb43-d653-4732-99f4-363b81ebfd66\",\"subtype\":\"Figure\",\"type\":\"Plot\"},\"ticker\":{\"id\":\"fbd5c153-096f-467e-800b-198f8f1e690a\",\"type\":\"BasicTicker\"}},\"id\":\"6cc5adf0-9842-4e15-9501-a52df4488008\",\"type\":\"Grid\"},{\"attributes\":{\"data_source\":{\"id\":\"06dc5dc8-940e-4581-af59-69cad1660948\",\"type\":\"ColumnDataSource\"},\"glyph\":{\"id\":\"731c70dd-eb86-40d3-a35a-01bd99c6c8d9\",\"type\":\"Line\"},\"hover_glyph\":null,\"nonselection_glyph\":{\"id\":\"2457305b-c732-47d4-8da8-8a0e46bbb6b6\",\"type\":\"Line\"},\"selection_glyph\":null},\"id\":\"1d5acea7-6552-40f4-8579-3fc1e54e9dda\",\"type\":\"GlyphRenderer\"},{\"attributes\":{\"dimension\":1,\"plot\":{\"id\":\"3fcbd322-bcc0-44be-a67c-49e08ce201f3\",\"subtype\":\"Figure\",\"type\":\"Plot\"},\"ticker\":{\"id\":\"16aa96ad-fd70-4d92-a473-02145fbe083c\",\"type\":\"BasicTicker\"}},\"id\":\"d49c93a7-057d-4103-b3fe-7a78bceef55b\",\"type\":\"Grid\"},{\"attributes\":{\"data_source\":{\"id\":\"b6e1fe9d-4cd1-47a3-8be0-6937349d2069\",\"type\":\"ColumnDataSource\"},\"glyph\":{\"id\":\"06642a94-9d5f-4442-8151-29c63d5b12e8\",\"type\":\"Circle\"},\"hover_glyph\":null,\"nonselection_glyph\":{\"id\":\"90fb274f-b3a1-404f-8e11-9602217d7fe9\",\"type\":\"Circle\"},\"selection_glyph\":null},\"id\":\"9d289c34-e7ee-4a1f-a5c2-ee639673c0a8\",\"type\":\"GlyphRenderer\"},{\"attributes\":{\"callback\":null,\"column_names\":[\"right\",\"top\",\"left\"],\"data\":{\"left\":[0.0,4.0,8.0,12.0,16.0,20.0,24.0,28.0,32.0,36.0,40.0,44.0,48.0,52.0,56.0,60.0,64.0,68.0,72.0,76.0,80.0,84.0,88.0,92.0,96.0],\"right\":[4.0,8.0,12.0,16.0,20.0,24.0,28.0,32.0,36.0,40.0,44.0,48.0,52.0,56.0,60.0,64.0,68.0,72.0,76.0,80.0,84.0,88.0,92.0,96.0,100.0],\"top\":[2,0,0,0,0,0,0,0,0,0,0,1,9,15,9,11,4,6,12,2,4,0,0,0,0]}},\"id\":\"97be9f7b-c67a-4020-bbb5-e65002df52f5\",\"type\":\"ColumnDataSource\"},{\"attributes\":{\"data_source\":{\"id\":\"aadc17d0-bc72-453b-a098-64b27dec9d10\",\"type\":\"ColumnDataSource\"},\"glyph\":{\"id\":\"f1e721df-10fe-49c4-9516-0d11c5efbf35\",\"type\":\"Line\"},\"hover_glyph\":null,\"nonselection_glyph\":{\"id\":\"12b34d8e-74b4-4d16-b177-137494282649\",\"type\":\"Line\"},\"selection_glyph\":null},\"id\":\"f4020076-f2b5-4f27-9be8-f5efc6be6f80\",\"type\":\"GlyphRenderer\"},{\"attributes\":{\"line_color\":{\"value\":\"red\"},\"line_dash\":[4,4],\"line_width\":{\"value\":2},\"x\":{\"field\":\"x\"},\"y\":{\"field\":\"y\"}},\"id\":\"92617e7e-4868-4e2d-a09c-13a0eab400f9\",\"type\":\"Line\"},{\"attributes\":{},\"id\":\"97194abd-421b-4fab-97ed-4102681f8182\",\"type\":\"BasicTickFormatter\"},{\"attributes\":{},\"id\":\"22769a39-31d8-4dce-b252-80c5c4ac7817\",\"type\":\"BasicTicker\"},{\"attributes\":{\"callback\":null},\"id\":\"3f72b500-874e-4933-a4eb-9959f6cc13ae\",\"type\":\"DataRange1d\"},{\"attributes\":{\"callback\":null,\"column_names\":[\"y\",\"x\"],\"data\":{\"x\":[-1,130],\"y\":[24.416696822020846,24.416696822020846]}},\"id\":\"427bd790-bff5-4735-92b1-3ae194829412\",\"type\":\"ColumnDataSource\"},{\"attributes\":{\"callback\":null,\"column_names\":[\"y\",\"x\"],\"data\":{\"x\":[2000,2017],\"y\":[78.75,78.75]}},\"id\":\"91cbe3ca-220e-41ba-850d-ae8d9282a85d\",\"type\":\"ColumnDataSource\"},{\"attributes\":{\"bottom_units\":\"screen\",\"fill_alpha\":{\"value\":0.5},\"fill_color\":{\"value\":\"lightgrey\"},\"left_units\":\"screen\",\"level\":\"overlay\",\"line_alpha\":{\"value\":1.0},\"line_color\":{\"value\":\"black\"},\"line_dash\":[4,4],\"line_width\":{\"value\":2},\"plot\":null,\"render_mode\":\"css\",\"right_units\":\"screen\",\"top_units\":\"screen\"},\"id\":\"b4306671-d0b8-4af2-ba7b-445dcbd1678d\",\"type\":\"BoxAnnotation\"},{\"attributes\":{\"axis_label\":\"track\",\"formatter\":{\"id\":\"47e49045-e512-48a0-b7f1-57e8f7bc13ab\",\"type\":\"BasicTickFormatter\"},\"major_label_text_font_size\":{\"value\":\"0pt\"},\"plot\":{\"id\":\"5763382d-75de-4932-aa18-5d1f033657d2\",\"subtype\":\"Figure\",\"type\":\"Plot\"},\"ticker\":{\"id\":\"e6c06f8b-fccd-42c2-b22f-fb23ac7d6d2a\",\"type\":\"BasicTicker\"}},\"id\":\"81971321-cef4-43e9-b080-f540630529ef\",\"type\":\"LinearAxis\"},{\"attributes\":{\"axis_label\":\"Solo Popularity\",\"formatter\":{\"id\":\"5d3888ec-7232-4c61-bab9-16acf9a9e476\",\"type\":\"BasicTickFormatter\"},\"plot\":{\"id\":\"a406ebf3-7fee-4dd4-9327-caaf80fc284a\",\"subtype\":\"Figure\",\"type\":\"Plot\"},\"ticker\":{\"id\":\"b01fa35a-a278-41c1-9366-bb087aeadc3f\",\"type\":\"BasicTicker\"}},\"id\":\"ef85e85c-6987-4aea-85a4-c0b6bf559845\",\"type\":\"LinearAxis\"},{\"attributes\":{},\"id\":\"7bc6b995-74be-4377-8ab8-aff911066c44\",\"type\":\"BasicTickFormatter\"},{\"attributes\":{\"data_source\":{\"id\":\"2f6e9607-877f-4d24-90eb-4519949c3697\",\"type\":\"ColumnDataSource\"},\"glyph\":{\"id\":\"bc5bd058-9702-4533-a415-c3075a5370dc\",\"type\":\"Circle\"},\"hover_glyph\":null,\"nonselection_glyph\":{\"id\":\"ca08c7b8-fb57-4927-a003-6f5fd4d550c2\",\"type\":\"Circle\"},\"selection_glyph\":null},\"id\":\"524cd0bc-1383-44e3-9717-075d6a771147\",\"type\":\"GlyphRenderer\"},{\"attributes\":{\"data_source\":{\"id\":\"a7af213c-76d3-4a20-b595-1e9e5ae8d795\",\"type\":\"ColumnDataSource\"},\"glyph\":{\"id\":\"7dc2ed2a-7d37-49c1-b7bc-9b9f13a45f93\",\"type\":\"Line\"},\"hover_glyph\":null,\"nonselection_glyph\":{\"id\":\"20b58138-02d5-4275-a113-f68c95ff5371\",\"type\":\"Line\"},\"selection_glyph\":null},\"id\":\"74c3231e-c58d-45ad-bb6e-b833c5460923\",\"type\":\"GlyphRenderer\"},{\"attributes\":{\"bottom_units\":\"screen\",\"fill_alpha\":{\"value\":0.5},\"fill_color\":{\"value\":\"lightgrey\"},\"left_units\":\"screen\",\"level\":\"overlay\",\"line_alpha\":{\"value\":1.0},\"line_color\":{\"value\":\"black\"},\"line_dash\":[4,4],\"line_width\":{\"value\":2},\"plot\":null,\"render_mode\":\"css\",\"right_units\":\"screen\",\"top_units\":\"screen\"},\"id\":\"0ab540d4-60dd-4b43-93ae-42842b46483b\",\"type\":\"BoxAnnotation\"},{\"attributes\":{\"legends\":[[\"Explicit\",[{\"id\":\"2a4b5862-d51f-4e57-9595-d1837f80830c\",\"type\":\"GlyphRenderer\"}]],[\"Clean\",[{\"id\":\"e3e2ef3a-5d59-4a30-911f-eff614eed3b4\",\"type\":\"GlyphRenderer\"}]]],\"plot\":{\"id\":\"906090f5-7fc8-4666-bdc4-2cfa29be15ef\",\"subtype\":\"Figure\",\"type\":\"Plot\"}},\"id\":\"b6895d4e-e7ed-4b8b-918b-cbc8affbe69f\",\"type\":\"Legend\"},{\"attributes\":{\"callback\":null,\"column_names\":[\"y\",\"x\"],\"data\":{\"x\":[2003,2017],\"y\":[85.30267121104058,85.30267121104058]}},\"id\":\"bf8a4977-0751-4c71-9b0b-9074a3ac6e57\",\"type\":\"ColumnDataSource\"},{\"attributes\":{\"axis_label\":\"Popularity\",\"formatter\":{\"id\":\"6cdcb055-aa2d-46c1-af3f-33a49b2dfd52\",\"type\":\"BasicTickFormatter\"},\"plot\":{\"id\":\"364976bb-91fe-4abc-8ff2-febda1eb7377\",\"subtype\":\"Figure\",\"type\":\"Plot\"},\"ticker\":{\"id\":\"94230054-7bbf-4a83-9618-20707b10ca3d\",\"type\":\"BasicTicker\"}},\"id\":\"8dbb2fd2-2ed8-4956-a483-18c495aa42ff\",\"type\":\"LinearAxis\"},{\"attributes\":{\"data_source\":{\"id\":\"f569d951-bc7a-4228-adfd-0c1550679aea\",\"type\":\"ColumnDataSource\"},\"glyph\":{\"id\":\"282d310e-41d2-4b6f-a630-81f79ce5888f\",\"type\":\"Line\"},\"hover_glyph\":null,\"nonselection_glyph\":{\"id\":\"b069eade-c057-4519-8fa7-51720e3b91f0\",\"type\":\"Line\"},\"selection_glyph\":null},\"id\":\"77e9925b-f2a0-46b5-8fb7-f1e7b11250b5\",\"type\":\"GlyphRenderer\"},{\"attributes\":{\"bottom\":{\"value\":0},\"fill_alpha\":{\"value\":0.1},\"fill_color\":{\"value\":\"#1f77b4\"},\"left\":{\"field\":\"left\"},\"line_alpha\":{\"value\":0.1},\"line_color\":{\"value\":\"#1f77b4\"},\"right\":{\"field\":\"right\"},\"top\":{\"field\":\"top\"}},\"id\":\"9eac6070-26f0-4bfa-bfc5-de687578703f\",\"type\":\"Quad\"},{\"attributes\":{\"axis_label\":\"Solo Popularity\",\"formatter\":{\"id\":\"fed0dc9c-9b76-45d0-86e8-94e984ac2048\",\"type\":\"BasicTickFormatter\"},\"plot\":{\"id\":\"42d95f82-ea66-4636-bfa0-901593efc674\",\"subtype\":\"Figure\",\"type\":\"Plot\"},\"ticker\":{\"id\":\"022fdb79-819b-45c0-8e9b-939188ce8e69\",\"type\":\"BasicTicker\"}},\"id\":\"5a85af9d-bc4e-4440-bae5-b5a1051916c3\",\"type\":\"LinearAxis\"},{\"attributes\":{\"bottom_units\":\"screen\",\"fill_alpha\":{\"value\":0.5},\"fill_color\":{\"value\":\"lightgrey\"},\"left_units\":\"screen\",\"level\":\"overlay\",\"line_alpha\":{\"value\":1.0},\"line_color\":{\"value\":\"black\"},\"line_dash\":[4,4],\"line_width\":{\"value\":2},\"plot\":null,\"render_mode\":\"css\",\"right_units\":\"screen\",\"top_units\":\"screen\"},\"id\":\"8faf5abc-f08d-42c3-9ba0-c9bc93a9766f\",\"type\":\"BoxAnnotation\"},{\"attributes\":{\"plot\":{\"id\":\"906090f5-7fc8-4666-bdc4-2cfa29be15ef\",\"subtype\":\"Figure\",\"type\":\"Plot\"}},\"id\":\"25260aa8-b57d-417c-bcd3-7cf04b9c7790\",\"type\":\"PreviewSaveTool\"},{\"attributes\":{\"line_color\":{\"value\":\"red\"},\"line_dash\":[4,4],\"line_width\":{\"value\":2},\"x\":{\"field\":\"x\"},\"y\":{\"field\":\"y\"}},\"id\":\"0b962307-9160-4ee7-939c-924d641dfb45\",\"type\":\"Line\"},{\"attributes\":{},\"id\":\"5b21ff67-1da5-4e80-9dfd-cf74605b6093\",\"type\":\"ToolEvents\"},{\"attributes\":{},\"id\":\"b63f156d-09af-459a-adfe-ba877dcf6a9c\",\"type\":\"ToolEvents\"},{\"attributes\":{\"data_source\":{\"id\":\"7cafff3f-cc2c-4396-b56e-8e70b1a03750\",\"type\":\"ColumnDataSource\"},\"glyph\":{\"id\":\"ede7b73d-6e5a-4af0-bece-2d55cd0aeab0\",\"type\":\"Line\"},\"hover_glyph\":null,\"nonselection_glyph\":{\"id\":\"be1bdf93-4fb1-4c1a-8695-949e51b650ee\",\"type\":\"Line\"},\"selection_glyph\":null},\"id\":\"3f19a137-cea4-4ae4-b71a-689bae15af3c\",\"type\":\"GlyphRenderer\"},{\"attributes\":{\"fill_alpha\":{\"value\":0.1},\"fill_color\":{\"value\":\"#1f77b4\"},\"line_alpha\":{\"value\":0.1},\"line_color\":{\"value\":\"#1f77b4\"},\"size\":{\"units\":\"screen\",\"value\":12},\"x\":{\"field\":\"x\"},\"y\":{\"field\":\"y\"}},\"id\":\"0a493156-0d61-4d25-8f2e-784843e7b737\",\"type\":\"Circle\"},{\"attributes\":{\"callback\":null,\"column_names\":[\"y\",\"x\"],\"data\":{\"x\":[-1,45],\"y\":[60.626666666666665,60.626666666666665]}},\"id\":\"ab20128b-3528-44cc-b179-ca44ccce0c3d\",\"type\":\"ColumnDataSource\"},{\"attributes\":{\"data_source\":{\"id\":\"b8b5a027-bcde-4ea1-a237-56d7293523ee\",\"type\":\"ColumnDataSource\"},\"glyph\":{\"id\":\"583de0a9-0786-450f-9602-291768ac71b1\",\"type\":\"Line\"},\"hover_glyph\":null,\"nonselection_glyph\":{\"id\":\"516080b1-c70f-487e-b75d-023d423eb583\",\"type\":\"Line\"},\"selection_glyph\":null},\"id\":\"92de2698-fdef-432c-95bd-75feeaf9cd18\",\"type\":\"GlyphRenderer\"},{\"attributes\":{\"fill_color\":{\"value\":\"cyan\"},\"line_color\":{\"value\":\"cyan\"},\"size\":{\"units\":\"screen\",\"value\":15},\"x\":{\"value\":2007},\"y\":{\"value\":80.0}},\"id\":\"6369c6b0-b491-4b6c-adcc-6daf3d64493d\",\"type\":\"Circle\"},{\"attributes\":{\"callback\":null},\"id\":\"bd0684ec-1a16-45da-8c5c-043f9f4f750e\",\"type\":\"DataRange1d\"},{\"attributes\":{\"fill_alpha\":{\"value\":0.1},\"fill_color\":{\"value\":\"#1f77b4\"},\"line_alpha\":{\"value\":0.1},\"line_color\":{\"value\":\"#1f77b4\"},\"size\":{\"units\":\"screen\",\"value\":7},\"x\":{\"field\":\"x\"},\"y\":{\"field\":\"y\"}},\"id\":\"3b2ba5c6-b3b2-42b6-8733-3444fb9a958c\",\"type\":\"Circle\"},{\"attributes\":{\"dimension\":1,\"plot\":{\"id\":\"4ffbe01a-4dc5-41a4-b3e4-1da56420e097\",\"subtype\":\"Figure\",\"type\":\"Plot\"},\"ticker\":{\"id\":\"326cb5cc-fd5b-4b94-b6b4-e252f5a1b784\",\"type\":\"BasicTicker\"}},\"id\":\"b5263ce3-d157-4113-9720-5cab6496cfbc\",\"type\":\"Grid\"},{\"attributes\":{\"legends\":[[\"Explicit\",[{\"id\":\"d9db22cc-e762-45a1-95a2-cbc5343ec96c\",\"type\":\"GlyphRenderer\"}]],[\"Clean\",[{\"id\":\"2f220f79-a3cb-454a-b987-d348cb0553e2\",\"type\":\"GlyphRenderer\"}]]],\"plot\":{\"id\":\"fa223b75-3433-4548-8291-731dae75b280\",\"subtype\":\"Figure\",\"type\":\"Plot\"}},\"id\":\"f699d395-afb0-4f13-86f2-0a2671e20b39\",\"type\":\"Legend\"},{\"attributes\":{\"line_color\":{\"value\":\"red\"},\"line_width\":{\"value\":2},\"x\":{\"field\":\"x\"},\"y\":{\"field\":\"y\"}},\"id\":\"45993d78-6016-4ea7-be4a-d006151d375e\",\"type\":\"Line\"},{\"attributes\":{\"axis_label\":\"Popularity\",\"formatter\":{\"id\":\"a87e92e8-ba53-477d-90ea-d54c5723a229\",\"type\":\"BasicTickFormatter\"},\"plot\":{\"id\":\"c3c0eb43-d653-4732-99f4-363b81ebfd66\",\"subtype\":\"Figure\",\"type\":\"Plot\"},\"ticker\":{\"id\":\"215f32d7-14a9-4260-af2f-0f6f0fe76959\",\"type\":\"BasicTicker\"}},\"id\":\"30577a23-4cf0-40ef-a9c2-50f2fbdb1fce\",\"type\":\"LinearAxis\"},{\"attributes\":{},\"id\":\"aafccb55-2e25-466b-b3de-99311f73c403\",\"type\":\"BasicTicker\"},{\"attributes\":{\"callback\":null,\"column_names\":[\"y\",\"x\"],\"data\":{\"x\":[-1,45],\"y\":[46.865103447968636,46.865103447968636]}},\"id\":\"7b212631-2dd5-4184-8397-3c92160d63e1\",\"type\":\"ColumnDataSource\"},{\"attributes\":{\"line_alpha\":{\"value\":0.1},\"line_color\":{\"value\":\"#1f77b4\"},\"line_dash\":[4,4],\"line_width\":{\"value\":2},\"x\":{\"field\":\"x\"},\"y\":{\"field\":\"y\"}},\"id\":\"6509a696-5b84-469f-b150-89d6429b7180\",\"type\":\"Line\"},{\"attributes\":{\"fill_alpha\":{\"value\":0.4},\"fill_color\":{\"field\":\"fill_color\"},\"line_color\":{\"field\":\"line_color\"},\"size\":{\"units\":\"screen\",\"value\":7},\"x\":{\"field\":\"x\"},\"y\":{\"field\":\"y\"}},\"id\":\"babd31c0-7445-4d40-88b2-65d9fa85d0ba\",\"type\":\"Circle\"},{\"attributes\":{\"fill_color\":{\"value\":\"black\"},\"size\":{\"units\":\"screen\",\"value\":10},\"x\":{\"field\":\"x\"},\"y\":{\"field\":\"y\"}},\"id\":\"db1bb9a8-884a-430c-b1a6-58a73d812177\",\"type\":\"Circle\"},{\"attributes\":{\"plot\":{\"id\":\"4ec5713c-3a2c-479d-9d6e-f0ce4a54d454\",\"subtype\":\"Figure\",\"type\":\"Plot\"}},\"id\":\"683f3913-5159-4950-b325-32fa6c23d203\",\"type\":\"PreviewSaveTool\"},{\"attributes\":{\"callback\":null,\"plot\":{\"id\":\"c7e8162f-cc19-4796-bd8e-4bc85c8da834\",\"subtype\":\"Figure\",\"type\":\"Plot\"},\"tooltips\":[[\"Collaborator\",\"@person\"]]},\"id\":\"ec261d8c-089b-4f87-b059-6d048b658bd6\",\"type\":\"HoverTool\"},{\"attributes\":{\"bottom_units\":\"screen\",\"fill_alpha\":{\"value\":0.5},\"fill_color\":{\"value\":\"lightgrey\"},\"left_units\":\"screen\",\"level\":\"overlay\",\"line_alpha\":{\"value\":1.0},\"line_color\":{\"value\":\"black\"},\"line_dash\":[4,4],\"line_width\":{\"value\":2},\"plot\":null,\"render_mode\":\"css\",\"right_units\":\"screen\",\"top_units\":\"screen\"},\"id\":\"6442f5ed-cfd3-4b2f-b015-66f324f0d39a\",\"type\":\"BoxAnnotation\"},{\"attributes\":{\"plot\":{\"id\":\"4ec5713c-3a2c-479d-9d6e-f0ce4a54d454\",\"subtype\":\"Figure\",\"type\":\"Plot\"}},\"id\":\"33c6e98b-bde0-4721-b85c-71e490d056d7\",\"type\":\"WheelZoomTool\"},{\"attributes\":{\"line_alpha\":{\"value\":0.1},\"line_color\":{\"value\":\"#1f77b4\"},\"line_width\":{\"value\":2},\"x\":{\"field\":\"x\"},\"y\":{\"field\":\"y\"}},\"id\":\"4233f7d2-049a-4cf2-b5a3-0cef9cb5899c\",\"type\":\"Line\"},{\"attributes\":{\"callback\":null},\"id\":\"7ca9e2e5-a9f7-42ac-a7a0-ffee5d128f99\",\"type\":\"DataRange1d\"},{\"attributes\":{\"dimension\":1,\"plot\":{\"id\":\"5763382d-75de-4932-aa18-5d1f033657d2\",\"subtype\":\"Figure\",\"type\":\"Plot\"},\"ticker\":{\"id\":\"88d1fc45-e2aa-4b66-9f83-33729e6f2aca\",\"type\":\"BasicTicker\"}},\"id\":\"3d8f2de1-b83a-456c-81a9-8a2733106b28\",\"type\":\"Grid\"},{\"attributes\":{},\"id\":\"71c591c6-51f1-4058-a975-ec54d044b448\",\"type\":\"ToolEvents\"},{\"attributes\":{\"dimension\":1,\"plot\":{\"id\":\"077763eb-d52b-42ce-8454-df4a37e542ba\",\"subtype\":\"Figure\",\"type\":\"Plot\"},\"ticker\":{\"id\":\"23e7e737-2ddd-48d5-ae88-56792986875b\",\"type\":\"BasicTicker\"}},\"id\":\"8b3301a4-6966-4657-b643-d00a416c57c7\",\"type\":\"Grid\"},{\"attributes\":{},\"id\":\"e177a795-aac3-4f7c-bedd-39ae66681936\",\"type\":\"BasicTickFormatter\"},{\"attributes\":{},\"id\":\"03d76e0d-2be2-467a-9b66-df73f068a930\",\"type\":\"ToolEvents\"},{\"attributes\":{},\"id\":\"77887fb0-9d53-46d1-86b9-db4f2d3780bf\",\"type\":\"ToolEvents\"},{\"attributes\":{\"below\":[{\"id\":\"6a7220b0-1192-4297-98e1-09aad97dfe2b\",\"type\":\"LinearAxis\"}],\"left\":[{\"id\":\"1c87e970-4161-41bc-81d9-f992b3383d41\",\"type\":\"LinearAxis\"}],\"plot_height\":400,\"renderers\":[{\"id\":\"6a7220b0-1192-4297-98e1-09aad97dfe2b\",\"type\":\"LinearAxis\"},{\"id\":\"c085bb71-5d41-43dc-89fa-6c8d56fb85cc\",\"type\":\"Grid\"},{\"id\":\"1c87e970-4161-41bc-81d9-f992b3383d41\",\"type\":\"LinearAxis\"},{\"id\":\"5f4f7334-9366-4ae6-be18-f80856d66c2c\",\"type\":\"Grid\"},{\"id\":\"70a686fb-3c3a-43b7-b77f-6d7e15a3618f\",\"type\":\"BoxAnnotation\"},{\"id\":\"5b9408c2-47b1-44cc-b87f-b1b8d1e4ce6e\",\"type\":\"GlyphRenderer\"},{\"id\":\"2af78704-e61b-4186-a7c3-69dcb56ca729\",\"type\":\"GlyphRenderer\"}],\"tool_events\":{\"id\":\"5a561244-f0cf-4758-99f7-4a640a3aa7e9\",\"type\":\"ToolEvents\"},\"tools\":[{\"id\":\"3a6524fc-989f-47fe-bf83-515fae53fc43\",\"type\":\"BoxZoomTool\"},{\"id\":\"4a7e5b4e-30a9-4f96-ad96-7197dc83419b\",\"type\":\"ResetTool\"},{\"id\":\"747937f4-6eed-4554-8fe6-a0cd1128f80a\",\"type\":\"HoverTool\"}],\"x_range\":{\"id\":\"eb2b8e5d-d96c-46ba-b015-e901a0569480\",\"type\":\"DataRange1d\"},\"y_range\":{\"id\":\"6317a972-20be-4147-bfe3-654bfae34b17\",\"type\":\"DataRange1d\"}},\"id\":\"3616ae36-d489-4dc8-b94e-8f7dbc10e264\",\"subtype\":\"Figure\",\"type\":\"Plot\"},{\"attributes\":{\"below\":[{\"id\":\"c118da28-b11d-4df7-a002-8f4263bb28ba\",\"type\":\"LinearAxis\"}],\"left\":[{\"id\":\"9d11a10a-c24d-4474-82cc-4ad1e94a9d28\",\"type\":\"LinearAxis\"}],\"plot_height\":500,\"renderers\":[{\"id\":\"c118da28-b11d-4df7-a002-8f4263bb28ba\",\"type\":\"LinearAxis\"},{\"id\":\"d50bd70c-2e98-4cd3-a910-6bc4836424cd\",\"type\":\"Grid\"},{\"id\":\"9d11a10a-c24d-4474-82cc-4ad1e94a9d28\",\"type\":\"LinearAxis\"},{\"id\":\"9af2c3bf-3637-4b1d-96af-3ba0eb0ee5c7\",\"type\":\"Grid\"},{\"id\":\"c412ae3a-3c1f-4ea9-93ed-bbdbaebd67ae\",\"type\":\"BoxAnnotation\"},{\"id\":\"676faa88-3048-4462-bf92-c4a1e1121f24\",\"type\":\"GlyphRenderer\"},{\"id\":\"88fe1698-a13b-463b-8936-67b1c6950d59\",\"type\":\"GlyphRenderer\"},{\"id\":\"3f19a137-cea4-4ae4-b71a-689bae15af3c\",\"type\":\"GlyphRenderer\"},{\"id\":\"c4e18533-65d7-4931-822d-120d16d0e6d1\",\"type\":\"GlyphRenderer\"},{\"id\":\"5aaf8ee7-79b8-4575-9721-c73b71df4afd\",\"type\":\"GlyphRenderer\"}],\"tool_events\":{\"id\":\"e977185b-cd0b-44d5-8417-a47903e4e205\",\"type\":\"ToolEvents\"},\"tools\":[{\"id\":\"c72afe66-3502-4b22-9bf7-f797f93628de\",\"type\":\"BoxZoomTool\"},{\"id\":\"1171bd5e-0f2e-43ba-b804-23c89681678d\",\"type\":\"ResetTool\"},{\"id\":\"f06d22d4-f0bc-460b-ae2e-21e1f2b8a9a5\",\"type\":\"HoverTool\"}],\"x_range\":{\"id\":\"bd0684ec-1a16-45da-8c5c-043f9f4f750e\",\"type\":\"DataRange1d\"},\"y_range\":{\"id\":\"5475e486-e667-41c7-8ea8-3a249572fe06\",\"type\":\"DataRange1d\"}},\"id\":\"0218e7c7-c2e7-440c-a494-9b99e502f7a8\",\"subtype\":\"Figure\",\"type\":\"Plot\"},{\"attributes\":{\"callback\":null},\"id\":\"5cbc0cb8-8769-42d1-b165-ec106a7a1aba\",\"type\":\"DataRange1d\"},{\"attributes\":{\"line_alpha\":{\"value\":0.1},\"line_color\":{\"value\":\"#1f77b4\"},\"line_width\":{\"value\":2},\"x\":{\"field\":\"x\"},\"y\":{\"field\":\"y\"}},\"id\":\"12b34d8e-74b4-4d16-b177-137494282649\",\"type\":\"Line\"},{\"attributes\":{\"plot\":{\"id\":\"fa223b75-3433-4548-8291-731dae75b280\",\"subtype\":\"Figure\",\"type\":\"Plot\"}},\"id\":\"51e582db-1565-4339-8cc8-9de43a39f28b\",\"type\":\"PreviewSaveTool\"},{\"attributes\":{\"data_source\":{\"id\":\"986706bf-0441-4db5-9c43-7ee43a8c9815\",\"type\":\"ColumnDataSource\"},\"glyph\":{\"id\":\"aa415815-b3b5-4549-b620-904bb7db6ed6\",\"type\":\"Circle\"},\"hover_glyph\":null,\"nonselection_glyph\":{\"id\":\"49101cf1-65ba-43ad-9b60-1eb0983a80a3\",\"type\":\"Circle\"},\"selection_glyph\":null},\"id\":\"486935c5-a3a6-4832-9ff5-148a6c1218db\",\"type\":\"GlyphRenderer\"},{\"attributes\":{\"callback\":null,\"column_names\":[\"right\",\"top\",\"left\"],\"data\":{\"left\":[0.0,4.0,8.0,12.0,16.0,20.0,24.0,28.0,32.0,36.0,40.0,44.0,48.0,52.0,56.0,60.0,64.0,68.0,72.0,76.0,80.0,84.0,88.0,92.0,96.0],\"right\":[4.0,8.0,12.0,16.0,20.0,24.0,28.0,32.0,36.0,40.0,44.0,48.0,52.0,56.0,60.0,64.0,68.0,72.0,76.0,80.0,84.0,88.0,92.0,96.0,100.0],\"top\":[0,0,0,1,0,0,0,0,0,0,0,0,6,9,18,6,3,2,0,1,0,0,0,0,0]}},\"id\":\"4834b0f2-ad3c-4577-b5dd-0fc7e4147b62\",\"type\":\"ColumnDataSource\"},{\"attributes\":{\"overlay\":{\"id\":\"7bb7d5ff-df63-4766-b8e0-dca83ddc9de1\",\"type\":\"BoxAnnotation\"},\"plot\":{\"id\":\"077763eb-d52b-42ce-8454-df4a37e542ba\",\"subtype\":\"Figure\",\"type\":\"Plot\"}},\"id\":\"d427c91e-8f85-41dc-9c5a-561beac9c68a\",\"type\":\"BoxZoomTool\"},{\"attributes\":{\"data_source\":{\"id\":\"53f6a3df-8b76-4aa3-83c1-2fcec32da48d\",\"type\":\"ColumnDataSource\"},\"glyph\":{\"id\":\"94c6f3bf-1f3f-43ce-9bd6-c0f525e9d8c3\",\"type\":\"Circle\"},\"hover_glyph\":null,\"nonselection_glyph\":{\"id\":\"d5808149-3157-4876-9842-e08a941ff339\",\"type\":\"Circle\"},\"selection_glyph\":null},\"id\":\"87c620db-bc3a-477d-ab03-1094b3cdd94f\",\"type\":\"GlyphRenderer\"},{\"attributes\":{\"plot\":{\"id\":\"4ec5713c-3a2c-479d-9d6e-f0ce4a54d454\",\"subtype\":\"Figure\",\"type\":\"Plot\"},\"ticker\":{\"id\":\"8cf7ab97-6c8d-4a06-908f-b766d6277916\",\"type\":\"BasicTicker\"}},\"id\":\"1b30ac20-b372-456e-9fed-87a4d58905a4\",\"type\":\"Grid\"},{\"attributes\":{\"fill_alpha\":{\"value\":0.1},\"fill_color\":{\"value\":\"#1f77b4\"},\"line_alpha\":{\"value\":0.1},\"line_color\":{\"value\":\"#1f77b4\"},\"size\":{\"units\":\"screen\",\"value\":15},\"x\":{\"value\":2007},\"y\":{\"value\":80.0}},\"id\":\"892d169d-b95d-4203-83b2-f0276ad153bd\",\"type\":\"Circle\"},{\"attributes\":{\"callback\":null,\"column_names\":[\"y\",\"x\"],\"data\":{\"x\":[19.0,20.0,21.0,22.0,23.0,24.0,25.0,26.0,27.0,28.0,29.0,30.0,31.0,32.0,33.0,34.0,35.0,36.0,37.0,38.0,39.0],\"y\":[32.527343784531354,32.81836204361749,33.10938030270363,33.400398561789764,33.6914168208759,33.98243507996203,34.27345333904817,34.564471598134304,34.85548985722044,35.14650811630658,35.437526375392714,35.72854463447885,36.01956289356498,36.310581152651125,36.601599411737254,36.89261767082339,37.18363592990953,37.474654188995665,37.7656724480818,38.05669070716794,38.347708966254075]}},\"id\":\"06dc5dc8-940e-4581-af59-69cad1660948\",\"type\":\"ColumnDataSource\"},{\"attributes\":{\"fill_alpha\":{\"value\":0.4},\"fill_color\":{\"field\":\"fill_color\"},\"line_color\":{\"field\":\"line_color\"},\"size\":{\"units\":\"screen\",\"value\":7},\"x\":{\"field\":\"x\"},\"y\":{\"field\":\"y\"}},\"id\":\"390b642d-a08b-425b-8781-a1f3a350b6ce\",\"type\":\"Circle\"},{\"attributes\":{\"line_color\":{\"value\":\"red\"},\"line_width\":{\"value\":2},\"x\":{\"field\":\"x\"},\"y\":{\"field\":\"y\"}},\"id\":\"f354283a-999c-4196-a9ad-89c2055db6fe\",\"type\":\"Line\"},{\"attributes\":{},\"id\":\"0795ba7f-0dac-44d2-8e12-8200c0e1237a\",\"type\":\"BasicTicker\"},{\"attributes\":{\"fill_color\":{\"value\":\"gold\"},\"line_color\":{\"value\":\"gold\"},\"size\":{\"units\":\"screen\",\"value\":12},\"x\":{\"field\":\"x\"},\"y\":{\"field\":\"y\"}},\"id\":\"12d865e2-2c3b-49ef-aa45-23fbdc691334\",\"type\":\"Circle\"},{\"attributes\":{\"axis_label\":\"Mean Popularity of Collaboration\",\"formatter\":{\"id\":\"33c7be18-0d55-4efc-af65-bc6e5923f5ef\",\"type\":\"BasicTickFormatter\"},\"plot\":{\"id\":\"c7e8162f-cc19-4796-bd8e-4bc85c8da834\",\"subtype\":\"Figure\",\"type\":\"Plot\"},\"ticker\":{\"id\":\"bb60433c-8384-4f29-a487-69bd8e59114d\",\"type\":\"BasicTicker\"}},\"id\":\"4b864a1d-f411-42e7-a603-90f1503f0919\",\"type\":\"LinearAxis\"},{\"attributes\":{\"fill_alpha\":{\"value\":0.1},\"fill_color\":{\"value\":\"#1f77b4\"},\"line_alpha\":{\"value\":0.1},\"line_color\":{\"value\":\"#1f77b4\"},\"size\":{\"units\":\"screen\",\"value\":7},\"x\":{\"field\":\"x\"},\"y\":{\"field\":\"y\"}},\"id\":\"2bc3bf83-1dec-4b73-9bd4-5d2716035c66\",\"type\":\"Circle\"},{\"attributes\":{},\"id\":\"426080a3-4fdb-402d-9c67-c62fcf994183\",\"type\":\"ToolEvents\"},{\"attributes\":{\"callback\":null,\"plot\":{\"id\":\"58361c2d-9a21-4f09-9573-41312e1214d0\",\"subtype\":\"Figure\",\"type\":\"Plot\"},\"tooltips\":[[\"Collaborator\",\"@person\"]]},\"id\":\"9c2de1ad-b699-41f7-8f97-1d1bed4639a0\",\"type\":\"HoverTool\"},{\"attributes\":{},\"id\":\"c76ed546-f702-4d23-a592-c54abc00b74c\",\"type\":\"BasicTickFormatter\"},{\"attributes\":{\"fill_color\":{\"value\":\"gold\"},\"line_color\":{\"value\":\"gold\"},\"size\":{\"units\":\"screen\",\"value\":12},\"x\":{\"field\":\"x\"},\"y\":{\"field\":\"y\"}},\"id\":\"b497c003-40cf-46cf-b10c-f48a12bbf794\",\"type\":\"Circle\"},{\"attributes\":{\"axis_label\":\"Popularity\",\"formatter\":{\"id\":\"e8d56b36-8b5a-407b-b035-25afb3a5b586\",\"type\":\"BasicTickFormatter\"},\"plot\":{\"id\":\"00954d86-a32b-49f4-b0b3-c33b05112bed\",\"subtype\":\"Figure\",\"type\":\"Plot\"},\"ticker\":{\"id\":\"f4919ead-faa7-494a-91b7-7d9a9b8cd8c0\",\"type\":\"BasicTicker\"}},\"id\":\"33ff9d8b-d916-402e-a68b-9c2f30e2a9db\",\"type\":\"LinearAxis\"},{\"attributes\":{\"callback\":null},\"id\":\"eb2b8e5d-d96c-46ba-b015-e901a0569480\",\"type\":\"DataRange1d\"},{\"attributes\":{\"data_source\":{\"id\":\"eb21d5c6-d760-4586-b020-8d8b177a34c4\",\"type\":\"ColumnDataSource\"},\"glyph\":{\"id\":\"b497c003-40cf-46cf-b10c-f48a12bbf794\",\"type\":\"Circle\"},\"hover_glyph\":null,\"nonselection_glyph\":{\"id\":\"0a493156-0d61-4d25-8f2e-784843e7b737\",\"type\":\"Circle\"},\"selection_glyph\":null},\"id\":\"28f1295a-b65b-4e95-82df-e8d08da60892\",\"type\":\"GlyphRenderer\"},{\"attributes\":{\"data_source\":{\"id\":\"7de05399-76ba-4d50-ae63-09b72816b785\",\"type\":\"ColumnDataSource\"},\"glyph\":{\"id\":\"babd31c0-7445-4d40-88b2-65d9fa85d0ba\",\"type\":\"Circle\"},\"hover_glyph\":null,\"nonselection_glyph\":{\"id\":\"2bc3bf83-1dec-4b73-9bd4-5d2716035c66\",\"type\":\"Circle\"},\"selection_glyph\":null},\"id\":\"b6634ee4-7b28-4033-9696-10108a61d3d7\",\"type\":\"GlyphRenderer\"},{\"attributes\":{\"overlay\":{\"id\":\"56f1af86-e4a5-441e-b557-1f49f9a7193d\",\"type\":\"BoxAnnotation\"},\"plot\":{\"id\":\"d88ffe13-3f11-4938-b3bf-6ca710b53c87\",\"subtype\":\"Figure\",\"type\":\"Plot\"}},\"id\":\"11351d40-797f-4e55-9859-fd30db144f45\",\"type\":\"BoxZoomTool\"},{\"attributes\":{\"line_color\":{\"value\":\"red\"},\"line_dash\":[4,4],\"line_width\":{\"value\":2},\"x\":{\"field\":\"x\"},\"y\":{\"field\":\"y\"}},\"id\":\"a5922b96-1715-4b87-81e8-abaaee9f4314\",\"type\":\"Line\"},{\"attributes\":{\"bottom\":{\"value\":0},\"fill_color\":{\"value\":\"white\"},\"left\":{\"field\":\"left\"},\"line_color\":{\"value\":\"red\"},\"right\":{\"field\":\"right\"},\"top\":{\"field\":\"top\"}},\"id\":\"7620232d-cfff-4f76-9bb5-1b6dc72642d7\",\"type\":\"Quad\"},{\"attributes\":{\"axis_label\":\"Popularity\",\"formatter\":{\"id\":\"bf95460d-d93a-4f6d-9422-70f4938d900d\",\"type\":\"BasicTickFormatter\"},\"plot\":{\"id\":\"92b5ec37-ca99-4256-98f6-89b3d5e02eb3\",\"subtype\":\"Figure\",\"type\":\"Plot\"},\"ticker\":{\"id\":\"1a91aedc-3af4-4d52-ad69-00ddddf41191\",\"type\":\"BasicTicker\"}},\"id\":\"ebffbba0-a95c-4147-9f5f-662d510a159d\",\"type\":\"LinearAxis\"},{\"attributes\":{\"callback\":null,\"plot\":{\"id\":\"3fcbd322-bcc0-44be-a67c-49e08ce201f3\",\"subtype\":\"Figure\",\"type\":\"Plot\"},\"tooltips\":[[\"Collaborator\",\"@person\"]]},\"id\":\"edfee1a9-e8b6-4db0-a651-9fbf8abaf370\",\"type\":\"HoverTool\"},{\"attributes\":{\"callback\":null,\"column_names\":[\"y\",\"x\"],\"data\":{\"x\":[-1,130],\"y\":[24.416696822020846,24.416696822020846]}},\"id\":\"38590e56-0dbe-47c0-9975-eaaa25b6fdcd\",\"type\":\"ColumnDataSource\"},{\"attributes\":{\"callback\":null,\"column_names\":[\"y\",\"x\"],\"data\":{\"x\":[-1,45],\"y\":[74.3882298853647,74.3882298853647]}},\"id\":\"440cef14-eb19-4375-ad59-c6fef8bdd21e\",\"type\":\"ColumnDataSource\"},{\"attributes\":{\"data_source\":{\"id\":\"a85a8151-2e4c-458d-b583-5a7e3882aecb\",\"type\":\"ColumnDataSource\"},\"glyph\":{\"id\":\"dc313c07-185f-4571-b36c-5396018b4dbc\",\"type\":\"Line\"},\"hover_glyph\":null,\"nonselection_glyph\":{\"id\":\"9bfc374b-ae32-445b-9236-9ca03ac101a2\",\"type\":\"Line\"},\"selection_glyph\":null},\"id\":\"d7337c1c-980c-4ca6-8011-4297728e76a7\",\"type\":\"GlyphRenderer\"},{\"attributes\":{\"below\":[{\"id\":\"d6e19fa4-6a5d-49dc-9a19-a9e542006cd0\",\"type\":\"LinearAxis\"}],\"left\":[{\"id\":\"82a7a969-3134-4e82-8861-5513f58d3268\",\"type\":\"LinearAxis\"}],\"plot_height\":500,\"renderers\":[{\"id\":\"d6e19fa4-6a5d-49dc-9a19-a9e542006cd0\",\"type\":\"LinearAxis\"},{\"id\":\"67624c49-aa64-4391-88ed-d91153e6a695\",\"type\":\"Grid\"},{\"id\":\"82a7a969-3134-4e82-8861-5513f58d3268\",\"type\":\"LinearAxis\"},{\"id\":\"9c20f8bd-6da4-4ab6-afc1-a77ed26c4be2\",\"type\":\"Grid\"},{\"id\":\"788ea862-834d-4546-8b96-8a45edc9bdd0\",\"type\":\"BoxAnnotation\"},{\"id\":\"4e91a7d7-b2d2-4728-bafe-6df624ad61fb\",\"type\":\"GlyphRenderer\"},{\"id\":\"da1abfb6-b0f1-4500-bb17-cc10ac0adc8b\",\"type\":\"GlyphRenderer\"},{\"id\":\"f4020076-f2b5-4f27-9be8-f5efc6be6f80\",\"type\":\"GlyphRenderer\"},{\"id\":\"3e1ddf40-b1cd-4afb-bb0a-3f6e88b257a9\",\"type\":\"GlyphRenderer\"},{\"id\":\"c6e16a99-eed3-433d-a212-1fe5aaba5202\",\"type\":\"GlyphRenderer\"}],\"tool_events\":{\"id\":\"367d85c3-94a8-4581-bd1c-a048d36b9694\",\"type\":\"ToolEvents\"},\"tools\":[{\"id\":\"210bb3fe-07d3-4659-bda0-f23befda4897\",\"type\":\"BoxZoomTool\"},{\"id\":\"fca8ec99-62f5-4514-8ea3-bc190dae4d97\",\"type\":\"ResetTool\"},{\"id\":\"bce8bc42-57c6-4c1f-9150-6875568a6b81\",\"type\":\"HoverTool\"}],\"x_range\":{\"id\":\"58ab02c7-22ba-468f-babc-cce38ff7bfeb\",\"type\":\"DataRange1d\"},\"y_range\":{\"id\":\"c0aeac93-887f-4bf5-b600-69c9d17cf869\",\"type\":\"DataRange1d\"}},\"id\":\"808beac1-0692-49c6-a2e3-ecf0db7e7de9\",\"subtype\":\"Figure\",\"type\":\"Plot\"},{\"attributes\":{\"data_source\":{\"id\":\"3232cc53-c7a2-4d47-9433-534119a1e029\",\"type\":\"ColumnDataSource\"},\"glyph\":{\"id\":\"eb70162f-28b4-4fec-9a3f-4fbc03c6a8eb\",\"type\":\"Quad\"},\"hover_glyph\":null,\"nonselection_glyph\":{\"id\":\"7e8dfe79-41b1-4e6a-9b97-1aa3f3cf1b64\",\"type\":\"Quad\"},\"selection_glyph\":null},\"id\":\"e0f63ab5-f49e-4218-9605-460d30533296\",\"type\":\"GlyphRenderer\"},{\"attributes\":{\"dimension\":1,\"plot\":{\"id\":\"906090f5-7fc8-4666-bdc4-2cfa29be15ef\",\"subtype\":\"Figure\",\"type\":\"Plot\"},\"ticker\":{\"id\":\"be6e8a7d-f431-4ede-bed6-60cd0bb65621\",\"type\":\"BasicTicker\"}},\"id\":\"dcf4f4c4-cf32-422b-8c19-42be7532e8e8\",\"type\":\"Grid\"},{\"attributes\":{\"callback\":null,\"column_names\":[\"y\",\"person\",\"x\"],\"data\":{\"person\":[\"God\",\"JAY Z\",\"Frank Ocean\",\"The-Dream\",\"Beyonce\",\"Otis Redding\",\"Mr Hudson\",\"Kid Cudi\",\"Raekwon\",\"Rick Ross\",\"Nicki Minaj\",\"Bon Iver\",\"Pusha T\",\"Prynce Cy Hi\",\"Swizz Beatz\",\"RZA\",\"John Legend\",\"Jeezy\",\"Lil Wayne\",\"T-Pain\",\"Mos Def\",\"DJ Premier\",\"Chris Martin\",\"Adam Levine\",\"Lupe Fiasco\",\"Jamie Foxx\",\"Paul Wall\",\"GLC\",\"Common\",\"The Game\",\"Brandy\",\"Nas\",\"Really Doe\",\"Consequence\",\"Cam'Ron\",\"Syleena Johnson\",\"J. Ivy\",\"Talib Kweli\",\"Twista\",\"Ludacris\",\"Freeway\",\"The Boys Choir Of Harlem\"],\"x\":[0,1,2,3,4,5,6,7,8,9,10,11,12,13,14,15,16,17,18,19,20,21,22,23,24,25,26,27,28,29,30,31,32,33,34,35,36,37,38,39,40,41],\"y\":[60,55,54,59,52,58,55,59,61,64,68,63,63,58,58,58,59,64,55,67,54,59,13,62,63,69,58,58,54,52,51,53,53,57,56,66,56,57,62,53,53,53]}},\"id\":\"f674587b-77a4-4c18-a60f-9046bd7d75e5\",\"type\":\"ColumnDataSource\"},{\"attributes\":{\"data_source\":{\"id\":\"b5a4c1d5-d2aa-4b59-9abe-d451e77cdc24\",\"type\":\"ColumnDataSource\"},\"glyph\":{\"id\":\"36a5602c-8ff8-4e89-b344-1ca8a63b28e7\",\"type\":\"Quad\"},\"hover_glyph\":null,\"nonselection_glyph\":{\"id\":\"98b075fa-9806-4962-933a-288b9071324c\",\"type\":\"Quad\"},\"selection_glyph\":null},\"id\":\"f5159e69-a60c-475d-9c8f-812e28e00e9b\",\"type\":\"GlyphRenderer\"},{\"attributes\":{\"line_dash\":[4,4],\"line_width\":{\"value\":2},\"x\":{\"field\":\"x\"},\"y\":{\"field\":\"y\"}},\"id\":\"99a68f7c-8399-463d-a234-dad3b1b183ed\",\"type\":\"Line\"},{\"attributes\":{\"fill_color\":{\"value\":\"black\"},\"size\":{\"units\":\"screen\",\"value\":10},\"x\":{\"field\":\"x\"},\"y\":{\"field\":\"y\"}},\"id\":\"06642a94-9d5f-4442-8151-29c63d5b12e8\",\"type\":\"Circle\"},{\"attributes\":{\"callback\":null,\"column_names\":[\"y\",\"x\"],\"data\":{\"x\":[-1,45],\"y\":[56.67391304347826,56.67391304347826]}},\"id\":\"61e0744b-01a4-4e77-9d09-2dbaccacef0f\",\"type\":\"ColumnDataSource\"},{\"attributes\":{},\"id\":\"efaddb0d-15fe-4964-8256-d4c66ad382a9\",\"type\":\"BasicTickFormatter\"},{\"attributes\":{},\"id\":\"3d6cee21-97a9-4b69-812f-f436247d451d\",\"type\":\"BasicTickFormatter\"},{\"attributes\":{\"axis_label\":\"Popularity\",\"formatter\":{\"id\":\"f7ba4e77-ad10-412b-9e84-c24a23afe61c\",\"type\":\"BasicTickFormatter\"},\"plot\":{\"id\":\"906090f5-7fc8-4666-bdc4-2cfa29be15ef\",\"subtype\":\"Figure\",\"type\":\"Plot\"},\"ticker\":{\"id\":\"a4969b78-71da-47fd-89c1-1d3d0c18e5cd\",\"type\":\"BasicTicker\"}},\"id\":\"2e86a37f-f525-4002-a097-89096afeab3c\",\"type\":\"LinearAxis\"},{\"attributes\":{\"callback\":null,\"column_names\":[\"album\",\"y\",\"song\",\"per\",\"x\",\"line_color\",\"fill_color\"],\"data\":{\"album\":[\"Late Registration (Explicit Version)\",\"The College Dropout (Explicit)\",\"My Beautiful Dark Twisted Fantasy (Explicit Version)\",\"My Beautiful Dark Twisted Fantasy (Explicit Version)\",\"Graduation (Explicit Version)\",\"Graduation (Explicit Version)\",\"My Beautiful Dark Twisted Fantasy (Explicit Version)\",\"The College Dropout (Explicit)\",\"Late Registration (Explicit Version)\",\"Graduation (Explicit Version)\",\"Late Registration (Explicit Version)\",\"Graduation (Explicit Version)\",\"Late Registration (Explicit Version)\",\"My Beautiful Dark Twisted Fantasy (Explicit Version)\",\"My Beautiful Dark Twisted Fantasy (Explicit Version)\",\"Late Registration (Explicit Version)\",\"Graduation (Explicit Version)\",\"Graduation (Explicit Version)\",\"The College Dropout (Explicit)\",\"Graduation (Explicit Version)\",\"The College Dropout (Explicit)\",\"Late Registration (Explicit Version)\",\"Late Registration (Explicit Version)\",\"Graduation (Explicit Version)\",\"Graduation (Explicit Version)\",\"My Beautiful Dark Twisted Fantasy (Explicit Version)\",\"Watch The Throne (Explicit Version)\",\"The College Dropout (Explicit)\",\"Late Registration (Explicit Version)\",\"My Beautiful Dark Twisted Fantasy (Explicit Version)\",\"Late Registration (Explicit Version)\",\"Graduation (Explicit Version)\",\"Watch The Throne [Deluxe Edition (Explicit)]\",\"Graduation (Explicit Version)\",\"The College Dropout (Explicit)\",\"Watch The Throne [Deluxe Edition (Explicit)]\",\"The College Dropout (Explicit)\",\"The College Dropout (Explicit)\",\"The College Dropout (Explicit)\",\"Late Registration (Explicit Version)\",\"Watch The Throne (Explicit Version)\",\"The College Dropout (Explicit)\",\"My Beautiful Dark Twisted Fantasy (Explicit Version)\",\"Watch The Throne (Explicit Version)\",\"My Beautiful Dark Twisted Fantasy (Explicit Version)\",\"Watch The Throne (Explicit Version)\",\"Late Registration (Explicit Version)\",\"The College Dropout (Explicit)\",\"Watch The Throne (Explicit Version)\",\"Watch The Throne (Explicit Version)\",\"Watch The Throne (Explicit Version)\",\"Watch The Throne (Explicit Version)\",\"My Beautiful Dark Twisted Fantasy (Explicit Version)\",\"Watch The Throne [Deluxe Edition (Explicit)]\",\"Late Registration (Explicit Version)\",\"My Beautiful Dark Twisted Fantasy (Explicit Version)\",\"The College Dropout (Explicit)\",\"The College Dropout (Explicit)\",\"The College Dropout (Explicit)\",\"Late Registration (Explicit Version)\",\"Late Registration (Explicit Version)\",\"Late Registration (Explicit Version)\",\"Late Registration (Explicit Version)\",\"The College Dropout (Explicit)\",\"My Beautiful Dark Twisted Fantasy (Explicit Version)\",\"The College Dropout (Explicit)\",\"Graduation (Explicit Version)\",\"Watch The Throne (Explicit Version)\",\"Graduation (Explicit Version)\",\"Watch The Throne [Deluxe Edition (Explicit)]\",\"The College Dropout (Explicit)\",\"The College Dropout (Explicit)\",\"Late Registration (Explicit Version)\",\"The College Dropout (Explicit)\",\"Late Registration (Explicit Version)\",\"The College Dropout (Explicit)\",\"Late Registration (Explicit Version)\",\"Watch The Throne (Explicit Version)\",\"Watch The Throne (Explicit Version)\",\"My Beautiful Dark Twisted Fantasy (Explicit Version)\",\"Watch The Throne (Explicit Version)\",\"The College Dropout (Explicit)\"],\"fill_color\":[\"green\",\"purple\",\"blue\",\"blue\",\"red\",\"red\",\"blue\",\"purple\",\"green\",\"red\",\"green\",\"red\",\"green\",\"blue\",\"blue\",\"green\",\"red\",\"red\",\"purple\",\"red\",\"purple\",\"green\",\"green\",\"red\",\"red\",\"blue\",\"cyan\",\"purple\",\"green\",\"blue\",\"green\",\"red\",\"black\",\"red\",\"purple\",\"black\",\"purple\",\"purple\",\"purple\",\"green\",\"cyan\",\"purple\",\"blue\",\"cyan\",\"blue\",\"cyan\",\"green\",\"purple\",\"cyan\",\"cyan\",\"cyan\",\"cyan\",\"blue\",\"black\",\"green\",\"blue\",\"purple\",\"purple\",\"purple\",\"green\",\"green\",\"green\",\"green\",\"purple\",\"blue\",\"purple\",\"red\",\"cyan\",\"red\",\"black\",\"purple\",\"purple\",\"green\",\"purple\",\"green\",\"purple\",\"green\",\"cyan\",\"cyan\",\"blue\",\"cyan\",\"purple\"],\"line_color\":[\"green\",\"purple\",\"blue\",\"blue\",\"red\",\"red\",\"blue\",\"purple\",\"green\",\"red\",\"green\",\"red\",\"green\",\"blue\",\"blue\",\"green\",\"red\",\"red\",\"purple\",\"red\",\"purple\",\"green\",\"green\",\"red\",\"red\",\"blue\",\"cyan\",\"purple\",\"green\",\"blue\",\"green\",\"red\",\"black\",\"red\",\"purple\",\"black\",\"purple\",\"purple\",\"purple\",\"green\",\"cyan\",\"purple\",\"blue\",\"cyan\",\"blue\",\"cyan\",\"green\",\"purple\",\"cyan\",\"cyan\",\"cyan\",\"cyan\",\"blue\",\"black\",\"green\",\"blue\",\"purple\",\"purple\",\"purple\",\"green\",\"green\",\"green\",\"green\",\"purple\",\"blue\",\"purple\",\"red\",\"cyan\",\"red\",\"black\",\"purple\",\"purple\",\"green\",\"purple\",\"green\",\"purple\",\"green\",\"cyan\",\"cyan\",\"blue\",\"cyan\",\"purple\"],\"per\":[0.4444444444444444,0.4696969696969697,0.4,0.48214285714285715,0.5535714285714286,0.38181818181818183,0.5254237288135594,0.5849056603773585,0.45098039215686275,0.4057971014492754,0.47058823529411764,0.41935483870967744,0.4423076923076923,0.49206349206349204,0.5,0.43103448275862066,0.6,0.5423728813559322,0.5172413793103449,0.45454545454545453,0.5087719298245614,0.39473684210526316,0.42857142857142855,0.3880597014925373,0.49206349206349204,0.4918032786885246,0.5396825396825397,0.6346153846153846,0.3709677419354839,0.49122807017543857,0.41379310344827586,0.6153846153846154,0.45901639344262296,0.38095238095238093,0.6153846153846154,0.5510204081632653,1.0,0.47619047619047616,0.5818181818181818,0.4807692307692308,0.5660377358490566,0.6875,0.4827586206896552,0.58,0.47058823529411764,0.5660377358490566,0.45098039215686275,0.5535714285714286,0.5686274509803921,0.5714285714285714,0.5522388059701493,0.5409836065573771,0.4189189189189189,0.5306122448979592,0.45454545454545453,0.5,0.5370370370370371,0.6938775510204082,0.6938775510204082,0.42857142857142855,0.4583333333333333,1.0,0.48936170212765956,0.5161290322580645,0.5,0.5689655172413793,0.38666666666666666,0.5306122448979592,0.5344827586206896,0.5306122448979592,0.46551724137931033,0.5079365079365079,0.3492063492063492,0.6037735849056604,0.43137254901960786,0.5862068965517241,0.4339622641509434,0.52,0.5555555555555556,0.5,0.5740740740740741,0.64],\"song\":[\"Addiction\",\"All Falls Down\",\"All Of The Lights\",\"All Of The Lights (Interlude)\",\"Barry Bonds\",\"Big Brother\",\"Blame Game\",\"Breathe In Breathe Out\",\"Bring Me Down\",\"Can't Tell Me Nothing\",\"Celebration\",\"Champion\",\"Crack Music\",\"Dark Fantasy\",\"Devil In A New Dress\",\"Drive Slow\",\"Drunk and Hot Girls\",\"Everything I Am\",\"Family Business\",\"Flashing Lights\",\"Get Em High\",\"Gold Digger\",\"Gone\",\"Good Life\",\"Good Morning\",\"Gorgeous\",\"Gotta Have It\",\"Graduation Day\",\"Heard 'Em Say\",\"Hell Of A Life\",\"Hey Mama\",\"Homecoming\",\"H\\u2022A\\u2022M\",\"I Wonder\",\"I'll Fly Away\",\"Illest Motherf**ker Alive\",\"Intro\",\"Jesus Walks\",\"Last Call\",\"Late\",\"Lift Off\",\"Lil Jimmy Skit\",\"Lost In The World\",\"Made In America\",\"Monster\",\"Murder To Excellence\",\"My Way Home\",\"Never Let Me Down\",\"New Day\",\"Ni**as In Paris\",\"No Church In The Wild\",\"Otis\",\"POWER\",\"Primetime\",\"Roses\",\"Runaway\",\"School Spirit\",\"School Spirit Skit 1\",\"School Spirit Skit 2\",\"Skit #1 (Kanye West/Late Registration)\",\"Skit #2 (Kanye West/Late Registration)\",\"Skit #3 (Kanye West/Late Registration)\",\"Skit #4 (Kanye West/Late Registration)\",\"Slow Jamz\",\"So Appalled\",\"Spaceship\",\"Stronger\",\"That's My Bitch\",\"The Glory\",\"The Joy\",\"The New Workout Plan\",\"Through The Wire\",\"Touch The Sky\",\"Two Words\",\"Wake Up Mr. West\",\"We Don't Care\",\"We Major\",\"Welcome To The Jungle\",\"Who Gon Stop Me\",\"Who Will Survive In America\",\"Why I Love You\",\"Workout Plan\"],\"x\":[54,66,70,56,56,55,59,53,51,69,51,62,52,63,60,58,55,59,58,66,57,76,56,67,63,61,63,52,62,57,58,13,61,63,52,49,2,63,55,52,53,48,58,50,68,53,51,56,51,77,67,61,74,49,55,68,54,49,49,49,48,1,47,62,58,58,75,49,58,49,58,63,63,53,51,58,53,50,63,52,54,50],\"y\":[24,31,28,27,31,21,31,31,23,28,24,26,23,31,30,25,33,32,30,30,29,30,24,26,31,30,34,33,23,28,24,8,28,24,32,27,2,30,32,25,30,33,28,29,32,30,23,31,29,44,37,33,31,26,25,34,29,34,34,21,22,1,23,32,29,33,29,26,31,26,27,32,22,32,22,34,23,26,35,26,31,32]}},\"id\":\"d484bd2f-fcad-4f1e-a3f3-f7d4fcfe704b\",\"type\":\"ColumnDataSource\"},{\"attributes\":{\"line_color\":{\"value\":\"red\"},\"line_width\":{\"value\":2},\"x\":{\"field\":\"x\"},\"y\":{\"field\":\"y\"}},\"id\":\"88b0e5f7-7013-4d6d-a999-492e51937ca9\",\"type\":\"Line\"},{\"attributes\":{\"overlay\":{\"id\":\"0ab540d4-60dd-4b43-93ae-42842b46483b\",\"type\":\"BoxAnnotation\"},\"plot\":{\"id\":\"c163acbe-edba-4d39-ae8f-0c56519a9cc4\",\"subtype\":\"Figure\",\"type\":\"Plot\"}},\"id\":\"e39da555-1c14-46f0-b5ff-d96f95615c9e\",\"type\":\"BoxZoomTool\"},{\"attributes\":{\"line_width\":{\"value\":2},\"x\":{\"field\":\"x\"},\"y\":{\"field\":\"y\"}},\"id\":\"0a33078e-df76-4df7-9337-d30ff3479592\",\"type\":\"Line\"},{\"attributes\":{\"dimension\":1,\"plot\":{\"id\":\"a406ebf3-7fee-4dd4-9327-caaf80fc284a\",\"subtype\":\"Figure\",\"type\":\"Plot\"},\"ticker\":{\"id\":\"77c26f02-91b9-428d-8fe0-f473b52431c7\",\"type\":\"BasicTicker\"}},\"id\":\"d047b8c8-50d5-49ee-b7e7-19291b44ced2\",\"type\":\"Grid\"},{\"attributes\":{\"dimension\":1,\"plot\":{\"id\":\"50fb0a0d-4a0a-457f-bcb5-db1a0b705072\",\"subtype\":\"Figure\",\"type\":\"Plot\"},\"ticker\":{\"id\":\"63e7ffbd-4a9b-496c-9031-d66b9bedb7e6\",\"type\":\"BasicTicker\"}},\"id\":\"c891ab6d-30b1-4042-9f37-b79070a361e6\",\"type\":\"Grid\"},{\"attributes\":{},\"id\":\"b01fa35a-a278-41c1-9366-bb087aeadc3f\",\"type\":\"BasicTicker\"},{\"attributes\":{},\"id\":\"16aa96ad-fd70-4d92-a473-02145fbe083c\",\"type\":\"BasicTicker\"},{\"attributes\":{\"plot\":{\"id\":\"f0cbd62f-278f-4516-a395-9babb5082038\",\"subtype\":\"Figure\",\"type\":\"Plot\"}},\"id\":\"6f17d0f1-53cb-4435-886b-5f0f4a87f2aa\",\"type\":\"ResizeTool\"},{\"attributes\":{\"data_source\":{\"id\":\"b2312f66-5e4b-4fb1-9329-4216ab3a0a69\",\"type\":\"ColumnDataSource\"},\"glyph\":{\"id\":\"038a01bf-4faf-4907-bd86-9b89d165c15d\",\"type\":\"Circle\"},\"hover_glyph\":null,\"nonselection_glyph\":{\"id\":\"1dbb8f3e-eec3-494e-b721-8b49b90f3248\",\"type\":\"Circle\"},\"selection_glyph\":null},\"id\":\"9081fd39-ea34-446b-b52d-bdb3a1246779\",\"type\":\"GlyphRenderer\"},{\"attributes\":{\"bottom_units\":\"screen\",\"fill_alpha\":{\"value\":0.5},\"fill_color\":{\"value\":\"lightgrey\"},\"left_units\":\"screen\",\"level\":\"overlay\",\"line_alpha\":{\"value\":1.0},\"line_color\":{\"value\":\"black\"},\"line_dash\":[4,4],\"line_width\":{\"value\":2},\"plot\":null,\"render_mode\":\"css\",\"right_units\":\"screen\",\"top_units\":\"screen\"},\"id\":\"1c594e6b-d6b4-4a08-b945-f75396c0bcb7\",\"type\":\"BoxAnnotation\"},{\"attributes\":{},\"id\":\"8fd46e2c-da36-404e-b3af-528ebed21458\",\"type\":\"BasicTicker\"},{\"attributes\":{\"fill_alpha\":{\"value\":0.1},\"fill_color\":{\"value\":\"#1f77b4\"},\"line_alpha\":{\"value\":0.1},\"line_color\":{\"value\":\"#1f77b4\"},\"size\":{\"units\":\"screen\",\"value\":15},\"x\":{\"value\":2007},\"y\":{\"value\":80.0}},\"id\":\"2e6b9431-7c77-46b7-ad88-22d7ab821f57\",\"type\":\"Circle\"},{\"attributes\":{\"data_source\":{\"id\":\"406bab7b-96ed-49ae-8c0d-54025e5d54e2\",\"type\":\"ColumnDataSource\"},\"glyph\":{\"id\":\"4afa9310-83aa-4efb-92d3-61387f0933ef\",\"type\":\"Circle\"},\"hover_glyph\":null,\"nonselection_glyph\":{\"id\":\"d0153741-313a-41f0-960c-1bfd0619f186\",\"type\":\"Circle\"},\"selection_glyph\":null},\"id\":\"d7b8dd7c-60f0-45b9-adf7-9617372a8ea9\",\"type\":\"GlyphRenderer\"},{\"attributes\":{},\"id\":\"5d3888ec-7232-4c61-bab9-16acf9a9e476\",\"type\":\"BasicTickFormatter\"},{\"attributes\":{\"callback\":null},\"id\":\"ca33f72e-0fa6-4db9-8990-d97e123bbba4\",\"type\":\"DataRange1d\"},{\"attributes\":{\"callback\":null,\"plot\":{\"id\":\"87004a05-fd1e-4435-ab9a-c02034cd2ae0\",\"subtype\":\"Figure\",\"type\":\"Plot\"},\"tooltips\":[[\"album\",\"@album\"]]},\"id\":\"8a385a86-e6a4-40e9-ad15-5420a4ea94e6\",\"type\":\"HoverTool\"},{\"attributes\":{\"plot\":{\"id\":\"4a4d436d-255f-4335-8d9c-e1391d214d68\",\"subtype\":\"Figure\",\"type\":\"Plot\"}},\"id\":\"18d67d73-a4c7-452d-affa-d8e17fd5bb4f\",\"type\":\"ResetTool\"},{\"attributes\":{},\"id\":\"c25f3766-4458-4fbe-8bd6-77af3b0813ba\",\"type\":\"BasicTickFormatter\"},{\"attributes\":{\"dimension\":1,\"plot\":{\"id\":\"c163acbe-edba-4d39-ae8f-0c56519a9cc4\",\"subtype\":\"Figure\",\"type\":\"Plot\"},\"ticker\":{\"id\":\"523b10f4-9055-4969-bba4-7e9f407adc85\",\"type\":\"BasicTicker\"}},\"id\":\"74614a42-aec9-4ab4-aa5b-86522b3ba1e8\",\"type\":\"Grid\"},{\"attributes\":{\"data_source\":{\"id\":\"9968262e-5830-477b-a00f-8fddb5c4298e\",\"type\":\"ColumnDataSource\"},\"glyph\":{\"id\":\"ee565ae8-74b5-48ee-a5ff-f2e08a5aae37\",\"type\":\"Line\"},\"hover_glyph\":null,\"nonselection_glyph\":{\"id\":\"c0969225-72b3-49ed-8166-3424956c6714\",\"type\":\"Line\"},\"selection_glyph\":null},\"id\":\"00b5ee0d-fa48-44f5-a0fb-54df14b1f2a1\",\"type\":\"GlyphRenderer\"},{\"attributes\":{\"callback\":null},\"id\":\"e45542be-0933-4116-a5dd-5b18e8a994b1\",\"type\":\"DataRange1d\"},{\"attributes\":{\"data_source\":{\"id\":\"bf8a4977-0751-4c71-9b0b-9074a3ac6e57\",\"type\":\"ColumnDataSource\"},\"glyph\":{\"id\":\"3f59f421-d9b9-4a2a-bbe6-fbd0740ca468\",\"type\":\"Line\"},\"hover_glyph\":null,\"nonselection_glyph\":{\"id\":\"1ab60f89-745a-45f4-a50a-1127addafc5c\",\"type\":\"Line\"},\"selection_glyph\":null},\"id\":\"c477a25b-77c6-4a8c-a295-17c27202d82f\",\"type\":\"GlyphRenderer\"},{\"attributes\":{\"overlay\":{\"id\":\"ff8af659-5004-4d35-877e-482ca72e7713\",\"type\":\"BoxAnnotation\"},\"plot\":{\"id\":\"c3c0eb43-d653-4732-99f4-363b81ebfd66\",\"subtype\":\"Figure\",\"type\":\"Plot\"}},\"id\":\"dbe18dde-0bc9-4bb3-acad-7f6a9698d9fe\",\"type\":\"BoxZoomTool\"},{\"attributes\":{\"below\":[{\"id\":\"7ace6f6d-0d2f-4c6d-ab5f-b27e0635a21a\",\"type\":\"LinearAxis\"}],\"left\":[{\"id\":\"277baa8d-c53b-4ff4-a3c5-f1b706b3c173\",\"type\":\"LinearAxis\"}],\"plot_height\":500,\"renderers\":[{\"id\":\"7ace6f6d-0d2f-4c6d-ab5f-b27e0635a21a\",\"type\":\"LinearAxis\"},{\"id\":\"141fad31-b8e4-4bca-ac93-6ed7f2bc141f\",\"type\":\"Grid\"},{\"id\":\"277baa8d-c53b-4ff4-a3c5-f1b706b3c173\",\"type\":\"LinearAxis\"},{\"id\":\"d49c93a7-057d-4103-b3fe-7a78bceef55b\",\"type\":\"Grid\"},{\"id\":\"c5dbf8cd-7bdc-4716-aa78-30b847d3c5fa\",\"type\":\"BoxAnnotation\"},{\"id\":\"453bc32e-273b-43bc-ad16-b546d34361f7\",\"type\":\"GlyphRenderer\"},{\"id\":\"56b724e5-2882-4471-aa96-cee0433af2c3\",\"type\":\"GlyphRenderer\"},{\"id\":\"b80c7365-5f79-4a13-a59d-1d9729250d46\",\"type\":\"GlyphRenderer\"},{\"id\":\"508d0760-62aa-464d-b43a-9b9a1cc55384\",\"type\":\"GlyphRenderer\"},{\"id\":\"e114bae0-7582-49aa-affd-05f7397c5fc2\",\"type\":\"GlyphRenderer\"},{\"id\":\"7133c261-124d-4f38-902c-e7a0f4b80a30\",\"type\":\"GlyphRenderer\"}],\"tool_events\":{\"id\":\"779b0e84-d78e-404f-a8b4-ea13f072b287\",\"type\":\"ToolEvents\"},\"tools\":[{\"id\":\"953247a7-2353-4adf-8dd7-413984a54cf4\",\"type\":\"BoxZoomTool\"},{\"id\":\"f82be1d2-d036-4bd4-b634-4231513472be\",\"type\":\"ResetTool\"},{\"id\":\"edfee1a9-e8b6-4db0-a651-9fbf8abaf370\",\"type\":\"HoverTool\"}],\"x_range\":{\"id\":\"ca33f72e-0fa6-4db9-8990-d97e123bbba4\",\"type\":\"DataRange1d\"},\"y_range\":{\"id\":\"461ceceb-9e52-4f28-b9eb-bb06ff637a73\",\"type\":\"DataRange1d\"}},\"id\":\"3fcbd322-bcc0-44be-a67c-49e08ce201f3\",\"subtype\":\"Figure\",\"type\":\"Plot\"},{\"attributes\":{\"data_source\":{\"id\":\"ab20128b-3528-44cc-b179-ca44ccce0c3d\",\"type\":\"ColumnDataSource\"},\"glyph\":{\"id\":\"7efc4817-eee9-40fd-b6eb-6d91496d41a2\",\"type\":\"Line\"},\"hover_glyph\":null,\"nonselection_glyph\":{\"id\":\"0f3c6024-e662-4bed-98c7-390417e1c41c\",\"type\":\"Line\"},\"selection_glyph\":null},\"id\":\"8a43b5d0-cd3e-44e2-b430-0a00a797b2b1\",\"type\":\"GlyphRenderer\"},{\"attributes\":{\"callback\":null,\"column_names\":[\"y\",\"x\"],\"data\":{\"x\":[2003,2017],\"y\":[85.30267121104058,85.30267121104058]}},\"id\":\"a3edf1e2-3b44-4ec1-9d09-2336bd4cdae1\",\"type\":\"ColumnDataSource\"},{\"attributes\":{\"bottom\":{\"value\":0},\"fill_alpha\":{\"value\":0.1},\"fill_color\":{\"value\":\"#1f77b4\"},\"left\":{\"field\":\"left\"},\"line_alpha\":{\"value\":0.1},\"line_color\":{\"value\":\"#1f77b4\"},\"right\":{\"field\":\"right\"},\"top\":{\"field\":\"top\"}},\"id\":\"850833e6-22f8-41c1-a086-62273abde2e5\",\"type\":\"Quad\"},{\"attributes\":{\"data_source\":{\"id\":\"a0f19ae1-08d1-4d3b-9165-3742f582223e\",\"type\":\"ColumnDataSource\"},\"glyph\":{\"id\":\"92d64910-1732-4355-ba64-28a0b87f8bfa\",\"type\":\"Circle\"},\"hover_glyph\":null,\"nonselection_glyph\":{\"id\":\"a35d4b72-79c0-47cb-8b7e-cf2e5841055b\",\"type\":\"Circle\"},\"selection_glyph\":null},\"id\":\"4df0cfd6-6efb-4a3a-8d50-b02979810c62\",\"type\":\"GlyphRenderer\"},{\"attributes\":{\"callback\":null},\"id\":\"0c219430-08bb-41b0-872a-743e3ccf6e18\",\"type\":\"DataRange1d\"},{\"attributes\":{\"fill_alpha\":{\"value\":0.1},\"fill_color\":{\"value\":\"#1f77b4\"},\"line_alpha\":{\"value\":0.1},\"line_color\":{\"value\":\"#1f77b4\"},\"size\":{\"units\":\"screen\",\"value\":15},\"x\":{\"value\":2007},\"y\":{\"value\":80.0}},\"id\":\"7002645c-27a3-452b-9864-f59698439602\",\"type\":\"Circle\"},{\"attributes\":{\"callback\":null,\"column_names\":[\"album\",\"y\",\"song\",\"per\",\"x\",\"line_color\",\"fill_color\"],\"data\":{\"album\":[\"Late Registration (Explicit Version)\",\"The College Dropout (Explicit)\",\"My Beautiful Dark Twisted Fantasy (Explicit Version)\",\"My Beautiful Dark Twisted Fantasy (Explicit Version)\",\"Graduation (Explicit Version)\",\"Graduation (Explicit Version)\",\"My Beautiful Dark Twisted Fantasy (Explicit Version)\",\"The College Dropout (Explicit)\",\"Late Registration (Explicit Version)\",\"Graduation (Explicit Version)\",\"Late Registration (Explicit Version)\",\"Graduation (Explicit Version)\",\"Late Registration (Explicit Version)\",\"My Beautiful Dark Twisted Fantasy (Explicit Version)\",\"My Beautiful Dark Twisted Fantasy (Explicit Version)\",\"Late Registration (Explicit Version)\",\"Graduation (Explicit Version)\",\"Graduation (Explicit Version)\",\"The College Dropout (Explicit)\",\"Graduation (Explicit Version)\",\"The College Dropout (Explicit)\",\"Late Registration (Explicit Version)\",\"Late Registration (Explicit Version)\",\"Graduation (Explicit Version)\",\"Graduation (Explicit Version)\",\"My Beautiful Dark Twisted Fantasy (Explicit Version)\",\"Watch The Throne (Explicit Version)\",\"The College Dropout (Explicit)\",\"Late Registration (Explicit Version)\",\"My Beautiful Dark Twisted Fantasy (Explicit Version)\",\"Late Registration (Explicit Version)\",\"Graduation (Explicit Version)\",\"Watch The Throne [Deluxe Edition (Explicit)]\",\"Graduation (Explicit Version)\",\"The College Dropout (Explicit)\",\"Watch The Throne [Deluxe Edition (Explicit)]\",\"The College Dropout (Explicit)\",\"The College Dropout (Explicit)\",\"The College Dropout (Explicit)\",\"Late Registration (Explicit Version)\",\"Watch The Throne (Explicit Version)\",\"The College Dropout (Explicit)\",\"My Beautiful Dark Twisted Fantasy (Explicit Version)\",\"Watch The Throne (Explicit Version)\",\"My Beautiful Dark Twisted Fantasy (Explicit Version)\",\"Watch The Throne (Explicit Version)\",\"Late Registration (Explicit Version)\",\"The College Dropout (Explicit)\",\"Watch The Throne (Explicit Version)\",\"Watch The Throne (Explicit Version)\",\"Watch The Throne (Explicit Version)\",\"Watch The Throne (Explicit Version)\",\"My Beautiful Dark Twisted Fantasy (Explicit Version)\",\"Watch The Throne [Deluxe Edition (Explicit)]\",\"Late Registration (Explicit Version)\",\"My Beautiful Dark Twisted Fantasy (Explicit Version)\",\"The College Dropout (Explicit)\",\"The College Dropout (Explicit)\",\"The College Dropout (Explicit)\",\"Late Registration (Explicit Version)\",\"Late Registration (Explicit Version)\",\"Late Registration (Explicit Version)\",\"Late Registration (Explicit Version)\",\"The College Dropout (Explicit)\",\"My Beautiful Dark Twisted Fantasy (Explicit Version)\",\"The College Dropout (Explicit)\",\"Graduation (Explicit Version)\",\"Watch The Throne (Explicit Version)\",\"Graduation (Explicit Version)\",\"Watch The Throne [Deluxe Edition (Explicit)]\",\"The College Dropout (Explicit)\",\"The College Dropout (Explicit)\",\"Late Registration (Explicit Version)\",\"The College Dropout (Explicit)\",\"Late Registration (Explicit Version)\",\"The College Dropout (Explicit)\",\"Late Registration (Explicit Version)\",\"Watch The Throne (Explicit Version)\",\"Watch The Throne (Explicit Version)\",\"My Beautiful Dark Twisted Fantasy (Explicit Version)\",\"Watch The Throne (Explicit Version)\",\"The College Dropout (Explicit)\"],\"fill_color\":[\"green\",\"purple\",\"blue\",\"blue\",\"red\",\"red\",\"blue\",\"purple\",\"green\",\"red\",\"green\",\"red\",\"green\",\"blue\",\"blue\",\"green\",\"red\",\"red\",\"purple\",\"red\",\"purple\",\"green\",\"green\",\"red\",\"red\",\"blue\",\"cyan\",\"purple\",\"green\",\"blue\",\"green\",\"red\",\"black\",\"red\",\"purple\",\"black\",\"purple\",\"purple\",\"purple\",\"green\",\"cyan\",\"purple\",\"blue\",\"cyan\",\"blue\",\"cyan\",\"green\",\"purple\",\"cyan\",\"cyan\",\"cyan\",\"cyan\",\"blue\",\"black\",\"green\",\"blue\",\"purple\",\"purple\",\"purple\",\"green\",\"green\",\"green\",\"green\",\"purple\",\"blue\",\"purple\",\"red\",\"cyan\",\"red\",\"black\",\"purple\",\"purple\",\"green\",\"purple\",\"green\",\"purple\",\"green\",\"cyan\",\"cyan\",\"blue\",\"cyan\",\"purple\"],\"line_color\":[\"green\",\"purple\",\"blue\",\"blue\",\"red\",\"red\",\"blue\",\"purple\",\"green\",\"red\",\"green\",\"red\",\"green\",\"blue\",\"blue\",\"green\",\"red\",\"red\",\"purple\",\"red\",\"purple\",\"green\",\"green\",\"red\",\"red\",\"blue\",\"cyan\",\"purple\",\"green\",\"blue\",\"green\",\"red\",\"black\",\"red\",\"purple\",\"black\",\"purple\",\"purple\",\"purple\",\"green\",\"cyan\",\"purple\",\"blue\",\"cyan\",\"blue\",\"cyan\",\"green\",\"purple\",\"cyan\",\"cyan\",\"cyan\",\"cyan\",\"blue\",\"black\",\"green\",\"blue\",\"purple\",\"purple\",\"purple\",\"green\",\"green\",\"green\",\"green\",\"purple\",\"blue\",\"purple\",\"red\",\"cyan\",\"red\",\"black\",\"purple\",\"purple\",\"green\",\"purple\",\"green\",\"purple\",\"green\",\"cyan\",\"cyan\",\"blue\",\"cyan\",\"purple\"],\"per\":[0.4444444444444444,0.4696969696969697,0.4,0.48214285714285715,0.5535714285714286,0.38181818181818183,0.5254237288135594,0.5849056603773585,0.45098039215686275,0.4057971014492754,0.47058823529411764,0.41935483870967744,0.4423076923076923,0.49206349206349204,0.5,0.43103448275862066,0.6,0.5423728813559322,0.5172413793103449,0.45454545454545453,0.5087719298245614,0.39473684210526316,0.42857142857142855,0.3880597014925373,0.49206349206349204,0.4918032786885246,0.5396825396825397,0.6346153846153846,0.3709677419354839,0.49122807017543857,0.41379310344827586,0.6153846153846154,0.45901639344262296,0.38095238095238093,0.6153846153846154,0.5510204081632653,1.0,0.47619047619047616,0.5818181818181818,0.4807692307692308,0.5660377358490566,0.6875,0.4827586206896552,0.58,0.47058823529411764,0.5660377358490566,0.45098039215686275,0.5535714285714286,0.5686274509803921,0.5714285714285714,0.5522388059701493,0.5409836065573771,0.4189189189189189,0.5306122448979592,0.45454545454545453,0.5,0.5370370370370371,0.6938775510204082,0.6938775510204082,0.42857142857142855,0.4583333333333333,1.0,0.48936170212765956,0.5161290322580645,0.5,0.5689655172413793,0.38666666666666666,0.5306122448979592,0.5344827586206896,0.5306122448979592,0.46551724137931033,0.5079365079365079,0.3492063492063492,0.6037735849056604,0.43137254901960786,0.5862068965517241,0.4339622641509434,0.52,0.5555555555555556,0.5,0.5740740740740741,0.64],\"song\":[\"Addiction\",\"All Falls Down\",\"All Of The Lights\",\"All Of The Lights (Interlude)\",\"Barry Bonds\",\"Big Brother\",\"Blame Game\",\"Breathe In Breathe Out\",\"Bring Me Down\",\"Can't Tell Me Nothing\",\"Celebration\",\"Champion\",\"Crack Music\",\"Dark Fantasy\",\"Devil In A New Dress\",\"Drive Slow\",\"Drunk and Hot Girls\",\"Everything I Am\",\"Family Business\",\"Flashing Lights\",\"Get Em High\",\"Gold Digger\",\"Gone\",\"Good Life\",\"Good Morning\",\"Gorgeous\",\"Gotta Have It\",\"Graduation Day\",\"Heard 'Em Say\",\"Hell Of A Life\",\"Hey Mama\",\"Homecoming\",\"H\\u2022A\\u2022M\",\"I Wonder\",\"I'll Fly Away\",\"Illest Motherf**ker Alive\",\"Intro\",\"Jesus Walks\",\"Last Call\",\"Late\",\"Lift Off\",\"Lil Jimmy Skit\",\"Lost In The World\",\"Made In America\",\"Monster\",\"Murder To Excellence\",\"My Way Home\",\"Never Let Me Down\",\"New Day\",\"Ni**as In Paris\",\"No Church In The Wild\",\"Otis\",\"POWER\",\"Primetime\",\"Roses\",\"Runaway\",\"School Spirit\",\"School Spirit Skit 1\",\"School Spirit Skit 2\",\"Skit #1 (Kanye West/Late Registration)\",\"Skit #2 (Kanye West/Late Registration)\",\"Skit #3 (Kanye West/Late Registration)\",\"Skit #4 (Kanye West/Late Registration)\",\"Slow Jamz\",\"So Appalled\",\"Spaceship\",\"Stronger\",\"That's My Bitch\",\"The Glory\",\"The Joy\",\"The New Workout Plan\",\"Through The Wire\",\"Touch The Sky\",\"Two Words\",\"Wake Up Mr. West\",\"We Don't Care\",\"We Major\",\"Welcome To The Jungle\",\"Who Gon Stop Me\",\"Who Will Survive In America\",\"Why I Love You\",\"Workout Plan\"],\"x\":[54,66,70,56,56,55,59,53,51,69,51,62,52,63,60,58,55,59,58,66,57,76,56,67,63,61,63,52,62,57,58,13,61,63,52,49,2,63,55,52,53,48,58,50,68,53,51,56,51,77,67,61,74,49,55,68,54,49,49,49,48,1,47,62,58,58,75,49,58,49,58,63,63,53,51,58,53,50,63,52,54,50],\"y\":[24,31,28,27,31,21,31,31,23,28,24,26,23,31,30,25,33,32,30,30,29,30,24,26,31,30,34,33,23,28,24,8,28,24,32,27,2,30,32,25,30,33,28,29,32,30,23,31,29,44,37,33,31,26,25,34,29,34,34,21,22,1,23,32,29,33,29,26,31,26,27,32,22,32,22,34,23,26,35,26,31,32]}},\"id\":\"986706bf-0441-4db5-9c43-7ee43a8c9815\",\"type\":\"ColumnDataSource\"},{\"attributes\":{\"callback\":null},\"id\":\"673f7d57-7bc0-4369-93db-c90675af9655\",\"type\":\"DataRange1d\"},{\"attributes\":{\"line_alpha\":{\"value\":0.1},\"line_color\":{\"value\":\"#1f77b4\"},\"line_dash\":[4,4],\"line_width\":{\"value\":2},\"x\":{\"field\":\"x\"},\"y\":{\"field\":\"y\"}},\"id\":\"9f19eefc-a673-42fd-bef4-ebf6b2dabf57\",\"type\":\"Line\"},{\"attributes\":{\"data_source\":{\"id\":\"e3040b2c-2339-4890-a26f-7e955c276f07\",\"type\":\"ColumnDataSource\"},\"glyph\":{\"id\":\"71643046-4c02-44c4-aeb7-0d0e2711f822\",\"type\":\"Circle\"},\"hover_glyph\":null,\"nonselection_glyph\":{\"id\":\"ac01d743-f1be-40f3-b30b-19ad2db9d8b5\",\"type\":\"Circle\"},\"selection_glyph\":null},\"id\":\"4119319b-b8ca-443e-926d-d5991fbf1166\",\"type\":\"GlyphRenderer\"},{\"attributes\":{\"callback\":null,\"plot\":{\"id\":\"0218e7c7-c2e7-440c-a494-9b99e502f7a8\",\"subtype\":\"Figure\",\"type\":\"Plot\"},\"tooltips\":[[\"Track\",\"@track\"]]},\"id\":\"f06d22d4-f0bc-460b-ae2e-21e1f2b8a9a5\",\"type\":\"HoverTool\"},{\"attributes\":{\"fill_alpha\":{\"value\":0.1},\"fill_color\":{\"value\":\"#1f77b4\"},\"line_alpha\":{\"value\":0.1},\"line_color\":{\"value\":\"#1f77b4\"},\"size\":{\"units\":\"screen\",\"value\":12},\"x\":{\"field\":\"x\"},\"y\":{\"field\":\"y\"}},\"id\":\"7dfb4adc-0004-4a7e-98b4-a4bec45b442e\",\"type\":\"Circle\"},{\"attributes\":{\"line_color\":{\"value\":\"red\"},\"line_dash\":[4,4],\"line_width\":{\"value\":2},\"x\":{\"field\":\"x\"},\"y\":{\"field\":\"y\"}},\"id\":\"a6ea9383-45e2-46fb-b74e-a8780cd5ce49\",\"type\":\"Line\"},{\"attributes\":{\"line_alpha\":{\"value\":0.1},\"line_color\":{\"value\":\"#1f77b4\"},\"line_dash\":[4,4],\"line_width\":{\"value\":2},\"x\":{\"field\":\"x\"},\"y\":{\"field\":\"y\"}},\"id\":\"c0d82c0d-a319-48b2-baf8-1eae15872079\",\"type\":\"Line\"},{\"attributes\":{\"axis_label\":\"track\",\"formatter\":{\"id\":\"d4695340-eca5-42cb-881a-3fe8a01a11ec\",\"type\":\"BasicTickFormatter\"},\"major_label_text_font_size\":{\"value\":\"0pt\"},\"plot\":{\"id\":\"077763eb-d52b-42ce-8454-df4a37e542ba\",\"subtype\":\"Figure\",\"type\":\"Plot\"},\"ticker\":{\"id\":\"54d538e6-8cae-400a-8402-f60571aec35b\",\"type\":\"BasicTicker\"}},\"id\":\"7ffedc68-077e-4ae0-a164-fa6e967a55ca\",\"type\":\"LinearAxis\"},{\"attributes\":{\"fill_color\":{\"value\":\"gold\"},\"line_color\":{\"value\":\"gold\"},\"size\":{\"units\":\"screen\",\"value\":12},\"x\":{\"field\":\"x\"},\"y\":{\"field\":\"y\"}},\"id\":\"9603a256-c645-4161-94b3-23bc534b375c\",\"type\":\"Circle\"},{\"attributes\":{},\"id\":\"01b3879a-732e-4d87-a151-ad7187c59d83\",\"type\":\"BasicTickFormatter\"},{\"attributes\":{\"callback\":null,\"plot\":{\"id\":\"4ffbe01a-4dc5-41a4-b3e4-1da56420e097\",\"subtype\":\"Figure\",\"type\":\"Plot\"},\"tooltips\":[[\"Collaborator\",\"@person\"]]},\"id\":\"83b3c857-a633-4421-9892-8e6b214e5224\",\"type\":\"HoverTool\"},{\"attributes\":{\"line_alpha\":{\"value\":0.1},\"line_color\":{\"value\":\"#1f77b4\"},\"line_width\":{\"value\":2},\"x\":{\"field\":\"x\"},\"y\":{\"field\":\"y\"}},\"id\":\"6aae6e72-bffa-429c-a7f0-c44952702ee7\",\"type\":\"Line\"},{\"attributes\":{\"axis_label\":\"Popularity with Kanye West\",\"formatter\":{\"id\":\"fc01b7f9-307e-46b3-baf2-5ee464daeaeb\",\"type\":\"BasicTickFormatter\"},\"plot\":{\"id\":\"c4b3a879-ecc0-433b-ab6e-393d30e0a4fd\",\"subtype\":\"Figure\",\"type\":\"Plot\"},\"ticker\":{\"id\":\"a14cc69e-e0f5-42bd-91c7-d236dcf4665f\",\"type\":\"BasicTicker\"}},\"id\":\"209335d5-8129-4c52-b0e7-a368e0d4c729\",\"type\":\"LinearAxis\"},{\"attributes\":{\"axis_label\":\"track\",\"formatter\":{\"id\":\"d3b921ac-09bc-40cc-b261-305f05da9ce8\",\"type\":\"BasicTickFormatter\"},\"major_label_text_font_size\":{\"value\":\"0pt\"},\"plot\":{\"id\":\"c163acbe-edba-4d39-ae8f-0c56519a9cc4\",\"subtype\":\"Figure\",\"type\":\"Plot\"},\"ticker\":{\"id\":\"78dd2856-812b-4efd-93e4-9ac352e1d487\",\"type\":\"BasicTicker\"}},\"id\":\"83a0c4a3-8432-4e1a-b571-d8e4f384096e\",\"type\":\"LinearAxis\"},{\"attributes\":{},\"id\":\"78dd2856-812b-4efd-93e4-9ac352e1d487\",\"type\":\"BasicTicker\"},{\"attributes\":{\"fill_color\":{\"value\":\"black\"},\"size\":{\"units\":\"screen\",\"value\":10},\"x\":{\"field\":\"x\"},\"y\":{\"field\":\"y\"}},\"id\":\"bcfa1dd3-d09a-45a7-80cc-0b0570dfc001\",\"type\":\"Circle\"},{\"attributes\":{\"data_source\":{\"id\":\"11f31baa-c449-4ac2-b62b-4c195c2a4655\",\"type\":\"ColumnDataSource\"},\"glyph\":{\"id\":\"60c505fe-f87b-412d-9f2a-6cd0b782998b\",\"type\":\"Line\"},\"hover_glyph\":null,\"nonselection_glyph\":{\"id\":\"7e3fbeb8-1c1f-470d-8ae9-8d5f5b906a4d\",\"type\":\"Line\"},\"selection_glyph\":null},\"id\":\"912afba4-8957-49d8-ae4f-372ba1eca9bd\",\"type\":\"GlyphRenderer\"},{\"attributes\":{\"line_alpha\":{\"value\":0.1},\"line_color\":{\"value\":\"#1f77b4\"},\"line_width\":{\"value\":2},\"x\":{\"field\":\"x\"},\"y\":{\"field\":\"y\"}},\"id\":\"9b79316c-a777-4a92-af4e-363b1ab60daf\",\"type\":\"Line\"},{\"attributes\":{\"axis_label\":\"track\",\"formatter\":{\"id\":\"b0d18a66-f01a-4da7-a6e2-97a9cfcc537a\",\"type\":\"BasicTickFormatter\"},\"major_label_text_font_size\":{\"value\":\"0pt\"},\"plot\":{\"id\":\"0218e7c7-c2e7-440c-a494-9b99e502f7a8\",\"subtype\":\"Figure\",\"type\":\"Plot\"},\"ticker\":{\"id\":\"bd8dcfaf-6596-4e6f-bd81-eaaeff72dc1f\",\"type\":\"BasicTicker\"}},\"id\":\"c118da28-b11d-4df7-a002-8f4263bb28ba\",\"type\":\"LinearAxis\"},{\"attributes\":{\"callback\":null,\"column_names\":[\"right\",\"top\",\"left\"],\"data\":{\"left\":[0.0,4.0,8.0,12.0,16.0,20.0,24.0,28.0,32.0,36.0,40.0,44.0,48.0,52.0,56.0,60.0,64.0,68.0,72.0,76.0,80.0,84.0,88.0,92.0,96.0],\"right\":[4.0,8.0,12.0,16.0,20.0,24.0,28.0,32.0,36.0,40.0,44.0,48.0,52.0,56.0,60.0,64.0,68.0,72.0,76.0,80.0,84.0,88.0,92.0,96.0,100.0],\"top\":[0,0,0,1,0,0,0,0,0,0,0,0,6,9,18,6,3,2,0,1,0,0,0,0,0]}},\"id\":\"6b424f17-af1a-4f49-b2f6-7a6d50755848\",\"type\":\"ColumnDataSource\"},{\"attributes\":{\"line_alpha\":{\"value\":0.1},\"line_color\":{\"value\":\"#1f77b4\"},\"line_dash\":[2,2],\"line_width\":{\"value\":2},\"x\":{\"field\":\"x\"},\"y\":{\"field\":\"y\"}},\"id\":\"1ba29749-28ce-4c84-bde7-546bb3f281e2\",\"type\":\"Line\"},{\"attributes\":{},\"id\":\"e6c06f8b-fccd-42c2-b22f-fb23ac7d6d2a\",\"type\":\"BasicTicker\"},{\"attributes\":{\"fill_alpha\":{\"value\":0.1},\"fill_color\":{\"value\":\"#1f77b4\"},\"line_alpha\":{\"value\":0.1},\"line_color\":{\"value\":\"#1f77b4\"},\"size\":{\"units\":\"screen\",\"value\":7},\"x\":{\"field\":\"x\"},\"y\":{\"field\":\"y\"}},\"id\":\"2987f3e6-22f4-49c1-8a56-93de3f185db5\",\"type\":\"Circle\"},{\"attributes\":{\"fill_alpha\":{\"value\":0.4},\"fill_color\":{\"field\":\"fill_color\"},\"line_color\":{\"field\":\"line_color\"},\"size\":{\"units\":\"screen\",\"value\":7},\"x\":{\"field\":\"x\"},\"y\":{\"field\":\"y\"}},\"id\":\"f0a95e73-6913-4753-b659-8492d1d35524\",\"type\":\"Circle\"},{\"attributes\":{\"dimension\":1,\"plot\":{\"id\":\"f0cbd62f-278f-4516-a395-9babb5082038\",\"subtype\":\"Figure\",\"type\":\"Plot\"},\"ticker\":{\"id\":\"d2e4d84b-9b5c-4201-ad3c-46891a78f669\",\"type\":\"BasicTicker\"}},\"id\":\"5b494545-e1ab-455d-beb7-3c9a811c5029\",\"type\":\"Grid\"},{\"attributes\":{\"callback\":null,\"column_names\":[\"right\",\"top\",\"left\"],\"data\":{\"left\":[0.0,4.0,8.0,12.0,16.0,20.0,24.0,28.0,32.0,36.0,40.0,44.0,48.0,52.0,56.0,60.0,64.0,68.0,72.0,76.0,80.0,84.0,88.0,92.0,96.0],\"right\":[4.0,8.0,12.0,16.0,20.0,24.0,28.0,32.0,36.0,40.0,44.0,48.0,52.0,56.0,60.0,64.0,68.0,72.0,76.0,80.0,84.0,88.0,92.0,96.0,100.0],\"top\":[2,1,0,3,2,15,17,26,14,7,7,2,1,7,2,1,1,1,0,0,0,0,0,0,0]}},\"id\":\"7a3a18be-7c71-4cdc-85c6-6993b1843f1a\",\"type\":\"ColumnDataSource\"},{\"attributes\":{\"overlay\":{\"id\":\"a52e9846-dd2e-4ffa-a189-53e634117791\",\"type\":\"BoxAnnotation\"},\"plot\":{\"id\":\"db14c567-64ba-4e05-b6f1-bb87ce6bf4f1\",\"subtype\":\"Figure\",\"type\":\"Plot\"}},\"id\":\"89e9a8a9-d25b-4d8b-908c-b3822aa6a424\",\"type\":\"BoxZoomTool\"},{\"attributes\":{\"fill_color\":{\"value\":\"black\"},\"size\":{\"units\":\"screen\",\"value\":10},\"x\":{\"field\":\"x\"},\"y\":{\"field\":\"y\"}},\"id\":\"ce413278-548e-4de5-b8b5-719009289607\",\"type\":\"Circle\"},{\"attributes\":{\"callback\":null,\"column_names\":[\"y\",\"x\"],\"data\":{\"x\":[-1,45],\"y\":[60.626666666666665,60.626666666666665]}},\"id\":\"81f74e3f-0084-4692-8180-d335accae043\",\"type\":\"ColumnDataSource\"},{\"attributes\":{\"callback\":null,\"column_names\":[\"y\",\"x\"],\"data\":{\"x\":[-1,45],\"y\":[46.865103447968636,46.865103447968636]}},\"id\":\"9004320a-1943-4ee5-84cb-968103fa2f9c\",\"type\":\"ColumnDataSource\"},{\"attributes\":{\"overlay\":{\"id\":\"40076bb1-bfa7-4189-b8e1-3527cd3d4a01\",\"type\":\"BoxAnnotation\"},\"plot\":{\"id\":\"4ec5713c-3a2c-479d-9d6e-f0ce4a54d454\",\"subtype\":\"Figure\",\"type\":\"Plot\"}},\"id\":\"a7263f89-1bc6-42c8-9e42-39601d7c6933\",\"type\":\"BoxZoomTool\"},{\"attributes\":{\"line_color\":{\"value\":\"red\"},\"line_width\":{\"value\":2},\"x\":{\"field\":\"x\"},\"y\":{\"field\":\"y\"}},\"id\":\"9552b8a7-0966-4480-a5e5-d93048ed3ef1\",\"type\":\"Line\"},{\"attributes\":{\"callback\":null},\"id\":\"4d6f5b1f-e288-40a5-b2b9-b01e989b7f82\",\"type\":\"DataRange1d\"},{\"attributes\":{\"callback\":null,\"column_names\":[\"y\",\"x\"],\"data\":{\"x\":[-1,130],\"y\":[53.27025969971829,53.27025969971829]}},\"id\":\"03c942c4-fd5b-4147-9b53-41d9d188ad55\",\"type\":\"ColumnDataSource\"},{\"attributes\":{\"line_dash\":[4,4],\"line_width\":{\"value\":2},\"x\":{\"field\":\"x\"},\"y\":{\"field\":\"y\"}},\"id\":\"58853cd6-7bf4-406a-8e09-dd5e2331c910\",\"type\":\"Line\"},{\"attributes\":{},\"id\":\"88fb0559-cd21-4a5c-a0da-40d5029ff296\",\"type\":\"ToolEvents\"},{\"attributes\":{\"dimension\":1,\"plot\":{\"id\":\"5581247a-fe58-45f5-82af-2159194a2f13\",\"subtype\":\"Figure\",\"type\":\"Plot\"},\"ticker\":{\"id\":\"aa586dd5-1cb7-4a38-ab1e-ec8914a73a25\",\"type\":\"BasicTicker\"}},\"id\":\"fc2cd1e7-6e9f-4bd5-8400-0ee574433ab7\",\"type\":\"Grid\"},{\"attributes\":{\"data_source\":{\"id\":\"7d3dc4bb-9eeb-440f-bf44-379e2e716204\",\"type\":\"ColumnDataSource\"},\"glyph\":{\"id\":\"374945bb-07a3-49bd-bcdd-8ef4ad02a0ac\",\"type\":\"Quad\"},\"hover_glyph\":null,\"nonselection_glyph\":{\"id\":\"9eac6070-26f0-4bfa-bfc5-de687578703f\",\"type\":\"Quad\"},\"selection_glyph\":null},\"id\":\"444f5023-1940-47a5-aaff-c4a61f3b3db5\",\"type\":\"GlyphRenderer\"},{\"attributes\":{\"overlay\":{\"id\":\"70a686fb-3c3a-43b7-b77f-6d7e15a3618f\",\"type\":\"BoxAnnotation\"},\"plot\":{\"id\":\"3616ae36-d489-4dc8-b94e-8f7dbc10e264\",\"subtype\":\"Figure\",\"type\":\"Plot\"}},\"id\":\"3a6524fc-989f-47fe-bf83-515fae53fc43\",\"type\":\"BoxZoomTool\"},{\"attributes\":{\"callback\":null,\"column_names\":[\"album\",\"y\",\"x\"],\"data\":{\"album\":[\"The Life Of Pablo\",\"Yeezus\",\"Watch The Throne (Explicit Version)\",\"My Beautiful Dark Twisted Fantasy (Explicit Version)\",\"808s & Heartbreak\",\"Graduation (Explicit Version)\",\"Late Registration (Explicit Version)\",\"The College Dropout (Explicit)\"],\"x\":[2016,2013,2011,2010,2008,2007,2005,2004],\"y\":[94.0,78.0,70.0,80.0,74.0,80.0,78.0,76.0]}},\"id\":\"b6e1fe9d-4cd1-47a3-8be0-6937349d2069\",\"type\":\"ColumnDataSource\"},{\"attributes\":{\"bottom\":{\"value\":0},\"fill_alpha\":{\"value\":0.2},\"fill_color\":{\"value\":\"white\"},\"left\":{\"field\":\"left\"},\"line_color\":{\"value\":\"blue\"},\"right\":{\"field\":\"right\"},\"top\":{\"field\":\"top\"}},\"id\":\"d1def2b3-46fe-4fcc-a193-0426085cee2c\",\"type\":\"Quad\"},{\"attributes\":{\"line_width\":{\"value\":2},\"x\":{\"field\":\"x\"},\"y\":{\"field\":\"y\"}},\"id\":\"583de0a9-0786-450f-9602-291768ac71b1\",\"type\":\"Line\"},{\"attributes\":{\"fill_alpha\":{\"value\":0.4},\"fill_color\":{\"field\":\"fill_color\"},\"line_color\":{\"field\":\"line_color\"},\"size\":{\"units\":\"screen\",\"value\":7},\"x\":{\"field\":\"x\"},\"y\":{\"field\":\"y\"}},\"id\":\"3ca19585-6c9f-4d8c-b899-92e36999d88f\",\"type\":\"Circle\"},{\"attributes\":{},\"id\":\"c6b4c4ff-8b59-4f6b-8670-588e1d5328a1\",\"type\":\"ToolEvents\"},{\"attributes\":{},\"id\":\"d3b921ac-09bc-40cc-b261-305f05da9ce8\",\"type\":\"BasicTickFormatter\"},{\"attributes\":{\"line_alpha\":{\"value\":0.1},\"line_color\":{\"value\":\"#1f77b4\"},\"line_dash\":[2,2],\"line_width\":{\"value\":2},\"x\":{\"field\":\"x\"},\"y\":{\"field\":\"y\"}},\"id\":\"12e9f61c-58eb-4654-8a0a-f77f4c642959\",\"type\":\"Line\"},{\"attributes\":{\"callback\":null},\"id\":\"69513f04-c228-4333-80c0-fbd62996b7b5\",\"type\":\"DataRange1d\"},{\"attributes\":{\"data_source\":{\"id\":\"782b8b43-993c-4485-b42d-236b9575378b\",\"type\":\"ColumnDataSource\"},\"glyph\":{\"id\":\"1ddfed9d-ad8e-4c0c-9277-0ba84ba0fa62\",\"type\":\"Line\"},\"hover_glyph\":null,\"nonselection_glyph\":{\"id\":\"4233f7d2-049a-4cf2-b5a3-0cef9cb5899c\",\"type\":\"Line\"},\"selection_glyph\":null},\"id\":\"74fb3894-91ff-4267-975a-1bcf087e342c\",\"type\":\"GlyphRenderer\"},{\"attributes\":{\"callback\":null,\"column_names\":[\"y\",\"x\",\"collab_num\",\"artist\"],\"data\":{\"artist\":[\"JAY Z\",\"Frank Ocean\",\"The-Dream\",\"Beyonce\",\"Mr Hudson\",\"Kid Cudi\",\"Raekwon\",\"Rick Ross\",\"Nicki Minaj\",\"Pusha T\",\"Prynce Cy Hi\",\"Swizz Beatz\",\"John Legend\",\"Jeezy\",\"Lil Wayne\",\"T-Pain\",\"Mos Def\",\"DJ Premier\",\"Lupe Fiasco\",\"Jamie Foxx\",\"Paul Wall\",\"GLC\",\"Common\",\"The Game\",\"Brandy\",\"Nas\",\"Really Doe\",\"Consequence\",\"Cam'Ron\",\"J. Ivy\",\"Talib Kweli\",\"Twista\",\"Ludacris\",\"Freeway\"],\"collab_num\":[\"56.0\",\"0.0\",\"2.0\",\"4.0\",\"2.0\",\"6.0\",\"0.0\",\"8.0\",\"5.0\",\"4.0\",\"nan\",\"0.0\",\"2.0\",\"2.0\",\"0.0\",\"4.0\",\"0.0\",\"nan\",\"0.0\",\"4.0\",\"0.0\",\"2.0\",\"6.0\",\"3.0\",\"3.0\",\"4.0\",\"nan\",\"4.0\",\"2.0\",\"nan\",\"2.0\",\"2.0\",\"0.0\",\"0.0\"],\"x\":[32.01754385964912,59.357142857142854,22.310077519379846,52.36923076923077,17.22222222222222,39.7265625,15.037735849056604,28.440677966101696,35.91463414634146,32.206896551724135,\"NaN\",15.85,44.015151515151516,23.11244979919679,31.128,19.09090909090909,32.5,\"NaN\",28.619402985074625,25.40963855421687,13.08148148148148,1.5833333333333333,24.664429530201343,22.8515625,25.075342465753426,24.407960199004975,\"NaN\",9.690909090909091,16.333333333333332,\"NaN\",18.36190476190476,17.55151515151515,25.0,5.862903225806452],\"y\":[41.625,\"NaN\",34.0,51.5,31.0,44.5,\"NaN\",32.875,30.8,36.75,\"NaN\",\"NaN\",27.0,52.5,\"NaN\",19.75,\"NaN\",\"NaN\",\"NaN\",26.5,\"NaN\",23.5,30.166666666666668,37.666666666666664,29.0,27.75,\"NaN\",34.0,37.5,\"NaN\",23.0,50.5,\"NaN\",\"NaN\"]}},\"id\":\"2bb15be0-fd49-4d34-a408-34c3d3621c12\",\"type\":\"ColumnDataSource\"},{\"attributes\":{\"line_alpha\":{\"value\":0.1},\"line_color\":{\"value\":\"#1f77b4\"},\"line_dash\":[4,4],\"line_width\":{\"value\":2},\"x\":{\"field\":\"x\"},\"y\":{\"field\":\"y\"}},\"id\":\"9aca4e64-dc42-4c66-b4a4-a760f2e0190e\",\"type\":\"Line\"},{\"attributes\":{\"line_alpha\":{\"value\":0.1},\"line_color\":{\"value\":\"#1f77b4\"},\"line_dash\":[4,4],\"line_width\":{\"value\":2},\"x\":{\"field\":\"x\"},\"y\":{\"field\":\"y\"}},\"id\":\"48ba6836-1db8-4c3a-a64b-b690bb8b8e8a\",\"type\":\"Line\"},{\"attributes\":{\"bottom_units\":\"screen\",\"fill_alpha\":{\"value\":0.5},\"fill_color\":{\"value\":\"lightgrey\"},\"left_units\":\"screen\",\"level\":\"overlay\",\"line_alpha\":{\"value\":1.0},\"line_color\":{\"value\":\"black\"},\"line_dash\":[4,4],\"line_width\":{\"value\":2},\"plot\":null,\"render_mode\":\"css\",\"right_units\":\"screen\",\"top_units\":\"screen\"},\"id\":\"ff8af659-5004-4d35-877e-482ca72e7713\",\"type\":\"BoxAnnotation\"},{\"attributes\":{\"line_alpha\":{\"value\":0.1},\"line_color\":{\"value\":\"#1f77b4\"},\"line_dash\":[4,4],\"line_width\":{\"value\":2},\"x\":{\"field\":\"x\"},\"y\":{\"field\":\"y\"}},\"id\":\"84770c55-dc57-46dc-b188-6fd303c79051\",\"type\":\"Line\"},{\"attributes\":{\"callback\":null,\"column_names\":[\"y\",\"x\"],\"data\":{\"x\":[-1,10],\"y\":[46.92413612911386,46.92413612911386]}},\"id\":\"15781fa3-0629-46d7-9ff7-3ecd3be6174a\",\"type\":\"ColumnDataSource\"},{\"attributes\":{\"callback\":null},\"id\":\"8d94f961-10fe-4d07-a8a2-d74cec2c1f16\",\"type\":\"DataRange1d\"},{\"attributes\":{\"legends\":[[\"Solo\",[{\"id\":\"03b245c2-8859-449b-933c-78e2c86874fc\",\"type\":\"GlyphRenderer\"}]],[\"Collaboration\",[{\"id\":\"0401bbee-5a05-40b6-95ed-ae1e97c8db3f\",\"type\":\"GlyphRenderer\"}]]],\"plot\":{\"id\":\"40984381-804f-484c-b412-49c9a1eb6ef2\",\"subtype\":\"Figure\",\"type\":\"Plot\"}},\"id\":\"27964b6e-be2d-45fe-b261-460289046e4f\",\"type\":\"Legend\"},{\"attributes\":{},\"id\":\"e6d24066-f06d-4c4d-b89a-4ad8c047df5a\",\"type\":\"BasicTickFormatter\"},{\"attributes\":{\"overlay\":{\"id\":\"788ea862-834d-4546-8b96-8a45edc9bdd0\",\"type\":\"BoxAnnotation\"},\"plot\":{\"id\":\"808beac1-0692-49c6-a2e3-ecf0db7e7de9\",\"subtype\":\"Figure\",\"type\":\"Plot\"}},\"id\":\"210bb3fe-07d3-4659-bda0-f23befda4897\",\"type\":\"BoxZoomTool\"},{\"attributes\":{\"callback\":null},\"id\":\"1caa4fb8-7b70-4c8c-b27d-9dead14a9f01\",\"type\":\"DataRange1d\"},{\"attributes\":{\"callback\":null},\"id\":\"39072606-7759-427e-b76e-cfe095c6f627\",\"type\":\"DataRange1d\"},{\"attributes\":{\"bottom\":{\"value\":0},\"fill_color\":{\"value\":\"white\"},\"left\":{\"field\":\"left\"},\"line_color\":{\"value\":\"red\"},\"right\":{\"field\":\"right\"},\"top\":{\"field\":\"top\"}},\"id\":\"eb70162f-28b4-4fec-9a3f-4fbc03c6a8eb\",\"type\":\"Quad\"},{\"attributes\":{},\"id\":\"a4969b78-71da-47fd-89c1-1d3d0c18e5cd\",\"type\":\"BasicTicker\"},{\"attributes\":{\"line_dash\":[2,2],\"line_width\":{\"value\":2},\"x\":{\"field\":\"x\"},\"y\":{\"field\":\"y\"}},\"id\":\"39bf8ed2-3b0d-4038-be7b-1880a4f3ae44\",\"type\":\"Line\"},{\"attributes\":{},\"id\":\"006f8a4a-f4f6-4555-95d7-3a5d699e7ec6\",\"type\":\"BasicTicker\"},{\"attributes\":{\"legends\":[[\"Linear Regression\",[{\"id\":\"e148832a-d985-465d-8823-91b3a43258d7\",\"type\":\"GlyphRenderer\"}]],[\"One-to-One\",[{\"id\":\"632d2f39-7144-4dfb-9475-79bf96d217b0\",\"type\":\"GlyphRenderer\"}]]],\"plot\":{\"id\":\"c4b3a879-ecc0-433b-ab6e-393d30e0a4fd\",\"subtype\":\"Figure\",\"type\":\"Plot\"}},\"id\":\"df511407-6640-4e89-a493-412dbe4d8e80\",\"type\":\"Legend\"},{\"attributes\":{\"data_source\":{\"id\":\"3eb391fa-7269-48a5-ade8-7979d77e875c\",\"type\":\"ColumnDataSource\"},\"glyph\":{\"id\":\"794e84ae-b75b-42a0-a9be-2674ce6412c2\",\"type\":\"Line\"},\"hover_glyph\":null,\"nonselection_glyph\":{\"id\":\"7b649b0d-dbb6-4acf-8ab4-4d2a68bc675d\",\"type\":\"Line\"},\"selection_glyph\":null},\"id\":\"8c1769c0-e9eb-4b5c-befa-de1f72864807\",\"type\":\"GlyphRenderer\"},{\"attributes\":{\"callback\":null,\"column_names\":[\"y\",\"person\",\"x\"],\"data\":{\"person\":[\"God\",\"JAY Z\",\"Frank Ocean\",\"The-Dream\",\"Beyonce\",\"Otis Redding\",\"Mr Hudson\",\"Kid Cudi\",\"Raekwon\",\"Rick Ross\",\"Nicki Minaj\",\"Bon Iver\",\"Pusha T\",\"Prynce Cy Hi\",\"Swizz Beatz\",\"RZA\",\"John Legend\",\"Jeezy\",\"Lil Wayne\",\"T-Pain\",\"Mos Def\",\"DJ Premier\",\"Chris Martin\",\"Adam Levine\",\"Lupe Fiasco\",\"Jamie Foxx\",\"Paul Wall\",\"GLC\",\"Common\",\"The Game\",\"Brandy\",\"Nas\",\"Really Doe\",\"Consequence\",\"Cam'Ron\",\"Syleena Johnson\",\"J. Ivy\",\"Talib Kweli\",\"Twista\",\"Ludacris\",\"Freeway\",\"The Boys Choir Of Harlem\"],\"x\":[0,1,2,3,4,5,6,7,8,9,10,11,12,13,14,15,16,17,18,19,20,21,22,23,24,25,26,27,28,29,30,31,32,33,34,35,36,37,38,39,40,41],\"y\":[60,55,54,59,52,58,55,59,61,64,68,63,63,58,58,58,59,64,55,67,54,59,13,62,63,69,58,58,54,52,51,53,53,57,56,66,56,57,62,53,53,53]}},\"id\":\"e040d03f-b272-415b-8772-e62bdf1fbef8\",\"type\":\"ColumnDataSource\"}],\"root_ids\":[\"906090f5-7fc8-4666-bdc4-2cfa29be15ef\",\"fa223b75-3433-4548-8291-731dae75b280\",\"ff811071-6dec-40fe-a96c-f0a67ca21b61\",\"4a4d436d-255f-4335-8d9c-e1391d214d68\",\"3616ae36-d489-4dc8-b94e-8f7dbc10e264\",\"4ec5713c-3a2c-479d-9d6e-f0ce4a54d454\",\"5581247a-fe58-45f5-82af-2159194a2f13\",\"c7e8162f-cc19-4796-bd8e-4bc85c8da834\",\"4ffbe01a-4dc5-41a4-b3e4-1da56420e097\",\"87004a05-fd1e-4435-ab9a-c02034cd2ae0\",\"92b5ec37-ca99-4256-98f6-89b3d5e02eb3\",\"db14c567-64ba-4e05-b6f1-bb87ce6bf4f1\",\"c3c0eb43-d653-4732-99f4-363b81ebfd66\",\"0218e7c7-c2e7-440c-a494-9b99e502f7a8\",\"f8d0ef78-8fe7-49c2-8a93-afe1dcadb6b4\",\"808beac1-0692-49c6-a2e3-ecf0db7e7de9\",\"c163acbe-edba-4d39-ae8f-0c56519a9cc4\",\"d88ffe13-3f11-4938-b3bf-6ca710b53c87\",\"a406ebf3-7fee-4dd4-9327-caaf80fc284a\",\"42d95f82-ea66-4636-bfa0-901593efc674\",\"c4b3a879-ecc0-433b-ab6e-393d30e0a4fd\",\"50fb0a0d-4a0a-457f-bcb5-db1a0b705072\",\"077763eb-d52b-42ce-8454-df4a37e542ba\",\"5763382d-75de-4932-aa18-5d1f033657d2\",\"4e696ab0-d96e-4cab-b1c5-5f2b4861d8bc\",\"364976bb-91fe-4abc-8ff2-febda1eb7377\",\"58361c2d-9a21-4f09-9573-41312e1214d0\",\"3fcbd322-bcc0-44be-a67c-49e08ce201f3\",\"f0cbd62f-278f-4516-a395-9babb5082038\",\"40984381-804f-484c-b412-49c9a1eb6ef2\",\"00954d86-a32b-49f4-b0b3-c33b05112bed\"]},\"title\":\"Bokeh Application\",\"version\":\"0.11.1\"}};\n",
       "            var render_items = [{\"docid\":\"fc5030ed-0392-410b-a148-401ea2058523\",\"elementid\":\"71bb8e0a-e6bd-435c-8532-95f5ac9def7f\",\"modelid\":\"00954d86-a32b-49f4-b0b3-c33b05112bed\",\"notebook_comms_target\":\"6841e860-f2ac-4a36-a863-d534e972656a\"}];\n",
       "            \n",
       "            Bokeh.embed.embed_items(docs_json, render_items);\n",
       "        });\n",
       "      },\n",
       "      function(Bokeh) {\n",
       "      }\n",
       "    ];\n",
       "  \n",
       "    function run_inline_js() {\n",
       "      for (var i = 0; i < inline_js.length; i++) {\n",
       "        inline_js[i](window.Bokeh);\n",
       "      }\n",
       "    }\n",
       "  \n",
       "    if (window._bokeh_is_loading === 0) {\n",
       "      console.log(\"Bokeh: BokehJS loaded, going straight to plotting\");\n",
       "      run_inline_js();\n",
       "    } else {\n",
       "      load_libs(js_urls, function() {\n",
       "        console.log(\"Bokeh: BokehJS plotting callback run at\", now());\n",
       "        run_inline_js();\n",
       "      });\n",
       "    }\n",
       "  }(this));\n",
       "</script>"
      ]
     },
     "metadata": {},
     "output_type": "display_data"
    },
    {
     "data": {
      "text/html": [
       "<p><code>&lt;Bokeh Notebook handle for <strong>In[102]</strong>&gt;</code></p>"
      ],
      "text/plain": [
       "<bokeh.io._CommsHandle at 0x112e318d0>"
      ]
     },
     "execution_count": 102,
     "metadata": {},
     "output_type": "execute_result"
    }
   ],
   "source": [
    "from bokeh.plotting import figure, show, vplot\n",
    "from bokeh.charts import Histogram,Bar, output_file, show, output_notebook\n",
    "from bokeh.charts.attributes import cat, color\n",
    "from bokeh.charts.operations import blend\n",
    "from bokeh.models import ColumnDataSource, HoverTool, BoxZoomTool, ResetTool    \n",
    "from bokeh.charts import Scatter, output_file, show \n",
    "\n",
    "jz_explicit['count']=pd.Series(range(0, len(jz_explicit)))\n",
    "\n",
    "source = ColumnDataSource(\n",
    "        data=dict(\n",
    "            x=jz_explicit['count'],\n",
    "            y=jz_explicit['popularity'],\n",
    "            track=jz_explicit['name'].astype(object),\n",
    "            album=jz_explicit['album'].astype(str),\n",
    "        )\n",
    "    )\n",
    "\n",
    "TOOLS = [BoxZoomTool(), ResetTool(), HoverTool(tooltips=[(\"Track\",\"@track\"),(\"album\",\"@album\")])]\n",
    "\n",
    "colormap = {'American Gangster (Explicit Version)': 'red', 'Collision Course': 'pink',  \n",
    "            'Kingdom Come': 'green',\\\n",
    "            'Magna Carta... Holy Grail (Explicit Version)': 'blue', \\\n",
    "           'The Best Of Both Worlds (Explicit Version)': 'purple', \\\n",
    "            'The Black Album (Explicit)': 'cyan',\\\n",
    "            'Unfinished Business (Explicit)' : 'black', \\\n",
    "            'Watch The Throne (Explicit Version)' : 'orange'}\n",
    "jz_explicit['color'] = jz_explicit['album'].map(lambda x: colormap[x])\n",
    "\n",
    "\n",
    "meaner=np.mean(jz_explicit['popularity'])\n",
    "stder=np.std(jz_explicit['popularity'])\n",
    "\n",
    "p3 = figure(plot_width=600, plot_height=500, tools=TOOLS)\n",
    "p3.xaxis.axis_label = \"track\"\n",
    "p3.yaxis.axis_label = \"Popularity\"\n",
    "p3.circle(jz_explicit.loc[np.where(jz_explicit['name']=='Beach Chair')[0],'count'], jz_explicit.loc[np.where(jz_explicit['name']=='Beach Chair')[0],'popularity'], size=12, color='gold')\n",
    "p3.circle('x', 'y', size=7,fill_alpha=0.4, color=jz_explicit['color'], source=source)\n",
    "p3.xaxis.major_label_text_font_size = '0pt'\n",
    "\n",
    "p3.line([-1,130],[meaner, meaner], line_width=2, color='black')\n",
    "p3.line([-1,130],[(meaner+stder), (meaner+stder)], line_dash=\"4 4\", line_width=2, color='black')\n",
    "p3.line([-1,130],[(meaner-stder), (meaner-stder)], line_dash=\"4 4\", line_width=2, color='black')\n",
    "\n",
    "output_notebook()\n",
    "\n",
    "show(p3)\n",
    "\n",
    "\n",
    "#### REDO FOR HTML ##########"
   ]
  },
  {
   "cell_type": "markdown",
   "metadata": {},
   "source": [
    "Nope! 'Beach Chair' is actually a bit more popular than average for Jay Z. And just a note, apparently people don't like it when Hova goes a cappella..."
   ]
  },
  {
   "cell_type": "code",
   "execution_count": 103,
   "metadata": {
    "collapsed": false
   },
   "outputs": [
    {
     "name": "stdout",
     "output_type": "stream",
     "text": [
      "\n",
      "<div class=\"plotdiv\" id=\"c83e113f-8c34-4c87-82bb-2dd709c13ca4\"></div>\n"
     ]
    }
   ],
   "source": [
    "from bokeh.embed import components\n",
    "script, div = components(p3)\n",
    "\n",
    "print div\n",
    "\n",
    "f=open('p7.js', 'w')\n",
    "f.write(script)\n",
    "f.close()"
   ]
  },
  {
   "cell_type": "code",
   "execution_count": 60,
   "metadata": {
    "collapsed": false
   },
   "outputs": [],
   "source": [
    "# Artists that have the largest positive affect on Kanye tracks: Jamie Foxx, T-Pain, Nicki Minaj, Syleena Johnson (but no collabs)\n",
    "# Artists with largest negative affect on Kanye tracks: Chris Martin, Brandy, The Game, Ludacris, Freeway\n",
    "other_artists=pd.DataFrame()\n",
    "other_artists['name']=['JAY Z', 'Frank Ocean', 'The-Dream', 'Beyonce', 'Mr Hudson', 'Kid Cudi',\\\n",
    "                       'Raekwon', 'Rick Ross', 'Nicki Minaj', 'Pusha T', 'Prynce Cy Hi', \\\n",
    "                       'Swizz Beatz', 'John Legend', 'Jeezy', 'Lil Wayne', 'T-Pain',\\\n",
    "                       'Mos Def', 'DJ Premier', 'Lupe Fiasco', 'Jamie Foxx','Paul Wall', \\\n",
    "                       'GLC', 'Common', 'The Game', 'Brandy', 'Nas', 'Really Doe', 'Consequence',\\\n",
    "                      \"Cam'Ron\", 'J. Ivy', 'Talib Kweli', 'Twista', 'Ludacris', 'Freeway']\n",
    "other_artists['solo_pop']=np.nan\n",
    "other_artists['kanye_pop']=np.nan\n",
    "other_artists['kanye_num']=np.nan"
   ]
  },
  {
   "cell_type": "code",
   "execution_count": 78,
   "metadata": {
    "collapsed": false
   },
   "outputs": [
    {
     "name": "stdout",
     "output_type": "stream",
     "text": [
      "Talib Kweli\n",
      "Querying Album Tracks\n",
      "0\n",
      "20\n",
      "40\n",
      "60\n",
      "80\n",
      "100\n",
      "120\n",
      "140\n",
      "160\n",
      "180\n",
      "200\n",
      "220\n",
      "240\n",
      "Twista\n",
      "Querying Album Tracks\n",
      "0\n",
      "20\n",
      "40\n",
      "60\n",
      "80\n",
      "100\n",
      "120\n",
      "140\n",
      "160\n",
      "180\n",
      "200\n",
      "220\n",
      "240\n",
      "260\n",
      "280\n",
      "300\n",
      "Ludacris\n",
      "Querying Album Tracks\n",
      "0\n",
      "20\n",
      "40\n",
      "60\n",
      "80\n",
      "100\n",
      "120\n",
      "140\n",
      "160\n",
      "180\n",
      "200\n",
      "220\n",
      "240\n",
      "260\n",
      "280\n",
      "300\n",
      "Freeway\n",
      "Querying Album Tracks\n",
      "0\n",
      "20\n",
      "40\n",
      "60\n",
      "80\n",
      "100\n",
      "120\n",
      "140\n",
      "160\n",
      "180\n",
      "200\n",
      "220\n",
      "240\n"
     ]
    }
   ],
   "source": [
    "for i in range(30,len(other_artists)): \n",
    "    print other_artists.loc[i,'name']\n",
    "    if (other_artists.loc[i,'name']=='JAY Z'): \n",
    "        temp_albums=jz_albums\n",
    "        temp_tracks=jz_tracks\n",
    "    else:\n",
    "        temp_albums=fetch_albums(other_artists.loc[i,'name']) \n",
    "        temp_tracks=fetch_tracks(temp_albums)\n",
    "    \n",
    "    if (len(temp_tracks)>0):\n",
    "        temp_kanye=temp_tracks.loc[np.where(temp_tracks['artists_on_track'].str.contains('Kanye West')==True)[0]]\n",
    "        temp_alone=temp_tracks.loc[np.where(temp_tracks['artist_num']==1)[0]]\n",
    "    \n",
    "        other_artists.loc[i,'solo_pop']=temp_alone['popularity'].mean()\n",
    "        other_artists.loc[i,'kanye_pop']=temp_kanye['popularity'].mean()\n",
    "        other_artists.loc[i,'kanye_num']=len(temp_kanye)"
   ]
  },
  {
   "cell_type": "code",
   "execution_count": 84,
   "metadata": {
    "collapsed": false
   },
   "outputs": [
    {
     "name": "stdout",
     "output_type": "stream",
     "text": [
      "33\n"
     ]
    },
    {
     "data": {
      "text/html": [
       "<div style=\"max-height:1000px;max-width:1500px;overflow:auto;\">\n",
       "<table border=\"1\" class=\"dataframe\">\n",
       "  <thead>\n",
       "    <tr style=\"text-align: right;\">\n",
       "      <th></th>\n",
       "      <th>name</th>\n",
       "      <th>solo_pop</th>\n",
       "      <th>kanye_pop</th>\n",
       "      <th>kanye_num</th>\n",
       "    </tr>\n",
       "  </thead>\n",
       "  <tbody>\n",
       "    <tr>\n",
       "      <th>0 </th>\n",
       "      <td>        JAY Z</td>\n",
       "      <td> 32.017544</td>\n",
       "      <td> 41.625000</td>\n",
       "      <td> 56</td>\n",
       "    </tr>\n",
       "    <tr>\n",
       "      <th>1 </th>\n",
       "      <td>  Frank Ocean</td>\n",
       "      <td> 59.357143</td>\n",
       "      <td>       NaN</td>\n",
       "      <td>  0</td>\n",
       "    </tr>\n",
       "    <tr>\n",
       "      <th>2 </th>\n",
       "      <td>    The-Dream</td>\n",
       "      <td> 22.310078</td>\n",
       "      <td> 34.000000</td>\n",
       "      <td>  2</td>\n",
       "    </tr>\n",
       "    <tr>\n",
       "      <th>3 </th>\n",
       "      <td>      Beyonce</td>\n",
       "      <td> 52.369231</td>\n",
       "      <td> 51.500000</td>\n",
       "      <td>  4</td>\n",
       "    </tr>\n",
       "    <tr>\n",
       "      <th>4 </th>\n",
       "      <td>    Mr Hudson</td>\n",
       "      <td> 17.222222</td>\n",
       "      <td> 31.000000</td>\n",
       "      <td>  2</td>\n",
       "    </tr>\n",
       "    <tr>\n",
       "      <th>5 </th>\n",
       "      <td>     Kid Cudi</td>\n",
       "      <td> 39.726562</td>\n",
       "      <td> 44.500000</td>\n",
       "      <td>  6</td>\n",
       "    </tr>\n",
       "    <tr>\n",
       "      <th>6 </th>\n",
       "      <td>      Raekwon</td>\n",
       "      <td> 15.037736</td>\n",
       "      <td>       NaN</td>\n",
       "      <td>  0</td>\n",
       "    </tr>\n",
       "    <tr>\n",
       "      <th>7 </th>\n",
       "      <td>    Rick Ross</td>\n",
       "      <td> 28.440678</td>\n",
       "      <td> 32.875000</td>\n",
       "      <td>  8</td>\n",
       "    </tr>\n",
       "    <tr>\n",
       "      <th>8 </th>\n",
       "      <td>  Nicki Minaj</td>\n",
       "      <td> 35.914634</td>\n",
       "      <td> 30.800000</td>\n",
       "      <td>  5</td>\n",
       "    </tr>\n",
       "    <tr>\n",
       "      <th>9 </th>\n",
       "      <td>      Pusha T</td>\n",
       "      <td> 32.206897</td>\n",
       "      <td> 36.750000</td>\n",
       "      <td>  4</td>\n",
       "    </tr>\n",
       "    <tr>\n",
       "      <th>10</th>\n",
       "      <td> Prynce Cy Hi</td>\n",
       "      <td>       NaN</td>\n",
       "      <td>       NaN</td>\n",
       "      <td>NaN</td>\n",
       "    </tr>\n",
       "    <tr>\n",
       "      <th>11</th>\n",
       "      <td>  Swizz Beatz</td>\n",
       "      <td> 15.850000</td>\n",
       "      <td>       NaN</td>\n",
       "      <td>  0</td>\n",
       "    </tr>\n",
       "    <tr>\n",
       "      <th>12</th>\n",
       "      <td>  John Legend</td>\n",
       "      <td> 44.015152</td>\n",
       "      <td> 27.000000</td>\n",
       "      <td>  2</td>\n",
       "    </tr>\n",
       "    <tr>\n",
       "      <th>13</th>\n",
       "      <td>        Jeezy</td>\n",
       "      <td> 23.112450</td>\n",
       "      <td> 52.500000</td>\n",
       "      <td>  2</td>\n",
       "    </tr>\n",
       "    <tr>\n",
       "      <th>14</th>\n",
       "      <td>    Lil Wayne</td>\n",
       "      <td> 31.128000</td>\n",
       "      <td>       NaN</td>\n",
       "      <td>  0</td>\n",
       "    </tr>\n",
       "    <tr>\n",
       "      <th>15</th>\n",
       "      <td>       T-Pain</td>\n",
       "      <td> 19.090909</td>\n",
       "      <td> 19.750000</td>\n",
       "      <td>  4</td>\n",
       "    </tr>\n",
       "    <tr>\n",
       "      <th>16</th>\n",
       "      <td>      Mos Def</td>\n",
       "      <td> 32.500000</td>\n",
       "      <td>       NaN</td>\n",
       "      <td>  0</td>\n",
       "    </tr>\n",
       "    <tr>\n",
       "      <th>17</th>\n",
       "      <td>   DJ Premier</td>\n",
       "      <td>       NaN</td>\n",
       "      <td>       NaN</td>\n",
       "      <td>NaN</td>\n",
       "    </tr>\n",
       "    <tr>\n",
       "      <th>18</th>\n",
       "      <td>  Lupe Fiasco</td>\n",
       "      <td> 28.619403</td>\n",
       "      <td>       NaN</td>\n",
       "      <td>  0</td>\n",
       "    </tr>\n",
       "    <tr>\n",
       "      <th>19</th>\n",
       "      <td>   Jamie Foxx</td>\n",
       "      <td> 25.409639</td>\n",
       "      <td> 26.500000</td>\n",
       "      <td>  4</td>\n",
       "    </tr>\n",
       "    <tr>\n",
       "      <th>20</th>\n",
       "      <td>    Paul Wall</td>\n",
       "      <td> 13.081481</td>\n",
       "      <td>       NaN</td>\n",
       "      <td>  0</td>\n",
       "    </tr>\n",
       "    <tr>\n",
       "      <th>21</th>\n",
       "      <td>          GLC</td>\n",
       "      <td>  1.583333</td>\n",
       "      <td> 23.500000</td>\n",
       "      <td>  2</td>\n",
       "    </tr>\n",
       "    <tr>\n",
       "      <th>22</th>\n",
       "      <td>       Common</td>\n",
       "      <td> 24.664430</td>\n",
       "      <td> 30.166667</td>\n",
       "      <td>  6</td>\n",
       "    </tr>\n",
       "    <tr>\n",
       "      <th>23</th>\n",
       "      <td>     The Game</td>\n",
       "      <td> 22.851562</td>\n",
       "      <td> 37.666667</td>\n",
       "      <td>  3</td>\n",
       "    </tr>\n",
       "    <tr>\n",
       "      <th>24</th>\n",
       "      <td>       Brandy</td>\n",
       "      <td> 25.075342</td>\n",
       "      <td> 29.000000</td>\n",
       "      <td>  3</td>\n",
       "    </tr>\n",
       "    <tr>\n",
       "      <th>25</th>\n",
       "      <td>          Nas</td>\n",
       "      <td> 24.407960</td>\n",
       "      <td> 27.750000</td>\n",
       "      <td>  4</td>\n",
       "    </tr>\n",
       "    <tr>\n",
       "      <th>26</th>\n",
       "      <td>   Really Doe</td>\n",
       "      <td>       NaN</td>\n",
       "      <td>       NaN</td>\n",
       "      <td>NaN</td>\n",
       "    </tr>\n",
       "    <tr>\n",
       "      <th>27</th>\n",
       "      <td>  Consequence</td>\n",
       "      <td>  9.690909</td>\n",
       "      <td> 34.000000</td>\n",
       "      <td>  4</td>\n",
       "    </tr>\n",
       "    <tr>\n",
       "      <th>28</th>\n",
       "      <td>      Cam'Ron</td>\n",
       "      <td> 16.333333</td>\n",
       "      <td> 37.500000</td>\n",
       "      <td>  2</td>\n",
       "    </tr>\n",
       "    <tr>\n",
       "      <th>29</th>\n",
       "      <td>       J. Ivy</td>\n",
       "      <td>       NaN</td>\n",
       "      <td>       NaN</td>\n",
       "      <td>NaN</td>\n",
       "    </tr>\n",
       "    <tr>\n",
       "      <th>30</th>\n",
       "      <td>  Talib Kweli</td>\n",
       "      <td> 18.361905</td>\n",
       "      <td> 23.000000</td>\n",
       "      <td>  2</td>\n",
       "    </tr>\n",
       "    <tr>\n",
       "      <th>31</th>\n",
       "      <td>       Twista</td>\n",
       "      <td> 17.551515</td>\n",
       "      <td> 50.500000</td>\n",
       "      <td>  2</td>\n",
       "    </tr>\n",
       "    <tr>\n",
       "      <th>32</th>\n",
       "      <td>     Ludacris</td>\n",
       "      <td> 25.000000</td>\n",
       "      <td>       NaN</td>\n",
       "      <td>  0</td>\n",
       "    </tr>\n",
       "    <tr>\n",
       "      <th>33</th>\n",
       "      <td>      Freeway</td>\n",
       "      <td>  5.862903</td>\n",
       "      <td>       NaN</td>\n",
       "      <td>  0</td>\n",
       "    </tr>\n",
       "  </tbody>\n",
       "</table>\n",
       "</div>"
      ],
      "text/plain": [
       "            name   solo_pop  kanye_pop  kanye_num\n",
       "0          JAY Z  32.017544  41.625000         56\n",
       "1    Frank Ocean  59.357143        NaN          0\n",
       "2      The-Dream  22.310078  34.000000          2\n",
       "3        Beyonce  52.369231  51.500000          4\n",
       "4      Mr Hudson  17.222222  31.000000          2\n",
       "5       Kid Cudi  39.726562  44.500000          6\n",
       "6        Raekwon  15.037736        NaN          0\n",
       "7      Rick Ross  28.440678  32.875000          8\n",
       "8    Nicki Minaj  35.914634  30.800000          5\n",
       "9        Pusha T  32.206897  36.750000          4\n",
       "10  Prynce Cy Hi        NaN        NaN        NaN\n",
       "11   Swizz Beatz  15.850000        NaN          0\n",
       "12   John Legend  44.015152  27.000000          2\n",
       "13         Jeezy  23.112450  52.500000          2\n",
       "14     Lil Wayne  31.128000        NaN          0\n",
       "15        T-Pain  19.090909  19.750000          4\n",
       "16       Mos Def  32.500000        NaN          0\n",
       "17    DJ Premier        NaN        NaN        NaN\n",
       "18   Lupe Fiasco  28.619403        NaN          0\n",
       "19    Jamie Foxx  25.409639  26.500000          4\n",
       "20     Paul Wall  13.081481        NaN          0\n",
       "21           GLC   1.583333  23.500000          2\n",
       "22        Common  24.664430  30.166667          6\n",
       "23      The Game  22.851562  37.666667          3\n",
       "24        Brandy  25.075342  29.000000          3\n",
       "25           Nas  24.407960  27.750000          4\n",
       "26    Really Doe        NaN        NaN        NaN\n",
       "27   Consequence   9.690909  34.000000          4\n",
       "28       Cam'Ron  16.333333  37.500000          2\n",
       "29        J. Ivy        NaN        NaN        NaN\n",
       "30   Talib Kweli  18.361905  23.000000          2\n",
       "31        Twista  17.551515  50.500000          2\n",
       "32      Ludacris  25.000000        NaN          0\n",
       "33       Freeway   5.862903        NaN          0"
      ]
     },
     "execution_count": 84,
     "metadata": {},
     "output_type": "execute_result"
    }
   ],
   "source": [
    "print i\n",
    "other_artists"
   ]
  },
  {
   "cell_type": "code",
   "execution_count": 88,
   "metadata": {
    "collapsed": false
   },
   "outputs": [
    {
     "data": {
      "text/html": [
       "\n",
       "    <div class=\"bk-banner\">\n",
       "        <a href=\"http://bokeh.pydata.org\" target=\"_blank\" class=\"bk-logo bk-logo-small bk-logo-notebook\"></a>\n",
       "        <span id=\"570bf81c-1379-4dc7-b638-ee08888a1c36\">Loading BokehJS ...</span>\n",
       "    </div>"
      ]
     },
     "metadata": {},
     "output_type": "display_data"
    },
    {
     "data": {
      "application/javascript": [
       "\n",
       "(function(global) {\n",
       "  function now() {\n",
       "    return new Date();\n",
       "  }\n",
       "\n",
       "  if (typeof (window._bokeh_onload_callbacks) === \"undefined\") {\n",
       "    window._bokeh_onload_callbacks = [];\n",
       "  }\n",
       "\n",
       "  function run_callbacks() {\n",
       "    window._bokeh_onload_callbacks.forEach(function(callback) { callback() });\n",
       "    delete window._bokeh_onload_callbacks\n",
       "    console.info(\"Bokeh: all callbacks have finished\");\n",
       "  }\n",
       "\n",
       "  function load_libs(js_urls, callback) {\n",
       "    window._bokeh_onload_callbacks.push(callback);\n",
       "    if (window._bokeh_is_loading > 0) {\n",
       "      console.log(\"Bokeh: BokehJS is being loaded, scheduling callback at\", now());\n",
       "      return null;\n",
       "    }\n",
       "    if (js_urls == null || js_urls.length === 0) {\n",
       "      run_callbacks();\n",
       "      return null;\n",
       "    }\n",
       "    console.log(\"Bokeh: BokehJS not loaded, scheduling load and callback at\", now());\n",
       "    window._bokeh_is_loading = js_urls.length;\n",
       "    for (var i = 0; i < js_urls.length; i++) {\n",
       "      var url = js_urls[i];\n",
       "      var s = document.createElement('script');\n",
       "      s.src = url;\n",
       "      s.async = false;\n",
       "      s.onreadystatechange = s.onload = function() {\n",
       "        window._bokeh_is_loading--;\n",
       "        if (window._bokeh_is_loading === 0) {\n",
       "          console.log(\"Bokeh: all BokehJS libraries loaded\");\n",
       "          run_callbacks()\n",
       "        }\n",
       "      };\n",
       "      s.onerror = function() {\n",
       "        console.warn(\"failed to load library \" + url);\n",
       "      };\n",
       "      console.log(\"Bokeh: injecting script tag for BokehJS library: \", url);\n",
       "      document.getElementsByTagName(\"head\")[0].appendChild(s);\n",
       "    }\n",
       "  };\n",
       "\n",
       "  var js_urls = ['https://cdn.pydata.org/bokeh/release/bokeh-0.11.1.min.js', 'https://cdn.pydata.org/bokeh/release/bokeh-widgets-0.11.1.min.js', 'https://cdn.pydata.org/bokeh/release/bokeh-compiler-0.11.1.min.js'];\n",
       "\n",
       "  var inline_js = [\n",
       "    function(Bokeh) {\n",
       "      Bokeh.set_log_level(\"info\");\n",
       "    },\n",
       "    \n",
       "    function(Bokeh) {\n",
       "      Bokeh.$(\"#570bf81c-1379-4dc7-b638-ee08888a1c36\").text(\"BokehJS successfully loaded\");\n",
       "    },\n",
       "    function(Bokeh) {\n",
       "      console.log(\"Bokeh: injecting CSS: https://cdn.pydata.org/bokeh/release/bokeh-0.11.1.min.css\");\n",
       "      Bokeh.embed.inject_css(\"https://cdn.pydata.org/bokeh/release/bokeh-0.11.1.min.css\");\n",
       "      console.log(\"Bokeh: injecting CSS: https://cdn.pydata.org/bokeh/release/bokeh-widgets-0.11.1.min.css\");\n",
       "      Bokeh.embed.inject_css(\"https://cdn.pydata.org/bokeh/release/bokeh-widgets-0.11.1.min.css\");\n",
       "    }\n",
       "  ];\n",
       "\n",
       "  function run_inline_js() {\n",
       "    for (var i = 0; i < inline_js.length; i++) {\n",
       "      inline_js[i](window.Bokeh);\n",
       "    }\n",
       "  }\n",
       "\n",
       "  if (window._bokeh_is_loading === 0) {\n",
       "    console.log(\"Bokeh: BokehJS loaded, going straight to plotting\");\n",
       "    run_inline_js();\n",
       "  } else {\n",
       "    load_libs(js_urls, function() {\n",
       "      console.log(\"Bokeh: BokehJS plotting callback run at\", now());\n",
       "      run_inline_js();\n",
       "    });\n",
       "  }\n",
       "}(this));"
      ]
     },
     "metadata": {},
     "output_type": "display_data"
    }
   ],
   "source": [
    "from bokeh.plotting import figure, show, vplot\n",
    "from bokeh.charts import Histogram,Bar, output_file, show, output_notebook\n",
    "from bokeh.charts.attributes import cat, color\n",
    "from bokeh.charts.operations import blend\n",
    "from bokeh.models import ColumnDataSource, HoverTool, BoxZoomTool, ResetTool    \n",
    "from bokeh.charts import Scatter, output_file, show \n",
    "from scipy import stats \n",
    "\n",
    "\n",
    "source = ColumnDataSource(\n",
    "        data=dict(\n",
    "            x=other_artists['solo_pop'],\n",
    "            y=other_artists['kanye_pop'],\n",
    "            artist=other_artists['name'].astype(object),\n",
    "            collab_num=other_artists['kanye_num'].astype(str),\n",
    "        )\n",
    "    )\n",
    "\n",
    "TOOLS = [BoxZoomTool(), ResetTool(), HoverTool(tooltips=[(\"Artist\",\"@artist\"),])]\n",
    "\n",
    "p3 = figure(plot_width=600, plot_height=500, tools=TOOLS)\n",
    "p3.xaxis.axis_label = \"Solo Popularity\"\n",
    "p3.yaxis.axis_label = \"Popularity with Kanye West\"\n",
    "p3.circle('x', 'y', size=7,fill_alpha=0.4, color=\"black\", source=source)\n",
    "\n",
    "other_artists_vals=other_artists.loc[np.where((other_artists['kanye_num']!=0) & \\\n",
    "                                              (np.isnan(other_artists['kanye_num'])==False))[0]]\n",
    "slope, intercept, r_value, p_value, std_err = stats.linregress(other_artists_vals['solo_pop'],\\\n",
    "                                                               other_artists_vals['kanye_pop'])\n",
    "xvalue=np.arange(0, 50, dtype=np.float)\n",
    "yvalue=slope*xvalue+intercept\n",
    "\n",
    "p3.line(xvalue, yvalue, line_dash=\"4 4\", line_width=2, color='red', legend=\"Linear Regression\")\n",
    "p3.line([19,50], [19,50], line_dash=\"2 2\", line_width=2, color='black', legend=\"One-to-One\")\n",
    "\n",
    "output_notebook()\n",
    "\n",
    "#show(p3)"
   ]
  },
  {
   "cell_type": "code",
   "execution_count": 83,
   "metadata": {
    "collapsed": false
   },
   "outputs": [
    {
     "name": "stdout",
     "output_type": "stream",
     "text": [
      "\n",
      "<div class=\"plotdiv\" id=\"a7e52421-4655-4916-bec6-6adff405ad17\"></div>\n"
     ]
    }
   ],
   "source": [
    "from bokeh.embed import components\n",
    "script, div = components(p3)\n",
    "\n",
    "print div\n",
    "\n",
    "f=open('p8.js', 'w')\n",
    "f.write(script)\n",
    "f.close()"
   ]
  },
  {
   "cell_type": "code",
   "execution_count": 87,
   "metadata": {
    "collapsed": false
   },
   "outputs": [
    {
     "data": {
      "text/plain": [
       "-9.0250975463454477"
      ]
     },
     "execution_count": 87,
     "metadata": {},
     "output_type": "execute_result"
    }
   ],
   "source": [
    "np.mean(other_artists['solo_pop']-other_artists['kanye_pop'])"
   ]
  },
  {
   "cell_type": "code",
   "execution_count": null,
   "metadata": {
    "collapsed": true
   },
   "outputs": [],
   "source": []
  }
 ],
 "metadata": {
  "kernelspec": {
   "display_name": "Python 2",
   "language": "python",
   "name": "python2"
  },
  "language_info": {
   "codemirror_mode": {
    "name": "ipython",
    "version": 2
   },
   "file_extension": ".py",
   "mimetype": "text/x-python",
   "name": "python",
   "nbconvert_exporter": "python",
   "pygments_lexer": "ipython2",
   "version": "2.7.6"
  },
  "widgets": {
   "state": {},
   "version": "1.1.1"
  }
 },
 "nbformat": 4,
 "nbformat_minor": 0
}
